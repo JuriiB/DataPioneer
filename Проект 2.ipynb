{
 "cells": [
  {
   "cell_type": "markdown",
   "id": "77609d8b",
   "metadata": {},
   "source": [
    "**Краткое описание задачи**\n",
    "\n",
    "Анализ сервиса аренды самокатов GoFast\n",
    "Вы аналитик популярного сервиса аренды самокатов GoFast. Необходимо проанализируйте данные и проверить некоторые гипотезы (представлены нижев в самом проекте), которые могут помочь бизнесу вырасти.\n",
    "\n",
    "Чтобы совершать поездки по городу, пользователи сервиса GoFast пользуются мобильным приложением. Сервисом можно пользоваться:\n",
    "\n",
    "*без подписки:* \n",
    "\n",
    "абонентская плата отсутствует;\n",
    "стоимость одной минуты поездки — 8 рублей;\n",
    "стоимость старта (начала поездки) — 50 рублей;\n",
    "\n",
    "*с подпиской Ultra:*\n",
    "\n",
    "абонентская плата — 199 рублей в месяц;\n",
    "стоимость одной минуты поездки — 6 рублей;\n",
    "стоимость старта — бесплатно.\n",
    "\n",
    "**Описание данных**\n",
    "\n",
    "***Пользователи — users_go.csv***\n",
    "user_id — уникальный идентификатор пользователя\n",
    "name — имя пользователя\n",
    "age — возраст\n",
    "city — город\n",
    "subscription_type — тип подписки (free, ultra)\n",
    "\n",
    "***Поeздки — rides_go.csv***\n",
    "user_id — уникальный идентификатор пользователя\n",
    "distance — расстояние, которое пользователь проехал в текущей сессии (в метрах)\n",
    "duration — продолжительность сессии (в минутах) — время с того момента, как пользователь нажал кнопку «Начать поездку» до момента, как он нажал кнопку «Завершить поездку»\n",
    "date — дата совершения поездки\n",
    "Подписки — subscriptions_go.csv\n",
    "\n",
    "***subscription_type — тип подписки***\n",
    "minute_price — стоимость одной минуты поездки по данной подписке\n",
    "start_ride_price — стоимость начала поездки\n",
    "subscription_fee — стоимость ежемесячного платежа"
   ]
  },
  {
   "cell_type": "code",
   "execution_count": 1,
   "id": "72576667",
   "metadata": {},
   "outputs": [],
   "source": [
    "import pandas as pd"
   ]
  },
  {
   "cell_type": "markdown",
   "id": "c42cbe00",
   "metadata": {},
   "source": [
    "#### Шаг 1. Загрузка данных"
   ]
  },
  {
   "cell_type": "code",
   "execution_count": 2,
   "id": "eff9f206",
   "metadata": {},
   "outputs": [
    {
     "data": {
      "text/html": [
       "<div>\n",
       "<style scoped>\n",
       "    .dataframe tbody tr th:only-of-type {\n",
       "        vertical-align: middle;\n",
       "    }\n",
       "\n",
       "    .dataframe tbody tr th {\n",
       "        vertical-align: top;\n",
       "    }\n",
       "\n",
       "    .dataframe thead th {\n",
       "        text-align: right;\n",
       "    }\n",
       "</style>\n",
       "<table border=\"1\" class=\"dataframe\">\n",
       "  <thead>\n",
       "    <tr style=\"text-align: right;\">\n",
       "      <th></th>\n",
       "      <th>user_id</th>\n",
       "      <th>name</th>\n",
       "      <th>age</th>\n",
       "      <th>city</th>\n",
       "      <th>subscription_type</th>\n",
       "    </tr>\n",
       "  </thead>\n",
       "  <tbody>\n",
       "    <tr>\n",
       "      <th>0</th>\n",
       "      <td>1</td>\n",
       "      <td>Кира</td>\n",
       "      <td>22</td>\n",
       "      <td>Тюмень</td>\n",
       "      <td>ultra</td>\n",
       "    </tr>\n",
       "    <tr>\n",
       "      <th>1</th>\n",
       "      <td>2</td>\n",
       "      <td>Станислав</td>\n",
       "      <td>31</td>\n",
       "      <td>Омск</td>\n",
       "      <td>ultra</td>\n",
       "    </tr>\n",
       "    <tr>\n",
       "      <th>2</th>\n",
       "      <td>3</td>\n",
       "      <td>Алексей</td>\n",
       "      <td>20</td>\n",
       "      <td>Москва</td>\n",
       "      <td>ultra</td>\n",
       "    </tr>\n",
       "    <tr>\n",
       "      <th>3</th>\n",
       "      <td>4</td>\n",
       "      <td>Константин</td>\n",
       "      <td>26</td>\n",
       "      <td>Ростов-на-Дону</td>\n",
       "      <td>ultra</td>\n",
       "    </tr>\n",
       "    <tr>\n",
       "      <th>4</th>\n",
       "      <td>5</td>\n",
       "      <td>Адель</td>\n",
       "      <td>28</td>\n",
       "      <td>Омск</td>\n",
       "      <td>ultra</td>\n",
       "    </tr>\n",
       "    <tr>\n",
       "      <th>...</th>\n",
       "      <td>...</td>\n",
       "      <td>...</td>\n",
       "      <td>...</td>\n",
       "      <td>...</td>\n",
       "      <td>...</td>\n",
       "    </tr>\n",
       "    <tr>\n",
       "      <th>1560</th>\n",
       "      <td>829</td>\n",
       "      <td>Федор</td>\n",
       "      <td>29</td>\n",
       "      <td>Пятигорск</td>\n",
       "      <td>free</td>\n",
       "    </tr>\n",
       "    <tr>\n",
       "      <th>1561</th>\n",
       "      <td>809</td>\n",
       "      <td>Юрий</td>\n",
       "      <td>26</td>\n",
       "      <td>Сочи</td>\n",
       "      <td>free</td>\n",
       "    </tr>\n",
       "    <tr>\n",
       "      <th>1562</th>\n",
       "      <td>307</td>\n",
       "      <td>Ясмина</td>\n",
       "      <td>19</td>\n",
       "      <td>Краснодар</td>\n",
       "      <td>ultra</td>\n",
       "    </tr>\n",
       "    <tr>\n",
       "      <th>1563</th>\n",
       "      <td>47</td>\n",
       "      <td>Юрий</td>\n",
       "      <td>28</td>\n",
       "      <td>Тюмень</td>\n",
       "      <td>ultra</td>\n",
       "    </tr>\n",
       "    <tr>\n",
       "      <th>1564</th>\n",
       "      <td>1045</td>\n",
       "      <td>Артемий</td>\n",
       "      <td>28</td>\n",
       "      <td>Ростов-на-Дону</td>\n",
       "      <td>free</td>\n",
       "    </tr>\n",
       "  </tbody>\n",
       "</table>\n",
       "<p>1565 rows × 5 columns</p>\n",
       "</div>"
      ],
      "text/plain": [
       "      user_id        name  age            city subscription_type\n",
       "0           1        Кира   22          Тюмень             ultra\n",
       "1           2   Станислав   31            Омск             ultra\n",
       "2           3     Алексей   20          Москва             ultra\n",
       "3           4  Константин   26  Ростов-на-Дону             ultra\n",
       "4           5       Адель   28            Омск             ultra\n",
       "...       ...         ...  ...             ...               ...\n",
       "1560      829       Федор   29       Пятигорск              free\n",
       "1561      809        Юрий   26            Сочи              free\n",
       "1562      307      Ясмина   19       Краснодар             ultra\n",
       "1563       47        Юрий   28          Тюмень             ultra\n",
       "1564     1045     Артемий   28  Ростов-на-Дону              free\n",
       "\n",
       "[1565 rows x 5 columns]"
      ]
     },
     "metadata": {},
     "output_type": "display_data"
    },
    {
     "name": "stdout",
     "output_type": "stream",
     "text": [
      "Таблица users_go: \n",
      " None \n",
      "\n",
      "\n",
      "\n"
     ]
    },
    {
     "data": {
      "text/html": [
       "<div>\n",
       "<style scoped>\n",
       "    .dataframe tbody tr th:only-of-type {\n",
       "        vertical-align: middle;\n",
       "    }\n",
       "\n",
       "    .dataframe tbody tr th {\n",
       "        vertical-align: top;\n",
       "    }\n",
       "\n",
       "    .dataframe thead th {\n",
       "        text-align: right;\n",
       "    }\n",
       "</style>\n",
       "<table border=\"1\" class=\"dataframe\">\n",
       "  <thead>\n",
       "    <tr style=\"text-align: right;\">\n",
       "      <th></th>\n",
       "      <th>user_id</th>\n",
       "      <th>distance</th>\n",
       "      <th>duration</th>\n",
       "      <th>date</th>\n",
       "    </tr>\n",
       "  </thead>\n",
       "  <tbody>\n",
       "    <tr>\n",
       "      <th>0</th>\n",
       "      <td>1</td>\n",
       "      <td>4409.919140</td>\n",
       "      <td>25.599769</td>\n",
       "      <td>2021-01-01</td>\n",
       "    </tr>\n",
       "    <tr>\n",
       "      <th>1</th>\n",
       "      <td>1</td>\n",
       "      <td>2617.592153</td>\n",
       "      <td>15.816871</td>\n",
       "      <td>2021-01-18</td>\n",
       "    </tr>\n",
       "    <tr>\n",
       "      <th>2</th>\n",
       "      <td>1</td>\n",
       "      <td>754.159807</td>\n",
       "      <td>6.232113</td>\n",
       "      <td>2021-04-20</td>\n",
       "    </tr>\n",
       "    <tr>\n",
       "      <th>3</th>\n",
       "      <td>1</td>\n",
       "      <td>2694.783254</td>\n",
       "      <td>18.511000</td>\n",
       "      <td>2021-08-11</td>\n",
       "    </tr>\n",
       "    <tr>\n",
       "      <th>4</th>\n",
       "      <td>1</td>\n",
       "      <td>4028.687306</td>\n",
       "      <td>26.265803</td>\n",
       "      <td>2021-08-28</td>\n",
       "    </tr>\n",
       "    <tr>\n",
       "      <th>...</th>\n",
       "      <td>...</td>\n",
       "      <td>...</td>\n",
       "      <td>...</td>\n",
       "      <td>...</td>\n",
       "    </tr>\n",
       "    <tr>\n",
       "      <th>18063</th>\n",
       "      <td>1534</td>\n",
       "      <td>3781.098080</td>\n",
       "      <td>19.822962</td>\n",
       "      <td>2021-11-04</td>\n",
       "    </tr>\n",
       "    <tr>\n",
       "      <th>18064</th>\n",
       "      <td>1534</td>\n",
       "      <td>2840.423057</td>\n",
       "      <td>21.409799</td>\n",
       "      <td>2021-11-16</td>\n",
       "    </tr>\n",
       "    <tr>\n",
       "      <th>18065</th>\n",
       "      <td>1534</td>\n",
       "      <td>3826.185507</td>\n",
       "      <td>18.435051</td>\n",
       "      <td>2021-11-18</td>\n",
       "    </tr>\n",
       "    <tr>\n",
       "      <th>18066</th>\n",
       "      <td>1534</td>\n",
       "      <td>2902.308661</td>\n",
       "      <td>16.674362</td>\n",
       "      <td>2021-11-27</td>\n",
       "    </tr>\n",
       "    <tr>\n",
       "      <th>18067</th>\n",
       "      <td>1534</td>\n",
       "      <td>2371.711192</td>\n",
       "      <td>15.893917</td>\n",
       "      <td>2021-12-29</td>\n",
       "    </tr>\n",
       "  </tbody>\n",
       "</table>\n",
       "<p>18068 rows × 4 columns</p>\n",
       "</div>"
      ],
      "text/plain": [
       "       user_id     distance   duration        date\n",
       "0            1  4409.919140  25.599769  2021-01-01\n",
       "1            1  2617.592153  15.816871  2021-01-18\n",
       "2            1   754.159807   6.232113  2021-04-20\n",
       "3            1  2694.783254  18.511000  2021-08-11\n",
       "4            1  4028.687306  26.265803  2021-08-28\n",
       "...        ...          ...        ...         ...\n",
       "18063     1534  3781.098080  19.822962  2021-11-04\n",
       "18064     1534  2840.423057  21.409799  2021-11-16\n",
       "18065     1534  3826.185507  18.435051  2021-11-18\n",
       "18066     1534  2902.308661  16.674362  2021-11-27\n",
       "18067     1534  2371.711192  15.893917  2021-12-29\n",
       "\n",
       "[18068 rows x 4 columns]"
      ]
     },
     "metadata": {},
     "output_type": "display_data"
    },
    {
     "name": "stdout",
     "output_type": "stream",
     "text": [
      "Таблица rides_go: \n",
      " None \n",
      "\n",
      "\n",
      "\n"
     ]
    },
    {
     "data": {
      "text/html": [
       "<div>\n",
       "<style scoped>\n",
       "    .dataframe tbody tr th:only-of-type {\n",
       "        vertical-align: middle;\n",
       "    }\n",
       "\n",
       "    .dataframe tbody tr th {\n",
       "        vertical-align: top;\n",
       "    }\n",
       "\n",
       "    .dataframe thead th {\n",
       "        text-align: right;\n",
       "    }\n",
       "</style>\n",
       "<table border=\"1\" class=\"dataframe\">\n",
       "  <thead>\n",
       "    <tr style=\"text-align: right;\">\n",
       "      <th></th>\n",
       "      <th>subscription_type</th>\n",
       "      <th>minute_price</th>\n",
       "      <th>start_ride_price</th>\n",
       "      <th>subscription_fee</th>\n",
       "    </tr>\n",
       "  </thead>\n",
       "  <tbody>\n",
       "    <tr>\n",
       "      <th>0</th>\n",
       "      <td>free</td>\n",
       "      <td>8</td>\n",
       "      <td>50</td>\n",
       "      <td>0</td>\n",
       "    </tr>\n",
       "    <tr>\n",
       "      <th>1</th>\n",
       "      <td>ultra</td>\n",
       "      <td>6</td>\n",
       "      <td>0</td>\n",
       "      <td>199</td>\n",
       "    </tr>\n",
       "  </tbody>\n",
       "</table>\n",
       "</div>"
      ],
      "text/plain": [
       "  subscription_type  minute_price  start_ride_price  subscription_fee\n",
       "0              free             8                50                 0\n",
       "1             ultra             6                 0               199"
      ]
     },
     "metadata": {},
     "output_type": "display_data"
    },
    {
     "name": "stdout",
     "output_type": "stream",
     "text": [
      "Таблица subscriptions_go: \n",
      " None\n"
     ]
    }
   ],
   "source": [
    "#1.1 Считайте CSV-файлы с данными с помощью библиотеки pandas и сохраните их в датафреймы\n",
    "users_go = pd.read_csv('/datasets/users_go.csv')\n",
    "rides_go = pd.read_csv('/datasets/rides_go.csv')\n",
    "subscriptions_go = pd.read_csv('/datasets/subscriptions_go.csv')\n",
    "#1.2 Выведите первые строки каждого набора данных. Изучите общую информацию о каждом датафрейме.\n",
    "print('Таблица users_go: \\n', display(users_go), '\\n\\n\\n')\n",
    "print('Таблица rides_go: \\n', display(rides_go), '\\n\\n\\n')\n",
    "print('Таблица subscriptions_go: \\n', display(subscriptions_go))"
   ]
  },
  {
   "cell_type": "markdown",
   "id": "3795d1fd",
   "metadata": {},
   "source": [
    "**Общий вывод по пункту 1**\n",
    "\n",
    "Считаны CSV-файлы с данными с помощью библиотеки pandas и сохраните их в датафреймы\n",
    "Выведены первые строки каждого набора данных. Изучена общаю информацию о каждом датафрейме\n",
    "Данных достаточно, можно приступать к предобработке"
   ]
  },
  {
   "cell_type": "markdown",
   "id": "e95ebca7",
   "metadata": {},
   "source": [
    "#### Шаг 2. Предобработка данных"
   ]
  },
  {
   "cell_type": "code",
   "execution_count": 3,
   "id": "af6d202c",
   "metadata": {},
   "outputs": [
    {
     "name": "stdout",
     "output_type": "stream",
     "text": [
      "<class 'pandas.core.frame.DataFrame'>\n",
      "RangeIndex: 1565 entries, 0 to 1564\n",
      "Data columns (total 5 columns):\n",
      " #   Column             Non-Null Count  Dtype \n",
      "---  ------             --------------  ----- \n",
      " 0   user_id            1565 non-null   int64 \n",
      " 1   name               1565 non-null   object\n",
      " 2   age                1565 non-null   int64 \n",
      " 3   city               1565 non-null   object\n",
      " 4   subscription_type  1565 non-null   object\n",
      "dtypes: int64(2), object(3)\n",
      "memory usage: 61.3+ KB\n",
      "None\n",
      "------------------\n",
      "<class 'pandas.core.frame.DataFrame'>\n",
      "RangeIndex: 18068 entries, 0 to 18067\n",
      "Data columns (total 4 columns):\n",
      " #   Column    Non-Null Count  Dtype  \n",
      "---  ------    --------------  -----  \n",
      " 0   user_id   18068 non-null  int64  \n",
      " 1   distance  18068 non-null  float64\n",
      " 2   duration  18068 non-null  float64\n",
      " 3   date      18068 non-null  object \n",
      "dtypes: float64(2), int64(1), object(1)\n",
      "memory usage: 564.8+ KB\n",
      "None\n",
      "------------------\n",
      "<class 'pandas.core.frame.DataFrame'>\n",
      "RangeIndex: 2 entries, 0 to 1\n",
      "Data columns (total 4 columns):\n",
      " #   Column             Non-Null Count  Dtype \n",
      "---  ------             --------------  ----- \n",
      " 0   subscription_type  2 non-null      object\n",
      " 1   minute_price       2 non-null      int64 \n",
      " 2   start_ride_price   2 non-null      int64 \n",
      " 3   subscription_fee   2 non-null      int64 \n",
      "dtypes: int64(3), object(1)\n",
      "memory usage: 192.0+ bytes\n",
      "None\n",
      "------------------\n",
      "Количество дублей в таблице users_go -  0 \n",
      "\n",
      "Количество дублей в таблице rides_go -  0 \n",
      "\n",
      "Количество пустых значений в таблице users_go:\n",
      " user_id              0\n",
      "name                 0\n",
      "age                  0\n",
      "city                 0\n",
      "subscription_type    0\n",
      "dtype: int64 \n",
      "\n",
      "Количество пустых значений в таблице rides_go: \n",
      " user_id     0\n",
      "distance    0\n",
      "duration    0\n",
      "date        0\n",
      "month       0\n",
      "dtype: int64\n"
     ]
    }
   ],
   "source": [
    "#Общая информация о каждом датафрейме\n",
    "print(users_go.info())\n",
    "print ('------------------')\n",
    "print(rides_go.info())\n",
    "print ('------------------')\n",
    "print(subscriptions_go.info())\n",
    "print ('------------------')\n",
    "#2.1 Приведите столбец date к типу даты pandas\n",
    "rides_go['date'] = pd.to_datetime(rides_go['date'], format='%Y-%m-%d')\n",
    "\n",
    "#2.2 Создайте новый столбец с номером месяца на основе столбца date.\n",
    "rides_go['month'] = rides_go['date'].dt.month\n",
    "\n",
    "#2.3 Проверьте наличие пропущенных значений и дубликатов в датафреймах. Обработайте их, если такие значения присутствуют.\n",
    "#users_go.duplicated().sum()\n",
    "users_go.drop_duplicates(inplace=True)\n",
    "print ('Количество дублей в таблице users_go - ', users_go.duplicated().sum(), '\\n')\n",
    "print ('Количество дублей в таблице rides_go - ', rides_go.duplicated().sum(), '\\n')\n",
    "#Для таблицы subscriptions_go не требуется, т.к. всего 2 строки с типом подписки \n",
    "print ('Количество пустых значений в таблице users_go:\\n', users_go.isnull().sum(), '\\n')\n",
    "print ('Количество пустых значений в таблице rides_go: \\n', rides_go.isnull().sum())"
   ]
  },
  {
   "cell_type": "markdown",
   "id": "259f3e8b",
   "metadata": {},
   "source": [
    "**Выводы**\n",
    "- в таблицах отсутствуют явные пропуски \n",
    "- только в таблице users_go есть явные дубликаты (31), но их количество незанчительно \n",
    "- все наименования столбцов соответствуют \"Хорошему стилю\" \n",
    "***На основании полученного описания, можно сделать вывод, что даннхы достаточно для проведения исследования*** "
   ]
  },
  {
   "cell_type": "markdown",
   "id": "212593c7",
   "metadata": {},
   "source": [
    "#### Шаг 3. Исследовательский анализ данных"
   ]
  },
  {
   "cell_type": "code",
   "execution_count": 4,
   "id": "e3a4274c",
   "metadata": {},
   "outputs": [
    {
     "name": "stdout",
     "output_type": "stream",
     "text": [
      "           user_id          age\n",
      "count  1534.000000  1534.000000\n",
      "mean    767.500000    24.903520\n",
      "std     442.971971     4.572367\n",
      "min       1.000000    12.000000\n",
      "25%     384.250000    22.000000\n",
      "50%     767.500000    25.000000\n",
      "75%    1150.750000    28.000000\n",
      "max    1534.000000    43.000000\n"
     ]
    },
    {
     "data": {
      "image/png": "[encoded data removed]",
      "text/plain": [
       "<Figure size 1080x360 with 1 Axes>"
      ]
     },
     "metadata": {
      "needs_background": "light"
     },
     "output_type": "display_data"
    },
    {
     "name": "stdout",
     "output_type": "stream",
     "text": [
      "Количество пользователей по каждому городу \n",
      "                 user_id\n",
      "city                   \n",
      "Пятигорск           219\n",
      "Екатеринбург        204\n",
      "Ростов-на-Дону      198\n",
      "Краснодар           193\n",
      "Сочи                189\n",
      "Омск                183\n",
      "Тюмень              180\n",
      "Москва              168\n"
     ]
    }
   ],
   "source": [
    "#Опишите и визуализируйте общую информацию о пользователях и поездках:\n",
    "import matplotlib.pyplot as plt\n",
    "print (users_go.describe())\n",
    "#3.1 частота встречаемости городов\n",
    "(\n",
    "    users_go.pivot_table(index='city', values='user_id', aggfunc='count').sort_values(by='user_id', ascending=True)\n",
    "    .plot(kind='barh', figsize=(15, 5))\n",
    ")\n",
    "plt.title('Количество пользователей по каждому городу')\n",
    "plt.xlabel('Количество пользователей')\n",
    "plt.show()\n",
    "print ('Количество пользователей по каждому городу \\n', users_go.pivot_table(index='city', values='user_id', aggfunc='count').sort_values(by='user_id', ascending=False))\n"
   ]
  },
  {
   "cell_type": "markdown",
   "id": "68d748cd",
   "metadata": {},
   "source": [
    "**Вывод по пункту 3.1**\n",
    "    - показана и визуализирована информация по количеству пользователей в городах \n",
    "    - в основном больше пользователей в южных городах, исключение г. Екатеринбург "
   ]
  },
  {
   "cell_type": "code",
   "execution_count": 5,
   "id": "e15146d5",
   "metadata": {
    "scrolled": true
   },
   "outputs": [
    {
     "data": {
      "image/png": "[encoded data removed]",
      "text/plain": [
       "<Figure size 1080x720 with 1 Axes>"
      ]
     },
     "metadata": {},
     "output_type": "display_data"
    }
   ],
   "source": [
    "#3.2 соотношение пользователей с подпиской и без подписки\n",
    "(\n",
    "    users_go.pivot_table(index='subscription_type', values='user_id', aggfunc='count')\n",
    "    .plot.pie(y='user_id', figsize=(15 ,10),  label='Количество пользователей', \n",
    "    autopct='%1.1f%%', startangle=45,\n",
    "    title='Соотношение пользователей с подпиской и без')\n",
    "\n",
    ")\n",
    "plt.show()"
   ]
  },
  {
   "cell_type": "markdown",
   "id": "e9ae1f34",
   "metadata": {},
   "source": [
    "**Вывод по пункту 3.2:**\n",
    "- Пользователей с подпиской - 45.6%\n",
    "- Пользователей без подписки - 54.4%"
   ]
  },
  {
   "cell_type": "code",
   "execution_count": 6,
   "id": "ef8f5f7d",
   "metadata": {
    "scrolled": true
   },
   "outputs": [
    {
     "data": {
      "image/png": "[encoded data removed]",
      "text/plain": [
       "<Figure size 1080x360 with 1 Axes>"
      ]
     },
     "metadata": {
      "needs_background": "light"
     },
     "output_type": "display_data"
    },
    {
     "name": "stdout",
     "output_type": "stream",
     "text": [
      "Соотношения возраста и количества пользователей: \n",
      "      user_id\n",
      "age         \n",
      "12         4\n",
      "13         8\n",
      "14         9\n",
      "15        13\n",
      "16        19\n",
      "17        26\n",
      "18        46\n",
      "19        47\n",
      "20        71\n",
      "21        93\n",
      "22       119\n",
      "23       129\n",
      "24       132\n",
      "25       145\n",
      "26       131\n",
      "27       119\n",
      "28       112\n",
      "29        68\n",
      "30        68\n",
      "31        48\n",
      "32        41\n",
      "33        39\n",
      "34        19\n",
      "35        15\n",
      "36         6\n",
      "37         2\n",
      "38         3\n",
      "39         1\n",
      "43         1\n"
     ]
    },
    {
     "data": {
      "text/plain": [
       "count    1534.000000\n",
       "mean       24.903520\n",
       "std         4.572367\n",
       "min        12.000000\n",
       "25%        22.000000\n",
       "50%        25.000000\n",
       "75%        28.000000\n",
       "max        43.000000\n",
       "Name: age, dtype: float64"
      ]
     },
     "execution_count": 6,
     "metadata": {},
     "output_type": "execute_result"
    }
   ],
   "source": [
    "#3.3 возраст пользователей\n",
    "(\n",
    "    users_go.pivot_table(index='age', values='user_id', aggfunc='count').sort_values(by='age', ascending=True)\n",
    "    .plot(kind='bar', figsize=(15, 5))\n",
    ")\n",
    "plt.title('Соотношения возраста и количества пользователей')\n",
    "plt.xlabel('Возраст пользователей')\n",
    "plt.ylabel('Количество')\n",
    "plt.show()\n",
    "print ('Соотношения возраста и количества пользователей: \\n', users_go.pivot_table(index='age', values='user_id', aggfunc='count').sort_values(by='age', ascending=True))\n",
    "\n",
    "users_go['age'].describe()"
   ]
  },
  {
   "cell_type": "markdown",
   "id": "2372723f",
   "metadata": {},
   "source": [
    "**Вывод по пункту 3.3** \n",
    "- мы получили результат, что в основном это пользователи от 22 до 28 лет, наибольшее число пользователей возрастом 25 лет  "
   ]
  },
  {
   "cell_type": "code",
   "execution_count": 7,
   "id": "a4dedac7",
   "metadata": {},
   "outputs": [
    {
     "name": "stdout",
     "output_type": "stream",
     "text": [
      "            user_id      distance      duration         month\n",
      "count  18068.000000  18068.000000  18068.000000  18068.000000\n",
      "mean     842.869936   3070.659976     17.805011      6.486772\n",
      "std      434.734317   1116.831209      6.091051      3.437410\n",
      "min        1.000000      0.855683      0.500000      1.000000\n",
      "25%      487.000000   2543.226360     13.597563      4.000000\n",
      "50%      889.000000   3133.609994     17.678395      6.000000\n",
      "75%     1213.250000   3776.222735     21.724800      9.000000\n",
      "max     1534.000000   7211.007745     40.823963     12.000000 \n",
      "\n",
      "Информация по дистанции \n",
      " count    18068.000000\n",
      "mean      3070.659976\n",
      "std       1116.831209\n",
      "min          0.855683\n",
      "25%       2543.226360\n",
      "50%       3133.609994\n",
      "75%       3776.222735\n",
      "max       7211.007745\n",
      "Name: distance, dtype: float64\n"
     ]
    },
    {
     "data": {
      "image/png": "[encoded data removed]",
      "text/plain": [
       "<Figure size 432x288 with 1 Axes>"
      ]
     },
     "metadata": {
      "needs_background": "light"
     },
     "output_type": "display_data"
    }
   ],
   "source": [
    "#3.4 расстояние, которое пользователь преодолел за одну поездку;\n",
    "print (rides_go.describe(), '\\n')\n",
    "plt.hist(rides_go['distance'], bins=200, range=(1,6000))\n",
    "print ('Информация по дистанции \\n', rides_go['distance'].describe())"
   ]
  },
  {
   "cell_type": "markdown",
   "id": "7c5595de",
   "metadata": {},
   "source": [
    "***Выводы по пункту 3.4**\n",
    "В основном пользователи проезжают от 2543.226360 м. (1-й квартиль) до 3776.222735 м. (3-й квартиль), со средним значением 3133.609994 м. (медиана). \n",
    "Также стоит заметить, что есть небольшой всплеск, когда полдьзователи проезжали от 600 до 800 метров \n"
   ]
  },
  {
   "cell_type": "code",
   "execution_count": 8,
   "id": "84964ecb",
   "metadata": {
    "scrolled": true
   },
   "outputs": [
    {
     "name": "stdout",
     "output_type": "stream",
     "text": [
      "count    18068.000000\n",
      "mean        17.805011\n",
      "std          6.091051\n",
      "min          0.500000\n",
      "25%         13.597563\n",
      "50%         17.678395\n",
      "75%         21.724800\n",
      "max         40.823963\n",
      "Name: duration, dtype: float64\n"
     ]
    },
    {
     "data": {
      "text/plain": [
       "(array([  33.,  150.,  328.,  564., 1107., 1665., 2071., 2214., 2388.,\n",
       "        2241., 1773., 1245.,  895.,  559.,  361.,  233.,  118.,   21.,\n",
       "           4.,    3.]),\n",
       " array([ 1.,  3.,  5.,  7.,  9., 11., 13., 15., 17., 19., 21., 23., 25.,\n",
       "        27., 29., 31., 33., 35., 37., 39., 41.]),\n",
       " <BarContainer object of 20 artists>)"
      ]
     },
     "execution_count": 8,
     "metadata": {},
     "output_type": "execute_result"
    },
    {
     "data": {
      "image/png": "[encoded data removed]",
      "text/plain": [
       "<Figure size 432x288 with 1 Axes>"
      ]
     },
     "metadata": {
      "needs_background": "light"
     },
     "output_type": "display_data"
    }
   ],
   "source": [
    "#3.5 продолжительность поездок\n",
    "print (rides_go['duration'].describe())\n",
    "plt.hist(rides_go['duration'], bins=20, range=(1,41))"
   ]
  },
  {
   "cell_type": "markdown",
   "id": "4ead5f4b",
   "metadata": {},
   "source": [
    "***Выводы по пункту 3.5***\n",
    "В основном пользователи едут от 13 минут (1-й квартиль) до 21 минуты (3-й квартиль), со средним значением 18 минут (медиана)."
   ]
  },
  {
   "cell_type": "markdown",
   "id": "652d8acf",
   "metadata": {},
   "source": [
    "**Общие выводы по пункту 3**\n",
    "- Показана и визуализирована информация по количеству пользователей в городах (в основном больше пользователей в южных городах, исключение г. Екатеринбург) \n",
    "- Соотношение пользователей с подпиской и без - 45.6% / 54.4%\n",
    "- В основном пользователи от 18 до 33 лет, наибольшее число пользователей возрастом 25 лет \n",
    "- В основном пользователи проезжают от 2543.226360 м. (1-й квартиль) до 3776.222735 м. (3-й квартиль), со средним значением 3133.609994 м. (медиана). Также стоит заметить, что есть небольшой всплеск, когда полдьзователи проезжали от 600 до 800 метров \n",
    "- В основном пользователи едут от 13 минут (1-й квартиль) до 21 минуты (3-й квартиль), со средним значением 18 минут (медиана).\n",
    "\n"
   ]
  },
  {
   "cell_type": "markdown",
   "id": "4ef51331",
   "metadata": {},
   "source": [
    "#### Шаг 4. Объединение данных"
   ]
  },
  {
   "cell_type": "code",
   "execution_count": 9,
   "id": "6bf288b5",
   "metadata": {
    "scrolled": true
   },
   "outputs": [
    {
     "data": {
      "text/html": [
       "<div>\n",
       "<style scoped>\n",
       "    .dataframe tbody tr th:only-of-type {\n",
       "        vertical-align: middle;\n",
       "    }\n",
       "\n",
       "    .dataframe tbody tr th {\n",
       "        vertical-align: top;\n",
       "    }\n",
       "\n",
       "    .dataframe thead th {\n",
       "        text-align: right;\n",
       "    }\n",
       "</style>\n",
       "<table border=\"1\" class=\"dataframe\">\n",
       "  <thead>\n",
       "    <tr style=\"text-align: right;\">\n",
       "      <th></th>\n",
       "      <th>user_id</th>\n",
       "      <th>name</th>\n",
       "      <th>age</th>\n",
       "      <th>city</th>\n",
       "      <th>subscription_type</th>\n",
       "      <th>distance</th>\n",
       "      <th>duration</th>\n",
       "      <th>date</th>\n",
       "      <th>month</th>\n",
       "      <th>minute_price</th>\n",
       "      <th>start_ride_price</th>\n",
       "      <th>subscription_fee</th>\n",
       "    </tr>\n",
       "  </thead>\n",
       "  <tbody>\n",
       "    <tr>\n",
       "      <th>0</th>\n",
       "      <td>1</td>\n",
       "      <td>Кира</td>\n",
       "      <td>22</td>\n",
       "      <td>Тюмень</td>\n",
       "      <td>ultra</td>\n",
       "      <td>4409.919140</td>\n",
       "      <td>25.599769</td>\n",
       "      <td>2021-01-01</td>\n",
       "      <td>1</td>\n",
       "      <td>6</td>\n",
       "      <td>0</td>\n",
       "      <td>199</td>\n",
       "    </tr>\n",
       "    <tr>\n",
       "      <th>1</th>\n",
       "      <td>1</td>\n",
       "      <td>Кира</td>\n",
       "      <td>22</td>\n",
       "      <td>Тюмень</td>\n",
       "      <td>ultra</td>\n",
       "      <td>2617.592153</td>\n",
       "      <td>15.816871</td>\n",
       "      <td>2021-01-18</td>\n",
       "      <td>1</td>\n",
       "      <td>6</td>\n",
       "      <td>0</td>\n",
       "      <td>199</td>\n",
       "    </tr>\n",
       "    <tr>\n",
       "      <th>2</th>\n",
       "      <td>1</td>\n",
       "      <td>Кира</td>\n",
       "      <td>22</td>\n",
       "      <td>Тюмень</td>\n",
       "      <td>ultra</td>\n",
       "      <td>754.159807</td>\n",
       "      <td>6.232113</td>\n",
       "      <td>2021-04-20</td>\n",
       "      <td>4</td>\n",
       "      <td>6</td>\n",
       "      <td>0</td>\n",
       "      <td>199</td>\n",
       "    </tr>\n",
       "    <tr>\n",
       "      <th>3</th>\n",
       "      <td>1</td>\n",
       "      <td>Кира</td>\n",
       "      <td>22</td>\n",
       "      <td>Тюмень</td>\n",
       "      <td>ultra</td>\n",
       "      <td>2694.783254</td>\n",
       "      <td>18.511000</td>\n",
       "      <td>2021-08-11</td>\n",
       "      <td>8</td>\n",
       "      <td>6</td>\n",
       "      <td>0</td>\n",
       "      <td>199</td>\n",
       "    </tr>\n",
       "    <tr>\n",
       "      <th>4</th>\n",
       "      <td>1</td>\n",
       "      <td>Кира</td>\n",
       "      <td>22</td>\n",
       "      <td>Тюмень</td>\n",
       "      <td>ultra</td>\n",
       "      <td>4028.687306</td>\n",
       "      <td>26.265803</td>\n",
       "      <td>2021-08-28</td>\n",
       "      <td>8</td>\n",
       "      <td>6</td>\n",
       "      <td>0</td>\n",
       "      <td>199</td>\n",
       "    </tr>\n",
       "  </tbody>\n",
       "</table>\n",
       "</div>"
      ],
      "text/plain": [
       "   user_id  name  age    city subscription_type     distance   duration  \\\n",
       "0        1  Кира   22  Тюмень             ultra  4409.919140  25.599769   \n",
       "1        1  Кира   22  Тюмень             ultra  2617.592153  15.816871   \n",
       "2        1  Кира   22  Тюмень             ultra   754.159807   6.232113   \n",
       "3        1  Кира   22  Тюмень             ultra  2694.783254  18.511000   \n",
       "4        1  Кира   22  Тюмень             ultra  4028.687306  26.265803   \n",
       "\n",
       "        date  month  minute_price  start_ride_price  subscription_fee  \n",
       "0 2021-01-01      1             6                 0               199  \n",
       "1 2021-01-18      1             6                 0               199  \n",
       "2 2021-04-20      4             6                 0               199  \n",
       "3 2021-08-11      8             6                 0               199  \n",
       "4 2021-08-28      8             6                 0               199  "
      ]
     },
     "execution_count": 9,
     "metadata": {},
     "output_type": "execute_result"
    }
   ],
   "source": [
    "#4.1 Объедините данные о пользователях, поездках и подписках в один датафрейм. Для этого воспользуйтесь методом merge()\n",
    "data = users_go.merge(rides_go)\n",
    "data = data.merge(subscriptions_go)\n",
    "data.head()"
   ]
  },
  {
   "cell_type": "code",
   "execution_count": 10,
   "id": "4458db17",
   "metadata": {},
   "outputs": [
    {
     "name": "stdout",
     "output_type": "stream",
     "text": [
      "       user_id     name  age       city subscription_type     distance  \\\n",
      "6500       700    Айдар   22       Омск              free  2515.690719   \n",
      "6501       700    Айдар   22       Омск              free   846.932642   \n",
      "6502       700    Айдар   22       Омск              free  4004.434142   \n",
      "6503       700    Айдар   22       Омск              free  1205.911290   \n",
      "6504       700    Айдар   22       Омск              free  3047.379435   \n",
      "...        ...      ...  ...        ...               ...          ...   \n",
      "18063     1534  Альберт   25  Краснодар              free  3781.098080   \n",
      "18064     1534  Альберт   25  Краснодар              free  2840.423057   \n",
      "18065     1534  Альберт   25  Краснодар              free  3826.185507   \n",
      "18066     1534  Альберт   25  Краснодар              free  2902.308661   \n",
      "18067     1534  Альберт   25  Краснодар              free  2371.711192   \n",
      "\n",
      "        duration       date  month  minute_price  start_ride_price  \\\n",
      "6500   14.944286 2021-01-02      1             8                50   \n",
      "6501   16.234663 2021-02-01      2             8                50   \n",
      "6502   20.016628 2021-02-04      2             8                50   \n",
      "6503    9.782872 2021-02-10      2             8                50   \n",
      "6504   17.427673 2021-02-14      2             8                50   \n",
      "...          ...        ...    ...           ...               ...   \n",
      "18063  19.822962 2021-11-04     11             8                50   \n",
      "18064  21.409799 2021-11-16     11             8                50   \n",
      "18065  18.435051 2021-11-18     11             8                50   \n",
      "18066  16.674362 2021-11-27     11             8                50   \n",
      "18067  15.893917 2021-12-29     12             8                50   \n",
      "\n",
      "       subscription_fee  \n",
      "6500                  0  \n",
      "6501                  0  \n",
      "6502                  0  \n",
      "6503                  0  \n",
      "6504                  0  \n",
      "...                 ...  \n",
      "18063                 0  \n",
      "18064                 0  \n",
      "18065                 0  \n",
      "18066                 0  \n",
      "18067                 0  \n",
      "\n",
      "[11568 rows x 12 columns]\n",
      "      user_id    name  age    city subscription_type     distance   duration  \\\n",
      "0           1    Кира   22  Тюмень             ultra  4409.919140  25.599769   \n",
      "1           1    Кира   22  Тюмень             ultra  2617.592153  15.816871   \n",
      "2           1    Кира   22  Тюмень             ultra   754.159807   6.232113   \n",
      "3           1    Кира   22  Тюмень             ultra  2694.783254  18.511000   \n",
      "4           1    Кира   22  Тюмень             ultra  4028.687306  26.265803   \n",
      "...       ...     ...  ...     ...               ...          ...        ...   \n",
      "6495      699  Оксана   22  Москва             ultra  3973.046497  24.671163   \n",
      "6496      699  Оксана   22  Москва             ultra  3288.702563  15.892886   \n",
      "6497      699  Оксана   22  Москва             ultra  3076.159348  14.389525   \n",
      "6498      699  Оксана   22  Москва             ultra  4707.845501  15.839579   \n",
      "6499      699  Оксана   22  Москва             ultra  3202.890770  25.217345   \n",
      "\n",
      "           date  month  minute_price  start_ride_price  subscription_fee  \n",
      "0    2021-01-01      1             6                 0               199  \n",
      "1    2021-01-18      1             6                 0               199  \n",
      "2    2021-04-20      4             6                 0               199  \n",
      "3    2021-08-11      8             6                 0               199  \n",
      "4    2021-08-28      8             6                 0               199  \n",
      "...         ...    ...           ...               ...               ...  \n",
      "6495 2021-08-29      8             6                 0               199  \n",
      "6496 2021-09-12      9             6                 0               199  \n",
      "6497 2021-09-26      9             6                 0               199  \n",
      "6498 2021-10-17     10             6                 0               199  \n",
      "6499 2021-12-03     12             6                 0               199  \n",
      "\n",
      "[6500 rows x 12 columns]\n"
     ]
    }
   ],
   "source": [
    "#4.2 Создайте ещё два датафрейма из датафрейма, созданного на этапе 4.1:\n",
    "\n",
    "#4.2.1 C данными о пользователях без подписки\n",
    "free_data = data.query(\"`subscription_type` == 'free'\")\n",
    "print (free_data)\n",
    "\n",
    "#4.2.2 C данными о пользователях с подпиской.\n",
    "ultra_data = data.query(\"`subscription_type` == 'ultra'\")\n",
    "print (ultra_data)\n"
   ]
  },
  {
   "cell_type": "code",
   "execution_count": 11,
   "id": "d1fa31cc",
   "metadata": {
    "scrolled": true
   },
   "outputs": [
    {
     "data": {
      "image/png": "[encoded data removed]",
      "text/plain": [
       "<Figure size 432x288 with 1 Axes>"
      ]
     },
     "metadata": {
      "needs_background": "light"
     },
     "output_type": "display_data"
    },
    {
     "data": {
      "text/plain": [
       "<Figure size 720x720 with 0 Axes>"
      ]
     },
     "metadata": {},
     "output_type": "display_data"
    },
    {
     "data": {
      "image/png": "[encoded data removed]",
      "text/plain": [
       "<Figure size 432x288 with 1 Axes>"
      ]
     },
     "metadata": {
      "needs_background": "light"
     },
     "output_type": "display_data"
    },
    {
     "data": {
      "text/plain": [
       "<Figure size 720x720 with 0 Axes>"
      ]
     },
     "metadata": {},
     "output_type": "display_data"
    }
   ],
   "source": [
    "#4.3 Визуализируйте информацию о расстоянии и времени поездок для пользователей обеих категорий\n",
    "\n",
    "#4.3.1. Платная подписка\n",
    "\n",
    "#Расстояние \n",
    "plt.hist(ultra_data['distance'], bins=50, range = (1, 6000))\n",
    "plt.title('Информацию о расстоянии поездки')\n",
    "plt.xlabel('Расстояние')\n",
    "plt.ylabel('Кол-во поездок')\n",
    "plt.figure(figsize=(10,10))\n",
    "plt.show()\n",
    "\n",
    "#Время\n",
    "plt.hist(ultra_data['duration'], bins=40, range = (0, 35))\n",
    "plt.title('Информация о времени  поездки')\n",
    "plt.xlabel('Время поездки')\n",
    "plt.ylabel('Количество поездок')\n",
    "plt.figure(figsize=(10,10))\n",
    "plt.show()"
   ]
  },
  {
   "cell_type": "code",
   "execution_count": 12,
   "id": "d1bef59b",
   "metadata": {
    "scrolled": true
   },
   "outputs": [
    {
     "data": {
      "image/png": "[encoded data removed]",
      "text/plain": [
       "<Figure size 432x288 with 1 Axes>"
      ]
     },
     "metadata": {
      "needs_background": "light"
     },
     "output_type": "display_data"
    },
    {
     "data": {
      "text/plain": [
       "<Figure size 720x720 with 0 Axes>"
      ]
     },
     "metadata": {},
     "output_type": "display_data"
    },
    {
     "data": {
      "image/png": "[encoded data removed]",
      "text/plain": [
       "<Figure size 432x288 with 1 Axes>"
      ]
     },
     "metadata": {
      "needs_background": "light"
     },
     "output_type": "display_data"
    },
    {
     "data": {
      "text/plain": [
       "<Figure size 720x720 with 0 Axes>"
      ]
     },
     "metadata": {},
     "output_type": "display_data"
    }
   ],
   "source": [
    "#4.3 Визуализируйте информацию о расстоянии и времени поездок для пользователей обеих категорий\n",
    "\n",
    "#4.3.1. Без подписки \n",
    "\n",
    "#Расстояние \n",
    "plt.hist(free_data['distance'], bins=50, range = (1, 6000))\n",
    "plt.title('Информацию о расстоянии поездки')\n",
    "plt.xlabel('Расстояние')\n",
    "plt.ylabel('Кол-во поездок')\n",
    "plt.figure(figsize=(10,10))\n",
    "plt.show()\n",
    "\n",
    "#Время\n",
    "plt.hist(free_data['duration'], bins=40, range = (0, 35))\n",
    "plt.title('Информация о времени  поездки')\n",
    "plt.xlabel('Время поездки')\n",
    "plt.ylabel('Количество поездок')\n",
    "plt.figure(figsize=(10,10))\n",
    "plt.show()"
   ]
  },
  {
   "cell_type": "markdown",
   "id": "db539b51",
   "metadata": {},
   "source": [
    "**Общие выводы по пункту 4**\n",
    "- Платный тариф - В основном время находится в промежуток от 15 до 25 минут. Пик расстояния приходится на 3км. Также стоит отметить, при присутствует небольшой всплеск на поезщдки около 1000 метров. \n",
    "- Без подписки - В основном время находится в промежуток от 10 до 25 минут.\n",
    "- Исходя из вышеизложенного, делаем вывод, что пользователи без подписки в целом совершают более долгие поездки, а также проезжают большее расстояние, чем пользователи на платном тарифе."
   ]
  },
  {
   "cell_type": "markdown",
   "id": "402d620f",
   "metadata": {},
   "source": [
    "#### Шаг 5. Подсчёт выручки"
   ]
  },
  {
   "cell_type": "code",
   "execution_count": 13,
   "id": "53049e0a",
   "metadata": {
    "scrolled": true
   },
   "outputs": [
    {
     "name": "stdout",
     "output_type": "stream",
     "text": [
      "               count     distance  duration  minute_price  start_ride_price  \\\n",
      "user_id month                                                                 \n",
      "1       1          2  7027.511294      42.0           6.0               0.0   \n",
      "        4          1   754.159807       7.0           6.0               0.0   \n",
      "        8          2  6723.470560      46.0           6.0               0.0   \n",
      "        10         2  5809.911100      32.0           6.0               0.0   \n",
      "        11         3  7003.499363      56.0           6.0               0.0   \n",
      "\n",
      "               subscription_fee  \n",
      "user_id month                    \n",
      "1       1                 199.0  \n",
      "        4                 199.0  \n",
      "        8                 199.0  \n",
      "        10                199.0  \n",
      "        11                199.0  \n"
     ]
    },
    {
     "data": {
      "text/html": [
       "<div>\n",
       "<style scoped>\n",
       "    .dataframe tbody tr th:only-of-type {\n",
       "        vertical-align: middle;\n",
       "    }\n",
       "\n",
       "    .dataframe tbody tr th {\n",
       "        vertical-align: top;\n",
       "    }\n",
       "\n",
       "    .dataframe thead th {\n",
       "        text-align: right;\n",
       "    }\n",
       "</style>\n",
       "<table border=\"1\" class=\"dataframe\">\n",
       "  <thead>\n",
       "    <tr style=\"text-align: right;\">\n",
       "      <th></th>\n",
       "      <th></th>\n",
       "      <th>count</th>\n",
       "      <th>distance</th>\n",
       "      <th>duration</th>\n",
       "      <th>minute_price</th>\n",
       "      <th>start_ride_price</th>\n",
       "      <th>subscription_fee</th>\n",
       "      <th>total</th>\n",
       "    </tr>\n",
       "    <tr>\n",
       "      <th>user_id</th>\n",
       "      <th>month</th>\n",
       "      <th></th>\n",
       "      <th></th>\n",
       "      <th></th>\n",
       "      <th></th>\n",
       "      <th></th>\n",
       "      <th></th>\n",
       "      <th></th>\n",
       "    </tr>\n",
       "  </thead>\n",
       "  <tbody>\n",
       "    <tr>\n",
       "      <th rowspan=\"6\" valign=\"top\">1</th>\n",
       "      <th>1</th>\n",
       "      <td>2</td>\n",
       "      <td>7027.511294</td>\n",
       "      <td>42.0</td>\n",
       "      <td>6.0</td>\n",
       "      <td>0.0</td>\n",
       "      <td>199.0</td>\n",
       "      <td>451.0</td>\n",
       "    </tr>\n",
       "    <tr>\n",
       "      <th>4</th>\n",
       "      <td>1</td>\n",
       "      <td>754.159807</td>\n",
       "      <td>7.0</td>\n",
       "      <td>6.0</td>\n",
       "      <td>0.0</td>\n",
       "      <td>199.0</td>\n",
       "      <td>241.0</td>\n",
       "    </tr>\n",
       "    <tr>\n",
       "      <th>8</th>\n",
       "      <td>2</td>\n",
       "      <td>6723.470560</td>\n",
       "      <td>46.0</td>\n",
       "      <td>6.0</td>\n",
       "      <td>0.0</td>\n",
       "      <td>199.0</td>\n",
       "      <td>475.0</td>\n",
       "    </tr>\n",
       "    <tr>\n",
       "      <th>10</th>\n",
       "      <td>2</td>\n",
       "      <td>5809.911100</td>\n",
       "      <td>32.0</td>\n",
       "      <td>6.0</td>\n",
       "      <td>0.0</td>\n",
       "      <td>199.0</td>\n",
       "      <td>391.0</td>\n",
       "    </tr>\n",
       "    <tr>\n",
       "      <th>11</th>\n",
       "      <td>3</td>\n",
       "      <td>7003.499363</td>\n",
       "      <td>56.0</td>\n",
       "      <td>6.0</td>\n",
       "      <td>0.0</td>\n",
       "      <td>199.0</td>\n",
       "      <td>535.0</td>\n",
       "    </tr>\n",
       "    <tr>\n",
       "      <th>12</th>\n",
       "      <td>2</td>\n",
       "      <td>6751.629942</td>\n",
       "      <td>28.0</td>\n",
       "      <td>6.0</td>\n",
       "      <td>0.0</td>\n",
       "      <td>199.0</td>\n",
       "      <td>367.0</td>\n",
       "    </tr>\n",
       "    <tr>\n",
       "      <th rowspan=\"4\" valign=\"top\">2</th>\n",
       "      <th>3</th>\n",
       "      <td>3</td>\n",
       "      <td>10187.723006</td>\n",
       "      <td>63.0</td>\n",
       "      <td>6.0</td>\n",
       "      <td>0.0</td>\n",
       "      <td>199.0</td>\n",
       "      <td>577.0</td>\n",
       "    </tr>\n",
       "    <tr>\n",
       "      <th>4</th>\n",
       "      <td>2</td>\n",
       "      <td>6164.381824</td>\n",
       "      <td>40.0</td>\n",
       "      <td>6.0</td>\n",
       "      <td>0.0</td>\n",
       "      <td>199.0</td>\n",
       "      <td>439.0</td>\n",
       "    </tr>\n",
       "    <tr>\n",
       "      <th>6</th>\n",
       "      <td>1</td>\n",
       "      <td>3255.338202</td>\n",
       "      <td>14.0</td>\n",
       "      <td>6.0</td>\n",
       "      <td>0.0</td>\n",
       "      <td>199.0</td>\n",
       "      <td>283.0</td>\n",
       "    </tr>\n",
       "    <tr>\n",
       "      <th>7</th>\n",
       "      <td>2</td>\n",
       "      <td>6780.722964</td>\n",
       "      <td>48.0</td>\n",
       "      <td>6.0</td>\n",
       "      <td>0.0</td>\n",
       "      <td>199.0</td>\n",
       "      <td>487.0</td>\n",
       "    </tr>\n",
       "  </tbody>\n",
       "</table>\n",
       "</div>"
      ],
      "text/plain": [
       "               count      distance  duration  minute_price  start_ride_price  \\\n",
       "user_id month                                                                  \n",
       "1       1          2   7027.511294      42.0           6.0               0.0   \n",
       "        4          1    754.159807       7.0           6.0               0.0   \n",
       "        8          2   6723.470560      46.0           6.0               0.0   \n",
       "        10         2   5809.911100      32.0           6.0               0.0   \n",
       "        11         3   7003.499363      56.0           6.0               0.0   \n",
       "        12         2   6751.629942      28.0           6.0               0.0   \n",
       "2       3          3  10187.723006      63.0           6.0               0.0   \n",
       "        4          2   6164.381824      40.0           6.0               0.0   \n",
       "        6          1   3255.338202      14.0           6.0               0.0   \n",
       "        7          2   6780.722964      48.0           6.0               0.0   \n",
       "\n",
       "               subscription_fee  total  \n",
       "user_id month                           \n",
       "1       1                 199.0  451.0  \n",
       "        4                 199.0  241.0  \n",
       "        8                 199.0  475.0  \n",
       "        10                199.0  391.0  \n",
       "        11                199.0  535.0  \n",
       "        12                199.0  367.0  \n",
       "2       3                 199.0  577.0  \n",
       "        4                 199.0  439.0  \n",
       "        6                 199.0  283.0  \n",
       "        7                 199.0  487.0  "
      ]
     },
     "execution_count": 13,
     "metadata": {},
     "output_type": "execute_result"
    }
   ],
   "source": [
    "import numpy as np\n",
    "\n",
    "#Продолжительность каждой поездки должна быть округлена с помощью метода «потолок» библиотеки numpy — np.ceil():\n",
    "data['duration'] = np.ceil(data['duration'])\n",
    "\n",
    "#5.1 Создайте датафрейм с агрегированными данными о поездках на основе датафрейма с объединёнными данными из шага 4: найдите суммарное расстояние, количество поездок и суммарное время для каждого пользователя за каждый месяц.\n",
    "users_data = data.pivot_table(\n",
    "    index=('user_id', 'month'), \n",
    "    values=(\n",
    "        'distance', \n",
    "        'duration', \n",
    "        'minute_price', \n",
    "        'start_ride_price', \n",
    "        'subscription_fee'\n",
    "    ), \n",
    "    aggfunc=('count', 'sum'))\n",
    "\n",
    "users_data.columns = [\n",
    "    'count', 'distance', \n",
    "    'count2', 'duration', \n",
    "    'count3', 'minute_price',\n",
    "    'count4', 'start_ride_price', \n",
    "    'count5', 'subscription_fee'\n",
    "]\n",
    "users_data = users_data.drop(['count2', 'count3', 'count4', 'count5'], axis=1)\n",
    "users_data['start_ride_price'] = users_data['start_ride_price'] / users_data['count']\n",
    "users_data['minute_price'] = users_data['minute_price'] / users_data['count']\n",
    "users_data['subscription_fee'] = users_data['subscription_fee'] / users_data['count']\n",
    "print (users_data.head())\n",
    "\n",
    "#5.2 В этот же датафрейм добавьте столбец с помесячной выручкой, которую принёс каждый пользователь.\n",
    "users_data['total'] = (\n",
    "    (users_data['start_ride_price'] * users_data['count']) \n",
    "    + (users_data['minute_price'] * users_data['duration']) \n",
    "    + users_data['subscription_fee'])\n",
    "    \n",
    "users_data.head(10)\n",
    "  "
   ]
  },
  {
   "cell_type": "markdown",
   "id": "38f13030",
   "metadata": {},
   "source": [
    "***Общий вывод по пункту 5***\n",
    "- Вывели суммарное расстояние, количество поездок и суммарное время для каждого пользователя за каждый месяц. \n",
    "- Добавили столбец с помесячной выручкой, которую принес каждый пользователь."
   ]
  },
  {
   "cell_type": "markdown",
   "id": "41545ac0",
   "metadata": {},
   "source": [
    "#### Шаг 6. Проверка гипотез"
   ]
  },
  {
   "cell_type": "code",
   "execution_count": 14,
   "id": "23ea867b",
   "metadata": {},
   "outputs": [
    {
     "name": "stdout",
     "output_type": "stream",
     "text": [
      "Тратят ли пользователи с подпиской больше времени на поездки?\n",
      "1.2804098316645618e-34\n",
      "Отвергаем нулевую гипотезу \n",
      "\n",
      "Можно ли сказать, что расстояние, которое проезжают пользователи с подпиской за одну поездку, оптимальное с точки зрения износа самоката?\n",
      "0.9195368847849785\n",
      "Не получилось отвергнуть нулевую гипотезу \n",
      "\n",
      "Будет ли помесячная выручка от пользователей с подпиской по месяцам выше, чем выручка от пользователей без подписки?\n",
      "1.8850394384715216e-31\n",
      "Отвергаем нулевую гипотезу \n",
      "\n"
     ]
    }
   ],
   "source": [
    "from scipy import stats as st\n",
    "#6.1 Важно понять, тратят ли пользователи с подпиской больше времени на поездки?\n",
    "#Фомируем гипотезу: \n",
    "#H_0: Время (duration) пользователей на подписке ultra = время (duration) пользователей на подписке free\n",
    "#H_1: Время (duration) пользователей на подписке ultra > время (duration) пользователей на подписке free\n",
    "print('Тратят ли пользователи с подпиской больше времени на поездки?')\n",
    "results = st.ttest_ind(\n",
    "    ultra_data['duration'], \n",
    "    free_data['duration'], \n",
    "    equal_var=True, \n",
    "    alternative='greater')\n",
    "print(results.pvalue)\n",
    "\n",
    "alpha = 0.05\n",
    "if results.pvalue < alpha:\n",
    "    print('Отвергаем нулевую гипотезу \\n')\n",
    "else:\n",
    "    print('Не получилось отвергнуть нулевую гипотезу \\n')\n",
    "    \n",
    "    \n",
    "#6.2 Расстояние одной поездки в 3130 метров — оптимальное с точки зрения износа самоката. Можно ли сказать, что расстояние, которое проезжают пользователи с подпиской за одну поездку, не превышает метров? Проверьте гипотезу и сделайте выводы.\n",
    "#Формируем гипотезу\n",
    "#Н_0: Среднее расстояние поездок с подпиской ultra = оптимальному расстоянию в 3130 метров\n",
    "#Н_1: Среднее расстояние поездок с подпиской ultra > оптимального в 3130 метров\n",
    "print('Можно ли сказать, что расстояние, которое проезжают пользователи с подпиской за одну поездку, оптимальное с точки зрения износа самоката?')\n",
    "optimal_distance = 3130\n",
    "alpha = 0.05\n",
    "\n",
    "results = st.ttest_1samp(\n",
    "    ultra_data['distance'], \n",
    "    optimal_distance,\n",
    "    alternative='greater')\n",
    "\n",
    "print(results.pvalue)\n",
    "\n",
    "if results.pvalue < alpha:\n",
    "    print('Отвергаем нулевую гипотезу \\n')\n",
    "else:\n",
    "    print('Не получилось отвергнуть нулевую гипотезу \\n')\n",
    "    \n",
    "    \n",
    "#6.3. Проверьте гипотезу о том, будет ли помесячная выручка от пользователей с подпиской по месяцам выше, чем выручка от пользователей без подписки. \n",
    "#Формируем гипотезу\n",
    "\n",
    "#Н_0: Помесячная средняя выручка от пользователей с подпиской = помесячной средней выручке от пользователей без подписки\n",
    "#Н_1: Помесячная средняя выручка от пользователей с подпиской > помесячной средней выручки от пользователей без подписки\n",
    "print('Будет ли помесячная выручка от пользователей с подпиской по месяцам выше, чем выручка от пользователей без подписки?')\n",
    "results = st.ttest_ind(\n",
    "    users_data.loc[users_data['subscription_fee'] > 0, 'total'], \n",
    "    users_data.loc[users_data['subscription_fee'] == 0, 'total'], \n",
    "    equal_var=True, \n",
    "    alternative='greater')\n",
    "print(results.pvalue)\n",
    "\n",
    "alpha = 0.05\n",
    "if results.pvalue < alpha:\n",
    "    print('Отвергаем нулевую гипотезу \\n')\n",
    "else:\n",
    "    print('Не получилось отвергнуть нулевую гипотезу \\n')\n",
    "    "
   ]
  },
  {
   "cell_type": "markdown",
   "id": "5ca71100",
   "metadata": {},
   "source": [
    "***6.4. Представьте такую ситуацию: техническая команда сервиса обновила сервера, с которыми взаимодействует мобильное приложение. Она надеется, что из-за этого количество обращений в техподдержку значимо снизилось. Некоторый файл содержит для каждого пользователя данные о количестве обращений до обновления и после него. Какой тест вам понадобился бы для проверки этой гипотезы?*** \n",
    "Необходимо использовать гипотезу о равенстве средних для зависимых (парных) выборок, т.к. теоретически это две зависимые выборки\n",
    "Пример, какую гипотезу можно выдвинуть x1 и x2 - средние значения количество обращений в техподдержку до и после изменения):\n",
    "H_0 : x1 = x2\n",
    "H_1 : x1 > x2\n",
    "Можно применить метод scipy.stats.ttest_rel() при сравнении"
   ]
  },
  {
   "cell_type": "markdown",
   "id": "7d57b694",
   "metadata": {},
   "source": [
    "**Общий вывод по пункту 6**\n",
    "- Можем утверждать, что средняя продолжительность поездки с подпиской больше продолжительности поездок без подписки при установленном уровне значимости в 5 % (Нулевая гипотеза отвергнута)\n",
    "- Можем утверждать, что среднее расстояние поездки, пользователей с подпиской, не превышает оптимальное расстоянием в 3130 метров, при установленном уровне значимости в 5 % (Не получилось отвергнуть нулевую гипотезу)\n",
    "- Можем утверждать, что средняя месячная выручка от пользователей с подпиской, больше средней месячной выручки от пользователей без подписки, при установленном уровне значимости в 5 % (Нулевая гипотеза отвергнута). А значит сервису необходимо развивать направление с подпиской и привлекать пользователей, кто часто пользуется, но не приобрел подписку, это сделать. \n",
    "- Необходимо использовать гипотезу о равенстве средних для зависимых (парных) выборок, т.к. теоретически это две зависимые выборки. Пример, какую гипотезу можно выдвинуть x1 и x2 - средние значения количество обращений в техподдержку до и после изменения): H_0 : x1 = x2 и H_1 : x1 > x2. Можно применить метод scipy.stats.ttest_rel() при сравнении. "
   ]
  },
  {
   "cell_type": "markdown",
   "id": "cde20dda",
   "metadata": {},
   "source": [
    "**Общий вывод по проекту**\n",
    "\n",
    "***В ходе работы с популярным сервисос аренды самокатов GoFast были проделаны сдедующие работы и представленые выводы*** \n",
    "\n",
    "****Часть 1****\n",
    "- Считаны CSV-файлы с данными с помощью библиотеки pandas и сохраните их в датафреймы\n",
    "- Выведены первые строки каждого набора данных. Изучена общаю информацию о каждом датафрейме\n",
    "\n",
    "****Часть 2****\n",
    "- Проверено и удалены дубликаты в датафрейме users_go\n",
    "- Приведен столбец date к типу даты pandas в датафрейме users_go\n",
    "- Создали столбец month с номером месяца из date в датафрейме users_go\n",
    "- В датафреймах riders_go и subscriptions_go изменений не проводилось \n",
    "\n",
    "****Часть 3****\n",
    "- Показана и визуализирована информация по количеству пользователей в городах (в основном больше пользователей в южных городах, исключение г. Екатеринбург)\n",
    "- Соотношение пользователей с подпиской и без - 45.6% / 54.4%\n",
    "- В основном пользователи от 22 до 28 лет, наибольшее число пользователей возрастом 25 лет\n",
    "- В основном пользователи проезжают от 2543 м. (1-й квартиль) до 3776 м. (3-й квартиль), со средним значением 3133 м. (медиана). Также стоит заметить, что есть небольшой всплеск, когда полдьзователи проезжали от 600 до 800 метров\n",
    "- В основном пользователи едут от 13 минут (1-й квартиль) до 21 минуты (3-й квартиль), со средним значением 18 минут (медиана).\n",
    "\n",
    "****Часть 4****\n",
    "- Платный тариф - В основном время находится в промежуток от 15 до 25 минут. Пик расстояния приходится на 3км. Также стоит отметить, при присутствует небольшой всплеск на поезщдки около 1000 метров.\n",
    "- Без подписки - В основном время находится в промежуток от 10 до 25 минут.\n",
    "- Исходя из вышеизложенного, делаем вывод, что пользователи без подписки в целом совершают более долгие поездки, а также проезжают большее расстояние, чем пользователи на платном тарифе.\n",
    "\n",
    "****Часть 5****\n",
    "- Вывели суммарное расстояние, количество поездок и суммарное время для каждого пользователя за каждый месяц.\n",
    "- Добавили столбец с помесячной выручкой, которую принес каждый пользователь.\n",
    "\n",
    "****Часть 6****\n",
    "- Можем утверждать, что средняя продолжительность поездки с подпиской больше продолжительности поездок без подписки при установленном уровне значимости в 5 %\n",
    "- Можем утверждать, что среднее расстояние поездки, пользователей с подпиской, не превышает оптимальное расстоянием в 3130 метров, при установленном уровне значимости в 5 % \n",
    "- Можем утверждать, что средняя месячная выручка от пользователей с подпиской, больше средней месячной выручки от пользователей без подписки, при установленном уровне значимости в 5 %. А значит сервису необходимо развивать направление с подпиской и привлекать пользователей, кто часто пользуется, но не приобрел подписку, это сделать. \n",
    "- Представлено возможное решении кейса, а именно то, что необходимо использовать гипотезу о равенстве средних для зависимых (парных) выборок, т.к. теоретически это две зависимые выборки. Пример, какую гипотезу можно выдвинуть x1 и x2 - средние значения количество обращений в техподдержку до и после изменения): H_0 : x1 = x2 и H_1 : x1 > x2. Можно применить метод scipy.stats.ttest_rel() при сравнении. "
   ]
  }
 ],
 "metadata": {
  "ExecuteTimeLog": [
   {
    "duration": 46,
    "start_time": "2024-07-08T18:54:02.215Z"
   },
   {
    "duration": 370,
    "start_time": "2024-07-08T18:54:19.346Z"
   },
   {
    "duration": 100,
    "start_time": "2024-07-08T18:54:19.718Z"
   },
   {
    "duration": 28,
    "start_time": "2024-07-08T18:55:02.856Z"
   },
   {
    "duration": 28,
    "start_time": "2024-07-08T18:55:19.318Z"
   },
   {
    "duration": 31,
    "start_time": "2024-07-08T18:55:26.809Z"
   },
   {
    "duration": 238,
    "start_time": "2024-07-08T18:56:28.485Z"
   },
   {
    "duration": 108,
    "start_time": "2024-07-08T18:56:58.368Z"
   },
   {
    "duration": 69,
    "start_time": "2024-07-08T18:57:13.550Z"
   },
   {
    "duration": 67,
    "start_time": "2024-07-08T18:57:58.949Z"
   },
   {
    "duration": 67,
    "start_time": "2024-07-08T18:58:04.750Z"
   },
   {
    "duration": 65,
    "start_time": "2024-07-08T18:58:11.793Z"
   },
   {
    "duration": 65,
    "start_time": "2024-07-08T18:58:24.701Z"
   },
   {
    "duration": 67,
    "start_time": "2024-07-08T18:59:26.890Z"
   },
   {
    "duration": 20,
    "start_time": "2024-07-08T19:01:19.049Z"
   },
   {
    "duration": 19,
    "start_time": "2024-07-08T19:01:55.275Z"
   },
   {
    "duration": 19,
    "start_time": "2024-07-08T19:02:13.248Z"
   },
   {
    "duration": 24,
    "start_time": "2024-07-08T19:02:28.822Z"
   },
   {
    "duration": 14,
    "start_time": "2024-07-08T19:08:52.916Z"
   },
   {
    "duration": 17,
    "start_time": "2024-07-08T19:09:04.918Z"
   },
   {
    "duration": 18,
    "start_time": "2024-07-08T19:09:21.716Z"
   },
   {
    "duration": 76,
    "start_time": "2024-07-08T19:14:43.157Z"
   },
   {
    "duration": 22,
    "start_time": "2024-07-08T19:14:50.295Z"
   },
   {
    "duration": 21,
    "start_time": "2024-07-08T19:16:19.672Z"
   },
   {
    "duration": 31,
    "start_time": "2024-07-08T19:16:49.470Z"
   },
   {
    "duration": 20,
    "start_time": "2024-07-08T19:17:06.632Z"
   },
   {
    "duration": 23,
    "start_time": "2024-07-08T19:18:14.672Z"
   },
   {
    "duration": 43,
    "start_time": "2024-07-08T19:18:28.018Z"
   },
   {
    "duration": 21,
    "start_time": "2024-07-08T19:19:07.112Z"
   },
   {
    "duration": 76,
    "start_time": "2024-07-08T19:19:12.781Z"
   },
   {
    "duration": 22,
    "start_time": "2024-07-08T19:19:16.080Z"
   },
   {
    "duration": 20,
    "start_time": "2024-07-08T19:19:25.041Z"
   },
   {
    "duration": 21,
    "start_time": "2024-07-08T19:19:28.248Z"
   },
   {
    "duration": 67,
    "start_time": "2024-07-08T19:19:48.164Z"
   },
   {
    "duration": 18,
    "start_time": "2024-07-08T19:19:54.755Z"
   },
   {
    "duration": 27,
    "start_time": "2024-07-08T19:20:07.218Z"
   },
   {
    "duration": 23,
    "start_time": "2024-07-08T19:20:19.396Z"
   },
   {
    "duration": 38,
    "start_time": "2024-07-08T19:21:42.894Z"
   },
   {
    "duration": 42,
    "start_time": "2024-07-08T19:22:09.586Z"
   },
   {
    "duration": 577,
    "start_time": "2024-07-08T19:29:17.228Z"
   },
   {
    "duration": 166,
    "start_time": "2024-07-08T19:29:58.355Z"
   },
   {
    "duration": 152,
    "start_time": "2024-07-08T19:31:04.334Z"
   },
   {
    "duration": 163,
    "start_time": "2024-07-08T19:32:13.861Z"
   },
   {
    "duration": 207,
    "start_time": "2024-07-08T19:32:47.068Z"
   },
   {
    "duration": 65,
    "start_time": "2024-07-08T19:34:14.825Z"
   },
   {
    "duration": 66,
    "start_time": "2024-07-08T19:34:37.328Z"
   },
   {
    "duration": 73,
    "start_time": "2024-07-08T19:34:43.506Z"
   },
   {
    "duration": 60,
    "start_time": "2024-07-08T19:34:52.749Z"
   },
   {
    "duration": 377,
    "start_time": "2024-07-08T19:35:03.128Z"
   },
   {
    "duration": 82,
    "start_time": "2024-07-08T19:35:03.508Z"
   },
   {
    "duration": 37,
    "start_time": "2024-07-08T19:35:03.591Z"
   },
   {
    "duration": 74,
    "start_time": "2024-07-08T19:35:03.629Z"
   },
   {
    "duration": 391,
    "start_time": "2024-07-08T19:35:18.911Z"
   },
   {
    "duration": 75,
    "start_time": "2024-07-08T19:35:45.975Z"
   },
   {
    "duration": 159,
    "start_time": "2024-07-08T19:35:53.940Z"
   },
   {
    "duration": 157,
    "start_time": "2024-07-08T19:40:05.221Z"
   },
   {
    "duration": 148,
    "start_time": "2024-07-08T19:40:13.687Z"
   },
   {
    "duration": 243,
    "start_time": "2024-07-08T19:40:45.515Z"
   },
   {
    "duration": 149,
    "start_time": "2024-07-08T19:40:54.302Z"
   },
   {
    "duration": 246,
    "start_time": "2024-07-08T19:44:13.423Z"
   },
   {
    "duration": 265,
    "start_time": "2024-07-08T19:44:22.910Z"
   },
   {
    "duration": 244,
    "start_time": "2024-07-08T19:44:37.725Z"
   },
   {
    "duration": 149,
    "start_time": "2024-07-08T19:44:56.861Z"
   },
   {
    "duration": 171,
    "start_time": "2024-07-08T19:45:18.364Z"
   },
   {
    "duration": 252,
    "start_time": "2024-07-08T19:47:14.371Z"
   },
   {
    "duration": 304,
    "start_time": "2024-07-08T19:48:10.382Z"
   },
   {
    "duration": 19,
    "start_time": "2024-07-08T19:52:21.021Z"
   },
   {
    "duration": 10,
    "start_time": "2024-07-08T19:53:09.444Z"
   },
   {
    "duration": 171,
    "start_time": "2024-07-08T19:53:28.126Z"
   },
   {
    "duration": 583,
    "start_time": "2024-07-08T19:55:02.804Z"
   },
   {
    "duration": 622,
    "start_time": "2024-07-08T19:55:26.436Z"
   },
   {
    "duration": 599,
    "start_time": "2024-07-08T19:55:37.213Z"
   },
   {
    "duration": 365,
    "start_time": "2024-07-08T19:55:59.029Z"
   },
   {
    "duration": 307,
    "start_time": "2024-07-08T19:56:30.205Z"
   },
   {
    "duration": 296,
    "start_time": "2024-07-08T19:57:39.129Z"
   },
   {
    "duration": 286,
    "start_time": "2024-07-08T19:57:56.097Z"
   },
   {
    "duration": 407,
    "start_time": "2024-07-08T19:58:38.730Z"
   },
   {
    "duration": 291,
    "start_time": "2024-07-08T19:58:46.760Z"
   },
   {
    "duration": 7,
    "start_time": "2024-07-08T20:05:50.543Z"
   },
   {
    "duration": 127,
    "start_time": "2024-07-08T20:06:39.285Z"
   },
   {
    "duration": 36,
    "start_time": "2024-07-08T20:18:00.735Z"
   },
   {
    "duration": 40,
    "start_time": "2024-07-08T20:18:22.312Z"
   },
   {
    "duration": 421,
    "start_time": "2024-07-08T20:18:33.573Z"
   },
   {
    "duration": 78,
    "start_time": "2024-07-08T20:18:33.996Z"
   },
   {
    "duration": 41,
    "start_time": "2024-07-08T20:18:34.078Z"
   },
   {
    "duration": 416,
    "start_time": "2024-07-08T20:18:34.121Z"
   },
   {
    "duration": 167,
    "start_time": "2024-07-08T20:18:34.539Z"
   },
   {
    "duration": 276,
    "start_time": "2024-07-08T20:18:34.710Z"
   },
   {
    "duration": 347,
    "start_time": "2024-07-08T20:18:34.988Z"
   },
   {
    "duration": 136,
    "start_time": "2024-07-08T20:18:35.337Z"
   },
   {
    "duration": 2,
    "start_time": "2024-07-08T20:18:35.474Z"
   },
   {
    "duration": 68,
    "start_time": "2024-07-08T20:22:16.031Z"
   },
   {
    "duration": 30,
    "start_time": "2024-07-08T20:22:44.157Z"
   },
   {
    "duration": 23,
    "start_time": "2024-07-08T20:26:48.833Z"
   },
   {
    "duration": 8,
    "start_time": "2024-07-08T20:29:01.047Z"
   },
   {
    "duration": 178,
    "start_time": "2024-07-08T20:29:29.452Z"
   },
   {
    "duration": 162,
    "start_time": "2024-07-08T20:30:07.289Z"
   },
   {
    "duration": 167,
    "start_time": "2024-07-08T20:30:13.106Z"
   },
   {
    "duration": 337,
    "start_time": "2024-07-08T20:32:52.833Z"
   },
   {
    "duration": 299,
    "start_time": "2024-07-08T20:34:40.924Z"
   },
   {
    "duration": 73,
    "start_time": "2024-07-08T20:51:07.307Z"
   },
   {
    "duration": 60,
    "start_time": "2024-07-08T20:51:34.705Z"
   },
   {
    "duration": 58,
    "start_time": "2024-07-08T20:52:09.220Z"
   },
   {
    "duration": 62,
    "start_time": "2024-07-08T20:53:28.992Z"
   },
   {
    "duration": 72,
    "start_time": "2024-07-08T20:54:00.021Z"
   },
   {
    "duration": 78,
    "start_time": "2024-07-08T20:55:43.525Z"
   },
   {
    "duration": 60,
    "start_time": "2024-07-08T20:55:57.851Z"
   },
   {
    "duration": 72,
    "start_time": "2024-07-08T20:56:18.330Z"
   },
   {
    "duration": 457,
    "start_time": "2024-07-08T20:56:55.096Z"
   },
   {
    "duration": 75,
    "start_time": "2024-07-08T20:56:55.555Z"
   },
   {
    "duration": 47,
    "start_time": "2024-07-08T20:56:55.631Z"
   },
   {
    "duration": 433,
    "start_time": "2024-07-08T20:56:55.680Z"
   },
   {
    "duration": 159,
    "start_time": "2024-07-08T20:56:56.116Z"
   },
   {
    "duration": 272,
    "start_time": "2024-07-08T20:56:56.277Z"
   },
   {
    "duration": 350,
    "start_time": "2024-07-08T20:56:56.551Z"
   },
   {
    "duration": 133,
    "start_time": "2024-07-08T20:56:56.902Z"
   },
   {
    "duration": 23,
    "start_time": "2024-07-08T20:56:57.036Z"
   },
   {
    "duration": 41,
    "start_time": "2024-07-08T20:56:57.061Z"
   },
   {
    "duration": 343,
    "start_time": "2024-07-08T20:56:57.103Z"
   },
   {
    "duration": 329,
    "start_time": "2024-07-08T20:56:57.448Z"
   },
   {
    "duration": 73,
    "start_time": "2024-07-08T20:56:57.778Z"
   },
   {
    "duration": 91,
    "start_time": "2024-07-08T20:57:57.550Z"
   },
   {
    "duration": 64,
    "start_time": "2024-07-08T20:59:57.279Z"
   },
   {
    "duration": 923,
    "start_time": "2024-07-08T21:01:15.068Z"
   },
   {
    "duration": 977,
    "start_time": "2024-07-08T21:04:29.314Z"
   },
   {
    "duration": 940,
    "start_time": "2024-07-08T21:04:38.921Z"
   },
   {
    "duration": 7,
    "start_time": "2024-07-08T21:10:21.140Z"
   },
   {
    "duration": 49,
    "start_time": "2024-07-08T21:10:31.871Z"
   },
   {
    "duration": 46,
    "start_time": "2024-07-08T21:12:28.749Z"
   },
   {
    "duration": 43,
    "start_time": "2024-07-08T21:14:44.375Z"
   },
   {
    "duration": 43,
    "start_time": "2024-07-08T21:16:04.870Z"
   },
   {
    "duration": 47,
    "start_time": "2024-07-08T21:16:11.764Z"
   },
   {
    "duration": 84,
    "start_time": "2024-07-08T21:22:59.958Z"
   },
   {
    "duration": 75,
    "start_time": "2024-07-08T21:23:05.960Z"
   },
   {
    "duration": 73,
    "start_time": "2024-07-08T21:23:13.283Z"
   },
   {
    "duration": 65,
    "start_time": "2024-07-08T21:23:58.486Z"
   },
   {
    "duration": 53,
    "start_time": "2024-07-08T21:24:46.097Z"
   },
   {
    "duration": 7,
    "start_time": "2024-07-08T21:40:43.520Z"
   },
   {
    "duration": 7,
    "start_time": "2024-07-08T21:41:15.335Z"
   },
   {
    "duration": 392,
    "start_time": "2024-07-08T21:41:53.779Z"
   },
   {
    "duration": 71,
    "start_time": "2024-07-08T21:41:54.173Z"
   },
   {
    "duration": 40,
    "start_time": "2024-07-08T21:41:54.247Z"
   },
   {
    "duration": 399,
    "start_time": "2024-07-08T21:41:54.289Z"
   },
   {
    "duration": 164,
    "start_time": "2024-07-08T21:41:54.689Z"
   },
   {
    "duration": 268,
    "start_time": "2024-07-08T21:41:54.854Z"
   },
   {
    "duration": 372,
    "start_time": "2024-07-08T21:41:55.124Z"
   },
   {
    "duration": 136,
    "start_time": "2024-07-08T21:41:55.498Z"
   },
   {
    "duration": 22,
    "start_time": "2024-07-08T21:41:55.635Z"
   },
   {
    "duration": 20,
    "start_time": "2024-07-08T21:41:55.658Z"
   },
   {
    "duration": 330,
    "start_time": "2024-07-08T21:41:55.679Z"
   },
   {
    "duration": 312,
    "start_time": "2024-07-08T21:41:56.010Z"
   },
   {
    "duration": 56,
    "start_time": "2024-07-08T21:41:56.324Z"
   },
   {
    "duration": 83,
    "start_time": "2024-07-08T21:41:56.382Z"
   },
   {
    "duration": 459,
    "start_time": "2024-07-08T21:43:08.093Z"
   },
   {
    "duration": 36,
    "start_time": "2024-07-08T21:51:41.860Z"
   },
   {
    "duration": 9,
    "start_time": "2024-07-08T21:51:58.005Z"
   },
   {
    "duration": 7,
    "start_time": "2024-07-08T21:52:44.642Z"
   },
   {
    "duration": 8,
    "start_time": "2024-07-08T21:52:59.050Z"
   },
   {
    "duration": 7,
    "start_time": "2024-07-08T21:53:36.071Z"
   },
   {
    "duration": 7,
    "start_time": "2024-07-08T21:54:38.717Z"
   },
   {
    "duration": 7,
    "start_time": "2024-07-08T21:54:49.213Z"
   },
   {
    "duration": 12,
    "start_time": "2024-07-08T21:57:49.983Z"
   },
   {
    "duration": 10,
    "start_time": "2024-07-08T21:58:48.954Z"
   },
   {
    "duration": 348,
    "start_time": "2024-07-09T07:50:42.509Z"
   },
   {
    "duration": 296,
    "start_time": "2024-07-09T07:50:42.859Z"
   },
   {
    "duration": 37,
    "start_time": "2024-07-09T07:50:43.156Z"
   },
   {
    "duration": 414,
    "start_time": "2024-07-09T07:50:43.195Z"
   },
   {
    "duration": 158,
    "start_time": "2024-07-09T07:50:43.610Z"
   },
   {
    "duration": 272,
    "start_time": "2024-07-09T07:50:43.771Z"
   },
   {
    "duration": 324,
    "start_time": "2024-07-09T07:50:44.044Z"
   },
   {
    "duration": 149,
    "start_time": "2024-07-09T07:50:44.370Z"
   },
   {
    "duration": 68,
    "start_time": "2024-07-09T07:50:44.520Z"
   },
   {
    "duration": 22,
    "start_time": "2024-07-09T07:50:44.590Z"
   },
   {
    "duration": 563,
    "start_time": "2024-07-09T07:50:44.614Z"
   },
   {
    "duration": 439,
    "start_time": "2024-07-09T07:50:45.179Z"
   },
   {
    "duration": 63,
    "start_time": "2024-07-09T07:50:45.619Z"
   },
   {
    "duration": 460,
    "start_time": "2024-07-09T07:50:45.684Z"
   },
   {
    "duration": 52,
    "start_time": "2024-07-09T10:27:14.812Z"
   },
   {
    "duration": 439,
    "start_time": "2024-07-09T10:27:29.430Z"
   },
   {
    "duration": 275,
    "start_time": "2024-07-09T10:27:29.870Z"
   },
   {
    "duration": 0,
    "start_time": "2024-07-09T10:27:30.147Z"
   },
   {
    "duration": 0,
    "start_time": "2024-07-09T10:27:30.148Z"
   },
   {
    "duration": 0,
    "start_time": "2024-07-09T10:27:30.149Z"
   },
   {
    "duration": 0,
    "start_time": "2024-07-09T10:27:30.150Z"
   },
   {
    "duration": 0,
    "start_time": "2024-07-09T10:27:30.151Z"
   },
   {
    "duration": 0,
    "start_time": "2024-07-09T10:27:30.152Z"
   },
   {
    "duration": 0,
    "start_time": "2024-07-09T10:27:30.153Z"
   },
   {
    "duration": 0,
    "start_time": "2024-07-09T10:27:30.154Z"
   },
   {
    "duration": 0,
    "start_time": "2024-07-09T10:27:30.156Z"
   },
   {
    "duration": 0,
    "start_time": "2024-07-09T10:27:30.157Z"
   },
   {
    "duration": 0,
    "start_time": "2024-07-09T10:27:30.158Z"
   },
   {
    "duration": 0,
    "start_time": "2024-07-09T10:27:30.164Z"
   },
   {
    "duration": 102,
    "start_time": "2024-07-09T10:29:01.079Z"
   },
   {
    "duration": 105,
    "start_time": "2024-07-09T10:31:06.830Z"
   },
   {
    "duration": 89,
    "start_time": "2024-07-09T10:31:43.162Z"
   },
   {
    "duration": 56,
    "start_time": "2024-07-09T10:33:05.267Z"
   },
   {
    "duration": 706,
    "start_time": "2024-07-09T10:37:43.300Z"
   },
   {
    "duration": 416,
    "start_time": "2024-07-09T10:38:00.164Z"
   },
   {
    "duration": 109,
    "start_time": "2024-07-09T10:38:00.582Z"
   },
   {
    "duration": 50,
    "start_time": "2024-07-09T10:38:00.692Z"
   },
   {
    "duration": 510,
    "start_time": "2024-07-09T10:38:00.744Z"
   },
   {
    "duration": 202,
    "start_time": "2024-07-09T10:38:01.256Z"
   },
   {
    "duration": 317,
    "start_time": "2024-07-09T10:38:01.465Z"
   },
   {
    "duration": 460,
    "start_time": "2024-07-09T10:38:01.784Z"
   },
   {
    "duration": 176,
    "start_time": "2024-07-09T10:38:02.247Z"
   },
   {
    "duration": 27,
    "start_time": "2024-07-09T10:38:02.425Z"
   },
   {
    "duration": 27,
    "start_time": "2024-07-09T10:38:02.465Z"
   },
   {
    "duration": 411,
    "start_time": "2024-07-09T10:38:02.493Z"
   },
   {
    "duration": 390,
    "start_time": "2024-07-09T10:38:02.905Z"
   },
   {
    "duration": 73,
    "start_time": "2024-07-09T10:38:03.297Z"
   },
   {
    "duration": 485,
    "start_time": "2024-07-09T10:38:03.372Z"
   },
   {
    "duration": 619,
    "start_time": "2024-07-09T11:58:14.147Z"
   },
   {
    "duration": 302,
    "start_time": "2024-07-09T11:58:14.768Z"
   },
   {
    "duration": 178,
    "start_time": "2024-07-09T11:58:15.073Z"
   },
   {
    "duration": 1011,
    "start_time": "2024-07-09T11:58:15.253Z"
   },
   {
    "duration": 603,
    "start_time": "2024-07-09T11:58:16.265Z"
   },
   {
    "duration": 1286,
    "start_time": "2024-07-09T11:58:16.870Z"
   },
   {
    "duration": 1702,
    "start_time": "2024-07-09T11:58:18.158Z"
   },
   {
    "duration": 893,
    "start_time": "2024-07-09T11:58:19.862Z"
   },
   {
    "duration": 107,
    "start_time": "2024-07-09T11:58:20.757Z"
   },
   {
    "duration": 109,
    "start_time": "2024-07-09T11:58:20.867Z"
   },
   {
    "duration": 1398,
    "start_time": "2024-07-09T11:58:21.048Z"
   },
   {
    "duration": 1408,
    "start_time": "2024-07-09T11:58:22.449Z"
   },
   {
    "duration": 290,
    "start_time": "2024-07-09T11:58:23.860Z"
   },
   {
    "duration": 1306,
    "start_time": "2024-07-09T11:58:24.152Z"
   }
  ],
  "kernelspec": {
   "display_name": "Python 3 (ipykernel)",
   "language": "python",
   "name": "python3"
  },
  "language_info": {
   "codemirror_mode": {
    "name": "ipython",
    "version": 3
   },
   "file_extension": ".py",
   "mimetype": "text/x-python",
   "name": "python",
   "nbconvert_exporter": "python",
   "pygments_lexer": "ipython3",
   "version": "3.9.5"
  },
  "toc": {
   "base_numbering": 1,
   "nav_menu": {},
   "number_sections": true,
   "sideBar": true,
   "skip_h1_title": true,
   "title_cell": "Table of Contents",
   "title_sidebar": "Contents",
   "toc_cell": false,
   "toc_position": {},
   "toc_section_display": true,
   "toc_window_display": false
  }
 },
 "nbformat": 4,
 "nbformat_minor": 5
}
