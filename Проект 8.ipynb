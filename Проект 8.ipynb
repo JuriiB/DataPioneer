{
 "cells": [
  {
   "cell_type": "markdown",
   "metadata": {},
   "source": [
    "# Определение стоимости автомобилей"
   ]
  },
  {
   "cell_type": "markdown",
   "metadata": {},
   "source": [
    "Сервис по продаже автомобилей с пробегом «Не бит, не крашен» разрабатывает приложение для привлечения новых клиентов. В нём можно быстро узнать рыночную стоимость своего автомобиля. В вашем распоряжении исторические данные: технические характеристики, комплектации и цены автомобилей. Вам нужно построить модель для определения стоимости. \n",
    "\n",
    "Заказчику важны:\n",
    "\n",
    "- качество предсказания;\n",
    "- скорость предсказания;\n",
    "- время обучения."
   ]
  },
  {
   "cell_type": "markdown",
   "metadata": {},
   "source": [
    "## Подготовка данных"
   ]
  },
  {
   "cell_type": "markdown",
   "metadata": {},
   "source": [
    "**Импортируем библиотеки**"
   ]
  },
  {
   "cell_type": "code",
   "execution_count": 1,
   "metadata": {},
   "outputs": [
    {
     "name": "stdout",
     "output_type": "stream",
     "text": [
      "Requirement already satisfied: phik in /opt/conda/lib/python3.9/site-packages (0.12.4)\n",
      "Requirement already satisfied: matplotlib>=2.2.3 in /opt/conda/lib/python3.9/site-packages (from phik) (3.3.4)\n",
      "Requirement already satisfied: pandas>=0.25.1 in /opt/conda/lib/python3.9/site-packages (from phik) (1.2.4)\n",
      "Requirement already satisfied: scipy>=1.5.2 in /opt/conda/lib/python3.9/site-packages (from phik) (1.9.1)\n",
      "Requirement already satisfied: joblib>=0.14.1 in /opt/conda/lib/python3.9/site-packages (from phik) (1.1.0)\n",
      "Requirement already satisfied: numpy>=1.18.0 in /opt/conda/lib/python3.9/site-packages (from phik) (1.21.1)\n",
      "Requirement already satisfied: cycler>=0.10 in /opt/conda/lib/python3.9/site-packages (from matplotlib>=2.2.3->phik) (0.11.0)\n",
      "Requirement already satisfied: pyparsing!=2.0.4,!=2.1.2,!=2.1.6,>=2.0.3 in /opt/conda/lib/python3.9/site-packages (from matplotlib>=2.2.3->phik) (2.4.7)\n",
      "Requirement already satisfied: pillow>=6.2.0 in /opt/conda/lib/python3.9/site-packages (from matplotlib>=2.2.3->phik) (8.4.0)\n",
      "Requirement already satisfied: kiwisolver>=1.0.1 in /opt/conda/lib/python3.9/site-packages (from matplotlib>=2.2.3->phik) (1.4.4)\n",
      "Requirement already satisfied: python-dateutil>=2.1 in /opt/conda/lib/python3.9/site-packages (from matplotlib>=2.2.3->phik) (2.8.1)\n",
      "Requirement already satisfied: pytz>=2017.3 in /opt/conda/lib/python3.9/site-packages (from pandas>=0.25.1->phik) (2021.1)\n",
      "Requirement already satisfied: six>=1.5 in /opt/conda/lib/python3.9/site-packages (from python-dateutil>=2.1->matplotlib>=2.2.3->phik) (1.16.0)\n"
     ]
    }
   ],
   "source": [
    "!pip install phik\n",
    "\n",
    "import numpy as np\n",
    "import pandas as pd\n",
    "import matplotlib.pyplot as plt\n",
    "from sklearn.compose import ColumnTransformer\n",
    "from sklearn.preprocessing import OneHotEncoder\n",
    "from sklearn.pipeline import Pipeline\n",
    "import warnings\n",
    "from sklearn.preprocessing import StandardScaler, MinMaxScaler\n",
    "from sklearn.metrics import mean_squared_error\n",
    "from sklearn.model_selection import train_test_split, GridSearchCV, cross_val_score\n",
    "from sklearn.preprocessing import OrdinalEncoder\n",
    "from sklearn.tree import DecisionTreeRegressor\n",
    "from catboost import Pool, CatBoostRegressor, cv\n",
    "from lightgbm import LGBMRegressor\n",
    "from sklearn.impute import SimpleImputer\n",
    "from sklearn.linear_model import Ridge, LinearRegression\n",
    "import lightgbm as lgb\n",
    "import time\n",
    "\n",
    "import phik"
   ]
  },
  {
   "cell_type": "code",
   "execution_count": 2,
   "metadata": {
    "scrolled": true
   },
   "outputs": [
    {
     "data": {
      "text/html": [
       "<div>\n",
       "<style scoped>\n",
       "    .dataframe tbody tr th:only-of-type {\n",
       "        vertical-align: middle;\n",
       "    }\n",
       "\n",
       "    .dataframe tbody tr th {\n",
       "        vertical-align: top;\n",
       "    }\n",
       "\n",
       "    .dataframe thead th {\n",
       "        text-align: right;\n",
       "    }\n",
       "</style>\n",
       "<table border=\"1\" class=\"dataframe\">\n",
       "  <thead>\n",
       "    <tr style=\"text-align: right;\">\n",
       "      <th></th>\n",
       "      <th>DateCrawled</th>\n",
       "      <th>Price</th>\n",
       "      <th>VehicleType</th>\n",
       "      <th>RegistrationYear</th>\n",
       "      <th>Gearbox</th>\n",
       "      <th>Power</th>\n",
       "      <th>Model</th>\n",
       "      <th>Kilometer</th>\n",
       "      <th>RegistrationMonth</th>\n",
       "      <th>FuelType</th>\n",
       "      <th>Brand</th>\n",
       "      <th>Repaired</th>\n",
       "      <th>DateCreated</th>\n",
       "      <th>NumberOfPictures</th>\n",
       "      <th>PostalCode</th>\n",
       "      <th>LastSeen</th>\n",
       "    </tr>\n",
       "  </thead>\n",
       "  <tbody>\n",
       "    <tr>\n",
       "      <th>0</th>\n",
       "      <td>2016-03-24 11:52:17</td>\n",
       "      <td>480</td>\n",
       "      <td>NaN</td>\n",
       "      <td>1993</td>\n",
       "      <td>manual</td>\n",
       "      <td>0</td>\n",
       "      <td>golf</td>\n",
       "      <td>150000</td>\n",
       "      <td>0</td>\n",
       "      <td>petrol</td>\n",
       "      <td>volkswagen</td>\n",
       "      <td>NaN</td>\n",
       "      <td>2016-03-24 00:00:00</td>\n",
       "      <td>0</td>\n",
       "      <td>70435</td>\n",
       "      <td>2016-04-07 03:16:57</td>\n",
       "    </tr>\n",
       "    <tr>\n",
       "      <th>1</th>\n",
       "      <td>2016-03-24 10:58:45</td>\n",
       "      <td>18300</td>\n",
       "      <td>coupe</td>\n",
       "      <td>2011</td>\n",
       "      <td>manual</td>\n",
       "      <td>190</td>\n",
       "      <td>NaN</td>\n",
       "      <td>125000</td>\n",
       "      <td>5</td>\n",
       "      <td>gasoline</td>\n",
       "      <td>audi</td>\n",
       "      <td>yes</td>\n",
       "      <td>2016-03-24 00:00:00</td>\n",
       "      <td>0</td>\n",
       "      <td>66954</td>\n",
       "      <td>2016-04-07 01:46:50</td>\n",
       "    </tr>\n",
       "    <tr>\n",
       "      <th>2</th>\n",
       "      <td>2016-03-14 12:52:21</td>\n",
       "      <td>9800</td>\n",
       "      <td>suv</td>\n",
       "      <td>2004</td>\n",
       "      <td>auto</td>\n",
       "      <td>163</td>\n",
       "      <td>grand</td>\n",
       "      <td>125000</td>\n",
       "      <td>8</td>\n",
       "      <td>gasoline</td>\n",
       "      <td>jeep</td>\n",
       "      <td>NaN</td>\n",
       "      <td>2016-03-14 00:00:00</td>\n",
       "      <td>0</td>\n",
       "      <td>90480</td>\n",
       "      <td>2016-04-05 12:47:46</td>\n",
       "    </tr>\n",
       "    <tr>\n",
       "      <th>3</th>\n",
       "      <td>2016-03-17 16:54:04</td>\n",
       "      <td>1500</td>\n",
       "      <td>small</td>\n",
       "      <td>2001</td>\n",
       "      <td>manual</td>\n",
       "      <td>75</td>\n",
       "      <td>golf</td>\n",
       "      <td>150000</td>\n",
       "      <td>6</td>\n",
       "      <td>petrol</td>\n",
       "      <td>volkswagen</td>\n",
       "      <td>no</td>\n",
       "      <td>2016-03-17 00:00:00</td>\n",
       "      <td>0</td>\n",
       "      <td>91074</td>\n",
       "      <td>2016-03-17 17:40:17</td>\n",
       "    </tr>\n",
       "    <tr>\n",
       "      <th>4</th>\n",
       "      <td>2016-03-31 17:25:20</td>\n",
       "      <td>3600</td>\n",
       "      <td>small</td>\n",
       "      <td>2008</td>\n",
       "      <td>manual</td>\n",
       "      <td>69</td>\n",
       "      <td>fabia</td>\n",
       "      <td>90000</td>\n",
       "      <td>7</td>\n",
       "      <td>gasoline</td>\n",
       "      <td>skoda</td>\n",
       "      <td>no</td>\n",
       "      <td>2016-03-31 00:00:00</td>\n",
       "      <td>0</td>\n",
       "      <td>60437</td>\n",
       "      <td>2016-04-06 10:17:21</td>\n",
       "    </tr>\n",
       "    <tr>\n",
       "      <th>...</th>\n",
       "      <td>...</td>\n",
       "      <td>...</td>\n",
       "      <td>...</td>\n",
       "      <td>...</td>\n",
       "      <td>...</td>\n",
       "      <td>...</td>\n",
       "      <td>...</td>\n",
       "      <td>...</td>\n",
       "      <td>...</td>\n",
       "      <td>...</td>\n",
       "      <td>...</td>\n",
       "      <td>...</td>\n",
       "      <td>...</td>\n",
       "      <td>...</td>\n",
       "      <td>...</td>\n",
       "      <td>...</td>\n",
       "    </tr>\n",
       "    <tr>\n",
       "      <th>354364</th>\n",
       "      <td>2016-03-21 09:50:58</td>\n",
       "      <td>0</td>\n",
       "      <td>NaN</td>\n",
       "      <td>2005</td>\n",
       "      <td>manual</td>\n",
       "      <td>0</td>\n",
       "      <td>colt</td>\n",
       "      <td>150000</td>\n",
       "      <td>7</td>\n",
       "      <td>petrol</td>\n",
       "      <td>mitsubishi</td>\n",
       "      <td>yes</td>\n",
       "      <td>2016-03-21 00:00:00</td>\n",
       "      <td>0</td>\n",
       "      <td>2694</td>\n",
       "      <td>2016-03-21 10:42:49</td>\n",
       "    </tr>\n",
       "    <tr>\n",
       "      <th>354365</th>\n",
       "      <td>2016-03-14 17:48:27</td>\n",
       "      <td>2200</td>\n",
       "      <td>NaN</td>\n",
       "      <td>2005</td>\n",
       "      <td>NaN</td>\n",
       "      <td>0</td>\n",
       "      <td>NaN</td>\n",
       "      <td>20000</td>\n",
       "      <td>1</td>\n",
       "      <td>NaN</td>\n",
       "      <td>sonstige_autos</td>\n",
       "      <td>NaN</td>\n",
       "      <td>2016-03-14 00:00:00</td>\n",
       "      <td>0</td>\n",
       "      <td>39576</td>\n",
       "      <td>2016-04-06 00:46:52</td>\n",
       "    </tr>\n",
       "    <tr>\n",
       "      <th>354366</th>\n",
       "      <td>2016-03-05 19:56:21</td>\n",
       "      <td>1199</td>\n",
       "      <td>convertible</td>\n",
       "      <td>2000</td>\n",
       "      <td>auto</td>\n",
       "      <td>101</td>\n",
       "      <td>fortwo</td>\n",
       "      <td>125000</td>\n",
       "      <td>3</td>\n",
       "      <td>petrol</td>\n",
       "      <td>smart</td>\n",
       "      <td>no</td>\n",
       "      <td>2016-03-05 00:00:00</td>\n",
       "      <td>0</td>\n",
       "      <td>26135</td>\n",
       "      <td>2016-03-11 18:17:12</td>\n",
       "    </tr>\n",
       "    <tr>\n",
       "      <th>354367</th>\n",
       "      <td>2016-03-19 18:57:12</td>\n",
       "      <td>9200</td>\n",
       "      <td>bus</td>\n",
       "      <td>1996</td>\n",
       "      <td>manual</td>\n",
       "      <td>102</td>\n",
       "      <td>transporter</td>\n",
       "      <td>150000</td>\n",
       "      <td>3</td>\n",
       "      <td>gasoline</td>\n",
       "      <td>volkswagen</td>\n",
       "      <td>no</td>\n",
       "      <td>2016-03-19 00:00:00</td>\n",
       "      <td>0</td>\n",
       "      <td>87439</td>\n",
       "      <td>2016-04-07 07:15:26</td>\n",
       "    </tr>\n",
       "    <tr>\n",
       "      <th>354368</th>\n",
       "      <td>2016-03-20 19:41:08</td>\n",
       "      <td>3400</td>\n",
       "      <td>wagon</td>\n",
       "      <td>2002</td>\n",
       "      <td>manual</td>\n",
       "      <td>100</td>\n",
       "      <td>golf</td>\n",
       "      <td>150000</td>\n",
       "      <td>6</td>\n",
       "      <td>gasoline</td>\n",
       "      <td>volkswagen</td>\n",
       "      <td>NaN</td>\n",
       "      <td>2016-03-20 00:00:00</td>\n",
       "      <td>0</td>\n",
       "      <td>40764</td>\n",
       "      <td>2016-03-24 12:45:21</td>\n",
       "    </tr>\n",
       "  </tbody>\n",
       "</table>\n",
       "<p>354369 rows × 16 columns</p>\n",
       "</div>"
      ],
      "text/plain": [
       "                DateCrawled  Price  VehicleType  RegistrationYear Gearbox  \\\n",
       "0       2016-03-24 11:52:17    480          NaN              1993  manual   \n",
       "1       2016-03-24 10:58:45  18300        coupe              2011  manual   \n",
       "2       2016-03-14 12:52:21   9800          suv              2004    auto   \n",
       "3       2016-03-17 16:54:04   1500        small              2001  manual   \n",
       "4       2016-03-31 17:25:20   3600        small              2008  manual   \n",
       "...                     ...    ...          ...               ...     ...   \n",
       "354364  2016-03-21 09:50:58      0          NaN              2005  manual   \n",
       "354365  2016-03-14 17:48:27   2200          NaN              2005     NaN   \n",
       "354366  2016-03-05 19:56:21   1199  convertible              2000    auto   \n",
       "354367  2016-03-19 18:57:12   9200          bus              1996  manual   \n",
       "354368  2016-03-20 19:41:08   3400        wagon              2002  manual   \n",
       "\n",
       "        Power        Model  Kilometer  RegistrationMonth  FuelType  \\\n",
       "0           0         golf     150000                  0    petrol   \n",
       "1         190          NaN     125000                  5  gasoline   \n",
       "2         163        grand     125000                  8  gasoline   \n",
       "3          75         golf     150000                  6    petrol   \n",
       "4          69        fabia      90000                  7  gasoline   \n",
       "...       ...          ...        ...                ...       ...   \n",
       "354364      0         colt     150000                  7    petrol   \n",
       "354365      0          NaN      20000                  1       NaN   \n",
       "354366    101       fortwo     125000                  3    petrol   \n",
       "354367    102  transporter     150000                  3  gasoline   \n",
       "354368    100         golf     150000                  6  gasoline   \n",
       "\n",
       "                 Brand Repaired          DateCreated  NumberOfPictures  \\\n",
       "0           volkswagen      NaN  2016-03-24 00:00:00                 0   \n",
       "1                 audi      yes  2016-03-24 00:00:00                 0   \n",
       "2                 jeep      NaN  2016-03-14 00:00:00                 0   \n",
       "3           volkswagen       no  2016-03-17 00:00:00                 0   \n",
       "4                skoda       no  2016-03-31 00:00:00                 0   \n",
       "...                ...      ...                  ...               ...   \n",
       "354364      mitsubishi      yes  2016-03-21 00:00:00                 0   \n",
       "354365  sonstige_autos      NaN  2016-03-14 00:00:00                 0   \n",
       "354366           smart       no  2016-03-05 00:00:00                 0   \n",
       "354367      volkswagen       no  2016-03-19 00:00:00                 0   \n",
       "354368      volkswagen      NaN  2016-03-20 00:00:00                 0   \n",
       "\n",
       "        PostalCode             LastSeen  \n",
       "0            70435  2016-04-07 03:16:57  \n",
       "1            66954  2016-04-07 01:46:50  \n",
       "2            90480  2016-04-05 12:47:46  \n",
       "3            91074  2016-03-17 17:40:17  \n",
       "4            60437  2016-04-06 10:17:21  \n",
       "...            ...                  ...  \n",
       "354364        2694  2016-03-21 10:42:49  \n",
       "354365       39576  2016-04-06 00:46:52  \n",
       "354366       26135  2016-03-11 18:17:12  \n",
       "354367       87439  2016-04-07 07:15:26  \n",
       "354368       40764  2016-03-24 12:45:21  \n",
       "\n",
       "[354369 rows x 16 columns]"
      ]
     },
     "metadata": {},
     "output_type": "display_data"
    },
    {
     "name": "stdout",
     "output_type": "stream",
     "text": [
      "<class 'pandas.core.frame.DataFrame'>\n",
      "RangeIndex: 354369 entries, 0 to 354368\n",
      "Data columns (total 16 columns):\n",
      " #   Column             Non-Null Count   Dtype \n",
      "---  ------             --------------   ----- \n",
      " 0   DateCrawled        354369 non-null  object\n",
      " 1   Price              354369 non-null  int64 \n",
      " 2   VehicleType        316879 non-null  object\n",
      " 3   RegistrationYear   354369 non-null  int64 \n",
      " 4   Gearbox            334536 non-null  object\n",
      " 5   Power              354369 non-null  int64 \n",
      " 6   Model              334664 non-null  object\n",
      " 7   Kilometer          354369 non-null  int64 \n",
      " 8   RegistrationMonth  354369 non-null  int64 \n",
      " 9   FuelType           321474 non-null  object\n",
      " 10  Brand              354369 non-null  object\n",
      " 11  Repaired           283215 non-null  object\n",
      " 12  DateCreated        354369 non-null  object\n",
      " 13  NumberOfPictures   354369 non-null  int64 \n",
      " 14  PostalCode         354369 non-null  int64 \n",
      " 15  LastSeen           354369 non-null  object\n",
      "dtypes: int64(7), object(9)\n",
      "memory usage: 43.3+ MB\n",
      "None\n"
     ]
    }
   ],
   "source": [
    "data = pd.read_csv(\"/datasets/autos.csv\")\n",
    "display(data)\n",
    "print(data.info())"
   ]
  },
  {
   "cell_type": "markdown",
   "metadata": {},
   "source": [
    "**Проанализируем фрейм**"
   ]
  },
  {
   "cell_type": "code",
   "execution_count": 3,
   "metadata": {
    "scrolled": true
   },
   "outputs": [
    {
     "data": {
      "text/html": [
       "<div>\n",
       "<style scoped>\n",
       "    .dataframe tbody tr th:only-of-type {\n",
       "        vertical-align: middle;\n",
       "    }\n",
       "\n",
       "    .dataframe tbody tr th {\n",
       "        vertical-align: top;\n",
       "    }\n",
       "\n",
       "    .dataframe thead th {\n",
       "        text-align: right;\n",
       "    }\n",
       "</style>\n",
       "<table border=\"1\" class=\"dataframe\">\n",
       "  <thead>\n",
       "    <tr style=\"text-align: right;\">\n",
       "      <th></th>\n",
       "      <th>Price</th>\n",
       "      <th>RegistrationYear</th>\n",
       "      <th>Power</th>\n",
       "      <th>Kilometer</th>\n",
       "      <th>RegistrationMonth</th>\n",
       "      <th>NumberOfPictures</th>\n",
       "      <th>PostalCode</th>\n",
       "    </tr>\n",
       "  </thead>\n",
       "  <tbody>\n",
       "    <tr>\n",
       "      <th>count</th>\n",
       "      <td>354369.000000</td>\n",
       "      <td>354369.000000</td>\n",
       "      <td>354369.000000</td>\n",
       "      <td>354369.000000</td>\n",
       "      <td>354369.000000</td>\n",
       "      <td>354369.0</td>\n",
       "      <td>354369.000000</td>\n",
       "    </tr>\n",
       "    <tr>\n",
       "      <th>mean</th>\n",
       "      <td>4416.656776</td>\n",
       "      <td>2004.234448</td>\n",
       "      <td>110.094337</td>\n",
       "      <td>128211.172535</td>\n",
       "      <td>5.714645</td>\n",
       "      <td>0.0</td>\n",
       "      <td>50508.689087</td>\n",
       "    </tr>\n",
       "    <tr>\n",
       "      <th>std</th>\n",
       "      <td>4514.158514</td>\n",
       "      <td>90.227958</td>\n",
       "      <td>189.850405</td>\n",
       "      <td>37905.341530</td>\n",
       "      <td>3.726421</td>\n",
       "      <td>0.0</td>\n",
       "      <td>25783.096248</td>\n",
       "    </tr>\n",
       "    <tr>\n",
       "      <th>min</th>\n",
       "      <td>0.000000</td>\n",
       "      <td>1000.000000</td>\n",
       "      <td>0.000000</td>\n",
       "      <td>5000.000000</td>\n",
       "      <td>0.000000</td>\n",
       "      <td>0.0</td>\n",
       "      <td>1067.000000</td>\n",
       "    </tr>\n",
       "    <tr>\n",
       "      <th>25%</th>\n",
       "      <td>1050.000000</td>\n",
       "      <td>1999.000000</td>\n",
       "      <td>69.000000</td>\n",
       "      <td>125000.000000</td>\n",
       "      <td>3.000000</td>\n",
       "      <td>0.0</td>\n",
       "      <td>30165.000000</td>\n",
       "    </tr>\n",
       "    <tr>\n",
       "      <th>50%</th>\n",
       "      <td>2700.000000</td>\n",
       "      <td>2003.000000</td>\n",
       "      <td>105.000000</td>\n",
       "      <td>150000.000000</td>\n",
       "      <td>6.000000</td>\n",
       "      <td>0.0</td>\n",
       "      <td>49413.000000</td>\n",
       "    </tr>\n",
       "    <tr>\n",
       "      <th>75%</th>\n",
       "      <td>6400.000000</td>\n",
       "      <td>2008.000000</td>\n",
       "      <td>143.000000</td>\n",
       "      <td>150000.000000</td>\n",
       "      <td>9.000000</td>\n",
       "      <td>0.0</td>\n",
       "      <td>71083.000000</td>\n",
       "    </tr>\n",
       "    <tr>\n",
       "      <th>max</th>\n",
       "      <td>20000.000000</td>\n",
       "      <td>9999.000000</td>\n",
       "      <td>20000.000000</td>\n",
       "      <td>150000.000000</td>\n",
       "      <td>12.000000</td>\n",
       "      <td>0.0</td>\n",
       "      <td>99998.000000</td>\n",
       "    </tr>\n",
       "  </tbody>\n",
       "</table>\n",
       "</div>"
      ],
      "text/plain": [
       "               Price  RegistrationYear          Power      Kilometer  \\\n",
       "count  354369.000000     354369.000000  354369.000000  354369.000000   \n",
       "mean     4416.656776       2004.234448     110.094337  128211.172535   \n",
       "std      4514.158514         90.227958     189.850405   37905.341530   \n",
       "min         0.000000       1000.000000       0.000000    5000.000000   \n",
       "25%      1050.000000       1999.000000      69.000000  125000.000000   \n",
       "50%      2700.000000       2003.000000     105.000000  150000.000000   \n",
       "75%      6400.000000       2008.000000     143.000000  150000.000000   \n",
       "max     20000.000000       9999.000000   20000.000000  150000.000000   \n",
       "\n",
       "       RegistrationMonth  NumberOfPictures     PostalCode  \n",
       "count      354369.000000          354369.0  354369.000000  \n",
       "mean            5.714645               0.0   50508.689087  \n",
       "std             3.726421               0.0   25783.096248  \n",
       "min             0.000000               0.0    1067.000000  \n",
       "25%             3.000000               0.0   30165.000000  \n",
       "50%             6.000000               0.0   49413.000000  \n",
       "75%             9.000000               0.0   71083.000000  \n",
       "max            12.000000               0.0   99998.000000  "
      ]
     },
     "execution_count": 3,
     "metadata": {},
     "output_type": "execute_result"
    },
    {
     "data": {
      "image/png": "[encoded data removed]",
      "text/plain": [
       "<Figure size 432x288 with 9 Axes>"
      ]
     },
     "metadata": {
      "needs_background": "light"
     },
     "output_type": "display_data"
    }
   ],
   "source": [
    "data.hist() \n",
    "plt.subplots_adjust(wspace=.8, hspace=.8)\n",
    "\n",
    "data.describe() "
   ]
  },
  {
   "cell_type": "markdown",
   "metadata": {},
   "source": [
    "**Обработаем целевой признак  Price, минимальное значение 0, заполнять по средней цене некорректно, поэтому удалим эти данные**"
   ]
  },
  {
   "cell_type": "code",
   "execution_count": 4,
   "metadata": {},
   "outputs": [
    {
     "data": {
      "text/plain": [
       "10772"
      ]
     },
     "execution_count": 4,
     "metadata": {},
     "output_type": "execute_result"
    }
   ],
   "source": [
    "len(data.loc[data['Price'] == 0])"
   ]
  },
  {
   "cell_type": "code",
   "execution_count": 5,
   "metadata": {},
   "outputs": [
    {
     "data": {
      "text/plain": [
       "0"
      ]
     },
     "execution_count": 5,
     "metadata": {},
     "output_type": "execute_result"
    }
   ],
   "source": [
    "data = data.loc[data['Price'] != 0]\n",
    "len(data.loc[data['Price'] == 0])"
   ]
  },
  {
   "cell_type": "markdown",
   "metadata": {},
   "source": [
    "**Обработаем количественные признаки**"
   ]
  },
  {
   "cell_type": "markdown",
   "metadata": {},
   "source": [
    "**RegistrationYear**"
   ]
  },
  {
   "cell_type": "code",
   "execution_count": 6,
   "metadata": {},
   "outputs": [
    {
     "name": "stdout",
     "output_type": "stream",
     "text": [
      "                  counted\n",
      "RegistrationYear         \n",
      "1960                  136\n",
      "1961                   38\n",
      "1962                   40\n",
      "1963                   55\n",
      "1964                   60\n",
      "1965                   80\n",
      "1966                  110\n",
      "1967                   94\n",
      "1968                  105\n",
      "1969                  117\n",
      "1970                  284\n",
      "1971                  159\n",
      "1972                  210\n",
      "1973                  165\n",
      "1974                  167\n",
      "1975                  137\n",
      "1976                  157\n",
      "1977                  169\n",
      "1978                  276\n",
      "1979                  267\n",
      "1980                  490\n",
      "1981                  249\n",
      "1982                  300\n",
      "1983                  403\n",
      "1984                  382\n",
      "1985                  667\n",
      "1986                  502\n",
      "1987                  627\n",
      "1988                  903\n",
      "1989                 1235\n",
      "1990                 2458\n",
      "1991                 2609\n",
      "1992                 2853\n",
      "1993                 3268\n",
      "1994                 4615\n",
      "1995                 8953\n",
      "1996                10364\n",
      "1997                13991\n",
      "1998                17178\n",
      "1999                21995\n",
      "2000                23072\n",
      "2001                19654\n",
      "2002                18725\n",
      "2003                19499\n",
      "2004                19342\n",
      "2005                21524\n",
      "2006                19679\n",
      "2007                17017\n",
      "2008                15252\n",
      "2009                14397\n",
      "2010                10681\n",
      "2011                 9837\n",
      "2012                 7119\n",
      "2013                 4096\n",
      "2014                 2505\n",
      "2015                 1243\n",
      "2016                 8968\n",
      "2017                 9895\n",
      "2018                 3782\n",
      "2019                   16\n"
     ]
    },
    {
     "data": {
      "image/png": "[encoded data removed]",
      "text/plain": [
       "<Figure size 1440x360 with 1 Axes>"
      ]
     },
     "metadata": {
      "needs_background": "light"
     },
     "output_type": "display_data"
    }
   ],
   "source": [
    "data = data.loc[(data['RegistrationYear'] <= 2024) & (data['RegistrationYear'] >= 1960)]\n",
    "data_years = data.pivot_table(index='RegistrationYear', values='Brand', aggfunc='count')\n",
    "data_years.columns = ['counted']\n",
    "print (data_years)\n",
    "fig, ax = plt.subplots(figsize=(20, 5))  \n",
    "ax.bar(data_years.index, data_years.counted, color='skyblue')\n",
    "\n",
    "# Настройка графика\n",
    "ax.set_title('Годы регистрации', fontsize=16)\n",
    "ax.set_xlabel('Год регистрации', fontsize=14)\n",
    "ax.set_ylabel('Количество автомобилей', fontsize=14)\n",
    "ax.tick_params(axis='both', labelsize=12)\n",
    "\n",
    "# Отображение сетки\n",
    "ax.grid(True, axis='y', linestyle='--', alpha=0.75)\n",
    "\n",
    "plt.show()"
   ]
  },
  {
   "cell_type": "code",
   "execution_count": 7,
   "metadata": {
    "scrolled": true
   },
   "outputs": [
    {
     "data": {
      "text/plain": [
       "'2016-04-07 14:36:58'"
      ]
     },
     "execution_count": 7,
     "metadata": {},
     "output_type": "execute_result"
    }
   ],
   "source": [
    "data.DateCrawled.max()"
   ]
  },
  {
   "cell_type": "markdown",
   "metadata": {},
   "source": [
    "Так как выгрузка 2016 года, ограничим ее этим годом, нижнюю границу выставлю так, чтобы не было выбросов (например раритетных авто)"
   ]
  },
  {
   "cell_type": "code",
   "execution_count": 8,
   "metadata": {
    "scrolled": true
   },
   "outputs": [],
   "source": [
    "data = data.loc[(data['RegistrationYear'] <= 2016) & (data['RegistrationYear'] >= 1950)]"
   ]
  },
  {
   "cell_type": "markdown",
   "metadata": {},
   "source": [
    "**Power**"
   ]
  },
  {
   "cell_type": "code",
   "execution_count": 9,
   "metadata": {},
   "outputs": [
    {
     "data": {
      "text/plain": [
       "array([    0,   190,   163,    75,    69,   102,   109,   125,   101,\n",
       "         105,   140,   115,   131,    60,   136,   160,   231,    50,\n",
       "         118,   193,    99,   113,   218,   122,   129,    70,   306,\n",
       "          95,    61,   177,   170,    55,   143,   286,   232,   150,\n",
       "         156,    80,    82,    90,   155,    54,   185,    87,   180,\n",
       "          86,    84,   224,   235,   200,   178,   265,    77,   110,\n",
       "         144,   120,   116,   184,   126,   204,    88,   194,    64,\n",
       "         305,   197,   179,   250,    45,   313,    41,   165,    98,\n",
       "         130,   114,   211,    56,   201,   213,    58,   107,    83,\n",
       "         174,   100,   220,    73,   192,    68,    66,   299,    74,\n",
       "          52,   147,   310,    71,    97,    65,   239,   203,     5,\n",
       "         300,   103,    85,   258,   320,    63,    81,   148,    44,\n",
       "         145,   280,   260,   104,   188,   333,   186,   117,   141,\n",
       "         132,   234,   158,    39,    92,    51,   135,    59,   230,\n",
       "          53,   209,    43,   146,    67,   106,   166,   276,   344,\n",
       "          72,   249,   237,   245,   111,   326,   279,    23,   138,\n",
       "         175,    96,   226,    26,    37,   301,   334,   128,   133,\n",
       "         124,    33,   219,   241,   167,    94,   182,   196,   238,\n",
       "        1398,   228,   112,    48,   272,   139,    79,   256,   360,\n",
       "         243,   252,   396,   340,   121,   345,   187,   289,   222,\n",
       "         198,   284,   450,   233,   387,   347,   172,    57,   137,\n",
       "         212,   476,   314,     7,    47,   173,   290,   207,   205,\n",
       "         171,    78,    91,    89,   349,    40,   108,   325,    76,\n",
       "         350,   953,    93,   142,   343,   199,   119,   164,    16,\n",
       "         264,   152,   367,   240,   208,   210,    46,   435,  1001,\n",
       "         225,   127,   176,   161,   603,   307,   354,    35,   206,\n",
       "         771,   355,   273,   223,   255,   151,    30,   123,   154,\n",
       "         149,  7515,  1400,   268,   620,   400,   275,    34,     2,\n",
       "         242,  1779,   285,   162,   328,  1753,   329,   134,   420,\n",
       "         247,   168,   215,    18,   330,   283,   500,    62,    10,\n",
       "         183,   254,    15,   321,   315,   952,   169,   600,   181,\n",
       "         426,   379,    22,   157,    42,   195,   553,     4,   309,\n",
       "         507,   381,   271,   440,   189,   401,  2729,    21,   236,\n",
       "        1240,  1704,   521,     1,  1900,   270,    24,   159,   292,\n",
       "         515,  1200,   303,    29,    38,  1993,    14,   216,   610,\n",
       "         504,    49,   267,   331,   363,   261,   385,  1011,   253,\n",
       "         696, 10520,   376,   227,   311,    27,   217,    20,   322,\n",
       "        1999,    11,  1056,    25,   394,    12,   298,   296,  1659,\n",
       "         294,   551,  6920,   246,    17,  1625,   390,   221,  1367,\n",
       "         259,   606,  1597,   266,   374,   392,     9,   405,    13,\n",
       "         262,   601,   430,   295,     8,   411,   900,   541,  7512,\n",
       "         382, 10218,  7544,   999,   287,    19,   214,   751,   297,\n",
       "        1090,   457,   282,   602,   388,     6,  5411,   335,  1360,\n",
       "         202,  3750,   805,  1062,  2017,   750,  1024, 11530,   364,\n",
       "        1796,   269,   460,  1002,   288,  1780, 12012, 17932,   316,\n",
       "        2005,  1800,  1399,   191,   278,   380,   257,   449,  1256,\n",
       "         153,  1653,   520,   560,   281, 12510,     3,  1500,   386,\n",
       "          32,  1202,  2016,  1436,  1405,   671,   274,  1288,  1055,\n",
       "       10912,  6226,  1115,   277,  1105,   341,  1223,  2340,  8404,\n",
       "        1968,   338,   445,  1920,   370,   517,  4400, 10710, 10522,\n",
       "         431,  1164, 11509,   371,  1501,   428, 11635,   304,   348,\n",
       "        1703,  1995,   579, 10000,   580,   408,    31,   358,  1403,\n",
       "         489,  5575, 19211,   585,   365,   353,   490,   352,  1801,\n",
       "        1000,   346,   550,  3199,   800,  7508,  1312,  1937,   950,\n",
       "        4700,  1600,  3454, 19208,   251,   850,   337,   700,  2331,\n",
       "        2789,   487,    36,   519,  2461,  6006,  3500,  5815,  6018,\n",
       "        1781,  1503,   612,  1596,   229,  1506,  5809, 15020,  1300,\n",
       "        5867,  2172,  1598, 17410,  1363,   584,  1054,   851,  1339,\n",
       "         318,   510,   525,    28,  1151,   685,  6011,   317,   703,\n",
       "        1771, 15001,   514,   362,   332,   324,  6045,   425,   308,\n",
       "        6010,   475,   903,   640,  2000,   248,   651,  2799,   368,\n",
       "       17011,   505,  1103,  1521,   351, 16051,   398,  1998, 10311,\n",
       "         409,  1230, 17019, 12684,  8259,  1895,  1317,   871,   909,\n",
       "        2201,  1595,   776, 17700, 11011,  1199,   459,   357,  1162,\n",
       "        1120, 15033,  1896,   339,   361,   574,  6512,   454,   650,\n",
       "       13616,   604, 16312,  1082,   336, 20000,   416,   678,  1401,\n",
       "        1021,  1870,   375, 13636,  1250,  6012,   323,  1158,  2009,\n",
       "         902,  6062,  1275,   572,   244,   399,  1016,   743,  1221,\n",
       "        2402,  1362,   544,   645,   907,   702,  1003,  1432,  9013,\n",
       "         442,  1017, 15017, 10910,  1992,   540,  2018, 11025,  1433,\n",
       "        1701,  2792,  1502,  1239,  1390, 14009,  1160, 11111,  1783,\n",
       "        9007,   923,  1149,   754,  1988,  2004,  5420,  1793,   356,\n",
       "       12512,  7511,  1299,   293, 19312,  1079,  1689,   998,  1100,\n",
       "        1933,   508, 16311,   682,  1922,  7529,   732,  2389,  1005,\n",
       "        1707,  1416,  1700,  8500,  1012, 10110,   421,  4507,  1631,\n",
       "        7518,   377,  1004,  1799,  9012,  2007,  2598,  1548,  1241])"
      ]
     },
     "execution_count": 9,
     "metadata": {},
     "output_type": "execute_result"
    }
   ],
   "source": [
    "data['Power'].unique()"
   ]
  },
  {
   "cell_type": "markdown",
   "metadata": {},
   "source": [
    " Уберем значения равные 0 и более 1000, заменим их на медианные значения."
   ]
  },
  {
   "cell_type": "code",
   "execution_count": 10,
   "metadata": {},
   "outputs": [
    {
     "data": {
      "text/plain": [
       "array([ 101,  190,  163,   75,   69,  102,  109,  125,  105,  140,  115,\n",
       "        131,   60,  136,  160,  231,   50,  118,  193,   99,  113,  218,\n",
       "        122,  129,   70,  306,   95,   61,  177,  170,   55,  143,  155,\n",
       "        286,  232,  150,  156,   80,   82,   90,   54,  185,   87,  180,\n",
       "         86,   84,  224,  235,  200,  178,  265,   77,  110,  144,  120,\n",
       "        116,  184,  126,  204,  133,   88,  194,   64,  305,  197,  179,\n",
       "        250,   45,  245,  313,   41,  165,   98,  130,  114,  211,   56,\n",
       "        201,  213,   58,  107,   83,  174,  100,  220,   73,  192,   68,\n",
       "         66,  299,   74,   52,  147,  310,   71,   97,   65,  239,  203,\n",
       "          5,  300,  103,   85,  258,  320,   63,   81,  148,   44,  145,\n",
       "        280,  260,  104,  188,  333,  186,  117,  141,  132,  234,  158,\n",
       "         39,   92,   51,  135,   59,  230,   53,  209,   43,  146,   67,\n",
       "        106,  166,  340,  276,  344,   72,  249,  237,  111,  326,  279,\n",
       "         23,  138,  175,   96,  226,   26,   37,  301,  334,  128,  124,\n",
       "         33,  219,  241,  167,   94,  182,  196,  238,  228,  112,   48,\n",
       "        272,  139,   79,  256,  360,  243,  252,  396,  121,  233,  345,\n",
       "        187,  289,  222,  198,  284,  450,  387,  347,  172,   57,  137,\n",
       "        212,  476,  314,    7,   47,  173,  290,  207,  205,  171,   78,\n",
       "         91,   89,  349,   40,  108,  325,   76,  350,  953,   93,  142,\n",
       "        343,  199,  119,  164,   16,  264,  152,  367,  240,  208,  210,\n",
       "         46,  435,  225,  127,  176,  161,  603,  307,  354,   35,  206,\n",
       "        771,  355,  273,  223,  255,  151,   30,  123,  154,  149,  268,\n",
       "        620,  400,  275,   34,    2,  242,  285,  162,  328,  329,  134,\n",
       "        420,  247,  168,  215,   18,  330,  283,  500,   62,   10,  183,\n",
       "        254,   15,  321,  315,  952,  169,  600,  181,  426,  379,   22,\n",
       "        157,   42,  195,  553,    4,  309,  507,  381,  271,  440,  189,\n",
       "        401,   21,  236,  521,    1,  270,   24,  159,  292,  515,  303,\n",
       "         29,   38,   14,  216,  610,  504,   49,  267,  331,  363,  261,\n",
       "        385,  253,  696,  376,  227,  311,   27,  217,   20,  322,   11,\n",
       "         25,  394,   12,  298,  296,  294,  551,  246,   17,  390,  221,\n",
       "        259,  606,  266,  374,  392,    9,  405,   13,  262,  601,  430,\n",
       "        295,    8,  411,  900,  541,  382,  999,  287,   19,  214,  751,\n",
       "        297,  457,  282,  602,  388,    6,  335,  202,  805,  750,  364,\n",
       "        269,  460,  288,  316,  191,  278,  380,  257,  449,  153,  520,\n",
       "        560,  281,    3,  386,   32,  671,  274,  277,  341,  338,  445,\n",
       "        370,  517,  431,  371,  428,  304,  348,  579,  580,  408,   31,\n",
       "        358,  489,  585,  365,  353,  490,  352, 1000,  346,  550,  800,\n",
       "        950,  251,  850,  337,  700,  487,   36,  519,  612,  229,  584,\n",
       "        851,  318,  510,  525,   28,  685,  317,  703,  514,  362,  332,\n",
       "        324,  425,  308,  475,  903,  640,  248,  651,  368,  505,  351,\n",
       "        398,  409,  871,  909,  776,  459,  357,  339,  361,  574,  454,\n",
       "        650,  604,  336,  416,  678,  375,  323,  902,  572,  244,  399,\n",
       "        743,  544,  645,  907,  702,  442,  540,  923,  754,  356,  293,\n",
       "        998,  508,  682,  732,  421,  377])"
      ]
     },
     "execution_count": 10,
     "metadata": {},
     "output_type": "execute_result"
    }
   ],
   "source": [
    "data.loc[(data['Power'] > 1000) | (data['Power'] <= 0), 'Power'] = None\n",
    "data['Power'] = data['Power'].fillna(data.groupby('Model')['Power'].transform('median'))\n",
    "data = data.loc[~data['Power'].isna()]\n",
    "data['Power'] = data['Power'].astype('int64')\n",
    "data['Power'].unique()"
   ]
  },
  {
   "cell_type": "markdown",
   "metadata": {},
   "source": [
    "**Kilometer**"
   ]
  },
  {
   "cell_type": "code",
   "execution_count": 11,
   "metadata": {},
   "outputs": [
    {
     "data": {
      "text/plain": [
       "array([150000, 125000,  90000,  30000,  70000, 100000,  60000,   5000,\n",
       "        20000,  80000,  50000,  40000,  10000])"
      ]
     },
     "execution_count": 11,
     "metadata": {},
     "output_type": "execute_result"
    }
   ],
   "source": [
    "data['Kilometer'].unique()"
   ]
  },
  {
   "cell_type": "markdown",
   "metadata": {},
   "source": [
    "Данные в порядке "
   ]
  },
  {
   "cell_type": "markdown",
   "metadata": {},
   "source": [
    "**RegistrationMonth**"
   ]
  },
  {
   "cell_type": "code",
   "execution_count": 12,
   "metadata": {},
   "outputs": [
    {
     "data": {
      "text/plain": [
       "array([ 0,  5,  8,  6,  7, 10, 12, 11,  2,  3,  1,  4,  9])"
      ]
     },
     "execution_count": 12,
     "metadata": {},
     "output_type": "execute_result"
    }
   ],
   "source": [
    "data['RegistrationMonth'].unique()"
   ]
  },
  {
   "cell_type": "markdown",
   "metadata": {},
   "source": [
    "**NumberOfPictures**"
   ]
  },
  {
   "cell_type": "code",
   "execution_count": 13,
   "metadata": {},
   "outputs": [
    {
     "data": {
      "text/plain": [
       "array([0])"
      ]
     },
     "execution_count": 13,
     "metadata": {},
     "output_type": "execute_result"
    }
   ],
   "source": [
    "data['NumberOfPictures'].unique()"
   ]
  },
  {
   "cell_type": "markdown",
   "metadata": {},
   "source": [
    "Нет никаких данных,удалим данный столбец"
   ]
  },
  {
   "cell_type": "code",
   "execution_count": 14,
   "metadata": {},
   "outputs": [],
   "source": [
    "data = data.drop(['NumberOfPictures'], axis=1)"
   ]
  },
  {
   "cell_type": "markdown",
   "metadata": {},
   "source": [
    "**PostalCode**"
   ]
  },
  {
   "cell_type": "markdown",
   "metadata": {},
   "source": [
    "На мой взгляд для обучение модели данный столбец не несет полезной информации "
   ]
  },
  {
   "cell_type": "code",
   "execution_count": 15,
   "metadata": {},
   "outputs": [],
   "source": [
    "data = data.drop(['PostalCode'], axis=1)"
   ]
  },
  {
   "cell_type": "markdown",
   "metadata": {},
   "source": [
    "**Рассмотрим категориальные признаки**"
   ]
  },
  {
   "cell_type": "markdown",
   "metadata": {},
   "source": [
    "**VehicleType**"
   ]
  },
  {
   "cell_type": "code",
   "execution_count": 16,
   "metadata": {},
   "outputs": [
    {
     "data": {
      "text/plain": [
       "array([nan, 'coupe', 'suv', 'small', 'sedan', 'convertible', 'bus',\n",
       "       'wagon', 'other'], dtype=object)"
      ]
     },
     "execution_count": 16,
     "metadata": {},
     "output_type": "execute_result"
    }
   ],
   "source": [
    "data['VehicleType'].unique()"
   ]
  },
  {
   "cell_type": "markdown",
   "metadata": {},
   "source": [
    "Заменим пустые значения на значение no_info"
   ]
  },
  {
   "cell_type": "code",
   "execution_count": 17,
   "metadata": {},
   "outputs": [],
   "source": [
    "data['VehicleType'] = data['VehicleType'].fillna('no_info')"
   ]
  },
  {
   "cell_type": "markdown",
   "metadata": {},
   "source": [
    "**Gearbox**"
   ]
  },
  {
   "cell_type": "code",
   "execution_count": 18,
   "metadata": {},
   "outputs": [
    {
     "data": {
      "text/plain": [
       "array(['manual', 'auto', nan], dtype=object)"
      ]
     },
     "execution_count": 18,
     "metadata": {},
     "output_type": "execute_result"
    }
   ],
   "source": [
    "data['Gearbox'].unique()"
   ]
  },
  {
   "cell_type": "markdown",
   "metadata": {},
   "source": [
    "Заполним пустые значения "
   ]
  },
  {
   "cell_type": "code",
   "execution_count": 19,
   "metadata": {},
   "outputs": [],
   "source": [
    "data.fillna({'Gearbox':'manual'}, inplace=True)"
   ]
  },
  {
   "cell_type": "markdown",
   "metadata": {},
   "source": [
    "**Model**"
   ]
  },
  {
   "cell_type": "code",
   "execution_count": 20,
   "metadata": {},
   "outputs": [],
   "source": [
    "data['Model'].unique()\n",
    "data.fillna({'Model':'unknown'}, inplace=True)"
   ]
  },
  {
   "cell_type": "markdown",
   "metadata": {},
   "source": [
    "**FuelType**"
   ]
  },
  {
   "cell_type": "code",
   "execution_count": 21,
   "metadata": {},
   "outputs": [
    {
     "data": {
      "text/plain": [
       "array(['gasoline', 'unknown', 'lpg', 'other', 'hybrid', 'cng', 'electric'],\n",
       "      dtype=object)"
      ]
     },
     "execution_count": 21,
     "metadata": {},
     "output_type": "execute_result"
    }
   ],
   "source": [
    "data['FuelType'].unique()\n",
    "data['FuelType'].replace({\"petrol\": \"gasoline\"}, inplace=True)\n",
    "data.fillna({'FuelType':'unknown'}, inplace=True)\n",
    "data['FuelType'].unique()"
   ]
  },
  {
   "cell_type": "markdown",
   "metadata": {},
   "source": [
    "**Brand**"
   ]
  },
  {
   "cell_type": "code",
   "execution_count": 22,
   "metadata": {},
   "outputs": [
    {
     "data": {
      "text/plain": [
       "array(['volkswagen', 'audi', 'jeep', 'skoda', 'bmw', 'peugeot', 'ford',\n",
       "       'mazda', 'nissan', 'renault', 'mercedes_benz', 'seat', 'honda',\n",
       "       'fiat', 'opel', 'mini', 'smart', 'hyundai', 'sonstige_autos',\n",
       "       'alfa_romeo', 'subaru', 'volvo', 'mitsubishi', 'kia', 'suzuki',\n",
       "       'lancia', 'citroen', 'toyota', 'chevrolet', 'dacia', 'daihatsu',\n",
       "       'chrysler', 'jaguar', 'daewoo', 'porsche', 'rover', 'saab',\n",
       "       'trabant', 'land_rover', 'lada'], dtype=object)"
      ]
     },
     "execution_count": 22,
     "metadata": {},
     "output_type": "execute_result"
    }
   ],
   "source": [
    "data['Brand'].unique()"
   ]
  },
  {
   "cell_type": "markdown",
   "metadata": {},
   "source": [
    "**Repaired**"
   ]
  },
  {
   "cell_type": "code",
   "execution_count": 23,
   "metadata": {},
   "outputs": [
    {
     "data": {
      "text/plain": [
       "array([nan, 'yes', 'no'], dtype=object)"
      ]
     },
     "execution_count": 23,
     "metadata": {},
     "output_type": "execute_result"
    }
   ],
   "source": [
    "data['Repaired'].unique()"
   ]
  },
  {
   "cell_type": "markdown",
   "metadata": {},
   "source": [
    "Преобладают машины, которые не были ремонтированы, может тогда не зря так компания назвается)) "
   ]
  },
  {
   "cell_type": "code",
   "execution_count": 24,
   "metadata": {},
   "outputs": [
    {
     "name": "stdout",
     "output_type": "stream",
     "text": [
      "no     235755\n",
      "yes     32487\n",
      "Name: Repaired, dtype: int64\n"
     ]
    }
   ],
   "source": [
    "counts_rep = data['Repaired'].value_counts()\n",
    "print(counts_rep)"
   ]
  },
  {
   "cell_type": "code",
   "execution_count": 25,
   "metadata": {},
   "outputs": [],
   "source": [
    "data['Repaired'].fillna('no', inplace=True)"
   ]
  },
  {
   "cell_type": "markdown",
   "metadata": {},
   "source": [
    "**DateCreated**"
   ]
  },
  {
   "cell_type": "markdown",
   "metadata": {},
   "source": [
    "Преобразуем в количество дней с момента создания - переведем в количественный признак"
   ]
  },
  {
   "cell_type": "code",
   "execution_count": 26,
   "metadata": {},
   "outputs": [],
   "source": [
    "date_start= pd.Timestamp(min(data['DateCreated']))\n",
    "data['DateCreated'] = data['DateCreated'].map(lambda date : (pd.Timestamp(date) - date_start).days)"
   ]
  },
  {
   "cell_type": "markdown",
   "metadata": {},
   "source": [
    "**Уберем оставшиеся признаки, они не понадобятся ненужные признаки DateCrawled и LastSeen**"
   ]
  },
  {
   "cell_type": "code",
   "execution_count": 27,
   "metadata": {},
   "outputs": [],
   "source": [
    "data = data.drop(['DateCrawled', 'LastSeen', 'RegistrationMonth', 'DateCreated'], axis=1)"
   ]
  },
  {
   "cell_type": "markdown",
   "metadata": {},
   "source": [
    "**Удалим явные дубликаты**"
   ]
  },
  {
   "cell_type": "code",
   "execution_count": 28,
   "metadata": {},
   "outputs": [],
   "source": [
    "data = data.drop_duplicates()"
   ]
  },
  {
   "cell_type": "code",
   "execution_count": 29,
   "metadata": {},
   "outputs": [
    {
     "data": {
      "text/html": [
       "<div>\n",
       "<style scoped>\n",
       "    .dataframe tbody tr th:only-of-type {\n",
       "        vertical-align: middle;\n",
       "    }\n",
       "\n",
       "    .dataframe tbody tr th {\n",
       "        vertical-align: top;\n",
       "    }\n",
       "\n",
       "    .dataframe thead th {\n",
       "        text-align: right;\n",
       "    }\n",
       "</style>\n",
       "<table border=\"1\" class=\"dataframe\">\n",
       "  <thead>\n",
       "    <tr style=\"text-align: right;\">\n",
       "      <th></th>\n",
       "      <th>Price</th>\n",
       "      <th>VehicleType</th>\n",
       "      <th>RegistrationYear</th>\n",
       "      <th>Gearbox</th>\n",
       "      <th>Power</th>\n",
       "      <th>Model</th>\n",
       "      <th>Kilometer</th>\n",
       "      <th>FuelType</th>\n",
       "      <th>Brand</th>\n",
       "      <th>Repaired</th>\n",
       "    </tr>\n",
       "  </thead>\n",
       "  <tbody>\n",
       "    <tr>\n",
       "      <th>0</th>\n",
       "      <td>480</td>\n",
       "      <td>no_info</td>\n",
       "      <td>1993</td>\n",
       "      <td>manual</td>\n",
       "      <td>101</td>\n",
       "      <td>golf</td>\n",
       "      <td>150000</td>\n",
       "      <td>gasoline</td>\n",
       "      <td>volkswagen</td>\n",
       "      <td>no</td>\n",
       "    </tr>\n",
       "    <tr>\n",
       "      <th>1</th>\n",
       "      <td>18300</td>\n",
       "      <td>coupe</td>\n",
       "      <td>2011</td>\n",
       "      <td>manual</td>\n",
       "      <td>190</td>\n",
       "      <td>unknown</td>\n",
       "      <td>125000</td>\n",
       "      <td>gasoline</td>\n",
       "      <td>audi</td>\n",
       "      <td>yes</td>\n",
       "    </tr>\n",
       "    <tr>\n",
       "      <th>2</th>\n",
       "      <td>9800</td>\n",
       "      <td>suv</td>\n",
       "      <td>2004</td>\n",
       "      <td>auto</td>\n",
       "      <td>163</td>\n",
       "      <td>grand</td>\n",
       "      <td>125000</td>\n",
       "      <td>gasoline</td>\n",
       "      <td>jeep</td>\n",
       "      <td>no</td>\n",
       "    </tr>\n",
       "    <tr>\n",
       "      <th>3</th>\n",
       "      <td>1500</td>\n",
       "      <td>small</td>\n",
       "      <td>2001</td>\n",
       "      <td>manual</td>\n",
       "      <td>75</td>\n",
       "      <td>golf</td>\n",
       "      <td>150000</td>\n",
       "      <td>gasoline</td>\n",
       "      <td>volkswagen</td>\n",
       "      <td>no</td>\n",
       "    </tr>\n",
       "    <tr>\n",
       "      <th>4</th>\n",
       "      <td>3600</td>\n",
       "      <td>small</td>\n",
       "      <td>2008</td>\n",
       "      <td>manual</td>\n",
       "      <td>69</td>\n",
       "      <td>fabia</td>\n",
       "      <td>90000</td>\n",
       "      <td>gasoline</td>\n",
       "      <td>skoda</td>\n",
       "      <td>no</td>\n",
       "    </tr>\n",
       "    <tr>\n",
       "      <th>...</th>\n",
       "      <td>...</td>\n",
       "      <td>...</td>\n",
       "      <td>...</td>\n",
       "      <td>...</td>\n",
       "      <td>...</td>\n",
       "      <td>...</td>\n",
       "      <td>...</td>\n",
       "      <td>...</td>\n",
       "      <td>...</td>\n",
       "      <td>...</td>\n",
       "    </tr>\n",
       "    <tr>\n",
       "      <th>272567</th>\n",
       "      <td>5250</td>\n",
       "      <td>no_info</td>\n",
       "      <td>2016</td>\n",
       "      <td>auto</td>\n",
       "      <td>150</td>\n",
       "      <td>159</td>\n",
       "      <td>150000</td>\n",
       "      <td>unknown</td>\n",
       "      <td>alfa_romeo</td>\n",
       "      <td>no</td>\n",
       "    </tr>\n",
       "    <tr>\n",
       "      <th>272568</th>\n",
       "      <td>3200</td>\n",
       "      <td>sedan</td>\n",
       "      <td>2004</td>\n",
       "      <td>manual</td>\n",
       "      <td>225</td>\n",
       "      <td>leon</td>\n",
       "      <td>150000</td>\n",
       "      <td>gasoline</td>\n",
       "      <td>seat</td>\n",
       "      <td>yes</td>\n",
       "    </tr>\n",
       "    <tr>\n",
       "      <th>272569</th>\n",
       "      <td>1199</td>\n",
       "      <td>convertible</td>\n",
       "      <td>2000</td>\n",
       "      <td>auto</td>\n",
       "      <td>101</td>\n",
       "      <td>fortwo</td>\n",
       "      <td>125000</td>\n",
       "      <td>gasoline</td>\n",
       "      <td>smart</td>\n",
       "      <td>no</td>\n",
       "    </tr>\n",
       "    <tr>\n",
       "      <th>272570</th>\n",
       "      <td>9200</td>\n",
       "      <td>bus</td>\n",
       "      <td>1996</td>\n",
       "      <td>manual</td>\n",
       "      <td>102</td>\n",
       "      <td>transporter</td>\n",
       "      <td>150000</td>\n",
       "      <td>gasoline</td>\n",
       "      <td>volkswagen</td>\n",
       "      <td>no</td>\n",
       "    </tr>\n",
       "    <tr>\n",
       "      <th>272571</th>\n",
       "      <td>3400</td>\n",
       "      <td>wagon</td>\n",
       "      <td>2002</td>\n",
       "      <td>manual</td>\n",
       "      <td>100</td>\n",
       "      <td>golf</td>\n",
       "      <td>150000</td>\n",
       "      <td>gasoline</td>\n",
       "      <td>volkswagen</td>\n",
       "      <td>no</td>\n",
       "    </tr>\n",
       "  </tbody>\n",
       "</table>\n",
       "<p>272572 rows × 10 columns</p>\n",
       "</div>"
      ],
      "text/plain": [
       "        Price  VehicleType  RegistrationYear Gearbox  Power        Model  \\\n",
       "0         480      no_info              1993  manual    101         golf   \n",
       "1       18300        coupe              2011  manual    190      unknown   \n",
       "2        9800          suv              2004    auto    163        grand   \n",
       "3        1500        small              2001  manual     75         golf   \n",
       "4        3600        small              2008  manual     69        fabia   \n",
       "...       ...          ...               ...     ...    ...          ...   \n",
       "272567   5250      no_info              2016    auto    150          159   \n",
       "272568   3200        sedan              2004  manual    225         leon   \n",
       "272569   1199  convertible              2000    auto    101       fortwo   \n",
       "272570   9200          bus              1996  manual    102  transporter   \n",
       "272571   3400        wagon              2002  manual    100         golf   \n",
       "\n",
       "        Kilometer  FuelType       Brand Repaired  \n",
       "0          150000  gasoline  volkswagen       no  \n",
       "1          125000  gasoline        audi      yes  \n",
       "2          125000  gasoline        jeep       no  \n",
       "3          150000  gasoline  volkswagen       no  \n",
       "4           90000  gasoline       skoda       no  \n",
       "...           ...       ...         ...      ...  \n",
       "272567     150000   unknown  alfa_romeo       no  \n",
       "272568     150000  gasoline        seat      yes  \n",
       "272569     125000  gasoline       smart       no  \n",
       "272570     150000  gasoline  volkswagen       no  \n",
       "272571     150000  gasoline  volkswagen       no  \n",
       "\n",
       "[272572 rows x 10 columns]"
      ]
     },
     "metadata": {},
     "output_type": "display_data"
    },
    {
     "name": "stdout",
     "output_type": "stream",
     "text": [
      "<class 'pandas.core.frame.DataFrame'>\n",
      "RangeIndex: 272572 entries, 0 to 272571\n",
      "Data columns (total 10 columns):\n",
      " #   Column            Non-Null Count   Dtype \n",
      "---  ------            --------------   ----- \n",
      " 0   Price             272572 non-null  int64 \n",
      " 1   VehicleType       272572 non-null  object\n",
      " 2   RegistrationYear  272572 non-null  int64 \n",
      " 3   Gearbox           272572 non-null  object\n",
      " 4   Power             272572 non-null  int64 \n",
      " 5   Model             272572 non-null  object\n",
      " 6   Kilometer         272572 non-null  int64 \n",
      " 7   FuelType          272572 non-null  object\n",
      " 8   Brand             272572 non-null  object\n",
      " 9   Repaired          272572 non-null  object\n",
      "dtypes: int64(4), object(6)\n",
      "memory usage: 20.8+ MB\n"
     ]
    }
   ],
   "source": [
    "data = data.reset_index(drop=True)\n",
    "display(data)\n",
    "data.info()"
   ]
  },
  {
   "cell_type": "markdown",
   "metadata": {},
   "source": [
    "**Выводы по имеющимся данным и их обработке**\n",
    "\n",
    "- Удалили признаки, которые никак не влияют на целевой признак ('NumberOfPictures', 'PostalCode', 'DateCrawled', 'LastSeen')\n",
    "- Удалили дубликаты\n",
    "- Избавились от выбросов в целевом, колдичественных и категориальных признаках\n",
    "- Заполнили пропуски\n",
    "\n",
    "Данных для продолжения работы достаточно"
   ]
  },
  {
   "cell_type": "code",
   "execution_count": 30,
   "metadata": {},
   "outputs": [
    {
     "data": {
      "text/html": [
       "<style  type=\"text/css\" >\n",
       "#T_5f990_row0_col0,#T_5f990_row1_col1,#T_5f990_row2_col2,#T_5f990_row3_col3,#T_5f990_row4_col4,#T_5f990_row5_col5,#T_5f990_row5_col8,#T_5f990_row6_col6,#T_5f990_row7_col7,#T_5f990_row8_col5,#T_5f990_row8_col8,#T_5f990_row9_col9{\n",
       "            background-color:  #b40426;\n",
       "            color:  #f1f1f1;\n",
       "        }#T_5f990_row0_col1,#T_5f990_row6_col1{\n",
       "            background-color:  #86a9fc;\n",
       "            color:  #000000;\n",
       "        }#T_5f990_row0_col2{\n",
       "            background-color:  #f2c9b4;\n",
       "            color:  #000000;\n",
       "        }#T_5f990_row0_col3{\n",
       "            background-color:  #9abbff;\n",
       "            color:  #000000;\n",
       "        }#T_5f990_row0_col4,#T_5f990_row5_col6{\n",
       "            background-color:  #c4d5f3;\n",
       "            color:  #000000;\n",
       "        }#T_5f990_row0_col5{\n",
       "            background-color:  #dfdbd9;\n",
       "            color:  #000000;\n",
       "        }#T_5f990_row0_col6{\n",
       "            background-color:  #94b6ff;\n",
       "            color:  #000000;\n",
       "        }#T_5f990_row0_col7{\n",
       "            background-color:  #5d7ce6;\n",
       "            color:  #000000;\n",
       "        }#T_5f990_row0_col8,#T_5f990_row6_col2{\n",
       "            background-color:  #9fbfff;\n",
       "            color:  #000000;\n",
       "        }#T_5f990_row0_col9{\n",
       "            background-color:  #9ebeff;\n",
       "            color:  #000000;\n",
       "        }#T_5f990_row1_col0{\n",
       "            background-color:  #6c8ff1;\n",
       "            color:  #000000;\n",
       "        }#T_5f990_row1_col2{\n",
       "            background-color:  #7a9df8;\n",
       "            color:  #000000;\n",
       "        }#T_5f990_row1_col3{\n",
       "            background-color:  #7597f6;\n",
       "            color:  #000000;\n",
       "        }#T_5f990_row1_col4{\n",
       "            background-color:  #c3d5f4;\n",
       "            color:  #000000;\n",
       "        }#T_5f990_row1_col5{\n",
       "            background-color:  #dd5f4b;\n",
       "            color:  #000000;\n",
       "        }#T_5f990_row1_col6,#T_5f990_row2_col1{\n",
       "            background-color:  #8badfd;\n",
       "            color:  #000000;\n",
       "        }#T_5f990_row1_col7{\n",
       "            background-color:  #93b5fe;\n",
       "            color:  #000000;\n",
       "        }#T_5f990_row1_col8,#T_5f990_row3_col5{\n",
       "            background-color:  #e9d5cb;\n",
       "            color:  #000000;\n",
       "        }#T_5f990_row1_col9,#T_5f990_row7_col4{\n",
       "            background-color:  #4358cb;\n",
       "            color:  #f1f1f1;\n",
       "        }#T_5f990_row2_col0,#T_5f990_row5_col3{\n",
       "            background-color:  #f1cdba;\n",
       "            color:  #000000;\n",
       "        }#T_5f990_row2_col3,#T_5f990_row6_col9{\n",
       "            background-color:  #516ddb;\n",
       "            color:  #000000;\n",
       "        }#T_5f990_row2_col4{\n",
       "            background-color:  #6687ed;\n",
       "            color:  #000000;\n",
       "        }#T_5f990_row2_col5{\n",
       "            background-color:  #edd2c3;\n",
       "            color:  #000000;\n",
       "        }#T_5f990_row2_col6{\n",
       "            background-color:  #afcafc;\n",
       "            color:  #000000;\n",
       "        }#T_5f990_row2_col7,#T_5f990_row4_col6{\n",
       "            background-color:  #5572df;\n",
       "            color:  #000000;\n",
       "        }#T_5f990_row2_col8{\n",
       "            background-color:  #a2c1ff;\n",
       "            color:  #000000;\n",
       "        }#T_5f990_row2_col9{\n",
       "            background-color:  #6485ec;\n",
       "            color:  #000000;\n",
       "        }#T_5f990_row3_col0,#T_5f990_row6_col8{\n",
       "            background-color:  #7da0f9;\n",
       "            color:  #000000;\n",
       "        }#T_5f990_row3_col1{\n",
       "            background-color:  #7093f3;\n",
       "            color:  #000000;\n",
       "        }#T_5f990_row3_col2,#T_5f990_row3_col6,#T_5f990_row7_col0,#T_5f990_row7_col2,#T_5f990_row7_col9,#T_5f990_row9_col1,#T_5f990_row9_col3,#T_5f990_row9_col4,#T_5f990_row9_col5,#T_5f990_row9_col7,#T_5f990_row9_col8{\n",
       "            background-color:  #3b4cc0;\n",
       "            color:  #f1f1f1;\n",
       "        }#T_5f990_row3_col4{\n",
       "            background-color:  #d1dae9;\n",
       "            color:  #000000;\n",
       "        }#T_5f990_row3_col7,#T_5f990_row8_col9,#T_5f990_row9_col6{\n",
       "            background-color:  #4c66d6;\n",
       "            color:  #000000;\n",
       "        }#T_5f990_row3_col8{\n",
       "            background-color:  #cfdaea;\n",
       "            color:  #000000;\n",
       "        }#T_5f990_row3_col9{\n",
       "            background-color:  #3d50c3;\n",
       "            color:  #f1f1f1;\n",
       "        }#T_5f990_row4_col0{\n",
       "            background-color:  #b3cdfb;\n",
       "            color:  #000000;\n",
       "        }#T_5f990_row4_col1{\n",
       "            background-color:  #c5d6f2;\n",
       "            color:  #000000;\n",
       "        }#T_5f990_row4_col2{\n",
       "            background-color:  #5673e0;\n",
       "            color:  #000000;\n",
       "        }#T_5f990_row4_col3,#T_5f990_row8_col4{\n",
       "            background-color:  #d5dbe5;\n",
       "            color:  #000000;\n",
       "        }#T_5f990_row4_col5{\n",
       "            background-color:  #f7b396;\n",
       "            color:  #000000;\n",
       "        }#T_5f990_row4_col7,#T_5f990_row6_col4,#T_5f990_row7_col6{\n",
       "            background-color:  #4e68d8;\n",
       "            color:  #000000;\n",
       "        }#T_5f990_row4_col8{\n",
       "            background-color:  #d2dbe8;\n",
       "            color:  #000000;\n",
       "        }#T_5f990_row4_col9{\n",
       "            background-color:  #455cce;\n",
       "            color:  #f1f1f1;\n",
       "        }#T_5f990_row5_col0{\n",
       "            background-color:  #dedcdb;\n",
       "            color:  #000000;\n",
       "        }#T_5f990_row5_col1{\n",
       "            background-color:  #d95847;\n",
       "            color:  #000000;\n",
       "        }#T_5f990_row5_col2{\n",
       "            background-color:  #efcfbf;\n",
       "            color:  #000000;\n",
       "        }#T_5f990_row5_col4{\n",
       "            background-color:  #f7aa8c;\n",
       "            color:  #000000;\n",
       "        }#T_5f990_row5_col7,#T_5f990_row6_col5{\n",
       "            background-color:  #b1cbfc;\n",
       "            color:  #000000;\n",
       "        }#T_5f990_row5_col9{\n",
       "            background-color:  #5a78e4;\n",
       "            color:  #000000;\n",
       "        }#T_5f990_row6_col0{\n",
       "            background-color:  #799cf8;\n",
       "            color:  #000000;\n",
       "        }#T_5f990_row6_col3{\n",
       "            background-color:  #3c4ec2;\n",
       "            color:  #f1f1f1;\n",
       "        }#T_5f990_row6_col7{\n",
       "            background-color:  #536edd;\n",
       "            color:  #000000;\n",
       "        }#T_5f990_row7_col1{\n",
       "            background-color:  #8caffe;\n",
       "            color:  #000000;\n",
       "        }#T_5f990_row7_col3{\n",
       "            background-color:  #4a63d3;\n",
       "            color:  #f1f1f1;\n",
       "        }#T_5f990_row7_col5{\n",
       "            background-color:  #97b8ff;\n",
       "            color:  #000000;\n",
       "        }#T_5f990_row7_col8{\n",
       "            background-color:  #7396f5;\n",
       "            color:  #000000;\n",
       "        }#T_5f990_row8_col0{\n",
       "            background-color:  #90b2fe;\n",
       "            color:  #000000;\n",
       "        }#T_5f990_row8_col1{\n",
       "            background-color:  #ecd3c5;\n",
       "            color:  #000000;\n",
       "        }#T_5f990_row8_col2{\n",
       "            background-color:  #9dbdff;\n",
       "            color:  #000000;\n",
       "        }#T_5f990_row8_col3{\n",
       "            background-color:  #d7dce3;\n",
       "            color:  #000000;\n",
       "        }#T_5f990_row8_col6{\n",
       "            background-color:  #89acfd;\n",
       "            color:  #000000;\n",
       "        }#T_5f990_row8_col7{\n",
       "            background-color:  #85a8fc;\n",
       "            color:  #000000;\n",
       "        }#T_5f990_row9_col0{\n",
       "            background-color:  #7ea1fa;\n",
       "            color:  #000000;\n",
       "        }#T_5f990_row9_col2{\n",
       "            background-color:  #4b64d5;\n",
       "            color:  #f1f1f1;\n",
       "        }</style><table id=\"T_5f990_\" ><thead>    <tr>        <th class=\"blank level0\" ></th>        <th class=\"col_heading level0 col0\" >Price</th>        <th class=\"col_heading level0 col1\" >VehicleType</th>        <th class=\"col_heading level0 col2\" >RegistrationYear</th>        <th class=\"col_heading level0 col3\" >Gearbox</th>        <th class=\"col_heading level0 col4\" >Power</th>        <th class=\"col_heading level0 col5\" >Model</th>        <th class=\"col_heading level0 col6\" >Kilometer</th>        <th class=\"col_heading level0 col7\" >FuelType</th>        <th class=\"col_heading level0 col8\" >Brand</th>        <th class=\"col_heading level0 col9\" >Repaired</th>    </tr></thead><tbody>\n",
       "                <tr>\n",
       "                        <th id=\"T_5f990_level0_row0\" class=\"row_heading level0 row0\" >Price</th>\n",
       "                        <td id=\"T_5f990_row0_col0\" class=\"data row0 col0\" >1.000000</td>\n",
       "                        <td id=\"T_5f990_row0_col1\" class=\"data row0 col1\" >0.271585</td>\n",
       "                        <td id=\"T_5f990_row0_col2\" class=\"data row0 col2\" >0.648067</td>\n",
       "                        <td id=\"T_5f990_row0_col3\" class=\"data row0 col3\" >0.311314</td>\n",
       "                        <td id=\"T_5f990_row0_col4\" class=\"data row0 col4\" >0.446927</td>\n",
       "                        <td id=\"T_5f990_row0_col5\" class=\"data row0 col5\" >0.572212</td>\n",
       "                        <td id=\"T_5f990_row0_col6\" class=\"data row0 col6\" >0.302171</td>\n",
       "                        <td id=\"T_5f990_row0_col7\" class=\"data row0 col7\" >0.134630</td>\n",
       "                        <td id=\"T_5f990_row0_col8\" class=\"data row0 col8\" >0.360344</td>\n",
       "                        <td id=\"T_5f990_row0_col9\" class=\"data row0 col9\" >0.316713</td>\n",
       "            </tr>\n",
       "            <tr>\n",
       "                        <th id=\"T_5f990_level0_row1\" class=\"row_heading level0 row1\" >VehicleType</th>\n",
       "                        <td id=\"T_5f990_row1_col0\" class=\"data row1 col0\" >0.271585</td>\n",
       "                        <td id=\"T_5f990_row1_col1\" class=\"data row1 col1\" >1.000000</td>\n",
       "                        <td id=\"T_5f990_row1_col2\" class=\"data row1 col2\" >0.283463</td>\n",
       "                        <td id=\"T_5f990_row1_col3\" class=\"data row1 col3\" >0.212709</td>\n",
       "                        <td id=\"T_5f990_row1_col4\" class=\"data row1 col4\" >0.445414</td>\n",
       "                        <td id=\"T_5f990_row1_col5\" class=\"data row1 col5\" >0.892749</td>\n",
       "                        <td id=\"T_5f990_row1_col6\" class=\"data row1 col6\" >0.274546</td>\n",
       "                        <td id=\"T_5f990_row1_col7\" class=\"data row1 col7\" >0.287666</td>\n",
       "                        <td id=\"T_5f990_row1_col8\" class=\"data row1 col8\" >0.586641</td>\n",
       "                        <td id=\"T_5f990_row1_col9\" class=\"data row1 col9\" >0.052751</td>\n",
       "            </tr>\n",
       "            <tr>\n",
       "                        <th id=\"T_5f990_level0_row2\" class=\"row_heading level0 row2\" >RegistrationYear</th>\n",
       "                        <td id=\"T_5f990_row2_col0\" class=\"data row2 col0\" >0.648067</td>\n",
       "                        <td id=\"T_5f990_row2_col1\" class=\"data row2 col1\" >0.283463</td>\n",
       "                        <td id=\"T_5f990_row2_col2\" class=\"data row2 col2\" >1.000000</td>\n",
       "                        <td id=\"T_5f990_row2_col3\" class=\"data row2 col3\" >0.107855</td>\n",
       "                        <td id=\"T_5f990_row2_col4\" class=\"data row2 col4\" >0.190771</td>\n",
       "                        <td id=\"T_5f990_row2_col5\" class=\"data row2 col5\" >0.624154</td>\n",
       "                        <td id=\"T_5f990_row2_col6\" class=\"data row2 col6\" >0.378372</td>\n",
       "                        <td id=\"T_5f990_row2_col7\" class=\"data row2 col7\" >0.109878</td>\n",
       "                        <td id=\"T_5f990_row2_col8\" class=\"data row2 col8\" >0.369872</td>\n",
       "                        <td id=\"T_5f990_row2_col9\" class=\"data row2 col9\" >0.158889</td>\n",
       "            </tr>\n",
       "            <tr>\n",
       "                        <th id=\"T_5f990_level0_row3\" class=\"row_heading level0 row3\" >Gearbox</th>\n",
       "                        <td id=\"T_5f990_row3_col0\" class=\"data row3 col0\" >0.311314</td>\n",
       "                        <td id=\"T_5f990_row3_col1\" class=\"data row3 col1\" >0.212709</td>\n",
       "                        <td id=\"T_5f990_row3_col2\" class=\"data row3 col2\" >0.107855</td>\n",
       "                        <td id=\"T_5f990_row3_col3\" class=\"data row3 col3\" >1.000000</td>\n",
       "                        <td id=\"T_5f990_row3_col4\" class=\"data row3 col4\" >0.488326</td>\n",
       "                        <td id=\"T_5f990_row3_col5\" class=\"data row3 col5\" >0.606512</td>\n",
       "                        <td id=\"T_5f990_row3_col6\" class=\"data row3 col6\" >0.041894</td>\n",
       "                        <td id=\"T_5f990_row3_col7\" class=\"data row3 col7\" >0.086391</td>\n",
       "                        <td id=\"T_5f990_row3_col8\" class=\"data row3 col8\" >0.498412</td>\n",
       "                        <td id=\"T_5f990_row3_col9\" class=\"data row3 col9\" >0.036225</td>\n",
       "            </tr>\n",
       "            <tr>\n",
       "                        <th id=\"T_5f990_level0_row4\" class=\"row_heading level0 row4\" >Power</th>\n",
       "                        <td id=\"T_5f990_row4_col0\" class=\"data row4 col0\" >0.446927</td>\n",
       "                        <td id=\"T_5f990_row4_col1\" class=\"data row4 col1\" >0.445414</td>\n",
       "                        <td id=\"T_5f990_row4_col2\" class=\"data row4 col2\" >0.190771</td>\n",
       "                        <td id=\"T_5f990_row4_col3\" class=\"data row4 col3\" >0.488326</td>\n",
       "                        <td id=\"T_5f990_row4_col4\" class=\"data row4 col4\" >1.000000</td>\n",
       "                        <td id=\"T_5f990_row4_col5\" class=\"data row4 col5\" >0.722741</td>\n",
       "                        <td id=\"T_5f990_row4_col6\" class=\"data row4 col6\" >0.124331</td>\n",
       "                        <td id=\"T_5f990_row4_col7\" class=\"data row4 col7\" >0.087937</td>\n",
       "                        <td id=\"T_5f990_row4_col8\" class=\"data row4 col8\" >0.503972</td>\n",
       "                        <td id=\"T_5f990_row4_col9\" class=\"data row4 col9\" >0.062095</td>\n",
       "            </tr>\n",
       "            <tr>\n",
       "                        <th id=\"T_5f990_level0_row5\" class=\"row_heading level0 row5\" >Model</th>\n",
       "                        <td id=\"T_5f990_row5_col0\" class=\"data row5 col0\" >0.572212</td>\n",
       "                        <td id=\"T_5f990_row5_col1\" class=\"data row5 col1\" >0.892749</td>\n",
       "                        <td id=\"T_5f990_row5_col2\" class=\"data row5 col2\" >0.624154</td>\n",
       "                        <td id=\"T_5f990_row5_col3\" class=\"data row5 col3\" >0.606512</td>\n",
       "                        <td id=\"T_5f990_row5_col4\" class=\"data row5 col4\" >0.722741</td>\n",
       "                        <td id=\"T_5f990_row5_col5\" class=\"data row5 col5\" >1.000000</td>\n",
       "                        <td id=\"T_5f990_row5_col6\" class=\"data row5 col6\" >0.434869</td>\n",
       "                        <td id=\"T_5f990_row5_col7\" class=\"data row5 col7\" >0.370629</td>\n",
       "                        <td id=\"T_5f990_row5_col8\" class=\"data row5 col8\" >0.997935</td>\n",
       "                        <td id=\"T_5f990_row5_col9\" class=\"data row5 col9\" >0.128020</td>\n",
       "            </tr>\n",
       "            <tr>\n",
       "                        <th id=\"T_5f990_level0_row6\" class=\"row_heading level0 row6\" >Kilometer</th>\n",
       "                        <td id=\"T_5f990_row6_col0\" class=\"data row6 col0\" >0.302171</td>\n",
       "                        <td id=\"T_5f990_row6_col1\" class=\"data row6 col1\" >0.274546</td>\n",
       "                        <td id=\"T_5f990_row6_col2\" class=\"data row6 col2\" >0.378372</td>\n",
       "                        <td id=\"T_5f990_row6_col3\" class=\"data row6 col3\" >0.041894</td>\n",
       "                        <td id=\"T_5f990_row6_col4\" class=\"data row6 col4\" >0.124331</td>\n",
       "                        <td id=\"T_5f990_row6_col5\" class=\"data row6 col5\" >0.434869</td>\n",
       "                        <td id=\"T_5f990_row6_col6\" class=\"data row6 col6\" >1.000000</td>\n",
       "                        <td id=\"T_5f990_row6_col7\" class=\"data row6 col7\" >0.103696</td>\n",
       "                        <td id=\"T_5f990_row6_col8\" class=\"data row6 col8\" >0.270934</td>\n",
       "                        <td id=\"T_5f990_row6_col9\" class=\"data row6 col9\" >0.098617</td>\n",
       "            </tr>\n",
       "            <tr>\n",
       "                        <th id=\"T_5f990_level0_row7\" class=\"row_heading level0 row7\" >FuelType</th>\n",
       "                        <td id=\"T_5f990_row7_col0\" class=\"data row7 col0\" >0.134630</td>\n",
       "                        <td id=\"T_5f990_row7_col1\" class=\"data row7 col1\" >0.287666</td>\n",
       "                        <td id=\"T_5f990_row7_col2\" class=\"data row7 col2\" >0.109878</td>\n",
       "                        <td id=\"T_5f990_row7_col3\" class=\"data row7 col3\" >0.086391</td>\n",
       "                        <td id=\"T_5f990_row7_col4\" class=\"data row7 col4\" >0.087937</td>\n",
       "                        <td id=\"T_5f990_row7_col5\" class=\"data row7 col5\" >0.370629</td>\n",
       "                        <td id=\"T_5f990_row7_col6\" class=\"data row7 col6\" >0.103696</td>\n",
       "                        <td id=\"T_5f990_row7_col7\" class=\"data row7 col7\" >1.000000</td>\n",
       "                        <td id=\"T_5f990_row7_col8\" class=\"data row7 col8\" >0.248913</td>\n",
       "                        <td id=\"T_5f990_row7_col9\" class=\"data row7 col9\" >0.025693</td>\n",
       "            </tr>\n",
       "            <tr>\n",
       "                        <th id=\"T_5f990_level0_row8\" class=\"row_heading level0 row8\" >Brand</th>\n",
       "                        <td id=\"T_5f990_row8_col0\" class=\"data row8 col0\" >0.360344</td>\n",
       "                        <td id=\"T_5f990_row8_col1\" class=\"data row8 col1\" >0.586641</td>\n",
       "                        <td id=\"T_5f990_row8_col2\" class=\"data row8 col2\" >0.369872</td>\n",
       "                        <td id=\"T_5f990_row8_col3\" class=\"data row8 col3\" >0.498412</td>\n",
       "                        <td id=\"T_5f990_row8_col4\" class=\"data row8 col4\" >0.503972</td>\n",
       "                        <td id=\"T_5f990_row8_col5\" class=\"data row8 col5\" >0.997935</td>\n",
       "                        <td id=\"T_5f990_row8_col6\" class=\"data row8 col6\" >0.270934</td>\n",
       "                        <td id=\"T_5f990_row8_col7\" class=\"data row8 col7\" >0.248913</td>\n",
       "                        <td id=\"T_5f990_row8_col8\" class=\"data row8 col8\" >1.000000</td>\n",
       "                        <td id=\"T_5f990_row8_col9\" class=\"data row8 col9\" >0.084661</td>\n",
       "            </tr>\n",
       "            <tr>\n",
       "                        <th id=\"T_5f990_level0_row9\" class=\"row_heading level0 row9\" >Repaired</th>\n",
       "                        <td id=\"T_5f990_row9_col0\" class=\"data row9 col0\" >0.316713</td>\n",
       "                        <td id=\"T_5f990_row9_col1\" class=\"data row9 col1\" >0.052751</td>\n",
       "                        <td id=\"T_5f990_row9_col2\" class=\"data row9 col2\" >0.158889</td>\n",
       "                        <td id=\"T_5f990_row9_col3\" class=\"data row9 col3\" >0.036225</td>\n",
       "                        <td id=\"T_5f990_row9_col4\" class=\"data row9 col4\" >0.062095</td>\n",
       "                        <td id=\"T_5f990_row9_col5\" class=\"data row9 col5\" >0.128020</td>\n",
       "                        <td id=\"T_5f990_row9_col6\" class=\"data row9 col6\" >0.098617</td>\n",
       "                        <td id=\"T_5f990_row9_col7\" class=\"data row9 col7\" >0.025693</td>\n",
       "                        <td id=\"T_5f990_row9_col8\" class=\"data row9 col8\" >0.084661</td>\n",
       "                        <td id=\"T_5f990_row9_col9\" class=\"data row9 col9\" >1.000000</td>\n",
       "            </tr>\n",
       "    </tbody></table>"
      ],
      "text/plain": [
       "<pandas.io.formats.style.Styler at 0x7fc4ac0cadf0>"
      ]
     },
     "execution_count": 30,
     "metadata": {},
     "output_type": "execute_result"
    }
   ],
   "source": [
    "data.phik_matrix(interval_cols = ['Price', 'RegistrationYear', 'Power', 'Kilometer']).style.background_gradient(cmap ='coolwarm')"
   ]
  },
  {
   "cell_type": "markdown",
   "metadata": {},
   "source": [
    "Model имеет сильную связь с  VehicleType и Model, думаю правильно будет удалить данный столбец."
   ]
  },
  {
   "cell_type": "code",
   "execution_count": 31,
   "metadata": {},
   "outputs": [
    {
     "data": {
      "text/html": [
       "<style  type=\"text/css\" >\n",
       "#T_27009_row0_col0,#T_27009_row1_col1,#T_27009_row2_col2,#T_27009_row3_col3,#T_27009_row4_col4,#T_27009_row5_col5,#T_27009_row6_col6,#T_27009_row7_col7,#T_27009_row8_col8{\n",
       "            background-color:  #b40426;\n",
       "            color:  #f1f1f1;\n",
       "        }#T_27009_row0_col1{\n",
       "            background-color:  #86a9fc;\n",
       "            color:  #000000;\n",
       "        }#T_27009_row0_col2{\n",
       "            background-color:  #f3c7b1;\n",
       "            color:  #000000;\n",
       "        }#T_27009_row0_col3,#T_27009_row0_col5{\n",
       "            background-color:  #9abbff;\n",
       "            color:  #000000;\n",
       "        }#T_27009_row0_col4{\n",
       "            background-color:  #ead5c9;\n",
       "            color:  #000000;\n",
       "        }#T_27009_row0_col6{\n",
       "            background-color:  #5d7ce6;\n",
       "            color:  #000000;\n",
       "        }#T_27009_row0_col7,#T_27009_row2_col7{\n",
       "            background-color:  #9fbfff;\n",
       "            color:  #000000;\n",
       "        }#T_27009_row0_col8{\n",
       "            background-color:  #9ebeff;\n",
       "            color:  #000000;\n",
       "        }#T_27009_row1_col0{\n",
       "            background-color:  #6c8ff1;\n",
       "            color:  #000000;\n",
       "        }#T_27009_row1_col2,#T_27009_row3_col4{\n",
       "            background-color:  #ead4c8;\n",
       "            color:  #000000;\n",
       "        }#T_27009_row1_col3{\n",
       "            background-color:  #7597f6;\n",
       "            color:  #000000;\n",
       "        }#T_27009_row1_col4{\n",
       "            background-color:  #f5c2aa;\n",
       "            color:  #000000;\n",
       "        }#T_27009_row1_col5,#T_27009_row6_col7{\n",
       "            background-color:  #7396f5;\n",
       "            color:  #000000;\n",
       "        }#T_27009_row1_col6{\n",
       "            background-color:  #93b5fe;\n",
       "            color:  #000000;\n",
       "        }#T_27009_row1_col7{\n",
       "            background-color:  #e9d5cb;\n",
       "            color:  #000000;\n",
       "        }#T_27009_row1_col8{\n",
       "            background-color:  #4358cb;\n",
       "            color:  #f1f1f1;\n",
       "        }#T_27009_row2_col0{\n",
       "            background-color:  #f3c8b2;\n",
       "            color:  #000000;\n",
       "        }#T_27009_row2_col1{\n",
       "            background-color:  #f0cdbb;\n",
       "            color:  #000000;\n",
       "        }#T_27009_row2_col3{\n",
       "            background-color:  #5572df;\n",
       "            color:  #000000;\n",
       "        }#T_27009_row2_col4,#T_27009_row4_col2{\n",
       "            background-color:  #f7bca1;\n",
       "            color:  #000000;\n",
       "        }#T_27009_row2_col5{\n",
       "            background-color:  #f2cbb7;\n",
       "            color:  #000000;\n",
       "        }#T_27009_row2_col6{\n",
       "            background-color:  #8fb1fe;\n",
       "            color:  #000000;\n",
       "        }#T_27009_row2_col8{\n",
       "            background-color:  #688aef;\n",
       "            color:  #000000;\n",
       "        }#T_27009_row3_col0{\n",
       "            background-color:  #7da0f9;\n",
       "            color:  #000000;\n",
       "        }#T_27009_row3_col1,#T_27009_row5_col1{\n",
       "            background-color:  #7093f3;\n",
       "            color:  #000000;\n",
       "        }#T_27009_row3_col2,#T_27009_row3_col5,#T_27009_row6_col0,#T_27009_row6_col8,#T_27009_row8_col1,#T_27009_row8_col3,#T_27009_row8_col4,#T_27009_row8_col6,#T_27009_row8_col7{\n",
       "            background-color:  #3b4cc0;\n",
       "            color:  #f1f1f1;\n",
       "        }#T_27009_row3_col6,#T_27009_row7_col8{\n",
       "            background-color:  #4c66d6;\n",
       "            color:  #000000;\n",
       "        }#T_27009_row3_col7{\n",
       "            background-color:  #cfdaea;\n",
       "            color:  #000000;\n",
       "        }#T_27009_row3_col8,#T_27009_row5_col3{\n",
       "            background-color:  #3d50c3;\n",
       "            color:  #f1f1f1;\n",
       "        }#T_27009_row4_col0{\n",
       "            background-color:  #e8d6cc;\n",
       "            color:  #000000;\n",
       "        }#T_27009_row4_col1{\n",
       "            background-color:  #f7ba9f;\n",
       "            color:  #000000;\n",
       "        }#T_27009_row4_col3{\n",
       "            background-color:  #f1ccb8;\n",
       "            color:  #000000;\n",
       "        }#T_27009_row4_col5{\n",
       "            background-color:  #adc9fd;\n",
       "            color:  #000000;\n",
       "        }#T_27009_row4_col6{\n",
       "            background-color:  #d6dce4;\n",
       "            color:  #000000;\n",
       "        }#T_27009_row4_col7{\n",
       "            background-color:  #d1493f;\n",
       "            color:  #f1f1f1;\n",
       "        }#T_27009_row4_col8{\n",
       "            background-color:  #5977e3;\n",
       "            color:  #000000;\n",
       "        }#T_27009_row5_col0{\n",
       "            background-color:  #80a3fa;\n",
       "            color:  #000000;\n",
       "        }#T_27009_row5_col2,#T_27009_row7_col1{\n",
       "            background-color:  #ecd3c5;\n",
       "            color:  #000000;\n",
       "        }#T_27009_row5_col4{\n",
       "            background-color:  #98b9ff;\n",
       "            color:  #000000;\n",
       "        }#T_27009_row5_col6{\n",
       "            background-color:  #5a78e4;\n",
       "            color:  #000000;\n",
       "        }#T_27009_row5_col7{\n",
       "            background-color:  #7a9df8;\n",
       "            color:  #000000;\n",
       "        }#T_27009_row5_col8,#T_27009_row6_col5{\n",
       "            background-color:  #5470de;\n",
       "            color:  #000000;\n",
       "        }#T_27009_row6_col1{\n",
       "            background-color:  #8caffe;\n",
       "            color:  #000000;\n",
       "        }#T_27009_row6_col2{\n",
       "            background-color:  #7295f4;\n",
       "            color:  #000000;\n",
       "        }#T_27009_row6_col3,#T_27009_row8_col2{\n",
       "            background-color:  #4a63d3;\n",
       "            color:  #f1f1f1;\n",
       "        }#T_27009_row6_col4{\n",
       "            background-color:  #c6d6f1;\n",
       "            color:  #000000;\n",
       "        }#T_27009_row7_col0{\n",
       "            background-color:  #90b2fe;\n",
       "            color:  #000000;\n",
       "        }#T_27009_row7_col2{\n",
       "            background-color:  #96b7ff;\n",
       "            color:  #000000;\n",
       "        }#T_27009_row7_col3{\n",
       "            background-color:  #d7dce3;\n",
       "            color:  #000000;\n",
       "        }#T_27009_row7_col4{\n",
       "            background-color:  #d24b40;\n",
       "            color:  #f1f1f1;\n",
       "        }#T_27009_row7_col5,#T_27009_row7_col6{\n",
       "            background-color:  #85a8fc;\n",
       "            color:  #000000;\n",
       "        }#T_27009_row8_col0{\n",
       "            background-color:  #7ea1fa;\n",
       "            color:  #000000;\n",
       "        }#T_27009_row8_col5{\n",
       "            background-color:  #4e68d8;\n",
       "            color:  #000000;\n",
       "        }</style><table id=\"T_27009_\" ><thead>    <tr>        <th class=\"blank level0\" ></th>        <th class=\"col_heading level0 col0\" >Price</th>        <th class=\"col_heading level0 col1\" >VehicleType</th>        <th class=\"col_heading level0 col2\" >RegistrationYear</th>        <th class=\"col_heading level0 col3\" >Gearbox</th>        <th class=\"col_heading level0 col4\" >Power</th>        <th class=\"col_heading level0 col5\" >Kilometer</th>        <th class=\"col_heading level0 col6\" >FuelType</th>        <th class=\"col_heading level0 col7\" >Brand</th>        <th class=\"col_heading level0 col8\" >Repaired</th>    </tr></thead><tbody>\n",
       "                <tr>\n",
       "                        <th id=\"T_27009_level0_row0\" class=\"row_heading level0 row0\" >Price</th>\n",
       "                        <td id=\"T_27009_row0_col0\" class=\"data row0 col0\" >1.000000</td>\n",
       "                        <td id=\"T_27009_row0_col1\" class=\"data row0 col1\" >0.271585</td>\n",
       "                        <td id=\"T_27009_row0_col2\" class=\"data row0 col2\" >0.663338</td>\n",
       "                        <td id=\"T_27009_row0_col3\" class=\"data row0 col3\" >0.311314</td>\n",
       "                        <td id=\"T_27009_row0_col4\" class=\"data row0 col4\" >0.606933</td>\n",
       "                        <td id=\"T_27009_row0_col5\" class=\"data row0 col5\" >0.317384</td>\n",
       "                        <td id=\"T_27009_row0_col6\" class=\"data row0 col6\" >0.134630</td>\n",
       "                        <td id=\"T_27009_row0_col7\" class=\"data row0 col7\" >0.360344</td>\n",
       "                        <td id=\"T_27009_row0_col8\" class=\"data row0 col8\" >0.316713</td>\n",
       "            </tr>\n",
       "            <tr>\n",
       "                        <th id=\"T_27009_level0_row1\" class=\"row_heading level0 row1\" >VehicleType</th>\n",
       "                        <td id=\"T_27009_row1_col0\" class=\"data row1 col0\" >0.271585</td>\n",
       "                        <td id=\"T_27009_row1_col1\" class=\"data row1 col1\" >1.000000</td>\n",
       "                        <td id=\"T_27009_row1_col2\" class=\"data row1 col2\" >0.609168</td>\n",
       "                        <td id=\"T_27009_row1_col3\" class=\"data row1 col3\" >0.212709</td>\n",
       "                        <td id=\"T_27009_row1_col4\" class=\"data row1 col4\" >0.677114</td>\n",
       "                        <td id=\"T_27009_row1_col5\" class=\"data row1 col5\" >0.213131</td>\n",
       "                        <td id=\"T_27009_row1_col6\" class=\"data row1 col6\" >0.287666</td>\n",
       "                        <td id=\"T_27009_row1_col7\" class=\"data row1 col7\" >0.586641</td>\n",
       "                        <td id=\"T_27009_row1_col8\" class=\"data row1 col8\" >0.052751</td>\n",
       "            </tr>\n",
       "            <tr>\n",
       "                        <th id=\"T_27009_level0_row2\" class=\"row_heading level0 row2\" >RegistrationYear</th>\n",
       "                        <td id=\"T_27009_row2_col0\" class=\"data row2 col0\" >0.663338</td>\n",
       "                        <td id=\"T_27009_row2_col1\" class=\"data row2 col1\" >0.609168</td>\n",
       "                        <td id=\"T_27009_row2_col2\" class=\"data row2 col2\" >1.000000</td>\n",
       "                        <td id=\"T_27009_row2_col3\" class=\"data row2 col3\" >0.121863</td>\n",
       "                        <td id=\"T_27009_row2_col4\" class=\"data row2 col4\" >0.697911</td>\n",
       "                        <td id=\"T_27009_row2_col5\" class=\"data row2 col5\" >0.619152</td>\n",
       "                        <td id=\"T_27009_row2_col6\" class=\"data row2 col6\" >0.275671</td>\n",
       "                        <td id=\"T_27009_row2_col7\" class=\"data row2 col7\" >0.362532</td>\n",
       "                        <td id=\"T_27009_row2_col8\" class=\"data row2 col8\" >0.166886</td>\n",
       "            </tr>\n",
       "            <tr>\n",
       "                        <th id=\"T_27009_level0_row3\" class=\"row_heading level0 row3\" >Gearbox</th>\n",
       "                        <td id=\"T_27009_row3_col0\" class=\"data row3 col0\" >0.311314</td>\n",
       "                        <td id=\"T_27009_row3_col1\" class=\"data row3 col1\" >0.212709</td>\n",
       "                        <td id=\"T_27009_row3_col2\" class=\"data row3 col2\" >0.121863</td>\n",
       "                        <td id=\"T_27009_row3_col3\" class=\"data row3 col3\" >1.000000</td>\n",
       "                        <td id=\"T_27009_row3_col4\" class=\"data row3 col4\" >0.611320</td>\n",
       "                        <td id=\"T_27009_row3_col5\" class=\"data row3 col5\" >0.045076</td>\n",
       "                        <td id=\"T_27009_row3_col6\" class=\"data row3 col6\" >0.086391</td>\n",
       "                        <td id=\"T_27009_row3_col7\" class=\"data row3 col7\" >0.498412</td>\n",
       "                        <td id=\"T_27009_row3_col8\" class=\"data row3 col8\" >0.036225</td>\n",
       "            </tr>\n",
       "            <tr>\n",
       "                        <th id=\"T_27009_level0_row4\" class=\"row_heading level0 row4\" >Power</th>\n",
       "                        <td id=\"T_27009_row4_col0\" class=\"data row4 col0\" >0.606933</td>\n",
       "                        <td id=\"T_27009_row4_col1\" class=\"data row4 col1\" >0.677114</td>\n",
       "                        <td id=\"T_27009_row4_col2\" class=\"data row4 col2\" >0.697911</td>\n",
       "                        <td id=\"T_27009_row4_col3\" class=\"data row4 col3\" >0.611320</td>\n",
       "                        <td id=\"T_27009_row4_col4\" class=\"data row4 col4\" >1.000000</td>\n",
       "                        <td id=\"T_27009_row4_col5\" class=\"data row4 col5\" >0.371252</td>\n",
       "                        <td id=\"T_27009_row4_col6\" class=\"data row4 col6\" >0.489831</td>\n",
       "                        <td id=\"T_27009_row4_col7\" class=\"data row4 col7\" >0.922250</td>\n",
       "                        <td id=\"T_27009_row4_col8\" class=\"data row4 col8\" >0.122125</td>\n",
       "            </tr>\n",
       "            <tr>\n",
       "                        <th id=\"T_27009_level0_row5\" class=\"row_heading level0 row5\" >Kilometer</th>\n",
       "                        <td id=\"T_27009_row5_col0\" class=\"data row5 col0\" >0.317384</td>\n",
       "                        <td id=\"T_27009_row5_col1\" class=\"data row5 col1\" >0.213131</td>\n",
       "                        <td id=\"T_27009_row5_col2\" class=\"data row5 col2\" >0.619152</td>\n",
       "                        <td id=\"T_27009_row5_col3\" class=\"data row5 col3\" >0.045076</td>\n",
       "                        <td id=\"T_27009_row5_col4\" class=\"data row5 col4\" >0.371252</td>\n",
       "                        <td id=\"T_27009_row5_col5\" class=\"data row5 col5\" >1.000000</td>\n",
       "                        <td id=\"T_27009_row5_col6\" class=\"data row5 col6\" >0.126669</td>\n",
       "                        <td id=\"T_27009_row5_col7\" class=\"data row5 col7\" >0.265028</td>\n",
       "                        <td id=\"T_27009_row5_col8\" class=\"data row5 col8\" >0.106408</td>\n",
       "            </tr>\n",
       "            <tr>\n",
       "                        <th id=\"T_27009_level0_row6\" class=\"row_heading level0 row6\" >FuelType</th>\n",
       "                        <td id=\"T_27009_row6_col0\" class=\"data row6 col0\" >0.134630</td>\n",
       "                        <td id=\"T_27009_row6_col1\" class=\"data row6 col1\" >0.287666</td>\n",
       "                        <td id=\"T_27009_row6_col2\" class=\"data row6 col2\" >0.275671</td>\n",
       "                        <td id=\"T_27009_row6_col3\" class=\"data row6 col3\" >0.086391</td>\n",
       "                        <td id=\"T_27009_row6_col4\" class=\"data row6 col4\" >0.489831</td>\n",
       "                        <td id=\"T_27009_row6_col5\" class=\"data row6 col5\" >0.126669</td>\n",
       "                        <td id=\"T_27009_row6_col6\" class=\"data row6 col6\" >1.000000</td>\n",
       "                        <td id=\"T_27009_row6_col7\" class=\"data row6 col7\" >0.248913</td>\n",
       "                        <td id=\"T_27009_row6_col8\" class=\"data row6 col8\" >0.025693</td>\n",
       "            </tr>\n",
       "            <tr>\n",
       "                        <th id=\"T_27009_level0_row7\" class=\"row_heading level0 row7\" >Brand</th>\n",
       "                        <td id=\"T_27009_row7_col0\" class=\"data row7 col0\" >0.360344</td>\n",
       "                        <td id=\"T_27009_row7_col1\" class=\"data row7 col1\" >0.586641</td>\n",
       "                        <td id=\"T_27009_row7_col2\" class=\"data row7 col2\" >0.362532</td>\n",
       "                        <td id=\"T_27009_row7_col3\" class=\"data row7 col3\" >0.498412</td>\n",
       "                        <td id=\"T_27009_row7_col4\" class=\"data row7 col4\" >0.922250</td>\n",
       "                        <td id=\"T_27009_row7_col5\" class=\"data row7 col5\" >0.265028</td>\n",
       "                        <td id=\"T_27009_row7_col6\" class=\"data row7 col6\" >0.248913</td>\n",
       "                        <td id=\"T_27009_row7_col7\" class=\"data row7 col7\" >1.000000</td>\n",
       "                        <td id=\"T_27009_row7_col8\" class=\"data row7 col8\" >0.084661</td>\n",
       "            </tr>\n",
       "            <tr>\n",
       "                        <th id=\"T_27009_level0_row8\" class=\"row_heading level0 row8\" >Repaired</th>\n",
       "                        <td id=\"T_27009_row8_col0\" class=\"data row8 col0\" >0.316713</td>\n",
       "                        <td id=\"T_27009_row8_col1\" class=\"data row8 col1\" >0.052751</td>\n",
       "                        <td id=\"T_27009_row8_col2\" class=\"data row8 col2\" >0.166886</td>\n",
       "                        <td id=\"T_27009_row8_col3\" class=\"data row8 col3\" >0.036225</td>\n",
       "                        <td id=\"T_27009_row8_col4\" class=\"data row8 col4\" >0.122125</td>\n",
       "                        <td id=\"T_27009_row8_col5\" class=\"data row8 col5\" >0.106408</td>\n",
       "                        <td id=\"T_27009_row8_col6\" class=\"data row8 col6\" >0.025693</td>\n",
       "                        <td id=\"T_27009_row8_col7\" class=\"data row8 col7\" >0.084661</td>\n",
       "                        <td id=\"T_27009_row8_col8\" class=\"data row8 col8\" >1.000000</td>\n",
       "            </tr>\n",
       "    </tbody></table>"
      ],
      "text/plain": [
       "<pandas.io.formats.style.Styler at 0x7fc4acba4df0>"
      ]
     },
     "execution_count": 31,
     "metadata": {},
     "output_type": "execute_result"
    }
   ],
   "source": [
    "data = data.drop(['Model'], axis=1)\n",
    "data.phik_matrix(interval_cols = ['Price']).style.background_gradient(cmap ='coolwarm')"
   ]
  },
  {
   "cell_type": "markdown",
   "metadata": {},
   "source": [
    "## Обучение моделей"
   ]
  },
  {
   "cell_type": "code",
   "execution_count": 32,
   "metadata": {},
   "outputs": [
    {
     "name": "stdout",
     "output_type": "stream",
     "text": [
      "(218057, 8)\n",
      "(54515, 8)\n",
      "(218057,)\n",
      "(54515,)\n"
     ]
    }
   ],
   "source": [
    "RANDOM_STATE = 12345\n",
    "features = data.drop(['Price'], axis=1)\n",
    "target = data['Price']\n",
    "X_train, X_test, y_train, y_test = train_test_split(features, target, test_size=.20, random_state=RANDOM_STATE)\n",
    "\n",
    "for i in [X_train, X_test, y_train, y_test]:\n",
    "    print(i.shape) "
   ]
  },
  {
   "cell_type": "markdown",
   "metadata": {},
   "source": [
    "**Пайплайн для подбора гиперпараметров моделей Ringe, DesicionTree и Linearregression**"
   ]
  },
  {
   "cell_type": "code",
   "execution_count": 41,
   "metadata": {},
   "outputs": [
    {
     "name": "stdout",
     "output_type": "stream",
     "text": [
      "Модель: Ridge\n",
      "RMSE на кроссвалидации: [2944.08534737 2952.21549658 2956.65539576 2939.19881807 2987.34369098]\n",
      "Среднее значение RMSE на кроссвалидации: 2955.8997497517757\n",
      "Время обучения: 2.51 seconds\n",
      "--------------------------------------------------\n",
      "Лучшие гиперпараметры: Ridge: {'ridge__alpha': 1.0}\n",
      "RMSE модели для тестовой выборки Ridge: 2914.0735640630014\n",
      "Время обучения: 0.07 seconds\n",
      "--------------------------------------------------\n",
      "Модель: DecisionTree\n",
      "RMSE на кроссвалидации: [2083.64021113 2129.74259136 2088.63334956 2115.79236634 2126.78981927]\n",
      "Среднее значение RMSE на кроссвалидации: 2108.919667531474\n",
      "Время обучения: 107.80 seconds\n",
      "--------------------------------------------------\n",
      "Лучшие гиперпараметры: DecisionTree: {'decisiontree__max_depth': 10, 'decisiontree__min_samples_split': 7}\n",
      "RMSE модели для тестовой выборки DecisionTree: 2056.169341340854\n",
      "Время обучения: 0.07 seconds\n",
      "--------------------------------------------------\n",
      "Модель: LinearRegression\n",
      "RMSE на кроссвалидации: [2943.37321184 2952.00704527 2956.11762299 2939.2736559  2987.03162738]\n",
      "Среднее значение RMSE на кроссвалидации: 2955.560632673993\n",
      "Время обучения: 19.82 seconds\n",
      "--------------------------------------------------\n",
      "Лучшие гиперпараметры: LinearRegression: {}\n",
      "RMSE модели для тестовой выборки LinearRegression: 2913.9877590798887\n",
      "Время обучения: 0.25 seconds\n",
      "--------------------------------------------------\n"
     ]
    }
   ],
   "source": [
    "# Определение количественных и категориальных признаков\n",
    "numerical_features = ['RegistrationYear', 'Kilometer', 'Power']\n",
    "categorical_features = ['VehicleType', 'FuelType', 'Brand', 'Repaired', 'Gearbox']\n",
    "\n",
    "# Препроцессинг для количественных и категориальных признаков\n",
    "numerical_transformer = Pipeline(steps=[\n",
    "    ('imputer', SimpleImputer(strategy='mean')),  # Заполнение пропусков\n",
    "    ('scaler', StandardScaler())  # Стандартизация\n",
    "])\n",
    "\n",
    "categorical_transformer = Pipeline(steps=[\n",
    "    ('imputer', SimpleImputer(strategy='most_frequent')),  # Заполнение пропусков\n",
    "    ('onehot', OneHotEncoder(handle_unknown='ignore'))  # Однократное кодирование\n",
    "])\n",
    "\n",
    "# Комбинирование препроцессинга\n",
    "preprocessor = ColumnTransformer(\n",
    "    transformers=[\n",
    "        ('num', numerical_transformer, numerical_features),\n",
    "        ('cat', categorical_transformer, categorical_features)\n",
    "    ])\n",
    "\n",
    "# Определение моделей и их гиперпараметров для GridSearch\n",
    "models = {\n",
    "    'Ridge': (Ridge(), {'ridge__alpha': [0.1, 1.0, 10.0]}),\n",
    "    'DecisionTree': (DecisionTreeRegressor(), {'decisiontree__max_depth': [2, 4, 6, 8, 10], 'decisiontree__min_samples_split': [2, 5, 7]}),\n",
    "    'LinearRegression': (LinearRegression(), {})\n",
    "}\n",
    "\n",
    "# Подбор гиперпараметров для каждой модели\n",
    "for model_name, (model, param_grid) in models.items():\n",
    "    # Создание пайплайна\n",
    "    pipeline = Pipeline(steps=[\n",
    "        ('preprocessor', preprocessor),\n",
    "        (model_name.lower(), model)\n",
    "    ])\n",
    "\n",
    "# Измерение времени обучения\n",
    "    start_time = time.time()\n",
    "    scores = cross_val_score(pipeline, X_train, y_train, cv=5, scoring='neg_mean_squared_error')\n",
    "    end_time = time.time()\n",
    "    training_time = end_time - start_time\n",
    "\n",
    "    mse_scores = -scores  # Преобразуем отрицательные значения MSE в положительные\n",
    "    rmse_scores = np.sqrt(mse_scores)\n",
    "\n",
    "    # Вывод результатов\n",
    "    print(f\"Модель: {model_name}\")\n",
    "    print(f\"RMSE на кроссвалидации: {rmse_scores}\")\n",
    "    print(f\"Среднее значение RMSE на кроссвалидации: {rmse_scores.mean()}\")\n",
    "    print(f\"Время обучения: {training_time:.2f} seconds\")\n",
    "    print(\"-\" * 50)\n",
    "    \n",
    "    # Поиск оптимальных гиперпараметров с использованием GridSearchCV\n",
    "    three_models = GridSearchCV(pipeline, param_grid, cv=5, scoring='neg_mean_squared_error', random_state=RANDOM_STATE)\n",
    "    three_models.fit(X_train, y_train)\n",
    "\n",
    "    # Оценка модели на тестовой выборке\n",
    "    start_time = time.time()\n",
    "    y_pred = three_models.predict(X_test)\n",
    "    end_time = time.time()\n",
    "    training_time = end_time - start_time\n",
    "    rmse = np.sqrt(mean_squared_error(y_test, y_pred))\n",
    "    print(f\"Лучшие гиперпараметры: {model_name}: {three_models.best_params_}\")\n",
    "    print(f\"RMSE модели для тестовой выборки {model_name}: {rmse}\")\n",
    "    print(f\"Время обучения: {training_time:.2f} seconds\")\n",
    "    print(\"-\" * 50)"
   ]
  },
  {
   "cell_type": "markdown",
   "metadata": {},
   "source": [
    "**Регрессия CatBoostRegressor**"
   ]
  },
  {
   "cell_type": "code",
   "execution_count": 34,
   "metadata": {},
   "outputs": [],
   "source": [
    "cat_features = ['VehicleType','FuelType', 'Repaired', 'Gearbox', 'Brand']"
   ]
  },
  {
   "cell_type": "code",
   "execution_count": 35,
   "metadata": {},
   "outputs": [
    {
     "name": "stdout",
     "output_type": "stream",
     "text": [
      "Learning rate set to 0.5\n",
      "0:\tlearn: 3302.4575561\ttotal: 118ms\tremaining: 11.7s\n",
      "1:\tlearn: 2718.6660156\ttotal: 172ms\tremaining: 8.43s\n",
      "2:\tlearn: 2465.4520532\ttotal: 236ms\tremaining: 7.63s\n",
      "3:\tlearn: 2315.1422889\ttotal: 295ms\tremaining: 7.09s\n",
      "4:\tlearn: 2194.5882143\ttotal: 362ms\tremaining: 6.87s\n",
      "5:\tlearn: 2137.4864417\ttotal: 417ms\tremaining: 6.53s\n",
      "6:\tlearn: 2076.9850448\ttotal: 469ms\tremaining: 6.23s\n",
      "7:\tlearn: 2046.7504052\ttotal: 525ms\tremaining: 6.04s\n",
      "8:\tlearn: 2025.6875766\ttotal: 583ms\tremaining: 5.9s\n",
      "9:\tlearn: 2009.2217020\ttotal: 638ms\tremaining: 5.74s\n",
      "10:\tlearn: 1987.9782053\ttotal: 694ms\tremaining: 5.62s\n",
      "11:\tlearn: 1977.3646931\ttotal: 753ms\tremaining: 5.52s\n",
      "12:\tlearn: 1965.5327117\ttotal: 816ms\tremaining: 5.46s\n",
      "13:\tlearn: 1957.1014216\ttotal: 878ms\tremaining: 5.39s\n",
      "14:\tlearn: 1945.2101305\ttotal: 933ms\tremaining: 5.29s\n",
      "15:\tlearn: 1932.1372006\ttotal: 986ms\tremaining: 5.18s\n",
      "16:\tlearn: 1925.9742901\ttotal: 1.04s\tremaining: 5.09s\n",
      "17:\tlearn: 1922.9260473\ttotal: 1.1s\tremaining: 5s\n",
      "18:\tlearn: 1918.7076254\ttotal: 1.15s\tremaining: 4.92s\n",
      "19:\tlearn: 1913.8534438\ttotal: 1.21s\tremaining: 4.84s\n",
      "20:\tlearn: 1907.6133302\ttotal: 1.27s\tremaining: 4.79s\n",
      "21:\tlearn: 1903.7395792\ttotal: 1.33s\tremaining: 4.72s\n",
      "22:\tlearn: 1899.1739912\ttotal: 1.39s\tremaining: 4.64s\n",
      "23:\tlearn: 1896.1749719\ttotal: 1.44s\tremaining: 4.56s\n",
      "24:\tlearn: 1889.4599382\ttotal: 1.49s\tremaining: 4.48s\n",
      "25:\tlearn: 1886.8505449\ttotal: 1.55s\tremaining: 4.42s\n",
      "26:\tlearn: 1881.6575069\ttotal: 1.61s\tremaining: 4.35s\n",
      "27:\tlearn: 1877.8801406\ttotal: 1.67s\tremaining: 4.28s\n",
      "28:\tlearn: 1874.4949498\ttotal: 1.73s\tremaining: 4.22s\n",
      "29:\tlearn: 1870.7914104\ttotal: 1.78s\tremaining: 4.16s\n",
      "30:\tlearn: 1868.5526928\ttotal: 1.83s\tremaining: 4.08s\n",
      "31:\tlearn: 1865.3288282\ttotal: 1.89s\tremaining: 4.01s\n",
      "32:\tlearn: 1861.6747048\ttotal: 1.94s\tremaining: 3.95s\n",
      "33:\tlearn: 1857.5046363\ttotal: 2s\tremaining: 3.89s\n",
      "34:\tlearn: 1855.0699761\ttotal: 2.06s\tremaining: 3.82s\n",
      "35:\tlearn: 1853.1009004\ttotal: 2.11s\tremaining: 3.75s\n",
      "36:\tlearn: 1850.6236906\ttotal: 2.17s\tremaining: 3.69s\n",
      "37:\tlearn: 1844.0356063\ttotal: 2.22s\tremaining: 3.63s\n",
      "38:\tlearn: 1841.4775386\ttotal: 2.28s\tremaining: 3.56s\n",
      "39:\tlearn: 1838.9737704\ttotal: 2.33s\tremaining: 3.5s\n",
      "40:\tlearn: 1837.0475549\ttotal: 2.39s\tremaining: 3.44s\n",
      "41:\tlearn: 1834.6878195\ttotal: 2.44s\tremaining: 3.38s\n",
      "42:\tlearn: 1833.3154859\ttotal: 2.5s\tremaining: 3.31s\n",
      "43:\tlearn: 1831.4503575\ttotal: 2.55s\tremaining: 3.25s\n",
      "44:\tlearn: 1827.8879535\ttotal: 2.61s\tremaining: 3.19s\n",
      "45:\tlearn: 1825.7422701\ttotal: 2.67s\tremaining: 3.13s\n",
      "46:\tlearn: 1823.9737758\ttotal: 2.72s\tremaining: 3.07s\n",
      "47:\tlearn: 1821.3610453\ttotal: 2.78s\tremaining: 3.01s\n",
      "48:\tlearn: 1818.9691391\ttotal: 2.83s\tremaining: 2.95s\n",
      "49:\tlearn: 1816.7637088\ttotal: 2.89s\tremaining: 2.89s\n",
      "50:\tlearn: 1815.4743561\ttotal: 2.94s\tremaining: 2.83s\n",
      "51:\tlearn: 1813.7240152\ttotal: 3s\tremaining: 2.77s\n",
      "52:\tlearn: 1812.7456293\ttotal: 3.06s\tremaining: 2.72s\n",
      "53:\tlearn: 1810.8274683\ttotal: 3.14s\tremaining: 2.67s\n",
      "54:\tlearn: 1809.7863216\ttotal: 3.21s\tremaining: 2.63s\n",
      "55:\tlearn: 1808.1985820\ttotal: 3.26s\tremaining: 2.56s\n",
      "56:\tlearn: 1806.2470421\ttotal: 3.32s\tremaining: 2.51s\n",
      "57:\tlearn: 1805.4534462\ttotal: 3.38s\tremaining: 2.45s\n",
      "58:\tlearn: 1804.5710089\ttotal: 3.44s\tremaining: 2.39s\n",
      "59:\tlearn: 1803.3591638\ttotal: 3.5s\tremaining: 2.33s\n",
      "60:\tlearn: 1802.4912237\ttotal: 3.56s\tremaining: 2.27s\n",
      "61:\tlearn: 1800.5420376\ttotal: 3.61s\tremaining: 2.21s\n",
      "62:\tlearn: 1797.9983689\ttotal: 3.66s\tremaining: 2.15s\n",
      "63:\tlearn: 1795.5369849\ttotal: 3.72s\tremaining: 2.09s\n",
      "64:\tlearn: 1793.8111376\ttotal: 3.77s\tremaining: 2.03s\n",
      "65:\tlearn: 1793.0361186\ttotal: 3.83s\tremaining: 1.97s\n",
      "66:\tlearn: 1792.3485143\ttotal: 3.88s\tremaining: 1.91s\n",
      "67:\tlearn: 1791.8155351\ttotal: 3.94s\tremaining: 1.85s\n",
      "68:\tlearn: 1790.9392402\ttotal: 3.99s\tremaining: 1.79s\n",
      "69:\tlearn: 1789.1529186\ttotal: 4.05s\tremaining: 1.73s\n",
      "70:\tlearn: 1787.3081186\ttotal: 4.1s\tremaining: 1.67s\n",
      "71:\tlearn: 1786.3873371\ttotal: 4.16s\tremaining: 1.61s\n",
      "72:\tlearn: 1785.7975556\ttotal: 4.21s\tremaining: 1.56s\n",
      "73:\tlearn: 1784.7872510\ttotal: 4.27s\tremaining: 1.5s\n",
      "74:\tlearn: 1784.3028343\ttotal: 4.33s\tremaining: 1.44s\n",
      "75:\tlearn: 1783.2592395\ttotal: 4.39s\tremaining: 1.39s\n",
      "76:\tlearn: 1781.9387557\ttotal: 4.44s\tremaining: 1.33s\n",
      "77:\tlearn: 1780.6371343\ttotal: 4.5s\tremaining: 1.27s\n",
      "78:\tlearn: 1779.1597725\ttotal: 4.55s\tremaining: 1.21s\n",
      "79:\tlearn: 1778.2373871\ttotal: 4.61s\tremaining: 1.15s\n",
      "80:\tlearn: 1777.6832929\ttotal: 4.67s\tremaining: 1.09s\n",
      "81:\tlearn: 1776.1237866\ttotal: 4.73s\tremaining: 1.04s\n",
      "82:\tlearn: 1773.9658936\ttotal: 4.78s\tremaining: 980ms\n",
      "83:\tlearn: 1772.3493233\ttotal: 4.84s\tremaining: 922ms\n",
      "84:\tlearn: 1770.7701136\ttotal: 4.89s\tremaining: 864ms\n",
      "85:\tlearn: 1768.5169422\ttotal: 4.95s\tremaining: 805ms\n",
      "86:\tlearn: 1766.9498794\ttotal: 5s\tremaining: 748ms\n",
      "87:\tlearn: 1765.9042021\ttotal: 5.06s\tremaining: 690ms\n",
      "88:\tlearn: 1765.2516031\ttotal: 5.12s\tremaining: 632ms\n",
      "89:\tlearn: 1764.4513195\ttotal: 5.17s\tremaining: 574ms\n",
      "90:\tlearn: 1763.6060798\ttotal: 5.22s\tremaining: 517ms\n",
      "91:\tlearn: 1761.4646611\ttotal: 5.28s\tremaining: 459ms\n",
      "92:\tlearn: 1760.7047415\ttotal: 5.33s\tremaining: 401ms\n",
      "93:\tlearn: 1759.6265927\ttotal: 5.39s\tremaining: 344ms\n",
      "94:\tlearn: 1758.5397980\ttotal: 5.44s\tremaining: 286ms\n",
      "95:\tlearn: 1757.6932341\ttotal: 5.5s\tremaining: 229ms\n",
      "96:\tlearn: 1757.1494206\ttotal: 5.56s\tremaining: 172ms\n",
      "97:\tlearn: 1756.5603689\ttotal: 5.62s\tremaining: 115ms\n",
      "98:\tlearn: 1755.7656841\ttotal: 5.68s\tremaining: 57.3ms\n",
      "99:\tlearn: 1755.2615721\ttotal: 5.73s\tremaining: 0us\n",
      "CPU times: user 5.97 s, sys: 58.4 ms, total: 6.03 s\n",
      "Wall time: 6.55 s\n"
     ]
    },
    {
     "data": {
      "text/plain": [
       "<catboost.core.CatBoostRegressor at 0x7fc4a774acd0>"
      ]
     },
     "execution_count": 35,
     "metadata": {},
     "output_type": "execute_result"
    }
   ],
   "source": [
    "%%time\n",
    "model_cbs = CatBoostRegressor(cat_features=cat_features, n_estimators=100)\n",
    "model_cbs.fit(X_train, y_train)"
   ]
  },
  {
   "cell_type": "code",
   "execution_count": 36,
   "metadata": {
    "collapsed": true
   },
   "outputs": [
    {
     "name": "stdout",
     "output_type": "stream",
     "text": [
      "Learning rate set to 0.5\n",
      "0:\tlearn: 3307.9484437\ttotal: 59.1ms\tremaining: 5.85s\n",
      "1:\tlearn: 2727.9993352\ttotal: 113ms\tremaining: 5.53s\n",
      "2:\tlearn: 2471.5789231\ttotal: 163ms\tremaining: 5.26s\n",
      "3:\tlearn: 2320.7973581\ttotal: 212ms\tremaining: 5.08s\n",
      "4:\tlearn: 2189.5699627\ttotal: 261ms\tremaining: 4.95s\n",
      "5:\tlearn: 2127.3066428\ttotal: 309ms\tremaining: 4.83s\n",
      "6:\tlearn: 2095.6674330\ttotal: 355ms\tremaining: 4.71s\n",
      "7:\tlearn: 2045.6935843\ttotal: 397ms\tremaining: 4.56s\n",
      "8:\tlearn: 2015.4759389\ttotal: 440ms\tremaining: 4.45s\n",
      "9:\tlearn: 1999.5117155\ttotal: 483ms\tremaining: 4.35s\n",
      "10:\tlearn: 1985.6772994\ttotal: 531ms\tremaining: 4.29s\n",
      "11:\tlearn: 1971.6592506\ttotal: 577ms\tremaining: 4.23s\n",
      "12:\tlearn: 1958.8250556\ttotal: 629ms\tremaining: 4.21s\n",
      "13:\tlearn: 1948.8625355\ttotal: 673ms\tremaining: 4.14s\n",
      "14:\tlearn: 1942.2778931\ttotal: 718ms\tremaining: 4.07s\n",
      "15:\tlearn: 1931.7195621\ttotal: 764ms\tremaining: 4.01s\n",
      "16:\tlearn: 1925.6772517\ttotal: 815ms\tremaining: 3.98s\n",
      "17:\tlearn: 1921.8580321\ttotal: 860ms\tremaining: 3.92s\n",
      "18:\tlearn: 1914.2492932\ttotal: 905ms\tremaining: 3.86s\n",
      "19:\tlearn: 1909.2263265\ttotal: 951ms\tremaining: 3.8s\n",
      "20:\tlearn: 1903.3349901\ttotal: 994ms\tremaining: 3.74s\n",
      "21:\tlearn: 1900.1288233\ttotal: 1.04s\tremaining: 3.68s\n",
      "22:\tlearn: 1894.5091317\ttotal: 1.08s\tremaining: 3.63s\n",
      "23:\tlearn: 1887.5549680\ttotal: 1.13s\tremaining: 3.56s\n",
      "24:\tlearn: 1881.6774125\ttotal: 1.17s\tremaining: 3.51s\n",
      "25:\tlearn: 1879.0489983\ttotal: 1.22s\tremaining: 3.46s\n",
      "26:\tlearn: 1875.0859639\ttotal: 1.26s\tremaining: 3.42s\n",
      "27:\tlearn: 1871.4456067\ttotal: 1.31s\tremaining: 3.36s\n",
      "28:\tlearn: 1865.7052163\ttotal: 1.35s\tremaining: 3.31s\n",
      "29:\tlearn: 1862.6012625\ttotal: 1.4s\tremaining: 3.26s\n",
      "30:\tlearn: 1858.9613045\ttotal: 1.44s\tremaining: 3.21s\n",
      "31:\tlearn: 1856.1659340\ttotal: 1.49s\tremaining: 3.16s\n",
      "32:\tlearn: 1853.7777122\ttotal: 1.53s\tremaining: 3.11s\n",
      "33:\tlearn: 1850.7674871\ttotal: 1.58s\tremaining: 3.06s\n",
      "34:\tlearn: 1846.9426079\ttotal: 1.62s\tremaining: 3.01s\n",
      "35:\tlearn: 1844.3413353\ttotal: 1.66s\tremaining: 2.96s\n",
      "36:\tlearn: 1842.2631558\ttotal: 1.71s\tremaining: 2.91s\n",
      "37:\tlearn: 1840.4164670\ttotal: 1.76s\tremaining: 2.87s\n",
      "38:\tlearn: 1837.4051916\ttotal: 1.8s\tremaining: 2.81s\n",
      "39:\tlearn: 1834.8987379\ttotal: 1.84s\tremaining: 2.77s\n",
      "40:\tlearn: 1831.3036319\ttotal: 1.89s\tremaining: 2.72s\n",
      "41:\tlearn: 1829.6236428\ttotal: 1.94s\tremaining: 2.68s\n",
      "42:\tlearn: 1828.1079383\ttotal: 1.98s\tremaining: 2.63s\n",
      "43:\tlearn: 1825.5097115\ttotal: 2.02s\tremaining: 2.58s\n",
      "44:\tlearn: 1823.9825575\ttotal: 2.07s\tremaining: 2.53s\n",
      "45:\tlearn: 1821.9179112\ttotal: 2.11s\tremaining: 2.48s\n",
      "46:\tlearn: 1819.1135115\ttotal: 2.16s\tremaining: 2.43s\n",
      "47:\tlearn: 1818.1508257\ttotal: 2.2s\tremaining: 2.39s\n",
      "48:\tlearn: 1817.1061800\ttotal: 2.25s\tremaining: 2.34s\n",
      "49:\tlearn: 1816.3410006\ttotal: 2.29s\tremaining: 2.29s\n",
      "50:\tlearn: 1814.2093360\ttotal: 2.34s\tremaining: 2.25s\n",
      "51:\tlearn: 1812.6360968\ttotal: 2.39s\tremaining: 2.2s\n",
      "52:\tlearn: 1809.9159646\ttotal: 2.43s\tremaining: 2.15s\n",
      "53:\tlearn: 1807.9462054\ttotal: 2.49s\tremaining: 2.12s\n",
      "54:\tlearn: 1804.6188392\ttotal: 2.54s\tremaining: 2.08s\n",
      "55:\tlearn: 1803.7580076\ttotal: 2.58s\tremaining: 2.03s\n",
      "56:\tlearn: 1802.0493101\ttotal: 2.63s\tremaining: 1.99s\n",
      "57:\tlearn: 1800.0412205\ttotal: 2.67s\tremaining: 1.94s\n",
      "58:\tlearn: 1798.7700869\ttotal: 2.72s\tremaining: 1.89s\n",
      "59:\tlearn: 1797.4310880\ttotal: 2.76s\tremaining: 1.84s\n",
      "60:\tlearn: 1795.5902444\ttotal: 2.81s\tremaining: 1.79s\n",
      "61:\tlearn: 1793.0801925\ttotal: 2.85s\tremaining: 1.75s\n",
      "62:\tlearn: 1791.6178931\ttotal: 2.9s\tremaining: 1.7s\n",
      "63:\tlearn: 1790.7929343\ttotal: 2.94s\tremaining: 1.66s\n",
      "64:\tlearn: 1789.2363409\ttotal: 2.99s\tremaining: 1.61s\n",
      "65:\tlearn: 1788.1292628\ttotal: 3.04s\tremaining: 1.56s\n",
      "66:\tlearn: 1787.0767883\ttotal: 3.08s\tremaining: 1.52s\n",
      "67:\tlearn: 1785.4500950\ttotal: 3.12s\tremaining: 1.47s\n",
      "68:\tlearn: 1784.9412957\ttotal: 3.17s\tremaining: 1.42s\n",
      "69:\tlearn: 1783.6576795\ttotal: 3.21s\tremaining: 1.38s\n",
      "70:\tlearn: 1782.7091338\ttotal: 3.26s\tremaining: 1.33s\n",
      "71:\tlearn: 1781.2981168\ttotal: 3.31s\tremaining: 1.28s\n",
      "72:\tlearn: 1780.3270688\ttotal: 3.35s\tremaining: 1.24s\n",
      "73:\tlearn: 1779.5849557\ttotal: 3.4s\tremaining: 1.19s\n",
      "74:\tlearn: 1778.5935259\ttotal: 3.44s\tremaining: 1.15s\n",
      "75:\tlearn: 1777.5412165\ttotal: 3.49s\tremaining: 1.1s\n",
      "76:\tlearn: 1776.0778957\ttotal: 3.54s\tremaining: 1.06s\n",
      "77:\tlearn: 1774.1001852\ttotal: 3.58s\tremaining: 1.01s\n",
      "78:\tlearn: 1772.4996873\ttotal: 3.62s\tremaining: 963ms\n",
      "79:\tlearn: 1769.4194670\ttotal: 3.67s\tremaining: 917ms\n",
      "80:\tlearn: 1769.0384170\ttotal: 3.71s\tremaining: 871ms\n",
      "81:\tlearn: 1766.8217123\ttotal: 3.76s\tremaining: 825ms\n",
      "82:\tlearn: 1765.8646249\ttotal: 3.81s\tremaining: 780ms\n",
      "83:\tlearn: 1763.9071916\ttotal: 3.85s\tremaining: 734ms\n",
      "84:\tlearn: 1763.2199038\ttotal: 3.9s\tremaining: 688ms\n",
      "85:\tlearn: 1762.0942785\ttotal: 3.94s\tremaining: 642ms\n",
      "86:\tlearn: 1761.6087144\ttotal: 3.99s\tremaining: 596ms\n",
      "87:\tlearn: 1760.4783444\ttotal: 4.03s\tremaining: 550ms\n",
      "88:\tlearn: 1760.1751558\ttotal: 4.08s\tremaining: 504ms\n",
      "89:\tlearn: 1759.2775755\ttotal: 4.12s\tremaining: 458ms\n",
      "90:\tlearn: 1758.0501118\ttotal: 4.17s\tremaining: 412ms\n",
      "91:\tlearn: 1756.8614970\ttotal: 4.21s\tremaining: 366ms\n",
      "92:\tlearn: 1755.8843377\ttotal: 4.25s\tremaining: 320ms\n",
      "93:\tlearn: 1754.9712885\ttotal: 4.3s\tremaining: 274ms\n",
      "94:\tlearn: 1754.4124721\ttotal: 4.34s\tremaining: 229ms\n",
      "95:\tlearn: 1752.7857185\ttotal: 4.39s\tremaining: 183ms\n",
      "96:\tlearn: 1751.9582724\ttotal: 4.43s\tremaining: 137ms\n",
      "97:\tlearn: 1751.1971325\ttotal: 4.47s\tremaining: 91.3ms\n",
      "98:\tlearn: 1750.6208637\ttotal: 4.52s\tremaining: 45.6ms\n",
      "99:\tlearn: 1749.8467053\ttotal: 4.56s\tremaining: 0us\n",
      "Learning rate set to 0.5\n",
      "0:\tlearn: 3323.6532323\ttotal: 47.2ms\tremaining: 4.67s\n",
      "1:\tlearn: 2747.4882530\ttotal: 96.8ms\tremaining: 4.74s\n",
      "2:\tlearn: 2493.7496596\ttotal: 139ms\tremaining: 4.5s\n",
      "3:\tlearn: 2340.5829156\ttotal: 187ms\tremaining: 4.5s\n",
      "4:\tlearn: 2205.5978661\ttotal: 232ms\tremaining: 4.41s\n",
      "5:\tlearn: 2141.7628878\ttotal: 273ms\tremaining: 4.28s\n",
      "6:\tlearn: 2087.8895386\ttotal: 315ms\tremaining: 4.18s\n",
      "7:\tlearn: 2054.0650522\ttotal: 360ms\tremaining: 4.14s\n",
      "8:\tlearn: 2024.0573506\ttotal: 408ms\tremaining: 4.13s\n",
      "9:\tlearn: 2004.5914917\ttotal: 453ms\tremaining: 4.07s\n",
      "10:\tlearn: 1995.2828329\ttotal: 501ms\tremaining: 4.05s\n",
      "11:\tlearn: 1984.3281182\ttotal: 545ms\tremaining: 4s\n",
      "12:\tlearn: 1975.4775339\ttotal: 592ms\tremaining: 3.96s\n",
      "13:\tlearn: 1964.0225856\ttotal: 635ms\tremaining: 3.9s\n",
      "14:\tlearn: 1954.5422249\ttotal: 679ms\tremaining: 3.85s\n",
      "15:\tlearn: 1948.8001581\ttotal: 737ms\tremaining: 3.87s\n",
      "16:\tlearn: 1942.0353707\ttotal: 800ms\tremaining: 3.91s\n",
      "17:\tlearn: 1937.3020927\ttotal: 845ms\tremaining: 3.85s\n",
      "18:\tlearn: 1928.5114386\ttotal: 889ms\tremaining: 3.79s\n",
      "19:\tlearn: 1919.9202238\ttotal: 933ms\tremaining: 3.73s\n",
      "20:\tlearn: 1910.6468853\ttotal: 976ms\tremaining: 3.67s\n",
      "21:\tlearn: 1904.6004196\ttotal: 1.02s\tremaining: 3.61s\n",
      "22:\tlearn: 1898.7327966\ttotal: 1.06s\tremaining: 3.55s\n",
      "23:\tlearn: 1894.9341035\ttotal: 1.1s\tremaining: 3.5s\n",
      "24:\tlearn: 1888.9575395\ttotal: 1.15s\tremaining: 3.44s\n",
      "25:\tlearn: 1883.2803858\ttotal: 1.2s\tremaining: 3.4s\n",
      "26:\tlearn: 1878.9955775\ttotal: 1.24s\tremaining: 3.36s\n",
      "27:\tlearn: 1874.1848552\ttotal: 1.29s\tremaining: 3.33s\n",
      "28:\tlearn: 1869.8399721\ttotal: 1.34s\tremaining: 3.28s\n",
      "29:\tlearn: 1865.5902111\ttotal: 1.38s\tremaining: 3.23s\n",
      "30:\tlearn: 1862.5226934\ttotal: 1.43s\tremaining: 3.18s\n",
      "31:\tlearn: 1859.5538265\ttotal: 1.48s\tremaining: 3.14s\n",
      "32:\tlearn: 1855.8484133\ttotal: 1.52s\tremaining: 3.09s\n",
      "33:\tlearn: 1852.3098242\ttotal: 1.57s\tremaining: 3.04s\n",
      "34:\tlearn: 1849.0523886\ttotal: 1.61s\tremaining: 3s\n",
      "35:\tlearn: 1847.5781251\ttotal: 1.66s\tremaining: 2.95s\n",
      "36:\tlearn: 1843.9942521\ttotal: 1.71s\tremaining: 2.9s\n",
      "37:\tlearn: 1842.1057288\ttotal: 1.75s\tremaining: 2.86s\n",
      "38:\tlearn: 1839.7380068\ttotal: 1.8s\tremaining: 2.81s\n",
      "39:\tlearn: 1837.3861500\ttotal: 1.84s\tremaining: 2.76s\n",
      "40:\tlearn: 1835.7267417\ttotal: 1.9s\tremaining: 2.73s\n",
      "41:\tlearn: 1832.6231783\ttotal: 1.95s\tremaining: 2.69s\n",
      "42:\tlearn: 1829.8261236\ttotal: 1.99s\tremaining: 2.64s\n",
      "43:\tlearn: 1827.2138644\ttotal: 2.03s\tremaining: 2.59s\n",
      "44:\tlearn: 1825.2679145\ttotal: 2.08s\tremaining: 2.54s\n",
      "45:\tlearn: 1823.4294634\ttotal: 2.12s\tremaining: 2.49s\n",
      "46:\tlearn: 1821.6924949\ttotal: 2.17s\tremaining: 2.44s\n",
      "47:\tlearn: 1819.5789949\ttotal: 2.21s\tremaining: 2.39s\n",
      "48:\tlearn: 1817.5269384\ttotal: 2.25s\tremaining: 2.35s\n",
      "49:\tlearn: 1815.8115851\ttotal: 2.29s\tremaining: 2.29s\n",
      "50:\tlearn: 1813.2849857\ttotal: 2.34s\tremaining: 2.25s\n",
      "51:\tlearn: 1811.5952774\ttotal: 2.38s\tremaining: 2.2s\n",
      "52:\tlearn: 1810.1466217\ttotal: 2.43s\tremaining: 2.15s\n",
      "53:\tlearn: 1808.2788822\ttotal: 2.48s\tremaining: 2.11s\n",
      "54:\tlearn: 1806.0128790\ttotal: 2.52s\tremaining: 2.06s\n",
      "55:\tlearn: 1804.3486048\ttotal: 2.56s\tremaining: 2.01s\n",
      "56:\tlearn: 1803.1732468\ttotal: 2.61s\tremaining: 1.97s\n",
      "57:\tlearn: 1801.1059085\ttotal: 2.65s\tremaining: 1.92s\n",
      "58:\tlearn: 1798.9497852\ttotal: 2.7s\tremaining: 1.87s\n",
      "59:\tlearn: 1798.2941011\ttotal: 2.74s\tremaining: 1.83s\n",
      "60:\tlearn: 1797.3487098\ttotal: 2.79s\tremaining: 1.78s\n",
      "61:\tlearn: 1795.6494486\ttotal: 2.84s\tremaining: 1.74s\n",
      "62:\tlearn: 1793.5269179\ttotal: 2.88s\tremaining: 1.69s\n",
      "63:\tlearn: 1792.2435216\ttotal: 2.92s\tremaining: 1.64s\n",
      "64:\tlearn: 1791.5972704\ttotal: 2.97s\tremaining: 1.6s\n",
      "65:\tlearn: 1790.4197758\ttotal: 3.01s\tremaining: 1.55s\n",
      "66:\tlearn: 1787.9132286\ttotal: 3.06s\tremaining: 1.51s\n",
      "67:\tlearn: 1787.2227080\ttotal: 3.11s\tremaining: 1.46s\n",
      "68:\tlearn: 1786.6951096\ttotal: 3.15s\tremaining: 1.42s\n",
      "69:\tlearn: 1783.8217383\ttotal: 3.2s\tremaining: 1.37s\n",
      "70:\tlearn: 1782.5369835\ttotal: 3.24s\tremaining: 1.32s\n",
      "71:\tlearn: 1781.3001224\ttotal: 3.29s\tremaining: 1.28s\n",
      "72:\tlearn: 1779.9391038\ttotal: 3.33s\tremaining: 1.23s\n",
      "73:\tlearn: 1778.9069322\ttotal: 3.38s\tremaining: 1.19s\n",
      "74:\tlearn: 1778.0215233\ttotal: 3.42s\tremaining: 1.14s\n",
      "75:\tlearn: 1777.1144496\ttotal: 3.47s\tremaining: 1.09s\n",
      "76:\tlearn: 1776.0980705\ttotal: 3.51s\tremaining: 1.05s\n",
      "77:\tlearn: 1775.5468424\ttotal: 3.56s\tremaining: 1s\n",
      "78:\tlearn: 1774.7952142\ttotal: 3.6s\tremaining: 958ms\n",
      "79:\tlearn: 1773.4372105\ttotal: 3.65s\tremaining: 912ms\n",
      "80:\tlearn: 1771.7273458\ttotal: 3.69s\tremaining: 866ms\n",
      "81:\tlearn: 1769.7743661\ttotal: 3.74s\tremaining: 820ms\n",
      "82:\tlearn: 1769.1461834\ttotal: 3.78s\tremaining: 775ms\n",
      "83:\tlearn: 1768.0248255\ttotal: 3.83s\tremaining: 729ms\n",
      "84:\tlearn: 1767.3447144\ttotal: 3.87s\tremaining: 683ms\n",
      "85:\tlearn: 1766.4242201\ttotal: 3.92s\tremaining: 637ms\n",
      "86:\tlearn: 1765.7937847\ttotal: 3.96s\tremaining: 592ms\n",
      "87:\tlearn: 1765.0356760\ttotal: 4s\tremaining: 546ms\n",
      "88:\tlearn: 1764.4084655\ttotal: 4.05s\tremaining: 501ms\n",
      "89:\tlearn: 1763.5198487\ttotal: 4.09s\tremaining: 455ms\n",
      "90:\tlearn: 1761.8572813\ttotal: 4.14s\tremaining: 409ms\n",
      "91:\tlearn: 1760.6494533\ttotal: 4.18s\tremaining: 364ms\n",
      "92:\tlearn: 1759.2973071\ttotal: 4.23s\tremaining: 318ms\n",
      "93:\tlearn: 1757.9840837\ttotal: 4.27s\tremaining: 273ms\n",
      "94:\tlearn: 1757.5176034\ttotal: 4.32s\tremaining: 227ms\n",
      "95:\tlearn: 1757.1237713\ttotal: 4.36s\tremaining: 182ms\n",
      "96:\tlearn: 1756.5899456\ttotal: 4.4s\tremaining: 136ms\n",
      "97:\tlearn: 1755.6918206\ttotal: 4.46s\tremaining: 91ms\n",
      "98:\tlearn: 1755.6678768\ttotal: 4.5s\tremaining: 45.5ms\n",
      "99:\tlearn: 1755.2154516\ttotal: 4.55s\tremaining: 0us\n",
      "Learning rate set to 0.5\n",
      "0:\tlearn: 3345.1356731\ttotal: 49.8ms\tremaining: 4.93s\n",
      "1:\tlearn: 2724.5596676\ttotal: 93.2ms\tremaining: 4.57s\n",
      "2:\tlearn: 2464.7281323\ttotal: 147ms\tremaining: 4.76s\n",
      "3:\tlearn: 2312.6238498\ttotal: 205ms\tremaining: 4.92s\n",
      "4:\tlearn: 2185.0938662\ttotal: 252ms\tremaining: 4.78s\n",
      "5:\tlearn: 2121.0543059\ttotal: 297ms\tremaining: 4.65s\n",
      "6:\tlearn: 2062.5986291\ttotal: 339ms\tremaining: 4.5s\n",
      "7:\tlearn: 2039.8880674\ttotal: 385ms\tremaining: 4.42s\n",
      "8:\tlearn: 2012.8229715\ttotal: 428ms\tremaining: 4.33s\n",
      "9:\tlearn: 1998.2594032\ttotal: 477ms\tremaining: 4.3s\n",
      "10:\tlearn: 1987.9705097\ttotal: 522ms\tremaining: 4.22s\n",
      "11:\tlearn: 1973.0032033\ttotal: 568ms\tremaining: 4.17s\n",
      "12:\tlearn: 1958.1227469\ttotal: 612ms\tremaining: 4.09s\n",
      "13:\tlearn: 1944.5353944\ttotal: 655ms\tremaining: 4.02s\n",
      "14:\tlearn: 1937.6848295\ttotal: 698ms\tremaining: 3.96s\n",
      "15:\tlearn: 1930.9505233\ttotal: 742ms\tremaining: 3.9s\n",
      "16:\tlearn: 1923.1798676\ttotal: 789ms\tremaining: 3.85s\n",
      "17:\tlearn: 1916.9504037\ttotal: 834ms\tremaining: 3.8s\n",
      "18:\tlearn: 1910.1638408\ttotal: 878ms\tremaining: 3.74s\n",
      "19:\tlearn: 1904.2855679\ttotal: 921ms\tremaining: 3.69s\n",
      "20:\tlearn: 1899.3244387\ttotal: 967ms\tremaining: 3.64s\n",
      "21:\tlearn: 1894.9739824\ttotal: 1.01s\tremaining: 3.58s\n",
      "22:\tlearn: 1891.4765750\ttotal: 1.05s\tremaining: 3.52s\n",
      "23:\tlearn: 1885.8225888\ttotal: 1.1s\tremaining: 3.47s\n",
      "24:\tlearn: 1881.1932679\ttotal: 1.14s\tremaining: 3.42s\n",
      "25:\tlearn: 1879.0295179\ttotal: 1.19s\tremaining: 3.38s\n",
      "26:\tlearn: 1874.8197326\ttotal: 1.23s\tremaining: 3.33s\n",
      "27:\tlearn: 1871.6233336\ttotal: 1.28s\tremaining: 3.29s\n",
      "28:\tlearn: 1868.4351072\ttotal: 1.33s\tremaining: 3.26s\n",
      "29:\tlearn: 1864.3752554\ttotal: 1.38s\tremaining: 3.22s\n",
      "30:\tlearn: 1861.2942947\ttotal: 1.43s\tremaining: 3.17s\n",
      "31:\tlearn: 1857.9519486\ttotal: 1.48s\tremaining: 3.14s\n",
      "32:\tlearn: 1854.1081284\ttotal: 1.52s\tremaining: 3.09s\n",
      "33:\tlearn: 1851.5820225\ttotal: 1.56s\tremaining: 3.03s\n",
      "34:\tlearn: 1848.6648718\ttotal: 1.61s\tremaining: 2.99s\n",
      "35:\tlearn: 1844.6069150\ttotal: 1.66s\tremaining: 2.94s\n",
      "36:\tlearn: 1842.7231777\ttotal: 1.7s\tremaining: 2.89s\n",
      "37:\tlearn: 1840.7352999\ttotal: 1.75s\tremaining: 2.85s\n",
      "38:\tlearn: 1837.1208141\ttotal: 1.79s\tremaining: 2.8s\n",
      "39:\tlearn: 1834.4748731\ttotal: 1.83s\tremaining: 2.75s\n",
      "40:\tlearn: 1831.1341453\ttotal: 1.88s\tremaining: 2.7s\n",
      "41:\tlearn: 1828.1774953\ttotal: 1.92s\tremaining: 2.65s\n",
      "42:\tlearn: 1827.0611885\ttotal: 1.97s\tremaining: 2.6s\n",
      "43:\tlearn: 1825.3206435\ttotal: 2.01s\tremaining: 2.55s\n",
      "44:\tlearn: 1823.3740258\ttotal: 2.05s\tremaining: 2.5s\n",
      "45:\tlearn: 1822.3311684\ttotal: 2.09s\tremaining: 2.46s\n",
      "46:\tlearn: 1819.8765234\ttotal: 2.14s\tremaining: 2.41s\n",
      "47:\tlearn: 1817.9828406\ttotal: 2.18s\tremaining: 2.36s\n",
      "48:\tlearn: 1816.0454035\ttotal: 2.23s\tremaining: 2.32s\n",
      "49:\tlearn: 1813.4134036\ttotal: 2.27s\tremaining: 2.27s\n",
      "50:\tlearn: 1812.1034209\ttotal: 2.32s\tremaining: 2.23s\n",
      "51:\tlearn: 1810.7769559\ttotal: 2.37s\tremaining: 2.18s\n",
      "52:\tlearn: 1807.8133309\ttotal: 2.41s\tremaining: 2.14s\n",
      "53:\tlearn: 1806.0227343\ttotal: 2.45s\tremaining: 2.09s\n",
      "54:\tlearn: 1804.5903351\ttotal: 2.5s\tremaining: 2.05s\n",
      "55:\tlearn: 1800.0098882\ttotal: 2.55s\tremaining: 2s\n",
      "56:\tlearn: 1798.8373716\ttotal: 2.6s\tremaining: 1.96s\n",
      "57:\tlearn: 1796.6414320\ttotal: 2.64s\tremaining: 1.91s\n",
      "58:\tlearn: 1795.0442784\ttotal: 2.68s\tremaining: 1.86s\n",
      "59:\tlearn: 1792.8369605\ttotal: 2.72s\tremaining: 1.81s\n",
      "60:\tlearn: 1791.4712519\ttotal: 2.77s\tremaining: 1.77s\n",
      "61:\tlearn: 1789.9050463\ttotal: 2.81s\tremaining: 1.72s\n",
      "62:\tlearn: 1788.5307290\ttotal: 2.86s\tremaining: 1.68s\n",
      "63:\tlearn: 1785.8769976\ttotal: 2.9s\tremaining: 1.63s\n",
      "64:\tlearn: 1784.2213757\ttotal: 2.94s\tremaining: 1.58s\n",
      "65:\tlearn: 1782.4702629\ttotal: 2.99s\tremaining: 1.54s\n",
      "66:\tlearn: 1780.9928469\ttotal: 3.03s\tremaining: 1.49s\n",
      "67:\tlearn: 1779.7468004\ttotal: 3.08s\tremaining: 1.45s\n",
      "68:\tlearn: 1777.5815769\ttotal: 3.12s\tremaining: 1.4s\n",
      "69:\tlearn: 1777.0272521\ttotal: 3.17s\tremaining: 1.36s\n",
      "70:\tlearn: 1776.3332131\ttotal: 3.21s\tremaining: 1.31s\n",
      "71:\tlearn: 1775.1309174\ttotal: 3.26s\tremaining: 1.27s\n",
      "72:\tlearn: 1773.5082429\ttotal: 3.3s\tremaining: 1.22s\n",
      "73:\tlearn: 1772.0238718\ttotal: 3.34s\tremaining: 1.17s\n",
      "74:\tlearn: 1770.4466646\ttotal: 3.39s\tremaining: 1.13s\n",
      "75:\tlearn: 1769.1740690\ttotal: 3.43s\tremaining: 1.08s\n",
      "76:\tlearn: 1768.1817894\ttotal: 3.48s\tremaining: 1.04s\n",
      "77:\tlearn: 1767.4476357\ttotal: 3.52s\tremaining: 993ms\n",
      "78:\tlearn: 1765.8941314\ttotal: 3.56s\tremaining: 948ms\n",
      "79:\tlearn: 1764.5009214\ttotal: 3.61s\tremaining: 902ms\n",
      "80:\tlearn: 1763.5457680\ttotal: 3.66s\tremaining: 858ms\n",
      "81:\tlearn: 1762.4265088\ttotal: 3.71s\tremaining: 813ms\n",
      "82:\tlearn: 1761.2337785\ttotal: 3.75s\tremaining: 768ms\n",
      "83:\tlearn: 1760.1015575\ttotal: 3.79s\tremaining: 723ms\n",
      "84:\tlearn: 1759.0055250\ttotal: 3.84s\tremaining: 677ms\n",
      "85:\tlearn: 1758.7714645\ttotal: 3.88s\tremaining: 632ms\n",
      "86:\tlearn: 1757.1822872\ttotal: 3.93s\tremaining: 587ms\n",
      "87:\tlearn: 1755.9989336\ttotal: 3.97s\tremaining: 541ms\n",
      "88:\tlearn: 1755.0350855\ttotal: 4.01s\tremaining: 496ms\n",
      "89:\tlearn: 1753.5699840\ttotal: 4.06s\tremaining: 451ms\n",
      "90:\tlearn: 1752.8439977\ttotal: 4.1s\tremaining: 406ms\n",
      "91:\tlearn: 1752.3177024\ttotal: 4.15s\tremaining: 361ms\n",
      "92:\tlearn: 1751.4478749\ttotal: 4.19s\tremaining: 316ms\n",
      "93:\tlearn: 1750.7632194\ttotal: 4.24s\tremaining: 271ms\n",
      "94:\tlearn: 1750.3024739\ttotal: 4.28s\tremaining: 225ms\n",
      "95:\tlearn: 1749.0056139\ttotal: 4.33s\tremaining: 181ms\n",
      "96:\tlearn: 1748.1628579\ttotal: 4.38s\tremaining: 135ms\n",
      "97:\tlearn: 1747.5504692\ttotal: 4.42s\tremaining: 90.2ms\n",
      "98:\tlearn: 1746.0532597\ttotal: 4.46s\tremaining: 45.1ms\n",
      "99:\tlearn: 1745.3913507\ttotal: 4.5s\tremaining: 0us\n",
      "Learning rate set to 0.5\n",
      "0:\tlearn: 3347.4434036\ttotal: 48.7ms\tremaining: 4.83s\n",
      "1:\tlearn: 2727.2295752\ttotal: 92.3ms\tremaining: 4.52s\n",
      "2:\tlearn: 2467.9370009\ttotal: 142ms\tremaining: 4.58s\n",
      "3:\tlearn: 2327.2863339\ttotal: 188ms\tremaining: 4.52s\n",
      "4:\tlearn: 2191.1874771\ttotal: 235ms\tremaining: 4.46s\n",
      "5:\tlearn: 2129.7428632\ttotal: 277ms\tremaining: 4.34s\n",
      "6:\tlearn: 2100.7721829\ttotal: 323ms\tremaining: 4.29s\n",
      "7:\tlearn: 2047.0750089\ttotal: 365ms\tremaining: 4.2s\n",
      "8:\tlearn: 2025.6544821\ttotal: 412ms\tremaining: 4.16s\n",
      "9:\tlearn: 2003.1148908\ttotal: 454ms\tremaining: 4.09s\n",
      "10:\tlearn: 1988.8814362\ttotal: 500ms\tremaining: 4.04s\n",
      "11:\tlearn: 1971.1252992\ttotal: 550ms\tremaining: 4.04s\n",
      "12:\tlearn: 1959.9635645\ttotal: 599ms\tremaining: 4.01s\n",
      "13:\tlearn: 1953.7048315\ttotal: 646ms\tremaining: 3.97s\n",
      "14:\tlearn: 1944.6974673\ttotal: 696ms\tremaining: 3.94s\n",
      "15:\tlearn: 1937.3017314\ttotal: 739ms\tremaining: 3.88s\n",
      "16:\tlearn: 1932.3870321\ttotal: 804ms\tremaining: 3.92s\n",
      "17:\tlearn: 1925.8410928\ttotal: 852ms\tremaining: 3.88s\n",
      "18:\tlearn: 1920.6347432\ttotal: 896ms\tremaining: 3.82s\n",
      "19:\tlearn: 1914.7976496\ttotal: 943ms\tremaining: 3.77s\n",
      "20:\tlearn: 1908.8387048\ttotal: 989ms\tremaining: 3.72s\n",
      "21:\tlearn: 1905.9837147\ttotal: 1.04s\tremaining: 3.68s\n",
      "22:\tlearn: 1899.5671735\ttotal: 1.08s\tremaining: 3.63s\n",
      "23:\tlearn: 1893.7414394\ttotal: 1.13s\tremaining: 3.57s\n",
      "24:\tlearn: 1887.3255520\ttotal: 1.17s\tremaining: 3.52s\n",
      "25:\tlearn: 1884.0797506\ttotal: 1.22s\tremaining: 3.46s\n",
      "26:\tlearn: 1881.7706098\ttotal: 1.26s\tremaining: 3.41s\n",
      "27:\tlearn: 1878.6468120\ttotal: 1.31s\tremaining: 3.37s\n",
      "28:\tlearn: 1873.8266119\ttotal: 1.35s\tremaining: 3.31s\n",
      "29:\tlearn: 1870.3223877\ttotal: 1.4s\tremaining: 3.26s\n",
      "30:\tlearn: 1865.2021812\ttotal: 1.44s\tremaining: 3.21s\n",
      "31:\tlearn: 1862.1300223\ttotal: 1.49s\tremaining: 3.16s\n",
      "32:\tlearn: 1858.7466305\ttotal: 1.53s\tremaining: 3.11s\n",
      "33:\tlearn: 1856.3472411\ttotal: 1.58s\tremaining: 3.06s\n",
      "34:\tlearn: 1853.4894186\ttotal: 1.62s\tremaining: 3.01s\n",
      "35:\tlearn: 1850.7536373\ttotal: 1.66s\tremaining: 2.96s\n",
      "36:\tlearn: 1848.2541717\ttotal: 1.71s\tremaining: 2.92s\n",
      "37:\tlearn: 1845.8390549\ttotal: 1.76s\tremaining: 2.87s\n",
      "38:\tlearn: 1844.3948265\ttotal: 1.8s\tremaining: 2.82s\n",
      "39:\tlearn: 1840.4558481\ttotal: 1.84s\tremaining: 2.77s\n",
      "40:\tlearn: 1838.9014683\ttotal: 1.89s\tremaining: 2.72s\n",
      "41:\tlearn: 1835.2418738\ttotal: 1.93s\tremaining: 2.67s\n",
      "42:\tlearn: 1834.3123548\ttotal: 1.98s\tremaining: 2.62s\n",
      "43:\tlearn: 1831.3735408\ttotal: 2.03s\tremaining: 2.58s\n",
      "44:\tlearn: 1830.0032324\ttotal: 2.07s\tremaining: 2.54s\n",
      "45:\tlearn: 1827.7371651\ttotal: 2.12s\tremaining: 2.48s\n",
      "46:\tlearn: 1826.5376410\ttotal: 2.16s\tremaining: 2.44s\n",
      "47:\tlearn: 1824.1959558\ttotal: 2.21s\tremaining: 2.39s\n",
      "48:\tlearn: 1822.8776299\ttotal: 2.25s\tremaining: 2.35s\n",
      "49:\tlearn: 1821.0078108\ttotal: 2.3s\tremaining: 2.3s\n",
      "50:\tlearn: 1819.3411826\ttotal: 2.34s\tremaining: 2.25s\n",
      "51:\tlearn: 1815.9576430\ttotal: 2.39s\tremaining: 2.2s\n",
      "52:\tlearn: 1813.9602146\ttotal: 2.44s\tremaining: 2.16s\n",
      "53:\tlearn: 1811.2215578\ttotal: 2.48s\tremaining: 2.11s\n",
      "54:\tlearn: 1810.1655424\ttotal: 2.53s\tremaining: 2.07s\n",
      "55:\tlearn: 1808.2747393\ttotal: 2.57s\tremaining: 2.02s\n",
      "56:\tlearn: 1806.1138440\ttotal: 2.62s\tremaining: 1.97s\n",
      "57:\tlearn: 1805.1850369\ttotal: 2.66s\tremaining: 1.93s\n",
      "58:\tlearn: 1804.6849525\ttotal: 2.71s\tremaining: 1.88s\n",
      "59:\tlearn: 1803.6443549\ttotal: 2.75s\tremaining: 1.83s\n",
      "60:\tlearn: 1801.5475392\ttotal: 2.79s\tremaining: 1.79s\n",
      "61:\tlearn: 1799.9368472\ttotal: 2.84s\tremaining: 1.74s\n",
      "62:\tlearn: 1798.9563224\ttotal: 2.89s\tremaining: 1.7s\n",
      "63:\tlearn: 1796.0470325\ttotal: 2.93s\tremaining: 1.65s\n",
      "64:\tlearn: 1792.9944596\ttotal: 2.98s\tremaining: 1.6s\n",
      "65:\tlearn: 1791.4332864\ttotal: 3.02s\tremaining: 1.56s\n",
      "66:\tlearn: 1790.3943770\ttotal: 3.07s\tremaining: 1.51s\n",
      "67:\tlearn: 1789.3531364\ttotal: 3.12s\tremaining: 1.47s\n",
      "68:\tlearn: 1788.0820719\ttotal: 3.16s\tremaining: 1.42s\n",
      "69:\tlearn: 1786.9947878\ttotal: 3.21s\tremaining: 1.38s\n",
      "70:\tlearn: 1785.4426428\ttotal: 3.25s\tremaining: 1.33s\n",
      "71:\tlearn: 1784.3785584\ttotal: 3.3s\tremaining: 1.28s\n",
      "72:\tlearn: 1782.1939776\ttotal: 3.34s\tremaining: 1.24s\n",
      "73:\tlearn: 1781.7886216\ttotal: 3.39s\tremaining: 1.19s\n",
      "74:\tlearn: 1781.0399588\ttotal: 3.43s\tremaining: 1.14s\n",
      "75:\tlearn: 1780.3157659\ttotal: 3.48s\tremaining: 1.1s\n",
      "76:\tlearn: 1779.3182487\ttotal: 3.52s\tremaining: 1.05s\n",
      "77:\tlearn: 1778.6149319\ttotal: 3.57s\tremaining: 1.01s\n",
      "78:\tlearn: 1777.0328188\ttotal: 3.62s\tremaining: 962ms\n",
      "79:\tlearn: 1776.1068641\ttotal: 3.66s\tremaining: 916ms\n",
      "80:\tlearn: 1775.2590466\ttotal: 3.71s\tremaining: 869ms\n",
      "81:\tlearn: 1773.6194983\ttotal: 3.75s\tremaining: 823ms\n",
      "82:\tlearn: 1772.1208630\ttotal: 3.79s\tremaining: 777ms\n",
      "83:\tlearn: 1770.9715407\ttotal: 3.83s\tremaining: 731ms\n",
      "84:\tlearn: 1769.9137081\ttotal: 3.88s\tremaining: 685ms\n",
      "85:\tlearn: 1768.5511447\ttotal: 3.93s\tremaining: 639ms\n",
      "86:\tlearn: 1767.6345815\ttotal: 3.97s\tremaining: 594ms\n",
      "87:\tlearn: 1765.7723786\ttotal: 4.02s\tremaining: 548ms\n",
      "88:\tlearn: 1765.2854011\ttotal: 4.06s\tremaining: 502ms\n",
      "89:\tlearn: 1764.0601647\ttotal: 4.11s\tremaining: 457ms\n",
      "90:\tlearn: 1763.4154954\ttotal: 4.15s\tremaining: 411ms\n",
      "91:\tlearn: 1762.4023503\ttotal: 4.2s\tremaining: 366ms\n",
      "92:\tlearn: 1761.6255503\ttotal: 4.25s\tremaining: 320ms\n",
      "93:\tlearn: 1760.9133100\ttotal: 4.3s\tremaining: 274ms\n",
      "94:\tlearn: 1759.8712220\ttotal: 4.34s\tremaining: 229ms\n",
      "95:\tlearn: 1758.7806490\ttotal: 4.39s\tremaining: 183ms\n",
      "96:\tlearn: 1757.5215156\ttotal: 4.43s\tremaining: 137ms\n",
      "97:\tlearn: 1756.4166254\ttotal: 4.48s\tremaining: 91.4ms\n",
      "98:\tlearn: 1755.2936655\ttotal: 4.52s\tremaining: 45.7ms\n",
      "99:\tlearn: 1754.9382840\ttotal: 4.56s\tremaining: 0us\n",
      "Learning rate set to 0.5\n",
      "0:\tlearn: 3337.3057204\ttotal: 50.5ms\tremaining: 5s\n",
      "1:\tlearn: 2720.8559102\ttotal: 99.5ms\tremaining: 4.88s\n",
      "2:\tlearn: 2466.1455385\ttotal: 149ms\tremaining: 4.81s\n",
      "3:\tlearn: 2310.4579059\ttotal: 199ms\tremaining: 4.76s\n",
      "4:\tlearn: 2171.1826385\ttotal: 247ms\tremaining: 4.69s\n",
      "5:\tlearn: 2117.4679009\ttotal: 289ms\tremaining: 4.53s\n",
      "6:\tlearn: 2067.0502691\ttotal: 331ms\tremaining: 4.4s\n",
      "7:\tlearn: 2039.4946021\ttotal: 375ms\tremaining: 4.31s\n",
      "8:\tlearn: 2017.5534696\ttotal: 421ms\tremaining: 4.26s\n",
      "9:\tlearn: 1996.6996058\ttotal: 466ms\tremaining: 4.2s\n",
      "10:\tlearn: 1977.4439445\ttotal: 517ms\tremaining: 4.18s\n",
      "11:\tlearn: 1964.6090060\ttotal: 562ms\tremaining: 4.12s\n",
      "12:\tlearn: 1951.9641255\ttotal: 607ms\tremaining: 4.06s\n",
      "13:\tlearn: 1943.9404418\ttotal: 654ms\tremaining: 4.01s\n",
      "14:\tlearn: 1939.2578628\ttotal: 699ms\tremaining: 3.96s\n",
      "15:\tlearn: 1933.5378375\ttotal: 745ms\tremaining: 3.91s\n",
      "16:\tlearn: 1927.4652339\ttotal: 790ms\tremaining: 3.86s\n",
      "17:\tlearn: 1915.8989408\ttotal: 837ms\tremaining: 3.81s\n",
      "18:\tlearn: 1910.7728452\ttotal: 881ms\tremaining: 3.76s\n",
      "19:\tlearn: 1907.4903526\ttotal: 928ms\tremaining: 3.71s\n",
      "20:\tlearn: 1902.2131344\ttotal: 972ms\tremaining: 3.66s\n",
      "21:\tlearn: 1898.3925117\ttotal: 1.02s\tremaining: 3.61s\n",
      "22:\tlearn: 1892.7566861\ttotal: 1.07s\tremaining: 3.57s\n",
      "23:\tlearn: 1887.2397361\ttotal: 1.11s\tremaining: 3.52s\n",
      "24:\tlearn: 1880.4249973\ttotal: 1.16s\tremaining: 3.47s\n",
      "25:\tlearn: 1876.8742613\ttotal: 1.2s\tremaining: 3.41s\n",
      "26:\tlearn: 1873.3520690\ttotal: 1.24s\tremaining: 3.36s\n",
      "27:\tlearn: 1867.3287936\ttotal: 1.29s\tremaining: 3.31s\n",
      "28:\tlearn: 1864.3409427\ttotal: 1.34s\tremaining: 3.29s\n",
      "29:\tlearn: 1862.0598215\ttotal: 1.4s\tremaining: 3.27s\n",
      "30:\tlearn: 1858.4852364\ttotal: 1.45s\tremaining: 3.23s\n",
      "31:\tlearn: 1854.7850613\ttotal: 1.49s\tremaining: 3.17s\n",
      "32:\tlearn: 1850.9875526\ttotal: 1.54s\tremaining: 3.12s\n",
      "33:\tlearn: 1848.3344397\ttotal: 1.58s\tremaining: 3.08s\n",
      "34:\tlearn: 1845.1397393\ttotal: 1.63s\tremaining: 3.03s\n",
      "35:\tlearn: 1840.7611505\ttotal: 1.68s\tremaining: 2.98s\n",
      "36:\tlearn: 1838.1154132\ttotal: 1.72s\tremaining: 2.93s\n",
      "37:\tlearn: 1836.1014437\ttotal: 1.77s\tremaining: 2.88s\n",
      "38:\tlearn: 1834.0085505\ttotal: 1.81s\tremaining: 2.83s\n",
      "39:\tlearn: 1833.1120381\ttotal: 1.85s\tremaining: 2.78s\n",
      "40:\tlearn: 1829.2497590\ttotal: 1.9s\tremaining: 2.73s\n",
      "41:\tlearn: 1826.8682748\ttotal: 1.94s\tremaining: 2.68s\n",
      "42:\tlearn: 1824.7894806\ttotal: 1.99s\tremaining: 2.64s\n",
      "43:\tlearn: 1822.8678754\ttotal: 2.04s\tremaining: 2.59s\n",
      "44:\tlearn: 1821.3285886\ttotal: 2.08s\tremaining: 2.54s\n",
      "45:\tlearn: 1819.7862917\ttotal: 2.13s\tremaining: 2.5s\n",
      "46:\tlearn: 1819.0315083\ttotal: 2.17s\tremaining: 2.45s\n",
      "47:\tlearn: 1816.0548202\ttotal: 2.21s\tremaining: 2.4s\n",
      "48:\tlearn: 1813.8787940\ttotal: 2.26s\tremaining: 2.35s\n",
      "49:\tlearn: 1812.4768671\ttotal: 2.3s\tremaining: 2.3s\n",
      "50:\tlearn: 1811.5913515\ttotal: 2.34s\tremaining: 2.25s\n",
      "51:\tlearn: 1809.7247453\ttotal: 2.39s\tremaining: 2.21s\n",
      "52:\tlearn: 1808.8422498\ttotal: 2.44s\tremaining: 2.16s\n",
      "53:\tlearn: 1807.7035636\ttotal: 2.48s\tremaining: 2.11s\n",
      "54:\tlearn: 1805.5666335\ttotal: 2.52s\tremaining: 2.06s\n",
      "55:\tlearn: 1803.9448412\ttotal: 2.57s\tremaining: 2.02s\n",
      "56:\tlearn: 1802.4070893\ttotal: 2.61s\tremaining: 1.97s\n",
      "57:\tlearn: 1801.2617299\ttotal: 2.66s\tremaining: 1.93s\n",
      "58:\tlearn: 1799.2045164\ttotal: 2.7s\tremaining: 1.88s\n",
      "59:\tlearn: 1797.8304113\ttotal: 2.75s\tremaining: 1.83s\n",
      "60:\tlearn: 1796.1071153\ttotal: 2.79s\tremaining: 1.79s\n",
      "61:\tlearn: 1794.5040994\ttotal: 2.84s\tremaining: 1.74s\n",
      "62:\tlearn: 1793.7195541\ttotal: 2.88s\tremaining: 1.69s\n",
      "63:\tlearn: 1792.3646674\ttotal: 2.92s\tremaining: 1.65s\n",
      "64:\tlearn: 1791.5257605\ttotal: 2.97s\tremaining: 1.6s\n",
      "65:\tlearn: 1789.9841200\ttotal: 3.02s\tremaining: 1.55s\n",
      "66:\tlearn: 1788.7344786\ttotal: 3.06s\tremaining: 1.51s\n",
      "67:\tlearn: 1786.9141628\ttotal: 3.11s\tremaining: 1.46s\n",
      "68:\tlearn: 1785.6873294\ttotal: 3.15s\tremaining: 1.42s\n",
      "69:\tlearn: 1785.5270523\ttotal: 3.2s\tremaining: 1.37s\n",
      "70:\tlearn: 1783.6269022\ttotal: 3.24s\tremaining: 1.32s\n",
      "71:\tlearn: 1782.7279484\ttotal: 3.28s\tremaining: 1.28s\n",
      "72:\tlearn: 1781.1151728\ttotal: 3.33s\tremaining: 1.23s\n",
      "73:\tlearn: 1779.4199289\ttotal: 3.38s\tremaining: 1.19s\n",
      "74:\tlearn: 1777.7290390\ttotal: 3.42s\tremaining: 1.14s\n",
      "75:\tlearn: 1776.5405560\ttotal: 3.47s\tremaining: 1.09s\n",
      "76:\tlearn: 1774.9535101\ttotal: 3.51s\tremaining: 1.05s\n",
      "77:\tlearn: 1773.8867527\ttotal: 3.56s\tremaining: 1s\n",
      "78:\tlearn: 1773.2078044\ttotal: 3.6s\tremaining: 958ms\n",
      "79:\tlearn: 1772.6008861\ttotal: 3.65s\tremaining: 912ms\n",
      "80:\tlearn: 1772.0482992\ttotal: 3.7s\tremaining: 867ms\n",
      "81:\tlearn: 1771.0615093\ttotal: 3.74s\tremaining: 821ms\n",
      "82:\tlearn: 1769.2374684\ttotal: 3.78s\tremaining: 775ms\n",
      "83:\tlearn: 1768.1510850\ttotal: 3.83s\tremaining: 729ms\n",
      "84:\tlearn: 1767.8041888\ttotal: 3.87s\tremaining: 684ms\n",
      "85:\tlearn: 1766.4326715\ttotal: 3.92s\tremaining: 638ms\n",
      "86:\tlearn: 1765.7437698\ttotal: 3.96s\tremaining: 592ms\n",
      "87:\tlearn: 1764.4704211\ttotal: 4.01s\tremaining: 546ms\n",
      "88:\tlearn: 1763.6437358\ttotal: 4.05s\tremaining: 501ms\n",
      "89:\tlearn: 1762.4849149\ttotal: 4.09s\tremaining: 455ms\n",
      "90:\tlearn: 1762.0281794\ttotal: 4.14s\tremaining: 409ms\n",
      "91:\tlearn: 1761.2643930\ttotal: 4.18s\tremaining: 364ms\n",
      "92:\tlearn: 1758.7263432\ttotal: 4.23s\tremaining: 318ms\n",
      "93:\tlearn: 1757.1103444\ttotal: 4.27s\tremaining: 273ms\n",
      "94:\tlearn: 1756.1832217\ttotal: 4.31s\tremaining: 227ms\n",
      "95:\tlearn: 1755.1375002\ttotal: 4.35s\tremaining: 181ms\n",
      "96:\tlearn: 1754.2708138\ttotal: 4.4s\tremaining: 136ms\n",
      "97:\tlearn: 1753.5979275\ttotal: 4.44s\tremaining: 90.7ms\n",
      "98:\tlearn: 1752.3857419\ttotal: 4.49s\tremaining: 45.3ms\n",
      "99:\tlearn: 1750.8746038\ttotal: 4.53s\tremaining: 0us\n",
      "Модель: CatBoostRegressor\n",
      "RMSE на кроссвалидации: [1785.94586199 1799.61198707 1816.36322906 1788.4165014  1813.4210967 ]\n",
      "Среднее значение RMSE на кроссвалидации: 1800.7517352454047\n",
      "CPU times: user 24.2 s, sys: 128 ms, total: 24.3 s\n",
      "Wall time: 26.6 s\n"
     ]
    }
   ],
   "source": [
    "%%time\n",
    "\n",
    "# Кросс-валидация \n",
    "scores_cbs = cross_val_score(model_cbs, X_train, y_train, cv=5, scoring='neg_mean_squared_error')\n",
    "mse_scores_cbs = -scores_cbs  # Преобразуем отрицательные значения MSE в положительные\n",
    "rmse_scores_cbs = np.sqrt(mse_scores_cbs)\n",
    "\n",
    "\n",
    "# Вывод результатов кросс-валидации\n",
    "print(\"Модель: CatBoostRegressor\")\n",
    "print(f\"RMSE на кроссвалидации: {rmse_scores_cbs}\")\n",
    "print(f\"Среднее значение RMSE на кроссвалидации: {rmse_scores_cbs.mean()}\")"
   ]
  },
  {
   "cell_type": "code",
   "execution_count": 37,
   "metadata": {},
   "outputs": [
    {
     "name": "stdout",
     "output_type": "stream",
     "text": [
      "RMSE модели для тестовой выборки CatBoostRegressor: 1780.2163763024691\n",
      "CPU times: user 56.2 ms, sys: 3.54 ms, total: 59.7 ms\n",
      "Wall time: 57.8 ms\n"
     ]
    }
   ],
   "source": [
    "%%time\n",
    "rmse_сbs_final = mean_squared_error(y_test, model_cbs.predict(X_test), squared=False)\n",
    "\n",
    "print(f'RMSE модели для тестовой выборки CatBoostRegressor: {rmse_сbs_final}')"
   ]
  },
  {
   "cell_type": "markdown",
   "metadata": {},
   "source": [
    "**Регрессия LGBMRegressor**"
   ]
  },
  {
   "cell_type": "code",
   "execution_count": 38,
   "metadata": {},
   "outputs": [
    {
     "name": "stdout",
     "output_type": "stream",
     "text": [
      "CPU times: user 5.05 s, sys: 0 ns, total: 5.05 s\n",
      "Wall time: 5 s\n"
     ]
    },
    {
     "data": {
      "text/plain": [
       "LGBMRegressor()"
      ]
     },
     "execution_count": 38,
     "metadata": {},
     "output_type": "execute_result"
    }
   ],
   "source": [
    "%%time\n",
    "\n",
    "X_train_lgbm = X_train.copy()\n",
    "X_test_lgbm = X_test.copy()\n",
    "categorical_feature = ['VehicleType', 'FuelType', 'Brand', 'Repaired', 'Gearbox']\n",
    "\n",
    "# Кодирование категориальных признаков с помощью astype('category')\n",
    "for feature in categorical_feature:\n",
    "    X_train_lgbm[feature] = X_train_lgbm[feature].astype('category')\n",
    "    X_test_lgbm[feature] = X_test_lgbm[feature].astype('category')\n",
    "\n",
    "# Определение модели LGBMRegressor\n",
    "model_lgbm = LGBMRegressor()\n",
    "\n",
    "# Обучение модели\n",
    "model_lgbm.fit(X_train_lgbm, y_train)"
   ]
  },
  {
   "cell_type": "code",
   "execution_count": 39,
   "metadata": {},
   "outputs": [
    {
     "name": "stdout",
     "output_type": "stream",
     "text": [
      "Модель: LGBMRegressor\n",
      "RMSE на кроссвалидации: [1766.10758312 1773.45155484 1794.82424939 1761.9633241  1790.07897337]\n",
      "Среднее значение RMSE на кроссвалидации: 1777.2851369624484\n",
      "CPU times: user 22.6 s, sys: 0 ns, total: 22.6 s\n",
      "Wall time: 22.6 s\n"
     ]
    }
   ],
   "source": [
    "%%time\n",
    "\n",
    "# Кросс-валидация\n",
    "scores_lgbm = cross_val_score(model_lgbm, X_train_lgbm, y_train, cv=5, scoring='neg_mean_squared_error')\n",
    "mse_scores_lgbm = -scores_lgbm  # Преобразуем отрицательные значения MSE в положительные\n",
    "rmse_scores_lgbm = np.sqrt(mse_scores_lgbm)\n",
    "\n",
    "\n",
    "# Вывод результатов кросс-валидации\n",
    "print(\"Модель: LGBMRegressor\")\n",
    "print(f\"RMSE на кроссвалидации: {rmse_scores_lgbm}\")\n",
    "print(f\"Среднее значение RMSE на кроссвалидации: {rmse_scores_lgbm.mean()}\")"
   ]
  },
  {
   "cell_type": "code",
   "execution_count": 40,
   "metadata": {},
   "outputs": [
    {
     "name": "stdout",
     "output_type": "stream",
     "text": [
      "Модель: LGBMRegressor\n",
      "RMSE модели для тестовой выборки: 1757.9765092953778\n",
      "CPU times: user 584 ms, sys: 0 ns, total: 584 ms\n",
      "Wall time: 518 ms\n"
     ]
    }
   ],
   "source": [
    "%%time\n",
    "# Предсказание на тестовой выборке\n",
    "y_pred_lgbm = model_lgbm.predict(X_test_lgbm)\n",
    "\n",
    "# Подсчет RMSE\n",
    "rmse = np.sqrt(mean_squared_error(y_test, y_pred_lgbm))\n",
    "\n",
    "# Вывод результатов\n",
    "print(\"Модель: LGBMRegressor\")\n",
    "print(f\"RMSE модели для тестовой выборки: {rmse}\")"
   ]
  },
  {
   "cell_type": "markdown",
   "metadata": {},
   "source": [
    "## Анализ моделей"
   ]
  },
  {
   "cell_type": "markdown",
   "metadata": {},
   "source": [
    "\n",
    "**Модель: Ridge**\n",
    "\n",
    "- RMSE на кроссвалидации: [2944.08534737 2952.21549658 2956.65539576 2939.19881807 2987.34369098]\n",
    "- Среднее значение RMSE на кроссвалидации: 2955.8997497517757\n",
    "- Время обучения: 2.51 seconds\n",
    "- Лучшие гиперпараметры: Ridge: {'ridge__alpha': 1.0}\n",
    "- RMSE модели для тестовой выборки Ridge: 2914.0735640630014\n",
    "- Время обучения: 0.07 seconds\n",
    "\n",
    "\n",
    "\n",
    "**Модель: DecisionTree**\n",
    "\n",
    "- RMSE на кроссвалидации: [2083.64021113 2129.74259136 2088.63334956 2115.79236634 2126.78981927]\n",
    "- Среднее значение RMSE на кроссвалидации: 2108.919667531474\n",
    "- Время обучения: 107.80 seconds\n",
    "- Лучшие гиперпараметры: DecisionTree: {'decisiontree__max_depth': 10, 'decisiontree__min_samples_split': 7}\n",
    "- RMSE модели для тестовой выборки DecisionTree: 2056.169341340854\n",
    "- Время обучения: 0.07 seconds\n",
    "\n",
    "\n",
    "**Модель: LinearRegression**\n",
    "- RMSE на кроссвалидации: [2943.37321184 2952.00704527 2956.11762299 2939.2736559  2987.03162738]\n",
    "- Среднее значение RMSE на кроссвалидации: 2955.560632673993\n",
    "- Время обучения: 19.82 seconds\n",
    "- Лучшие гиперпараметры: LinearRegression: {}\n",
    "- RMSE модели для тестовой выборки LinearRegression: 2913.9877590798887\n",
    "- Время обучения: 0.25 seconds\n",
    "\n",
    "\n",
    "\n",
    "\n",
    "**Модель: CatBoostRegressor**\n",
    "- RMSE на кроссвалидации: [1785.94586199 1799.61198707 1816.36322906 1788.4165014  1813.4210967 ]\n",
    "- Среднее значение RMSE на кроссвалидации: 1800.7517352454047\n",
    "- Время обучения: 24.3 seconds\n",
    "- RMSE модели для тестовой выборки CatBoostRegressor: 1780.2163763024691\n",
    "- Время обучения: 0.597 seconds\n",
    "\n",
    "\n",
    "\n",
    " \n",
    "**Модель: LGBMRegressor**\n",
    "- RMSE на кроссвалидации: [1766.10758312 1773.45155484 1794.82424939 1761.9633241  1790.07897337]\n",
    "- Среднее значение RMSE на кроссвалидации: 1777.2851369624484\n",
    "- Время обучения: 22.6 seconds\n",
    "- RMSE модели для тестовой выборки: 1757.9765092953778\n",
    "- Время обучения: 0.584 seconds\n"
   ]
  },
  {
   "cell_type": "markdown",
   "metadata": {},
   "source": [
    "По заданию проекта RMSE у моделей должно быть менее 2500. Под данный критерий попадают 3 модели:\n",
    "\n",
    "    - LGBMRegressor (RMSE = 1757)\n",
    "    - CatBoostRegressor (RMSE = 1780)\n",
    "    - DecisionTree (RMSE = 2056)"
   ]
  },
  {
   "cell_type": "markdown",
   "metadata": {},
   "source": [
    "**Общий вывод**\n",
    "\n",
    "- Загружены данные и выполнена их предобработка \n",
    "- Выполнили обучение 5 моделей\n",
    "- Проведен анализ результатов по 3 показателям - RMSE, время обучения и время предскзания\n",
    "- Наилучшими моделями стали CatBoostRegressor и LGBMRegressor, но также в рамках проекта DecisionTree также проходит. "
   ]
  }
 ],
 "metadata": {
  "ExecuteTimeLog": [
   {
    "duration": 1833,
    "start_time": "2024-11-05T17:42:25.018Z"
   },
   {
    "duration": 1468,
    "start_time": "2024-11-05T17:44:37.823Z"
   },
   {
    "duration": 812,
    "start_time": "2024-11-05T17:50:58.537Z"
   },
   {
    "duration": 706,
    "start_time": "2024-11-05T17:51:07.394Z"
   },
   {
    "duration": 754,
    "start_time": "2024-11-05T17:51:13.143Z"
   },
   {
    "duration": 829,
    "start_time": "2024-11-05T17:51:20.554Z"
   },
   {
    "duration": 723,
    "start_time": "2024-11-05T17:51:28.515Z"
   },
   {
    "duration": 686,
    "start_time": "2024-11-05T17:51:36.853Z"
   },
   {
    "duration": 3,
    "start_time": "2024-11-05T17:53:09.235Z"
   },
   {
    "duration": 15,
    "start_time": "2024-11-05T17:53:13.650Z"
   },
   {
    "duration": 52,
    "start_time": "2024-11-05T17:54:12.971Z"
   },
   {
    "duration": 58,
    "start_time": "2024-11-05T17:54:20.884Z"
   },
   {
    "duration": 115,
    "start_time": "2024-11-05T17:56:46.968Z"
   },
   {
    "duration": 9,
    "start_time": "2024-11-05T17:57:04.084Z"
   },
   {
    "duration": 7,
    "start_time": "2024-11-05T17:57:12.545Z"
   },
   {
    "duration": 61,
    "start_time": "2024-11-05T17:57:55.404Z"
   },
   {
    "duration": 8,
    "start_time": "2024-11-05T17:59:33.354Z"
   },
   {
    "duration": 100,
    "start_time": "2024-11-05T18:04:00.984Z"
   },
   {
    "duration": 6,
    "start_time": "2024-11-05T18:05:59.551Z"
   },
   {
    "duration": 6,
    "start_time": "2024-11-05T18:07:07.351Z"
   },
   {
    "duration": 25,
    "start_time": "2024-11-05T18:08:30.433Z"
   },
   {
    "duration": 6,
    "start_time": "2024-11-05T18:09:29.110Z"
   },
   {
    "duration": 35,
    "start_time": "2024-11-05T18:10:58.313Z"
   },
   {
    "duration": 7,
    "start_time": "2024-11-05T18:12:00.771Z"
   },
   {
    "duration": 35,
    "start_time": "2024-11-05T18:12:44.212Z"
   },
   {
    "duration": 63,
    "start_time": "2024-11-05T18:14:31.790Z"
   },
   {
    "duration": 23,
    "start_time": "2024-11-05T18:14:52.680Z"
   },
   {
    "duration": 27,
    "start_time": "2024-11-05T18:16:09.187Z"
   },
   {
    "duration": 22,
    "start_time": "2024-11-05T18:17:11.934Z"
   },
   {
    "duration": 614,
    "start_time": "2024-11-05T18:19:59.578Z"
   },
   {
    "duration": 556,
    "start_time": "2024-11-05T18:21:35.954Z"
   },
   {
    "duration": 12,
    "start_time": "2024-11-05T18:27:45.441Z"
   },
   {
    "duration": 28,
    "start_time": "2024-11-05T18:28:00.242Z"
   },
   {
    "duration": 127,
    "start_time": "2024-11-05T18:28:39.373Z"
   },
   {
    "duration": 24,
    "start_time": "2024-11-05T18:30:21.343Z"
   },
   {
    "duration": 29,
    "start_time": "2024-11-05T18:31:05.732Z"
   },
   {
    "duration": 47,
    "start_time": "2024-11-05T18:31:19.370Z"
   },
   {
    "duration": 61,
    "start_time": "2024-11-05T18:31:23.516Z"
   },
   {
    "duration": 22,
    "start_time": "2024-11-05T18:32:40.507Z"
   },
   {
    "duration": 651,
    "start_time": "2024-11-05T18:34:04.249Z"
   },
   {
    "duration": 38,
    "start_time": "2024-11-05T18:34:39.302Z"
   },
   {
    "duration": 38,
    "start_time": "2024-11-05T18:34:40.818Z"
   },
   {
    "duration": 9,
    "start_time": "2024-11-05T18:35:44.595Z"
   },
   {
    "duration": 37,
    "start_time": "2024-11-05T18:35:46.624Z"
   },
   {
    "duration": 36,
    "start_time": "2024-11-05T18:35:47.027Z"
   },
   {
    "duration": 22,
    "start_time": "2024-11-05T18:35:47.754Z"
   },
   {
    "duration": 25,
    "start_time": "2024-11-05T18:37:24.720Z"
   },
   {
    "duration": 22,
    "start_time": "2024-11-05T18:37:36.774Z"
   },
   {
    "duration": 20,
    "start_time": "2024-11-05T18:40:18.028Z"
   },
   {
    "duration": 19,
    "start_time": "2024-11-05T18:40:36.952Z"
   },
   {
    "duration": 3436,
    "start_time": "2024-11-05T18:45:25.596Z"
   },
   {
    "duration": 32,
    "start_time": "2024-11-05T18:47:19.308Z"
   },
   {
    "duration": 52,
    "start_time": "2024-11-05T18:47:34.870Z"
   },
   {
    "duration": 152,
    "start_time": "2024-11-05T18:47:55.075Z"
   },
   {
    "duration": 88,
    "start_time": "2024-11-05T18:48:24.806Z"
   },
   {
    "duration": 27,
    "start_time": "2024-11-05T18:51:10.743Z"
   },
   {
    "duration": 1460,
    "start_time": "2024-11-05T18:52:11.611Z"
   },
   {
    "duration": 1095,
    "start_time": "2024-11-05T18:52:13.073Z"
   },
   {
    "duration": 709,
    "start_time": "2024-11-05T18:52:14.170Z"
   },
   {
    "duration": 18,
    "start_time": "2024-11-05T18:52:14.881Z"
   },
   {
    "duration": 55,
    "start_time": "2024-11-05T18:52:14.901Z"
   },
   {
    "duration": 6,
    "start_time": "2024-11-05T18:52:14.957Z"
   },
   {
    "duration": 83,
    "start_time": "2024-11-05T18:52:14.964Z"
   },
   {
    "duration": 8,
    "start_time": "2024-11-05T18:52:15.049Z"
   },
   {
    "duration": 198,
    "start_time": "2024-11-05T18:52:15.058Z"
   },
   {
    "duration": 6,
    "start_time": "2024-11-05T18:52:15.258Z"
   },
   {
    "duration": 21,
    "start_time": "2024-11-05T18:52:15.265Z"
   },
   {
    "duration": 41,
    "start_time": "2024-11-05T18:52:15.287Z"
   },
   {
    "duration": 83,
    "start_time": "2024-11-05T18:52:15.329Z"
   },
   {
    "duration": 35,
    "start_time": "2024-11-05T18:52:15.414Z"
   },
   {
    "duration": 23,
    "start_time": "2024-11-05T18:52:15.450Z"
   },
   {
    "duration": 38,
    "start_time": "2024-11-05T18:52:15.475Z"
   },
   {
    "duration": 33,
    "start_time": "2024-11-05T18:52:15.515Z"
   },
   {
    "duration": 157,
    "start_time": "2024-11-05T18:52:15.550Z"
   },
   {
    "duration": 49,
    "start_time": "2024-11-05T18:52:15.709Z"
   },
   {
    "duration": 44,
    "start_time": "2024-11-05T18:52:15.759Z"
   },
   {
    "duration": 45,
    "start_time": "2024-11-05T18:52:15.805Z"
   },
   {
    "duration": 26,
    "start_time": "2024-11-05T18:52:15.852Z"
   },
   {
    "duration": 129,
    "start_time": "2024-11-05T18:52:15.879Z"
   },
   {
    "duration": 0,
    "start_time": "2024-11-05T18:52:16.010Z"
   },
   {
    "duration": 0,
    "start_time": "2024-11-05T18:52:16.011Z"
   },
   {
    "duration": 0,
    "start_time": "2024-11-05T18:52:16.012Z"
   },
   {
    "duration": 0,
    "start_time": "2024-11-05T18:52:16.013Z"
   },
   {
    "duration": 27,
    "start_time": "2024-11-05T18:52:28.962Z"
   },
   {
    "duration": 19,
    "start_time": "2024-11-05T18:53:09.879Z"
   },
   {
    "duration": 3232,
    "start_time": "2024-11-05T18:53:11.090Z"
   },
   {
    "duration": 27,
    "start_time": "2024-11-05T18:53:14.324Z"
   },
   {
    "duration": 190,
    "start_time": "2024-11-05T18:53:14.352Z"
   },
   {
    "duration": 83,
    "start_time": "2024-11-05T18:53:14.544Z"
   },
   {
    "duration": 9,
    "start_time": "2024-11-05T18:53:35.370Z"
   },
   {
    "duration": 93,
    "start_time": "2024-11-05T18:53:41.850Z"
   },
   {
    "duration": 57,
    "start_time": "2024-11-05T18:54:18.186Z"
   },
   {
    "duration": 111,
    "start_time": "2024-11-05T18:55:11.498Z"
   },
   {
    "duration": 1431,
    "start_time": "2024-11-05T20:44:22.165Z"
   },
   {
    "duration": 1086,
    "start_time": "2024-11-05T20:44:23.597Z"
   },
   {
    "duration": 753,
    "start_time": "2024-11-05T20:44:24.685Z"
   },
   {
    "duration": 14,
    "start_time": "2024-11-05T20:44:25.440Z"
   },
   {
    "duration": 75,
    "start_time": "2024-11-05T20:44:25.456Z"
   },
   {
    "duration": 5,
    "start_time": "2024-11-05T20:44:25.533Z"
   },
   {
    "duration": 74,
    "start_time": "2024-11-05T20:44:25.540Z"
   },
   {
    "duration": 7,
    "start_time": "2024-11-05T20:44:25.615Z"
   },
   {
    "duration": 201,
    "start_time": "2024-11-05T20:44:25.624Z"
   },
   {
    "duration": 6,
    "start_time": "2024-11-05T20:44:25.827Z"
   },
   {
    "duration": 7,
    "start_time": "2024-11-05T20:44:25.834Z"
   },
   {
    "duration": 7,
    "start_time": "2024-11-05T20:44:25.842Z"
   },
   {
    "duration": 67,
    "start_time": "2024-11-05T20:44:25.850Z"
   },
   {
    "duration": 46,
    "start_time": "2024-11-05T20:44:25.919Z"
   },
   {
    "duration": 34,
    "start_time": "2024-11-05T20:44:25.967Z"
   },
   {
    "duration": 44,
    "start_time": "2024-11-05T20:44:26.002Z"
   },
   {
    "duration": 25,
    "start_time": "2024-11-05T20:44:26.047Z"
   },
   {
    "duration": 33,
    "start_time": "2024-11-05T20:44:26.073Z"
   },
   {
    "duration": 49,
    "start_time": "2024-11-05T20:44:26.108Z"
   },
   {
    "duration": 48,
    "start_time": "2024-11-05T20:44:26.159Z"
   },
   {
    "duration": 39,
    "start_time": "2024-11-05T20:44:26.209Z"
   },
   {
    "duration": 29,
    "start_time": "2024-11-05T20:44:26.250Z"
   },
   {
    "duration": 50,
    "start_time": "2024-11-05T20:44:26.280Z"
   },
   {
    "duration": 3238,
    "start_time": "2024-11-05T20:44:26.332Z"
   },
   {
    "duration": 51,
    "start_time": "2024-11-05T20:44:29.571Z"
   },
   {
    "duration": 175,
    "start_time": "2024-11-05T20:44:29.624Z"
   },
   {
    "duration": 120,
    "start_time": "2024-11-05T20:44:29.800Z"
   },
   {
    "duration": 80,
    "start_time": "2024-11-05T20:56:16.975Z"
   },
   {
    "duration": 116,
    "start_time": "2024-11-05T20:56:20.211Z"
   },
   {
    "duration": 1170,
    "start_time": "2024-11-05T20:59:15.267Z"
   },
   {
    "duration": 2192,
    "start_time": "2024-11-05T21:06:43.492Z"
   },
   {
    "duration": 1426,
    "start_time": "2024-11-05T21:08:20.731Z"
   },
   {
    "duration": 1480,
    "start_time": "2024-11-05T21:08:57.653Z"
   },
   {
    "duration": 1131,
    "start_time": "2024-11-05T21:08:59.135Z"
   },
   {
    "duration": 707,
    "start_time": "2024-11-05T21:09:00.268Z"
   },
   {
    "duration": 23,
    "start_time": "2024-11-05T21:09:00.977Z"
   },
   {
    "duration": 80,
    "start_time": "2024-11-05T21:09:01.001Z"
   },
   {
    "duration": 6,
    "start_time": "2024-11-05T21:09:01.084Z"
   },
   {
    "duration": 83,
    "start_time": "2024-11-05T21:09:01.091Z"
   },
   {
    "duration": 7,
    "start_time": "2024-11-05T21:09:01.176Z"
   },
   {
    "duration": 233,
    "start_time": "2024-11-05T21:09:01.184Z"
   },
   {
    "duration": 6,
    "start_time": "2024-11-05T21:09:01.420Z"
   },
   {
    "duration": 19,
    "start_time": "2024-11-05T21:09:01.427Z"
   },
   {
    "duration": 53,
    "start_time": "2024-11-05T21:09:01.448Z"
   },
   {
    "duration": 75,
    "start_time": "2024-11-05T21:09:01.503Z"
   },
   {
    "duration": 37,
    "start_time": "2024-11-05T21:09:01.580Z"
   },
   {
    "duration": 23,
    "start_time": "2024-11-05T21:09:01.618Z"
   },
   {
    "duration": 50,
    "start_time": "2024-11-05T21:09:01.643Z"
   },
   {
    "duration": 37,
    "start_time": "2024-11-05T21:09:01.695Z"
   },
   {
    "duration": 55,
    "start_time": "2024-11-05T21:09:01.734Z"
   },
   {
    "duration": 71,
    "start_time": "2024-11-05T21:09:01.790Z"
   },
   {
    "duration": 82,
    "start_time": "2024-11-05T21:09:01.863Z"
   },
   {
    "duration": 52,
    "start_time": "2024-11-05T21:09:01.946Z"
   },
   {
    "duration": 49,
    "start_time": "2024-11-05T21:09:01.999Z"
   },
   {
    "duration": 47,
    "start_time": "2024-11-05T21:09:02.050Z"
   },
   {
    "duration": 3392,
    "start_time": "2024-11-05T21:09:02.098Z"
   },
   {
    "duration": 41,
    "start_time": "2024-11-05T21:09:05.491Z"
   },
   {
    "duration": 192,
    "start_time": "2024-11-05T21:09:05.534Z"
   },
   {
    "duration": 129,
    "start_time": "2024-11-05T21:09:05.728Z"
   },
   {
    "duration": 280,
    "start_time": "2024-11-05T21:09:05.860Z"
   },
   {
    "duration": 127,
    "start_time": "2024-11-05T21:09:06.142Z"
   },
   {
    "duration": 0,
    "start_time": "2024-11-05T21:09:06.270Z"
   },
   {
    "duration": 0,
    "start_time": "2024-11-05T21:09:06.272Z"
   },
   {
    "duration": 0,
    "start_time": "2024-11-05T21:09:06.273Z"
   },
   {
    "duration": 900,
    "start_time": "2024-11-05T21:10:08.944Z"
   },
   {
    "duration": 75,
    "start_time": "2024-11-05T21:10:26.972Z"
   },
   {
    "duration": 166,
    "start_time": "2024-11-05T21:10:55.924Z"
   },
   {
    "duration": 66,
    "start_time": "2024-11-05T21:13:05.653Z"
   },
   {
    "duration": 89,
    "start_time": "2024-11-05T21:13:22.520Z"
   },
   {
    "duration": 101,
    "start_time": "2024-11-05T21:13:51.770Z"
   },
   {
    "duration": 375,
    "start_time": "2024-11-05T21:15:55.565Z"
   },
   {
    "duration": 316,
    "start_time": "2024-11-05T21:16:15.774Z"
   },
   {
    "duration": 244,
    "start_time": "2024-11-05T21:16:29.389Z"
   },
   {
    "duration": 1481,
    "start_time": "2024-11-05T21:18:37.945Z"
   },
   {
    "duration": 1083,
    "start_time": "2024-11-05T21:18:39.428Z"
   },
   {
    "duration": 738,
    "start_time": "2024-11-05T21:18:40.513Z"
   },
   {
    "duration": 14,
    "start_time": "2024-11-05T21:18:41.252Z"
   },
   {
    "duration": 71,
    "start_time": "2024-11-05T21:18:41.268Z"
   },
   {
    "duration": 6,
    "start_time": "2024-11-05T21:18:41.341Z"
   },
   {
    "duration": 85,
    "start_time": "2024-11-05T21:18:41.348Z"
   },
   {
    "duration": 8,
    "start_time": "2024-11-05T21:18:41.434Z"
   },
   {
    "duration": 187,
    "start_time": "2024-11-05T21:18:41.443Z"
   },
   {
    "duration": 6,
    "start_time": "2024-11-05T21:18:41.633Z"
   },
   {
    "duration": 13,
    "start_time": "2024-11-05T21:18:41.640Z"
   },
   {
    "duration": 6,
    "start_time": "2024-11-05T21:18:41.654Z"
   },
   {
    "duration": 74,
    "start_time": "2024-11-05T21:18:41.662Z"
   },
   {
    "duration": 38,
    "start_time": "2024-11-05T21:18:41.737Z"
   },
   {
    "duration": 30,
    "start_time": "2024-11-05T21:18:41.777Z"
   },
   {
    "duration": 23,
    "start_time": "2024-11-05T21:18:41.808Z"
   },
   {
    "duration": 22,
    "start_time": "2024-11-05T21:18:41.833Z"
   },
   {
    "duration": 44,
    "start_time": "2024-11-05T21:18:41.857Z"
   },
   {
    "duration": 39,
    "start_time": "2024-11-05T21:18:41.902Z"
   },
   {
    "duration": 83,
    "start_time": "2024-11-05T21:18:41.943Z"
   },
   {
    "duration": 27,
    "start_time": "2024-11-05T21:18:42.028Z"
   },
   {
    "duration": 22,
    "start_time": "2024-11-05T21:18:42.057Z"
   },
   {
    "duration": 29,
    "start_time": "2024-11-05T21:18:42.080Z"
   },
   {
    "duration": 3334,
    "start_time": "2024-11-05T21:18:42.110Z"
   },
   {
    "duration": 39,
    "start_time": "2024-11-05T21:18:45.446Z"
   },
   {
    "duration": 184,
    "start_time": "2024-11-05T21:18:45.487Z"
   },
   {
    "duration": 133,
    "start_time": "2024-11-05T21:18:45.673Z"
   },
   {
    "duration": 287,
    "start_time": "2024-11-05T21:18:45.811Z"
   },
   {
    "duration": 888,
    "start_time": "2024-11-05T21:18:46.099Z"
   },
   {
    "duration": 143,
    "start_time": "2024-11-05T21:18:46.989Z"
   },
   {
    "duration": 290,
    "start_time": "2024-11-05T21:18:47.134Z"
   },
   {
    "duration": 11,
    "start_time": "2024-11-05T21:20:13.457Z"
   },
   {
    "duration": 384,
    "start_time": "2024-11-05T21:21:09.650Z"
   },
   {
    "duration": 138,
    "start_time": "2024-11-05T21:21:47.328Z"
   },
   {
    "duration": 461,
    "start_time": "2024-11-05T21:24:51.846Z"
   },
   {
    "duration": 479,
    "start_time": "2024-11-05T21:26:01.120Z"
   },
   {
    "duration": 772,
    "start_time": "2024-11-05T21:28:08.234Z"
   },
   {
    "duration": 587,
    "start_time": "2024-11-05T21:28:59.212Z"
   },
   {
    "duration": 64,
    "start_time": "2024-11-05T21:31:06.459Z"
   },
   {
    "duration": 73,
    "start_time": "2024-11-05T21:31:41.362Z"
   },
   {
    "duration": 82,
    "start_time": "2024-11-05T21:32:09.104Z"
   },
   {
    "duration": 73,
    "start_time": "2024-11-05T21:32:32.059Z"
   },
   {
    "duration": 73,
    "start_time": "2024-11-05T21:32:50.085Z"
   },
   {
    "duration": 920,
    "start_time": "2024-11-05T21:33:26.923Z"
   },
   {
    "duration": 965,
    "start_time": "2024-11-05T21:35:43.175Z"
   },
   {
    "duration": 15,
    "start_time": "2024-11-05T21:39:34.885Z"
   },
   {
    "duration": 1632,
    "start_time": "2024-11-05T21:40:18.992Z"
   },
   {
    "duration": 1092,
    "start_time": "2024-11-05T21:40:20.626Z"
   },
   {
    "duration": 709,
    "start_time": "2024-11-05T21:40:21.719Z"
   },
   {
    "duration": 13,
    "start_time": "2024-11-05T21:40:22.430Z"
   },
   {
    "duration": 67,
    "start_time": "2024-11-05T21:40:22.445Z"
   },
   {
    "duration": 5,
    "start_time": "2024-11-05T21:40:22.514Z"
   },
   {
    "duration": 78,
    "start_time": "2024-11-05T21:40:22.520Z"
   },
   {
    "duration": 8,
    "start_time": "2024-11-05T21:40:22.599Z"
   },
   {
    "duration": 191,
    "start_time": "2024-11-05T21:40:22.608Z"
   },
   {
    "duration": 5,
    "start_time": "2024-11-05T21:40:22.801Z"
   },
   {
    "duration": 8,
    "start_time": "2024-11-05T21:40:22.807Z"
   },
   {
    "duration": 7,
    "start_time": "2024-11-05T21:40:22.816Z"
   },
   {
    "duration": 76,
    "start_time": "2024-11-05T21:40:22.825Z"
   },
   {
    "duration": 35,
    "start_time": "2024-11-05T21:40:22.905Z"
   },
   {
    "duration": 23,
    "start_time": "2024-11-05T21:40:22.942Z"
   },
   {
    "duration": 42,
    "start_time": "2024-11-05T21:40:22.967Z"
   },
   {
    "duration": 25,
    "start_time": "2024-11-05T21:40:23.011Z"
   },
   {
    "duration": 20,
    "start_time": "2024-11-05T21:40:23.038Z"
   },
   {
    "duration": 46,
    "start_time": "2024-11-05T21:40:23.060Z"
   },
   {
    "duration": 38,
    "start_time": "2024-11-05T21:40:23.108Z"
   },
   {
    "duration": 56,
    "start_time": "2024-11-05T21:40:23.148Z"
   },
   {
    "duration": 29,
    "start_time": "2024-11-05T21:40:23.206Z"
   },
   {
    "duration": 22,
    "start_time": "2024-11-05T21:40:23.237Z"
   },
   {
    "duration": 2999,
    "start_time": "2024-11-05T21:40:23.261Z"
   },
   {
    "duration": 48,
    "start_time": "2024-11-05T21:40:26.262Z"
   },
   {
    "duration": 178,
    "start_time": "2024-11-05T21:40:26.311Z"
   },
   {
    "duration": 125,
    "start_time": "2024-11-05T21:40:26.490Z"
   },
   {
    "duration": 273,
    "start_time": "2024-11-05T21:40:26.616Z"
   },
   {
    "duration": 850,
    "start_time": "2024-11-05T21:40:26.890Z"
   },
   {
    "duration": 108,
    "start_time": "2024-11-05T21:40:27.742Z"
   },
   {
    "duration": 556,
    "start_time": "2024-11-05T21:40:27.851Z"
   },
   {
    "duration": 1000,
    "start_time": "2024-11-05T21:40:28.498Z"
   },
   {
    "duration": 12306,
    "start_time": "2024-11-05T21:40:29.500Z"
   },
   {
    "duration": 113,
    "start_time": "2024-11-05T21:47:09.847Z"
   },
   {
    "duration": 34938,
    "start_time": "2024-11-05T21:53:52.422Z"
   },
   {
    "duration": 7464,
    "start_time": "2024-11-05T21:58:11.041Z"
   },
   {
    "duration": 1696,
    "start_time": "2024-11-06T17:16:03.130Z"
   },
   {
    "duration": 3101,
    "start_time": "2024-11-06T17:16:04.828Z"
   },
   {
    "duration": 711,
    "start_time": "2024-11-06T17:16:07.931Z"
   },
   {
    "duration": 15,
    "start_time": "2024-11-06T17:16:08.644Z"
   },
   {
    "duration": 66,
    "start_time": "2024-11-06T17:16:08.661Z"
   },
   {
    "duration": 7,
    "start_time": "2024-11-06T17:16:08.729Z"
   },
   {
    "duration": 81,
    "start_time": "2024-11-06T17:16:08.738Z"
   },
   {
    "duration": 8,
    "start_time": "2024-11-06T17:16:08.821Z"
   },
   {
    "duration": 187,
    "start_time": "2024-11-06T17:16:08.831Z"
   },
   {
    "duration": 6,
    "start_time": "2024-11-06T17:16:09.020Z"
   },
   {
    "duration": 6,
    "start_time": "2024-11-06T17:16:09.027Z"
   },
   {
    "duration": 8,
    "start_time": "2024-11-06T17:16:09.035Z"
   },
   {
    "duration": 54,
    "start_time": "2024-11-06T17:16:09.044Z"
   },
   {
    "duration": 36,
    "start_time": "2024-11-06T17:16:09.117Z"
   },
   {
    "duration": 21,
    "start_time": "2024-11-06T17:16:09.155Z"
   },
   {
    "duration": 23,
    "start_time": "2024-11-06T17:16:09.178Z"
   },
   {
    "duration": 32,
    "start_time": "2024-11-06T17:16:09.202Z"
   },
   {
    "duration": 22,
    "start_time": "2024-11-06T17:16:09.236Z"
   },
   {
    "duration": 37,
    "start_time": "2024-11-06T17:16:09.259Z"
   },
   {
    "duration": 52,
    "start_time": "2024-11-06T17:16:09.297Z"
   },
   {
    "duration": 31,
    "start_time": "2024-11-06T17:16:09.351Z"
   },
   {
    "duration": 22,
    "start_time": "2024-11-06T17:16:09.384Z"
   },
   {
    "duration": 24,
    "start_time": "2024-11-06T17:16:09.408Z"
   },
   {
    "duration": 3254,
    "start_time": "2024-11-06T17:16:09.433Z"
   },
   {
    "duration": 47,
    "start_time": "2024-11-06T17:16:12.688Z"
   },
   {
    "duration": 186,
    "start_time": "2024-11-06T17:16:12.736Z"
   },
   {
    "duration": 156,
    "start_time": "2024-11-06T17:16:12.924Z"
   },
   {
    "duration": 3,
    "start_time": "2024-11-06T17:16:13.085Z"
   },
   {
    "duration": 251,
    "start_time": "2024-11-06T17:16:13.090Z"
   },
   {
    "duration": 812,
    "start_time": "2024-11-06T17:16:13.343Z"
   },
   {
    "duration": 96,
    "start_time": "2024-11-06T17:16:14.157Z"
   },
   {
    "duration": 566,
    "start_time": "2024-11-06T17:16:14.256Z"
   },
   {
    "duration": 1014,
    "start_time": "2024-11-06T17:16:14.824Z"
   },
   {
    "duration": 11887,
    "start_time": "2024-11-06T17:16:15.840Z"
   },
   {
    "duration": 33723,
    "start_time": "2024-11-06T17:16:27.730Z"
   },
   {
    "duration": 10579,
    "start_time": "2024-11-06T17:17:01.455Z"
   },
   {
    "duration": 1462,
    "start_time": "2024-11-06T17:20:24.567Z"
   },
   {
    "duration": 1066,
    "start_time": "2024-11-06T17:20:26.031Z"
   },
   {
    "duration": 722,
    "start_time": "2024-11-06T17:20:27.099Z"
   },
   {
    "duration": 15,
    "start_time": "2024-11-06T17:20:27.824Z"
   },
   {
    "duration": 56,
    "start_time": "2024-11-06T17:20:27.840Z"
   },
   {
    "duration": 7,
    "start_time": "2024-11-06T17:20:27.917Z"
   },
   {
    "duration": 73,
    "start_time": "2024-11-06T17:20:27.925Z"
   },
   {
    "duration": 24,
    "start_time": "2024-11-06T17:20:27.999Z"
   },
   {
    "duration": 184,
    "start_time": "2024-11-06T17:20:28.025Z"
   },
   {
    "duration": 10,
    "start_time": "2024-11-06T17:20:28.211Z"
   },
   {
    "duration": 13,
    "start_time": "2024-11-06T17:20:28.222Z"
   },
   {
    "duration": 31,
    "start_time": "2024-11-06T17:20:28.236Z"
   },
   {
    "duration": 52,
    "start_time": "2024-11-06T17:20:28.269Z"
   },
   {
    "duration": 37,
    "start_time": "2024-11-06T17:20:28.323Z"
   },
   {
    "duration": 22,
    "start_time": "2024-11-06T17:20:28.361Z"
   },
   {
    "duration": 40,
    "start_time": "2024-11-06T17:20:28.384Z"
   },
   {
    "duration": 23,
    "start_time": "2024-11-06T17:20:28.426Z"
   },
   {
    "duration": 19,
    "start_time": "2024-11-06T17:20:28.451Z"
   },
   {
    "duration": 53,
    "start_time": "2024-11-06T17:20:28.472Z"
   },
   {
    "duration": 35,
    "start_time": "2024-11-06T17:20:28.527Z"
   },
   {
    "duration": 24,
    "start_time": "2024-11-06T17:20:28.564Z"
   },
   {
    "duration": 33,
    "start_time": "2024-11-06T17:20:28.589Z"
   },
   {
    "duration": 22,
    "start_time": "2024-11-06T17:20:28.624Z"
   },
   {
    "duration": 3216,
    "start_time": "2024-11-06T17:20:28.648Z"
   },
   {
    "duration": 39,
    "start_time": "2024-11-06T17:20:31.866Z"
   },
   {
    "duration": 184,
    "start_time": "2024-11-06T17:20:31.907Z"
   },
   {
    "duration": 139,
    "start_time": "2024-11-06T17:20:32.093Z"
   },
   {
    "duration": 3,
    "start_time": "2024-11-06T17:20:32.236Z"
   },
   {
    "duration": 266,
    "start_time": "2024-11-06T17:20:32.240Z"
   },
   {
    "duration": 912,
    "start_time": "2024-11-06T17:20:32.508Z"
   },
   {
    "duration": 107,
    "start_time": "2024-11-06T17:20:33.422Z"
   },
   {
    "duration": 494,
    "start_time": "2024-11-06T17:20:33.532Z"
   },
   {
    "duration": 101,
    "start_time": "2024-11-06T17:20:34.028Z"
   },
   {
    "duration": 971,
    "start_time": "2024-11-06T17:20:34.218Z"
   },
   {
    "duration": 32,
    "start_time": "2024-11-06T17:20:35.191Z"
   },
   {
    "duration": 11503,
    "start_time": "2024-11-06T17:20:35.224Z"
   },
   {
    "duration": 112,
    "start_time": "2024-11-06T17:20:46.822Z"
   },
   {
    "duration": 33604,
    "start_time": "2024-11-06T17:20:47.020Z"
   },
   {
    "duration": 101,
    "start_time": "2024-11-06T17:21:20.625Z"
   },
   {
    "duration": 10007,
    "start_time": "2024-11-06T17:21:20.728Z"
   },
   {
    "duration": 718,
    "start_time": "2024-11-06T17:21:30.819Z"
   },
   {
    "duration": 66,
    "start_time": "2024-11-06T17:38:09.377Z"
   },
   {
    "duration": 16,
    "start_time": "2024-11-06T17:38:24.243Z"
   },
   {
    "duration": 3365,
    "start_time": "2024-11-06T18:14:35.678Z"
   },
   {
    "duration": 3070,
    "start_time": "2024-11-06T18:14:39.045Z"
   },
   {
    "duration": 624,
    "start_time": "2024-11-06T18:14:42.116Z"
   },
   {
    "duration": 30,
    "start_time": "2024-11-06T18:14:42.741Z"
   },
   {
    "duration": 51,
    "start_time": "2024-11-06T18:14:42.773Z"
   },
   {
    "duration": 5,
    "start_time": "2024-11-06T18:14:42.826Z"
   },
   {
    "duration": 71,
    "start_time": "2024-11-06T18:14:42.833Z"
   },
   {
    "duration": 6,
    "start_time": "2024-11-06T18:14:42.906Z"
   },
   {
    "duration": 170,
    "start_time": "2024-11-06T18:14:42.913Z"
   },
   {
    "duration": 6,
    "start_time": "2024-11-06T18:14:43.091Z"
   },
   {
    "duration": 5,
    "start_time": "2024-11-06T18:14:43.099Z"
   },
   {
    "duration": 6,
    "start_time": "2024-11-06T18:14:43.105Z"
   },
   {
    "duration": 67,
    "start_time": "2024-11-06T18:14:43.113Z"
   },
   {
    "duration": 34,
    "start_time": "2024-11-06T18:14:43.182Z"
   },
   {
    "duration": 18,
    "start_time": "2024-11-06T18:14:43.218Z"
   },
   {
    "duration": 37,
    "start_time": "2024-11-06T18:14:43.238Z"
   },
   {
    "duration": 17,
    "start_time": "2024-11-06T18:14:43.277Z"
   },
   {
    "duration": 48,
    "start_time": "2024-11-06T18:14:43.295Z"
   },
   {
    "duration": 53,
    "start_time": "2024-11-06T18:14:43.344Z"
   },
   {
    "duration": 30,
    "start_time": "2024-11-06T18:14:43.399Z"
   },
   {
    "duration": 24,
    "start_time": "2024-11-06T18:14:43.430Z"
   },
   {
    "duration": 26,
    "start_time": "2024-11-06T18:14:43.456Z"
   },
   {
    "duration": 18,
    "start_time": "2024-11-06T18:14:43.483Z"
   },
   {
    "duration": 3137,
    "start_time": "2024-11-06T18:14:43.502Z"
   },
   {
    "duration": 46,
    "start_time": "2024-11-06T18:14:46.641Z"
   },
   {
    "duration": 192,
    "start_time": "2024-11-06T18:14:46.688Z"
   },
   {
    "duration": 94,
    "start_time": "2024-11-06T18:14:46.882Z"
   },
   {
    "duration": 2,
    "start_time": "2024-11-06T18:14:46.980Z"
   },
   {
    "duration": 251,
    "start_time": "2024-11-06T18:14:46.984Z"
   },
   {
    "duration": 794,
    "start_time": "2024-11-06T18:14:47.237Z"
   },
   {
    "duration": 84,
    "start_time": "2024-11-06T18:14:48.033Z"
   },
   {
    "duration": 457,
    "start_time": "2024-11-06T18:14:48.119Z"
   },
   {
    "duration": 97,
    "start_time": "2024-11-06T18:14:48.578Z"
   },
   {
    "duration": 1000,
    "start_time": "2024-11-06T18:14:48.677Z"
   },
   {
    "duration": 17,
    "start_time": "2024-11-06T18:14:49.678Z"
   },
   {
    "duration": 11071,
    "start_time": "2024-11-06T18:14:49.696Z"
   },
   {
    "duration": 113,
    "start_time": "2024-11-06T18:15:00.768Z"
   },
   {
    "duration": 34725,
    "start_time": "2024-11-06T18:15:00.883Z"
   },
   {
    "duration": 94,
    "start_time": "2024-11-06T18:15:35.609Z"
   },
   {
    "duration": 995558,
    "start_time": "2024-11-06T18:15:35.704Z"
   },
   {
    "duration": 994,
    "start_time": "2024-11-06T18:32:11.264Z"
   },
   {
    "duration": 13,
    "start_time": "2024-11-06T18:32:12.260Z"
   },
   {
    "duration": 1420,
    "start_time": "2024-11-08T18:54:58.823Z"
   },
   {
    "duration": 2863,
    "start_time": "2024-11-08T18:55:00.247Z"
   },
   {
    "duration": 587,
    "start_time": "2024-11-08T18:55:03.112Z"
   },
   {
    "duration": 11,
    "start_time": "2024-11-08T18:55:03.701Z"
   },
   {
    "duration": 117,
    "start_time": "2024-11-08T18:55:03.714Z"
   },
   {
    "duration": 110,
    "start_time": "2024-11-08T18:55:03.832Z"
   },
   {
    "duration": 0,
    "start_time": "2024-11-08T18:55:03.944Z"
   },
   {
    "duration": 0,
    "start_time": "2024-11-08T18:55:03.945Z"
   },
   {
    "duration": 0,
    "start_time": "2024-11-08T18:55:03.947Z"
   },
   {
    "duration": 0,
    "start_time": "2024-11-08T18:55:04.022Z"
   },
   {
    "duration": 0,
    "start_time": "2024-11-08T18:55:04.023Z"
   },
   {
    "duration": 0,
    "start_time": "2024-11-08T18:55:04.024Z"
   },
   {
    "duration": 0,
    "start_time": "2024-11-08T18:55:04.025Z"
   },
   {
    "duration": 0,
    "start_time": "2024-11-08T18:55:04.026Z"
   },
   {
    "duration": 0,
    "start_time": "2024-11-08T18:55:04.027Z"
   },
   {
    "duration": 0,
    "start_time": "2024-11-08T18:55:04.028Z"
   },
   {
    "duration": 0,
    "start_time": "2024-11-08T18:55:04.029Z"
   },
   {
    "duration": 0,
    "start_time": "2024-11-08T18:55:04.030Z"
   },
   {
    "duration": 0,
    "start_time": "2024-11-08T18:55:04.031Z"
   },
   {
    "duration": 0,
    "start_time": "2024-11-08T18:55:04.032Z"
   },
   {
    "duration": 0,
    "start_time": "2024-11-08T18:55:04.032Z"
   },
   {
    "duration": 0,
    "start_time": "2024-11-08T18:55:04.033Z"
   },
   {
    "duration": 0,
    "start_time": "2024-11-08T18:55:04.034Z"
   },
   {
    "duration": 0,
    "start_time": "2024-11-08T18:55:04.035Z"
   },
   {
    "duration": 0,
    "start_time": "2024-11-08T18:55:04.036Z"
   },
   {
    "duration": 0,
    "start_time": "2024-11-08T18:55:04.037Z"
   },
   {
    "duration": 0,
    "start_time": "2024-11-08T18:55:04.038Z"
   },
   {
    "duration": 0,
    "start_time": "2024-11-08T18:55:04.038Z"
   },
   {
    "duration": 0,
    "start_time": "2024-11-08T18:55:04.039Z"
   },
   {
    "duration": 0,
    "start_time": "2024-11-08T18:55:04.041Z"
   },
   {
    "duration": 0,
    "start_time": "2024-11-08T18:55:04.041Z"
   },
   {
    "duration": 0,
    "start_time": "2024-11-08T18:55:04.042Z"
   },
   {
    "duration": 0,
    "start_time": "2024-11-08T18:55:04.044Z"
   },
   {
    "duration": 0,
    "start_time": "2024-11-08T18:55:04.044Z"
   },
   {
    "duration": 0,
    "start_time": "2024-11-08T18:55:04.045Z"
   },
   {
    "duration": 0,
    "start_time": "2024-11-08T18:55:04.046Z"
   },
   {
    "duration": 0,
    "start_time": "2024-11-08T18:55:04.047Z"
   },
   {
    "duration": 0,
    "start_time": "2024-11-08T18:55:04.048Z"
   },
   {
    "duration": 0,
    "start_time": "2024-11-08T18:55:04.049Z"
   },
   {
    "duration": 0,
    "start_time": "2024-11-08T18:55:04.050Z"
   },
   {
    "duration": 0,
    "start_time": "2024-11-08T18:55:04.051Z"
   },
   {
    "duration": 0,
    "start_time": "2024-11-08T18:55:04.052Z"
   },
   {
    "duration": 0,
    "start_time": "2024-11-08T18:55:04.053Z"
   },
   {
    "duration": 8,
    "start_time": "2024-11-08T18:56:36.343Z"
   },
   {
    "duration": 11,
    "start_time": "2024-11-08T18:56:43.034Z"
   },
   {
    "duration": 9,
    "start_time": "2024-11-08T18:56:51.920Z"
   },
   {
    "duration": 14,
    "start_time": "2024-11-08T18:57:28.591Z"
   },
   {
    "duration": 1269,
    "start_time": "2024-11-08T19:00:11.465Z"
   },
   {
    "duration": 876,
    "start_time": "2024-11-08T19:00:12.736Z"
   },
   {
    "duration": 594,
    "start_time": "2024-11-08T19:00:13.613Z"
   },
   {
    "duration": 10,
    "start_time": "2024-11-08T19:00:14.211Z"
   },
   {
    "duration": 76,
    "start_time": "2024-11-08T19:00:14.222Z"
   },
   {
    "duration": 46,
    "start_time": "2024-11-08T19:03:22.279Z"
   },
   {
    "duration": 1294,
    "start_time": "2024-11-08T19:03:57.148Z"
   },
   {
    "duration": 2837,
    "start_time": "2024-11-08T19:03:58.444Z"
   },
   {
    "duration": 592,
    "start_time": "2024-11-08T19:04:01.283Z"
   },
   {
    "duration": 10,
    "start_time": "2024-11-08T19:04:01.876Z"
   },
   {
    "duration": 62,
    "start_time": "2024-11-08T19:04:01.887Z"
   },
   {
    "duration": 115,
    "start_time": "2024-11-08T19:04:01.950Z"
   },
   {
    "duration": 0,
    "start_time": "2024-11-08T19:04:02.129Z"
   },
   {
    "duration": 0,
    "start_time": "2024-11-08T19:04:02.130Z"
   },
   {
    "duration": 0,
    "start_time": "2024-11-08T19:04:02.131Z"
   },
   {
    "duration": 0,
    "start_time": "2024-11-08T19:04:02.132Z"
   },
   {
    "duration": 0,
    "start_time": "2024-11-08T19:04:02.133Z"
   },
   {
    "duration": 0,
    "start_time": "2024-11-08T19:04:02.134Z"
   },
   {
    "duration": 0,
    "start_time": "2024-11-08T19:04:02.135Z"
   },
   {
    "duration": 0,
    "start_time": "2024-11-08T19:04:02.136Z"
   },
   {
    "duration": 0,
    "start_time": "2024-11-08T19:04:02.137Z"
   },
   {
    "duration": 0,
    "start_time": "2024-11-08T19:04:02.138Z"
   },
   {
    "duration": 0,
    "start_time": "2024-11-08T19:04:02.139Z"
   },
   {
    "duration": 0,
    "start_time": "2024-11-08T19:04:02.140Z"
   },
   {
    "duration": 0,
    "start_time": "2024-11-08T19:04:02.141Z"
   },
   {
    "duration": 0,
    "start_time": "2024-11-08T19:04:02.142Z"
   },
   {
    "duration": 0,
    "start_time": "2024-11-08T19:04:02.144Z"
   },
   {
    "duration": 0,
    "start_time": "2024-11-08T19:04:02.145Z"
   },
   {
    "duration": 0,
    "start_time": "2024-11-08T19:04:02.146Z"
   },
   {
    "duration": 1,
    "start_time": "2024-11-08T19:04:02.147Z"
   },
   {
    "duration": 0,
    "start_time": "2024-11-08T19:04:02.148Z"
   },
   {
    "duration": 0,
    "start_time": "2024-11-08T19:04:02.150Z"
   },
   {
    "duration": 0,
    "start_time": "2024-11-08T19:04:02.151Z"
   },
   {
    "duration": 0,
    "start_time": "2024-11-08T19:04:02.153Z"
   },
   {
    "duration": 0,
    "start_time": "2024-11-08T19:04:02.154Z"
   },
   {
    "duration": 0,
    "start_time": "2024-11-08T19:04:02.155Z"
   },
   {
    "duration": 0,
    "start_time": "2024-11-08T19:04:02.156Z"
   },
   {
    "duration": 0,
    "start_time": "2024-11-08T19:04:02.157Z"
   },
   {
    "duration": 0,
    "start_time": "2024-11-08T19:04:02.159Z"
   },
   {
    "duration": 0,
    "start_time": "2024-11-08T19:04:02.160Z"
   },
   {
    "duration": 0,
    "start_time": "2024-11-08T19:04:02.212Z"
   },
   {
    "duration": 0,
    "start_time": "2024-11-08T19:04:02.213Z"
   },
   {
    "duration": 0,
    "start_time": "2024-11-08T19:04:02.214Z"
   },
   {
    "duration": 0,
    "start_time": "2024-11-08T19:04:02.215Z"
   },
   {
    "duration": 0,
    "start_time": "2024-11-08T19:04:02.217Z"
   },
   {
    "duration": 0,
    "start_time": "2024-11-08T19:04:02.218Z"
   },
   {
    "duration": 0,
    "start_time": "2024-11-08T19:04:02.219Z"
   },
   {
    "duration": 0,
    "start_time": "2024-11-08T19:04:02.220Z"
   },
   {
    "duration": 0,
    "start_time": "2024-11-08T19:04:02.222Z"
   },
   {
    "duration": 1327,
    "start_time": "2024-11-08T19:06:56.719Z"
   },
   {
    "duration": 2929,
    "start_time": "2024-11-08T19:06:58.048Z"
   },
   {
    "duration": 599,
    "start_time": "2024-11-08T19:07:00.978Z"
   },
   {
    "duration": 9,
    "start_time": "2024-11-08T19:07:01.579Z"
   },
   {
    "duration": 65,
    "start_time": "2024-11-08T19:07:01.589Z"
   },
   {
    "duration": 264,
    "start_time": "2024-11-08T19:07:01.655Z"
   },
   {
    "duration": 57,
    "start_time": "2024-11-08T19:07:01.921Z"
   },
   {
    "duration": 128,
    "start_time": "2024-11-08T19:07:01.979Z"
   },
   {
    "duration": 0,
    "start_time": "2024-11-08T19:07:02.113Z"
   },
   {
    "duration": 0,
    "start_time": "2024-11-08T19:07:02.115Z"
   },
   {
    "duration": 0,
    "start_time": "2024-11-08T19:07:02.117Z"
   },
   {
    "duration": 0,
    "start_time": "2024-11-08T19:07:02.118Z"
   },
   {
    "duration": 0,
    "start_time": "2024-11-08T19:07:02.119Z"
   },
   {
    "duration": 0,
    "start_time": "2024-11-08T19:07:02.120Z"
   },
   {
    "duration": 0,
    "start_time": "2024-11-08T19:07:02.121Z"
   },
   {
    "duration": 0,
    "start_time": "2024-11-08T19:07:02.122Z"
   },
   {
    "duration": 0,
    "start_time": "2024-11-08T19:07:02.123Z"
   },
   {
    "duration": 0,
    "start_time": "2024-11-08T19:07:02.124Z"
   },
   {
    "duration": 0,
    "start_time": "2024-11-08T19:07:02.124Z"
   },
   {
    "duration": 0,
    "start_time": "2024-11-08T19:07:02.125Z"
   },
   {
    "duration": 0,
    "start_time": "2024-11-08T19:07:02.126Z"
   },
   {
    "duration": 0,
    "start_time": "2024-11-08T19:07:02.127Z"
   },
   {
    "duration": 1,
    "start_time": "2024-11-08T19:07:02.127Z"
   },
   {
    "duration": 0,
    "start_time": "2024-11-08T19:07:02.128Z"
   },
   {
    "duration": 0,
    "start_time": "2024-11-08T19:07:02.129Z"
   },
   {
    "duration": 0,
    "start_time": "2024-11-08T19:07:02.130Z"
   },
   {
    "duration": 0,
    "start_time": "2024-11-08T19:07:02.131Z"
   },
   {
    "duration": 0,
    "start_time": "2024-11-08T19:07:02.132Z"
   },
   {
    "duration": 0,
    "start_time": "2024-11-08T19:07:02.133Z"
   },
   {
    "duration": 0,
    "start_time": "2024-11-08T19:07:02.134Z"
   },
   {
    "duration": 0,
    "start_time": "2024-11-08T19:07:02.135Z"
   },
   {
    "duration": 0,
    "start_time": "2024-11-08T19:07:02.136Z"
   },
   {
    "duration": 0,
    "start_time": "2024-11-08T19:07:02.137Z"
   },
   {
    "duration": 0,
    "start_time": "2024-11-08T19:07:02.138Z"
   },
   {
    "duration": 0,
    "start_time": "2024-11-08T19:07:02.139Z"
   },
   {
    "duration": 0,
    "start_time": "2024-11-08T19:07:02.140Z"
   },
   {
    "duration": 0,
    "start_time": "2024-11-08T19:07:02.141Z"
   },
   {
    "duration": 0,
    "start_time": "2024-11-08T19:07:02.142Z"
   },
   {
    "duration": 0,
    "start_time": "2024-11-08T19:07:02.143Z"
   },
   {
    "duration": 0,
    "start_time": "2024-11-08T19:07:02.144Z"
   },
   {
    "duration": 0,
    "start_time": "2024-11-08T19:07:02.145Z"
   },
   {
    "duration": 0,
    "start_time": "2024-11-08T19:07:02.145Z"
   },
   {
    "duration": 0,
    "start_time": "2024-11-08T19:07:02.146Z"
   },
   {
    "duration": 128,
    "start_time": "2024-11-08T19:07:38.058Z"
   },
   {
    "duration": 1339,
    "start_time": "2024-11-08T19:07:49.495Z"
   },
   {
    "duration": 870,
    "start_time": "2024-11-08T19:07:50.836Z"
   },
   {
    "duration": 586,
    "start_time": "2024-11-08T19:07:51.707Z"
   },
   {
    "duration": 17,
    "start_time": "2024-11-08T19:07:52.295Z"
   },
   {
    "duration": 63,
    "start_time": "2024-11-08T19:07:52.313Z"
   },
   {
    "duration": 174,
    "start_time": "2024-11-08T19:07:52.378Z"
   },
   {
    "duration": 63,
    "start_time": "2024-11-08T19:07:52.553Z"
   },
   {
    "duration": 109,
    "start_time": "2024-11-08T19:07:52.617Z"
   },
   {
    "duration": 0,
    "start_time": "2024-11-08T19:07:52.728Z"
   },
   {
    "duration": 0,
    "start_time": "2024-11-08T19:07:52.729Z"
   },
   {
    "duration": 0,
    "start_time": "2024-11-08T19:07:52.730Z"
   },
   {
    "duration": 0,
    "start_time": "2024-11-08T19:07:52.731Z"
   },
   {
    "duration": 0,
    "start_time": "2024-11-08T19:07:52.732Z"
   },
   {
    "duration": 0,
    "start_time": "2024-11-08T19:07:52.733Z"
   },
   {
    "duration": 0,
    "start_time": "2024-11-08T19:07:52.734Z"
   },
   {
    "duration": 0,
    "start_time": "2024-11-08T19:07:52.735Z"
   },
   {
    "duration": 0,
    "start_time": "2024-11-08T19:07:52.736Z"
   },
   {
    "duration": 0,
    "start_time": "2024-11-08T19:07:52.736Z"
   },
   {
    "duration": 0,
    "start_time": "2024-11-08T19:07:52.738Z"
   },
   {
    "duration": 0,
    "start_time": "2024-11-08T19:07:52.739Z"
   },
   {
    "duration": 0,
    "start_time": "2024-11-08T19:07:52.740Z"
   },
   {
    "duration": 0,
    "start_time": "2024-11-08T19:07:52.741Z"
   },
   {
    "duration": 0,
    "start_time": "2024-11-08T19:07:52.742Z"
   },
   {
    "duration": 0,
    "start_time": "2024-11-08T19:07:52.743Z"
   },
   {
    "duration": 0,
    "start_time": "2024-11-08T19:07:52.744Z"
   },
   {
    "duration": 0,
    "start_time": "2024-11-08T19:07:52.744Z"
   },
   {
    "duration": 0,
    "start_time": "2024-11-08T19:07:52.745Z"
   },
   {
    "duration": 0,
    "start_time": "2024-11-08T19:07:52.746Z"
   },
   {
    "duration": 0,
    "start_time": "2024-11-08T19:07:52.747Z"
   },
   {
    "duration": 0,
    "start_time": "2024-11-08T19:07:52.748Z"
   },
   {
    "duration": 0,
    "start_time": "2024-11-08T19:07:52.749Z"
   },
   {
    "duration": 0,
    "start_time": "2024-11-08T19:07:52.750Z"
   },
   {
    "duration": 0,
    "start_time": "2024-11-08T19:07:52.751Z"
   },
   {
    "duration": 0,
    "start_time": "2024-11-08T19:07:52.752Z"
   },
   {
    "duration": 0,
    "start_time": "2024-11-08T19:07:52.753Z"
   },
   {
    "duration": 0,
    "start_time": "2024-11-08T19:07:52.754Z"
   },
   {
    "duration": 0,
    "start_time": "2024-11-08T19:07:52.755Z"
   },
   {
    "duration": 0,
    "start_time": "2024-11-08T19:07:52.756Z"
   },
   {
    "duration": 0,
    "start_time": "2024-11-08T19:07:52.757Z"
   },
   {
    "duration": 0,
    "start_time": "2024-11-08T19:07:52.758Z"
   },
   {
    "duration": 0,
    "start_time": "2024-11-08T19:07:52.759Z"
   },
   {
    "duration": 0,
    "start_time": "2024-11-08T19:07:52.760Z"
   },
   {
    "duration": 0,
    "start_time": "2024-11-08T19:07:52.812Z"
   },
   {
    "duration": 1270,
    "start_time": "2024-11-08T19:08:35.874Z"
   },
   {
    "duration": 863,
    "start_time": "2024-11-08T19:08:37.146Z"
   },
   {
    "duration": 594,
    "start_time": "2024-11-08T19:08:38.012Z"
   },
   {
    "duration": 11,
    "start_time": "2024-11-08T19:08:38.608Z"
   },
   {
    "duration": 61,
    "start_time": "2024-11-08T19:08:38.620Z"
   },
   {
    "duration": 347,
    "start_time": "2024-11-08T19:08:38.683Z"
   },
   {
    "duration": 109,
    "start_time": "2024-11-08T19:08:39.031Z"
   },
   {
    "duration": 0,
    "start_time": "2024-11-08T19:08:39.141Z"
   },
   {
    "duration": 0,
    "start_time": "2024-11-08T19:08:39.142Z"
   },
   {
    "duration": 0,
    "start_time": "2024-11-08T19:08:39.143Z"
   },
   {
    "duration": 0,
    "start_time": "2024-11-08T19:08:39.144Z"
   },
   {
    "duration": 0,
    "start_time": "2024-11-08T19:08:39.145Z"
   },
   {
    "duration": 0,
    "start_time": "2024-11-08T19:08:39.146Z"
   },
   {
    "duration": 0,
    "start_time": "2024-11-08T19:08:39.146Z"
   },
   {
    "duration": 0,
    "start_time": "2024-11-08T19:08:39.147Z"
   },
   {
    "duration": 0,
    "start_time": "2024-11-08T19:08:39.148Z"
   },
   {
    "duration": 0,
    "start_time": "2024-11-08T19:08:39.149Z"
   },
   {
    "duration": 0,
    "start_time": "2024-11-08T19:08:39.150Z"
   },
   {
    "duration": 0,
    "start_time": "2024-11-08T19:08:39.151Z"
   },
   {
    "duration": 0,
    "start_time": "2024-11-08T19:08:39.152Z"
   },
   {
    "duration": 0,
    "start_time": "2024-11-08T19:08:39.153Z"
   },
   {
    "duration": 0,
    "start_time": "2024-11-08T19:08:39.154Z"
   },
   {
    "duration": 0,
    "start_time": "2024-11-08T19:08:39.155Z"
   },
   {
    "duration": 0,
    "start_time": "2024-11-08T19:08:39.156Z"
   },
   {
    "duration": 0,
    "start_time": "2024-11-08T19:08:39.157Z"
   },
   {
    "duration": 0,
    "start_time": "2024-11-08T19:08:39.158Z"
   },
   {
    "duration": 0,
    "start_time": "2024-11-08T19:08:39.159Z"
   },
   {
    "duration": 0,
    "start_time": "2024-11-08T19:08:39.159Z"
   },
   {
    "duration": 0,
    "start_time": "2024-11-08T19:08:39.160Z"
   },
   {
    "duration": 0,
    "start_time": "2024-11-08T19:08:39.161Z"
   },
   {
    "duration": 0,
    "start_time": "2024-11-08T19:08:39.162Z"
   },
   {
    "duration": 0,
    "start_time": "2024-11-08T19:08:39.163Z"
   },
   {
    "duration": 0,
    "start_time": "2024-11-08T19:08:39.164Z"
   },
   {
    "duration": 0,
    "start_time": "2024-11-08T19:08:39.165Z"
   },
   {
    "duration": 0,
    "start_time": "2024-11-08T19:08:39.166Z"
   },
   {
    "duration": 0,
    "start_time": "2024-11-08T19:08:39.166Z"
   },
   {
    "duration": 0,
    "start_time": "2024-11-08T19:08:39.212Z"
   },
   {
    "duration": 0,
    "start_time": "2024-11-08T19:08:39.213Z"
   },
   {
    "duration": 0,
    "start_time": "2024-11-08T19:08:39.214Z"
   },
   {
    "duration": 0,
    "start_time": "2024-11-08T19:08:39.215Z"
   },
   {
    "duration": 0,
    "start_time": "2024-11-08T19:08:39.216Z"
   },
   {
    "duration": 0,
    "start_time": "2024-11-08T19:08:39.217Z"
   },
   {
    "duration": 0,
    "start_time": "2024-11-08T19:08:39.218Z"
   },
   {
    "duration": 0,
    "start_time": "2024-11-08T19:08:39.218Z"
   },
   {
    "duration": 156,
    "start_time": "2024-11-08T19:08:57.219Z"
   },
   {
    "duration": 206,
    "start_time": "2024-11-08T19:09:04.218Z"
   },
   {
    "duration": 118,
    "start_time": "2024-11-08T19:09:12.135Z"
   },
   {
    "duration": 114,
    "start_time": "2024-11-08T19:09:18.793Z"
   },
   {
    "duration": 685,
    "start_time": "2024-11-08T19:09:38.854Z"
   },
   {
    "duration": 250,
    "start_time": "2024-11-08T19:09:51.274Z"
   },
   {
    "duration": 24,
    "start_time": "2024-11-08T19:15:47.035Z"
   },
   {
    "duration": 287,
    "start_time": "2024-11-08T19:16:42.317Z"
   },
   {
    "duration": 295,
    "start_time": "2024-11-08T19:17:29.450Z"
   },
   {
    "duration": 4,
    "start_time": "2024-11-08T19:18:11.301Z"
   },
   {
    "duration": 4,
    "start_time": "2024-11-08T19:18:53.599Z"
   },
   {
    "duration": 384,
    "start_time": "2024-11-08T19:19:07.819Z"
   },
   {
    "duration": 277,
    "start_time": "2024-11-08T19:21:05.670Z"
   },
   {
    "duration": 17,
    "start_time": "2024-11-08T19:22:48.117Z"
   },
   {
    "duration": 702,
    "start_time": "2024-11-08T19:23:36.975Z"
   },
   {
    "duration": 29,
    "start_time": "2024-11-08T19:23:51.191Z"
   },
   {
    "duration": 30,
    "start_time": "2024-11-08T19:26:17.927Z"
   },
   {
    "duration": 30,
    "start_time": "2024-11-08T19:31:50.995Z"
   },
   {
    "duration": 1274,
    "start_time": "2024-11-08T19:32:18.445Z"
   },
   {
    "duration": 849,
    "start_time": "2024-11-08T19:32:19.720Z"
   },
   {
    "duration": 622,
    "start_time": "2024-11-08T19:32:20.570Z"
   },
   {
    "duration": 10,
    "start_time": "2024-11-08T19:32:21.194Z"
   },
   {
    "duration": 57,
    "start_time": "2024-11-08T19:32:21.206Z"
   },
   {
    "duration": 320,
    "start_time": "2024-11-08T19:32:21.265Z"
   },
   {
    "duration": 27,
    "start_time": "2024-11-08T19:32:21.586Z"
   },
   {
    "duration": 45,
    "start_time": "2024-11-08T19:32:21.615Z"
   },
   {
    "duration": 6,
    "start_time": "2024-11-08T19:32:21.661Z"
   },
   {
    "duration": 92,
    "start_time": "2024-11-08T19:32:21.669Z"
   },
   {
    "duration": 5,
    "start_time": "2024-11-08T19:32:21.762Z"
   },
   {
    "duration": 11,
    "start_time": "2024-11-08T19:32:21.768Z"
   },
   {
    "duration": 22,
    "start_time": "2024-11-08T19:32:21.780Z"
   },
   {
    "duration": 44,
    "start_time": "2024-11-08T19:32:21.804Z"
   },
   {
    "duration": 37,
    "start_time": "2024-11-08T19:32:21.850Z"
   },
   {
    "duration": 17,
    "start_time": "2024-11-08T19:32:21.889Z"
   },
   {
    "duration": 34,
    "start_time": "2024-11-08T19:32:21.907Z"
   },
   {
    "duration": 27,
    "start_time": "2024-11-08T19:32:21.942Z"
   },
   {
    "duration": 41,
    "start_time": "2024-11-08T19:32:21.971Z"
   },
   {
    "duration": 48,
    "start_time": "2024-11-08T19:32:22.014Z"
   },
   {
    "duration": 27,
    "start_time": "2024-11-08T19:32:22.063Z"
   },
   {
    "duration": 135,
    "start_time": "2024-11-08T19:32:22.091Z"
   },
   {
    "duration": 0,
    "start_time": "2024-11-08T19:32:22.228Z"
   },
   {
    "duration": 0,
    "start_time": "2024-11-08T19:32:22.229Z"
   },
   {
    "duration": 0,
    "start_time": "2024-11-08T19:32:22.230Z"
   },
   {
    "duration": 0,
    "start_time": "2024-11-08T19:32:22.231Z"
   },
   {
    "duration": 0,
    "start_time": "2024-11-08T19:32:22.232Z"
   },
   {
    "duration": 0,
    "start_time": "2024-11-08T19:32:22.233Z"
   },
   {
    "duration": 0,
    "start_time": "2024-11-08T19:32:22.234Z"
   },
   {
    "duration": 0,
    "start_time": "2024-11-08T19:32:22.235Z"
   },
   {
    "duration": 0,
    "start_time": "2024-11-08T19:32:22.236Z"
   },
   {
    "duration": 0,
    "start_time": "2024-11-08T19:32:22.237Z"
   },
   {
    "duration": 0,
    "start_time": "2024-11-08T19:32:22.237Z"
   },
   {
    "duration": 0,
    "start_time": "2024-11-08T19:32:22.238Z"
   },
   {
    "duration": 0,
    "start_time": "2024-11-08T19:32:22.239Z"
   },
   {
    "duration": 0,
    "start_time": "2024-11-08T19:32:22.240Z"
   },
   {
    "duration": 0,
    "start_time": "2024-11-08T19:32:22.241Z"
   },
   {
    "duration": 0,
    "start_time": "2024-11-08T19:32:22.242Z"
   },
   {
    "duration": 0,
    "start_time": "2024-11-08T19:32:22.243Z"
   },
   {
    "duration": 0,
    "start_time": "2024-11-08T19:32:22.244Z"
   },
   {
    "duration": 0,
    "start_time": "2024-11-08T19:32:22.245Z"
   },
   {
    "duration": 0,
    "start_time": "2024-11-08T19:32:22.246Z"
   },
   {
    "duration": 0,
    "start_time": "2024-11-08T19:32:22.246Z"
   },
   {
    "duration": 0,
    "start_time": "2024-11-08T19:32:22.247Z"
   },
   {
    "duration": 1333,
    "start_time": "2024-11-08T19:33:08.926Z"
   },
   {
    "duration": 841,
    "start_time": "2024-11-08T19:33:10.260Z"
   },
   {
    "duration": 606,
    "start_time": "2024-11-08T19:33:11.102Z"
   },
   {
    "duration": 9,
    "start_time": "2024-11-08T19:33:11.712Z"
   },
   {
    "duration": 51,
    "start_time": "2024-11-08T19:33:11.722Z"
   },
   {
    "duration": 338,
    "start_time": "2024-11-08T19:33:11.774Z"
   },
   {
    "duration": 21,
    "start_time": "2024-11-08T19:33:12.113Z"
   },
   {
    "duration": 48,
    "start_time": "2024-11-08T19:33:12.136Z"
   },
   {
    "duration": 8,
    "start_time": "2024-11-08T19:33:12.185Z"
   },
   {
    "duration": 75,
    "start_time": "2024-11-08T19:33:12.211Z"
   },
   {
    "duration": 5,
    "start_time": "2024-11-08T19:33:12.287Z"
   },
   {
    "duration": 19,
    "start_time": "2024-11-08T19:33:12.294Z"
   },
   {
    "duration": 5,
    "start_time": "2024-11-08T19:33:12.314Z"
   },
   {
    "duration": 45,
    "start_time": "2024-11-08T19:33:12.320Z"
   },
   {
    "duration": 28,
    "start_time": "2024-11-08T19:33:12.366Z"
   },
   {
    "duration": 23,
    "start_time": "2024-11-08T19:33:12.395Z"
   },
   {
    "duration": 16,
    "start_time": "2024-11-08T19:33:12.420Z"
   },
   {
    "duration": 15,
    "start_time": "2024-11-08T19:33:12.438Z"
   },
   {
    "duration": 27,
    "start_time": "2024-11-08T19:33:12.455Z"
   },
   {
    "duration": 36,
    "start_time": "2024-11-08T19:33:12.483Z"
   },
   {
    "duration": 35,
    "start_time": "2024-11-08T19:33:12.520Z"
   },
   {
    "duration": 122,
    "start_time": "2024-11-08T19:33:12.556Z"
   },
   {
    "duration": 0,
    "start_time": "2024-11-08T19:33:12.680Z"
   },
   {
    "duration": 0,
    "start_time": "2024-11-08T19:33:12.682Z"
   },
   {
    "duration": 0,
    "start_time": "2024-11-08T19:33:12.683Z"
   },
   {
    "duration": 0,
    "start_time": "2024-11-08T19:33:12.684Z"
   },
   {
    "duration": 0,
    "start_time": "2024-11-08T19:33:12.686Z"
   },
   {
    "duration": 0,
    "start_time": "2024-11-08T19:33:12.687Z"
   },
   {
    "duration": 0,
    "start_time": "2024-11-08T19:33:12.688Z"
   },
   {
    "duration": 0,
    "start_time": "2024-11-08T19:33:12.689Z"
   },
   {
    "duration": 0,
    "start_time": "2024-11-08T19:33:12.690Z"
   },
   {
    "duration": 0,
    "start_time": "2024-11-08T19:33:12.691Z"
   },
   {
    "duration": 0,
    "start_time": "2024-11-08T19:33:12.693Z"
   },
   {
    "duration": 0,
    "start_time": "2024-11-08T19:33:12.712Z"
   },
   {
    "duration": 0,
    "start_time": "2024-11-08T19:33:12.713Z"
   },
   {
    "duration": 0,
    "start_time": "2024-11-08T19:33:12.714Z"
   },
   {
    "duration": 0,
    "start_time": "2024-11-08T19:33:12.715Z"
   },
   {
    "duration": 0,
    "start_time": "2024-11-08T19:33:12.716Z"
   },
   {
    "duration": 0,
    "start_time": "2024-11-08T19:33:12.717Z"
   },
   {
    "duration": 0,
    "start_time": "2024-11-08T19:33:12.719Z"
   },
   {
    "duration": 0,
    "start_time": "2024-11-08T19:33:12.720Z"
   },
   {
    "duration": 0,
    "start_time": "2024-11-08T19:33:12.721Z"
   },
   {
    "duration": 0,
    "start_time": "2024-11-08T19:33:12.722Z"
   },
   {
    "duration": 0,
    "start_time": "2024-11-08T19:33:12.723Z"
   },
   {
    "duration": 0,
    "start_time": "2024-11-08T19:33:12.724Z"
   },
   {
    "duration": 22,
    "start_time": "2024-11-08T19:36:57.949Z"
   },
   {
    "duration": 65,
    "start_time": "2024-11-08T19:37:22.646Z"
   },
   {
    "duration": 26,
    "start_time": "2024-11-08T19:39:25.648Z"
   },
   {
    "duration": 15,
    "start_time": "2024-11-08T19:40:47.506Z"
   },
   {
    "duration": 129,
    "start_time": "2024-11-08T19:41:54.698Z"
   },
   {
    "duration": 1287,
    "start_time": "2024-11-08T19:44:35.239Z"
   },
   {
    "duration": 859,
    "start_time": "2024-11-08T19:44:36.528Z"
   },
   {
    "duration": 636,
    "start_time": "2024-11-08T19:44:37.389Z"
   },
   {
    "duration": 9,
    "start_time": "2024-11-08T19:44:38.027Z"
   },
   {
    "duration": 56,
    "start_time": "2024-11-08T19:44:38.037Z"
   },
   {
    "duration": 343,
    "start_time": "2024-11-08T19:44:38.094Z"
   },
   {
    "duration": 22,
    "start_time": "2024-11-08T19:44:38.438Z"
   },
   {
    "duration": 62,
    "start_time": "2024-11-08T19:44:38.462Z"
   },
   {
    "duration": 6,
    "start_time": "2024-11-08T19:44:38.526Z"
   },
   {
    "duration": 87,
    "start_time": "2024-11-08T19:44:38.534Z"
   },
   {
    "duration": 5,
    "start_time": "2024-11-08T19:44:38.622Z"
   },
   {
    "duration": 5,
    "start_time": "2024-11-08T19:44:38.628Z"
   },
   {
    "duration": 20,
    "start_time": "2024-11-08T19:44:38.634Z"
   },
   {
    "duration": 36,
    "start_time": "2024-11-08T19:44:38.655Z"
   },
   {
    "duration": 44,
    "start_time": "2024-11-08T19:44:38.693Z"
   },
   {
    "duration": 18,
    "start_time": "2024-11-08T19:44:38.739Z"
   },
   {
    "duration": 16,
    "start_time": "2024-11-08T19:44:38.758Z"
   },
   {
    "duration": 39,
    "start_time": "2024-11-08T19:44:38.776Z"
   },
   {
    "duration": 21,
    "start_time": "2024-11-08T19:44:38.816Z"
   },
   {
    "duration": 30,
    "start_time": "2024-11-08T19:44:38.838Z"
   },
   {
    "duration": 74,
    "start_time": "2024-11-08T19:44:38.870Z"
   },
   {
    "duration": 21,
    "start_time": "2024-11-08T19:44:38.946Z"
   },
   {
    "duration": 17,
    "start_time": "2024-11-08T19:44:38.969Z"
   },
   {
    "duration": 43,
    "start_time": "2024-11-08T19:44:38.988Z"
   },
   {
    "duration": 16,
    "start_time": "2024-11-08T19:44:39.033Z"
   },
   {
    "duration": 2778,
    "start_time": "2024-11-08T19:44:39.051Z"
   },
   {
    "duration": 31,
    "start_time": "2024-11-08T19:44:41.830Z"
   },
   {
    "duration": 148,
    "start_time": "2024-11-08T19:44:41.864Z"
   },
   {
    "duration": 72,
    "start_time": "2024-11-08T19:44:42.013Z"
   },
   {
    "duration": 110,
    "start_time": "2024-11-08T19:44:42.087Z"
   },
   {
    "duration": 0,
    "start_time": "2024-11-08T19:44:42.199Z"
   },
   {
    "duration": 0,
    "start_time": "2024-11-08T19:44:42.200Z"
   },
   {
    "duration": 0,
    "start_time": "2024-11-08T19:44:42.211Z"
   },
   {
    "duration": 0,
    "start_time": "2024-11-08T19:44:42.212Z"
   },
   {
    "duration": 0,
    "start_time": "2024-11-08T19:44:42.213Z"
   },
   {
    "duration": 0,
    "start_time": "2024-11-08T19:44:42.214Z"
   },
   {
    "duration": 0,
    "start_time": "2024-11-08T19:44:42.215Z"
   },
   {
    "duration": 0,
    "start_time": "2024-11-08T19:44:42.216Z"
   },
   {
    "duration": 0,
    "start_time": "2024-11-08T19:44:42.217Z"
   },
   {
    "duration": 0,
    "start_time": "2024-11-08T19:44:42.218Z"
   },
   {
    "duration": 0,
    "start_time": "2024-11-08T19:44:42.219Z"
   },
   {
    "duration": 0,
    "start_time": "2024-11-08T19:44:42.220Z"
   },
   {
    "duration": 0,
    "start_time": "2024-11-08T19:44:42.220Z"
   },
   {
    "duration": 0,
    "start_time": "2024-11-08T19:44:42.222Z"
   },
   {
    "duration": 0,
    "start_time": "2024-11-08T19:44:42.223Z"
   },
   {
    "duration": 15,
    "start_time": "2024-11-08T19:51:40.677Z"
   },
   {
    "duration": 20,
    "start_time": "2024-11-08T19:51:49.017Z"
   },
   {
    "duration": 1283,
    "start_time": "2024-11-08T19:52:22.447Z"
   },
   {
    "duration": 827,
    "start_time": "2024-11-08T19:52:23.731Z"
   },
   {
    "duration": 567,
    "start_time": "2024-11-08T19:52:24.559Z"
   },
   {
    "duration": 11,
    "start_time": "2024-11-08T19:52:25.129Z"
   },
   {
    "duration": 50,
    "start_time": "2024-11-08T19:52:25.142Z"
   },
   {
    "duration": 333,
    "start_time": "2024-11-08T19:52:25.193Z"
   },
   {
    "duration": 21,
    "start_time": "2024-11-08T19:52:25.527Z"
   },
   {
    "duration": 55,
    "start_time": "2024-11-08T19:52:25.550Z"
   },
   {
    "duration": 7,
    "start_time": "2024-11-08T19:52:25.611Z"
   },
   {
    "duration": 76,
    "start_time": "2024-11-08T19:52:25.620Z"
   },
   {
    "duration": 15,
    "start_time": "2024-11-08T19:52:25.697Z"
   },
   {
    "duration": 5,
    "start_time": "2024-11-08T19:52:25.714Z"
   },
   {
    "duration": 19,
    "start_time": "2024-11-08T19:52:25.720Z"
   },
   {
    "duration": 38,
    "start_time": "2024-11-08T19:52:25.740Z"
   },
   {
    "duration": 44,
    "start_time": "2024-11-08T19:52:25.779Z"
   },
   {
    "duration": 17,
    "start_time": "2024-11-08T19:52:25.824Z"
   },
   {
    "duration": 25,
    "start_time": "2024-11-08T19:52:25.843Z"
   },
   {
    "duration": 19,
    "start_time": "2024-11-08T19:52:25.869Z"
   },
   {
    "duration": 32,
    "start_time": "2024-11-08T19:52:25.890Z"
   },
   {
    "duration": 27,
    "start_time": "2024-11-08T19:52:25.924Z"
   },
   {
    "duration": 91,
    "start_time": "2024-11-08T19:52:25.952Z"
   },
   {
    "duration": 20,
    "start_time": "2024-11-08T19:52:26.044Z"
   },
   {
    "duration": 16,
    "start_time": "2024-11-08T19:52:26.066Z"
   },
   {
    "duration": 41,
    "start_time": "2024-11-08T19:52:26.084Z"
   },
   {
    "duration": 15,
    "start_time": "2024-11-08T19:52:26.127Z"
   },
   {
    "duration": 2813,
    "start_time": "2024-11-08T19:52:26.143Z"
   },
   {
    "duration": 29,
    "start_time": "2024-11-08T19:52:28.957Z"
   },
   {
    "duration": 152,
    "start_time": "2024-11-08T19:52:28.990Z"
   },
   {
    "duration": 89,
    "start_time": "2024-11-08T19:52:29.144Z"
   },
   {
    "duration": 124,
    "start_time": "2024-11-08T19:52:29.234Z"
   },
   {
    "duration": 0,
    "start_time": "2024-11-08T19:52:29.359Z"
   },
   {
    "duration": 0,
    "start_time": "2024-11-08T19:52:29.359Z"
   },
   {
    "duration": 0,
    "start_time": "2024-11-08T19:52:29.360Z"
   },
   {
    "duration": 0,
    "start_time": "2024-11-08T19:52:29.361Z"
   },
   {
    "duration": 0,
    "start_time": "2024-11-08T19:52:29.362Z"
   },
   {
    "duration": 0,
    "start_time": "2024-11-08T19:52:29.363Z"
   },
   {
    "duration": 0,
    "start_time": "2024-11-08T19:52:29.364Z"
   },
   {
    "duration": 0,
    "start_time": "2024-11-08T19:52:29.365Z"
   },
   {
    "duration": 0,
    "start_time": "2024-11-08T19:52:29.366Z"
   },
   {
    "duration": 0,
    "start_time": "2024-11-08T19:52:29.367Z"
   },
   {
    "duration": 0,
    "start_time": "2024-11-08T19:52:29.367Z"
   },
   {
    "duration": 0,
    "start_time": "2024-11-08T19:52:29.369Z"
   },
   {
    "duration": 0,
    "start_time": "2024-11-08T19:52:29.369Z"
   },
   {
    "duration": 0,
    "start_time": "2024-11-08T19:52:29.370Z"
   },
   {
    "duration": 28,
    "start_time": "2024-11-08T19:53:05.307Z"
   },
   {
    "duration": 48,
    "start_time": "2024-11-08T19:53:38.202Z"
   },
   {
    "duration": 1286,
    "start_time": "2024-11-08T20:12:36.047Z"
   },
   {
    "duration": 850,
    "start_time": "2024-11-08T20:12:37.334Z"
   },
   {
    "duration": 575,
    "start_time": "2024-11-08T20:12:38.185Z"
   },
   {
    "duration": 10,
    "start_time": "2024-11-08T20:12:38.761Z"
   },
   {
    "duration": 62,
    "start_time": "2024-11-08T20:12:38.773Z"
   },
   {
    "duration": 334,
    "start_time": "2024-11-08T20:12:38.837Z"
   },
   {
    "duration": 25,
    "start_time": "2024-11-08T20:12:39.173Z"
   },
   {
    "duration": 58,
    "start_time": "2024-11-08T20:12:39.200Z"
   },
   {
    "duration": 7,
    "start_time": "2024-11-08T20:12:39.259Z"
   },
   {
    "duration": 91,
    "start_time": "2024-11-08T20:12:39.268Z"
   },
   {
    "duration": 5,
    "start_time": "2024-11-08T20:12:39.360Z"
   },
   {
    "duration": 8,
    "start_time": "2024-11-08T20:12:39.366Z"
   },
   {
    "duration": 5,
    "start_time": "2024-11-08T20:12:39.375Z"
   },
   {
    "duration": 53,
    "start_time": "2024-11-08T20:12:39.383Z"
   },
   {
    "duration": 29,
    "start_time": "2024-11-08T20:12:39.437Z"
   },
   {
    "duration": 16,
    "start_time": "2024-11-08T20:12:39.468Z"
   },
   {
    "duration": 30,
    "start_time": "2024-11-08T20:12:39.485Z"
   },
   {
    "duration": 15,
    "start_time": "2024-11-08T20:12:39.517Z"
   },
   {
    "duration": 15,
    "start_time": "2024-11-08T20:12:39.533Z"
   },
   {
    "duration": 58,
    "start_time": "2024-11-08T20:12:39.549Z"
   },
   {
    "duration": 63,
    "start_time": "2024-11-08T20:12:39.609Z"
   },
   {
    "duration": 19,
    "start_time": "2024-11-08T20:12:39.674Z"
   },
   {
    "duration": 27,
    "start_time": "2024-11-08T20:12:39.694Z"
   },
   {
    "duration": 25,
    "start_time": "2024-11-08T20:12:39.722Z"
   },
   {
    "duration": 18,
    "start_time": "2024-11-08T20:12:39.748Z"
   },
   {
    "duration": 2716,
    "start_time": "2024-11-08T20:12:39.767Z"
   },
   {
    "duration": 37,
    "start_time": "2024-11-08T20:12:42.485Z"
   },
   {
    "duration": 147,
    "start_time": "2024-11-08T20:12:42.524Z"
   },
   {
    "duration": 86,
    "start_time": "2024-11-08T20:12:42.672Z"
   },
   {
    "duration": 72,
    "start_time": "2024-11-08T20:12:42.759Z"
   },
   {
    "duration": 57,
    "start_time": "2024-11-08T20:12:42.832Z"
   },
   {
    "duration": 2,
    "start_time": "2024-11-08T20:12:42.891Z"
   },
   {
    "duration": 118,
    "start_time": "2024-11-08T20:12:42.895Z"
   },
   {
    "duration": 0,
    "start_time": "2024-11-08T20:12:43.015Z"
   },
   {
    "duration": 1,
    "start_time": "2024-11-08T20:12:43.015Z"
   },
   {
    "duration": 0,
    "start_time": "2024-11-08T20:12:43.017Z"
   },
   {
    "duration": 0,
    "start_time": "2024-11-08T20:12:43.018Z"
   },
   {
    "duration": 0,
    "start_time": "2024-11-08T20:12:43.020Z"
   },
   {
    "duration": 0,
    "start_time": "2024-11-08T20:12:43.021Z"
   },
   {
    "duration": 0,
    "start_time": "2024-11-08T20:12:43.022Z"
   },
   {
    "duration": 0,
    "start_time": "2024-11-08T20:12:43.024Z"
   },
   {
    "duration": 0,
    "start_time": "2024-11-08T20:12:43.025Z"
   },
   {
    "duration": 0,
    "start_time": "2024-11-08T20:12:43.026Z"
   },
   {
    "duration": 0,
    "start_time": "2024-11-08T20:12:43.027Z"
   },
   {
    "duration": 1,
    "start_time": "2024-11-08T20:12:43.027Z"
   },
   {
    "duration": 0,
    "start_time": "2024-11-08T20:12:43.028Z"
   },
   {
    "duration": 1090,
    "start_time": "2024-11-08T20:16:45.635Z"
   },
   {
    "duration": 66,
    "start_time": "2024-11-08T20:16:57.703Z"
   },
   {
    "duration": 84,
    "start_time": "2024-11-08T20:17:09.055Z"
   },
   {
    "duration": 77,
    "start_time": "2024-11-08T20:18:19.069Z"
   },
   {
    "duration": 9,
    "start_time": "2024-11-08T20:32:31.381Z"
   },
   {
    "duration": 1336,
    "start_time": "2024-11-08T20:33:39.511Z"
   },
   {
    "duration": 853,
    "start_time": "2024-11-08T20:33:40.849Z"
   },
   {
    "duration": 590,
    "start_time": "2024-11-08T20:33:41.703Z"
   },
   {
    "duration": 9,
    "start_time": "2024-11-08T20:33:42.294Z"
   },
   {
    "duration": 52,
    "start_time": "2024-11-08T20:33:42.312Z"
   },
   {
    "duration": 325,
    "start_time": "2024-11-08T20:33:42.365Z"
   },
   {
    "duration": 26,
    "start_time": "2024-11-08T20:33:42.691Z"
   },
   {
    "duration": 48,
    "start_time": "2024-11-08T20:33:42.719Z"
   },
   {
    "duration": 7,
    "start_time": "2024-11-08T20:33:42.769Z"
   },
   {
    "duration": 98,
    "start_time": "2024-11-08T20:33:42.778Z"
   },
   {
    "duration": 4,
    "start_time": "2024-11-08T20:33:42.877Z"
   },
   {
    "duration": 7,
    "start_time": "2024-11-08T20:33:42.883Z"
   },
   {
    "duration": 23,
    "start_time": "2024-11-08T20:33:42.891Z"
   },
   {
    "duration": 36,
    "start_time": "2024-11-08T20:33:42.915Z"
   },
   {
    "duration": 30,
    "start_time": "2024-11-08T20:33:42.952Z"
   },
   {
    "duration": 41,
    "start_time": "2024-11-08T20:33:42.984Z"
   },
   {
    "duration": 15,
    "start_time": "2024-11-08T20:33:43.026Z"
   },
   {
    "duration": 19,
    "start_time": "2024-11-08T20:33:43.042Z"
   },
   {
    "duration": 15,
    "start_time": "2024-11-08T20:33:43.063Z"
   },
   {
    "duration": 50,
    "start_time": "2024-11-08T20:33:43.079Z"
   },
   {
    "duration": 73,
    "start_time": "2024-11-08T20:33:43.131Z"
   },
   {
    "duration": 20,
    "start_time": "2024-11-08T20:33:43.205Z"
   },
   {
    "duration": 15,
    "start_time": "2024-11-08T20:33:43.226Z"
   },
   {
    "duration": 24,
    "start_time": "2024-11-08T20:33:43.243Z"
   },
   {
    "duration": 15,
    "start_time": "2024-11-08T20:33:43.268Z"
   },
   {
    "duration": 2914,
    "start_time": "2024-11-08T20:33:43.285Z"
   },
   {
    "duration": 37,
    "start_time": "2024-11-08T20:33:46.200Z"
   },
   {
    "duration": 151,
    "start_time": "2024-11-08T20:33:46.240Z"
   },
   {
    "duration": 80,
    "start_time": "2024-11-08T20:33:46.393Z"
   },
   {
    "duration": 65,
    "start_time": "2024-11-08T20:33:46.474Z"
   },
   {
    "duration": 3,
    "start_time": "2024-11-08T20:33:46.541Z"
   },
   {
    "duration": 481,
    "start_time": "2024-11-08T20:33:46.545Z"
   },
   {
    "duration": 0,
    "start_time": "2024-11-08T20:33:47.028Z"
   },
   {
    "duration": 0,
    "start_time": "2024-11-08T20:33:47.031Z"
   },
   {
    "duration": 0,
    "start_time": "2024-11-08T20:33:47.033Z"
   },
   {
    "duration": 0,
    "start_time": "2024-11-08T20:33:47.034Z"
   },
   {
    "duration": 0,
    "start_time": "2024-11-08T20:33:47.035Z"
   },
   {
    "duration": 0,
    "start_time": "2024-11-08T20:33:47.036Z"
   },
   {
    "duration": 0,
    "start_time": "2024-11-08T20:33:47.038Z"
   },
   {
    "duration": 0,
    "start_time": "2024-11-08T20:33:47.042Z"
   },
   {
    "duration": 0,
    "start_time": "2024-11-08T20:33:47.043Z"
   },
   {
    "duration": 0,
    "start_time": "2024-11-08T20:33:47.044Z"
   },
   {
    "duration": 0,
    "start_time": "2024-11-08T20:33:47.045Z"
   },
   {
    "duration": 0,
    "start_time": "2024-11-08T20:33:47.045Z"
   },
   {
    "duration": 0,
    "start_time": "2024-11-08T20:33:47.046Z"
   },
   {
    "duration": 0,
    "start_time": "2024-11-08T20:33:47.047Z"
   },
   {
    "duration": 343,
    "start_time": "2024-11-08T20:34:34.693Z"
   },
   {
    "duration": 356,
    "start_time": "2024-11-08T20:36:37.579Z"
   },
   {
    "duration": 343,
    "start_time": "2024-11-08T20:37:11.332Z"
   },
   {
    "duration": 354,
    "start_time": "2024-11-08T20:37:35.567Z"
   },
   {
    "duration": 352,
    "start_time": "2024-11-08T20:38:11.162Z"
   },
   {
    "duration": 340,
    "start_time": "2024-11-08T20:39:11.926Z"
   },
   {
    "duration": 99,
    "start_time": "2024-11-08T20:39:35.065Z"
   },
   {
    "duration": 76,
    "start_time": "2024-11-08T20:43:18.763Z"
   },
   {
    "duration": 1283,
    "start_time": "2024-11-08T20:43:27.723Z"
   },
   {
    "duration": 892,
    "start_time": "2024-11-08T20:43:29.008Z"
   },
   {
    "duration": 580,
    "start_time": "2024-11-08T20:43:29.902Z"
   },
   {
    "duration": 9,
    "start_time": "2024-11-08T20:43:30.484Z"
   },
   {
    "duration": 63,
    "start_time": "2024-11-08T20:43:30.494Z"
   },
   {
    "duration": 331,
    "start_time": "2024-11-08T20:43:30.559Z"
   },
   {
    "duration": 27,
    "start_time": "2024-11-08T20:43:30.891Z"
   },
   {
    "duration": 56,
    "start_time": "2024-11-08T20:43:30.920Z"
   },
   {
    "duration": 7,
    "start_time": "2024-11-08T20:43:30.977Z"
   },
   {
    "duration": 86,
    "start_time": "2024-11-08T20:43:30.986Z"
   },
   {
    "duration": 4,
    "start_time": "2024-11-08T20:43:31.074Z"
   },
   {
    "duration": 15,
    "start_time": "2024-11-08T20:43:31.079Z"
   },
   {
    "duration": 5,
    "start_time": "2024-11-08T20:43:31.095Z"
   },
   {
    "duration": 42,
    "start_time": "2024-11-08T20:43:31.101Z"
   },
   {
    "duration": 32,
    "start_time": "2024-11-08T20:43:31.145Z"
   },
   {
    "duration": 17,
    "start_time": "2024-11-08T20:43:31.178Z"
   },
   {
    "duration": 25,
    "start_time": "2024-11-08T20:43:31.196Z"
   },
   {
    "duration": 27,
    "start_time": "2024-11-08T20:43:31.222Z"
   },
   {
    "duration": 14,
    "start_time": "2024-11-08T20:43:31.250Z"
   },
   {
    "duration": 31,
    "start_time": "2024-11-08T20:43:31.265Z"
   },
   {
    "duration": 69,
    "start_time": "2024-11-08T20:43:31.297Z"
   },
   {
    "duration": 21,
    "start_time": "2024-11-08T20:43:31.367Z"
   },
   {
    "duration": 27,
    "start_time": "2024-11-08T20:43:31.389Z"
   },
   {
    "duration": 67,
    "start_time": "2024-11-08T20:43:31.417Z"
   },
   {
    "duration": 23,
    "start_time": "2024-11-08T20:43:31.486Z"
   },
   {
    "duration": 2849,
    "start_time": "2024-11-08T20:43:31.510Z"
   },
   {
    "duration": 32,
    "start_time": "2024-11-08T20:43:34.361Z"
   },
   {
    "duration": 158,
    "start_time": "2024-11-08T20:43:34.396Z"
   },
   {
    "duration": 99,
    "start_time": "2024-11-08T20:43:34.556Z"
   },
   {
    "duration": 69,
    "start_time": "2024-11-08T20:43:34.656Z"
   },
   {
    "duration": 377,
    "start_time": "2024-11-08T20:43:34.727Z"
   },
   {
    "duration": 515,
    "start_time": "2024-11-08T20:43:35.106Z"
   },
   {
    "duration": 192,
    "start_time": "2024-11-08T20:43:35.712Z"
   },
   {
    "duration": 0,
    "start_time": "2024-11-08T20:43:35.912Z"
   },
   {
    "duration": 0,
    "start_time": "2024-11-08T20:43:35.913Z"
   },
   {
    "duration": 0,
    "start_time": "2024-11-08T20:43:35.914Z"
   },
   {
    "duration": 0,
    "start_time": "2024-11-08T20:43:35.915Z"
   },
   {
    "duration": 0,
    "start_time": "2024-11-08T20:43:35.916Z"
   },
   {
    "duration": 0,
    "start_time": "2024-11-08T20:43:35.917Z"
   },
   {
    "duration": 0,
    "start_time": "2024-11-08T20:43:35.918Z"
   },
   {
    "duration": 0,
    "start_time": "2024-11-08T20:43:35.919Z"
   },
   {
    "duration": 0,
    "start_time": "2024-11-08T20:43:35.920Z"
   },
   {
    "duration": 0,
    "start_time": "2024-11-08T20:43:35.922Z"
   },
   {
    "duration": 0,
    "start_time": "2024-11-08T20:43:35.923Z"
   },
   {
    "duration": 0,
    "start_time": "2024-11-08T20:43:35.925Z"
   },
   {
    "duration": 0,
    "start_time": "2024-11-08T20:43:35.926Z"
   },
   {
    "duration": 7,
    "start_time": "2024-11-08T20:45:44.003Z"
   },
   {
    "duration": 7,
    "start_time": "2024-11-08T20:45:56.171Z"
   },
   {
    "duration": 4,
    "start_time": "2024-11-08T20:46:14.523Z"
   },
   {
    "duration": 224,
    "start_time": "2024-11-08T20:48:10.263Z"
   },
   {
    "duration": 650,
    "start_time": "2024-11-08T20:48:23.162Z"
   },
   {
    "duration": 9,
    "start_time": "2024-11-08T20:53:16.091Z"
   },
   {
    "duration": 76,
    "start_time": "2024-11-08T20:55:18.250Z"
   },
   {
    "duration": 0,
    "start_time": "2024-11-08T20:55:18.328Z"
   },
   {
    "duration": 0,
    "start_time": "2024-11-08T20:55:18.329Z"
   },
   {
    "duration": 0,
    "start_time": "2024-11-08T20:55:18.330Z"
   },
   {
    "duration": 0,
    "start_time": "2024-11-08T20:55:18.331Z"
   },
   {
    "duration": 0,
    "start_time": "2024-11-08T20:55:18.332Z"
   },
   {
    "duration": 0,
    "start_time": "2024-11-08T20:55:18.332Z"
   },
   {
    "duration": 0,
    "start_time": "2024-11-08T20:55:18.333Z"
   },
   {
    "duration": 0,
    "start_time": "2024-11-08T20:55:18.334Z"
   },
   {
    "duration": 0,
    "start_time": "2024-11-08T20:55:18.335Z"
   },
   {
    "duration": 0,
    "start_time": "2024-11-08T20:55:18.336Z"
   },
   {
    "duration": 0,
    "start_time": "2024-11-08T20:55:18.337Z"
   },
   {
    "duration": 0,
    "start_time": "2024-11-08T20:55:18.338Z"
   },
   {
    "duration": 0,
    "start_time": "2024-11-08T20:55:18.339Z"
   },
   {
    "duration": 0,
    "start_time": "2024-11-08T20:55:18.340Z"
   },
   {
    "duration": 0,
    "start_time": "2024-11-08T20:55:18.341Z"
   },
   {
    "duration": 0,
    "start_time": "2024-11-08T20:55:18.342Z"
   },
   {
    "duration": 0,
    "start_time": "2024-11-08T20:55:18.343Z"
   },
   {
    "duration": 0,
    "start_time": "2024-11-08T20:55:18.344Z"
   },
   {
    "duration": 0,
    "start_time": "2024-11-08T20:55:18.345Z"
   },
   {
    "duration": 0,
    "start_time": "2024-11-08T20:55:18.345Z"
   },
   {
    "duration": 0,
    "start_time": "2024-11-08T20:55:18.346Z"
   },
   {
    "duration": 0,
    "start_time": "2024-11-08T20:55:18.346Z"
   },
   {
    "duration": 0,
    "start_time": "2024-11-08T20:55:18.347Z"
   },
   {
    "duration": 0,
    "start_time": "2024-11-08T20:55:18.348Z"
   },
   {
    "duration": 87,
    "start_time": "2024-11-08T20:55:18.350Z"
   },
   {
    "duration": 0,
    "start_time": "2024-11-08T20:55:18.439Z"
   },
   {
    "duration": 0,
    "start_time": "2024-11-08T20:55:18.440Z"
   },
   {
    "duration": 0,
    "start_time": "2024-11-08T20:55:18.440Z"
   },
   {
    "duration": 0,
    "start_time": "2024-11-08T20:55:18.441Z"
   },
   {
    "duration": 0,
    "start_time": "2024-11-08T20:55:18.442Z"
   },
   {
    "duration": 0,
    "start_time": "2024-11-08T20:55:18.443Z"
   },
   {
    "duration": 0,
    "start_time": "2024-11-08T20:55:18.444Z"
   },
   {
    "duration": 0,
    "start_time": "2024-11-08T20:55:18.445Z"
   },
   {
    "duration": 0,
    "start_time": "2024-11-08T20:55:18.446Z"
   },
   {
    "duration": 0,
    "start_time": "2024-11-08T20:55:18.446Z"
   },
   {
    "duration": 0,
    "start_time": "2024-11-08T20:55:18.447Z"
   },
   {
    "duration": 0,
    "start_time": "2024-11-08T20:55:18.448Z"
   },
   {
    "duration": 0,
    "start_time": "2024-11-08T20:55:18.449Z"
   },
   {
    "duration": 0,
    "start_time": "2024-11-08T20:55:18.450Z"
   },
   {
    "duration": 0,
    "start_time": "2024-11-08T20:55:18.451Z"
   },
   {
    "duration": 0,
    "start_time": "2024-11-08T20:55:18.451Z"
   },
   {
    "duration": 0,
    "start_time": "2024-11-08T20:55:18.453Z"
   },
   {
    "duration": 0,
    "start_time": "2024-11-08T20:55:18.453Z"
   },
   {
    "duration": 0,
    "start_time": "2024-11-08T20:55:18.454Z"
   },
   {
    "duration": 4908,
    "start_time": "2024-11-08T20:55:46.131Z"
   },
   {
    "duration": 861,
    "start_time": "2024-11-08T20:55:51.041Z"
   },
   {
    "duration": 582,
    "start_time": "2024-11-08T20:55:51.904Z"
   },
   {
    "duration": 9,
    "start_time": "2024-11-08T20:55:52.487Z"
   },
   {
    "duration": 63,
    "start_time": "2024-11-08T20:55:52.498Z"
   },
   {
    "duration": 324,
    "start_time": "2024-11-08T20:55:52.562Z"
   },
   {
    "duration": 26,
    "start_time": "2024-11-08T20:55:52.887Z"
   },
   {
    "duration": 50,
    "start_time": "2024-11-08T20:55:52.914Z"
   },
   {
    "duration": 7,
    "start_time": "2024-11-08T20:55:52.965Z"
   },
   {
    "duration": 92,
    "start_time": "2024-11-08T20:55:52.973Z"
   },
   {
    "duration": 5,
    "start_time": "2024-11-08T20:55:53.066Z"
   },
   {
    "duration": 6,
    "start_time": "2024-11-08T20:55:53.073Z"
   },
   {
    "duration": 5,
    "start_time": "2024-11-08T20:55:53.080Z"
   },
   {
    "duration": 54,
    "start_time": "2024-11-08T20:55:53.087Z"
   },
   {
    "duration": 31,
    "start_time": "2024-11-08T20:55:53.142Z"
   },
   {
    "duration": 18,
    "start_time": "2024-11-08T20:55:53.174Z"
   },
   {
    "duration": 16,
    "start_time": "2024-11-08T20:55:53.211Z"
   },
   {
    "duration": 18,
    "start_time": "2024-11-08T20:55:53.228Z"
   },
   {
    "duration": 20,
    "start_time": "2024-11-08T20:55:53.247Z"
   },
   {
    "duration": 36,
    "start_time": "2024-11-08T20:55:53.268Z"
   },
   {
    "duration": 69,
    "start_time": "2024-11-08T20:55:53.306Z"
   },
   {
    "duration": 21,
    "start_time": "2024-11-08T20:55:53.376Z"
   },
   {
    "duration": 20,
    "start_time": "2024-11-08T20:55:53.411Z"
   },
   {
    "duration": 33,
    "start_time": "2024-11-08T20:55:53.432Z"
   },
   {
    "duration": 15,
    "start_time": "2024-11-08T20:55:53.466Z"
   },
   {
    "duration": 2835,
    "start_time": "2024-11-08T20:55:53.482Z"
   },
   {
    "duration": 39,
    "start_time": "2024-11-08T20:55:56.319Z"
   },
   {
    "duration": 152,
    "start_time": "2024-11-08T20:55:56.360Z"
   },
   {
    "duration": 71,
    "start_time": "2024-11-08T20:55:56.513Z"
   },
   {
    "duration": 10392,
    "start_time": "2024-11-08T20:55:56.585Z"
   },
   {
    "duration": 47,
    "start_time": "2024-11-08T20:56:06.979Z"
   },
   {
    "duration": 484,
    "start_time": "2024-11-08T20:56:07.028Z"
   },
   {
    "duration": 706,
    "start_time": "2024-11-08T20:56:07.514Z"
   },
   {
    "duration": 9,
    "start_time": "2024-11-08T20:56:08.312Z"
   },
   {
    "duration": 5,
    "start_time": "2024-11-08T20:56:08.412Z"
   },
   {
    "duration": 113,
    "start_time": "2024-11-08T20:56:08.418Z"
   },
   {
    "duration": 0,
    "start_time": "2024-11-08T20:56:08.534Z"
   },
   {
    "duration": 0,
    "start_time": "2024-11-08T20:56:08.535Z"
   },
   {
    "duration": 0,
    "start_time": "2024-11-08T20:56:08.536Z"
   },
   {
    "duration": 0,
    "start_time": "2024-11-08T20:56:08.537Z"
   },
   {
    "duration": 0,
    "start_time": "2024-11-08T20:56:08.538Z"
   },
   {
    "duration": 0,
    "start_time": "2024-11-08T20:56:08.539Z"
   },
   {
    "duration": 0,
    "start_time": "2024-11-08T20:56:08.540Z"
   },
   {
    "duration": 0,
    "start_time": "2024-11-08T20:56:08.541Z"
   },
   {
    "duration": 0,
    "start_time": "2024-11-08T20:56:08.542Z"
   },
   {
    "duration": 3626,
    "start_time": "2024-11-08T21:02:30.539Z"
   },
   {
    "duration": 109,
    "start_time": "2024-11-08T21:06:50.101Z"
   },
   {
    "duration": 107,
    "start_time": "2024-11-08T21:06:59.513Z"
   },
   {
    "duration": 3673,
    "start_time": "2024-11-08T21:08:29.379Z"
   },
   {
    "duration": 82,
    "start_time": "2024-11-08T21:09:41.093Z"
   },
   {
    "duration": 91,
    "start_time": "2024-11-08T21:10:23.524Z"
   },
   {
    "duration": 30,
    "start_time": "2024-11-08T21:10:51.434Z"
   },
   {
    "duration": 72,
    "start_time": "2024-11-08T21:13:42.902Z"
   },
   {
    "duration": 607,
    "start_time": "2024-11-08T21:14:00.276Z"
   },
   {
    "duration": 58,
    "start_time": "2024-11-08T21:14:48.238Z"
   },
   {
    "duration": 37,
    "start_time": "2024-11-08T21:14:58.962Z"
   },
   {
    "duration": 9,
    "start_time": "2024-11-08T21:15:10.446Z"
   },
   {
    "duration": 9,
    "start_time": "2024-11-08T21:26:01.785Z"
   },
   {
    "duration": 67,
    "start_time": "2024-11-08T21:27:11.129Z"
   },
   {
    "duration": 10,
    "start_time": "2024-11-08T21:30:20.530Z"
   },
   {
    "duration": 2,
    "start_time": "2024-11-08T21:30:23.389Z"
   },
   {
    "duration": 165,
    "start_time": "2024-11-08T21:30:35.678Z"
   },
   {
    "duration": 2469,
    "start_time": "2024-11-08T21:30:36.572Z"
   },
   {
    "duration": 4,
    "start_time": "2024-11-08T21:33:44.410Z"
   },
   {
    "duration": 167,
    "start_time": "2024-11-08T21:33:45.166Z"
   },
   {
    "duration": 2594,
    "start_time": "2024-11-08T21:33:48.048Z"
   },
   {
    "duration": 59,
    "start_time": "2024-11-08T21:34:09.874Z"
   },
   {
    "duration": 63,
    "start_time": "2024-11-08T21:37:12.207Z"
   },
   {
    "duration": 66,
    "start_time": "2024-11-08T21:37:29.729Z"
   },
   {
    "duration": 9,
    "start_time": "2024-11-08T21:43:24.880Z"
   },
   {
    "duration": 8,
    "start_time": "2024-11-08T21:49:29.328Z"
   },
   {
    "duration": 8,
    "start_time": "2024-11-08T21:49:43.281Z"
   },
   {
    "duration": 8,
    "start_time": "2024-11-08T21:50:00.604Z"
   },
   {
    "duration": 3961,
    "start_time": "2024-11-08T21:50:21.897Z"
   },
   {
    "duration": 839,
    "start_time": "2024-11-08T21:50:25.860Z"
   },
   {
    "duration": 603,
    "start_time": "2024-11-08T21:50:26.700Z"
   },
   {
    "duration": 13,
    "start_time": "2024-11-08T21:50:27.305Z"
   },
   {
    "duration": 56,
    "start_time": "2024-11-08T21:50:27.320Z"
   },
   {
    "duration": 339,
    "start_time": "2024-11-08T21:50:27.378Z"
   },
   {
    "duration": 25,
    "start_time": "2024-11-08T21:50:27.719Z"
   },
   {
    "duration": 69,
    "start_time": "2024-11-08T21:50:27.746Z"
   },
   {
    "duration": 7,
    "start_time": "2024-11-08T21:50:27.817Z"
   },
   {
    "duration": 93,
    "start_time": "2024-11-08T21:50:27.826Z"
   },
   {
    "duration": 5,
    "start_time": "2024-11-08T21:50:27.920Z"
   },
   {
    "duration": 7,
    "start_time": "2024-11-08T21:50:27.926Z"
   },
   {
    "duration": 5,
    "start_time": "2024-11-08T21:50:27.934Z"
   },
   {
    "duration": 34,
    "start_time": "2024-11-08T21:50:27.941Z"
   },
   {
    "duration": 61,
    "start_time": "2024-11-08T21:50:27.977Z"
   },
   {
    "duration": 19,
    "start_time": "2024-11-08T21:50:28.039Z"
   },
   {
    "duration": 28,
    "start_time": "2024-11-08T21:50:28.060Z"
   },
   {
    "duration": 45,
    "start_time": "2024-11-08T21:50:28.089Z"
   },
   {
    "duration": 27,
    "start_time": "2024-11-08T21:50:28.135Z"
   },
   {
    "duration": 49,
    "start_time": "2024-11-08T21:50:28.164Z"
   },
   {
    "duration": 80,
    "start_time": "2024-11-08T21:50:28.215Z"
   },
   {
    "duration": 25,
    "start_time": "2024-11-08T21:50:28.297Z"
   },
   {
    "duration": 29,
    "start_time": "2024-11-08T21:50:28.324Z"
   },
   {
    "duration": 26,
    "start_time": "2024-11-08T21:50:28.355Z"
   },
   {
    "duration": 25,
    "start_time": "2024-11-08T21:50:28.382Z"
   },
   {
    "duration": 2878,
    "start_time": "2024-11-08T21:50:28.409Z"
   },
   {
    "duration": 46,
    "start_time": "2024-11-08T21:50:31.289Z"
   },
   {
    "duration": 153,
    "start_time": "2024-11-08T21:50:31.339Z"
   },
   {
    "duration": 80,
    "start_time": "2024-11-08T21:50:31.493Z"
   },
   {
    "duration": 10577,
    "start_time": "2024-11-08T21:50:31.574Z"
   },
   {
    "duration": 3606,
    "start_time": "2024-11-08T21:50:42.152Z"
   },
   {
    "duration": 38,
    "start_time": "2024-11-08T21:50:45.760Z"
   },
   {
    "duration": 1022,
    "start_time": "2024-11-08T21:50:45.799Z"
   },
   {
    "duration": 0,
    "start_time": "2024-11-08T21:50:46.823Z"
   },
   {
    "duration": 0,
    "start_time": "2024-11-08T21:50:46.823Z"
   },
   {
    "duration": 0,
    "start_time": "2024-11-08T21:50:46.824Z"
   },
   {
    "duration": 0,
    "start_time": "2024-11-08T21:50:46.825Z"
   },
   {
    "duration": 0,
    "start_time": "2024-11-08T21:50:46.826Z"
   },
   {
    "duration": 0,
    "start_time": "2024-11-08T21:50:46.827Z"
   },
   {
    "duration": 0,
    "start_time": "2024-11-08T21:50:46.828Z"
   },
   {
    "duration": 0,
    "start_time": "2024-11-08T21:50:46.829Z"
   },
   {
    "duration": 0,
    "start_time": "2024-11-08T21:50:46.829Z"
   },
   {
    "duration": 0,
    "start_time": "2024-11-08T21:50:46.831Z"
   },
   {
    "duration": 0,
    "start_time": "2024-11-08T21:50:46.831Z"
   },
   {
    "duration": 0,
    "start_time": "2024-11-08T21:50:46.832Z"
   },
   {
    "duration": 0,
    "start_time": "2024-11-08T21:50:46.833Z"
   },
   {
    "duration": 0,
    "start_time": "2024-11-08T21:50:46.834Z"
   },
   {
    "duration": 0,
    "start_time": "2024-11-08T21:50:46.835Z"
   },
   {
    "duration": 0,
    "start_time": "2024-11-08T21:50:46.835Z"
   },
   {
    "duration": 420,
    "start_time": "2024-11-08T21:51:26.305Z"
   },
   {
    "duration": 556,
    "start_time": "2024-11-08T21:51:27.659Z"
   },
   {
    "duration": 96,
    "start_time": "2024-11-08T21:51:28.217Z"
   },
   {
    "duration": 5,
    "start_time": "2024-11-08T21:51:28.610Z"
   },
   {
    "duration": 3416,
    "start_time": "2024-11-08T21:51:32.307Z"
   },
   {
    "duration": 24,
    "start_time": "2024-11-08T21:51:35.725Z"
   },
   {
    "duration": 61,
    "start_time": "2024-11-08T21:51:35.751Z"
   },
   {
    "duration": 8,
    "start_time": "2024-11-08T21:51:35.814Z"
   },
   {
    "duration": 9,
    "start_time": "2024-11-08T21:51:39.633Z"
   },
   {
    "duration": 451,
    "start_time": "2024-11-08T21:52:41.149Z"
   },
   {
    "duration": 7,
    "start_time": "2024-11-08T22:03:03.315Z"
   },
   {
    "duration": 2,
    "start_time": "2024-11-08T22:05:36.550Z"
   },
   {
    "duration": 5455,
    "start_time": "2024-11-08T22:05:37.434Z"
   },
   {
    "duration": 7197,
    "start_time": "2024-11-08T22:05:47.428Z"
   },
   {
    "duration": 5442,
    "start_time": "2024-11-08T22:05:54.626Z"
   },
   {
    "duration": 4315,
    "start_time": "2024-11-08T22:06:00.069Z"
   },
   {
    "duration": 268,
    "start_time": "2024-11-08T22:06:19.088Z"
   },
   {
    "duration": 77,
    "start_time": "2024-11-08T22:27:16.794Z"
   },
   {
    "duration": 12,
    "start_time": "2024-11-08T22:27:24.333Z"
   },
   {
    "duration": 71,
    "start_time": "2024-11-08T22:27:38.608Z"
   },
   {
    "duration": 4868,
    "start_time": "2024-11-08T22:27:41.253Z"
   },
   {
    "duration": 61,
    "start_time": "2024-11-08T22:28:53.020Z"
   },
   {
    "duration": 86,
    "start_time": "2024-11-08T22:29:09.434Z"
   },
   {
    "duration": 1900,
    "start_time": "2024-11-08T22:30:15.028Z"
   },
   {
    "duration": 80,
    "start_time": "2024-11-08T22:31:26.769Z"
   },
   {
    "duration": 5394,
    "start_time": "2024-11-08T22:31:46.324Z"
   },
   {
    "duration": 1928,
    "start_time": "2024-11-08T22:31:55.997Z"
   },
   {
    "duration": 1927,
    "start_time": "2024-11-08T22:33:14.893Z"
   },
   {
    "duration": 1952,
    "start_time": "2024-11-08T22:33:27.760Z"
   },
   {
    "duration": 814,
    "start_time": "2024-11-08T22:40:42.691Z"
   },
   {
    "duration": 283,
    "start_time": "2024-11-08T22:43:41.339Z"
   },
   {
    "duration": 74,
    "start_time": "2024-11-08T22:45:28.301Z"
   },
   {
    "duration": 77,
    "start_time": "2024-11-08T22:45:37.517Z"
   },
   {
    "duration": 351,
    "start_time": "2024-11-08T22:46:31.275Z"
   },
   {
    "duration": 76,
    "start_time": "2024-11-08T22:46:54.251Z"
   },
   {
    "duration": 75,
    "start_time": "2024-11-08T22:47:02.583Z"
   },
   {
    "duration": 101,
    "start_time": "2024-11-08T22:48:54.270Z"
   },
   {
    "duration": 3812,
    "start_time": "2024-11-08T22:51:31.612Z"
   },
   {
    "duration": 837,
    "start_time": "2024-11-08T22:51:35.426Z"
   },
   {
    "duration": 596,
    "start_time": "2024-11-08T22:51:36.265Z"
   },
   {
    "duration": 10,
    "start_time": "2024-11-08T22:51:36.863Z"
   },
   {
    "duration": 60,
    "start_time": "2024-11-08T22:51:36.874Z"
   },
   {
    "duration": 342,
    "start_time": "2024-11-08T22:51:36.936Z"
   },
   {
    "duration": 32,
    "start_time": "2024-11-08T22:51:37.280Z"
   },
   {
    "duration": 47,
    "start_time": "2024-11-08T22:51:37.314Z"
   },
   {
    "duration": 8,
    "start_time": "2024-11-08T22:51:37.362Z"
   },
   {
    "duration": 91,
    "start_time": "2024-11-08T22:51:37.373Z"
   },
   {
    "duration": 6,
    "start_time": "2024-11-08T22:51:37.466Z"
   },
   {
    "duration": 14,
    "start_time": "2024-11-08T22:51:37.474Z"
   },
   {
    "duration": 22,
    "start_time": "2024-11-08T22:51:37.489Z"
   },
   {
    "duration": 37,
    "start_time": "2024-11-08T22:51:37.512Z"
   },
   {
    "duration": 29,
    "start_time": "2024-11-08T22:51:37.550Z"
   },
   {
    "duration": 17,
    "start_time": "2024-11-08T22:51:37.580Z"
   },
   {
    "duration": 14,
    "start_time": "2024-11-08T22:51:37.612Z"
   },
   {
    "duration": 17,
    "start_time": "2024-11-08T22:51:37.628Z"
   },
   {
    "duration": 20,
    "start_time": "2024-11-08T22:51:37.647Z"
   },
   {
    "duration": 26,
    "start_time": "2024-11-08T22:51:37.669Z"
   },
   {
    "duration": 73,
    "start_time": "2024-11-08T22:51:37.697Z"
   },
   {
    "duration": 20,
    "start_time": "2024-11-08T22:51:37.772Z"
   },
   {
    "duration": 23,
    "start_time": "2024-11-08T22:51:37.793Z"
   },
   {
    "duration": 26,
    "start_time": "2024-11-08T22:51:37.817Z"
   },
   {
    "duration": 17,
    "start_time": "2024-11-08T22:51:37.844Z"
   },
   {
    "duration": 2757,
    "start_time": "2024-11-08T22:51:37.862Z"
   },
   {
    "duration": 31,
    "start_time": "2024-11-08T22:51:40.621Z"
   },
   {
    "duration": 147,
    "start_time": "2024-11-08T22:51:40.655Z"
   },
   {
    "duration": 79,
    "start_time": "2024-11-08T22:51:40.804Z"
   },
   {
    "duration": 10374,
    "start_time": "2024-11-08T22:51:40.885Z"
   },
   {
    "duration": 3519,
    "start_time": "2024-11-08T22:51:51.261Z"
   },
   {
    "duration": 38,
    "start_time": "2024-11-08T22:51:54.782Z"
   },
   {
    "duration": 412,
    "start_time": "2024-11-08T22:51:54.822Z"
   },
   {
    "duration": 681,
    "start_time": "2024-11-08T22:51:55.236Z"
   },
   {
    "duration": 95,
    "start_time": "2024-11-08T22:51:55.922Z"
   },
   {
    "duration": 5,
    "start_time": "2024-11-08T22:51:56.018Z"
   },
   {
    "duration": 3313,
    "start_time": "2024-11-08T22:51:56.024Z"
   },
   {
    "duration": 24,
    "start_time": "2024-11-08T22:51:59.339Z"
   },
   {
    "duration": 56,
    "start_time": "2024-11-08T22:51:59.364Z"
   },
   {
    "duration": 8,
    "start_time": "2024-11-08T22:51:59.422Z"
   },
   {
    "duration": 3,
    "start_time": "2024-11-08T22:51:59.431Z"
   },
   {
    "duration": 5640,
    "start_time": "2024-11-08T22:51:59.435Z"
   },
   {
    "duration": 7109,
    "start_time": "2024-11-08T22:52:05.076Z"
   },
   {
    "duration": 5416,
    "start_time": "2024-11-08T22:52:12.186Z"
   },
   {
    "duration": 4339,
    "start_time": "2024-11-08T22:52:17.603Z"
   },
   {
    "duration": 786,
    "start_time": "2024-11-08T22:52:21.943Z"
   },
   {
    "duration": 87,
    "start_time": "2024-11-08T22:52:22.730Z"
   },
   {
    "duration": 168,
    "start_time": "2024-11-08T22:52:22.818Z"
   },
   {
    "duration": 70,
    "start_time": "2024-11-08T22:52:22.987Z"
   },
   {
    "duration": 151,
    "start_time": "2024-11-08T22:52:23.059Z"
   },
   {
    "duration": 80,
    "start_time": "2024-11-08T22:52:59.708Z"
   },
   {
    "duration": 4695,
    "start_time": "2024-11-08T22:53:00.422Z"
   },
   {
    "duration": 1998,
    "start_time": "2024-11-08T22:53:05.119Z"
   },
   {
    "duration": 497,
    "start_time": "2024-11-08T22:53:07.119Z"
   },
   {
    "duration": 77,
    "start_time": "2024-11-08T22:54:10.000Z"
   },
   {
    "duration": 261,
    "start_time": "2024-11-08T22:54:12.956Z"
   },
   {
    "duration": 319,
    "start_time": "2024-11-08T22:54:36.703Z"
   },
   {
    "duration": 86,
    "start_time": "2024-11-08T22:55:01.334Z"
   },
   {
    "duration": 5093,
    "start_time": "2024-11-08T22:55:02.929Z"
   },
   {
    "duration": 2014,
    "start_time": "2024-11-08T22:55:08.112Z"
   },
   {
    "duration": 360,
    "start_time": "2024-11-08T22:55:56.962Z"
   },
   {
    "duration": 89,
    "start_time": "2024-11-08T22:56:37.819Z"
   },
   {
    "duration": 80,
    "start_time": "2024-11-08T22:58:44.953Z"
   },
   {
    "duration": 302,
    "start_time": "2024-11-08T22:58:45.918Z"
   },
   {
    "duration": 3887,
    "start_time": "2024-11-08T23:00:47.647Z"
   },
   {
    "duration": 837,
    "start_time": "2024-11-08T23:00:51.536Z"
   },
   {
    "duration": 576,
    "start_time": "2024-11-08T23:00:52.374Z"
   },
   {
    "duration": 9,
    "start_time": "2024-11-08T23:00:52.951Z"
   },
   {
    "duration": 60,
    "start_time": "2024-11-08T23:00:52.961Z"
   },
   {
    "duration": 337,
    "start_time": "2024-11-08T23:00:53.023Z"
   },
   {
    "duration": 27,
    "start_time": "2024-11-08T23:00:53.362Z"
   },
   {
    "duration": 58,
    "start_time": "2024-11-08T23:00:53.391Z"
   },
   {
    "duration": 7,
    "start_time": "2024-11-08T23:00:53.450Z"
   },
   {
    "duration": 86,
    "start_time": "2024-11-08T23:00:53.459Z"
   },
   {
    "duration": 4,
    "start_time": "2024-11-08T23:00:53.547Z"
   },
   {
    "duration": 9,
    "start_time": "2024-11-08T23:00:53.552Z"
   },
   {
    "duration": 5,
    "start_time": "2024-11-08T23:00:53.562Z"
   },
   {
    "duration": 55,
    "start_time": "2024-11-08T23:00:53.569Z"
   },
   {
    "duration": 30,
    "start_time": "2024-11-08T23:00:53.625Z"
   },
   {
    "duration": 17,
    "start_time": "2024-11-08T23:00:53.656Z"
   },
   {
    "duration": 44,
    "start_time": "2024-11-08T23:00:53.675Z"
   },
   {
    "duration": 24,
    "start_time": "2024-11-08T23:00:53.721Z"
   },
   {
    "duration": 23,
    "start_time": "2024-11-08T23:00:53.746Z"
   },
   {
    "duration": 29,
    "start_time": "2024-11-08T23:00:53.770Z"
   },
   {
    "duration": 73,
    "start_time": "2024-11-08T23:00:53.800Z"
   },
   {
    "duration": 20,
    "start_time": "2024-11-08T23:00:53.875Z"
   },
   {
    "duration": 26,
    "start_time": "2024-11-08T23:00:53.897Z"
   },
   {
    "duration": 27,
    "start_time": "2024-11-08T23:00:53.924Z"
   },
   {
    "duration": 16,
    "start_time": "2024-11-08T23:00:53.953Z"
   },
   {
    "duration": 2865,
    "start_time": "2024-11-08T23:00:53.970Z"
   },
   {
    "duration": 30,
    "start_time": "2024-11-08T23:00:56.837Z"
   },
   {
    "duration": 152,
    "start_time": "2024-11-08T23:00:56.870Z"
   },
   {
    "duration": 104,
    "start_time": "2024-11-08T23:00:57.024Z"
   },
   {
    "duration": 10565,
    "start_time": "2024-11-08T23:00:57.129Z"
   },
   {
    "duration": 3607,
    "start_time": "2024-11-08T23:01:07.695Z"
   },
   {
    "duration": 38,
    "start_time": "2024-11-08T23:01:11.303Z"
   },
   {
    "duration": 403,
    "start_time": "2024-11-08T23:01:11.342Z"
   },
   {
    "duration": 565,
    "start_time": "2024-11-08T23:01:11.747Z"
   },
   {
    "duration": 98,
    "start_time": "2024-11-08T23:01:12.314Z"
   },
   {
    "duration": 5,
    "start_time": "2024-11-08T23:01:12.414Z"
   },
   {
    "duration": 3354,
    "start_time": "2024-11-08T23:01:12.420Z"
   },
   {
    "duration": 24,
    "start_time": "2024-11-08T23:01:15.775Z"
   },
   {
    "duration": 54,
    "start_time": "2024-11-08T23:01:15.800Z"
   },
   {
    "duration": 9,
    "start_time": "2024-11-08T23:01:15.855Z"
   },
   {
    "duration": 6,
    "start_time": "2024-11-08T23:01:15.865Z"
   },
   {
    "duration": 5541,
    "start_time": "2024-11-08T23:01:15.872Z"
   },
   {
    "duration": 7335,
    "start_time": "2024-11-08T23:01:21.415Z"
   },
   {
    "duration": 5454,
    "start_time": "2024-11-08T23:01:28.752Z"
   },
   {
    "duration": 4316,
    "start_time": "2024-11-08T23:01:34.208Z"
   },
   {
    "duration": 799,
    "start_time": "2024-11-08T23:01:38.525Z"
   },
   {
    "duration": 88,
    "start_time": "2024-11-08T23:01:39.325Z"
   },
   {
    "duration": 4597,
    "start_time": "2024-11-08T23:01:39.415Z"
   },
   {
    "duration": 2127,
    "start_time": "2024-11-08T23:01:44.013Z"
   },
   {
    "duration": 181,
    "start_time": "2024-11-08T23:01:46.141Z"
   },
   {
    "duration": 389,
    "start_time": "2024-11-08T23:01:46.324Z"
   },
   {
    "duration": 3891,
    "start_time": "2024-11-08T23:03:52.269Z"
   },
   {
    "duration": 872,
    "start_time": "2024-11-08T23:03:56.162Z"
   },
   {
    "duration": 619,
    "start_time": "2024-11-08T23:03:57.036Z"
   },
   {
    "duration": 8,
    "start_time": "2024-11-08T23:03:57.657Z"
   },
   {
    "duration": 60,
    "start_time": "2024-11-08T23:03:57.666Z"
   },
   {
    "duration": 320,
    "start_time": "2024-11-08T23:03:57.728Z"
   },
   {
    "duration": 20,
    "start_time": "2024-11-08T23:03:58.050Z"
   },
   {
    "duration": 67,
    "start_time": "2024-11-08T23:03:58.071Z"
   },
   {
    "duration": 6,
    "start_time": "2024-11-08T23:03:58.140Z"
   },
   {
    "duration": 86,
    "start_time": "2024-11-08T23:03:58.148Z"
   },
   {
    "duration": 5,
    "start_time": "2024-11-08T23:03:58.235Z"
   },
   {
    "duration": 6,
    "start_time": "2024-11-08T23:03:58.241Z"
   },
   {
    "duration": 4,
    "start_time": "2024-11-08T23:03:58.248Z"
   },
   {
    "duration": 59,
    "start_time": "2024-11-08T23:03:58.253Z"
   },
   {
    "duration": 30,
    "start_time": "2024-11-08T23:03:58.313Z"
   },
   {
    "duration": 16,
    "start_time": "2024-11-08T23:03:58.345Z"
   },
   {
    "duration": 16,
    "start_time": "2024-11-08T23:03:58.363Z"
   },
   {
    "duration": 15,
    "start_time": "2024-11-08T23:03:58.380Z"
   },
   {
    "duration": 14,
    "start_time": "2024-11-08T23:03:58.411Z"
   },
   {
    "duration": 39,
    "start_time": "2024-11-08T23:03:58.426Z"
   },
   {
    "duration": 73,
    "start_time": "2024-11-08T23:03:58.466Z"
   },
   {
    "duration": 20,
    "start_time": "2024-11-08T23:03:58.541Z"
   },
   {
    "duration": 16,
    "start_time": "2024-11-08T23:03:58.563Z"
   },
   {
    "duration": 42,
    "start_time": "2024-11-08T23:03:58.581Z"
   },
   {
    "duration": 15,
    "start_time": "2024-11-08T23:03:58.625Z"
   },
   {
    "duration": 2879,
    "start_time": "2024-11-08T23:03:58.642Z"
   },
   {
    "duration": 31,
    "start_time": "2024-11-08T23:04:01.523Z"
   },
   {
    "duration": 150,
    "start_time": "2024-11-08T23:04:01.557Z"
   },
   {
    "duration": 74,
    "start_time": "2024-11-08T23:04:01.712Z"
   },
   {
    "duration": 10627,
    "start_time": "2024-11-08T23:04:01.788Z"
   },
   {
    "duration": 43,
    "start_time": "2024-11-08T23:04:12.417Z"
   },
   {
    "duration": 498,
    "start_time": "2024-11-08T23:04:12.461Z"
   },
   {
    "duration": 654,
    "start_time": "2024-11-08T23:04:12.961Z"
   },
   {
    "duration": 96,
    "start_time": "2024-11-08T23:04:13.616Z"
   },
   {
    "duration": 5,
    "start_time": "2024-11-08T23:04:13.714Z"
   },
   {
    "duration": 3587,
    "start_time": "2024-11-08T23:04:13.720Z"
   },
   {
    "duration": 27,
    "start_time": "2024-11-08T23:04:17.308Z"
   },
   {
    "duration": 49,
    "start_time": "2024-11-08T23:04:17.336Z"
   },
   {
    "duration": 27,
    "start_time": "2024-11-08T23:04:17.387Z"
   },
   {
    "duration": 2,
    "start_time": "2024-11-08T23:04:17.416Z"
   },
   {
    "duration": 5922,
    "start_time": "2024-11-08T23:04:17.420Z"
   },
   {
    "duration": 8057,
    "start_time": "2024-11-08T23:04:23.344Z"
   },
   {
    "duration": 6061,
    "start_time": "2024-11-08T23:04:31.402Z"
   },
   {
    "duration": 4574,
    "start_time": "2024-11-08T23:04:37.464Z"
   },
   {
    "duration": 991,
    "start_time": "2024-11-08T23:04:42.039Z"
   },
   {
    "duration": 111,
    "start_time": "2024-11-08T23:04:43.031Z"
   },
   {
    "duration": 6168,
    "start_time": "2024-11-08T23:04:43.144Z"
   },
   {
    "duration": 2011,
    "start_time": "2024-11-08T23:04:49.314Z"
   },
   {
    "duration": 156,
    "start_time": "2024-11-08T23:04:51.328Z"
   },
   {
    "duration": 427,
    "start_time": "2024-11-08T23:04:51.485Z"
   },
   {
    "duration": 202,
    "start_time": "2024-11-08T23:07:49.734Z"
   },
   {
    "duration": 325,
    "start_time": "2024-11-08T23:08:28.890Z"
   },
   {
    "duration": 33,
    "start_time": "2024-11-08T23:10:00.860Z"
   },
   {
    "duration": 13,
    "start_time": "2024-11-08T23:10:38.944Z"
   },
   {
    "duration": 95,
    "start_time": "2024-11-08T23:14:07.467Z"
   },
   {
    "duration": 13,
    "start_time": "2024-11-08T23:15:05.625Z"
   },
   {
    "duration": 24,
    "start_time": "2024-11-08T23:19:08.058Z"
   },
   {
    "duration": 3842,
    "start_time": "2024-11-08T23:19:46.383Z"
   },
   {
    "duration": 856,
    "start_time": "2024-11-08T23:19:50.227Z"
   },
   {
    "duration": 587,
    "start_time": "2024-11-08T23:19:51.085Z"
   },
   {
    "duration": 9,
    "start_time": "2024-11-08T23:19:51.674Z"
   },
   {
    "duration": 61,
    "start_time": "2024-11-08T23:19:51.684Z"
   },
   {
    "duration": 322,
    "start_time": "2024-11-08T23:19:51.746Z"
   },
   {
    "duration": 21,
    "start_time": "2024-11-08T23:19:52.069Z"
   },
   {
    "duration": 58,
    "start_time": "2024-11-08T23:19:52.091Z"
   },
   {
    "duration": 7,
    "start_time": "2024-11-08T23:19:52.150Z"
   },
   {
    "duration": 91,
    "start_time": "2024-11-08T23:19:52.159Z"
   },
   {
    "duration": 5,
    "start_time": "2024-11-08T23:19:52.252Z"
   },
   {
    "duration": 5,
    "start_time": "2024-11-08T23:19:52.259Z"
   },
   {
    "duration": 9,
    "start_time": "2024-11-08T23:19:52.266Z"
   },
   {
    "duration": 60,
    "start_time": "2024-11-08T23:19:52.277Z"
   },
   {
    "duration": 30,
    "start_time": "2024-11-08T23:19:52.338Z"
   },
   {
    "duration": 17,
    "start_time": "2024-11-08T23:19:52.369Z"
   },
   {
    "duration": 28,
    "start_time": "2024-11-08T23:19:52.387Z"
   },
   {
    "duration": 15,
    "start_time": "2024-11-08T23:19:52.417Z"
   },
   {
    "duration": 30,
    "start_time": "2024-11-08T23:19:52.434Z"
   },
   {
    "duration": 26,
    "start_time": "2024-11-08T23:19:52.466Z"
   },
   {
    "duration": 65,
    "start_time": "2024-11-08T23:19:52.494Z"
   },
   {
    "duration": 20,
    "start_time": "2024-11-08T23:19:52.560Z"
   },
   {
    "duration": 31,
    "start_time": "2024-11-08T23:19:52.581Z"
   },
   {
    "duration": 24,
    "start_time": "2024-11-08T23:19:52.613Z"
   },
   {
    "duration": 16,
    "start_time": "2024-11-08T23:19:52.638Z"
   },
   {
    "duration": 2757,
    "start_time": "2024-11-08T23:19:52.655Z"
   },
   {
    "duration": 30,
    "start_time": "2024-11-08T23:19:55.413Z"
   },
   {
    "duration": 142,
    "start_time": "2024-11-08T23:19:55.447Z"
   },
   {
    "duration": 79,
    "start_time": "2024-11-08T23:19:55.590Z"
   },
   {
    "duration": 10361,
    "start_time": "2024-11-08T23:19:55.671Z"
   },
   {
    "duration": 43,
    "start_time": "2024-11-08T23:20:06.034Z"
   },
   {
    "duration": 486,
    "start_time": "2024-11-08T23:20:06.079Z"
   },
   {
    "duration": 748,
    "start_time": "2024-11-08T23:20:06.567Z"
   },
   {
    "duration": 96,
    "start_time": "2024-11-08T23:20:07.317Z"
   },
   {
    "duration": 6,
    "start_time": "2024-11-08T23:20:07.414Z"
   },
   {
    "duration": 3806,
    "start_time": "2024-11-08T23:20:07.421Z"
   },
   {
    "duration": 24,
    "start_time": "2024-11-08T23:20:11.229Z"
   },
   {
    "duration": 60,
    "start_time": "2024-11-08T23:20:11.255Z"
   },
   {
    "duration": 9,
    "start_time": "2024-11-08T23:20:11.317Z"
   },
   {
    "duration": 8,
    "start_time": "2024-11-08T23:20:11.327Z"
   },
   {
    "duration": 6362,
    "start_time": "2024-11-08T23:20:11.336Z"
   },
   {
    "duration": 8470,
    "start_time": "2024-11-08T23:20:17.699Z"
   },
   {
    "duration": 6537,
    "start_time": "2024-11-08T23:20:26.171Z"
   },
   {
    "duration": 4742,
    "start_time": "2024-11-08T23:20:32.709Z"
   },
   {
    "duration": 1029,
    "start_time": "2024-11-08T23:20:37.452Z"
   },
   {
    "duration": 110,
    "start_time": "2024-11-08T23:20:38.483Z"
   },
   {
    "duration": 6126,
    "start_time": "2024-11-08T23:20:38.595Z"
   },
   {
    "duration": 2204,
    "start_time": "2024-11-08T23:20:44.723Z"
   },
   {
    "duration": 172,
    "start_time": "2024-11-08T23:20:46.929Z"
   },
   {
    "duration": 410,
    "start_time": "2024-11-08T23:20:47.103Z"
   },
   {
    "duration": 149,
    "start_time": "2024-11-08T23:20:47.514Z"
   },
   {
    "duration": 97,
    "start_time": "2024-11-08T23:27:57.318Z"
   },
   {
    "duration": 39626,
    "start_time": "2024-11-08T23:28:24.600Z"
   },
   {
    "duration": 173,
    "start_time": "2024-11-08T23:29:04.228Z"
   },
   {
    "duration": 82,
    "start_time": "2024-11-08T23:30:11.215Z"
   },
   {
    "duration": 35,
    "start_time": "2024-11-08T23:30:23.210Z"
   },
   {
    "duration": 85,
    "start_time": "2024-11-08T23:30:37.326Z"
   },
   {
    "duration": 39048,
    "start_time": "2024-11-08T23:30:49.732Z"
   },
   {
    "duration": 93,
    "start_time": "2024-11-08T23:31:28.781Z"
   },
   {
    "duration": 507,
    "start_time": "2024-11-08T23:35:29.888Z"
   },
   {
    "duration": 3774,
    "start_time": "2024-11-08T23:37:32.635Z"
   },
   {
    "duration": 853,
    "start_time": "2024-11-08T23:37:36.411Z"
   },
   {
    "duration": 599,
    "start_time": "2024-11-08T23:37:37.266Z"
   },
   {
    "duration": 9,
    "start_time": "2024-11-08T23:37:37.867Z"
   },
   {
    "duration": 61,
    "start_time": "2024-11-08T23:37:37.878Z"
   },
   {
    "duration": 323,
    "start_time": "2024-11-08T23:37:37.941Z"
   },
   {
    "duration": 20,
    "start_time": "2024-11-08T23:37:38.266Z"
   },
   {
    "duration": 61,
    "start_time": "2024-11-08T23:37:38.287Z"
   },
   {
    "duration": 7,
    "start_time": "2024-11-08T23:37:38.349Z"
   },
   {
    "duration": 81,
    "start_time": "2024-11-08T23:37:38.358Z"
   },
   {
    "duration": 5,
    "start_time": "2024-11-08T23:37:38.441Z"
   },
   {
    "duration": 6,
    "start_time": "2024-11-08T23:37:38.448Z"
   },
   {
    "duration": 6,
    "start_time": "2024-11-08T23:37:38.455Z"
   },
   {
    "duration": 62,
    "start_time": "2024-11-08T23:37:38.462Z"
   },
   {
    "duration": 30,
    "start_time": "2024-11-08T23:37:38.526Z"
   },
   {
    "duration": 16,
    "start_time": "2024-11-08T23:37:38.557Z"
   },
   {
    "duration": 37,
    "start_time": "2024-11-08T23:37:38.575Z"
   },
   {
    "duration": 15,
    "start_time": "2024-11-08T23:37:38.613Z"
   },
   {
    "duration": 15,
    "start_time": "2024-11-08T23:37:38.630Z"
   },
   {
    "duration": 48,
    "start_time": "2024-11-08T23:37:38.647Z"
   },
   {
    "duration": 67,
    "start_time": "2024-11-08T23:37:38.697Z"
   },
   {
    "duration": 21,
    "start_time": "2024-11-08T23:37:38.765Z"
   },
   {
    "duration": 24,
    "start_time": "2024-11-08T23:37:38.788Z"
   },
   {
    "duration": 24,
    "start_time": "2024-11-08T23:37:38.814Z"
   },
   {
    "duration": 16,
    "start_time": "2024-11-08T23:37:38.839Z"
   },
   {
    "duration": 2807,
    "start_time": "2024-11-08T23:37:38.856Z"
   },
   {
    "duration": 32,
    "start_time": "2024-11-08T23:37:41.665Z"
   },
   {
    "duration": 164,
    "start_time": "2024-11-08T23:37:41.712Z"
   },
   {
    "duration": 94,
    "start_time": "2024-11-08T23:37:41.877Z"
   },
   {
    "duration": 11088,
    "start_time": "2024-11-08T23:37:41.972Z"
   },
   {
    "duration": 52,
    "start_time": "2024-11-08T23:37:53.061Z"
   },
   {
    "duration": 547,
    "start_time": "2024-11-08T23:37:53.115Z"
   },
   {
    "duration": 850,
    "start_time": "2024-11-08T23:37:53.663Z"
   },
   {
    "duration": 96,
    "start_time": "2024-11-08T23:37:54.517Z"
   },
   {
    "duration": 5,
    "start_time": "2024-11-08T23:37:54.614Z"
   },
   {
    "duration": 52,
    "start_time": "2024-11-08T23:37:54.620Z"
   },
   {
    "duration": 9,
    "start_time": "2024-11-08T23:37:54.673Z"
   },
   {
    "duration": 2,
    "start_time": "2024-11-08T23:37:54.683Z"
   },
   {
    "duration": 6453,
    "start_time": "2024-11-08T23:37:54.711Z"
   },
   {
    "duration": 8828,
    "start_time": "2024-11-08T23:38:01.165Z"
   },
   {
    "duration": 6370,
    "start_time": "2024-11-08T23:38:09.994Z"
   },
   {
    "duration": 4897,
    "start_time": "2024-11-08T23:38:16.365Z"
   },
   {
    "duration": 1034,
    "start_time": "2024-11-08T23:38:21.264Z"
   },
   {
    "duration": 117,
    "start_time": "2024-11-08T23:38:22.299Z"
   },
   {
    "duration": 6096,
    "start_time": "2024-11-08T23:38:22.417Z"
   },
   {
    "duration": 2203,
    "start_time": "2024-11-08T23:38:28.514Z"
   },
   {
    "duration": 139,
    "start_time": "2024-11-08T23:38:30.718Z"
   },
   {
    "duration": 265,
    "start_time": "2024-11-08T23:38:30.858Z"
   },
   {
    "duration": 4069,
    "start_time": "2024-11-08T23:39:10.337Z"
   },
   {
    "duration": 3809,
    "start_time": "2024-11-08T23:40:52.725Z"
   },
   {
    "duration": 855,
    "start_time": "2024-11-08T23:40:56.535Z"
   },
   {
    "duration": 561,
    "start_time": "2024-11-08T23:40:57.391Z"
   },
   {
    "duration": 10,
    "start_time": "2024-11-08T23:40:57.953Z"
   },
   {
    "duration": 61,
    "start_time": "2024-11-08T23:40:57.964Z"
   },
   {
    "duration": 311,
    "start_time": "2024-11-08T23:40:58.027Z"
   },
   {
    "duration": 20,
    "start_time": "2024-11-08T23:40:58.340Z"
   },
   {
    "duration": 57,
    "start_time": "2024-11-08T23:40:58.362Z"
   },
   {
    "duration": 7,
    "start_time": "2024-11-08T23:40:58.420Z"
   },
   {
    "duration": 88,
    "start_time": "2024-11-08T23:40:58.429Z"
   },
   {
    "duration": 4,
    "start_time": "2024-11-08T23:40:58.519Z"
   },
   {
    "duration": 5,
    "start_time": "2024-11-08T23:40:58.524Z"
   },
   {
    "duration": 5,
    "start_time": "2024-11-08T23:40:58.530Z"
   },
   {
    "duration": 39,
    "start_time": "2024-11-08T23:40:58.536Z"
   },
   {
    "duration": 51,
    "start_time": "2024-11-08T23:40:58.577Z"
   },
   {
    "duration": 18,
    "start_time": "2024-11-08T23:40:58.629Z"
   },
   {
    "duration": 14,
    "start_time": "2024-11-08T23:40:58.649Z"
   },
   {
    "duration": 15,
    "start_time": "2024-11-08T23:40:58.665Z"
   },
   {
    "duration": 36,
    "start_time": "2024-11-08T23:40:58.682Z"
   },
   {
    "duration": 36,
    "start_time": "2024-11-08T23:40:58.720Z"
   },
   {
    "duration": 79,
    "start_time": "2024-11-08T23:40:58.758Z"
   },
   {
    "duration": 22,
    "start_time": "2024-11-08T23:40:58.838Z"
   },
   {
    "duration": 16,
    "start_time": "2024-11-08T23:40:58.861Z"
   },
   {
    "duration": 39,
    "start_time": "2024-11-08T23:40:58.879Z"
   },
   {
    "duration": 18,
    "start_time": "2024-11-08T23:40:58.920Z"
   },
   {
    "duration": 2956,
    "start_time": "2024-11-08T23:40:58.940Z"
   },
   {
    "duration": 38,
    "start_time": "2024-11-08T23:41:01.898Z"
   },
   {
    "duration": 146,
    "start_time": "2024-11-08T23:41:01.939Z"
   },
   {
    "duration": 82,
    "start_time": "2024-11-08T23:41:02.087Z"
   },
   {
    "duration": 11210,
    "start_time": "2024-11-08T23:41:02.171Z"
   },
   {
    "duration": 2816,
    "start_time": "2024-11-08T23:41:13.382Z"
   },
   {
    "duration": 34,
    "start_time": "2024-11-08T23:41:16.199Z"
   },
   {
    "duration": 1089,
    "start_time": "2024-11-08T23:41:16.235Z"
   },
   {
    "duration": 0,
    "start_time": "2024-11-08T23:41:17.325Z"
   },
   {
    "duration": 0,
    "start_time": "2024-11-08T23:41:17.327Z"
   },
   {
    "duration": 0,
    "start_time": "2024-11-08T23:41:17.328Z"
   },
   {
    "duration": 0,
    "start_time": "2024-11-08T23:41:17.329Z"
   },
   {
    "duration": 0,
    "start_time": "2024-11-08T23:41:17.330Z"
   },
   {
    "duration": 0,
    "start_time": "2024-11-08T23:41:17.331Z"
   },
   {
    "duration": 0,
    "start_time": "2024-11-08T23:41:17.332Z"
   },
   {
    "duration": 0,
    "start_time": "2024-11-08T23:41:17.334Z"
   },
   {
    "duration": 0,
    "start_time": "2024-11-08T23:41:17.335Z"
   },
   {
    "duration": 0,
    "start_time": "2024-11-08T23:41:17.337Z"
   },
   {
    "duration": 0,
    "start_time": "2024-11-08T23:41:17.338Z"
   },
   {
    "duration": 0,
    "start_time": "2024-11-08T23:41:17.339Z"
   },
   {
    "duration": 0,
    "start_time": "2024-11-08T23:41:17.341Z"
   },
   {
    "duration": 0,
    "start_time": "2024-11-08T23:41:17.342Z"
   },
   {
    "duration": 0,
    "start_time": "2024-11-08T23:41:17.343Z"
   },
   {
    "duration": 0,
    "start_time": "2024-11-08T23:41:17.344Z"
   },
   {
    "duration": 3858,
    "start_time": "2024-11-08T23:42:06.961Z"
   },
   {
    "duration": 854,
    "start_time": "2024-11-08T23:42:10.821Z"
   },
   {
    "duration": 580,
    "start_time": "2024-11-08T23:42:11.676Z"
   },
   {
    "duration": 10,
    "start_time": "2024-11-08T23:42:12.258Z"
   },
   {
    "duration": 66,
    "start_time": "2024-11-08T23:42:12.269Z"
   },
   {
    "duration": 333,
    "start_time": "2024-11-08T23:42:12.336Z"
   },
   {
    "duration": 20,
    "start_time": "2024-11-08T23:42:12.670Z"
   },
   {
    "duration": 58,
    "start_time": "2024-11-08T23:42:12.692Z"
   },
   {
    "duration": 8,
    "start_time": "2024-11-08T23:42:12.751Z"
   },
   {
    "duration": 86,
    "start_time": "2024-11-08T23:42:12.762Z"
   },
   {
    "duration": 7,
    "start_time": "2024-11-08T23:42:12.849Z"
   },
   {
    "duration": 4,
    "start_time": "2024-11-08T23:42:12.857Z"
   },
   {
    "duration": 4,
    "start_time": "2024-11-08T23:42:12.863Z"
   },
   {
    "duration": 64,
    "start_time": "2024-11-08T23:42:12.868Z"
   },
   {
    "duration": 29,
    "start_time": "2024-11-08T23:42:12.933Z"
   },
   {
    "duration": 16,
    "start_time": "2024-11-08T23:42:12.964Z"
   },
   {
    "duration": 22,
    "start_time": "2024-11-08T23:42:12.982Z"
   },
   {
    "duration": 15,
    "start_time": "2024-11-08T23:42:13.012Z"
   },
   {
    "duration": 17,
    "start_time": "2024-11-08T23:42:13.029Z"
   },
   {
    "duration": 26,
    "start_time": "2024-11-08T23:42:13.047Z"
   },
   {
    "duration": 81,
    "start_time": "2024-11-08T23:42:13.074Z"
   },
   {
    "duration": 21,
    "start_time": "2024-11-08T23:42:13.157Z"
   },
   {
    "duration": 20,
    "start_time": "2024-11-08T23:42:13.180Z"
   },
   {
    "duration": 33,
    "start_time": "2024-11-08T23:42:13.201Z"
   },
   {
    "duration": 14,
    "start_time": "2024-11-08T23:42:13.235Z"
   },
   {
    "duration": 2792,
    "start_time": "2024-11-08T23:42:13.250Z"
   },
   {
    "duration": 30,
    "start_time": "2024-11-08T23:42:16.044Z"
   },
   {
    "duration": 151,
    "start_time": "2024-11-08T23:42:16.078Z"
   },
   {
    "duration": 90,
    "start_time": "2024-11-08T23:42:16.230Z"
   },
   {
    "duration": 11060,
    "start_time": "2024-11-08T23:42:16.322Z"
   },
   {
    "duration": 2736,
    "start_time": "2024-11-08T23:42:27.383Z"
   },
   {
    "duration": 30,
    "start_time": "2024-11-08T23:42:30.121Z"
   },
   {
    "duration": 375,
    "start_time": "2024-11-08T23:42:30.153Z"
   },
   {
    "duration": 486,
    "start_time": "2024-11-08T23:42:30.529Z"
   },
   {
    "duration": 96,
    "start_time": "2024-11-08T23:42:31.017Z"
   },
   {
    "duration": 5,
    "start_time": "2024-11-08T23:42:31.115Z"
   },
   {
    "duration": 55,
    "start_time": "2024-11-08T23:42:31.121Z"
   },
   {
    "duration": 8,
    "start_time": "2024-11-08T23:42:31.178Z"
   },
   {
    "duration": 26,
    "start_time": "2024-11-08T23:42:31.187Z"
   },
   {
    "duration": 5299,
    "start_time": "2024-11-08T23:42:31.214Z"
   },
   {
    "duration": 6581,
    "start_time": "2024-11-08T23:42:36.514Z"
   },
   {
    "duration": 5253,
    "start_time": "2024-11-08T23:42:43.097Z"
   },
   {
    "duration": 4286,
    "start_time": "2024-11-08T23:42:48.351Z"
   },
   {
    "duration": 724,
    "start_time": "2024-11-08T23:42:52.638Z"
   },
   {
    "duration": 73,
    "start_time": "2024-11-08T23:42:53.363Z"
   },
   {
    "duration": 5077,
    "start_time": "2024-11-08T23:42:53.438Z"
   },
   {
    "duration": 1896,
    "start_time": "2024-11-08T23:42:58.517Z"
   },
   {
    "duration": 52,
    "start_time": "2024-11-08T23:43:00.414Z"
   },
   {
    "duration": 455,
    "start_time": "2024-11-08T23:43:00.468Z"
   },
   {
    "duration": 111,
    "start_time": "2024-11-08T23:45:08.616Z"
   },
   {
    "duration": 4032,
    "start_time": "2024-11-08T23:46:25.113Z"
   },
   {
    "duration": 847,
    "start_time": "2024-11-08T23:46:29.146Z"
   },
   {
    "duration": 569,
    "start_time": "2024-11-08T23:46:29.994Z"
   },
   {
    "duration": 9,
    "start_time": "2024-11-08T23:46:30.565Z"
   },
   {
    "duration": 62,
    "start_time": "2024-11-08T23:46:30.575Z"
   },
   {
    "duration": 309,
    "start_time": "2024-11-08T23:46:30.639Z"
   },
   {
    "duration": 19,
    "start_time": "2024-11-08T23:46:30.950Z"
   },
   {
    "duration": 64,
    "start_time": "2024-11-08T23:46:30.970Z"
   },
   {
    "duration": 6,
    "start_time": "2024-11-08T23:46:31.036Z"
   },
   {
    "duration": 84,
    "start_time": "2024-11-08T23:46:31.044Z"
   },
   {
    "duration": 5,
    "start_time": "2024-11-08T23:46:31.129Z"
   },
   {
    "duration": 10,
    "start_time": "2024-11-08T23:46:31.135Z"
   },
   {
    "duration": 7,
    "start_time": "2024-11-08T23:46:31.149Z"
   },
   {
    "duration": 56,
    "start_time": "2024-11-08T23:46:31.157Z"
   },
   {
    "duration": 41,
    "start_time": "2024-11-08T23:46:31.214Z"
   },
   {
    "duration": 24,
    "start_time": "2024-11-08T23:46:31.257Z"
   },
   {
    "duration": 21,
    "start_time": "2024-11-08T23:46:31.283Z"
   },
   {
    "duration": 16,
    "start_time": "2024-11-08T23:46:31.305Z"
   },
   {
    "duration": 20,
    "start_time": "2024-11-08T23:46:31.322Z"
   },
   {
    "duration": 31,
    "start_time": "2024-11-08T23:46:31.343Z"
   },
   {
    "duration": 83,
    "start_time": "2024-11-08T23:46:31.375Z"
   },
   {
    "duration": 20,
    "start_time": "2024-11-08T23:46:31.459Z"
   },
   {
    "duration": 27,
    "start_time": "2024-11-08T23:46:31.481Z"
   },
   {
    "duration": 26,
    "start_time": "2024-11-08T23:46:31.509Z"
   },
   {
    "duration": 14,
    "start_time": "2024-11-08T23:46:31.537Z"
   },
   {
    "duration": 2729,
    "start_time": "2024-11-08T23:46:31.553Z"
   },
   {
    "duration": 46,
    "start_time": "2024-11-08T23:46:34.283Z"
   },
   {
    "duration": 143,
    "start_time": "2024-11-08T23:46:34.332Z"
   },
   {
    "duration": 75,
    "start_time": "2024-11-08T23:46:34.476Z"
   },
   {
    "duration": 11058,
    "start_time": "2024-11-08T23:46:34.553Z"
   },
   {
    "duration": 4073,
    "start_time": "2024-11-08T23:46:45.613Z"
   },
   {
    "duration": 53,
    "start_time": "2024-11-08T23:46:49.687Z"
   },
   {
    "duration": 466,
    "start_time": "2024-11-08T23:46:49.742Z"
   },
   {
    "duration": 504,
    "start_time": "2024-11-08T23:46:50.211Z"
   },
   {
    "duration": 97,
    "start_time": "2024-11-08T23:46:50.716Z"
   },
   {
    "duration": 5,
    "start_time": "2024-11-08T23:46:50.814Z"
   },
   {
    "duration": 48,
    "start_time": "2024-11-08T23:46:50.820Z"
   },
   {
    "duration": 8,
    "start_time": "2024-11-08T23:46:50.870Z"
   },
   {
    "duration": 2,
    "start_time": "2024-11-08T23:46:50.880Z"
   },
   {
    "duration": 5902,
    "start_time": "2024-11-08T23:46:50.883Z"
   },
   {
    "duration": 7529,
    "start_time": "2024-11-08T23:46:56.786Z"
   },
   {
    "duration": 5803,
    "start_time": "2024-11-08T23:47:04.316Z"
   },
   {
    "duration": 4438,
    "start_time": "2024-11-08T23:47:10.120Z"
   },
   {
    "duration": 870,
    "start_time": "2024-11-08T23:47:14.559Z"
   },
   {
    "duration": 91,
    "start_time": "2024-11-08T23:47:15.430Z"
   },
   {
    "duration": 5489,
    "start_time": "2024-11-08T23:47:15.523Z"
   },
   {
    "duration": 1998,
    "start_time": "2024-11-08T23:47:21.014Z"
   },
   {
    "duration": 65,
    "start_time": "2024-11-08T23:47:23.014Z"
   },
   {
    "duration": 351,
    "start_time": "2024-11-08T23:47:23.080Z"
   },
   {
    "duration": 3768,
    "start_time": "2024-11-08T23:49:42.951Z"
   },
   {
    "duration": 870,
    "start_time": "2024-11-08T23:49:46.721Z"
   },
   {
    "duration": 581,
    "start_time": "2024-11-08T23:49:47.593Z"
   },
   {
    "duration": 9,
    "start_time": "2024-11-08T23:49:48.176Z"
   },
   {
    "duration": 62,
    "start_time": "2024-11-08T23:49:48.186Z"
   },
   {
    "duration": 311,
    "start_time": "2024-11-08T23:49:48.249Z"
   },
   {
    "duration": 24,
    "start_time": "2024-11-08T23:49:48.562Z"
   },
   {
    "duration": 62,
    "start_time": "2024-11-08T23:49:48.587Z"
   },
   {
    "duration": 7,
    "start_time": "2024-11-08T23:49:48.651Z"
   },
   {
    "duration": 89,
    "start_time": "2024-11-08T23:49:48.660Z"
   },
   {
    "duration": 7,
    "start_time": "2024-11-08T23:49:48.751Z"
   },
   {
    "duration": 5,
    "start_time": "2024-11-08T23:49:48.760Z"
   },
   {
    "duration": 17,
    "start_time": "2024-11-08T23:49:48.766Z"
   },
   {
    "duration": 45,
    "start_time": "2024-11-08T23:49:48.784Z"
   },
   {
    "duration": 30,
    "start_time": "2024-11-08T23:49:48.830Z"
   },
   {
    "duration": 16,
    "start_time": "2024-11-08T23:49:48.862Z"
   },
   {
    "duration": 32,
    "start_time": "2024-11-08T23:49:48.880Z"
   },
   {
    "duration": 15,
    "start_time": "2024-11-08T23:49:48.913Z"
   },
   {
    "duration": 14,
    "start_time": "2024-11-08T23:49:48.930Z"
   },
   {
    "duration": 28,
    "start_time": "2024-11-08T23:49:48.945Z"
   },
   {
    "duration": 78,
    "start_time": "2024-11-08T23:49:48.974Z"
   },
   {
    "duration": 21,
    "start_time": "2024-11-08T23:49:49.054Z"
   },
   {
    "duration": 18,
    "start_time": "2024-11-08T23:49:49.076Z"
   },
   {
    "duration": 43,
    "start_time": "2024-11-08T23:49:49.095Z"
   },
   {
    "duration": 16,
    "start_time": "2024-11-08T23:49:49.140Z"
   },
   {
    "duration": 2833,
    "start_time": "2024-11-08T23:49:49.157Z"
   },
   {
    "duration": 38,
    "start_time": "2024-11-08T23:49:51.991Z"
   },
   {
    "duration": 151,
    "start_time": "2024-11-08T23:49:52.032Z"
   },
   {
    "duration": 77,
    "start_time": "2024-11-08T23:49:52.184Z"
   },
   {
    "duration": 10960,
    "start_time": "2024-11-08T23:49:52.262Z"
   },
   {
    "duration": 4082,
    "start_time": "2024-11-08T23:50:03.224Z"
   },
   {
    "duration": 39,
    "start_time": "2024-11-08T23:50:07.307Z"
   },
   {
    "duration": 469,
    "start_time": "2024-11-08T23:50:07.348Z"
   },
   {
    "duration": 402,
    "start_time": "2024-11-08T23:50:07.818Z"
   },
   {
    "duration": 97,
    "start_time": "2024-11-08T23:50:08.221Z"
   },
   {
    "duration": 98,
    "start_time": "2024-11-08T23:50:08.319Z"
   },
   {
    "duration": 45,
    "start_time": "2024-11-08T23:50:08.418Z"
   },
   {
    "duration": 9,
    "start_time": "2024-11-08T23:50:08.464Z"
   },
   {
    "duration": 6,
    "start_time": "2024-11-08T23:50:08.474Z"
   },
   {
    "duration": 22315,
    "start_time": "2024-11-08T23:50:08.481Z"
   },
   {
    "duration": 37468,
    "start_time": "2024-11-08T23:50:30.798Z"
   },
   {
    "duration": 24785,
    "start_time": "2024-11-08T23:51:08.267Z"
   },
   {
    "duration": 18370,
    "start_time": "2024-11-08T23:51:33.053Z"
   },
   {
    "duration": 1549,
    "start_time": "2024-11-08T23:51:51.424Z"
   },
   {
    "duration": 88,
    "start_time": "2024-11-08T23:51:52.974Z"
   },
   {
    "duration": 11850,
    "start_time": "2024-11-08T23:51:53.063Z"
   },
   {
    "duration": 2306,
    "start_time": "2024-11-08T23:52:04.914Z"
   },
   {
    "duration": 179,
    "start_time": "2024-11-08T23:52:07.222Z"
   },
   {
    "duration": 418,
    "start_time": "2024-11-08T23:52:07.403Z"
   },
   {
    "duration": 22,
    "start_time": "2024-11-08T23:58:28.786Z"
   },
   {
    "duration": 123,
    "start_time": "2024-11-08T23:58:29.775Z"
   },
   {
    "duration": 491,
    "start_time": "2024-11-08T23:58:33.121Z"
   },
   {
    "duration": 14177,
    "start_time": "2024-11-09T00:02:37.544Z"
   },
   {
    "duration": 3417,
    "start_time": "2024-11-09T00:02:51.722Z"
   },
   {
    "duration": 124,
    "start_time": "2024-11-09T00:03:04.759Z"
   },
   {
    "duration": 418,
    "start_time": "2024-11-09T00:03:05.906Z"
   },
   {
    "duration": 177,
    "start_time": "2024-11-09T00:07:11.990Z"
   },
   {
    "duration": 2,
    "start_time": "2024-11-09T00:12:07.506Z"
   },
   {
    "duration": 89,
    "start_time": "2024-11-09T00:12:12.981Z"
   },
   {
    "duration": 88,
    "start_time": "2024-11-09T00:12:29.684Z"
   },
   {
    "duration": 80,
    "start_time": "2024-11-09T00:15:11.583Z"
   },
   {
    "duration": 9389,
    "start_time": "2024-11-09T00:15:35.630Z"
   },
   {
    "duration": 9152,
    "start_time": "2024-11-09T00:16:26.765Z"
   },
   {
    "duration": 3849,
    "start_time": "2024-11-09T00:16:45.178Z"
   },
   {
    "duration": 872,
    "start_time": "2024-11-09T00:16:49.029Z"
   },
   {
    "duration": 569,
    "start_time": "2024-11-09T00:16:49.903Z"
   },
   {
    "duration": 8,
    "start_time": "2024-11-09T00:16:50.474Z"
   },
   {
    "duration": 60,
    "start_time": "2024-11-09T00:16:50.483Z"
   },
   {
    "duration": 315,
    "start_time": "2024-11-09T00:16:50.544Z"
   },
   {
    "duration": 22,
    "start_time": "2024-11-09T00:16:50.861Z"
   },
   {
    "duration": 62,
    "start_time": "2024-11-09T00:16:50.885Z"
   },
   {
    "duration": 7,
    "start_time": "2024-11-09T00:16:50.948Z"
   },
   {
    "duration": 80,
    "start_time": "2024-11-09T00:16:50.957Z"
   },
   {
    "duration": 5,
    "start_time": "2024-11-09T00:16:51.038Z"
   },
   {
    "duration": 7,
    "start_time": "2024-11-09T00:16:51.044Z"
   },
   {
    "duration": 14,
    "start_time": "2024-11-09T00:16:51.052Z"
   },
   {
    "duration": 48,
    "start_time": "2024-11-09T00:16:51.067Z"
   },
   {
    "duration": 32,
    "start_time": "2024-11-09T00:16:51.116Z"
   },
   {
    "duration": 17,
    "start_time": "2024-11-09T00:16:51.149Z"
   },
   {
    "duration": 16,
    "start_time": "2024-11-09T00:16:51.167Z"
   },
   {
    "duration": 30,
    "start_time": "2024-11-09T00:16:51.184Z"
   },
   {
    "duration": 13,
    "start_time": "2024-11-09T00:16:51.215Z"
   },
   {
    "duration": 26,
    "start_time": "2024-11-09T00:16:51.229Z"
   },
   {
    "duration": 76,
    "start_time": "2024-11-09T00:16:51.256Z"
   },
   {
    "duration": 21,
    "start_time": "2024-11-09T00:16:51.333Z"
   },
   {
    "duration": 16,
    "start_time": "2024-11-09T00:16:51.355Z"
   },
   {
    "duration": 40,
    "start_time": "2024-11-09T00:16:51.372Z"
   },
   {
    "duration": 15,
    "start_time": "2024-11-09T00:16:51.413Z"
   },
   {
    "duration": 2733,
    "start_time": "2024-11-09T00:16:51.429Z"
   },
   {
    "duration": 31,
    "start_time": "2024-11-09T00:16:54.164Z"
   },
   {
    "duration": 157,
    "start_time": "2024-11-09T00:16:54.198Z"
   },
   {
    "duration": 95,
    "start_time": "2024-11-09T00:16:54.356Z"
   },
   {
    "duration": 10993,
    "start_time": "2024-11-09T00:16:54.452Z"
   },
   {
    "duration": 4020,
    "start_time": "2024-11-09T00:17:05.446Z"
   },
   {
    "duration": 35,
    "start_time": "2024-11-09T00:17:09.467Z"
   },
   {
    "duration": 464,
    "start_time": "2024-11-09T00:17:09.511Z"
   },
   {
    "duration": 438,
    "start_time": "2024-11-09T00:17:09.977Z"
   },
   {
    "duration": 96,
    "start_time": "2024-11-09T00:17:10.416Z"
   },
   {
    "duration": 5,
    "start_time": "2024-11-09T00:17:10.514Z"
   },
   {
    "duration": 54,
    "start_time": "2024-11-09T00:17:10.520Z"
   },
   {
    "duration": 9,
    "start_time": "2024-11-09T00:17:10.575Z"
   },
   {
    "duration": 10,
    "start_time": "2024-11-09T00:17:10.585Z"
   },
   {
    "duration": 5950,
    "start_time": "2024-11-09T00:17:10.596Z"
   },
   {
    "duration": 106,
    "start_time": "2024-11-09T00:17:16.547Z"
   },
   {
    "duration": 0,
    "start_time": "2024-11-09T00:17:16.655Z"
   },
   {
    "duration": 0,
    "start_time": "2024-11-09T00:17:16.656Z"
   },
   {
    "duration": 0,
    "start_time": "2024-11-09T00:17:16.657Z"
   },
   {
    "duration": 0,
    "start_time": "2024-11-09T00:17:16.658Z"
   },
   {
    "duration": 0,
    "start_time": "2024-11-09T00:17:16.660Z"
   },
   {
    "duration": 0,
    "start_time": "2024-11-09T00:17:16.661Z"
   },
   {
    "duration": 0,
    "start_time": "2024-11-09T00:17:16.662Z"
   },
   {
    "duration": 7,
    "start_time": "2024-11-09T00:17:43.457Z"
   },
   {
    "duration": 9,
    "start_time": "2024-11-09T00:17:43.907Z"
   },
   {
    "duration": 2,
    "start_time": "2024-11-09T00:17:48.643Z"
   },
   {
    "duration": 5819,
    "start_time": "2024-11-09T00:17:48.731Z"
   },
   {
    "duration": 8165,
    "start_time": "2024-11-09T00:17:54.553Z"
   },
   {
    "duration": 5960,
    "start_time": "2024-11-09T00:18:02.720Z"
   },
   {
    "duration": 4500,
    "start_time": "2024-11-09T00:18:08.682Z"
   },
   {
    "duration": 922,
    "start_time": "2024-11-09T00:18:13.183Z"
   },
   {
    "duration": 3890,
    "start_time": "2024-11-09T00:22:04.459Z"
   },
   {
    "duration": 837,
    "start_time": "2024-11-09T00:22:08.351Z"
   },
   {
    "duration": 591,
    "start_time": "2024-11-09T00:22:09.189Z"
   },
   {
    "duration": 8,
    "start_time": "2024-11-09T00:22:09.782Z"
   },
   {
    "duration": 70,
    "start_time": "2024-11-09T00:22:09.791Z"
   },
   {
    "duration": 326,
    "start_time": "2024-11-09T00:22:09.862Z"
   },
   {
    "duration": 26,
    "start_time": "2024-11-09T00:22:10.190Z"
   },
   {
    "duration": 64,
    "start_time": "2024-11-09T00:22:10.217Z"
   },
   {
    "duration": 6,
    "start_time": "2024-11-09T00:22:10.282Z"
   },
   {
    "duration": 76,
    "start_time": "2024-11-09T00:22:10.291Z"
   },
   {
    "duration": 4,
    "start_time": "2024-11-09T00:22:10.368Z"
   },
   {
    "duration": 23,
    "start_time": "2024-11-09T00:22:10.374Z"
   },
   {
    "duration": 13,
    "start_time": "2024-11-09T00:22:10.398Z"
   },
   {
    "duration": 54,
    "start_time": "2024-11-09T00:22:10.412Z"
   },
   {
    "duration": 30,
    "start_time": "2024-11-09T00:22:10.468Z"
   },
   {
    "duration": 21,
    "start_time": "2024-11-09T00:22:10.499Z"
   },
   {
    "duration": 25,
    "start_time": "2024-11-09T00:22:10.522Z"
   },
   {
    "duration": 26,
    "start_time": "2024-11-09T00:22:10.549Z"
   },
   {
    "duration": 30,
    "start_time": "2024-11-09T00:22:10.576Z"
   },
   {
    "duration": 43,
    "start_time": "2024-11-09T00:22:10.608Z"
   },
   {
    "duration": 75,
    "start_time": "2024-11-09T00:22:10.652Z"
   },
   {
    "duration": 22,
    "start_time": "2024-11-09T00:22:10.728Z"
   },
   {
    "duration": 25,
    "start_time": "2024-11-09T00:22:10.751Z"
   },
   {
    "duration": 36,
    "start_time": "2024-11-09T00:22:10.778Z"
   },
   {
    "duration": 28,
    "start_time": "2024-11-09T00:22:10.815Z"
   },
   {
    "duration": 2769,
    "start_time": "2024-11-09T00:22:10.844Z"
   },
   {
    "duration": 32,
    "start_time": "2024-11-09T00:22:13.615Z"
   },
   {
    "duration": 152,
    "start_time": "2024-11-09T00:22:13.651Z"
   },
   {
    "duration": 79,
    "start_time": "2024-11-09T00:22:13.805Z"
   },
   {
    "duration": 11077,
    "start_time": "2024-11-09T00:22:13.886Z"
   },
   {
    "duration": 4017,
    "start_time": "2024-11-09T00:22:24.965Z"
   },
   {
    "duration": 42,
    "start_time": "2024-11-09T00:22:28.984Z"
   },
   {
    "duration": 472,
    "start_time": "2024-11-09T00:22:29.027Z"
   },
   {
    "duration": 413,
    "start_time": "2024-11-09T00:22:29.500Z"
   },
   {
    "duration": 10,
    "start_time": "2024-11-09T00:22:29.914Z"
   },
   {
    "duration": 6,
    "start_time": "2024-11-09T00:22:30.013Z"
   },
   {
    "duration": 57,
    "start_time": "2024-11-09T00:22:30.020Z"
   },
   {
    "duration": 9,
    "start_time": "2024-11-09T00:22:30.079Z"
   },
   {
    "duration": 26,
    "start_time": "2024-11-09T00:22:30.090Z"
   },
   {
    "duration": 5904,
    "start_time": "2024-11-09T00:22:30.117Z"
   },
   {
    "duration": 7769,
    "start_time": "2024-11-09T00:22:36.023Z"
   },
   {
    "duration": 5834,
    "start_time": "2024-11-09T00:22:43.793Z"
   },
   {
    "duration": 4589,
    "start_time": "2024-11-09T00:22:49.629Z"
   },
   {
    "duration": 865,
    "start_time": "2024-11-09T00:22:54.219Z"
   },
   {
    "duration": 107,
    "start_time": "2024-11-09T00:22:55.085Z"
   },
   {
    "duration": 4076,
    "start_time": "2024-11-09T00:26:05.860Z"
   },
   {
    "duration": 835,
    "start_time": "2024-11-09T00:26:09.938Z"
   },
   {
    "duration": 603,
    "start_time": "2024-11-09T00:26:10.774Z"
   },
   {
    "duration": 13,
    "start_time": "2024-11-09T00:26:11.379Z"
   },
   {
    "duration": 68,
    "start_time": "2024-11-09T00:26:11.394Z"
   },
   {
    "duration": 319,
    "start_time": "2024-11-09T00:26:11.463Z"
   },
   {
    "duration": 20,
    "start_time": "2024-11-09T00:26:11.783Z"
   },
   {
    "duration": 47,
    "start_time": "2024-11-09T00:26:11.812Z"
   },
   {
    "duration": 6,
    "start_time": "2024-11-09T00:26:11.861Z"
   },
   {
    "duration": 93,
    "start_time": "2024-11-09T00:26:11.869Z"
   },
   {
    "duration": 5,
    "start_time": "2024-11-09T00:26:11.963Z"
   },
   {
    "duration": 5,
    "start_time": "2024-11-09T00:26:11.969Z"
   },
   {
    "duration": 5,
    "start_time": "2024-11-09T00:26:11.975Z"
   },
   {
    "duration": 54,
    "start_time": "2024-11-09T00:26:11.982Z"
   },
   {
    "duration": 29,
    "start_time": "2024-11-09T00:26:12.038Z"
   },
   {
    "duration": 16,
    "start_time": "2024-11-09T00:26:12.069Z"
   },
   {
    "duration": 31,
    "start_time": "2024-11-09T00:26:12.086Z"
   },
   {
    "duration": 16,
    "start_time": "2024-11-09T00:26:12.119Z"
   },
   {
    "duration": 13,
    "start_time": "2024-11-09T00:26:12.137Z"
   },
   {
    "duration": 27,
    "start_time": "2024-11-09T00:26:12.151Z"
   },
   {
    "duration": 85,
    "start_time": "2024-11-09T00:26:12.179Z"
   },
   {
    "duration": 20,
    "start_time": "2024-11-09T00:26:12.266Z"
   },
   {
    "duration": 27,
    "start_time": "2024-11-09T00:26:12.287Z"
   },
   {
    "duration": 25,
    "start_time": "2024-11-09T00:26:12.316Z"
   },
   {
    "duration": 20,
    "start_time": "2024-11-09T00:26:12.342Z"
   },
   {
    "duration": 2865,
    "start_time": "2024-11-09T00:26:12.363Z"
   },
   {
    "duration": 32,
    "start_time": "2024-11-09T00:26:15.229Z"
   },
   {
    "duration": 164,
    "start_time": "2024-11-09T00:26:15.262Z"
   },
   {
    "duration": 75,
    "start_time": "2024-11-09T00:26:15.427Z"
   },
   {
    "duration": 11058,
    "start_time": "2024-11-09T00:26:15.503Z"
   },
   {
    "duration": 4045,
    "start_time": "2024-11-09T00:26:26.562Z"
   },
   {
    "duration": 35,
    "start_time": "2024-11-09T00:26:30.611Z"
   },
   {
    "duration": 451,
    "start_time": "2024-11-09T00:26:30.647Z"
   },
   {
    "duration": 515,
    "start_time": "2024-11-09T00:26:31.100Z"
   },
   {
    "duration": 8,
    "start_time": "2024-11-09T00:26:31.617Z"
   },
   {
    "duration": 89,
    "start_time": "2024-11-09T00:26:31.626Z"
   },
   {
    "duration": 45,
    "start_time": "2024-11-09T00:26:31.717Z"
   },
   {
    "duration": 8,
    "start_time": "2024-11-09T00:26:31.764Z"
   },
   {
    "duration": 2,
    "start_time": "2024-11-09T00:26:31.774Z"
   },
   {
    "duration": 5812,
    "start_time": "2024-11-09T00:26:31.777Z"
   },
   {
    "duration": 7604,
    "start_time": "2024-11-09T00:26:37.593Z"
   },
   {
    "duration": 5671,
    "start_time": "2024-11-09T00:26:45.198Z"
   },
   {
    "duration": 4566,
    "start_time": "2024-11-09T00:26:50.870Z"
   },
   {
    "duration": 885,
    "start_time": "2024-11-09T00:26:55.438Z"
   },
   {
    "duration": 88,
    "start_time": "2024-11-09T00:26:56.325Z"
   },
   {
    "duration": 3831,
    "start_time": "2024-11-09T00:29:00.132Z"
   },
   {
    "duration": 834,
    "start_time": "2024-11-09T00:29:03.964Z"
   },
   {
    "duration": 587,
    "start_time": "2024-11-09T00:29:04.799Z"
   },
   {
    "duration": 9,
    "start_time": "2024-11-09T00:29:05.388Z"
   },
   {
    "duration": 60,
    "start_time": "2024-11-09T00:29:05.398Z"
   },
   {
    "duration": 347,
    "start_time": "2024-11-09T00:29:05.459Z"
   },
   {
    "duration": 26,
    "start_time": "2024-11-09T00:29:05.807Z"
   },
   {
    "duration": 49,
    "start_time": "2024-11-09T00:29:05.835Z"
   },
   {
    "duration": 29,
    "start_time": "2024-11-09T00:29:05.885Z"
   },
   {
    "duration": 87,
    "start_time": "2024-11-09T00:29:05.917Z"
   },
   {
    "duration": 4,
    "start_time": "2024-11-09T00:29:06.012Z"
   },
   {
    "duration": 8,
    "start_time": "2024-11-09T00:29:06.017Z"
   },
   {
    "duration": 16,
    "start_time": "2024-11-09T00:29:06.026Z"
   },
   {
    "duration": 37,
    "start_time": "2024-11-09T00:29:06.043Z"
   },
   {
    "duration": 40,
    "start_time": "2024-11-09T00:29:06.081Z"
   },
   {
    "duration": 17,
    "start_time": "2024-11-09T00:29:06.122Z"
   },
   {
    "duration": 20,
    "start_time": "2024-11-09T00:29:06.140Z"
   },
   {
    "duration": 40,
    "start_time": "2024-11-09T00:29:06.161Z"
   },
   {
    "duration": 14,
    "start_time": "2024-11-09T00:29:06.202Z"
   },
   {
    "duration": 25,
    "start_time": "2024-11-09T00:29:06.217Z"
   },
   {
    "duration": 74,
    "start_time": "2024-11-09T00:29:06.244Z"
   },
   {
    "duration": 20,
    "start_time": "2024-11-09T00:29:06.320Z"
   },
   {
    "duration": 16,
    "start_time": "2024-11-09T00:29:06.342Z"
   },
   {
    "duration": 32,
    "start_time": "2024-11-09T00:29:06.359Z"
   },
   {
    "duration": 24,
    "start_time": "2024-11-09T00:29:06.392Z"
   },
   {
    "duration": 2901,
    "start_time": "2024-11-09T00:29:06.417Z"
   },
   {
    "duration": 32,
    "start_time": "2024-11-09T00:29:09.319Z"
   },
   {
    "duration": 146,
    "start_time": "2024-11-09T00:29:09.354Z"
   },
   {
    "duration": 81,
    "start_time": "2024-11-09T00:29:09.502Z"
   },
   {
    "duration": 10923,
    "start_time": "2024-11-09T00:29:09.584Z"
   },
   {
    "duration": 4001,
    "start_time": "2024-11-09T00:29:20.509Z"
   },
   {
    "duration": 36,
    "start_time": "2024-11-09T00:29:24.512Z"
   },
   {
    "duration": 448,
    "start_time": "2024-11-09T00:29:24.549Z"
   },
   {
    "duration": 516,
    "start_time": "2024-11-09T00:29:24.998Z"
   },
   {
    "duration": 97,
    "start_time": "2024-11-09T00:29:25.516Z"
   },
   {
    "duration": 5,
    "start_time": "2024-11-09T00:29:25.614Z"
   },
   {
    "duration": 47,
    "start_time": "2024-11-09T00:29:25.620Z"
   },
   {
    "duration": 9,
    "start_time": "2024-11-09T00:29:25.669Z"
   },
   {
    "duration": 5,
    "start_time": "2024-11-09T00:29:25.680Z"
   },
   {
    "duration": 5882,
    "start_time": "2024-11-09T00:29:25.711Z"
   },
   {
    "duration": 7723,
    "start_time": "2024-11-09T00:29:31.594Z"
   },
   {
    "duration": 5992,
    "start_time": "2024-11-09T00:29:39.319Z"
   },
   {
    "duration": 4505,
    "start_time": "2024-11-09T00:29:45.312Z"
   },
   {
    "duration": 891,
    "start_time": "2024-11-09T00:29:49.819Z"
   },
   {
    "duration": 86,
    "start_time": "2024-11-09T00:29:50.712Z"
   },
   {
    "duration": 3856,
    "start_time": "2024-11-09T00:33:22.472Z"
   },
   {
    "duration": 870,
    "start_time": "2024-11-09T00:33:26.330Z"
   },
   {
    "duration": 568,
    "start_time": "2024-11-09T00:33:27.203Z"
   },
   {
    "duration": 10,
    "start_time": "2024-11-09T00:33:27.772Z"
   },
   {
    "duration": 65,
    "start_time": "2024-11-09T00:33:27.784Z"
   },
   {
    "duration": 321,
    "start_time": "2024-11-09T00:33:27.851Z"
   },
   {
    "duration": 20,
    "start_time": "2024-11-09T00:33:28.174Z"
   },
   {
    "duration": 58,
    "start_time": "2024-11-09T00:33:28.196Z"
   },
   {
    "duration": 6,
    "start_time": "2024-11-09T00:33:28.257Z"
   },
   {
    "duration": 102,
    "start_time": "2024-11-09T00:33:28.265Z"
   },
   {
    "duration": 4,
    "start_time": "2024-11-09T00:33:28.369Z"
   },
   {
    "duration": 4,
    "start_time": "2024-11-09T00:33:28.375Z"
   },
   {
    "duration": 15,
    "start_time": "2024-11-09T00:33:28.380Z"
   },
   {
    "duration": 46,
    "start_time": "2024-11-09T00:33:28.396Z"
   },
   {
    "duration": 29,
    "start_time": "2024-11-09T00:33:28.444Z"
   },
   {
    "duration": 17,
    "start_time": "2024-11-09T00:33:28.474Z"
   },
   {
    "duration": 36,
    "start_time": "2024-11-09T00:33:28.492Z"
   },
   {
    "duration": 17,
    "start_time": "2024-11-09T00:33:28.529Z"
   },
   {
    "duration": 17,
    "start_time": "2024-11-09T00:33:28.548Z"
   },
   {
    "duration": 30,
    "start_time": "2024-11-09T00:33:28.566Z"
   },
   {
    "duration": 74,
    "start_time": "2024-11-09T00:33:28.598Z"
   },
   {
    "duration": 21,
    "start_time": "2024-11-09T00:33:28.674Z"
   },
   {
    "duration": 30,
    "start_time": "2024-11-09T00:33:28.696Z"
   },
   {
    "duration": 27,
    "start_time": "2024-11-09T00:33:28.727Z"
   },
   {
    "duration": 15,
    "start_time": "2024-11-09T00:33:28.756Z"
   },
   {
    "duration": 2917,
    "start_time": "2024-11-09T00:33:28.772Z"
   },
   {
    "duration": 34,
    "start_time": "2024-11-09T00:33:31.692Z"
   },
   {
    "duration": 141,
    "start_time": "2024-11-09T00:33:31.728Z"
   },
   {
    "duration": 83,
    "start_time": "2024-11-09T00:33:31.871Z"
   },
   {
    "duration": 11015,
    "start_time": "2024-11-09T00:33:31.955Z"
   },
   {
    "duration": 3943,
    "start_time": "2024-11-09T00:33:42.972Z"
   },
   {
    "duration": 33,
    "start_time": "2024-11-09T00:33:46.916Z"
   },
   {
    "duration": 489,
    "start_time": "2024-11-09T00:33:46.951Z"
   },
   {
    "duration": 473,
    "start_time": "2024-11-09T00:33:47.441Z"
   },
   {
    "duration": 98,
    "start_time": "2024-11-09T00:33:47.915Z"
   },
   {
    "duration": 5,
    "start_time": "2024-11-09T00:33:48.014Z"
   },
   {
    "duration": 49,
    "start_time": "2024-11-09T00:33:48.020Z"
   },
   {
    "duration": 9,
    "start_time": "2024-11-09T00:33:48.070Z"
   },
   {
    "duration": 2,
    "start_time": "2024-11-09T00:33:48.080Z"
   },
   {
    "duration": 5807,
    "start_time": "2024-11-09T00:33:48.084Z"
   },
   {
    "duration": 7630,
    "start_time": "2024-11-09T00:33:53.892Z"
   },
   {
    "duration": 6348,
    "start_time": "2024-11-09T00:34:01.523Z"
   },
   {
    "duration": 4597,
    "start_time": "2024-11-09T00:34:07.872Z"
   },
   {
    "duration": 848,
    "start_time": "2024-11-09T00:34:12.471Z"
   },
   {
    "duration": 95,
    "start_time": "2024-11-09T00:34:13.321Z"
   },
   {
    "duration": 4701,
    "start_time": "2024-11-09T00:34:13.418Z"
   },
   {
    "duration": 2094,
    "start_time": "2024-11-09T00:34:18.120Z"
   },
   {
    "duration": 106,
    "start_time": "2024-11-09T00:34:20.216Z"
   },
   {
    "duration": 292,
    "start_time": "2024-11-09T00:34:20.323Z"
   },
   {
    "duration": 4882,
    "start_time": "2024-11-09T18:41:33.786Z"
   },
   {
    "duration": 2839,
    "start_time": "2024-11-09T18:41:38.670Z"
   },
   {
    "duration": 604,
    "start_time": "2024-11-09T18:41:41.510Z"
   },
   {
    "duration": 11,
    "start_time": "2024-11-09T18:41:42.115Z"
   },
   {
    "duration": 65,
    "start_time": "2024-11-09T18:41:42.129Z"
   },
   {
    "duration": 330,
    "start_time": "2024-11-09T18:41:42.196Z"
   },
   {
    "duration": 30,
    "start_time": "2024-11-09T18:41:42.528Z"
   },
   {
    "duration": 46,
    "start_time": "2024-11-09T18:41:42.559Z"
   },
   {
    "duration": 9,
    "start_time": "2024-11-09T18:41:42.606Z"
   },
   {
    "duration": 94,
    "start_time": "2024-11-09T18:41:42.616Z"
   },
   {
    "duration": 6,
    "start_time": "2024-11-09T18:41:42.712Z"
   },
   {
    "duration": 5,
    "start_time": "2024-11-09T18:41:42.719Z"
   },
   {
    "duration": 4,
    "start_time": "2024-11-09T18:41:42.725Z"
   },
   {
    "duration": 58,
    "start_time": "2024-11-09T18:41:42.732Z"
   },
   {
    "duration": 30,
    "start_time": "2024-11-09T18:41:42.791Z"
   },
   {
    "duration": 16,
    "start_time": "2024-11-09T18:41:42.822Z"
   },
   {
    "duration": 28,
    "start_time": "2024-11-09T18:41:42.840Z"
   },
   {
    "duration": 17,
    "start_time": "2024-11-09T18:41:42.870Z"
   },
   {
    "duration": 14,
    "start_time": "2024-11-09T18:41:42.889Z"
   },
   {
    "duration": 32,
    "start_time": "2024-11-09T18:41:42.905Z"
   },
   {
    "duration": 76,
    "start_time": "2024-11-09T18:41:42.939Z"
   },
   {
    "duration": 22,
    "start_time": "2024-11-09T18:41:43.017Z"
   },
   {
    "duration": 30,
    "start_time": "2024-11-09T18:41:43.040Z"
   },
   {
    "duration": 24,
    "start_time": "2024-11-09T18:41:43.072Z"
   },
   {
    "duration": 16,
    "start_time": "2024-11-09T18:41:43.097Z"
   },
   {
    "duration": 2860,
    "start_time": "2024-11-09T18:41:43.114Z"
   },
   {
    "duration": 31,
    "start_time": "2024-11-09T18:41:45.975Z"
   },
   {
    "duration": 151,
    "start_time": "2024-11-09T18:41:46.008Z"
   },
   {
    "duration": 76,
    "start_time": "2024-11-09T18:41:46.160Z"
   },
   {
    "duration": 11343,
    "start_time": "2024-11-09T18:41:46.237Z"
   },
   {
    "duration": 4294,
    "start_time": "2024-11-09T18:41:57.582Z"
   },
   {
    "duration": 48,
    "start_time": "2024-11-09T18:42:01.877Z"
   },
   {
    "duration": 3412,
    "start_time": "2024-11-09T18:42:01.926Z"
   },
   {
    "duration": 0,
    "start_time": "2024-11-09T18:42:05.340Z"
   },
   {
    "duration": 0,
    "start_time": "2024-11-09T18:42:05.341Z"
   },
   {
    "duration": 0,
    "start_time": "2024-11-09T18:42:05.342Z"
   },
   {
    "duration": 0,
    "start_time": "2024-11-09T18:42:05.343Z"
   },
   {
    "duration": 0,
    "start_time": "2024-11-09T18:42:05.344Z"
   },
   {
    "duration": 0,
    "start_time": "2024-11-09T18:42:05.345Z"
   },
   {
    "duration": 0,
    "start_time": "2024-11-09T18:42:05.346Z"
   },
   {
    "duration": 0,
    "start_time": "2024-11-09T18:42:05.347Z"
   },
   {
    "duration": 0,
    "start_time": "2024-11-09T18:42:05.348Z"
   },
   {
    "duration": 0,
    "start_time": "2024-11-09T18:42:05.349Z"
   },
   {
    "duration": 0,
    "start_time": "2024-11-09T18:42:05.350Z"
   },
   {
    "duration": 1,
    "start_time": "2024-11-09T18:42:05.350Z"
   },
   {
    "duration": 0,
    "start_time": "2024-11-09T18:42:05.352Z"
   },
   {
    "duration": 0,
    "start_time": "2024-11-09T18:42:05.353Z"
   },
   {
    "duration": 0,
    "start_time": "2024-11-09T18:42:05.354Z"
   },
   {
    "duration": 0,
    "start_time": "2024-11-09T18:42:05.355Z"
   },
   {
    "duration": 0,
    "start_time": "2024-11-09T18:42:05.356Z"
   },
   {
    "duration": 0,
    "start_time": "2024-11-09T18:42:05.357Z"
   },
   {
    "duration": 3,
    "start_time": "2024-11-09T19:02:13.918Z"
   },
   {
    "duration": 10,
    "start_time": "2024-11-09T19:02:15.410Z"
   },
   {
    "duration": 3890,
    "start_time": "2024-11-09T19:02:54.724Z"
   },
   {
    "duration": 862,
    "start_time": "2024-11-09T19:02:58.615Z"
   },
   {
    "duration": 595,
    "start_time": "2024-11-09T19:02:59.478Z"
   },
   {
    "duration": 10,
    "start_time": "2024-11-09T19:03:00.076Z"
   },
   {
    "duration": 68,
    "start_time": "2024-11-09T19:03:00.088Z"
   },
   {
    "duration": 341,
    "start_time": "2024-11-09T19:03:00.158Z"
   },
   {
    "duration": 22,
    "start_time": "2024-11-09T19:03:00.501Z"
   },
   {
    "duration": 60,
    "start_time": "2024-11-09T19:03:00.524Z"
   },
   {
    "duration": 9,
    "start_time": "2024-11-09T19:03:00.585Z"
   },
   {
    "duration": 92,
    "start_time": "2024-11-09T19:03:00.597Z"
   },
   {
    "duration": 7,
    "start_time": "2024-11-09T19:03:00.690Z"
   },
   {
    "duration": 68,
    "start_time": "2024-11-09T19:03:00.698Z"
   },
   {
    "duration": 14,
    "start_time": "2024-11-09T19:03:00.767Z"
   },
   {
    "duration": 56,
    "start_time": "2024-11-09T19:03:00.783Z"
   },
   {
    "duration": 29,
    "start_time": "2024-11-09T19:03:00.841Z"
   },
   {
    "duration": 18,
    "start_time": "2024-11-09T19:03:00.872Z"
   },
   {
    "duration": 18,
    "start_time": "2024-11-09T19:03:00.891Z"
   },
   {
    "duration": 16,
    "start_time": "2024-11-09T19:03:00.910Z"
   },
   {
    "duration": 30,
    "start_time": "2024-11-09T19:03:00.927Z"
   },
   {
    "duration": 28,
    "start_time": "2024-11-09T19:03:00.958Z"
   },
   {
    "duration": 87,
    "start_time": "2024-11-09T19:03:00.988Z"
   },
   {
    "duration": 24,
    "start_time": "2024-11-09T19:03:01.077Z"
   },
   {
    "duration": 21,
    "start_time": "2024-11-09T19:03:01.102Z"
   },
   {
    "duration": 41,
    "start_time": "2024-11-09T19:03:01.124Z"
   },
   {
    "duration": 26,
    "start_time": "2024-11-09T19:03:01.167Z"
   },
   {
    "duration": 2861,
    "start_time": "2024-11-09T19:03:01.194Z"
   },
   {
    "duration": 32,
    "start_time": "2024-11-09T19:03:04.057Z"
   },
   {
    "duration": 154,
    "start_time": "2024-11-09T19:03:04.092Z"
   },
   {
    "duration": 90,
    "start_time": "2024-11-09T19:03:04.248Z"
   },
   {
    "duration": 11452,
    "start_time": "2024-11-09T19:03:04.339Z"
   },
   {
    "duration": 4180,
    "start_time": "2024-11-09T19:03:15.793Z"
   },
   {
    "duration": 39,
    "start_time": "2024-11-09T19:03:19.975Z"
   },
   {
    "duration": 3,
    "start_time": "2024-11-09T19:03:20.015Z"
   },
   {
    "duration": 123,
    "start_time": "2024-11-09T19:03:20.019Z"
   },
   {
    "duration": 0,
    "start_time": "2024-11-09T19:03:20.143Z"
   },
   {
    "duration": 0,
    "start_time": "2024-11-09T19:03:20.144Z"
   },
   {
    "duration": 0,
    "start_time": "2024-11-09T19:03:20.145Z"
   },
   {
    "duration": 0,
    "start_time": "2024-11-09T19:03:20.146Z"
   },
   {
    "duration": 0,
    "start_time": "2024-11-09T19:03:20.146Z"
   },
   {
    "duration": 0,
    "start_time": "2024-11-09T19:03:20.147Z"
   },
   {
    "duration": 0,
    "start_time": "2024-11-09T19:03:20.157Z"
   },
   {
    "duration": 0,
    "start_time": "2024-11-09T19:03:20.158Z"
   },
   {
    "duration": 0,
    "start_time": "2024-11-09T19:03:20.158Z"
   },
   {
    "duration": 0,
    "start_time": "2024-11-09T19:03:20.159Z"
   },
   {
    "duration": 0,
    "start_time": "2024-11-09T19:03:20.160Z"
   },
   {
    "duration": 0,
    "start_time": "2024-11-09T19:03:20.161Z"
   },
   {
    "duration": 0,
    "start_time": "2024-11-09T19:03:20.162Z"
   },
   {
    "duration": 0,
    "start_time": "2024-11-09T19:03:20.162Z"
   },
   {
    "duration": 0,
    "start_time": "2024-11-09T19:03:20.163Z"
   },
   {
    "duration": 0,
    "start_time": "2024-11-09T19:03:20.164Z"
   },
   {
    "duration": 0,
    "start_time": "2024-11-09T19:03:20.165Z"
   },
   {
    "duration": 0,
    "start_time": "2024-11-09T19:03:20.166Z"
   },
   {
    "duration": 0,
    "start_time": "2024-11-09T19:03:20.166Z"
   },
   {
    "duration": 0,
    "start_time": "2024-11-09T19:03:20.167Z"
   },
   {
    "duration": 0,
    "start_time": "2024-11-09T19:03:20.168Z"
   },
   {
    "duration": 4076,
    "start_time": "2024-11-09T19:05:16.936Z"
   },
   {
    "duration": 883,
    "start_time": "2024-11-09T19:05:21.014Z"
   },
   {
    "duration": 629,
    "start_time": "2024-11-09T19:05:21.899Z"
   },
   {
    "duration": 9,
    "start_time": "2024-11-09T19:05:22.529Z"
   },
   {
    "duration": 66,
    "start_time": "2024-11-09T19:05:22.539Z"
   },
   {
    "duration": 327,
    "start_time": "2024-11-09T19:05:22.607Z"
   },
   {
    "duration": 29,
    "start_time": "2024-11-09T19:05:22.936Z"
   },
   {
    "duration": 50,
    "start_time": "2024-11-09T19:05:22.967Z"
   },
   {
    "duration": 8,
    "start_time": "2024-11-09T19:05:23.018Z"
   },
   {
    "duration": 105,
    "start_time": "2024-11-09T19:05:23.029Z"
   },
   {
    "duration": 5,
    "start_time": "2024-11-09T19:05:23.136Z"
   },
   {
    "duration": 16,
    "start_time": "2024-11-09T19:05:23.142Z"
   },
   {
    "duration": 6,
    "start_time": "2024-11-09T19:05:23.159Z"
   },
   {
    "duration": 37,
    "start_time": "2024-11-09T19:05:23.167Z"
   },
   {
    "duration": 30,
    "start_time": "2024-11-09T19:05:23.205Z"
   },
   {
    "duration": 43,
    "start_time": "2024-11-09T19:05:23.236Z"
   },
   {
    "duration": 17,
    "start_time": "2024-11-09T19:05:23.280Z"
   },
   {
    "duration": 23,
    "start_time": "2024-11-09T19:05:23.298Z"
   },
   {
    "duration": 14,
    "start_time": "2024-11-09T19:05:23.323Z"
   },
   {
    "duration": 43,
    "start_time": "2024-11-09T19:05:23.339Z"
   },
   {
    "duration": 78,
    "start_time": "2024-11-09T19:05:23.384Z"
   },
   {
    "duration": 25,
    "start_time": "2024-11-09T19:05:23.464Z"
   },
   {
    "duration": 19,
    "start_time": "2024-11-09T19:05:23.491Z"
   },
   {
    "duration": 25,
    "start_time": "2024-11-09T19:05:23.511Z"
   },
   {
    "duration": 69,
    "start_time": "2024-11-09T19:05:23.537Z"
   },
   {
    "duration": 2927,
    "start_time": "2024-11-09T19:05:23.607Z"
   },
   {
    "duration": 37,
    "start_time": "2024-11-09T19:05:26.535Z"
   },
   {
    "duration": 157,
    "start_time": "2024-11-09T19:05:26.576Z"
   },
   {
    "duration": 80,
    "start_time": "2024-11-09T19:05:26.735Z"
   },
   {
    "duration": 11832,
    "start_time": "2024-11-09T19:05:26.816Z"
   },
   {
    "duration": 4221,
    "start_time": "2024-11-09T19:05:38.650Z"
   },
   {
    "duration": 38,
    "start_time": "2024-11-09T19:05:42.872Z"
   },
   {
    "duration": 3,
    "start_time": "2024-11-09T19:05:42.911Z"
   },
   {
    "duration": 4,
    "start_time": "2024-11-09T19:05:42.915Z"
   },
   {
    "duration": 126,
    "start_time": "2024-11-09T19:05:42.920Z"
   },
   {
    "duration": 0,
    "start_time": "2024-11-09T19:05:43.047Z"
   },
   {
    "duration": 0,
    "start_time": "2024-11-09T19:05:43.048Z"
   },
   {
    "duration": 0,
    "start_time": "2024-11-09T19:05:43.057Z"
   },
   {
    "duration": 0,
    "start_time": "2024-11-09T19:05:43.058Z"
   },
   {
    "duration": 0,
    "start_time": "2024-11-09T19:05:43.059Z"
   },
   {
    "duration": 0,
    "start_time": "2024-11-09T19:05:43.060Z"
   },
   {
    "duration": 0,
    "start_time": "2024-11-09T19:05:43.061Z"
   },
   {
    "duration": 0,
    "start_time": "2024-11-09T19:05:43.061Z"
   },
   {
    "duration": 0,
    "start_time": "2024-11-09T19:05:43.063Z"
   },
   {
    "duration": 0,
    "start_time": "2024-11-09T19:05:43.064Z"
   },
   {
    "duration": 0,
    "start_time": "2024-11-09T19:05:43.065Z"
   },
   {
    "duration": 0,
    "start_time": "2024-11-09T19:05:43.066Z"
   },
   {
    "duration": 0,
    "start_time": "2024-11-09T19:05:43.067Z"
   },
   {
    "duration": 0,
    "start_time": "2024-11-09T19:05:43.068Z"
   },
   {
    "duration": 0,
    "start_time": "2024-11-09T19:05:43.069Z"
   },
   {
    "duration": 0,
    "start_time": "2024-11-09T19:05:43.070Z"
   },
   {
    "duration": 0,
    "start_time": "2024-11-09T19:05:43.071Z"
   },
   {
    "duration": 1,
    "start_time": "2024-11-09T19:05:43.072Z"
   },
   {
    "duration": 0,
    "start_time": "2024-11-09T19:05:43.073Z"
   },
   {
    "duration": 0,
    "start_time": "2024-11-09T19:05:43.074Z"
   },
   {
    "duration": 3911,
    "start_time": "2024-11-09T19:07:23.301Z"
   },
   {
    "duration": 886,
    "start_time": "2024-11-09T19:07:27.213Z"
   },
   {
    "duration": 639,
    "start_time": "2024-11-09T19:07:28.100Z"
   },
   {
    "duration": 10,
    "start_time": "2024-11-09T19:07:28.741Z"
   },
   {
    "duration": 59,
    "start_time": "2024-11-09T19:07:28.759Z"
   },
   {
    "duration": 353,
    "start_time": "2024-11-09T19:07:28.819Z"
   },
   {
    "duration": 21,
    "start_time": "2024-11-09T19:07:29.173Z"
   },
   {
    "duration": 48,
    "start_time": "2024-11-09T19:07:29.195Z"
   },
   {
    "duration": 10,
    "start_time": "2024-11-09T19:07:29.256Z"
   },
   {
    "duration": 91,
    "start_time": "2024-11-09T19:07:29.267Z"
   },
   {
    "duration": 7,
    "start_time": "2024-11-09T19:07:29.360Z"
   },
   {
    "duration": 6,
    "start_time": "2024-11-09T19:07:29.369Z"
   },
   {
    "duration": 5,
    "start_time": "2024-11-09T19:07:29.376Z"
   },
   {
    "duration": 36,
    "start_time": "2024-11-09T19:07:29.384Z"
   },
   {
    "duration": 62,
    "start_time": "2024-11-09T19:07:29.421Z"
   },
   {
    "duration": 17,
    "start_time": "2024-11-09T19:07:29.484Z"
   },
   {
    "duration": 16,
    "start_time": "2024-11-09T19:07:29.502Z"
   },
   {
    "duration": 25,
    "start_time": "2024-11-09T19:07:29.520Z"
   },
   {
    "duration": 36,
    "start_time": "2024-11-09T19:07:29.547Z"
   },
   {
    "duration": 44,
    "start_time": "2024-11-09T19:07:29.584Z"
   },
   {
    "duration": 69,
    "start_time": "2024-11-09T19:07:29.630Z"
   },
   {
    "duration": 21,
    "start_time": "2024-11-09T19:07:29.701Z"
   },
   {
    "duration": 16,
    "start_time": "2024-11-09T19:07:29.724Z"
   },
   {
    "duration": 46,
    "start_time": "2024-11-09T19:07:29.741Z"
   },
   {
    "duration": 14,
    "start_time": "2024-11-09T19:07:29.788Z"
   },
   {
    "duration": 2990,
    "start_time": "2024-11-09T19:07:29.803Z"
   },
   {
    "duration": 32,
    "start_time": "2024-11-09T19:07:32.794Z"
   },
   {
    "duration": 157,
    "start_time": "2024-11-09T19:07:32.827Z"
   },
   {
    "duration": 86,
    "start_time": "2024-11-09T19:07:32.986Z"
   },
   {
    "duration": 11808,
    "start_time": "2024-11-09T19:07:33.074Z"
   },
   {
    "duration": 4219,
    "start_time": "2024-11-09T19:07:44.883Z"
   },
   {
    "duration": 39,
    "start_time": "2024-11-09T19:07:49.103Z"
   },
   {
    "duration": 14,
    "start_time": "2024-11-09T19:07:49.144Z"
   },
   {
    "duration": 4,
    "start_time": "2024-11-09T19:07:49.159Z"
   },
   {
    "duration": 4,
    "start_time": "2024-11-09T19:07:49.165Z"
   },
   {
    "duration": 5,
    "start_time": "2024-11-09T19:07:49.170Z"
   },
   {
    "duration": 4,
    "start_time": "2024-11-09T19:07:49.176Z"
   },
   {
    "duration": 101736,
    "start_time": "2024-11-09T19:07:49.181Z"
   },
   {
    "duration": 0,
    "start_time": "2024-11-09T19:09:30.919Z"
   },
   {
    "duration": 0,
    "start_time": "2024-11-09T19:09:30.920Z"
   },
   {
    "duration": 0,
    "start_time": "2024-11-09T19:09:30.921Z"
   },
   {
    "duration": 0,
    "start_time": "2024-11-09T19:09:30.922Z"
   },
   {
    "duration": 0,
    "start_time": "2024-11-09T19:09:30.923Z"
   },
   {
    "duration": 0,
    "start_time": "2024-11-09T19:09:30.924Z"
   },
   {
    "duration": 0,
    "start_time": "2024-11-09T19:09:30.925Z"
   },
   {
    "duration": 0,
    "start_time": "2024-11-09T19:09:30.926Z"
   },
   {
    "duration": 0,
    "start_time": "2024-11-09T19:09:30.927Z"
   },
   {
    "duration": 0,
    "start_time": "2024-11-09T19:09:30.928Z"
   },
   {
    "duration": 0,
    "start_time": "2024-11-09T19:09:30.929Z"
   },
   {
    "duration": 0,
    "start_time": "2024-11-09T19:09:30.930Z"
   },
   {
    "duration": 0,
    "start_time": "2024-11-09T19:09:30.930Z"
   },
   {
    "duration": 0,
    "start_time": "2024-11-09T19:09:30.931Z"
   },
   {
    "duration": 0,
    "start_time": "2024-11-09T19:09:30.932Z"
   },
   {
    "duration": 0,
    "start_time": "2024-11-09T19:09:30.933Z"
   },
   {
    "duration": 0,
    "start_time": "2024-11-09T19:09:30.934Z"
   },
   {
    "duration": 4097,
    "start_time": "2024-11-09T19:22:56.917Z"
   },
   {
    "duration": 852,
    "start_time": "2024-11-09T19:23:01.016Z"
   },
   {
    "duration": 613,
    "start_time": "2024-11-09T19:23:01.869Z"
   },
   {
    "duration": 9,
    "start_time": "2024-11-09T19:23:02.484Z"
   },
   {
    "duration": 139,
    "start_time": "2024-11-09T19:23:02.495Z"
   },
   {
    "duration": 330,
    "start_time": "2024-11-09T19:23:02.636Z"
   },
   {
    "duration": 21,
    "start_time": "2024-11-09T19:23:02.967Z"
   },
   {
    "duration": 74,
    "start_time": "2024-11-09T19:23:02.989Z"
   },
   {
    "duration": 7,
    "start_time": "2024-11-09T19:23:03.064Z"
   },
   {
    "duration": 85,
    "start_time": "2024-11-09T19:23:03.072Z"
   },
   {
    "duration": 6,
    "start_time": "2024-11-09T19:23:03.158Z"
   },
   {
    "duration": 5,
    "start_time": "2024-11-09T19:23:03.166Z"
   },
   {
    "duration": 16,
    "start_time": "2024-11-09T19:23:03.172Z"
   },
   {
    "duration": 42,
    "start_time": "2024-11-09T19:23:03.190Z"
   },
   {
    "duration": 44,
    "start_time": "2024-11-09T19:23:03.234Z"
   },
   {
    "duration": 18,
    "start_time": "2024-11-09T19:23:03.279Z"
   },
   {
    "duration": 21,
    "start_time": "2024-11-09T19:23:03.299Z"
   },
   {
    "duration": 18,
    "start_time": "2024-11-09T19:23:03.321Z"
   },
   {
    "duration": 25,
    "start_time": "2024-11-09T19:23:03.341Z"
   },
   {
    "duration": 27,
    "start_time": "2024-11-09T19:23:03.367Z"
   },
   {
    "duration": 73,
    "start_time": "2024-11-09T19:23:03.396Z"
   },
   {
    "duration": 21,
    "start_time": "2024-11-09T19:23:03.471Z"
   },
   {
    "duration": 17,
    "start_time": "2024-11-09T19:23:03.494Z"
   },
   {
    "duration": 27,
    "start_time": "2024-11-09T19:23:03.512Z"
   },
   {
    "duration": 28,
    "start_time": "2024-11-09T19:23:03.540Z"
   },
   {
    "duration": 2866,
    "start_time": "2024-11-09T19:23:03.570Z"
   },
   {
    "duration": 37,
    "start_time": "2024-11-09T19:23:06.437Z"
   },
   {
    "duration": 149,
    "start_time": "2024-11-09T19:23:06.475Z"
   },
   {
    "duration": 83,
    "start_time": "2024-11-09T19:23:06.625Z"
   },
   {
    "duration": 11301,
    "start_time": "2024-11-09T19:23:06.709Z"
   },
   {
    "duration": 4085,
    "start_time": "2024-11-09T19:23:18.012Z"
   },
   {
    "duration": 38,
    "start_time": "2024-11-09T19:23:22.098Z"
   },
   {
    "duration": 2860,
    "start_time": "2024-11-09T19:23:22.138Z"
   },
   {
    "duration": 0,
    "start_time": "2024-11-09T19:23:25.000Z"
   },
   {
    "duration": 0,
    "start_time": "2024-11-09T19:23:25.001Z"
   },
   {
    "duration": 1,
    "start_time": "2024-11-09T19:23:25.002Z"
   },
   {
    "duration": 0,
    "start_time": "2024-11-09T19:23:25.004Z"
   },
   {
    "duration": 0,
    "start_time": "2024-11-09T19:23:25.005Z"
   },
   {
    "duration": 0,
    "start_time": "2024-11-09T19:23:25.006Z"
   },
   {
    "duration": 0,
    "start_time": "2024-11-09T19:23:25.007Z"
   },
   {
    "duration": 0,
    "start_time": "2024-11-09T19:23:25.008Z"
   },
   {
    "duration": 0,
    "start_time": "2024-11-09T19:23:25.009Z"
   },
   {
    "duration": 0,
    "start_time": "2024-11-09T19:23:25.010Z"
   },
   {
    "duration": 0,
    "start_time": "2024-11-09T19:23:25.011Z"
   },
   {
    "duration": 0,
    "start_time": "2024-11-09T19:23:25.012Z"
   },
   {
    "duration": 0,
    "start_time": "2024-11-09T19:23:25.013Z"
   },
   {
    "duration": 0,
    "start_time": "2024-11-09T19:23:25.014Z"
   },
   {
    "duration": 0,
    "start_time": "2024-11-09T19:23:25.015Z"
   },
   {
    "duration": 0,
    "start_time": "2024-11-09T19:23:25.016Z"
   },
   {
    "duration": 0,
    "start_time": "2024-11-09T19:23:25.017Z"
   },
   {
    "duration": 0,
    "start_time": "2024-11-09T19:23:25.018Z"
   },
   {
    "duration": 0,
    "start_time": "2024-11-09T19:23:25.019Z"
   },
   {
    "duration": 0,
    "start_time": "2024-11-09T19:23:25.020Z"
   },
   {
    "duration": 0,
    "start_time": "2024-11-09T19:23:25.021Z"
   },
   {
    "duration": 3943,
    "start_time": "2024-11-09T19:24:08.370Z"
   },
   {
    "duration": 846,
    "start_time": "2024-11-09T19:24:12.314Z"
   },
   {
    "duration": 594,
    "start_time": "2024-11-09T19:24:13.161Z"
   },
   {
    "duration": 10,
    "start_time": "2024-11-09T19:24:13.757Z"
   },
   {
    "duration": 52,
    "start_time": "2024-11-09T19:24:13.769Z"
   },
   {
    "duration": 338,
    "start_time": "2024-11-09T19:24:13.822Z"
   },
   {
    "duration": 21,
    "start_time": "2024-11-09T19:24:14.162Z"
   },
   {
    "duration": 47,
    "start_time": "2024-11-09T19:24:14.184Z"
   },
   {
    "duration": 26,
    "start_time": "2024-11-09T19:24:14.232Z"
   },
   {
    "duration": 97,
    "start_time": "2024-11-09T19:24:14.260Z"
   },
   {
    "duration": 5,
    "start_time": "2024-11-09T19:24:14.359Z"
   },
   {
    "duration": 22,
    "start_time": "2024-11-09T19:24:14.365Z"
   },
   {
    "duration": 8,
    "start_time": "2024-11-09T19:24:14.388Z"
   },
   {
    "duration": 42,
    "start_time": "2024-11-09T19:24:14.399Z"
   },
   {
    "duration": 40,
    "start_time": "2024-11-09T19:24:14.442Z"
   },
   {
    "duration": 17,
    "start_time": "2024-11-09T19:24:14.484Z"
   },
   {
    "duration": 16,
    "start_time": "2024-11-09T19:24:14.502Z"
   },
   {
    "duration": 85,
    "start_time": "2024-11-09T19:24:14.519Z"
   },
   {
    "duration": 15,
    "start_time": "2024-11-09T19:24:14.605Z"
   },
   {
    "duration": 36,
    "start_time": "2024-11-09T19:24:14.621Z"
   },
   {
    "duration": 68,
    "start_time": "2024-11-09T19:24:14.658Z"
   },
   {
    "duration": 30,
    "start_time": "2024-11-09T19:24:14.728Z"
   },
   {
    "duration": 28,
    "start_time": "2024-11-09T19:24:14.760Z"
   },
   {
    "duration": 35,
    "start_time": "2024-11-09T19:24:14.789Z"
   },
   {
    "duration": 15,
    "start_time": "2024-11-09T19:24:14.825Z"
   },
   {
    "duration": 2843,
    "start_time": "2024-11-09T19:24:14.842Z"
   },
   {
    "duration": 31,
    "start_time": "2024-11-09T19:24:17.687Z"
   },
   {
    "duration": 154,
    "start_time": "2024-11-09T19:24:17.719Z"
   },
   {
    "duration": 90,
    "start_time": "2024-11-09T19:24:17.875Z"
   },
   {
    "duration": 11430,
    "start_time": "2024-11-09T19:24:17.966Z"
   },
   {
    "duration": 4081,
    "start_time": "2024-11-09T19:24:29.397Z"
   },
   {
    "duration": 36,
    "start_time": "2024-11-09T19:24:33.480Z"
   },
   {
    "duration": 53648,
    "start_time": "2024-11-09T19:24:33.517Z"
   },
   {
    "duration": 189,
    "start_time": "2024-11-09T19:25:27.257Z"
   },
   {
    "duration": 1,
    "start_time": "2024-11-09T19:25:27.456Z"
   },
   {
    "duration": 0,
    "start_time": "2024-11-09T19:25:27.458Z"
   },
   {
    "duration": 0,
    "start_time": "2024-11-09T19:25:27.460Z"
   },
   {
    "duration": 0,
    "start_time": "2024-11-09T19:25:27.461Z"
   },
   {
    "duration": 0,
    "start_time": "2024-11-09T19:25:27.462Z"
   },
   {
    "duration": 0,
    "start_time": "2024-11-09T19:25:27.463Z"
   },
   {
    "duration": 0,
    "start_time": "2024-11-09T19:25:27.465Z"
   },
   {
    "duration": 0,
    "start_time": "2024-11-09T19:25:27.465Z"
   },
   {
    "duration": 0,
    "start_time": "2024-11-09T19:25:27.467Z"
   },
   {
    "duration": 0,
    "start_time": "2024-11-09T19:25:27.468Z"
   },
   {
    "duration": 0,
    "start_time": "2024-11-09T19:25:27.469Z"
   },
   {
    "duration": 0,
    "start_time": "2024-11-09T19:25:27.470Z"
   },
   {
    "duration": 0,
    "start_time": "2024-11-09T19:25:27.471Z"
   },
   {
    "duration": 0,
    "start_time": "2024-11-09T19:25:27.473Z"
   },
   {
    "duration": 0,
    "start_time": "2024-11-09T19:25:27.474Z"
   },
   {
    "duration": 0,
    "start_time": "2024-11-09T19:25:27.476Z"
   },
   {
    "duration": 0,
    "start_time": "2024-11-09T19:25:27.477Z"
   },
   {
    "duration": 0,
    "start_time": "2024-11-09T19:25:27.479Z"
   },
   {
    "duration": 0,
    "start_time": "2024-11-09T19:25:27.480Z"
   },
   {
    "duration": 0,
    "start_time": "2024-11-09T19:25:27.481Z"
   },
   {
    "duration": 17,
    "start_time": "2024-11-09T19:31:31.462Z"
   },
   {
    "duration": 4176,
    "start_time": "2024-11-09T19:32:19.301Z"
   },
   {
    "duration": 870,
    "start_time": "2024-11-09T19:32:23.479Z"
   },
   {
    "duration": 633,
    "start_time": "2024-11-09T19:32:24.351Z"
   },
   {
    "duration": 11,
    "start_time": "2024-11-09T19:32:24.987Z"
   },
   {
    "duration": 67,
    "start_time": "2024-11-09T19:32:24.999Z"
   },
   {
    "duration": 381,
    "start_time": "2024-11-09T19:32:25.068Z"
   },
   {
    "duration": 23,
    "start_time": "2024-11-09T19:32:25.450Z"
   },
   {
    "duration": 51,
    "start_time": "2024-11-09T19:32:25.475Z"
   },
   {
    "duration": 7,
    "start_time": "2024-11-09T19:32:25.527Z"
   },
   {
    "duration": 76,
    "start_time": "2024-11-09T19:32:25.558Z"
   },
   {
    "duration": 5,
    "start_time": "2024-11-09T19:32:25.636Z"
   },
   {
    "duration": 73,
    "start_time": "2024-11-09T19:32:25.642Z"
   },
   {
    "duration": 7,
    "start_time": "2024-11-09T19:32:25.716Z"
   },
   {
    "duration": 35,
    "start_time": "2024-11-09T19:32:25.725Z"
   },
   {
    "duration": 30,
    "start_time": "2024-11-09T19:32:25.761Z"
   },
   {
    "duration": 17,
    "start_time": "2024-11-09T19:32:25.793Z"
   },
   {
    "duration": 34,
    "start_time": "2024-11-09T19:32:25.811Z"
   },
   {
    "duration": 17,
    "start_time": "2024-11-09T19:32:25.847Z"
   },
   {
    "duration": 19,
    "start_time": "2024-11-09T19:32:25.865Z"
   },
   {
    "duration": 28,
    "start_time": "2024-11-09T19:32:25.886Z"
   },
   {
    "duration": 80,
    "start_time": "2024-11-09T19:32:25.915Z"
   },
   {
    "duration": 28,
    "start_time": "2024-11-09T19:32:25.996Z"
   },
   {
    "duration": 41,
    "start_time": "2024-11-09T19:32:26.025Z"
   },
   {
    "duration": 34,
    "start_time": "2024-11-09T19:32:26.068Z"
   },
   {
    "duration": 18,
    "start_time": "2024-11-09T19:32:26.103Z"
   },
   {
    "duration": 2952,
    "start_time": "2024-11-09T19:32:26.122Z"
   },
   {
    "duration": 39,
    "start_time": "2024-11-09T19:32:29.076Z"
   },
   {
    "duration": 160,
    "start_time": "2024-11-09T19:32:29.119Z"
   },
   {
    "duration": 81,
    "start_time": "2024-11-09T19:32:29.280Z"
   },
   {
    "duration": 11718,
    "start_time": "2024-11-09T19:32:29.363Z"
   },
   {
    "duration": 4290,
    "start_time": "2024-11-09T19:32:41.082Z"
   },
   {
    "duration": 42,
    "start_time": "2024-11-09T19:32:45.373Z"
   },
   {
    "duration": 166894,
    "start_time": "2024-11-09T19:32:45.417Z"
   },
   {
    "duration": 171,
    "start_time": "2024-11-09T19:35:32.313Z"
   },
   {
    "duration": 68,
    "start_time": "2024-11-09T19:35:32.485Z"
   },
   {
    "duration": 9,
    "start_time": "2024-11-09T19:35:32.554Z"
   },
   {
    "duration": 0,
    "start_time": "2024-11-09T19:35:32.564Z"
   },
   {
    "duration": 0,
    "start_time": "2024-11-09T19:35:32.565Z"
   },
   {
    "duration": 0,
    "start_time": "2024-11-09T19:35:32.566Z"
   },
   {
    "duration": 0,
    "start_time": "2024-11-09T19:35:32.567Z"
   },
   {
    "duration": 0,
    "start_time": "2024-11-09T19:35:32.567Z"
   },
   {
    "duration": 0,
    "start_time": "2024-11-09T19:35:32.568Z"
   },
   {
    "duration": 0,
    "start_time": "2024-11-09T19:35:32.569Z"
   },
   {
    "duration": 0,
    "start_time": "2024-11-09T19:35:32.570Z"
   },
   {
    "duration": 0,
    "start_time": "2024-11-09T19:35:32.570Z"
   },
   {
    "duration": 0,
    "start_time": "2024-11-09T19:35:32.572Z"
   },
   {
    "duration": 0,
    "start_time": "2024-11-09T19:35:32.572Z"
   },
   {
    "duration": 0,
    "start_time": "2024-11-09T19:35:32.573Z"
   },
   {
    "duration": 0,
    "start_time": "2024-11-09T19:35:32.574Z"
   },
   {
    "duration": 58,
    "start_time": "2024-11-09T19:39:08.855Z"
   },
   {
    "duration": 104,
    "start_time": "2024-11-09T19:51:03.655Z"
   },
   {
    "duration": 8,
    "start_time": "2024-11-09T19:51:06.709Z"
   },
   {
    "duration": 3886,
    "start_time": "2024-11-09T19:53:27.299Z"
   },
   {
    "duration": 866,
    "start_time": "2024-11-09T19:53:31.187Z"
   },
   {
    "duration": 620,
    "start_time": "2024-11-09T19:53:32.057Z"
   },
   {
    "duration": 10,
    "start_time": "2024-11-09T19:53:32.679Z"
   },
   {
    "duration": 66,
    "start_time": "2024-11-09T19:53:32.691Z"
   },
   {
    "duration": 333,
    "start_time": "2024-11-09T19:53:32.759Z"
   },
   {
    "duration": 20,
    "start_time": "2024-11-09T19:53:33.094Z"
   },
   {
    "duration": 57,
    "start_time": "2024-11-09T19:53:33.116Z"
   },
   {
    "duration": 6,
    "start_time": "2024-11-09T19:53:33.175Z"
   },
   {
    "duration": 89,
    "start_time": "2024-11-09T19:53:33.182Z"
   },
   {
    "duration": 6,
    "start_time": "2024-11-09T19:53:33.273Z"
   },
   {
    "duration": 16,
    "start_time": "2024-11-09T19:53:33.280Z"
   },
   {
    "duration": 10,
    "start_time": "2024-11-09T19:53:33.298Z"
   },
   {
    "duration": 35,
    "start_time": "2024-11-09T19:53:33.310Z"
   },
   {
    "duration": 39,
    "start_time": "2024-11-09T19:53:33.347Z"
   },
   {
    "duration": 16,
    "start_time": "2024-11-09T19:53:33.388Z"
   },
   {
    "duration": 16,
    "start_time": "2024-11-09T19:53:33.405Z"
   },
   {
    "duration": 16,
    "start_time": "2024-11-09T19:53:33.422Z"
   },
   {
    "duration": 23,
    "start_time": "2024-11-09T19:53:33.457Z"
   },
   {
    "duration": 44,
    "start_time": "2024-11-09T19:53:33.481Z"
   },
   {
    "duration": 76,
    "start_time": "2024-11-09T19:53:33.526Z"
   },
   {
    "duration": 21,
    "start_time": "2024-11-09T19:53:33.604Z"
   },
   {
    "duration": 16,
    "start_time": "2024-11-09T19:53:33.626Z"
   },
   {
    "duration": 32,
    "start_time": "2024-11-09T19:53:33.657Z"
   },
   {
    "duration": 21,
    "start_time": "2024-11-09T19:53:33.691Z"
   },
   {
    "duration": 3057,
    "start_time": "2024-11-09T19:53:33.714Z"
   },
   {
    "duration": 31,
    "start_time": "2024-11-09T19:53:36.773Z"
   },
   {
    "duration": 212,
    "start_time": "2024-11-09T19:53:36.805Z"
   },
   {
    "duration": 88,
    "start_time": "2024-11-09T19:53:37.018Z"
   },
   {
    "duration": 11991,
    "start_time": "2024-11-09T19:53:37.109Z"
   },
   {
    "duration": 4375,
    "start_time": "2024-11-09T19:53:49.102Z"
   },
   {
    "duration": 38,
    "start_time": "2024-11-09T19:53:53.478Z"
   },
   {
    "duration": 132809,
    "start_time": "2024-11-09T19:53:53.518Z"
   },
   {
    "duration": 3,
    "start_time": "2024-11-09T19:56:06.328Z"
   },
   {
    "duration": 6347,
    "start_time": "2024-11-09T19:56:06.332Z"
   },
   {
    "duration": 8012,
    "start_time": "2024-11-09T19:56:12.680Z"
   },
   {
    "duration": 6162,
    "start_time": "2024-11-09T19:56:20.693Z"
   },
   {
    "duration": 4729,
    "start_time": "2024-11-09T19:56:26.857Z"
   },
   {
    "duration": 95,
    "start_time": "2024-11-09T19:56:31.587Z"
   },
   {
    "duration": 125,
    "start_time": "2024-11-09T19:56:31.684Z"
   },
   {
    "duration": 0,
    "start_time": "2024-11-09T19:56:31.811Z"
   },
   {
    "duration": 0,
    "start_time": "2024-11-09T19:56:31.812Z"
   },
   {
    "duration": 0,
    "start_time": "2024-11-09T19:56:31.813Z"
   },
   {
    "duration": 113,
    "start_time": "2024-11-09T19:58:52.587Z"
   },
   {
    "duration": 3878,
    "start_time": "2024-11-09T20:03:01.316Z"
   },
   {
    "duration": 886,
    "start_time": "2024-11-09T20:03:05.196Z"
   },
   {
    "duration": 618,
    "start_time": "2024-11-09T20:03:06.083Z"
   },
   {
    "duration": 10,
    "start_time": "2024-11-09T20:03:06.702Z"
   },
   {
    "duration": 62,
    "start_time": "2024-11-09T20:03:06.713Z"
   },
   {
    "duration": 336,
    "start_time": "2024-11-09T20:03:06.776Z"
   },
   {
    "duration": 20,
    "start_time": "2024-11-09T20:03:07.114Z"
   },
   {
    "duration": 62,
    "start_time": "2024-11-09T20:03:07.135Z"
   },
   {
    "duration": 7,
    "start_time": "2024-11-09T20:03:07.198Z"
   },
   {
    "duration": 87,
    "start_time": "2024-11-09T20:03:07.207Z"
   },
   {
    "duration": 5,
    "start_time": "2024-11-09T20:03:07.295Z"
   },
   {
    "duration": 12,
    "start_time": "2024-11-09T20:03:07.301Z"
   },
   {
    "duration": 4,
    "start_time": "2024-11-09T20:03:07.314Z"
   },
   {
    "duration": 49,
    "start_time": "2024-11-09T20:03:07.320Z"
   },
   {
    "duration": 30,
    "start_time": "2024-11-09T20:03:07.370Z"
   },
   {
    "duration": 19,
    "start_time": "2024-11-09T20:03:07.401Z"
   },
   {
    "duration": 20,
    "start_time": "2024-11-09T20:03:07.421Z"
   },
   {
    "duration": 26,
    "start_time": "2024-11-09T20:03:07.442Z"
   },
   {
    "duration": 14,
    "start_time": "2024-11-09T20:03:07.469Z"
   },
   {
    "duration": 26,
    "start_time": "2024-11-09T20:03:07.485Z"
   },
   {
    "duration": 81,
    "start_time": "2024-11-09T20:03:07.512Z"
   },
   {
    "duration": 22,
    "start_time": "2024-11-09T20:03:07.595Z"
   },
   {
    "duration": 16,
    "start_time": "2024-11-09T20:03:07.619Z"
   },
   {
    "duration": 40,
    "start_time": "2024-11-09T20:03:07.636Z"
   },
   {
    "duration": 18,
    "start_time": "2024-11-09T20:03:07.678Z"
   },
   {
    "duration": 2881,
    "start_time": "2024-11-09T20:03:07.697Z"
   },
   {
    "duration": 32,
    "start_time": "2024-11-09T20:03:10.579Z"
   },
   {
    "duration": 150,
    "start_time": "2024-11-09T20:03:10.615Z"
   },
   {
    "duration": 73,
    "start_time": "2024-11-09T20:03:10.767Z"
   },
   {
    "duration": 11480,
    "start_time": "2024-11-09T20:03:10.841Z"
   },
   {
    "duration": 4120,
    "start_time": "2024-11-09T20:03:22.322Z"
   },
   {
    "duration": 47,
    "start_time": "2024-11-09T20:03:26.443Z"
   },
   {
    "duration": 131227,
    "start_time": "2024-11-09T20:03:26.491Z"
   },
   {
    "duration": 2,
    "start_time": "2024-11-09T20:05:37.720Z"
   },
   {
    "duration": 6010,
    "start_time": "2024-11-09T20:05:37.724Z"
   },
   {
    "duration": 8052,
    "start_time": "2024-11-09T20:05:43.737Z"
   },
   {
    "duration": 6132,
    "start_time": "2024-11-09T20:05:51.790Z"
   },
   {
    "duration": 4942,
    "start_time": "2024-11-09T20:05:57.923Z"
   },
   {
    "duration": 3966,
    "start_time": "2024-11-09T20:08:00.738Z"
   },
   {
    "duration": 892,
    "start_time": "2024-11-09T20:08:04.706Z"
   },
   {
    "duration": 621,
    "start_time": "2024-11-09T20:08:05.599Z"
   },
   {
    "duration": 9,
    "start_time": "2024-11-09T20:08:06.222Z"
   },
   {
    "duration": 64,
    "start_time": "2024-11-09T20:08:06.233Z"
   },
   {
    "duration": 352,
    "start_time": "2024-11-09T20:08:06.299Z"
   },
   {
    "duration": 26,
    "start_time": "2024-11-09T20:08:06.657Z"
   },
   {
    "duration": 106,
    "start_time": "2024-11-09T20:08:06.685Z"
   },
   {
    "duration": 7,
    "start_time": "2024-11-09T20:08:06.792Z"
   },
   {
    "duration": 81,
    "start_time": "2024-11-09T20:08:06.800Z"
   },
   {
    "duration": 5,
    "start_time": "2024-11-09T20:08:06.882Z"
   },
   {
    "duration": 36,
    "start_time": "2024-11-09T20:08:06.888Z"
   },
   {
    "duration": 10,
    "start_time": "2024-11-09T20:08:06.925Z"
   },
   {
    "duration": 41,
    "start_time": "2024-11-09T20:08:06.938Z"
   },
   {
    "duration": 30,
    "start_time": "2024-11-09T20:08:06.980Z"
   },
   {
    "duration": 17,
    "start_time": "2024-11-09T20:08:07.011Z"
   },
   {
    "duration": 30,
    "start_time": "2024-11-09T20:08:07.030Z"
   },
   {
    "duration": 21,
    "start_time": "2024-11-09T20:08:07.062Z"
   },
   {
    "duration": 14,
    "start_time": "2024-11-09T20:08:07.085Z"
   },
   {
    "duration": 28,
    "start_time": "2024-11-09T20:08:07.100Z"
   },
   {
    "duration": 87,
    "start_time": "2024-11-09T20:08:07.129Z"
   },
   {
    "duration": 22,
    "start_time": "2024-11-09T20:08:07.218Z"
   },
   {
    "duration": 31,
    "start_time": "2024-11-09T20:08:07.242Z"
   },
   {
    "duration": 26,
    "start_time": "2024-11-09T20:08:07.275Z"
   },
   {
    "duration": 16,
    "start_time": "2024-11-09T20:08:07.303Z"
   },
   {
    "duration": 3123,
    "start_time": "2024-11-09T20:08:07.321Z"
   },
   {
    "duration": 36,
    "start_time": "2024-11-09T20:08:10.446Z"
   },
   {
    "duration": 165,
    "start_time": "2024-11-09T20:08:10.484Z"
   },
   {
    "duration": 83,
    "start_time": "2024-11-09T20:08:10.650Z"
   },
   {
    "duration": 12172,
    "start_time": "2024-11-09T20:08:10.735Z"
   },
   {
    "duration": 4405,
    "start_time": "2024-11-09T20:08:22.909Z"
   },
   {
    "duration": 44,
    "start_time": "2024-11-09T20:08:27.315Z"
   },
   {
    "duration": 135853,
    "start_time": "2024-11-09T20:08:27.360Z"
   },
   {
    "duration": 2,
    "start_time": "2024-11-09T20:10:43.215Z"
   },
   {
    "duration": 6511,
    "start_time": "2024-11-09T20:10:43.218Z"
   },
   {
    "duration": 8869,
    "start_time": "2024-11-09T20:10:49.731Z"
   },
   {
    "duration": 6680,
    "start_time": "2024-11-09T20:10:58.601Z"
   },
   {
    "duration": 5108,
    "start_time": "2024-11-09T20:11:05.282Z"
   },
   {
    "duration": 3969,
    "start_time": "2024-11-09T20:15:35.147Z"
   },
   {
    "duration": 881,
    "start_time": "2024-11-09T20:15:39.117Z"
   },
   {
    "duration": 639,
    "start_time": "2024-11-09T20:15:40.000Z"
   },
   {
    "duration": 18,
    "start_time": "2024-11-09T20:15:40.640Z"
   },
   {
    "duration": 55,
    "start_time": "2024-11-09T20:15:40.662Z"
   },
   {
    "duration": 336,
    "start_time": "2024-11-09T20:15:40.719Z"
   },
   {
    "duration": 26,
    "start_time": "2024-11-09T20:15:41.058Z"
   },
   {
    "duration": 52,
    "start_time": "2024-11-09T20:15:41.085Z"
   },
   {
    "duration": 23,
    "start_time": "2024-11-09T20:15:41.139Z"
   },
   {
    "duration": 75,
    "start_time": "2024-11-09T20:15:41.167Z"
   },
   {
    "duration": 6,
    "start_time": "2024-11-09T20:15:41.243Z"
   },
   {
    "duration": 14,
    "start_time": "2024-11-09T20:15:41.250Z"
   },
   {
    "duration": 7,
    "start_time": "2024-11-09T20:15:41.266Z"
   },
   {
    "duration": 34,
    "start_time": "2024-11-09T20:15:41.276Z"
   },
   {
    "duration": 58,
    "start_time": "2024-11-09T20:15:41.312Z"
   },
   {
    "duration": 17,
    "start_time": "2024-11-09T20:15:41.372Z"
   },
   {
    "duration": 16,
    "start_time": "2024-11-09T20:15:41.391Z"
   },
   {
    "duration": 16,
    "start_time": "2024-11-09T20:15:41.408Z"
   },
   {
    "duration": 13,
    "start_time": "2024-11-09T20:15:41.425Z"
   },
   {
    "duration": 49,
    "start_time": "2024-11-09T20:15:41.440Z"
   },
   {
    "duration": 84,
    "start_time": "2024-11-09T20:15:41.490Z"
   },
   {
    "duration": 23,
    "start_time": "2024-11-09T20:15:41.575Z"
   },
   {
    "duration": 16,
    "start_time": "2024-11-09T20:15:41.599Z"
   },
   {
    "duration": 34,
    "start_time": "2024-11-09T20:15:41.616Z"
   },
   {
    "duration": 28,
    "start_time": "2024-11-09T20:15:41.651Z"
   },
   {
    "duration": 3092,
    "start_time": "2024-11-09T20:15:41.681Z"
   },
   {
    "duration": 41,
    "start_time": "2024-11-09T20:15:44.775Z"
   },
   {
    "duration": 162,
    "start_time": "2024-11-09T20:15:44.817Z"
   },
   {
    "duration": 85,
    "start_time": "2024-11-09T20:15:44.980Z"
   },
   {
    "duration": 11935,
    "start_time": "2024-11-09T20:15:45.066Z"
   },
   {
    "duration": 4457,
    "start_time": "2024-11-09T20:15:57.002Z"
   },
   {
    "duration": 60,
    "start_time": "2024-11-09T20:16:01.460Z"
   },
   {
    "duration": 130305,
    "start_time": "2024-11-09T20:16:01.522Z"
   },
   {
    "duration": 2,
    "start_time": "2024-11-09T20:18:11.829Z"
   },
   {
    "duration": 6452,
    "start_time": "2024-11-09T20:18:11.833Z"
   },
   {
    "duration": 8323,
    "start_time": "2024-11-09T20:18:18.286Z"
   },
   {
    "duration": 6236,
    "start_time": "2024-11-09T20:18:26.610Z"
   },
   {
    "duration": 4759,
    "start_time": "2024-11-09T20:18:32.848Z"
   },
   {
    "duration": 3931,
    "start_time": "2024-11-09T20:34:34.772Z"
   },
   {
    "duration": 866,
    "start_time": "2024-11-09T20:34:38.705Z"
   },
   {
    "duration": 578,
    "start_time": "2024-11-09T20:34:39.572Z"
   },
   {
    "duration": 10,
    "start_time": "2024-11-09T20:34:40.156Z"
   },
   {
    "duration": 51,
    "start_time": "2024-11-09T20:34:40.167Z"
   },
   {
    "duration": 347,
    "start_time": "2024-11-09T20:34:40.219Z"
   },
   {
    "duration": 21,
    "start_time": "2024-11-09T20:34:40.567Z"
   },
   {
    "duration": 45,
    "start_time": "2024-11-09T20:34:40.590Z"
   },
   {
    "duration": 22,
    "start_time": "2024-11-09T20:34:40.636Z"
   },
   {
    "duration": 75,
    "start_time": "2024-11-09T20:34:40.660Z"
   },
   {
    "duration": 4,
    "start_time": "2024-11-09T20:34:40.736Z"
   },
   {
    "duration": 14,
    "start_time": "2024-11-09T20:34:40.747Z"
   },
   {
    "duration": 5,
    "start_time": "2024-11-09T20:34:40.762Z"
   },
   {
    "duration": 35,
    "start_time": "2024-11-09T20:34:40.769Z"
   },
   {
    "duration": 29,
    "start_time": "2024-11-09T20:34:40.805Z"
   },
   {
    "duration": 35,
    "start_time": "2024-11-09T20:34:40.836Z"
   },
   {
    "duration": 16,
    "start_time": "2024-11-09T20:34:40.872Z"
   },
   {
    "duration": 15,
    "start_time": "2024-11-09T20:34:40.889Z"
   },
   {
    "duration": 94,
    "start_time": "2024-11-09T20:34:40.905Z"
   },
   {
    "duration": 28,
    "start_time": "2024-11-09T20:34:41.001Z"
   },
   {
    "duration": 66,
    "start_time": "2024-11-09T20:34:41.031Z"
   },
   {
    "duration": 21,
    "start_time": "2024-11-09T20:34:41.099Z"
   },
   {
    "duration": 15,
    "start_time": "2024-11-09T20:34:41.121Z"
   },
   {
    "duration": 38,
    "start_time": "2024-11-09T20:34:41.138Z"
   },
   {
    "duration": 22,
    "start_time": "2024-11-09T20:34:41.178Z"
   },
   {
    "duration": 2793,
    "start_time": "2024-11-09T20:34:41.201Z"
   },
   {
    "duration": 40,
    "start_time": "2024-11-09T20:34:43.995Z"
   },
   {
    "duration": 152,
    "start_time": "2024-11-09T20:34:44.038Z"
   },
   {
    "duration": 81,
    "start_time": "2024-11-09T20:34:44.191Z"
   },
   {
    "duration": 11168,
    "start_time": "2024-11-09T20:34:44.273Z"
   },
   {
    "duration": 4173,
    "start_time": "2024-11-09T20:34:55.442Z"
   },
   {
    "duration": 41,
    "start_time": "2024-11-09T20:34:59.616Z"
   },
   {
    "duration": 131069,
    "start_time": "2024-11-09T20:34:59.659Z"
   },
   {
    "duration": 3,
    "start_time": "2024-11-09T20:37:10.730Z"
   },
   {
    "duration": 5990,
    "start_time": "2024-11-09T20:37:10.734Z"
   },
   {
    "duration": 8059,
    "start_time": "2024-11-09T20:37:16.725Z"
   },
   {
    "duration": 5931,
    "start_time": "2024-11-09T20:37:24.785Z"
   },
   {
    "duration": 4566,
    "start_time": "2024-11-09T20:37:30.717Z"
   },
   {
    "duration": 4582,
    "start_time": "2024-11-09T20:37:35.284Z"
   },
   {
    "duration": 0,
    "start_time": "2024-11-09T20:37:39.867Z"
   },
   {
    "duration": 0,
    "start_time": "2024-11-09T20:37:39.868Z"
   },
   {
    "duration": 0,
    "start_time": "2024-11-09T20:37:39.869Z"
   },
   {
    "duration": 4253,
    "start_time": "2024-11-09T20:38:14.705Z"
   },
   {
    "duration": 16,
    "start_time": "2024-11-09T20:38:55.198Z"
   },
   {
    "duration": 4062,
    "start_time": "2024-11-09T20:39:38.205Z"
   },
   {
    "duration": 3960,
    "start_time": "2024-11-09T20:44:10.140Z"
   },
   {
    "duration": 932,
    "start_time": "2024-11-09T20:44:14.102Z"
   },
   {
    "duration": 657,
    "start_time": "2024-11-09T20:44:15.036Z"
   },
   {
    "duration": 10,
    "start_time": "2024-11-09T20:44:15.695Z"
   },
   {
    "duration": 68,
    "start_time": "2024-11-09T20:44:15.706Z"
   },
   {
    "duration": 340,
    "start_time": "2024-11-09T20:44:15.775Z"
   },
   {
    "duration": 22,
    "start_time": "2024-11-09T20:44:16.117Z"
   },
   {
    "duration": 69,
    "start_time": "2024-11-09T20:44:16.140Z"
   },
   {
    "duration": 8,
    "start_time": "2024-11-09T20:44:16.210Z"
   },
   {
    "duration": 105,
    "start_time": "2024-11-09T20:44:16.221Z"
   },
   {
    "duration": 5,
    "start_time": "2024-11-09T20:44:16.327Z"
   },
   {
    "duration": 17,
    "start_time": "2024-11-09T20:44:16.333Z"
   },
   {
    "duration": 5,
    "start_time": "2024-11-09T20:44:16.352Z"
   },
   {
    "duration": 45,
    "start_time": "2024-11-09T20:44:16.362Z"
   },
   {
    "duration": 29,
    "start_time": "2024-11-09T20:44:16.408Z"
   },
   {
    "duration": 33,
    "start_time": "2024-11-09T20:44:16.439Z"
   },
   {
    "duration": 14,
    "start_time": "2024-11-09T20:44:16.474Z"
   },
   {
    "duration": 35,
    "start_time": "2024-11-09T20:44:16.489Z"
   },
   {
    "duration": 28,
    "start_time": "2024-11-09T20:44:16.526Z"
   },
   {
    "duration": 44,
    "start_time": "2024-11-09T20:44:16.555Z"
   },
   {
    "duration": 84,
    "start_time": "2024-11-09T20:44:16.601Z"
   },
   {
    "duration": 21,
    "start_time": "2024-11-09T20:44:16.687Z"
   },
   {
    "duration": 17,
    "start_time": "2024-11-09T20:44:16.709Z"
   },
   {
    "duration": 38,
    "start_time": "2024-11-09T20:44:16.727Z"
   },
   {
    "duration": 19,
    "start_time": "2024-11-09T20:44:16.771Z"
   },
   {
    "duration": 3085,
    "start_time": "2024-11-09T20:44:16.791Z"
   },
   {
    "duration": 34,
    "start_time": "2024-11-09T20:44:19.878Z"
   },
   {
    "duration": 179,
    "start_time": "2024-11-09T20:44:19.916Z"
   },
   {
    "duration": 119,
    "start_time": "2024-11-09T20:44:20.098Z"
   },
   {
    "duration": 12026,
    "start_time": "2024-11-09T20:44:20.219Z"
   },
   {
    "duration": 4426,
    "start_time": "2024-11-09T20:44:32.246Z"
   },
   {
    "duration": 42,
    "start_time": "2024-11-09T20:44:36.674Z"
   },
   {
    "duration": 133504,
    "start_time": "2024-11-09T20:44:36.717Z"
   },
   {
    "duration": 2,
    "start_time": "2024-11-09T20:46:50.223Z"
   },
   {
    "duration": 6345,
    "start_time": "2024-11-09T20:46:50.227Z"
   },
   {
    "duration": 8344,
    "start_time": "2024-11-09T20:46:56.574Z"
   },
   {
    "duration": 6292,
    "start_time": "2024-11-09T20:47:04.919Z"
   },
   {
    "duration": 4878,
    "start_time": "2024-11-09T20:47:11.213Z"
   },
   {
    "duration": 3871,
    "start_time": "2024-11-09T20:51:41.716Z"
   },
   {
    "duration": 898,
    "start_time": "2024-11-09T20:51:45.589Z"
   },
   {
    "duration": 614,
    "start_time": "2024-11-09T20:51:46.489Z"
   },
   {
    "duration": 10,
    "start_time": "2024-11-09T20:51:47.105Z"
   },
   {
    "duration": 66,
    "start_time": "2024-11-09T20:51:47.116Z"
   },
   {
    "duration": 329,
    "start_time": "2024-11-09T20:51:47.184Z"
   },
   {
    "duration": 21,
    "start_time": "2024-11-09T20:51:47.515Z"
   },
   {
    "duration": 60,
    "start_time": "2024-11-09T20:51:47.537Z"
   },
   {
    "duration": 7,
    "start_time": "2024-11-09T20:51:47.599Z"
   },
   {
    "duration": 87,
    "start_time": "2024-11-09T20:51:47.608Z"
   },
   {
    "duration": 5,
    "start_time": "2024-11-09T20:51:47.696Z"
   },
   {
    "duration": 10,
    "start_time": "2024-11-09T20:51:47.702Z"
   },
   {
    "duration": 6,
    "start_time": "2024-11-09T20:51:47.714Z"
   },
   {
    "duration": 59,
    "start_time": "2024-11-09T20:51:47.721Z"
   },
   {
    "duration": 33,
    "start_time": "2024-11-09T20:51:47.781Z"
   },
   {
    "duration": 19,
    "start_time": "2024-11-09T20:51:47.815Z"
   },
   {
    "duration": 41,
    "start_time": "2024-11-09T20:51:47.836Z"
   },
   {
    "duration": 30,
    "start_time": "2024-11-09T20:51:47.879Z"
   },
   {
    "duration": 23,
    "start_time": "2024-11-09T20:51:47.911Z"
   },
   {
    "duration": 63,
    "start_time": "2024-11-09T20:51:47.935Z"
   },
   {
    "duration": 96,
    "start_time": "2024-11-09T20:51:48.000Z"
   },
   {
    "duration": 23,
    "start_time": "2024-11-09T20:51:48.097Z"
   },
   {
    "duration": 17,
    "start_time": "2024-11-09T20:51:48.121Z"
   },
   {
    "duration": 42,
    "start_time": "2024-11-09T20:51:48.139Z"
   },
   {
    "duration": 15,
    "start_time": "2024-11-09T20:51:48.182Z"
   },
   {
    "duration": 2978,
    "start_time": "2024-11-09T20:51:48.199Z"
   },
   {
    "duration": 33,
    "start_time": "2024-11-09T20:51:51.178Z"
   },
   {
    "duration": 161,
    "start_time": "2024-11-09T20:51:51.215Z"
   },
   {
    "duration": 85,
    "start_time": "2024-11-09T20:51:51.377Z"
   },
   {
    "duration": 12164,
    "start_time": "2024-11-09T20:51:51.464Z"
   },
   {
    "duration": 4404,
    "start_time": "2024-11-09T20:52:03.630Z"
   },
   {
    "duration": 49,
    "start_time": "2024-11-09T20:52:08.036Z"
   },
   {
    "duration": 135932,
    "start_time": "2024-11-09T20:52:08.087Z"
   },
   {
    "duration": 2,
    "start_time": "2024-11-09T20:54:24.021Z"
   },
   {
    "duration": 6379,
    "start_time": "2024-11-09T20:54:24.024Z"
   },
   {
    "duration": 8333,
    "start_time": "2024-11-09T20:54:30.404Z"
   },
   {
    "duration": 6200,
    "start_time": "2024-11-09T20:54:38.739Z"
   },
   {
    "duration": 4941,
    "start_time": "2024-11-09T20:54:44.941Z"
   },
   {
    "duration": 136279,
    "start_time": "2024-11-09T20:54:49.884Z"
   },
   {
    "duration": 128,
    "start_time": "2024-11-09T20:57:06.164Z"
   },
   {
    "duration": 0,
    "start_time": "2024-11-09T20:57:06.293Z"
   },
   {
    "duration": 0,
    "start_time": "2024-11-09T20:57:06.294Z"
   },
   {
    "duration": 0,
    "start_time": "2024-11-09T20:57:06.295Z"
   },
   {
    "duration": 0,
    "start_time": "2024-11-09T20:57:06.296Z"
   },
   {
    "duration": 0,
    "start_time": "2024-11-09T20:57:06.297Z"
   },
   {
    "duration": 569,
    "start_time": "2024-11-09T20:57:20.110Z"
   },
   {
    "duration": 117563,
    "start_time": "2024-11-09T21:30:07.309Z"
   },
   {
    "duration": 3875,
    "start_time": "2024-11-09T21:36:08.699Z"
   },
   {
    "duration": 864,
    "start_time": "2024-11-09T21:36:12.575Z"
   },
   {
    "duration": 598,
    "start_time": "2024-11-09T21:36:13.440Z"
   },
   {
    "duration": 18,
    "start_time": "2024-11-09T21:36:14.040Z"
   },
   {
    "duration": 53,
    "start_time": "2024-11-09T21:36:14.059Z"
   },
   {
    "duration": 337,
    "start_time": "2024-11-09T21:36:14.113Z"
   },
   {
    "duration": 22,
    "start_time": "2024-11-09T21:36:14.452Z"
   },
   {
    "duration": 49,
    "start_time": "2024-11-09T21:36:14.476Z"
   },
   {
    "duration": 7,
    "start_time": "2024-11-09T21:36:14.526Z"
   },
   {
    "duration": 90,
    "start_time": "2024-11-09T21:36:14.536Z"
   },
   {
    "duration": 5,
    "start_time": "2024-11-09T21:36:14.627Z"
   },
   {
    "duration": 5,
    "start_time": "2024-11-09T21:36:14.633Z"
   },
   {
    "duration": 18,
    "start_time": "2024-11-09T21:36:14.640Z"
   },
   {
    "duration": 37,
    "start_time": "2024-11-09T21:36:14.659Z"
   },
   {
    "duration": 29,
    "start_time": "2024-11-09T21:36:14.697Z"
   },
   {
    "duration": 31,
    "start_time": "2024-11-09T21:36:14.728Z"
   },
   {
    "duration": 16,
    "start_time": "2024-11-09T21:36:14.760Z"
   },
   {
    "duration": 16,
    "start_time": "2024-11-09T21:36:14.777Z"
   },
   {
    "duration": 15,
    "start_time": "2024-11-09T21:36:14.795Z"
   },
   {
    "duration": 50,
    "start_time": "2024-11-09T21:36:14.811Z"
   },
   {
    "duration": 70,
    "start_time": "2024-11-09T21:36:14.862Z"
   },
   {
    "duration": 31,
    "start_time": "2024-11-09T21:36:14.934Z"
   },
   {
    "duration": 16,
    "start_time": "2024-11-09T21:36:14.966Z"
   },
   {
    "duration": 91,
    "start_time": "2024-11-09T21:36:14.983Z"
   },
   {
    "duration": 22,
    "start_time": "2024-11-09T21:36:15.076Z"
   },
   {
    "duration": 2919,
    "start_time": "2024-11-09T21:36:15.099Z"
   },
   {
    "duration": 37,
    "start_time": "2024-11-09T21:36:18.020Z"
   },
   {
    "duration": 147,
    "start_time": "2024-11-09T21:36:18.061Z"
   },
   {
    "duration": 75,
    "start_time": "2024-11-09T21:36:18.210Z"
   },
   {
    "duration": 11207,
    "start_time": "2024-11-09T21:36:18.286Z"
   },
   {
    "duration": 4090,
    "start_time": "2024-11-09T21:36:29.494Z"
   },
   {
    "duration": 38,
    "start_time": "2024-11-09T21:36:33.586Z"
   },
   {
    "duration": 131664,
    "start_time": "2024-11-09T21:36:33.626Z"
   },
   {
    "duration": 3,
    "start_time": "2024-11-09T21:38:45.292Z"
   },
   {
    "duration": 127145,
    "start_time": "2024-11-09T21:38:45.296Z"
   },
   {
    "duration": 7667,
    "start_time": "2024-11-09T21:40:52.443Z"
   },
   {
    "duration": 5869,
    "start_time": "2024-11-09T21:41:00.111Z"
   },
   {
    "duration": 4619,
    "start_time": "2024-11-09T21:41:05.982Z"
   },
   {
    "duration": 3998,
    "start_time": "2024-11-09T21:42:54.951Z"
   },
   {
    "duration": 854,
    "start_time": "2024-11-09T21:42:58.951Z"
   },
   {
    "duration": 646,
    "start_time": "2024-11-09T21:42:59.807Z"
   },
   {
    "duration": 12,
    "start_time": "2024-11-09T21:43:00.455Z"
   },
   {
    "duration": 62,
    "start_time": "2024-11-09T21:43:00.468Z"
   },
   {
    "duration": 342,
    "start_time": "2024-11-09T21:43:00.531Z"
   },
   {
    "duration": 21,
    "start_time": "2024-11-09T21:43:00.875Z"
   },
   {
    "duration": 65,
    "start_time": "2024-11-09T21:43:00.898Z"
   },
   {
    "duration": 9,
    "start_time": "2024-11-09T21:43:00.965Z"
   },
   {
    "duration": 96,
    "start_time": "2024-11-09T21:43:00.976Z"
   },
   {
    "duration": 5,
    "start_time": "2024-11-09T21:43:01.074Z"
   },
   {
    "duration": 22,
    "start_time": "2024-11-09T21:43:01.080Z"
   },
   {
    "duration": 14,
    "start_time": "2024-11-09T21:43:01.104Z"
   },
   {
    "duration": 137,
    "start_time": "2024-11-09T21:43:01.119Z"
   },
   {
    "duration": 31,
    "start_time": "2024-11-09T21:43:01.268Z"
   },
   {
    "duration": 19,
    "start_time": "2024-11-09T21:43:01.301Z"
   },
   {
    "duration": 16,
    "start_time": "2024-11-09T21:43:01.321Z"
   },
   {
    "duration": 30,
    "start_time": "2024-11-09T21:43:01.338Z"
   },
   {
    "duration": 28,
    "start_time": "2024-11-09T21:43:01.369Z"
   },
   {
    "duration": 38,
    "start_time": "2024-11-09T21:43:01.398Z"
   },
   {
    "duration": 74,
    "start_time": "2024-11-09T21:43:01.438Z"
   },
   {
    "duration": 21,
    "start_time": "2024-11-09T21:43:01.513Z"
   },
   {
    "duration": 35,
    "start_time": "2024-11-09T21:43:01.536Z"
   },
   {
    "duration": 26,
    "start_time": "2024-11-09T21:43:01.572Z"
   },
   {
    "duration": 21,
    "start_time": "2024-11-09T21:43:01.599Z"
   },
   {
    "duration": 2955,
    "start_time": "2024-11-09T21:43:01.621Z"
   },
   {
    "duration": 32,
    "start_time": "2024-11-09T21:43:04.577Z"
   },
   {
    "duration": 162,
    "start_time": "2024-11-09T21:43:04.612Z"
   },
   {
    "duration": 92,
    "start_time": "2024-11-09T21:43:04.775Z"
   },
   {
    "duration": 3842,
    "start_time": "2024-11-09T21:43:04.868Z"
   },
   {
    "duration": 4260,
    "start_time": "2024-11-09T21:43:08.712Z"
   },
   {
    "duration": 48,
    "start_time": "2024-11-09T21:43:12.974Z"
   },
   {
    "duration": 132601,
    "start_time": "2024-11-09T21:43:13.024Z"
   },
   {
    "duration": 3,
    "start_time": "2024-11-09T21:45:25.626Z"
   },
   {
    "duration": 6887,
    "start_time": "2024-11-09T21:45:25.630Z"
   },
   {
    "duration": 8222,
    "start_time": "2024-11-09T21:45:32.519Z"
   },
   {
    "duration": 6162,
    "start_time": "2024-11-09T21:45:40.743Z"
   },
   {
    "duration": 4920,
    "start_time": "2024-11-09T21:45:46.906Z"
   },
   {
    "duration": 28093,
    "start_time": "2024-11-09T21:45:51.828Z"
   },
   {
    "duration": 74047,
    "start_time": "2024-11-09T21:46:19.923Z"
   },
   {
    "duration": 277093,
    "start_time": "2024-11-09T21:47:33.971Z"
   },
   {
    "duration": 175,
    "start_time": "2024-11-09T21:52:11.066Z"
   },
   {
    "duration": 0,
    "start_time": "2024-11-09T21:52:11.243Z"
   },
   {
    "duration": 0,
    "start_time": "2024-11-09T21:52:11.244Z"
   },
   {
    "duration": 0,
    "start_time": "2024-11-09T21:52:11.245Z"
   },
   {
    "duration": 0,
    "start_time": "2024-11-09T21:52:11.246Z"
   },
   {
    "duration": 76,
    "start_time": "2024-11-09T21:56:15.709Z"
   },
   {
    "duration": 66,
    "start_time": "2024-11-09T21:56:31.161Z"
   },
   {
    "duration": 4130,
    "start_time": "2024-11-09T21:56:37.490Z"
   },
   {
    "duration": 72,
    "start_time": "2024-11-09T21:58:19.863Z"
   },
   {
    "duration": 471,
    "start_time": "2024-11-09T21:58:24.694Z"
   },
   {
    "duration": 517,
    "start_time": "2024-11-09T21:58:50.650Z"
   },
   {
    "duration": 486,
    "start_time": "2024-11-09T21:59:07.778Z"
   },
   {
    "duration": 3988,
    "start_time": "2024-11-09T21:59:40.633Z"
   },
   {
    "duration": 39,
    "start_time": "2024-11-09T22:04:03.996Z"
   },
   {
    "duration": 4207,
    "start_time": "2024-11-09T22:04:20.813Z"
   },
   {
    "duration": 4089,
    "start_time": "2024-11-09T22:04:39.422Z"
   },
   {
    "duration": 3971,
    "start_time": "2024-11-09T22:06:18.247Z"
   },
   {
    "duration": 4112,
    "start_time": "2024-11-09T22:07:00.409Z"
   },
   {
    "duration": 4015,
    "start_time": "2024-11-09T22:07:20.104Z"
   },
   {
    "duration": 4129,
    "start_time": "2024-11-09T22:07:41.687Z"
   },
   {
    "duration": 87,
    "start_time": "2024-11-09T22:10:06.662Z"
   },
   {
    "duration": 85,
    "start_time": "2024-11-09T22:10:42.502Z"
   },
   {
    "duration": 62,
    "start_time": "2024-11-09T22:11:05.894Z"
   },
   {
    "duration": 85,
    "start_time": "2024-11-09T22:11:15.964Z"
   },
   {
    "duration": 11,
    "start_time": "2024-11-09T22:11:43.957Z"
   },
   {
    "duration": 90,
    "start_time": "2024-11-09T22:16:11.940Z"
   },
   {
    "duration": 183703,
    "start_time": "2024-11-09T22:16:33.319Z"
   },
   {
    "duration": 3823,
    "start_time": "2024-11-09T22:25:35.078Z"
   },
   {
    "duration": 863,
    "start_time": "2024-11-09T22:25:38.902Z"
   },
   {
    "duration": 605,
    "start_time": "2024-11-09T22:25:39.766Z"
   },
   {
    "duration": 10,
    "start_time": "2024-11-09T22:25:40.373Z"
   },
   {
    "duration": 52,
    "start_time": "2024-11-09T22:25:40.385Z"
   },
   {
    "duration": 342,
    "start_time": "2024-11-09T22:25:40.439Z"
   },
   {
    "duration": 19,
    "start_time": "2024-11-09T22:25:40.783Z"
   },
   {
    "duration": 60,
    "start_time": "2024-11-09T22:25:40.804Z"
   },
   {
    "duration": 7,
    "start_time": "2024-11-09T22:25:40.866Z"
   },
   {
    "duration": 85,
    "start_time": "2024-11-09T22:25:40.875Z"
   },
   {
    "duration": 4,
    "start_time": "2024-11-09T22:25:40.962Z"
   },
   {
    "duration": 7,
    "start_time": "2024-11-09T22:25:40.968Z"
   },
   {
    "duration": 6,
    "start_time": "2024-11-09T22:25:40.976Z"
   },
   {
    "duration": 37,
    "start_time": "2024-11-09T22:25:40.984Z"
   },
   {
    "duration": 52,
    "start_time": "2024-11-09T22:25:41.022Z"
   },
   {
    "duration": 18,
    "start_time": "2024-11-09T22:25:41.076Z"
   },
   {
    "duration": 17,
    "start_time": "2024-11-09T22:25:41.095Z"
   },
   {
    "duration": 16,
    "start_time": "2024-11-09T22:25:41.113Z"
   },
   {
    "duration": 33,
    "start_time": "2024-11-09T22:25:41.130Z"
   },
   {
    "duration": 27,
    "start_time": "2024-11-09T22:25:41.164Z"
   },
   {
    "duration": 79,
    "start_time": "2024-11-09T22:25:41.192Z"
   },
   {
    "duration": 23,
    "start_time": "2024-11-09T22:25:41.272Z"
   },
   {
    "duration": 21,
    "start_time": "2024-11-09T22:25:41.297Z"
   },
   {
    "duration": 39,
    "start_time": "2024-11-09T22:25:41.320Z"
   },
   {
    "duration": 16,
    "start_time": "2024-11-09T22:25:41.360Z"
   },
   {
    "duration": 2772,
    "start_time": "2024-11-09T22:25:41.377Z"
   },
   {
    "duration": 33,
    "start_time": "2024-11-09T22:25:44.151Z"
   },
   {
    "duration": 151,
    "start_time": "2024-11-09T22:25:44.187Z"
   },
   {
    "duration": 81,
    "start_time": "2024-11-09T22:25:44.339Z"
   },
   {
    "duration": 3672,
    "start_time": "2024-11-09T22:25:44.422Z"
   },
   {
    "duration": 4119,
    "start_time": "2024-11-09T22:25:48.095Z"
   },
   {
    "duration": 49,
    "start_time": "2024-11-09T22:25:52.215Z"
   },
   {
    "duration": 184569,
    "start_time": "2024-11-09T22:25:52.265Z"
   },
   {
    "duration": 2,
    "start_time": "2024-11-09T22:28:56.835Z"
   },
   {
    "duration": 6646,
    "start_time": "2024-11-09T22:28:56.838Z"
   },
   {
    "duration": 27130,
    "start_time": "2024-11-09T22:29:03.485Z"
   },
   {
    "duration": 176,
    "start_time": "2024-11-09T22:29:30.617Z"
   },
   {
    "duration": 4672,
    "start_time": "2024-11-09T22:29:30.794Z"
   },
   {
    "duration": 24403,
    "start_time": "2024-11-09T22:29:35.467Z"
   },
   {
    "duration": 599,
    "start_time": "2024-11-09T22:29:59.959Z"
   },
   {
    "duration": 102,
    "start_time": "2024-11-09T22:30:00.561Z"
   },
   {
    "duration": 5063,
    "start_time": "2024-11-09T22:30:11.801Z"
   },
   {
    "duration": 23303,
    "start_time": "2024-11-09T22:30:16.866Z"
   },
   {
    "duration": 688,
    "start_time": "2024-11-09T22:30:40.170Z"
   },
   {
    "duration": 3849,
    "start_time": "2024-11-09T22:32:54.034Z"
   },
   {
    "duration": 870,
    "start_time": "2024-11-09T22:32:57.887Z"
   },
   {
    "duration": 579,
    "start_time": "2024-11-09T22:32:58.759Z"
   },
   {
    "duration": 9,
    "start_time": "2024-11-09T22:32:59.339Z"
   },
   {
    "duration": 52,
    "start_time": "2024-11-09T22:32:59.357Z"
   },
   {
    "duration": 336,
    "start_time": "2024-11-09T22:32:59.410Z"
   },
   {
    "duration": 27,
    "start_time": "2024-11-09T22:32:59.747Z"
   },
   {
    "duration": 47,
    "start_time": "2024-11-09T22:32:59.776Z"
   },
   {
    "duration": 9,
    "start_time": "2024-11-09T22:32:59.826Z"
   },
   {
    "duration": 80,
    "start_time": "2024-11-09T22:32:59.857Z"
   },
   {
    "duration": 21,
    "start_time": "2024-11-09T22:32:59.938Z"
   },
   {
    "duration": 6,
    "start_time": "2024-11-09T22:32:59.961Z"
   },
   {
    "duration": 7,
    "start_time": "2024-11-09T22:32:59.968Z"
   },
   {
    "duration": 40,
    "start_time": "2024-11-09T22:32:59.976Z"
   },
   {
    "duration": 68,
    "start_time": "2024-11-09T22:33:00.017Z"
   },
   {
    "duration": 19,
    "start_time": "2024-11-09T22:33:00.086Z"
   },
   {
    "duration": 28,
    "start_time": "2024-11-09T22:33:00.107Z"
   },
   {
    "duration": 31,
    "start_time": "2024-11-09T22:33:00.136Z"
   },
   {
    "duration": 17,
    "start_time": "2024-11-09T22:33:00.169Z"
   },
   {
    "duration": 40,
    "start_time": "2024-11-09T22:33:00.187Z"
   },
   {
    "duration": 82,
    "start_time": "2024-11-09T22:33:00.229Z"
   },
   {
    "duration": 24,
    "start_time": "2024-11-09T22:33:00.313Z"
   },
   {
    "duration": 74,
    "start_time": "2024-11-09T22:33:00.338Z"
   },
   {
    "duration": 37,
    "start_time": "2024-11-09T22:33:00.414Z"
   },
   {
    "duration": 41,
    "start_time": "2024-11-09T22:33:00.453Z"
   },
   {
    "duration": 2794,
    "start_time": "2024-11-09T22:33:00.496Z"
   },
   {
    "duration": 33,
    "start_time": "2024-11-09T22:33:03.293Z"
   },
   {
    "duration": 156,
    "start_time": "2024-11-09T22:33:03.328Z"
   },
   {
    "duration": 83,
    "start_time": "2024-11-09T22:33:03.485Z"
   },
   {
    "duration": 3627,
    "start_time": "2024-11-09T22:33:03.569Z"
   },
   {
    "duration": 4071,
    "start_time": "2024-11-09T22:33:07.198Z"
   },
   {
    "duration": 35,
    "start_time": "2024-11-09T22:33:11.270Z"
   },
   {
    "duration": 173326,
    "start_time": "2024-11-09T22:33:11.307Z"
   },
   {
    "duration": 3,
    "start_time": "2024-11-09T22:36:04.635Z"
   },
   {
    "duration": 6567,
    "start_time": "2024-11-09T22:36:04.640Z"
   },
   {
    "duration": 26581,
    "start_time": "2024-11-09T22:36:11.208Z"
   },
   {
    "duration": 67,
    "start_time": "2024-11-09T22:36:37.791Z"
   },
   {
    "duration": 5097,
    "start_time": "2024-11-09T22:36:37.859Z"
   },
   {
    "duration": 22612,
    "start_time": "2024-11-09T22:36:42.958Z"
   },
   {
    "duration": 687,
    "start_time": "2024-11-09T22:37:05.571Z"
   },
   {
    "duration": 267049,
    "start_time": "2024-11-09T22:40:40.073Z"
   },
   {
    "duration": 61,
    "start_time": "2024-11-09T23:00:36.452Z"
   }
  ],
  "kernelspec": {
   "display_name": "Python 3 (ipykernel)",
   "language": "python",
   "name": "python3"
  },
  "language_info": {
   "codemirror_mode": {
    "name": "ipython",
    "version": 3
   },
   "file_extension": ".py",
   "mimetype": "text/x-python",
   "name": "python",
   "nbconvert_exporter": "python",
   "pygments_lexer": "ipython3",
   "version": "3.9.5"
  },
  "toc": {
   "base_numbering": 1,
   "nav_menu": {},
   "number_sections": true,
   "sideBar": true,
   "skip_h1_title": true,
   "title_cell": "Table of Contents",
   "title_sidebar": "Contents",
   "toc_cell": false,
   "toc_position": {},
   "toc_section_display": true,
   "toc_window_display": false
  }
 },
 "nbformat": 4,
 "nbformat_minor": 2
}
