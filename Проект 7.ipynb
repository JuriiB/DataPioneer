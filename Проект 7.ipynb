{
 "cells": [
  {
   "cell_type": "markdown",
   "metadata": {},
   "source": [
    "# Выбор локации для скважины"
   ]
  },
  {
   "cell_type": "markdown",
   "metadata": {},
   "source": [
    "Допустим, вы работаете в добывающей компании «ГлавРосГосНефть». Нужно решить, где бурить новую скважину.\n",
    "\n",
    "Вам предоставлены пробы нефти в трёх регионах: в каждом 10 000 месторождений, где измерили качество нефти и объём её запасов. Постройте модель машинного обучения, которая поможет определить регион, где добыча принесёт наибольшую прибыль. Проанализируйте возможную прибыль и риски техникой *Bootstrap.*\n",
    "\n",
    "Шаги для выбора локации:\n",
    "\n",
    "- В избранном регионе ищут месторождения, для каждого определяют значения признаков;\n",
    "- Строят модель и оценивают объём запасов;\n",
    "- Выбирают месторождения с самым высокими оценками значений. Количество месторождений зависит от бюджета компании и стоимости разработки одной скважины;\n",
    "- Прибыль равна суммарной прибыли отобранных месторождений."
   ]
  },
  {
   "cell_type": "markdown",
   "metadata": {},
   "source": [
    "## Загрузка и подготовка данных"
   ]
  },
  {
   "cell_type": "markdown",
   "metadata": {},
   "source": [
    "Импорт библиотек "
   ]
  },
  {
   "cell_type": "code",
   "execution_count": 1,
   "metadata": {},
   "outputs": [],
   "source": [
    "import pandas as pd\n",
    "import seaborn as sns\n",
    "import numpy as np\n",
    "import matplotlib.pyplot as plt\n",
    "from scipy import stats as st\n",
    "from scipy.stats import sem, t\n",
    "\n",
    "from numpy.random import RandomState\n",
    "from tqdm.auto import tqdm\n",
    "\n",
    "from sklearn.model_selection import train_test_split\n",
    "from sklearn.linear_model import LinearRegression \n",
    "from sklearn.metrics import mean_squared_error, r2_score, accuracy_score\n",
    "from sklearn.preprocessing import StandardScaler, OrdinalEncoder "
   ]
  },
  {
   "cell_type": "markdown",
   "metadata": {},
   "source": [
    "**Импортируем и рассмотрим данные**"
   ]
  },
  {
   "cell_type": "code",
   "execution_count": 2,
   "metadata": {},
   "outputs": [
    {
     "data": {
      "text/html": [
       "<div>\n",
       "<style scoped>\n",
       "    .dataframe tbody tr th:only-of-type {\n",
       "        vertical-align: middle;\n",
       "    }\n",
       "\n",
       "    .dataframe tbody tr th {\n",
       "        vertical-align: top;\n",
       "    }\n",
       "\n",
       "    .dataframe thead th {\n",
       "        text-align: right;\n",
       "    }\n",
       "</style>\n",
       "<table border=\"1\" class=\"dataframe\">\n",
       "  <thead>\n",
       "    <tr style=\"text-align: right;\">\n",
       "      <th></th>\n",
       "      <th>id</th>\n",
       "      <th>f0</th>\n",
       "      <th>f1</th>\n",
       "      <th>f2</th>\n",
       "      <th>product</th>\n",
       "    </tr>\n",
       "  </thead>\n",
       "  <tbody>\n",
       "    <tr>\n",
       "      <th>0</th>\n",
       "      <td>txEyH</td>\n",
       "      <td>0.705745</td>\n",
       "      <td>-0.497823</td>\n",
       "      <td>1.221170</td>\n",
       "      <td>105.280062</td>\n",
       "    </tr>\n",
       "    <tr>\n",
       "      <th>1</th>\n",
       "      <td>2acmU</td>\n",
       "      <td>1.334711</td>\n",
       "      <td>-0.340164</td>\n",
       "      <td>4.365080</td>\n",
       "      <td>73.037750</td>\n",
       "    </tr>\n",
       "    <tr>\n",
       "      <th>2</th>\n",
       "      <td>409Wp</td>\n",
       "      <td>1.022732</td>\n",
       "      <td>0.151990</td>\n",
       "      <td>1.419926</td>\n",
       "      <td>85.265647</td>\n",
       "    </tr>\n",
       "    <tr>\n",
       "      <th>3</th>\n",
       "      <td>iJLyR</td>\n",
       "      <td>-0.032172</td>\n",
       "      <td>0.139033</td>\n",
       "      <td>2.978566</td>\n",
       "      <td>168.620776</td>\n",
       "    </tr>\n",
       "    <tr>\n",
       "      <th>4</th>\n",
       "      <td>Xdl7t</td>\n",
       "      <td>1.988431</td>\n",
       "      <td>0.155413</td>\n",
       "      <td>4.751769</td>\n",
       "      <td>154.036647</td>\n",
       "    </tr>\n",
       "    <tr>\n",
       "      <th>...</th>\n",
       "      <td>...</td>\n",
       "      <td>...</td>\n",
       "      <td>...</td>\n",
       "      <td>...</td>\n",
       "      <td>...</td>\n",
       "    </tr>\n",
       "    <tr>\n",
       "      <th>99995</th>\n",
       "      <td>DLsed</td>\n",
       "      <td>0.971957</td>\n",
       "      <td>0.370953</td>\n",
       "      <td>6.075346</td>\n",
       "      <td>110.744026</td>\n",
       "    </tr>\n",
       "    <tr>\n",
       "      <th>99996</th>\n",
       "      <td>QKivN</td>\n",
       "      <td>1.392429</td>\n",
       "      <td>-0.382606</td>\n",
       "      <td>1.273912</td>\n",
       "      <td>122.346843</td>\n",
       "    </tr>\n",
       "    <tr>\n",
       "      <th>99997</th>\n",
       "      <td>3rnvd</td>\n",
       "      <td>1.029585</td>\n",
       "      <td>0.018787</td>\n",
       "      <td>-1.348308</td>\n",
       "      <td>64.375443</td>\n",
       "    </tr>\n",
       "    <tr>\n",
       "      <th>99998</th>\n",
       "      <td>7kl59</td>\n",
       "      <td>0.998163</td>\n",
       "      <td>-0.528582</td>\n",
       "      <td>1.583869</td>\n",
       "      <td>74.040764</td>\n",
       "    </tr>\n",
       "    <tr>\n",
       "      <th>99999</th>\n",
       "      <td>1CWhH</td>\n",
       "      <td>1.764754</td>\n",
       "      <td>-0.266417</td>\n",
       "      <td>5.722849</td>\n",
       "      <td>149.633246</td>\n",
       "    </tr>\n",
       "  </tbody>\n",
       "</table>\n",
       "<p>100000 rows × 5 columns</p>\n",
       "</div>"
      ],
      "text/plain": [
       "          id        f0        f1        f2     product\n",
       "0      txEyH  0.705745 -0.497823  1.221170  105.280062\n",
       "1      2acmU  1.334711 -0.340164  4.365080   73.037750\n",
       "2      409Wp  1.022732  0.151990  1.419926   85.265647\n",
       "3      iJLyR -0.032172  0.139033  2.978566  168.620776\n",
       "4      Xdl7t  1.988431  0.155413  4.751769  154.036647\n",
       "...      ...       ...       ...       ...         ...\n",
       "99995  DLsed  0.971957  0.370953  6.075346  110.744026\n",
       "99996  QKivN  1.392429 -0.382606  1.273912  122.346843\n",
       "99997  3rnvd  1.029585  0.018787 -1.348308   64.375443\n",
       "99998  7kl59  0.998163 -0.528582  1.583869   74.040764\n",
       "99999  1CWhH  1.764754 -0.266417  5.722849  149.633246\n",
       "\n",
       "[100000 rows x 5 columns]"
      ]
     },
     "metadata": {},
     "output_type": "display_data"
    },
    {
     "name": "stdout",
     "output_type": "stream",
     "text": [
      "<class 'pandas.core.frame.DataFrame'>\n",
      "RangeIndex: 100000 entries, 0 to 99999\n",
      "Data columns (total 5 columns):\n",
      " #   Column   Non-Null Count   Dtype  \n",
      "---  ------   --------------   -----  \n",
      " 0   id       100000 non-null  object \n",
      " 1   f0       100000 non-null  float64\n",
      " 2   f1       100000 non-null  float64\n",
      " 3   f2       100000 non-null  float64\n",
      " 4   product  100000 non-null  float64\n",
      "dtypes: float64(4), object(1)\n",
      "memory usage: 3.8+ MB\n",
      "None\n"
     ]
    }
   ],
   "source": [
    "geo_data_0 = pd.read_csv('/datasets/geo_data_0.csv')\n",
    "display(geo_data_0)\n",
    "print(geo_data_0.info())"
   ]
  },
  {
   "cell_type": "code",
   "execution_count": 3,
   "metadata": {},
   "outputs": [
    {
     "data": {
      "text/html": [
       "<div>\n",
       "<style scoped>\n",
       "    .dataframe tbody tr th:only-of-type {\n",
       "        vertical-align: middle;\n",
       "    }\n",
       "\n",
       "    .dataframe tbody tr th {\n",
       "        vertical-align: top;\n",
       "    }\n",
       "\n",
       "    .dataframe thead th {\n",
       "        text-align: right;\n",
       "    }\n",
       "</style>\n",
       "<table border=\"1\" class=\"dataframe\">\n",
       "  <thead>\n",
       "    <tr style=\"text-align: right;\">\n",
       "      <th></th>\n",
       "      <th>id</th>\n",
       "      <th>f0</th>\n",
       "      <th>f1</th>\n",
       "      <th>f2</th>\n",
       "      <th>product</th>\n",
       "    </tr>\n",
       "  </thead>\n",
       "  <tbody>\n",
       "    <tr>\n",
       "      <th>0</th>\n",
       "      <td>kBEdx</td>\n",
       "      <td>-15.001348</td>\n",
       "      <td>-8.276000</td>\n",
       "      <td>-0.005876</td>\n",
       "      <td>3.179103</td>\n",
       "    </tr>\n",
       "    <tr>\n",
       "      <th>1</th>\n",
       "      <td>62mP7</td>\n",
       "      <td>14.272088</td>\n",
       "      <td>-3.475083</td>\n",
       "      <td>0.999183</td>\n",
       "      <td>26.953261</td>\n",
       "    </tr>\n",
       "    <tr>\n",
       "      <th>2</th>\n",
       "      <td>vyE1P</td>\n",
       "      <td>6.263187</td>\n",
       "      <td>-5.948386</td>\n",
       "      <td>5.001160</td>\n",
       "      <td>134.766305</td>\n",
       "    </tr>\n",
       "    <tr>\n",
       "      <th>3</th>\n",
       "      <td>KcrkZ</td>\n",
       "      <td>-13.081196</td>\n",
       "      <td>-11.506057</td>\n",
       "      <td>4.999415</td>\n",
       "      <td>137.945408</td>\n",
       "    </tr>\n",
       "    <tr>\n",
       "      <th>4</th>\n",
       "      <td>AHL4O</td>\n",
       "      <td>12.702195</td>\n",
       "      <td>-8.147433</td>\n",
       "      <td>5.004363</td>\n",
       "      <td>134.766305</td>\n",
       "    </tr>\n",
       "    <tr>\n",
       "      <th>...</th>\n",
       "      <td>...</td>\n",
       "      <td>...</td>\n",
       "      <td>...</td>\n",
       "      <td>...</td>\n",
       "      <td>...</td>\n",
       "    </tr>\n",
       "    <tr>\n",
       "      <th>99995</th>\n",
       "      <td>QywKC</td>\n",
       "      <td>9.535637</td>\n",
       "      <td>-6.878139</td>\n",
       "      <td>1.998296</td>\n",
       "      <td>53.906522</td>\n",
       "    </tr>\n",
       "    <tr>\n",
       "      <th>99996</th>\n",
       "      <td>ptvty</td>\n",
       "      <td>-10.160631</td>\n",
       "      <td>-12.558096</td>\n",
       "      <td>5.005581</td>\n",
       "      <td>137.945408</td>\n",
       "    </tr>\n",
       "    <tr>\n",
       "      <th>99997</th>\n",
       "      <td>09gWa</td>\n",
       "      <td>-7.378891</td>\n",
       "      <td>-3.084104</td>\n",
       "      <td>4.998651</td>\n",
       "      <td>137.945408</td>\n",
       "    </tr>\n",
       "    <tr>\n",
       "      <th>99998</th>\n",
       "      <td>rqwUm</td>\n",
       "      <td>0.665714</td>\n",
       "      <td>-6.152593</td>\n",
       "      <td>1.000146</td>\n",
       "      <td>30.132364</td>\n",
       "    </tr>\n",
       "    <tr>\n",
       "      <th>99999</th>\n",
       "      <td>relB0</td>\n",
       "      <td>-3.426139</td>\n",
       "      <td>-7.794274</td>\n",
       "      <td>-0.003299</td>\n",
       "      <td>3.179103</td>\n",
       "    </tr>\n",
       "  </tbody>\n",
       "</table>\n",
       "<p>100000 rows × 5 columns</p>\n",
       "</div>"
      ],
      "text/plain": [
       "          id         f0         f1        f2     product\n",
       "0      kBEdx -15.001348  -8.276000 -0.005876    3.179103\n",
       "1      62mP7  14.272088  -3.475083  0.999183   26.953261\n",
       "2      vyE1P   6.263187  -5.948386  5.001160  134.766305\n",
       "3      KcrkZ -13.081196 -11.506057  4.999415  137.945408\n",
       "4      AHL4O  12.702195  -8.147433  5.004363  134.766305\n",
       "...      ...        ...        ...       ...         ...\n",
       "99995  QywKC   9.535637  -6.878139  1.998296   53.906522\n",
       "99996  ptvty -10.160631 -12.558096  5.005581  137.945408\n",
       "99997  09gWa  -7.378891  -3.084104  4.998651  137.945408\n",
       "99998  rqwUm   0.665714  -6.152593  1.000146   30.132364\n",
       "99999  relB0  -3.426139  -7.794274 -0.003299    3.179103\n",
       "\n",
       "[100000 rows x 5 columns]"
      ]
     },
     "metadata": {},
     "output_type": "display_data"
    },
    {
     "name": "stdout",
     "output_type": "stream",
     "text": [
      "<class 'pandas.core.frame.DataFrame'>\n",
      "RangeIndex: 100000 entries, 0 to 99999\n",
      "Data columns (total 5 columns):\n",
      " #   Column   Non-Null Count   Dtype  \n",
      "---  ------   --------------   -----  \n",
      " 0   id       100000 non-null  object \n",
      " 1   f0       100000 non-null  float64\n",
      " 2   f1       100000 non-null  float64\n",
      " 3   f2       100000 non-null  float64\n",
      " 4   product  100000 non-null  float64\n",
      "dtypes: float64(4), object(1)\n",
      "memory usage: 3.8+ MB\n",
      "None\n"
     ]
    }
   ],
   "source": [
    "geo_data_1 = pd.read_csv('/datasets/geo_data_1.csv')\n",
    "display(geo_data_1)\n",
    "print(geo_data_1.info())"
   ]
  },
  {
   "cell_type": "code",
   "execution_count": 4,
   "metadata": {},
   "outputs": [
    {
     "data": {
      "text/html": [
       "<div>\n",
       "<style scoped>\n",
       "    .dataframe tbody tr th:only-of-type {\n",
       "        vertical-align: middle;\n",
       "    }\n",
       "\n",
       "    .dataframe tbody tr th {\n",
       "        vertical-align: top;\n",
       "    }\n",
       "\n",
       "    .dataframe thead th {\n",
       "        text-align: right;\n",
       "    }\n",
       "</style>\n",
       "<table border=\"1\" class=\"dataframe\">\n",
       "  <thead>\n",
       "    <tr style=\"text-align: right;\">\n",
       "      <th></th>\n",
       "      <th>id</th>\n",
       "      <th>f0</th>\n",
       "      <th>f1</th>\n",
       "      <th>f2</th>\n",
       "      <th>product</th>\n",
       "    </tr>\n",
       "  </thead>\n",
       "  <tbody>\n",
       "    <tr>\n",
       "      <th>0</th>\n",
       "      <td>fwXo0</td>\n",
       "      <td>-1.146987</td>\n",
       "      <td>0.963328</td>\n",
       "      <td>-0.828965</td>\n",
       "      <td>27.758673</td>\n",
       "    </tr>\n",
       "    <tr>\n",
       "      <th>1</th>\n",
       "      <td>WJtFt</td>\n",
       "      <td>0.262778</td>\n",
       "      <td>0.269839</td>\n",
       "      <td>-2.530187</td>\n",
       "      <td>56.069697</td>\n",
       "    </tr>\n",
       "    <tr>\n",
       "      <th>2</th>\n",
       "      <td>ovLUW</td>\n",
       "      <td>0.194587</td>\n",
       "      <td>0.289035</td>\n",
       "      <td>-5.586433</td>\n",
       "      <td>62.871910</td>\n",
       "    </tr>\n",
       "    <tr>\n",
       "      <th>3</th>\n",
       "      <td>q6cA6</td>\n",
       "      <td>2.236060</td>\n",
       "      <td>-0.553760</td>\n",
       "      <td>0.930038</td>\n",
       "      <td>114.572842</td>\n",
       "    </tr>\n",
       "    <tr>\n",
       "      <th>4</th>\n",
       "      <td>WPMUX</td>\n",
       "      <td>-0.515993</td>\n",
       "      <td>1.716266</td>\n",
       "      <td>5.899011</td>\n",
       "      <td>149.600746</td>\n",
       "    </tr>\n",
       "    <tr>\n",
       "      <th>...</th>\n",
       "      <td>...</td>\n",
       "      <td>...</td>\n",
       "      <td>...</td>\n",
       "      <td>...</td>\n",
       "      <td>...</td>\n",
       "    </tr>\n",
       "    <tr>\n",
       "      <th>99995</th>\n",
       "      <td>4GxBu</td>\n",
       "      <td>-1.777037</td>\n",
       "      <td>1.125220</td>\n",
       "      <td>6.263374</td>\n",
       "      <td>172.327046</td>\n",
       "    </tr>\n",
       "    <tr>\n",
       "      <th>99996</th>\n",
       "      <td>YKFjq</td>\n",
       "      <td>-1.261523</td>\n",
       "      <td>-0.894828</td>\n",
       "      <td>2.524545</td>\n",
       "      <td>138.748846</td>\n",
       "    </tr>\n",
       "    <tr>\n",
       "      <th>99997</th>\n",
       "      <td>tKPY3</td>\n",
       "      <td>-1.199934</td>\n",
       "      <td>-2.957637</td>\n",
       "      <td>5.219411</td>\n",
       "      <td>157.080080</td>\n",
       "    </tr>\n",
       "    <tr>\n",
       "      <th>99998</th>\n",
       "      <td>nmxp2</td>\n",
       "      <td>-2.419896</td>\n",
       "      <td>2.417221</td>\n",
       "      <td>-5.548444</td>\n",
       "      <td>51.795253</td>\n",
       "    </tr>\n",
       "    <tr>\n",
       "      <th>99999</th>\n",
       "      <td>V9kWn</td>\n",
       "      <td>-2.551421</td>\n",
       "      <td>-2.025625</td>\n",
       "      <td>6.090891</td>\n",
       "      <td>102.775767</td>\n",
       "    </tr>\n",
       "  </tbody>\n",
       "</table>\n",
       "<p>100000 rows × 5 columns</p>\n",
       "</div>"
      ],
      "text/plain": [
       "          id        f0        f1        f2     product\n",
       "0      fwXo0 -1.146987  0.963328 -0.828965   27.758673\n",
       "1      WJtFt  0.262778  0.269839 -2.530187   56.069697\n",
       "2      ovLUW  0.194587  0.289035 -5.586433   62.871910\n",
       "3      q6cA6  2.236060 -0.553760  0.930038  114.572842\n",
       "4      WPMUX -0.515993  1.716266  5.899011  149.600746\n",
       "...      ...       ...       ...       ...         ...\n",
       "99995  4GxBu -1.777037  1.125220  6.263374  172.327046\n",
       "99996  YKFjq -1.261523 -0.894828  2.524545  138.748846\n",
       "99997  tKPY3 -1.199934 -2.957637  5.219411  157.080080\n",
       "99998  nmxp2 -2.419896  2.417221 -5.548444   51.795253\n",
       "99999  V9kWn -2.551421 -2.025625  6.090891  102.775767\n",
       "\n",
       "[100000 rows x 5 columns]"
      ]
     },
     "metadata": {},
     "output_type": "display_data"
    },
    {
     "name": "stdout",
     "output_type": "stream",
     "text": [
      "<class 'pandas.core.frame.DataFrame'>\n",
      "RangeIndex: 100000 entries, 0 to 99999\n",
      "Data columns (total 5 columns):\n",
      " #   Column   Non-Null Count   Dtype  \n",
      "---  ------   --------------   -----  \n",
      " 0   id       100000 non-null  object \n",
      " 1   f0       100000 non-null  float64\n",
      " 2   f1       100000 non-null  float64\n",
      " 3   f2       100000 non-null  float64\n",
      " 4   product  100000 non-null  float64\n",
      "dtypes: float64(4), object(1)\n",
      "memory usage: 3.8+ MB\n",
      "None\n"
     ]
    }
   ],
   "source": [
    "geo_data_2 = pd.read_csv('/datasets/geo_data_2.csv')\n",
    "display(geo_data_2)\n",
    "print(geo_data_2.info())"
   ]
  },
  {
   "cell_type": "markdown",
   "metadata": {},
   "source": [
    "**Вывод по загруженным данным**\n",
    "Данных для изучения достаточно, на первый взгляд пропусков нет. Названия столбцов корректны. Рассмотрим более детально все выгрузки."
   ]
  },
  {
   "cell_type": "markdown",
   "metadata": {},
   "source": [
    "**Предобработка данных**"
   ]
  },
  {
   "cell_type": "markdown",
   "metadata": {},
   "source": [
    "Проверим на наличие явных дубликатов "
   ]
  },
  {
   "cell_type": "code",
   "execution_count": 5,
   "metadata": {},
   "outputs": [
    {
     "name": "stdout",
     "output_type": "stream",
     "text": [
      "0\n",
      "0\n",
      "0\n"
     ]
    }
   ],
   "source": [
    "print (geo_data_0.duplicated().sum())\n",
    "print (geo_data_1.duplicated().sum())\n",
    "print (geo_data_2.duplicated().sum())"
   ]
  },
  {
   "cell_type": "markdown",
   "metadata": {},
   "source": [
    "Дубликатов нет"
   ]
  },
  {
   "cell_type": "markdown",
   "metadata": {},
   "source": [
    "**Исследовательский анализ**"
   ]
  },
  {
   "cell_type": "code",
   "execution_count": 6,
   "metadata": {},
   "outputs": [
    {
     "data": {
      "image/png": "[encoded data removed]",
      "text/plain": [
       "<Figure size 864x504 with 1 Axes>"
      ]
     },
     "metadata": {
      "needs_background": "light"
     },
     "output_type": "display_data"
    }
   ],
   "source": [
    "plt.figure(figsize=(12, 7))\n",
    "sns.set_style(\"darkgrid\")\n",
    "colors = ['orange', 'blue', 'green']\n",
    "\n",
    "ax=geo_data_0['product'].plot(kind='hist', grid=True, legend=True, alpha=0.5, histtype='stepfilled', color=colors[0], label='1-ый регион')\n",
    "ax1=geo_data_1['product'].plot(kind='hist',grid=True, legend=True, alpha=0.5, histtype='stepfilled', color=colors[1], label='2-ой регион', ax=ax)\n",
    "ax2=geo_data_2['product'].plot(kind='hist',grid=True, legend=True, alpha=0.5, histtype='stepfilled', color=colors[2], label='3-ий регион', ax=ax1)\n",
    "\n",
    "plt.title('Графики распределения запасов сырья в регионах')\n",
    "plt.xlabel('Распределение данных по запасам сырья в регионах')\n",
    "plt.ylabel('Запасы сырья, тыс.баррелей')\n",
    "plt.show()"
   ]
  },
  {
   "cell_type": "markdown",
   "metadata": {},
   "source": [
    "Видим нормальное распределение, выбросы не наблюдаются. Очень схожи регион 1 и 3 по запасам сырья."
   ]
  },
  {
   "cell_type": "markdown",
   "metadata": {},
   "source": [
    "**Посмотрим как признаки коррелируют**"
   ]
  },
  {
   "cell_type": "code",
   "execution_count": 7,
   "metadata": {},
   "outputs": [
    {
     "data": {
      "text/html": [
       "<style  type=\"text/css\" >\n",
       "#T_8aff9_row0_col0,#T_8aff9_row1_col1,#T_8aff9_row2_col2,#T_8aff9_row3_col3{\n",
       "            background-color:  #b40426;\n",
       "            color:  #f1f1f1;\n",
       "        }#T_8aff9_row0_col1,#T_8aff9_row0_col2,#T_8aff9_row1_col0,#T_8aff9_row1_col3{\n",
       "            background-color:  #3b4cc0;\n",
       "            color:  #f1f1f1;\n",
       "        }#T_8aff9_row0_col3{\n",
       "            background-color:  #98b9ff;\n",
       "            color:  #000000;\n",
       "        }#T_8aff9_row1_col2{\n",
       "            background-color:  #3c4ec2;\n",
       "            color:  #f1f1f1;\n",
       "        }#T_8aff9_row2_col0{\n",
       "            background-color:  #9fbfff;\n",
       "            color:  #000000;\n",
       "        }#T_8aff9_row2_col1{\n",
       "            background-color:  #a1c0ff;\n",
       "            color:  #000000;\n",
       "        }#T_8aff9_row2_col3{\n",
       "            background-color:  #edd2c3;\n",
       "            color:  #000000;\n",
       "        }#T_8aff9_row3_col0{\n",
       "            background-color:  #c1d4f4;\n",
       "            color:  #000000;\n",
       "        }#T_8aff9_row3_col1{\n",
       "            background-color:  #7295f4;\n",
       "            color:  #000000;\n",
       "        }#T_8aff9_row3_col2{\n",
       "            background-color:  #d9dce1;\n",
       "            color:  #000000;\n",
       "        }</style><table id=\"T_8aff9_\" ><thead>    <tr>        <th class=\"blank level0\" ></th>        <th class=\"col_heading level0 col0\" >f0</th>        <th class=\"col_heading level0 col1\" >f1</th>        <th class=\"col_heading level0 col2\" >f2</th>        <th class=\"col_heading level0 col3\" >product</th>    </tr></thead><tbody>\n",
       "                <tr>\n",
       "                        <th id=\"T_8aff9_level0_row0\" class=\"row_heading level0 row0\" >f0</th>\n",
       "                        <td id=\"T_8aff9_row0_col0\" class=\"data row0 col0\" >1.000000</td>\n",
       "                        <td id=\"T_8aff9_row0_col1\" class=\"data row0 col1\" >-0.440723</td>\n",
       "                        <td id=\"T_8aff9_row0_col2\" class=\"data row0 col2\" >-0.003153</td>\n",
       "                        <td id=\"T_8aff9_row0_col3\" class=\"data row0 col3\" >0.143536</td>\n",
       "            </tr>\n",
       "            <tr>\n",
       "                        <th id=\"T_8aff9_level0_row1\" class=\"row_heading level0 row1\" >f1</th>\n",
       "                        <td id=\"T_8aff9_row1_col0\" class=\"data row1 col0\" >-0.440723</td>\n",
       "                        <td id=\"T_8aff9_row1_col1\" class=\"data row1 col1\" >1.000000</td>\n",
       "                        <td id=\"T_8aff9_row1_col2\" class=\"data row1 col2\" >0.001724</td>\n",
       "                        <td id=\"T_8aff9_row1_col3\" class=\"data row1 col3\" >-0.192356</td>\n",
       "            </tr>\n",
       "            <tr>\n",
       "                        <th id=\"T_8aff9_level0_row2\" class=\"row_heading level0 row2\" >f2</th>\n",
       "                        <td id=\"T_8aff9_row2_col0\" class=\"data row2 col0\" >-0.003153</td>\n",
       "                        <td id=\"T_8aff9_row2_col1\" class=\"data row2 col1\" >0.001724</td>\n",
       "                        <td id=\"T_8aff9_row2_col2\" class=\"data row2 col2\" >1.000000</td>\n",
       "                        <td id=\"T_8aff9_row2_col3\" class=\"data row2 col3\" >0.483663</td>\n",
       "            </tr>\n",
       "            <tr>\n",
       "                        <th id=\"T_8aff9_level0_row3\" class=\"row_heading level0 row3\" >product</th>\n",
       "                        <td id=\"T_8aff9_row3_col0\" class=\"data row3 col0\" >0.143536</td>\n",
       "                        <td id=\"T_8aff9_row3_col1\" class=\"data row3 col1\" >-0.192356</td>\n",
       "                        <td id=\"T_8aff9_row3_col2\" class=\"data row3 col2\" >0.483663</td>\n",
       "                        <td id=\"T_8aff9_row3_col3\" class=\"data row3 col3\" >1.000000</td>\n",
       "            </tr>\n",
       "    </tbody></table>"
      ],
      "text/plain": [
       "<pandas.io.formats.style.Styler at 0x7f091d62b9d0>"
      ]
     },
     "execution_count": 7,
     "metadata": {},
     "output_type": "execute_result"
    }
   ],
   "source": [
    "geo_data_0.corr().style.background_gradient(cmap='coolwarm')"
   ]
  },
  {
   "cell_type": "code",
   "execution_count": 8,
   "metadata": {},
   "outputs": [
    {
     "data": {
      "text/html": [
       "<style  type=\"text/css\" >\n",
       "#T_b93c5_row0_col0,#T_b93c5_row1_col1,#T_b93c5_row2_col2,#T_b93c5_row2_col3,#T_b93c5_row3_col2,#T_b93c5_row3_col3{\n",
       "            background-color:  #b40426;\n",
       "            color:  #f1f1f1;\n",
       "        }#T_b93c5_row0_col1{\n",
       "            background-color:  #779af7;\n",
       "            color:  #000000;\n",
       "        }#T_b93c5_row0_col2,#T_b93c5_row0_col3,#T_b93c5_row1_col2,#T_b93c5_row3_col0,#T_b93c5_row3_col1{\n",
       "            background-color:  #3b4cc0;\n",
       "            color:  #f1f1f1;\n",
       "        }#T_b93c5_row1_col0{\n",
       "            background-color:  #7da0f9;\n",
       "            color:  #000000;\n",
       "        }#T_b93c5_row1_col3{\n",
       "            background-color:  #4055c8;\n",
       "            color:  #f1f1f1;\n",
       "        }#T_b93c5_row2_col0{\n",
       "            background-color:  #4358cb;\n",
       "            color:  #f1f1f1;\n",
       "        }#T_b93c5_row2_col1{\n",
       "            background-color:  #3c4ec2;\n",
       "            color:  #f1f1f1;\n",
       "        }</style><table id=\"T_b93c5_\" ><thead>    <tr>        <th class=\"blank level0\" ></th>        <th class=\"col_heading level0 col0\" >f0</th>        <th class=\"col_heading level0 col1\" >f1</th>        <th class=\"col_heading level0 col2\" >f2</th>        <th class=\"col_heading level0 col3\" >product</th>    </tr></thead><tbody>\n",
       "                <tr>\n",
       "                        <th id=\"T_b93c5_level0_row0\" class=\"row_heading level0 row0\" >f0</th>\n",
       "                        <td id=\"T_b93c5_row0_col0\" class=\"data row0 col0\" >1.000000</td>\n",
       "                        <td id=\"T_b93c5_row0_col1\" class=\"data row0 col1\" >0.182287</td>\n",
       "                        <td id=\"T_b93c5_row0_col2\" class=\"data row0 col2\" >-0.001777</td>\n",
       "                        <td id=\"T_b93c5_row0_col3\" class=\"data row0 col3\" >-0.030491</td>\n",
       "            </tr>\n",
       "            <tr>\n",
       "                        <th id=\"T_b93c5_level0_row1\" class=\"row_heading level0 row1\" >f1</th>\n",
       "                        <td id=\"T_b93c5_row1_col0\" class=\"data row1 col0\" >0.182287</td>\n",
       "                        <td id=\"T_b93c5_row1_col1\" class=\"data row1 col1\" >1.000000</td>\n",
       "                        <td id=\"T_b93c5_row1_col2\" class=\"data row1 col2\" >-0.002595</td>\n",
       "                        <td id=\"T_b93c5_row1_col3\" class=\"data row1 col3\" >-0.010155</td>\n",
       "            </tr>\n",
       "            <tr>\n",
       "                        <th id=\"T_b93c5_level0_row2\" class=\"row_heading level0 row2\" >f2</th>\n",
       "                        <td id=\"T_b93c5_row2_col0\" class=\"data row2 col0\" >-0.001777</td>\n",
       "                        <td id=\"T_b93c5_row2_col1\" class=\"data row2 col1\" >-0.002595</td>\n",
       "                        <td id=\"T_b93c5_row2_col2\" class=\"data row2 col2\" >1.000000</td>\n",
       "                        <td id=\"T_b93c5_row2_col3\" class=\"data row2 col3\" >0.999397</td>\n",
       "            </tr>\n",
       "            <tr>\n",
       "                        <th id=\"T_b93c5_level0_row3\" class=\"row_heading level0 row3\" >product</th>\n",
       "                        <td id=\"T_b93c5_row3_col0\" class=\"data row3 col0\" >-0.030491</td>\n",
       "                        <td id=\"T_b93c5_row3_col1\" class=\"data row3 col1\" >-0.010155</td>\n",
       "                        <td id=\"T_b93c5_row3_col2\" class=\"data row3 col2\" >0.999397</td>\n",
       "                        <td id=\"T_b93c5_row3_col3\" class=\"data row3 col3\" >1.000000</td>\n",
       "            </tr>\n",
       "    </tbody></table>"
      ],
      "text/plain": [
       "<pandas.io.formats.style.Styler at 0x7f091d62b7f0>"
      ]
     },
     "execution_count": 8,
     "metadata": {},
     "output_type": "execute_result"
    }
   ],
   "source": [
    "geo_data_1.corr().style.background_gradient(cmap='coolwarm')"
   ]
  },
  {
   "cell_type": "code",
   "execution_count": 9,
   "metadata": {},
   "outputs": [
    {
     "data": {
      "text/html": [
       "<style  type=\"text/css\" >\n",
       "#T_83dba_row0_col0,#T_83dba_row1_col1,#T_83dba_row2_col2,#T_83dba_row3_col3{\n",
       "            background-color:  #b40426;\n",
       "            color:  #f1f1f1;\n",
       "        }#T_83dba_row0_col1,#T_83dba_row0_col2,#T_83dba_row0_col3,#T_83dba_row1_col0,#T_83dba_row1_col2,#T_83dba_row1_col3,#T_83dba_row2_col0,#T_83dba_row2_col1,#T_83dba_row3_col0,#T_83dba_row3_col1{\n",
       "            background-color:  #3b4cc0;\n",
       "            color:  #f1f1f1;\n",
       "        }#T_83dba_row2_col3,#T_83dba_row3_col2{\n",
       "            background-color:  #cedaeb;\n",
       "            color:  #000000;\n",
       "        }</style><table id=\"T_83dba_\" ><thead>    <tr>        <th class=\"blank level0\" ></th>        <th class=\"col_heading level0 col0\" >f0</th>        <th class=\"col_heading level0 col1\" >f1</th>        <th class=\"col_heading level0 col2\" >f2</th>        <th class=\"col_heading level0 col3\" >product</th>    </tr></thead><tbody>\n",
       "                <tr>\n",
       "                        <th id=\"T_83dba_level0_row0\" class=\"row_heading level0 row0\" >f0</th>\n",
       "                        <td id=\"T_83dba_row0_col0\" class=\"data row0 col0\" >1.000000</td>\n",
       "                        <td id=\"T_83dba_row0_col1\" class=\"data row0 col1\" >0.000528</td>\n",
       "                        <td id=\"T_83dba_row0_col2\" class=\"data row0 col2\" >-0.000448</td>\n",
       "                        <td id=\"T_83dba_row0_col3\" class=\"data row0 col3\" >-0.001987</td>\n",
       "            </tr>\n",
       "            <tr>\n",
       "                        <th id=\"T_83dba_level0_row1\" class=\"row_heading level0 row1\" >f1</th>\n",
       "                        <td id=\"T_83dba_row1_col0\" class=\"data row1 col0\" >0.000528</td>\n",
       "                        <td id=\"T_83dba_row1_col1\" class=\"data row1 col1\" >1.000000</td>\n",
       "                        <td id=\"T_83dba_row1_col2\" class=\"data row1 col2\" >0.000779</td>\n",
       "                        <td id=\"T_83dba_row1_col3\" class=\"data row1 col3\" >-0.001012</td>\n",
       "            </tr>\n",
       "            <tr>\n",
       "                        <th id=\"T_83dba_level0_row2\" class=\"row_heading level0 row2\" >f2</th>\n",
       "                        <td id=\"T_83dba_row2_col0\" class=\"data row2 col0\" >-0.000448</td>\n",
       "                        <td id=\"T_83dba_row2_col1\" class=\"data row2 col1\" >0.000779</td>\n",
       "                        <td id=\"T_83dba_row2_col2\" class=\"data row2 col2\" >1.000000</td>\n",
       "                        <td id=\"T_83dba_row2_col3\" class=\"data row2 col3\" >0.445871</td>\n",
       "            </tr>\n",
       "            <tr>\n",
       "                        <th id=\"T_83dba_level0_row3\" class=\"row_heading level0 row3\" >product</th>\n",
       "                        <td id=\"T_83dba_row3_col0\" class=\"data row3 col0\" >-0.001987</td>\n",
       "                        <td id=\"T_83dba_row3_col1\" class=\"data row3 col1\" >-0.001012</td>\n",
       "                        <td id=\"T_83dba_row3_col2\" class=\"data row3 col2\" >0.445871</td>\n",
       "                        <td id=\"T_83dba_row3_col3\" class=\"data row3 col3\" >1.000000</td>\n",
       "            </tr>\n",
       "    </tbody></table>"
      ],
      "text/plain": [
       "<pandas.io.formats.style.Styler at 0x7f091d48c700>"
      ]
     },
     "execution_count": 9,
     "metadata": {},
     "output_type": "execute_result"
    }
   ],
   "source": [
    "geo_data_2.corr().style.background_gradient(cmap='coolwarm')"
   ]
  },
  {
   "cell_type": "markdown",
   "metadata": {},
   "source": [
    "Для датасета geo_data_1 наблюдается крайне сильная прямая зависимость между метриками f2 и product, с коэффициентом корреляции Пирсона, равным 1. Для остальных датасетов, отмечается умеренная линейная зависимость с коэффициентами корреляции около 0.4 и 0.5 соответственно."
   ]
  },
  {
   "cell_type": "markdown",
   "metadata": {},
   "source": [
    "**Вывод по 1-ой части**\n",
    "\n",
    "Для подготовки данных к дальнейшей работе были выполнены следующие шаги:\n",
    "- Загружены три файла с данными;\n",
    "- Выгрузки проверены на дубликаты (отсутствуют);\n",
    "- Наименования столбцов корректные;\n",
    "- Пропуски отсутствуют;\n",
    "- Проведен исследовательский анализ;\n",
    "- Признаки рассмотрены на мультиколлинеарность. Для датасета geo_data_1 наблюдается крайне сильная прямая; зависимость между метриками f2 и product;\n",
    "- Выявлено, что категориальные признаки отсутствуют."
   ]
  },
  {
   "cell_type": "markdown",
   "metadata": {},
   "source": [
    "## Обучение и проверка модели"
   ]
  },
  {
   "cell_type": "markdown",
   "metadata": {},
   "source": [
    "Удалим столбцы id, т.к. они не влияют на обучение модели "
   ]
  },
  {
   "cell_type": "code",
   "execution_count": 10,
   "metadata": {},
   "outputs": [],
   "source": [
    "geo_data_0 = geo_data_0.drop('id', axis = 1)\n",
    "geo_data_1 = geo_data_1.drop('id', axis = 1)\n",
    "geo_data_2 = geo_data_2.drop('id', axis = 1)\n"
   ]
  },
  {
   "cell_type": "code",
   "execution_count": 11,
   "metadata": {},
   "outputs": [],
   "source": [
    "RANDOM_STATE = 42"
   ]
  },
  {
   "cell_type": "markdown",
   "metadata": {},
   "source": [
    "Поделим данные на обучающую и валидационную выборки в соотношении 75:25"
   ]
  },
  {
   "cell_type": "code",
   "execution_count": 12,
   "metadata": {},
   "outputs": [
    {
     "data": {
      "text/html": [
       "<div>\n",
       "<style scoped>\n",
       "    .dataframe tbody tr th:only-of-type {\n",
       "        vertical-align: middle;\n",
       "    }\n",
       "\n",
       "    .dataframe tbody tr th {\n",
       "        vertical-align: top;\n",
       "    }\n",
       "\n",
       "    .dataframe thead th {\n",
       "        text-align: right;\n",
       "    }\n",
       "</style>\n",
       "<table border=\"1\" class=\"dataframe\">\n",
       "  <thead>\n",
       "    <tr style=\"text-align: right;\">\n",
       "      <th></th>\n",
       "      <th>f0</th>\n",
       "      <th>f1</th>\n",
       "      <th>f2</th>\n",
       "    </tr>\n",
       "  </thead>\n",
       "  <tbody>\n",
       "    <tr>\n",
       "      <th>0</th>\n",
       "      <td>-1.146987</td>\n",
       "      <td>0.963328</td>\n",
       "      <td>-0.828965</td>\n",
       "    </tr>\n",
       "    <tr>\n",
       "      <th>1</th>\n",
       "      <td>0.262778</td>\n",
       "      <td>0.269839</td>\n",
       "      <td>-2.530187</td>\n",
       "    </tr>\n",
       "    <tr>\n",
       "      <th>2</th>\n",
       "      <td>0.194587</td>\n",
       "      <td>0.289035</td>\n",
       "      <td>-5.586433</td>\n",
       "    </tr>\n",
       "    <tr>\n",
       "      <th>3</th>\n",
       "      <td>2.236060</td>\n",
       "      <td>-0.553760</td>\n",
       "      <td>0.930038</td>\n",
       "    </tr>\n",
       "    <tr>\n",
       "      <th>4</th>\n",
       "      <td>-0.515993</td>\n",
       "      <td>1.716266</td>\n",
       "      <td>5.899011</td>\n",
       "    </tr>\n",
       "    <tr>\n",
       "      <th>...</th>\n",
       "      <td>...</td>\n",
       "      <td>...</td>\n",
       "      <td>...</td>\n",
       "    </tr>\n",
       "    <tr>\n",
       "      <th>99995</th>\n",
       "      <td>-1.777037</td>\n",
       "      <td>1.125220</td>\n",
       "      <td>6.263374</td>\n",
       "    </tr>\n",
       "    <tr>\n",
       "      <th>99996</th>\n",
       "      <td>-1.261523</td>\n",
       "      <td>-0.894828</td>\n",
       "      <td>2.524545</td>\n",
       "    </tr>\n",
       "    <tr>\n",
       "      <th>99997</th>\n",
       "      <td>-1.199934</td>\n",
       "      <td>-2.957637</td>\n",
       "      <td>5.219411</td>\n",
       "    </tr>\n",
       "    <tr>\n",
       "      <th>99998</th>\n",
       "      <td>-2.419896</td>\n",
       "      <td>2.417221</td>\n",
       "      <td>-5.548444</td>\n",
       "    </tr>\n",
       "    <tr>\n",
       "      <th>99999</th>\n",
       "      <td>-2.551421</td>\n",
       "      <td>-2.025625</td>\n",
       "      <td>6.090891</td>\n",
       "    </tr>\n",
       "  </tbody>\n",
       "</table>\n",
       "<p>100000 rows × 3 columns</p>\n",
       "</div>"
      ],
      "text/plain": [
       "             f0        f1        f2\n",
       "0     -1.146987  0.963328 -0.828965\n",
       "1      0.262778  0.269839 -2.530187\n",
       "2      0.194587  0.289035 -5.586433\n",
       "3      2.236060 -0.553760  0.930038\n",
       "4     -0.515993  1.716266  5.899011\n",
       "...         ...       ...       ...\n",
       "99995 -1.777037  1.125220  6.263374\n",
       "99996 -1.261523 -0.894828  2.524545\n",
       "99997 -1.199934 -2.957637  5.219411\n",
       "99998 -2.419896  2.417221 -5.548444\n",
       "99999 -2.551421 -2.025625  6.090891\n",
       "\n",
       "[100000 rows x 3 columns]"
      ]
     },
     "metadata": {},
     "output_type": "display_data"
    },
    {
     "data": {
      "text/plain": [
       "0         27.758673\n",
       "1         56.069697\n",
       "2         62.871910\n",
       "3        114.572842\n",
       "4        149.600746\n",
       "            ...    \n",
       "99995    172.327046\n",
       "99996    138.748846\n",
       "99997    157.080080\n",
       "99998     51.795253\n",
       "99999    102.775767\n",
       "Name: product, Length: 100000, dtype: float64"
      ]
     },
     "metadata": {},
     "output_type": "display_data"
    }
   ],
   "source": [
    "for_Xsplit_0=geo_data_0.drop(['product'], axis=1)\n",
    "for_ysplit_0=geo_data_0['product']\n",
    "\n",
    "for_Xsplit_1=geo_data_1.drop(['product'], axis=1)\n",
    "for_ysplit_1=geo_data_1['product']\n",
    "\n",
    "for_Xsplit_2=geo_data_2.drop(['product'], axis=1)\n",
    "for_ysplit_2=geo_data_2['product']\n",
    "\n",
    "display(for_Xsplit_2)\n",
    "display(for_ysplit_2)"
   ]
  },
  {
   "cell_type": "code",
   "execution_count": 13,
   "metadata": {},
   "outputs": [
    {
     "name": "stdout",
     "output_type": "stream",
     "text": [
      "Размер тренировочной выборки 1 региона - 75%\n",
      "Размер валидационной выборки 1 региона - 25%\n",
      " \n",
      "Размер тренировочной выборки 2 региона - 75%\n",
      "Размер валидационной выборки 2 региона - 25%\n",
      " \n",
      "Размер тренировочной выборки 3 региона - 75%\n",
      "Размер валидационной выборки 3 региона - 25%\n"
     ]
    }
   ],
   "source": [
    "X_train_0, X_valid_0, y_train_0, y_valid_0 = train_test_split(for_Xsplit_0, for_ysplit_0, test_size=0.25, random_state=RANDOM_STATE)\n",
    "shape_train_geo_0 =y_train_0.shape[0]/for_ysplit_0.shape[0]\n",
    "shape_test_geo_0 =y_valid_0.shape[0]/for_ysplit_0.shape[0]\n",
    "\n",
    "print('Размер тренировочной выборки 1 региона - {:.0%}'.format(shape_train_geo_0))\n",
    "print('Размер валидационной выборки 1 региона - {:.0%}'.format(shape_test_geo_0))\n",
    "print (' ')\n",
    "X_train_1, X_valid_1, y_train_1, y_valid_1 = train_test_split(for_Xsplit_1, for_ysplit_1, test_size=0.25, random_state=RANDOM_STATE)\n",
    "shape_train_geo_1 =y_train_1.shape[0]/for_ysplit_1.shape[0]\n",
    "shape_test_geo_1 =y_valid_1.shape[0]/for_ysplit_1.shape[0]\n",
    "\n",
    "print('Размер тренировочной выборки 2 региона - {:.0%}'.format(shape_train_geo_1))\n",
    "print('Размер валидационной выборки 2 региона - {:.0%}'.format(shape_test_geo_1))\n",
    "print (' ')\n",
    "\n",
    "X_train_2, X_valid_2, y_train_2, y_valid_2 = train_test_split(for_Xsplit_2, for_ysplit_2, test_size=0.25, random_state=RANDOM_STATE)\n",
    "shape_train_geo_2 =y_train_2.shape[0]/for_ysplit_2.shape[0]\n",
    "shape_test_geo_2 =y_valid_2.shape[0]/for_ysplit_2.shape[0]\n",
    "print('Размер тренировочной выборки 3 региона - {:.0%}'.format(shape_train_geo_2))\n",
    "print('Размер валидационной выборки 3 региона - {:.0%}'.format(shape_test_geo_2))"
   ]
  },
  {
   "cell_type": "markdown",
   "metadata": {},
   "source": [
    " **Обучим модель и сделаем предсказания на валидационной выборке.**"
   ]
  },
  {
   "cell_type": "code",
   "execution_count": 14,
   "metadata": {},
   "outputs": [
    {
     "name": "stdout",
     "output_type": "stream",
     "text": [
      "Результаты для модели по 2-ому региону\n",
      "Среднеквадратичная ошибка RMSE: 37.76\n",
      "Коэффициент детерминации: 0.27\n"
     ]
    }
   ],
   "source": [
    "model_0=LinearRegression()\n",
    "model_0.fit(X_train_0,y_train_0)\n",
    "predict_0=model_0.predict(X_valid_0)\n",
    "rmse_0 = mean_squared_error(y_valid_0, predict_0)**0.5\n",
    "print ('Результаты для модели по 2-ому региону')\n",
    "print('Среднеквадратичная ошибка RMSE: %.2f'% rmse_0)\n",
    "print('Коэффициент детерминации: %.2f' % r2_score(y_valid_0, predict_0))"
   ]
  },
  {
   "cell_type": "code",
   "execution_count": 15,
   "metadata": {},
   "outputs": [
    {
     "name": "stdout",
     "output_type": "stream",
     "text": [
      "Результаты для модели по 2-ому региону\n",
      "Среднеквадратичная ошибка RMSE: 0.89\n",
      "Коэффициент детерминации: 1.00\n"
     ]
    }
   ],
   "source": [
    "model_1=LinearRegression()\n",
    "model_1.fit(X_train_1,y_train_1)\n",
    "predict_1=model_1.predict(X_valid_1)\n",
    "rmse_1 = mean_squared_error(y_valid_1, predict_1)**0.5\n",
    "print ('Результаты для модели по 2-ому региону')\n",
    "print('Среднеквадратичная ошибка RMSE: %.2f'% rmse_1)\n",
    "print('Коэффициент детерминации: %.2f' % r2_score(y_valid_1, predict_1))"
   ]
  },
  {
   "cell_type": "code",
   "execution_count": 16,
   "metadata": {},
   "outputs": [
    {
     "name": "stdout",
     "output_type": "stream",
     "text": [
      "Результаты для модели по 2-ому региону\n",
      "Среднеквадратичная ошибка RMSE: 40.15\n",
      "Коэффициент детерминации: 0.20\n"
     ]
    }
   ],
   "source": [
    "model_2=LinearRegression()\n",
    "model_2.fit(X_train_2,y_train_2)\n",
    "predict_2=model_2.predict(X_valid_2)\n",
    "rmse_2 = mean_squared_error(y_valid_2, predict_2)**0.5\n",
    "print ('Результаты для модели по 2-ому региону')\n",
    "print('Среднеквадратичная ошибка RMSE: %.2f'% rmse_2)\n",
    "print('Коэффициент детерминации: %.2f' % r2_score(y_valid_2, predict_2))"
   ]
  },
  {
   "cell_type": "markdown",
   "metadata": {},
   "source": [
    "Выведем средний запас баррелей нефти по регионам и построим график"
   ]
  },
  {
   "cell_type": "code",
   "execution_count": 17,
   "metadata": {},
   "outputs": [
    {
     "data": {
      "text/html": [
       "<div>\n",
       "<style scoped>\n",
       "    .dataframe tbody tr th:only-of-type {\n",
       "        vertical-align: middle;\n",
       "    }\n",
       "\n",
       "    .dataframe tbody tr th {\n",
       "        vertical-align: top;\n",
       "    }\n",
       "\n",
       "    .dataframe thead th {\n",
       "        text-align: right;\n",
       "    }\n",
       "</style>\n",
       "<table border=\"1\" class=\"dataframe\">\n",
       "  <thead>\n",
       "    <tr style=\"text-align: right;\">\n",
       "      <th></th>\n",
       "      <th>1 регион</th>\n",
       "      <th>2 регион</th>\n",
       "      <th>3 регион</th>\n",
       "    </tr>\n",
       "  </thead>\n",
       "  <tbody>\n",
       "    <tr>\n",
       "      <th>Средний запас предсказанного сырья</th>\n",
       "      <td>92.3988</td>\n",
       "      <td>68.712878</td>\n",
       "      <td>94.771024</td>\n",
       "    </tr>\n",
       "    <tr>\n",
       "      <th>RMSE модели</th>\n",
       "      <td>37.7566</td>\n",
       "      <td>0.890280</td>\n",
       "      <td>40.145872</td>\n",
       "    </tr>\n",
       "  </tbody>\n",
       "</table>\n",
       "</div>"
      ],
      "text/plain": [
       "                                    1 регион   2 регион   3 регион\n",
       "Средний запас предсказанного сырья   92.3988  68.712878  94.771024\n",
       "RMSE модели                          37.7566   0.890280  40.145872"
      ]
     },
     "metadata": {},
     "output_type": "display_data"
    },
    {
     "data": {
      "image/png": "[encoded data removed]",
      "text/plain": [
       "<Figure size 432x288 with 1 Axes>"
      ]
     },
     "metadata": {},
     "output_type": "display_data"
    }
   ],
   "source": [
    "barrel_reg = pd.DataFrame(index=['Средний запас предсказанного сырья','RMSE модели'], columns=['1 регион','2 регион','3 регион'])\n",
    "barrel_reg['1 регион'] = predict_0.mean(), rmse_0\n",
    "barrel_reg['2 регион'] = predict_1.mean(), rmse_1\n",
    "barrel_reg['3 регион'] = predict_2.mean(), rmse_2\n",
    "display(barrel_reg)\n",
    "\n",
    "values = [92.3988, 68.712878, 94.771024]\n",
    "labels = ['Регион 1', 'Регион 2', 'Регион 3']\n",
    "\n",
    "# Создание круговой диаграммы\n",
    "plt.pie(values, labels=labels, autopct='%1.1f%%', startangle=140)\n",
    "\n",
    "# Отображение графика\n",
    "plt.axis('equal')  # Для сохранения пропорций круга\n",
    "plt.title('Средние запасы тыс. баррелей нефти по регионам')\n",
    "plt.show()"
   ]
  },
  {
   "cell_type": "markdown",
   "metadata": {},
   "source": [
    "**Выводы по 2-ой части**\n",
    "\n",
    "**Проделаны следующие шаги**\n",
    "- Данные разделены на обучающую и валидационную выборки в соотношении 75:25.\n",
    "- Созданы и обучены модели линейной регрессии (LinearRegression).\n",
    "- Выполнены предсказания на валидационной выборке.\n",
    "- Сделаны предсказания по объему сырья в скважинах.\n",
    "- Создана таблица предсказаний по объему сырья и истинных значений для каждого региона.\n",
    "- Рассчитаны значения среднего запаса предсказанного сырья и RMSE моделей:\n",
    "\n",
    "**RMSE**\n",
    "- Для 'Регион 1 и 'Регион 3 значения RMSE составляют 37.75 и 40.14 соответственно. Эти высокие значения указывают на значительный разброс данных в валидационных выборках этих датасетов.\n",
    "- Для 'Регион 2 значение RMSE модели составляет 0.89. Низкое значение RMSE, вероятно, связано с переобучением модели, учитывая высокую корреляцию между f2 и product (около 1.0).\n",
    "\n",
    "**Данные по регионам**\n",
    "- В 'Регионе 2 зафиксированы самые низкие запасы предсказанного сырья — всего 68.7 тысяч баррелей по сравнению с 92.4  и 94.7 тысячами баррелями для других регионов."
   ]
  },
  {
   "cell_type": "markdown",
   "metadata": {},
   "source": [
    "## Подготовка к расчёту прибыли"
   ]
  },
  {
   "cell_type": "markdown",
   "metadata": {},
   "source": [
    "**Условия**\n",
    "- Бюджет на разработку месторождений в этом регионе ограничен 10 миллиардами рублей. \n",
    "- При текущем рыночном курсе каждый баррель добытого сырья приносит 450 рублей прибыли, что в пересчете на объем, выраженный в тысячах баррелей, составляет 450 тысяч рублей дохода.\n",
    "- С учетом потенциальных рисков рассматривается возможность исключения тех регионов, где вероятность убытка превышает 2,5%. Из оставшихся вариантов выбирается регион с наибольшей средней прибылью."
   ]
  },
  {
   "cell_type": "markdown",
   "metadata": {},
   "source": [
    "**Введем переменные согласно условию** "
   ]
  },
  {
   "cell_type": "code",
   "execution_count": 18,
   "metadata": {},
   "outputs": [],
   "source": [
    "#Бюджет на разработку скважин в регионе, тыс.руб\n",
    "investment = 10000000 \n",
    "\n",
    "#Доход с каждой единицы продукта, тыс.руб\n",
    "income = 450 \n",
    "\n",
    "#Вероятность убытков\n",
    "probability_losses = 2.5/100 # вероятность убытков\n",
    "\n",
    "#Бюджет на разработку одной скважины\n",
    "investment_in_one_point = investment/200"
   ]
  },
  {
   "cell_type": "markdown",
   "metadata": {},
   "source": [
    "**Рассчитаем достаточный объём сырья для безубыточной разработки новой скважины**"
   ]
  },
  {
   "cell_type": "code",
   "execution_count": 19,
   "metadata": {},
   "outputs": [
    {
     "name": "stdout",
     "output_type": "stream",
     "text": [
      "Достаточный объем нефти в скважине для безубыточной работы: 111 тыс. баррелей.\n"
     ]
    }
   ],
   "source": [
    "print(\"Достаточный объем нефти в скважине для безубыточной работы: {0:.0f} тыс. баррелей.\".format(investment_in_one_point / income ))"
   ]
  },
  {
   "cell_type": "markdown",
   "metadata": {},
   "source": [
    "**Сравним полученный объём сырья со средним запасом в каждом регионе.**"
   ]
  },
  {
   "cell_type": "markdown",
   "metadata": {},
   "source": [
    "Добавим ко всем фреймам дополнительный столбец, чтобы посчитать прибыль с каждой скважины"
   ]
  },
  {
   "cell_type": "code",
   "execution_count": 20,
   "metadata": {},
   "outputs": [],
   "source": [
    "geo_data_0['profit']=(geo_data_0['product']*(income)).round(2)\n",
    "geo_data_1['profit']=(geo_data_1['product']*(income)).round(2)\n",
    "geo_data_2['profit']=(geo_data_2['product']*(income)).round(2)"
   ]
  },
  {
   "cell_type": "markdown",
   "metadata": {},
   "source": [
    "Добавим столбец ROI (Return on Investment) к каждой скважине"
   ]
  },
  {
   "cell_type": "code",
   "execution_count": 21,
   "metadata": {},
   "outputs": [],
   "source": [
    "geo_data_0['roi']=((geo_data_0['profit'] - investment_in_one_point)/investment_in_one_point*100).round(2)\n",
    "geo_data_1['roi']=((geo_data_1['profit'] - investment_in_one_point)/investment_in_one_point*100).round(2)\n",
    "geo_data_2['roi']=((geo_data_2['profit'] - investment_in_one_point)/investment_in_one_point*100).round(2)"
   ]
  },
  {
   "cell_type": "markdown",
   "metadata": {},
   "source": [
    "Введем переменные со средним значением в столбце product для каждого региона"
   ]
  },
  {
   "cell_type": "code",
   "execution_count": 22,
   "metadata": {},
   "outputs": [],
   "source": [
    "product_mean_0 = geo_data_0['product'].mean()\n",
    "product_mean_1 = geo_data_1['product'].mean()\n",
    "product_mean_2 = geo_data_2['product'].mean()"
   ]
  },
  {
   "cell_type": "markdown",
   "metadata": {},
   "source": [
    "Узнаем средний ROI (Return on Investment) по каждому региону"
   ]
  },
  {
   "cell_type": "code",
   "execution_count": 23,
   "metadata": {},
   "outputs": [
    {
     "name": "stdout",
     "output_type": "stream",
     "text": [
      "Средний ROI по 1 региону составляет: -16.75%\n",
      "Средний ROI по 2 региону составляет: -38.06%\n",
      "Средний ROI по 3 региону составляет: -14.50%\n"
     ]
    }
   ],
   "source": [
    "print('Средний ROI по 1 региону составляет: {:.2%}'.format((product_mean_0*income/investment_in_one_point)-1))\n",
    "print('Средний ROI по 2 региону составляет: {:.2%}'.format((product_mean_1*income/investment_in_one_point)-1))\n",
    "print('Средний ROI по 3 региону составляет: {:.2%}'.format((product_mean_2*income/investment_in_one_point)-1))"
   ]
  },
  {
   "cell_type": "markdown",
   "metadata": {},
   "source": [
    "**Вывод по шагу 3**\n",
    "\n",
    "**Получены данные по каждому региону**\n",
    "- Средний ROI по 1 региону составляет: -16.75%\n",
    "- Средний ROI по 2 региону составляет: -38.06%\n",
    "- Средний ROI по 3 региону составляет: -14.50%\n",
    "\n",
    "**Соответственно можем сделать вывод, что разрабатывать все скважины в каждом регионе обернется большими убытками.** \n",
    "\n",
    "**Далее отберем 200 наиболее перспективных скважин в каждоми из регионов**"
   ]
  },
  {
   "cell_type": "markdown",
   "metadata": {},
   "source": [
    "##  Функцию для расчёта прибыли по выбранным скважинам и предсказаниям модели"
   ]
  },
  {
   "cell_type": "markdown",
   "metadata": {},
   "source": [
    "**Составим функцию для подсчета тех же данных (согласно заданию)**"
   ]
  },
  {
   "cell_type": "markdown",
   "metadata": {},
   "source": [
    "**Выберем в каждом регионе 200 самых перспективных скважин**"
   ]
  },
  {
   "cell_type": "code",
   "execution_count": 24,
   "metadata": {},
   "outputs": [],
   "source": [
    "def profit_for_geos(predict, profit):\n",
    "    predict_geo = pd.Series(predict, index=profit.index).sort_values(ascending=False)[:200].sum()\n",
    "    profit_geo=(predict_geo * income - investment)/1000000\n",
    "    print('Запас сырья в 200 лучших скважинах Региона составит: %.2f млн.баррелей'%(predict_geo/1000))\n",
    "    print('Прибыль для полученного объёма сырья составит %.2f млрд.рублей'%profit_geo)"
   ]
  },
  {
   "cell_type": "code",
   "execution_count": 25,
   "metadata": {},
   "outputs": [
    {
     "name": "stdout",
     "output_type": "stream",
     "text": [
      "Регион 1\n",
      "Запас сырья в 200 лучших скважинах Региона составит: 30.88 млн.баррелей\n",
      "Прибыль для полученного объёма сырья составит 3.90 млрд.рублей\n"
     ]
    }
   ],
   "source": [
    "print ('Регион 1')\n",
    "profit_for_geos(predict_0, y_valid_0)"
   ]
  },
  {
   "cell_type": "code",
   "execution_count": 26,
   "metadata": {},
   "outputs": [
    {
     "name": "stdout",
     "output_type": "stream",
     "text": [
      "Регион 2\n",
      "Запас сырья в 200 лучших скважинах Региона составит: 27.75 млн.баррелей\n",
      "Прибыль для полученного объёма сырья составит 2.49 млрд.рублей\n"
     ]
    }
   ],
   "source": [
    "print ('Регион 2')\n",
    "profit_for_geos(predict_1, y_valid_1)"
   ]
  },
  {
   "cell_type": "code",
   "execution_count": 27,
   "metadata": {},
   "outputs": [
    {
     "name": "stdout",
     "output_type": "stream",
     "text": [
      "Регион 3\n",
      "Запас сырья в 200 лучших скважинах Региона составит: 29.73 млн.баррелей\n",
      "Прибыль для полученного объёма сырья составит 3.38 млрд.рублей\n"
     ]
    }
   ],
   "source": [
    "print ('Регион 3')\n",
    "profit_for_geos(predict_2, y_valid_2)"
   ]
  },
  {
   "cell_type": "markdown",
   "metadata": {},
   "source": [
    "**Вывод по шагу 4**\n",
    "- Если разрабатывать 200 самых перспективные скважин по каждому из регионов, то получается все они прибыльные.\n",
    "- Согласно заданию далее рассмотрим их на возможные риски "
   ]
  },
  {
   "cell_type": "markdown",
   "metadata": {},
   "source": [
    "## Посчитаем риски и прибыль для каждого региона"
   ]
  },
  {
   "cell_type": "markdown",
   "metadata": {},
   "source": [
    "Подготовим заранее функцию для подсчета прибыли"
   ]
  },
  {
   "cell_type": "code",
   "execution_count": 28,
   "metadata": {},
   "outputs": [],
   "source": [
    "def profit_for_geos2(predict,target):\n",
    "    predicted = pd.Series(predict).sort_values(ascending=False)\n",
    "    selected = target[predicted.index][:200]\n",
    "    product = selected.sum()\n",
    "    revenue = product * income - investment\n",
    "    return revenue "
   ]
  },
  {
   "cell_type": "markdown",
   "metadata": {},
   "source": [
    "Подготовим функцию для подсчета прибыли с учетом рисков "
   ]
  },
  {
   "cell_type": "code",
   "execution_count": 29,
   "metadata": {},
   "outputs": [],
   "source": [
    "def bootstap_1000(target, predict):\n",
    "    values = []\n",
    "    count=0\n",
    "    number = 500\n",
    "    for_bootstrap = 1000\n",
    "    state = np.random.RandomState(12345)\n",
    "    predict_x = pd.Series(predict, index=target.index)\n",
    "    \n",
    "    for i in tqdm(range(for_bootstrap)):\n",
    "        target_subsample = target.sample(number, replace=True, random_state=state)\n",
    "        probs_subsample = predict_x[target_subsample.index]\n",
    "        values.append(profit_for_geos2(probs_subsample, target_subsample))\n",
    "\n",
    "    for val in values:\n",
    "        if val < 0:\n",
    "            count += 1\n",
    "\n",
    "    values = pd.Series(values)\n",
    "    profit_mean = values.mean()\n",
    "    \n",
    "    lower = values.quantile(0.025)\n",
    "    higher = values.quantile(0.975)\n",
    "    \n",
    "    print(\"Средняя прибыль в регионе: {:.2f} млрд.руб\".format(profit_mean/100000))\n",
    "    print('С вероятностью 95% прибыль в данном регионе составит от: {:.2f} млрд.руб до: {:.2f} млрд.руб'.format((lower/100000),(higher/100000)))\n",
    "    print ('Вероятность убытка в данном регионе составит {:.1%}'.format(count/1000))"
   ]
  },
  {
   "cell_type": "code",
   "execution_count": 30,
   "metadata": {},
   "outputs": [
    {
     "data": {
      "application/vnd.jupyter.widget-view+json": {
       "model_id": "99c699f25a854885a69abcd510d84007",
       "version_major": 2,
       "version_minor": 0
      },
      "text/plain": [
       "  0%|          | 0/1000 [00:00<?, ?it/s]"
      ]
     },
     "metadata": {},
     "output_type": "display_data"
    },
    {
     "name": "stdout",
     "output_type": "stream",
     "text": [
      "Средняя прибыль в регионе: 4.36 млрд.руб\n",
      "С вероятностью 95% прибыль в данном регионе составит от: -1.16 млрд.руб до: 9.67 млрд.руб\n",
      "Вероятность убытка в данном регионе составит 6.1%\n"
     ]
    }
   ],
   "source": [
    "bootstap_1000 (y_valid_0, predict_0)"
   ]
  },
  {
   "cell_type": "code",
   "execution_count": 31,
   "metadata": {},
   "outputs": [
    {
     "data": {
      "application/vnd.jupyter.widget-view+json": {
       "model_id": "b8f8d75e6b6d42d49b2d8ade29933bb9",
       "version_major": 2,
       "version_minor": 0
      },
      "text/plain": [
       "  0%|          | 0/1000 [00:00<?, ?it/s]"
      ]
     },
     "metadata": {},
     "output_type": "display_data"
    },
    {
     "name": "stdout",
     "output_type": "stream",
     "text": [
      "Средняя прибыль в регионе: 4.90 млрд.руб\n",
      "С вероятностью 95% прибыль в данном регионе составит от: 0.55 млрд.руб до: 9.06 млрд.руб\n",
      "Вероятность убытка в данном регионе составит 1.1%\n"
     ]
    }
   ],
   "source": [
    "bootstap_1000 (y_valid_1, predict_1)"
   ]
  },
  {
   "cell_type": "code",
   "execution_count": 32,
   "metadata": {
    "scrolled": true
   },
   "outputs": [
    {
     "data": {
      "application/vnd.jupyter.widget-view+json": {
       "model_id": "73a1b17dde3b4c0789420b114c3c10d8",
       "version_major": 2,
       "version_minor": 0
      },
      "text/plain": [
       "  0%|          | 0/1000 [00:00<?, ?it/s]"
      ]
     },
     "metadata": {},
     "output_type": "display_data"
    },
    {
     "name": "stdout",
     "output_type": "stream",
     "text": [
      "Средняя прибыль в регионе: 4.04 млрд.руб\n",
      "С вероятностью 95% прибыль в данном регионе составит от: -1.53 млрд.руб до: 9.53 млрд.руб\n",
      "Вероятность убытка в данном регионе составит 7.1%\n"
     ]
    }
   ],
   "source": [
    "bootstap_1000 (y_valid_2, predict_2)"
   ]
  },
  {
   "cell_type": "markdown",
   "metadata": {},
   "source": [
    "**Вывод по шагу 5**\n",
    "- Получается, что по заданному риску в 2.5% проходит только регион 2, который имеет риск убытка только 1.1%\n",
    "- Оказалось, что регион с меньшими суммарными запасами баррелей нефти, является наиболее перспективным для разработки "
   ]
  },
  {
   "cell_type": "markdown",
   "metadata": {},
   "source": [
    "## Общий вывод "
   ]
  },
  {
   "cell_type": "markdown",
   "metadata": {},
   "source": [
    "**В ходе исследования были выполнены следующие шаги:**\n",
    "- Загружены и проверены первоначальное данные.\n",
    "- Проверили данные на наличие пропусков и дубликатов.\n",
    "- Проанализировали данные, построив графики и матрицы корреляции.\n",
    "- Обучили модель линейной регрессии \n",
    "\n",
    "**Получены данные ROI по каждому из регионов**\n",
    "- Средний ROI по 1 региону составляет: -16.75%\n",
    "- Средний ROI по 2 региону составляет: -38.06%\n",
    "- Средний ROI по 3 региону составляет: -14.50%\n",
    "\n",
    "**При разработки только 200 самых перспкективных скважин в регионах получили следующие выводы:**\n",
    "- Получается, что по заданному риску в 2.5% проходит только регион 2, который имеет риск убытка только 1.1%\n",
    "- Оказалось, что регион с меньшими суммарными запасами баррелей нефти, является наиболее перспективным для разработки \n",
    "\n",
    "**Наиболее перспективный регион для добычи - Регион 2, т.к. принесет c большой вероятностью принесет большую прибыль.**"
   ]
  }
 ],
 "metadata": {
  "ExecuteTimeLog": [
   {
    "duration": 1390,
    "start_time": "2024-09-17T17:28:36.883Z"
   },
   {
    "duration": 850,
    "start_time": "2024-09-17T17:28:38.275Z"
   },
   {
    "duration": 134,
    "start_time": "2024-09-17T17:30:31.968Z"
   },
   {
    "duration": 158,
    "start_time": "2024-09-17T17:31:13.180Z"
   },
   {
    "duration": 133,
    "start_time": "2024-09-17T17:31:17.318Z"
   },
   {
    "duration": 92,
    "start_time": "2024-09-17T17:39:55.624Z"
   },
   {
    "duration": 99,
    "start_time": "2024-09-17T17:40:33.651Z"
   },
   {
    "duration": 12,
    "start_time": "2024-09-17T17:45:17.648Z"
   },
   {
    "duration": 12,
    "start_time": "2024-09-17T17:45:28.476Z"
   },
   {
    "duration": 1147,
    "start_time": "2024-09-17T17:45:45.927Z"
   },
   {
    "duration": 167,
    "start_time": "2024-09-17T17:45:47.076Z"
   },
   {
    "duration": 116,
    "start_time": "2024-09-17T17:45:47.245Z"
   },
   {
    "duration": 118,
    "start_time": "2024-09-17T17:45:47.362Z"
   },
   {
    "duration": 110,
    "start_time": "2024-09-17T17:45:47.482Z"
   },
   {
    "duration": 18,
    "start_time": "2024-09-17T17:45:47.593Z"
   },
   {
    "duration": 1381,
    "start_time": "2024-09-17T17:53:07.533Z"
   },
   {
    "duration": 124,
    "start_time": "2024-09-17T17:54:04.534Z"
   },
   {
    "duration": 207,
    "start_time": "2024-09-17T17:55:33.142Z"
   },
   {
    "duration": 142,
    "start_time": "2024-09-17T18:02:03.782Z"
   },
   {
    "duration": 133,
    "start_time": "2024-09-17T18:03:47.190Z"
   },
   {
    "duration": 226,
    "start_time": "2024-09-17T18:05:10.148Z"
   },
   {
    "duration": 437,
    "start_time": "2024-09-17T18:08:20.770Z"
   },
   {
    "duration": 1329,
    "start_time": "2024-09-17T18:09:36.185Z"
   },
   {
    "duration": 141,
    "start_time": "2024-09-17T18:09:37.516Z"
   },
   {
    "duration": 116,
    "start_time": "2024-09-17T18:09:37.658Z"
   },
   {
    "duration": 131,
    "start_time": "2024-09-17T18:09:37.776Z"
   },
   {
    "duration": 133,
    "start_time": "2024-09-17T18:09:37.909Z"
   },
   {
    "duration": 9,
    "start_time": "2024-09-17T18:09:38.043Z"
   },
   {
    "duration": 498,
    "start_time": "2024-09-17T18:09:38.053Z"
   },
   {
    "duration": 268,
    "start_time": "2024-09-17T18:13:59.130Z"
   },
   {
    "duration": 238,
    "start_time": "2024-09-17T18:14:23.833Z"
   },
   {
    "duration": 953,
    "start_time": "2024-09-17T18:14:42.112Z"
   },
   {
    "duration": 1225,
    "start_time": "2024-09-17T18:15:16.150Z"
   },
   {
    "duration": 141,
    "start_time": "2024-09-17T18:15:17.377Z"
   },
   {
    "duration": 117,
    "start_time": "2024-09-17T18:15:17.520Z"
   },
   {
    "duration": 127,
    "start_time": "2024-09-17T18:15:17.639Z"
   },
   {
    "duration": 117,
    "start_time": "2024-09-17T18:15:17.767Z"
   },
   {
    "duration": 8,
    "start_time": "2024-09-17T18:15:17.886Z"
   },
   {
    "duration": 240,
    "start_time": "2024-09-17T18:15:17.907Z"
   },
   {
    "duration": 217,
    "start_time": "2024-09-17T18:15:53.873Z"
   },
   {
    "duration": 1172,
    "start_time": "2024-09-17T18:17:07.342Z"
   },
   {
    "duration": 1388,
    "start_time": "2024-09-17T18:18:58.899Z"
   },
   {
    "duration": 1333,
    "start_time": "2024-09-17T18:19:16.297Z"
   },
   {
    "duration": 140,
    "start_time": "2024-09-17T18:19:17.631Z"
   },
   {
    "duration": 120,
    "start_time": "2024-09-17T18:19:17.773Z"
   },
   {
    "duration": 131,
    "start_time": "2024-09-17T18:19:17.895Z"
   },
   {
    "duration": 117,
    "start_time": "2024-09-17T18:19:18.028Z"
   },
   {
    "duration": 8,
    "start_time": "2024-09-17T18:19:18.146Z"
   },
   {
    "duration": 264,
    "start_time": "2024-09-17T18:19:18.155Z"
   },
   {
    "duration": 228,
    "start_time": "2024-09-17T18:19:18.421Z"
   },
   {
    "duration": 283,
    "start_time": "2024-09-17T18:24:14.014Z"
   },
   {
    "duration": 242,
    "start_time": "2024-09-17T18:25:10.279Z"
   },
   {
    "duration": 1328,
    "start_time": "2024-09-17T18:30:23.307Z"
   },
   {
    "duration": 177,
    "start_time": "2024-09-17T18:30:24.637Z"
   },
   {
    "duration": 118,
    "start_time": "2024-09-17T18:30:24.816Z"
   },
   {
    "duration": 121,
    "start_time": "2024-09-17T18:30:24.936Z"
   },
   {
    "duration": 116,
    "start_time": "2024-09-17T18:30:25.059Z"
   },
   {
    "duration": 12,
    "start_time": "2024-09-17T18:30:25.177Z"
   },
   {
    "duration": 376,
    "start_time": "2024-09-17T18:30:25.190Z"
   },
   {
    "duration": 288,
    "start_time": "2024-09-17T18:31:53.022Z"
   },
   {
    "duration": 185,
    "start_time": "2024-09-17T18:32:40.690Z"
   },
   {
    "duration": 289,
    "start_time": "2024-09-17T18:33:17.770Z"
   },
   {
    "duration": 13,
    "start_time": "2024-09-17T18:40:09.686Z"
   },
   {
    "duration": 9,
    "start_time": "2024-09-17T18:40:42.791Z"
   },
   {
    "duration": 1370,
    "start_time": "2024-09-17T18:40:52.258Z"
   },
   {
    "duration": 0,
    "start_time": "2024-09-17T18:40:53.629Z"
   },
   {
    "duration": 0,
    "start_time": "2024-09-17T18:40:53.631Z"
   },
   {
    "duration": 0,
    "start_time": "2024-09-17T18:40:53.632Z"
   },
   {
    "duration": 0,
    "start_time": "2024-09-17T18:40:53.633Z"
   },
   {
    "duration": 0,
    "start_time": "2024-09-17T18:40:53.634Z"
   },
   {
    "duration": 0,
    "start_time": "2024-09-17T18:40:53.636Z"
   },
   {
    "duration": 0,
    "start_time": "2024-09-17T18:40:53.637Z"
   },
   {
    "duration": 15324,
    "start_time": "2024-09-17T18:41:32.894Z"
   },
   {
    "duration": 7850,
    "start_time": "2024-09-17T18:41:55.062Z"
   },
   {
    "duration": 1558,
    "start_time": "2024-09-17T18:42:02.914Z"
   },
   {
    "duration": 139,
    "start_time": "2024-09-17T18:42:04.473Z"
   },
   {
    "duration": 119,
    "start_time": "2024-09-17T18:42:04.614Z"
   },
   {
    "duration": 120,
    "start_time": "2024-09-17T18:42:04.734Z"
   },
   {
    "duration": 104,
    "start_time": "2024-09-17T18:42:04.856Z"
   },
   {
    "duration": 8,
    "start_time": "2024-09-17T18:42:04.962Z"
   },
   {
    "duration": 346,
    "start_time": "2024-09-17T18:42:04.971Z"
   },
   {
    "duration": 307,
    "start_time": "2024-09-17T18:44:51.642Z"
   },
   {
    "duration": 38,
    "start_time": "2024-09-17T18:45:55.406Z"
   },
   {
    "duration": 8095,
    "start_time": "2024-09-17T18:46:38.647Z"
   },
   {
    "duration": 2597,
    "start_time": "2024-09-17T18:46:46.744Z"
   },
   {
    "duration": 493,
    "start_time": "2024-09-17T18:46:49.343Z"
   },
   {
    "duration": 195,
    "start_time": "2024-09-17T18:46:49.838Z"
   },
   {
    "duration": 195,
    "start_time": "2024-09-17T18:46:50.035Z"
   },
   {
    "duration": 108,
    "start_time": "2024-09-17T18:46:50.231Z"
   },
   {
    "duration": 8,
    "start_time": "2024-09-17T18:46:50.341Z"
   },
   {
    "duration": 322,
    "start_time": "2024-09-17T18:46:50.350Z"
   },
   {
    "duration": 163,
    "start_time": "2024-09-17T18:46:50.673Z"
   },
   {
    "duration": 1475,
    "start_time": "2024-09-17T18:47:00.687Z"
   },
   {
    "duration": 139,
    "start_time": "2024-09-17T18:47:02.164Z"
   },
   {
    "duration": 122,
    "start_time": "2024-09-17T18:47:02.304Z"
   },
   {
    "duration": 126,
    "start_time": "2024-09-17T18:47:02.427Z"
   },
   {
    "duration": 140,
    "start_time": "2024-09-17T18:47:02.555Z"
   },
   {
    "duration": 16,
    "start_time": "2024-09-17T18:47:02.696Z"
   },
   {
    "duration": 478,
    "start_time": "2024-09-17T18:47:02.714Z"
   },
   {
    "duration": 153,
    "start_time": "2024-09-17T18:47:03.193Z"
   },
   {
    "duration": 1502,
    "start_time": "2024-09-17T19:02:57.625Z"
   },
   {
    "duration": 142,
    "start_time": "2024-09-17T19:02:59.129Z"
   },
   {
    "duration": 120,
    "start_time": "2024-09-17T19:02:59.272Z"
   },
   {
    "duration": 124,
    "start_time": "2024-09-17T19:02:59.393Z"
   },
   {
    "duration": 114,
    "start_time": "2024-09-17T19:02:59.519Z"
   },
   {
    "duration": 8,
    "start_time": "2024-09-17T19:02:59.635Z"
   },
   {
    "duration": 290,
    "start_time": "2024-09-17T19:02:59.644Z"
   },
   {
    "duration": 246,
    "start_time": "2024-09-17T19:02:59.935Z"
   },
   {
    "duration": 50,
    "start_time": "2024-09-17T19:05:30.199Z"
   },
   {
    "duration": 18,
    "start_time": "2024-09-17T19:05:42.497Z"
   },
   {
    "duration": 17,
    "start_time": "2024-09-17T19:05:51.637Z"
   },
   {
    "duration": 3,
    "start_time": "2024-09-17T19:39:51.395Z"
   },
   {
    "duration": 8,
    "start_time": "2024-09-17T19:39:52.008Z"
   },
   {
    "duration": 6,
    "start_time": "2024-09-17T19:39:52.985Z"
   },
   {
    "duration": 23,
    "start_time": "2024-09-17T19:40:00.350Z"
   },
   {
    "duration": 21,
    "start_time": "2024-09-17T19:41:08.143Z"
   },
   {
    "duration": 11,
    "start_time": "2024-09-17T19:41:23.105Z"
   },
   {
    "duration": 173,
    "start_time": "2024-09-17T19:42:06.160Z"
   },
   {
    "duration": 20,
    "start_time": "2024-09-17T19:42:20.729Z"
   },
   {
    "duration": 10,
    "start_time": "2024-09-17T19:42:41.166Z"
   },
   {
    "duration": 9,
    "start_time": "2024-09-17T19:43:17.259Z"
   },
   {
    "duration": 6,
    "start_time": "2024-09-17T19:44:28.942Z"
   },
   {
    "duration": 7,
    "start_time": "2024-09-17T19:44:50.512Z"
   },
   {
    "duration": 1503,
    "start_time": "2024-09-17T19:53:37.599Z"
   },
   {
    "duration": 139,
    "start_time": "2024-09-17T19:53:39.104Z"
   },
   {
    "duration": 129,
    "start_time": "2024-09-17T19:53:39.245Z"
   },
   {
    "duration": 122,
    "start_time": "2024-09-17T19:53:39.376Z"
   },
   {
    "duration": 108,
    "start_time": "2024-09-17T19:53:39.500Z"
   },
   {
    "duration": 8,
    "start_time": "2024-09-17T19:53:39.609Z"
   },
   {
    "duration": 267,
    "start_time": "2024-09-17T19:53:39.618Z"
   },
   {
    "duration": 55,
    "start_time": "2024-09-17T19:53:39.887Z"
   },
   {
    "duration": 16,
    "start_time": "2024-09-17T19:53:39.944Z"
   },
   {
    "duration": 170,
    "start_time": "2024-09-17T19:53:39.962Z"
   },
   {
    "duration": 2,
    "start_time": "2024-09-17T19:53:40.133Z"
   },
   {
    "duration": 125,
    "start_time": "2024-09-17T19:53:40.136Z"
   },
   {
    "duration": 0,
    "start_time": "2024-09-17T19:53:40.263Z"
   },
   {
    "duration": 0,
    "start_time": "2024-09-17T19:53:40.263Z"
   },
   {
    "duration": 0,
    "start_time": "2024-09-17T19:53:40.264Z"
   },
   {
    "duration": 0,
    "start_time": "2024-09-17T19:53:40.265Z"
   },
   {
    "duration": 0,
    "start_time": "2024-09-17T19:53:40.266Z"
   },
   {
    "duration": 0,
    "start_time": "2024-09-17T19:53:40.266Z"
   },
   {
    "duration": 13,
    "start_time": "2024-09-17T19:55:21.003Z"
   },
   {
    "duration": 33,
    "start_time": "2024-09-17T20:02:51.603Z"
   },
   {
    "duration": 53,
    "start_time": "2024-09-17T20:04:25.281Z"
   },
   {
    "duration": 42,
    "start_time": "2024-09-17T20:05:10.353Z"
   },
   {
    "duration": 36,
    "start_time": "2024-09-17T20:05:22.221Z"
   },
   {
    "duration": 62,
    "start_time": "2024-09-17T20:06:40.097Z"
   },
   {
    "duration": 1638,
    "start_time": "2024-09-18T18:30:47.105Z"
   },
   {
    "duration": 0,
    "start_time": "2024-09-18T18:30:48.745Z"
   },
   {
    "duration": 0,
    "start_time": "2024-09-18T18:30:48.746Z"
   },
   {
    "duration": 0,
    "start_time": "2024-09-18T18:30:48.747Z"
   },
   {
    "duration": 0,
    "start_time": "2024-09-18T18:30:48.748Z"
   },
   {
    "duration": 0,
    "start_time": "2024-09-18T18:30:48.749Z"
   },
   {
    "duration": 0,
    "start_time": "2024-09-18T18:30:48.750Z"
   },
   {
    "duration": 0,
    "start_time": "2024-09-18T18:30:48.751Z"
   },
   {
    "duration": 0,
    "start_time": "2024-09-18T18:30:48.752Z"
   },
   {
    "duration": 0,
    "start_time": "2024-09-18T18:30:48.754Z"
   },
   {
    "duration": 0,
    "start_time": "2024-09-18T18:30:48.754Z"
   },
   {
    "duration": 0,
    "start_time": "2024-09-18T18:30:48.755Z"
   },
   {
    "duration": 0,
    "start_time": "2024-09-18T18:30:48.757Z"
   },
   {
    "duration": 0,
    "start_time": "2024-09-18T18:30:48.758Z"
   },
   {
    "duration": 0,
    "start_time": "2024-09-18T18:30:48.759Z"
   },
   {
    "duration": 0,
    "start_time": "2024-09-18T18:30:48.760Z"
   },
   {
    "duration": 1252,
    "start_time": "2024-09-18T18:31:24.881Z"
   },
   {
    "duration": 655,
    "start_time": "2024-09-18T18:31:26.135Z"
   },
   {
    "duration": 609,
    "start_time": "2024-09-18T18:31:26.792Z"
   },
   {
    "duration": 573,
    "start_time": "2024-09-18T18:31:27.403Z"
   },
   {
    "duration": 113,
    "start_time": "2024-09-18T18:31:27.978Z"
   },
   {
    "duration": 9,
    "start_time": "2024-09-18T18:31:28.092Z"
   },
   {
    "duration": 290,
    "start_time": "2024-09-18T18:31:28.103Z"
   },
   {
    "duration": 59,
    "start_time": "2024-09-18T18:31:28.394Z"
   },
   {
    "duration": 17,
    "start_time": "2024-09-18T18:31:28.455Z"
   },
   {
    "duration": 16,
    "start_time": "2024-09-18T18:31:28.473Z"
   },
   {
    "duration": 2,
    "start_time": "2024-09-18T18:31:28.490Z"
   },
   {
    "duration": 32,
    "start_time": "2024-09-18T18:31:28.493Z"
   },
   {
    "duration": 110,
    "start_time": "2024-09-18T18:31:28.526Z"
   },
   {
    "duration": 110,
    "start_time": "2024-09-18T18:31:28.637Z"
   },
   {
    "duration": 0,
    "start_time": "2024-09-18T18:31:28.748Z"
   },
   {
    "duration": 0,
    "start_time": "2024-09-18T18:31:28.749Z"
   },
   {
    "duration": 14,
    "start_time": "2024-09-18T18:32:38.313Z"
   },
   {
    "duration": 1304,
    "start_time": "2024-09-18T18:37:37.666Z"
   },
   {
    "duration": 165,
    "start_time": "2024-09-18T18:37:38.972Z"
   },
   {
    "duration": 146,
    "start_time": "2024-09-18T18:37:39.138Z"
   },
   {
    "duration": 147,
    "start_time": "2024-09-18T18:37:39.285Z"
   },
   {
    "duration": 125,
    "start_time": "2024-09-18T18:37:39.434Z"
   },
   {
    "duration": 10,
    "start_time": "2024-09-18T18:37:39.561Z"
   },
   {
    "duration": 315,
    "start_time": "2024-09-18T18:37:39.573Z"
   },
   {
    "duration": 60,
    "start_time": "2024-09-18T18:37:39.889Z"
   },
   {
    "duration": 18,
    "start_time": "2024-09-18T18:37:39.950Z"
   },
   {
    "duration": 38,
    "start_time": "2024-09-18T18:37:39.970Z"
   },
   {
    "duration": 56,
    "start_time": "2024-09-18T18:37:40.010Z"
   },
   {
    "duration": 12,
    "start_time": "2024-09-18T18:37:40.067Z"
   },
   {
    "duration": 139,
    "start_time": "2024-09-18T18:37:40.081Z"
   },
   {
    "duration": 54,
    "start_time": "2024-09-18T18:37:40.226Z"
   },
   {
    "duration": 0,
    "start_time": "2024-09-18T18:37:40.281Z"
   },
   {
    "duration": 0,
    "start_time": "2024-09-18T18:37:40.282Z"
   },
   {
    "duration": 105,
    "start_time": "2024-09-18T18:38:28.632Z"
   },
   {
    "duration": 16,
    "start_time": "2024-09-18T18:42:00.080Z"
   },
   {
    "duration": 11,
    "start_time": "2024-09-18T18:48:17.319Z"
   },
   {
    "duration": 1260,
    "start_time": "2024-09-18T18:53:22.588Z"
   },
   {
    "duration": 163,
    "start_time": "2024-09-18T18:53:23.849Z"
   },
   {
    "duration": 140,
    "start_time": "2024-09-18T18:53:24.013Z"
   },
   {
    "duration": 141,
    "start_time": "2024-09-18T18:53:24.155Z"
   },
   {
    "duration": 108,
    "start_time": "2024-09-18T18:53:24.298Z"
   },
   {
    "duration": 280,
    "start_time": "2024-09-18T18:53:24.408Z"
   },
   {
    "duration": 61,
    "start_time": "2024-09-18T18:53:24.689Z"
   },
   {
    "duration": 18,
    "start_time": "2024-09-18T18:53:24.751Z"
   },
   {
    "duration": 17,
    "start_time": "2024-09-18T18:53:24.770Z"
   },
   {
    "duration": 130,
    "start_time": "2024-09-18T18:53:24.789Z"
   },
   {
    "duration": 0,
    "start_time": "2024-09-18T18:53:24.920Z"
   },
   {
    "duration": 0,
    "start_time": "2024-09-18T18:53:24.921Z"
   },
   {
    "duration": 0,
    "start_time": "2024-09-18T18:53:24.925Z"
   },
   {
    "duration": 0,
    "start_time": "2024-09-18T18:53:24.925Z"
   },
   {
    "duration": 0,
    "start_time": "2024-09-18T18:53:24.926Z"
   },
   {
    "duration": 0,
    "start_time": "2024-09-18T18:53:24.927Z"
   },
   {
    "duration": 8,
    "start_time": "2024-09-18T18:54:21.320Z"
   },
   {
    "duration": 28,
    "start_time": "2024-09-18T18:54:26.518Z"
   },
   {
    "duration": 21,
    "start_time": "2024-09-18T18:55:01.840Z"
   },
   {
    "duration": 12,
    "start_time": "2024-09-18T18:55:09.745Z"
   },
   {
    "duration": 1282,
    "start_time": "2024-09-18T18:55:17.862Z"
   },
   {
    "duration": 164,
    "start_time": "2024-09-18T18:55:19.146Z"
   },
   {
    "duration": 139,
    "start_time": "2024-09-18T18:55:19.311Z"
   },
   {
    "duration": 157,
    "start_time": "2024-09-18T18:55:19.451Z"
   },
   {
    "duration": 122,
    "start_time": "2024-09-18T18:55:19.611Z"
   },
   {
    "duration": 289,
    "start_time": "2024-09-18T18:55:19.734Z"
   },
   {
    "duration": 52,
    "start_time": "2024-09-18T18:55:20.024Z"
   },
   {
    "duration": 18,
    "start_time": "2024-09-18T18:55:20.078Z"
   },
   {
    "duration": 33,
    "start_time": "2024-09-18T18:55:20.097Z"
   },
   {
    "duration": 16,
    "start_time": "2024-09-18T18:55:20.132Z"
   },
   {
    "duration": 7,
    "start_time": "2024-09-18T18:55:20.150Z"
   },
   {
    "duration": 28,
    "start_time": "2024-09-18T18:55:20.159Z"
   },
   {
    "duration": 55,
    "start_time": "2024-09-18T18:55:20.189Z"
   },
   {
    "duration": 115,
    "start_time": "2024-09-18T18:55:20.246Z"
   },
   {
    "duration": 0,
    "start_time": "2024-09-18T18:55:20.362Z"
   },
   {
    "duration": 0,
    "start_time": "2024-09-18T18:55:20.363Z"
   },
   {
    "duration": 1324,
    "start_time": "2024-09-18T18:57:04.528Z"
   },
   {
    "duration": 168,
    "start_time": "2024-09-18T18:57:05.854Z"
   },
   {
    "duration": 144,
    "start_time": "2024-09-18T18:57:06.024Z"
   },
   {
    "duration": 150,
    "start_time": "2024-09-18T18:57:06.170Z"
   },
   {
    "duration": 126,
    "start_time": "2024-09-18T18:57:06.326Z"
   },
   {
    "duration": 289,
    "start_time": "2024-09-18T18:57:06.454Z"
   },
   {
    "duration": 54,
    "start_time": "2024-09-18T18:57:06.744Z"
   },
   {
    "duration": 32,
    "start_time": "2024-09-18T18:57:06.800Z"
   },
   {
    "duration": 18,
    "start_time": "2024-09-18T18:57:06.833Z"
   },
   {
    "duration": 52,
    "start_time": "2024-09-18T18:57:06.854Z"
   },
   {
    "duration": 45,
    "start_time": "2024-09-18T18:57:06.908Z"
   },
   {
    "duration": 32,
    "start_time": "2024-09-18T18:57:06.955Z"
   },
   {
    "duration": 49,
    "start_time": "2024-09-18T18:57:06.989Z"
   },
   {
    "duration": 18,
    "start_time": "2024-09-18T18:57:07.040Z"
   },
   {
    "duration": 175,
    "start_time": "2024-09-18T18:57:07.059Z"
   },
   {
    "duration": 198,
    "start_time": "2024-09-18T18:57:07.236Z"
   },
   {
    "duration": 14,
    "start_time": "2024-09-18T19:00:57.566Z"
   },
   {
    "duration": 10,
    "start_time": "2024-09-18T19:11:19.280Z"
   },
   {
    "duration": 8,
    "start_time": "2024-09-18T19:11:53.522Z"
   },
   {
    "duration": 11,
    "start_time": "2024-09-18T19:14:43.496Z"
   },
   {
    "duration": 1042,
    "start_time": "2024-09-18T19:27:20.199Z"
   },
   {
    "duration": 12,
    "start_time": "2024-09-18T19:27:46.188Z"
   },
   {
    "duration": 133,
    "start_time": "2024-09-18T19:31:59.234Z"
   },
   {
    "duration": 11,
    "start_time": "2024-09-18T19:33:30.862Z"
   },
   {
    "duration": 78,
    "start_time": "2024-09-18T19:35:18.202Z"
   },
   {
    "duration": 81,
    "start_time": "2024-09-18T19:37:28.180Z"
   },
   {
    "duration": 4,
    "start_time": "2024-09-18T20:11:05.096Z"
   },
   {
    "duration": 1335,
    "start_time": "2024-09-18T20:18:38.677Z"
   },
   {
    "duration": 180,
    "start_time": "2024-09-18T20:18:40.014Z"
   },
   {
    "duration": 151,
    "start_time": "2024-09-18T20:18:40.196Z"
   },
   {
    "duration": 154,
    "start_time": "2024-09-18T20:18:40.348Z"
   },
   {
    "duration": 136,
    "start_time": "2024-09-18T20:18:40.527Z"
   },
   {
    "duration": 276,
    "start_time": "2024-09-18T20:18:40.664Z"
   },
   {
    "duration": 52,
    "start_time": "2024-09-18T20:18:40.941Z"
   },
   {
    "duration": 31,
    "start_time": "2024-09-18T20:18:40.995Z"
   },
   {
    "duration": 18,
    "start_time": "2024-09-18T20:18:41.027Z"
   },
   {
    "duration": 15,
    "start_time": "2024-09-18T20:18:41.047Z"
   },
   {
    "duration": 38,
    "start_time": "2024-09-18T20:18:41.063Z"
   },
   {
    "duration": 22,
    "start_time": "2024-09-18T20:18:41.102Z"
   },
   {
    "duration": 39,
    "start_time": "2024-09-18T20:18:41.126Z"
   },
   {
    "duration": 16,
    "start_time": "2024-09-18T20:18:41.167Z"
   },
   {
    "duration": 106,
    "start_time": "2024-09-18T20:18:41.226Z"
   },
   {
    "duration": 192,
    "start_time": "2024-09-18T20:18:41.334Z"
   },
   {
    "duration": 170,
    "start_time": "2024-09-18T20:18:41.528Z"
   },
   {
    "duration": 3,
    "start_time": "2024-09-18T20:18:41.699Z"
   },
   {
    "duration": 22,
    "start_time": "2024-09-18T20:18:41.703Z"
   },
   {
    "duration": 3,
    "start_time": "2024-09-18T20:21:10.949Z"
   },
   {
    "duration": 3,
    "start_time": "2024-09-18T20:23:29.328Z"
   },
   {
    "duration": 3,
    "start_time": "2024-09-18T20:23:34.264Z"
   },
   {
    "duration": 11,
    "start_time": "2024-09-18T20:27:02.368Z"
   },
   {
    "duration": 12,
    "start_time": "2024-09-18T20:37:47.604Z"
   },
   {
    "duration": 5,
    "start_time": "2024-09-18T20:42:35.111Z"
   },
   {
    "duration": 6,
    "start_time": "2024-09-18T20:50:05.317Z"
   },
   {
    "duration": 3,
    "start_time": "2024-09-18T20:50:25.730Z"
   },
   {
    "duration": 5,
    "start_time": "2024-09-18T20:51:26.492Z"
   },
   {
    "duration": 60,
    "start_time": "2024-09-18T20:55:27.098Z"
   },
   {
    "duration": 61,
    "start_time": "2024-09-18T20:55:54.341Z"
   },
   {
    "duration": 3,
    "start_time": "2024-09-18T20:56:04.181Z"
   },
   {
    "duration": 3,
    "start_time": "2024-09-18T20:56:58.851Z"
   },
   {
    "duration": 3,
    "start_time": "2024-09-18T20:57:26.813Z"
   },
   {
    "duration": 4,
    "start_time": "2024-09-18T20:58:02.749Z"
   },
   {
    "duration": 44,
    "start_time": "2024-09-19T17:32:46.511Z"
   },
   {
    "duration": 1502,
    "start_time": "2024-09-19T17:32:55.680Z"
   },
   {
    "duration": 656,
    "start_time": "2024-09-19T17:32:57.184Z"
   },
   {
    "duration": 575,
    "start_time": "2024-09-19T17:32:57.842Z"
   },
   {
    "duration": 552,
    "start_time": "2024-09-19T17:32:58.419Z"
   },
   {
    "duration": 111,
    "start_time": "2024-09-19T17:32:58.972Z"
   },
   {
    "duration": 274,
    "start_time": "2024-09-19T17:32:59.084Z"
   },
   {
    "duration": 61,
    "start_time": "2024-09-19T17:32:59.359Z"
   },
   {
    "duration": 17,
    "start_time": "2024-09-19T17:32:59.421Z"
   },
   {
    "duration": 23,
    "start_time": "2024-09-19T17:32:59.440Z"
   },
   {
    "duration": 26,
    "start_time": "2024-09-19T17:32:59.464Z"
   },
   {
    "duration": 6,
    "start_time": "2024-09-19T17:32:59.492Z"
   },
   {
    "duration": 29,
    "start_time": "2024-09-19T17:32:59.499Z"
   },
   {
    "duration": 36,
    "start_time": "2024-09-19T17:32:59.530Z"
   },
   {
    "duration": 121,
    "start_time": "2024-09-19T17:32:59.569Z"
   },
   {
    "duration": 107,
    "start_time": "2024-09-19T17:32:59.694Z"
   },
   {
    "duration": 91,
    "start_time": "2024-09-19T17:32:59.803Z"
   },
   {
    "duration": 271,
    "start_time": "2024-09-19T17:32:59.896Z"
   },
   {
    "duration": 3,
    "start_time": "2024-09-19T17:33:00.168Z"
   },
   {
    "duration": 35,
    "start_time": "2024-09-19T17:33:00.173Z"
   },
   {
    "duration": 36,
    "start_time": "2024-09-19T17:33:00.210Z"
   },
   {
    "duration": 49,
    "start_time": "2024-09-19T17:33:00.249Z"
   },
   {
    "duration": 74,
    "start_time": "2024-09-19T17:33:00.300Z"
   },
   {
    "duration": 21,
    "start_time": "2024-09-19T17:33:00.376Z"
   },
   {
    "duration": 7,
    "start_time": "2024-09-19T17:33:00.399Z"
   },
   {
    "duration": 1282,
    "start_time": "2024-09-19T17:46:26.611Z"
   },
   {
    "duration": 161,
    "start_time": "2024-09-19T17:46:27.894Z"
   },
   {
    "duration": 143,
    "start_time": "2024-09-19T17:46:28.057Z"
   },
   {
    "duration": 147,
    "start_time": "2024-09-19T17:46:28.202Z"
   },
   {
    "duration": 120,
    "start_time": "2024-09-19T17:46:28.350Z"
   },
   {
    "duration": 277,
    "start_time": "2024-09-19T17:46:28.471Z"
   },
   {
    "duration": 54,
    "start_time": "2024-09-19T17:46:28.750Z"
   },
   {
    "duration": 41,
    "start_time": "2024-09-19T17:46:28.806Z"
   },
   {
    "duration": 16,
    "start_time": "2024-09-19T17:46:28.849Z"
   },
   {
    "duration": 14,
    "start_time": "2024-09-19T17:46:28.867Z"
   },
   {
    "duration": 6,
    "start_time": "2024-09-19T17:46:28.882Z"
   },
   {
    "duration": 17,
    "start_time": "2024-09-19T17:46:28.890Z"
   },
   {
    "duration": 33,
    "start_time": "2024-09-19T17:46:28.909Z"
   },
   {
    "duration": 49,
    "start_time": "2024-09-19T17:46:28.944Z"
   },
   {
    "duration": 106,
    "start_time": "2024-09-19T17:46:28.994Z"
   },
   {
    "duration": 193,
    "start_time": "2024-09-19T17:46:29.102Z"
   },
   {
    "duration": 241,
    "start_time": "2024-09-19T17:46:29.298Z"
   },
   {
    "duration": 3,
    "start_time": "2024-09-19T17:46:29.540Z"
   },
   {
    "duration": 21,
    "start_time": "2024-09-19T17:46:29.544Z"
   },
   {
    "duration": 22,
    "start_time": "2024-09-19T17:46:29.566Z"
   },
   {
    "duration": 9,
    "start_time": "2024-09-19T17:46:29.589Z"
   },
   {
    "duration": 3,
    "start_time": "2024-09-19T17:46:29.600Z"
   },
   {
    "duration": 4,
    "start_time": "2024-09-19T17:46:29.604Z"
   },
   {
    "duration": 1029,
    "start_time": "2024-09-19T17:46:29.609Z"
   },
   {
    "duration": 6,
    "start_time": "2024-09-19T17:48:08.131Z"
   },
   {
    "duration": 8,
    "start_time": "2024-09-19T17:48:29.341Z"
   },
   {
    "duration": 115,
    "start_time": "2024-09-19T17:49:17.920Z"
   },
   {
    "duration": 884,
    "start_time": "2024-09-19T17:49:27.861Z"
   },
   {
    "duration": 983,
    "start_time": "2024-09-19T17:51:09.451Z"
   },
   {
    "duration": 8,
    "start_time": "2024-09-19T17:52:22.360Z"
   },
   {
    "duration": 7,
    "start_time": "2024-09-19T17:56:12.134Z"
   },
   {
    "duration": 11,
    "start_time": "2024-09-19T17:56:37.371Z"
   },
   {
    "duration": 8,
    "start_time": "2024-09-19T17:57:20.741Z"
   },
   {
    "duration": 9,
    "start_time": "2024-09-19T17:58:07.309Z"
   },
   {
    "duration": 7,
    "start_time": "2024-09-19T17:58:36.422Z"
   },
   {
    "duration": 7,
    "start_time": "2024-09-19T17:58:47.030Z"
   },
   {
    "duration": 6,
    "start_time": "2024-09-19T17:59:23.571Z"
   },
   {
    "duration": 8,
    "start_time": "2024-09-19T17:59:30.798Z"
   },
   {
    "duration": 8,
    "start_time": "2024-09-19T17:59:48.331Z"
   },
   {
    "duration": 7,
    "start_time": "2024-09-19T18:03:35.022Z"
   },
   {
    "duration": 9,
    "start_time": "2024-09-19T18:05:28.781Z"
   },
   {
    "duration": 8,
    "start_time": "2024-09-19T18:05:54.021Z"
   },
   {
    "duration": 3,
    "start_time": "2024-09-19T18:06:07.718Z"
   },
   {
    "duration": 3,
    "start_time": "2024-09-19T18:06:30.409Z"
   },
   {
    "duration": 4,
    "start_time": "2024-09-19T18:07:07.299Z"
   },
   {
    "duration": 10,
    "start_time": "2024-09-19T18:09:46.117Z"
   },
   {
    "duration": 62,
    "start_time": "2024-09-19T18:10:19.767Z"
   },
   {
    "duration": 4,
    "start_time": "2024-09-19T18:10:26.677Z"
   },
   {
    "duration": 4,
    "start_time": "2024-09-19T18:11:24.764Z"
   },
   {
    "duration": 4,
    "start_time": "2024-09-19T18:16:21.415Z"
   },
   {
    "duration": 5,
    "start_time": "2024-09-19T18:16:38.475Z"
   },
   {
    "duration": 4,
    "start_time": "2024-09-19T18:16:51.031Z"
   },
   {
    "duration": 5,
    "start_time": "2024-09-19T18:17:03.787Z"
   },
   {
    "duration": 3,
    "start_time": "2024-09-19T18:23:31.455Z"
   },
   {
    "duration": 12,
    "start_time": "2024-09-19T18:26:30.071Z"
   },
   {
    "duration": 1317,
    "start_time": "2024-09-19T18:26:53.270Z"
   },
   {
    "duration": 160,
    "start_time": "2024-09-19T18:26:54.589Z"
   },
   {
    "duration": 137,
    "start_time": "2024-09-19T18:26:54.750Z"
   },
   {
    "duration": 142,
    "start_time": "2024-09-19T18:26:54.889Z"
   },
   {
    "duration": 110,
    "start_time": "2024-09-19T18:26:55.032Z"
   },
   {
    "duration": 282,
    "start_time": "2024-09-19T18:26:55.143Z"
   },
   {
    "duration": 50,
    "start_time": "2024-09-19T18:26:55.426Z"
   },
   {
    "duration": 28,
    "start_time": "2024-09-19T18:26:55.478Z"
   },
   {
    "duration": 17,
    "start_time": "2024-09-19T18:26:55.508Z"
   },
   {
    "duration": 13,
    "start_time": "2024-09-19T18:26:55.529Z"
   },
   {
    "duration": 4,
    "start_time": "2024-09-19T18:26:55.544Z"
   },
   {
    "duration": 25,
    "start_time": "2024-09-19T18:26:55.549Z"
   },
   {
    "duration": 49,
    "start_time": "2024-09-19T18:26:55.590Z"
   },
   {
    "duration": 69,
    "start_time": "2024-09-19T18:26:55.640Z"
   },
   {
    "duration": 181,
    "start_time": "2024-09-19T18:26:55.710Z"
   },
   {
    "duration": 105,
    "start_time": "2024-09-19T18:26:55.893Z"
   },
   {
    "duration": 252,
    "start_time": "2024-09-19T18:26:56.000Z"
   },
   {
    "duration": 3,
    "start_time": "2024-09-19T18:26:56.253Z"
   },
   {
    "duration": 6,
    "start_time": "2024-09-19T18:26:56.257Z"
   },
   {
    "duration": 10,
    "start_time": "2024-09-19T18:26:56.265Z"
   },
   {
    "duration": 21,
    "start_time": "2024-09-19T18:26:56.276Z"
   },
   {
    "duration": 3,
    "start_time": "2024-09-19T18:26:56.299Z"
   },
   {
    "duration": 3,
    "start_time": "2024-09-19T18:26:56.303Z"
   },
   {
    "duration": 8,
    "start_time": "2024-09-19T18:26:56.308Z"
   },
   {
    "duration": 116,
    "start_time": "2024-09-19T18:26:56.317Z"
   },
   {
    "duration": 0,
    "start_time": "2024-09-19T18:26:56.434Z"
   },
   {
    "duration": 0,
    "start_time": "2024-09-19T18:26:56.435Z"
   },
   {
    "duration": 0,
    "start_time": "2024-09-19T18:26:56.436Z"
   },
   {
    "duration": 0,
    "start_time": "2024-09-19T18:26:56.437Z"
   },
   {
    "duration": 0,
    "start_time": "2024-09-19T18:26:56.438Z"
   },
   {
    "duration": 3,
    "start_time": "2024-09-19T18:28:14.043Z"
   },
   {
    "duration": 6,
    "start_time": "2024-09-19T18:28:14.735Z"
   },
   {
    "duration": 3,
    "start_time": "2024-09-19T18:28:28.197Z"
   },
   {
    "duration": 6,
    "start_time": "2024-09-19T18:28:28.625Z"
   },
   {
    "duration": 6,
    "start_time": "2024-09-19T18:28:44.551Z"
   },
   {
    "duration": 6,
    "start_time": "2024-09-19T18:28:58.559Z"
   },
   {
    "duration": 1598,
    "start_time": "2024-09-21T14:50:55.857Z"
   },
   {
    "duration": 563,
    "start_time": "2024-09-21T14:50:57.457Z"
   },
   {
    "duration": 240,
    "start_time": "2024-09-21T14:50:58.021Z"
   },
   {
    "duration": 242,
    "start_time": "2024-09-21T14:50:58.263Z"
   },
   {
    "duration": 123,
    "start_time": "2024-09-21T14:50:58.507Z"
   },
   {
    "duration": 329,
    "start_time": "2024-09-21T14:50:58.631Z"
   },
   {
    "duration": 66,
    "start_time": "2024-09-21T14:50:58.964Z"
   },
   {
    "duration": 19,
    "start_time": "2024-09-21T14:50:59.032Z"
   },
   {
    "duration": 28,
    "start_time": "2024-09-21T14:50:59.052Z"
   },
   {
    "duration": 15,
    "start_time": "2024-09-21T14:50:59.081Z"
   },
   {
    "duration": 25,
    "start_time": "2024-09-21T14:50:59.098Z"
   },
   {
    "duration": 23,
    "start_time": "2024-09-21T14:50:59.124Z"
   },
   {
    "duration": 49,
    "start_time": "2024-09-21T14:50:59.149Z"
   },
   {
    "duration": 164,
    "start_time": "2024-09-21T14:50:59.201Z"
   },
   {
    "duration": 97,
    "start_time": "2024-09-21T14:50:59.373Z"
   },
   {
    "duration": 108,
    "start_time": "2024-09-21T14:50:59.474Z"
   },
   {
    "duration": 261,
    "start_time": "2024-09-21T14:50:59.585Z"
   },
   {
    "duration": 4,
    "start_time": "2024-09-21T14:50:59.848Z"
   },
   {
    "duration": 79,
    "start_time": "2024-09-21T14:50:59.864Z"
   },
   {
    "duration": 41,
    "start_time": "2024-09-21T14:50:59.945Z"
   },
   {
    "duration": 34,
    "start_time": "2024-09-21T14:50:59.988Z"
   },
   {
    "duration": 25,
    "start_time": "2024-09-21T14:51:00.024Z"
   },
   {
    "duration": 63,
    "start_time": "2024-09-21T14:51:00.051Z"
   },
   {
    "duration": 20,
    "start_time": "2024-09-21T14:51:00.115Z"
   },
   {
    "duration": 44,
    "start_time": "2024-09-21T14:51:00.136Z"
   },
   {
    "duration": 30,
    "start_time": "2024-09-21T14:51:00.182Z"
   },
   {
    "duration": 68,
    "start_time": "2024-09-21T14:51:00.213Z"
   },
   {
    "duration": 37,
    "start_time": "2024-09-21T14:51:00.283Z"
   },
   {
    "duration": 96,
    "start_time": "2024-09-21T14:51:00.321Z"
   },
   {
    "duration": 1506,
    "start_time": "2024-09-21T14:53:28.247Z"
   },
   {
    "duration": 6,
    "start_time": "2024-09-21T15:00:59.701Z"
   },
   {
    "duration": 54,
    "start_time": "2024-09-21T15:01:03.026Z"
   },
   {
    "duration": 6,
    "start_time": "2024-09-21T15:01:25.271Z"
   },
   {
    "duration": 6,
    "start_time": "2024-09-21T15:01:26.341Z"
   },
   {
    "duration": 871,
    "start_time": "2024-09-21T15:01:27.269Z"
   },
   {
    "duration": 6,
    "start_time": "2024-09-21T15:02:02.550Z"
   },
   {
    "duration": 854,
    "start_time": "2024-09-21T15:02:03.686Z"
   },
   {
    "duration": 835,
    "start_time": "2024-09-21T15:02:21.179Z"
   },
   {
    "duration": 806,
    "start_time": "2024-09-21T15:02:35.704Z"
   },
   {
    "duration": 3,
    "start_time": "2024-09-21T15:05:08.899Z"
   },
   {
    "duration": 7,
    "start_time": "2024-09-21T15:05:09.996Z"
   },
   {
    "duration": 903,
    "start_time": "2024-09-21T15:05:10.945Z"
   },
   {
    "duration": 852,
    "start_time": "2024-09-21T15:05:13.788Z"
   },
   {
    "duration": 1408,
    "start_time": "2024-09-21T15:11:56.777Z"
   },
   {
    "duration": 173,
    "start_time": "2024-09-21T15:11:58.187Z"
   },
   {
    "duration": 151,
    "start_time": "2024-09-21T15:11:58.367Z"
   },
   {
    "duration": 160,
    "start_time": "2024-09-21T15:11:58.520Z"
   },
   {
    "duration": 136,
    "start_time": "2024-09-21T15:11:58.683Z"
   },
   {
    "duration": 353,
    "start_time": "2024-09-21T15:11:58.821Z"
   },
   {
    "duration": 84,
    "start_time": "2024-09-21T15:11:59.177Z"
   },
   {
    "duration": 28,
    "start_time": "2024-09-21T15:11:59.265Z"
   },
   {
    "duration": 21,
    "start_time": "2024-09-21T15:11:59.295Z"
   },
   {
    "duration": 15,
    "start_time": "2024-09-21T15:11:59.318Z"
   },
   {
    "duration": 15,
    "start_time": "2024-09-21T15:11:59.334Z"
   },
   {
    "duration": 33,
    "start_time": "2024-09-21T15:11:59.367Z"
   },
   {
    "duration": 38,
    "start_time": "2024-09-21T15:11:59.402Z"
   },
   {
    "duration": 54,
    "start_time": "2024-09-21T15:11:59.443Z"
   },
   {
    "duration": 173,
    "start_time": "2024-09-21T15:11:59.499Z"
   },
   {
    "duration": 195,
    "start_time": "2024-09-21T15:11:59.674Z"
   },
   {
    "duration": 183,
    "start_time": "2024-09-21T15:11:59.871Z"
   },
   {
    "duration": 3,
    "start_time": "2024-09-21T15:12:00.055Z"
   },
   {
    "duration": 50,
    "start_time": "2024-09-21T15:12:00.070Z"
   },
   {
    "duration": 14,
    "start_time": "2024-09-21T15:12:00.121Z"
   },
   {
    "duration": 38,
    "start_time": "2024-09-21T15:12:00.137Z"
   },
   {
    "duration": 34,
    "start_time": "2024-09-21T15:12:00.177Z"
   },
   {
    "duration": 20,
    "start_time": "2024-09-21T15:12:00.212Z"
   },
   {
    "duration": 20,
    "start_time": "2024-09-21T15:12:00.234Z"
   },
   {
    "duration": 70,
    "start_time": "2024-09-21T15:12:00.256Z"
   },
   {
    "duration": 19,
    "start_time": "2024-09-21T15:12:00.328Z"
   },
   {
    "duration": 31,
    "start_time": "2024-09-21T15:12:00.349Z"
   },
   {
    "duration": 17,
    "start_time": "2024-09-21T15:12:00.384Z"
   },
   {
    "duration": 84,
    "start_time": "2024-09-21T15:12:00.402Z"
   },
   {
    "duration": 914,
    "start_time": "2024-09-21T15:12:00.487Z"
   },
   {
    "duration": 833,
    "start_time": "2024-09-21T15:12:01.403Z"
   },
   {
    "duration": 878,
    "start_time": "2024-09-21T15:12:02.238Z"
   },
   {
    "duration": 1374,
    "start_time": "2024-09-21T15:15:13.101Z"
   },
   {
    "duration": 179,
    "start_time": "2024-09-21T15:15:14.477Z"
   },
   {
    "duration": 157,
    "start_time": "2024-09-21T15:15:14.657Z"
   },
   {
    "duration": 163,
    "start_time": "2024-09-21T15:15:14.815Z"
   },
   {
    "duration": 132,
    "start_time": "2024-09-21T15:15:14.981Z"
   },
   {
    "duration": 342,
    "start_time": "2024-09-21T15:15:15.115Z"
   },
   {
    "duration": 65,
    "start_time": "2024-09-21T15:15:15.459Z"
   },
   {
    "duration": 20,
    "start_time": "2024-09-21T15:15:15.526Z"
   },
   {
    "duration": 42,
    "start_time": "2024-09-21T15:15:15.548Z"
   },
   {
    "duration": 18,
    "start_time": "2024-09-21T15:15:15.592Z"
   },
   {
    "duration": 3,
    "start_time": "2024-09-21T15:15:15.612Z"
   },
   {
    "duration": 26,
    "start_time": "2024-09-21T15:15:15.617Z"
   },
   {
    "duration": 44,
    "start_time": "2024-09-21T15:15:15.671Z"
   },
   {
    "duration": 17,
    "start_time": "2024-09-21T15:15:15.719Z"
   },
   {
    "duration": 95,
    "start_time": "2024-09-21T15:15:15.776Z"
   },
   {
    "duration": 102,
    "start_time": "2024-09-21T15:15:15.872Z"
   },
   {
    "duration": 259,
    "start_time": "2024-09-21T15:15:15.976Z"
   },
   {
    "duration": 3,
    "start_time": "2024-09-21T15:15:16.236Z"
   },
   {
    "duration": 15,
    "start_time": "2024-09-21T15:15:16.240Z"
   },
   {
    "duration": 10,
    "start_time": "2024-09-21T15:15:16.271Z"
   },
   {
    "duration": 15,
    "start_time": "2024-09-21T15:15:16.282Z"
   },
   {
    "duration": 4,
    "start_time": "2024-09-21T15:15:16.299Z"
   },
   {
    "duration": 14,
    "start_time": "2024-09-21T15:15:16.305Z"
   },
   {
    "duration": 4,
    "start_time": "2024-09-21T15:15:16.321Z"
   },
   {
    "duration": 16,
    "start_time": "2024-09-21T15:15:16.326Z"
   },
   {
    "duration": 7,
    "start_time": "2024-09-21T15:15:16.343Z"
   },
   {
    "duration": 19,
    "start_time": "2024-09-21T15:15:16.351Z"
   },
   {
    "duration": 6,
    "start_time": "2024-09-21T15:15:16.372Z"
   },
   {
    "duration": 6,
    "start_time": "2024-09-21T15:15:16.381Z"
   },
   {
    "duration": 880,
    "start_time": "2024-09-21T15:15:16.389Z"
   },
   {
    "duration": 849,
    "start_time": "2024-09-21T15:15:17.271Z"
   },
   {
    "duration": 825,
    "start_time": "2024-09-21T15:15:18.121Z"
   },
   {
    "duration": 1400,
    "start_time": "2024-09-21T15:27:06.990Z"
   },
   {
    "duration": 185,
    "start_time": "2024-09-21T15:27:08.392Z"
   },
   {
    "duration": 155,
    "start_time": "2024-09-21T15:27:08.579Z"
   },
   {
    "duration": 170,
    "start_time": "2024-09-21T15:27:08.736Z"
   },
   {
    "duration": 143,
    "start_time": "2024-09-21T15:27:08.908Z"
   },
   {
    "duration": 371,
    "start_time": "2024-09-21T15:27:09.053Z"
   },
   {
    "duration": 78,
    "start_time": "2024-09-21T15:27:09.426Z"
   },
   {
    "duration": 22,
    "start_time": "2024-09-21T15:27:09.506Z"
   },
   {
    "duration": 48,
    "start_time": "2024-09-21T15:27:09.530Z"
   },
   {
    "duration": 17,
    "start_time": "2024-09-21T15:27:09.586Z"
   },
   {
    "duration": 26,
    "start_time": "2024-09-21T15:27:09.606Z"
   },
   {
    "duration": 52,
    "start_time": "2024-09-21T15:27:09.633Z"
   },
   {
    "duration": 50,
    "start_time": "2024-09-21T15:27:09.686Z"
   },
   {
    "duration": 42,
    "start_time": "2024-09-21T15:27:09.738Z"
   },
   {
    "duration": 203,
    "start_time": "2024-09-21T15:27:09.782Z"
   },
   {
    "duration": 97,
    "start_time": "2024-09-21T15:27:09.990Z"
   },
   {
    "duration": 255,
    "start_time": "2024-09-21T15:27:10.089Z"
   },
   {
    "duration": 3,
    "start_time": "2024-09-21T15:27:10.346Z"
   },
   {
    "duration": 27,
    "start_time": "2024-09-21T15:27:10.350Z"
   },
   {
    "duration": 9,
    "start_time": "2024-09-21T15:27:10.379Z"
   },
   {
    "duration": 12,
    "start_time": "2024-09-21T15:27:10.389Z"
   },
   {
    "duration": 4,
    "start_time": "2024-09-21T15:27:10.402Z"
   },
   {
    "duration": 4,
    "start_time": "2024-09-21T15:27:10.408Z"
   },
   {
    "duration": 4,
    "start_time": "2024-09-21T15:27:10.413Z"
   },
   {
    "duration": 12,
    "start_time": "2024-09-21T15:27:10.418Z"
   },
   {
    "duration": 67,
    "start_time": "2024-09-21T15:27:10.431Z"
   },
   {
    "duration": 15,
    "start_time": "2024-09-21T15:27:10.500Z"
   },
   {
    "duration": 3,
    "start_time": "2024-09-21T15:27:10.518Z"
   },
   {
    "duration": 72,
    "start_time": "2024-09-21T15:27:10.522Z"
   },
   {
    "duration": 0,
    "start_time": "2024-09-21T15:27:10.595Z"
   },
   {
    "duration": 0,
    "start_time": "2024-09-21T15:27:10.597Z"
   },
   {
    "duration": 0,
    "start_time": "2024-09-21T15:27:10.598Z"
   },
   {
    "duration": 74,
    "start_time": "2024-09-21T15:27:48.908Z"
   },
   {
    "duration": 6,
    "start_time": "2024-09-21T15:28:17.944Z"
   },
   {
    "duration": 4980,
    "start_time": "2024-09-21T15:28:19.907Z"
   },
   {
    "duration": 7,
    "start_time": "2024-09-21T15:28:40.129Z"
   },
   {
    "duration": 4721,
    "start_time": "2024-09-21T15:28:44.689Z"
   },
   {
    "duration": 4655,
    "start_time": "2024-09-21T15:28:53.677Z"
   },
   {
    "duration": 7,
    "start_time": "2024-09-21T15:38:09.279Z"
   },
   {
    "duration": 17,
    "start_time": "2024-09-21T15:38:10.076Z"
   },
   {
    "duration": 1459,
    "start_time": "2024-09-21T15:38:26.978Z"
   },
   {
    "duration": 189,
    "start_time": "2024-09-21T15:38:28.439Z"
   },
   {
    "duration": 177,
    "start_time": "2024-09-21T15:38:28.629Z"
   },
   {
    "duration": 175,
    "start_time": "2024-09-21T15:38:28.808Z"
   },
   {
    "duration": 133,
    "start_time": "2024-09-21T15:38:28.985Z"
   },
   {
    "duration": 342,
    "start_time": "2024-09-21T15:38:29.120Z"
   },
   {
    "duration": 75,
    "start_time": "2024-09-21T15:38:29.465Z"
   },
   {
    "duration": 34,
    "start_time": "2024-09-21T15:38:29.542Z"
   },
   {
    "duration": 22,
    "start_time": "2024-09-21T15:38:29.578Z"
   },
   {
    "duration": 17,
    "start_time": "2024-09-21T15:38:29.602Z"
   },
   {
    "duration": 3,
    "start_time": "2024-09-21T15:38:29.621Z"
   },
   {
    "duration": 54,
    "start_time": "2024-09-21T15:38:29.626Z"
   },
   {
    "duration": 37,
    "start_time": "2024-09-21T15:38:29.682Z"
   },
   {
    "duration": 50,
    "start_time": "2024-09-21T15:38:29.722Z"
   },
   {
    "duration": 115,
    "start_time": "2024-09-21T15:38:29.773Z"
   },
   {
    "duration": 97,
    "start_time": "2024-09-21T15:38:29.890Z"
   },
   {
    "duration": 248,
    "start_time": "2024-09-21T15:38:29.989Z"
   },
   {
    "duration": 3,
    "start_time": "2024-09-21T15:38:30.238Z"
   },
   {
    "duration": 25,
    "start_time": "2024-09-21T15:38:30.242Z"
   },
   {
    "duration": 21,
    "start_time": "2024-09-21T15:38:30.279Z"
   },
   {
    "duration": 11,
    "start_time": "2024-09-21T15:38:30.302Z"
   },
   {
    "duration": 22,
    "start_time": "2024-09-21T15:38:30.314Z"
   },
   {
    "duration": 43,
    "start_time": "2024-09-21T15:38:30.338Z"
   },
   {
    "duration": 41,
    "start_time": "2024-09-21T15:38:30.383Z"
   },
   {
    "duration": 95,
    "start_time": "2024-09-21T15:38:30.426Z"
   },
   {
    "duration": 58,
    "start_time": "2024-09-21T15:38:30.523Z"
   },
   {
    "duration": 20,
    "start_time": "2024-09-21T15:38:30.583Z"
   },
   {
    "duration": 35,
    "start_time": "2024-09-21T15:38:30.604Z"
   },
   {
    "duration": 65,
    "start_time": "2024-09-21T15:38:30.641Z"
   },
   {
    "duration": 190,
    "start_time": "2024-09-21T15:38:30.707Z"
   },
   {
    "duration": 0,
    "start_time": "2024-09-21T15:38:30.899Z"
   },
   {
    "duration": 0,
    "start_time": "2024-09-21T15:38:30.900Z"
   },
   {
    "duration": 7,
    "start_time": "2024-09-21T15:38:51.109Z"
   },
   {
    "duration": 798,
    "start_time": "2024-09-21T15:38:53.242Z"
   },
   {
    "duration": 1487,
    "start_time": "2024-09-21T15:39:09.141Z"
   },
   {
    "duration": 219,
    "start_time": "2024-09-21T15:39:10.630Z"
   },
   {
    "duration": 163,
    "start_time": "2024-09-21T15:39:10.851Z"
   },
   {
    "duration": 170,
    "start_time": "2024-09-21T15:39:11.016Z"
   },
   {
    "duration": 132,
    "start_time": "2024-09-21T15:39:11.187Z"
   },
   {
    "duration": 330,
    "start_time": "2024-09-21T15:39:11.321Z"
   },
   {
    "duration": 68,
    "start_time": "2024-09-21T15:39:11.653Z"
   },
   {
    "duration": 20,
    "start_time": "2024-09-21T15:39:11.723Z"
   },
   {
    "duration": 42,
    "start_time": "2024-09-21T15:39:11.744Z"
   },
   {
    "duration": 15,
    "start_time": "2024-09-21T15:39:11.790Z"
   },
   {
    "duration": 3,
    "start_time": "2024-09-21T15:39:11.807Z"
   },
   {
    "duration": 22,
    "start_time": "2024-09-21T15:39:11.812Z"
   },
   {
    "duration": 71,
    "start_time": "2024-09-21T15:39:11.835Z"
   },
   {
    "duration": 65,
    "start_time": "2024-09-21T15:39:11.908Z"
   },
   {
    "duration": 109,
    "start_time": "2024-09-21T15:39:11.975Z"
   },
   {
    "duration": 194,
    "start_time": "2024-09-21T15:39:12.086Z"
   },
   {
    "duration": 256,
    "start_time": "2024-09-21T15:39:12.284Z"
   },
   {
    "duration": 3,
    "start_time": "2024-09-21T15:39:12.542Z"
   },
   {
    "duration": 9,
    "start_time": "2024-09-21T15:39:12.546Z"
   },
   {
    "duration": 13,
    "start_time": "2024-09-21T15:39:12.567Z"
   },
   {
    "duration": 11,
    "start_time": "2024-09-21T15:39:12.581Z"
   },
   {
    "duration": 5,
    "start_time": "2024-09-21T15:39:12.594Z"
   },
   {
    "duration": 7,
    "start_time": "2024-09-21T15:39:12.600Z"
   },
   {
    "duration": 6,
    "start_time": "2024-09-21T15:39:12.609Z"
   },
   {
    "duration": 10,
    "start_time": "2024-09-21T15:39:12.617Z"
   },
   {
    "duration": 41,
    "start_time": "2024-09-21T15:39:12.628Z"
   },
   {
    "duration": 10,
    "start_time": "2024-09-21T15:39:12.672Z"
   },
   {
    "duration": 11,
    "start_time": "2024-09-21T15:39:12.685Z"
   },
   {
    "duration": 7,
    "start_time": "2024-09-21T15:39:12.698Z"
   },
   {
    "duration": 897,
    "start_time": "2024-09-21T15:39:12.707Z"
   },
   {
    "duration": 0,
    "start_time": "2024-09-21T15:39:13.605Z"
   },
   {
    "duration": 0,
    "start_time": "2024-09-21T15:39:13.606Z"
   },
   {
    "duration": 1513,
    "start_time": "2024-09-21T15:39:59.595Z"
   },
   {
    "duration": 194,
    "start_time": "2024-09-21T15:40:01.110Z"
   },
   {
    "duration": 154,
    "start_time": "2024-09-21T15:40:01.305Z"
   },
   {
    "duration": 167,
    "start_time": "2024-09-21T15:40:01.461Z"
   },
   {
    "duration": 148,
    "start_time": "2024-09-21T15:40:01.630Z"
   },
   {
    "duration": 344,
    "start_time": "2024-09-21T15:40:01.781Z"
   },
   {
    "duration": 69,
    "start_time": "2024-09-21T15:40:02.127Z"
   },
   {
    "duration": 20,
    "start_time": "2024-09-21T15:40:02.197Z"
   },
   {
    "duration": 18,
    "start_time": "2024-09-21T15:40:02.219Z"
   },
   {
    "duration": 45,
    "start_time": "2024-09-21T15:40:02.239Z"
   },
   {
    "duration": 2,
    "start_time": "2024-09-21T15:40:02.286Z"
   },
   {
    "duration": 21,
    "start_time": "2024-09-21T15:40:02.290Z"
   },
   {
    "duration": 50,
    "start_time": "2024-09-21T15:40:02.313Z"
   },
   {
    "duration": 101,
    "start_time": "2024-09-21T15:40:02.367Z"
   },
   {
    "duration": 110,
    "start_time": "2024-09-21T15:40:02.476Z"
   },
   {
    "duration": 100,
    "start_time": "2024-09-21T15:40:02.588Z"
   },
   {
    "duration": 187,
    "start_time": "2024-09-21T15:40:02.765Z"
   },
   {
    "duration": 11,
    "start_time": "2024-09-21T15:40:02.964Z"
   },
   {
    "duration": 13,
    "start_time": "2024-09-21T15:40:02.980Z"
   },
   {
    "duration": 10,
    "start_time": "2024-09-21T15:40:02.995Z"
   },
   {
    "duration": 26,
    "start_time": "2024-09-21T15:40:03.006Z"
   },
   {
    "duration": 7,
    "start_time": "2024-09-21T15:40:03.034Z"
   },
   {
    "duration": 24,
    "start_time": "2024-09-21T15:40:03.042Z"
   },
   {
    "duration": 15,
    "start_time": "2024-09-21T15:40:03.068Z"
   },
   {
    "duration": 13,
    "start_time": "2024-09-21T15:40:03.086Z"
   },
   {
    "duration": 9,
    "start_time": "2024-09-21T15:40:03.101Z"
   },
   {
    "duration": 16,
    "start_time": "2024-09-21T15:40:03.112Z"
   },
   {
    "duration": 13,
    "start_time": "2024-09-21T15:40:03.130Z"
   },
   {
    "duration": 18,
    "start_time": "2024-09-21T15:40:03.145Z"
   },
   {
    "duration": 926,
    "start_time": "2024-09-21T15:40:03.168Z"
   },
   {
    "duration": 0,
    "start_time": "2024-09-21T15:40:04.095Z"
   },
   {
    "duration": 0,
    "start_time": "2024-09-21T15:40:04.097Z"
   },
   {
    "duration": 1425,
    "start_time": "2024-09-21T15:40:42.885Z"
   },
   {
    "duration": 194,
    "start_time": "2024-09-21T15:40:44.313Z"
   },
   {
    "duration": 197,
    "start_time": "2024-09-21T15:40:44.509Z"
   },
   {
    "duration": 176,
    "start_time": "2024-09-21T15:40:44.708Z"
   },
   {
    "duration": 156,
    "start_time": "2024-09-21T15:40:44.886Z"
   },
   {
    "duration": 364,
    "start_time": "2024-09-21T15:40:45.043Z"
   },
   {
    "duration": 71,
    "start_time": "2024-09-21T15:40:45.409Z"
   },
   {
    "duration": 21,
    "start_time": "2024-09-21T15:40:45.482Z"
   },
   {
    "duration": 20,
    "start_time": "2024-09-21T15:40:45.504Z"
   },
   {
    "duration": 52,
    "start_time": "2024-09-21T15:40:45.525Z"
   },
   {
    "duration": 6,
    "start_time": "2024-09-21T15:40:45.579Z"
   },
   {
    "duration": 23,
    "start_time": "2024-09-21T15:40:45.587Z"
   },
   {
    "duration": 38,
    "start_time": "2024-09-21T15:40:45.611Z"
   },
   {
    "duration": 120,
    "start_time": "2024-09-21T15:40:45.652Z"
   },
   {
    "duration": 95,
    "start_time": "2024-09-21T15:40:45.774Z"
   },
   {
    "duration": 106,
    "start_time": "2024-09-21T15:40:45.872Z"
   },
   {
    "duration": 173,
    "start_time": "2024-09-21T15:40:46.066Z"
   },
   {
    "duration": 3,
    "start_time": "2024-09-21T15:40:46.241Z"
   },
   {
    "duration": 8,
    "start_time": "2024-09-21T15:40:46.246Z"
   },
   {
    "duration": 12,
    "start_time": "2024-09-21T15:40:46.265Z"
   },
   {
    "duration": 15,
    "start_time": "2024-09-21T15:40:46.279Z"
   },
   {
    "duration": 9,
    "start_time": "2024-09-21T15:40:46.296Z"
   },
   {
    "duration": 6,
    "start_time": "2024-09-21T15:40:46.308Z"
   },
   {
    "duration": 4,
    "start_time": "2024-09-21T15:40:46.316Z"
   },
   {
    "duration": 11,
    "start_time": "2024-09-21T15:40:46.322Z"
   },
   {
    "duration": 18,
    "start_time": "2024-09-21T15:40:46.365Z"
   },
   {
    "duration": 9,
    "start_time": "2024-09-21T15:40:46.385Z"
   },
   {
    "duration": 3,
    "start_time": "2024-09-21T15:40:46.396Z"
   },
   {
    "duration": 7,
    "start_time": "2024-09-21T15:40:46.401Z"
   },
   {
    "duration": 872,
    "start_time": "2024-09-21T15:40:46.410Z"
   },
   {
    "duration": 793,
    "start_time": "2024-09-21T15:40:47.284Z"
   },
   {
    "duration": 769,
    "start_time": "2024-09-21T15:40:48.084Z"
   },
   {
    "duration": 8,
    "start_time": "2024-09-21T15:42:44.791Z"
   },
   {
    "duration": 10,
    "start_time": "2024-09-21T15:44:07.831Z"
   },
   {
    "duration": 125,
    "start_time": "2024-09-21T15:44:51.334Z"
   },
   {
    "duration": 9,
    "start_time": "2024-09-21T15:45:00.276Z"
   },
   {
    "duration": 4,
    "start_time": "2024-09-21T15:45:36.987Z"
   },
   {
    "duration": 11,
    "start_time": "2024-09-21T15:45:38.284Z"
   },
   {
    "duration": 744,
    "start_time": "2024-09-21T15:45:39.012Z"
   },
   {
    "duration": 826,
    "start_time": "2024-09-21T15:45:39.994Z"
   },
   {
    "duration": 786,
    "start_time": "2024-09-21T15:45:42.133Z"
   },
   {
    "duration": 6,
    "start_time": "2024-09-21T15:46:42.279Z"
   },
   {
    "duration": 805,
    "start_time": "2024-09-21T15:46:42.949Z"
   },
   {
    "duration": 14,
    "start_time": "2024-09-21T15:47:46.977Z"
   },
   {
    "duration": 1413,
    "start_time": "2024-09-21T15:47:59.428Z"
   },
   {
    "duration": 194,
    "start_time": "2024-09-21T15:48:00.843Z"
   },
   {
    "duration": 164,
    "start_time": "2024-09-21T15:48:01.038Z"
   },
   {
    "duration": 169,
    "start_time": "2024-09-21T15:48:01.204Z"
   },
   {
    "duration": 129,
    "start_time": "2024-09-21T15:48:01.377Z"
   },
   {
    "duration": 338,
    "start_time": "2024-09-21T15:48:01.508Z"
   },
   {
    "duration": 73,
    "start_time": "2024-09-21T15:48:01.847Z"
   },
   {
    "duration": 22,
    "start_time": "2024-09-21T15:48:01.922Z"
   },
   {
    "duration": 39,
    "start_time": "2024-09-21T15:48:01.945Z"
   },
   {
    "duration": 16,
    "start_time": "2024-09-21T15:48:01.986Z"
   },
   {
    "duration": 22,
    "start_time": "2024-09-21T15:48:02.004Z"
   },
   {
    "duration": 23,
    "start_time": "2024-09-21T15:48:02.027Z"
   },
   {
    "duration": 61,
    "start_time": "2024-09-21T15:48:02.052Z"
   },
   {
    "duration": 85,
    "start_time": "2024-09-21T15:48:02.116Z"
   },
   {
    "duration": 181,
    "start_time": "2024-09-21T15:48:02.202Z"
   },
   {
    "duration": 97,
    "start_time": "2024-09-21T15:48:02.387Z"
   },
   {
    "duration": 297,
    "start_time": "2024-09-21T15:48:02.486Z"
   },
   {
    "duration": 3,
    "start_time": "2024-09-21T15:48:02.785Z"
   },
   {
    "duration": 11,
    "start_time": "2024-09-21T15:48:02.790Z"
   },
   {
    "duration": 23,
    "start_time": "2024-09-21T15:48:02.803Z"
   },
   {
    "duration": 10,
    "start_time": "2024-09-21T15:48:02.828Z"
   },
   {
    "duration": 15,
    "start_time": "2024-09-21T15:48:02.839Z"
   },
   {
    "duration": 24,
    "start_time": "2024-09-21T15:48:02.856Z"
   },
   {
    "duration": 5,
    "start_time": "2024-09-21T15:48:02.882Z"
   },
   {
    "duration": 11,
    "start_time": "2024-09-21T15:48:02.888Z"
   },
   {
    "duration": 7,
    "start_time": "2024-09-21T15:48:02.901Z"
   },
   {
    "duration": 12,
    "start_time": "2024-09-21T15:48:02.909Z"
   },
   {
    "duration": 2,
    "start_time": "2024-09-21T15:48:02.923Z"
   },
   {
    "duration": 6,
    "start_time": "2024-09-21T15:48:02.927Z"
   },
   {
    "duration": 858,
    "start_time": "2024-09-21T15:48:02.934Z"
   },
   {
    "duration": 135,
    "start_time": "2024-09-21T15:48:03.794Z"
   },
   {
    "duration": 0,
    "start_time": "2024-09-21T15:48:03.931Z"
   },
   {
    "duration": 817,
    "start_time": "2024-09-21T15:48:42.324Z"
   },
   {
    "duration": 810,
    "start_time": "2024-09-21T15:48:53.218Z"
   },
   {
    "duration": 789,
    "start_time": "2024-09-21T15:49:04.488Z"
   },
   {
    "duration": 1486,
    "start_time": "2024-09-21T15:50:09.836Z"
   },
   {
    "duration": 189,
    "start_time": "2024-09-21T15:50:11.325Z"
   },
   {
    "duration": 175,
    "start_time": "2024-09-21T15:50:11.516Z"
   },
   {
    "duration": 161,
    "start_time": "2024-09-21T15:50:11.693Z"
   },
   {
    "duration": 130,
    "start_time": "2024-09-21T15:50:11.857Z"
   },
   {
    "duration": 331,
    "start_time": "2024-09-21T15:50:11.989Z"
   },
   {
    "duration": 70,
    "start_time": "2024-09-21T15:50:12.322Z"
   },
   {
    "duration": 26,
    "start_time": "2024-09-21T15:50:12.393Z"
   },
   {
    "duration": 24,
    "start_time": "2024-09-21T15:50:12.421Z"
   },
   {
    "duration": 19,
    "start_time": "2024-09-21T15:50:12.467Z"
   },
   {
    "duration": 3,
    "start_time": "2024-09-21T15:50:12.488Z"
   },
   {
    "duration": 36,
    "start_time": "2024-09-21T15:50:12.493Z"
   },
   {
    "duration": 50,
    "start_time": "2024-09-21T15:50:12.531Z"
   },
   {
    "duration": 18,
    "start_time": "2024-09-21T15:50:12.584Z"
   },
   {
    "duration": 23,
    "start_time": "2024-09-21T15:50:12.667Z"
   },
   {
    "duration": 98,
    "start_time": "2024-09-21T15:50:12.768Z"
   },
   {
    "duration": 189,
    "start_time": "2024-09-21T15:50:12.868Z"
   },
   {
    "duration": 10,
    "start_time": "2024-09-21T15:50:13.069Z"
   },
   {
    "duration": 7,
    "start_time": "2024-09-21T15:50:13.081Z"
   },
   {
    "duration": 11,
    "start_time": "2024-09-21T15:50:13.090Z"
   },
   {
    "duration": 13,
    "start_time": "2024-09-21T15:50:13.104Z"
   },
   {
    "duration": 6,
    "start_time": "2024-09-21T15:50:13.119Z"
   },
   {
    "duration": 5,
    "start_time": "2024-09-21T15:50:13.127Z"
   },
   {
    "duration": 40,
    "start_time": "2024-09-21T15:50:13.134Z"
   },
   {
    "duration": 22,
    "start_time": "2024-09-21T15:50:13.176Z"
   },
   {
    "duration": 7,
    "start_time": "2024-09-21T15:50:13.200Z"
   },
   {
    "duration": 20,
    "start_time": "2024-09-21T15:50:13.208Z"
   },
   {
    "duration": 5,
    "start_time": "2024-09-21T15:50:13.230Z"
   },
   {
    "duration": 12,
    "start_time": "2024-09-21T15:50:13.237Z"
   },
   {
    "duration": 922,
    "start_time": "2024-09-21T15:50:13.251Z"
   },
   {
    "duration": 849,
    "start_time": "2024-09-21T15:50:14.175Z"
   },
   {
    "duration": 876,
    "start_time": "2024-09-21T15:50:15.025Z"
   },
   {
    "duration": 6,
    "start_time": "2024-09-21T15:52:44.514Z"
   },
   {
    "duration": 1600,
    "start_time": "2024-09-21T15:52:45.005Z"
   },
   {
    "duration": 1588,
    "start_time": "2024-09-21T15:52:47.991Z"
   },
   {
    "duration": 1720,
    "start_time": "2024-09-21T15:52:50.900Z"
   },
   {
    "duration": 1362,
    "start_time": "2024-09-21T15:55:37.930Z"
   },
   {
    "duration": 182,
    "start_time": "2024-09-21T15:55:39.294Z"
   },
   {
    "duration": 154,
    "start_time": "2024-09-21T15:55:39.478Z"
   },
   {
    "duration": 164,
    "start_time": "2024-09-21T15:55:39.634Z"
   },
   {
    "duration": 165,
    "start_time": "2024-09-21T15:55:39.801Z"
   },
   {
    "duration": 336,
    "start_time": "2024-09-21T15:55:39.969Z"
   },
   {
    "duration": 71,
    "start_time": "2024-09-21T15:55:40.307Z"
   },
   {
    "duration": 19,
    "start_time": "2024-09-21T15:55:40.380Z"
   },
   {
    "duration": 17,
    "start_time": "2024-09-21T15:55:40.401Z"
   },
   {
    "duration": 15,
    "start_time": "2024-09-21T15:55:40.420Z"
   },
   {
    "duration": 3,
    "start_time": "2024-09-21T15:55:40.437Z"
   },
   {
    "duration": 54,
    "start_time": "2024-09-21T15:55:40.442Z"
   },
   {
    "duration": 36,
    "start_time": "2024-09-21T15:55:40.498Z"
   },
   {
    "duration": 65,
    "start_time": "2024-09-21T15:55:40.537Z"
   },
   {
    "duration": 83,
    "start_time": "2024-09-21T15:55:40.603Z"
   },
   {
    "duration": 110,
    "start_time": "2024-09-21T15:55:40.767Z"
   },
   {
    "duration": 265,
    "start_time": "2024-09-21T15:55:40.879Z"
   },
   {
    "duration": 3,
    "start_time": "2024-09-21T15:55:41.146Z"
   },
   {
    "duration": 5,
    "start_time": "2024-09-21T15:55:41.165Z"
   },
   {
    "duration": 18,
    "start_time": "2024-09-21T15:55:41.172Z"
   },
   {
    "duration": 10,
    "start_time": "2024-09-21T15:55:41.191Z"
   },
   {
    "duration": 4,
    "start_time": "2024-09-21T15:55:41.203Z"
   },
   {
    "duration": 9,
    "start_time": "2024-09-21T15:55:41.208Z"
   },
   {
    "duration": 3,
    "start_time": "2024-09-21T15:55:41.219Z"
   },
   {
    "duration": 23,
    "start_time": "2024-09-21T15:55:41.223Z"
   },
   {
    "duration": 17,
    "start_time": "2024-09-21T15:55:41.248Z"
   },
   {
    "duration": 30,
    "start_time": "2024-09-21T15:55:41.266Z"
   },
   {
    "duration": 4,
    "start_time": "2024-09-21T15:55:41.297Z"
   },
   {
    "duration": 8,
    "start_time": "2024-09-21T15:55:41.302Z"
   },
   {
    "duration": 812,
    "start_time": "2024-09-21T15:55:41.311Z"
   },
   {
    "duration": 909,
    "start_time": "2024-09-21T15:55:42.125Z"
   },
   {
    "duration": 808,
    "start_time": "2024-09-21T15:55:43.036Z"
   },
   {
    "duration": 6,
    "start_time": "2024-09-21T15:56:14.976Z"
   },
   {
    "duration": 861,
    "start_time": "2024-09-21T15:56:15.850Z"
   },
   {
    "duration": 819,
    "start_time": "2024-09-21T15:56:18.590Z"
   },
   {
    "duration": 807,
    "start_time": "2024-09-21T15:56:20.337Z"
   },
   {
    "duration": 6,
    "start_time": "2024-09-21T15:56:29.451Z"
   },
   {
    "duration": 851,
    "start_time": "2024-09-21T15:56:30.510Z"
   },
   {
    "duration": 6,
    "start_time": "2024-09-21T15:56:41.542Z"
   },
   {
    "duration": 843,
    "start_time": "2024-09-21T15:56:44.565Z"
   },
   {
    "duration": 856,
    "start_time": "2024-09-21T15:56:46.446Z"
   },
   {
    "duration": 829,
    "start_time": "2024-09-21T15:56:48.021Z"
   },
   {
    "duration": 1483,
    "start_time": "2024-09-21T16:12:29.027Z"
   },
   {
    "duration": 194,
    "start_time": "2024-09-21T16:12:30.512Z"
   },
   {
    "duration": 186,
    "start_time": "2024-09-21T16:12:30.707Z"
   },
   {
    "duration": 183,
    "start_time": "2024-09-21T16:12:30.895Z"
   },
   {
    "duration": 133,
    "start_time": "2024-09-21T16:12:31.088Z"
   },
   {
    "duration": 329,
    "start_time": "2024-09-21T16:12:31.222Z"
   },
   {
    "duration": 62,
    "start_time": "2024-09-21T16:12:31.552Z"
   },
   {
    "duration": 20,
    "start_time": "2024-09-21T16:12:31.616Z"
   },
   {
    "duration": 47,
    "start_time": "2024-09-21T16:12:31.637Z"
   },
   {
    "duration": 16,
    "start_time": "2024-09-21T16:12:31.688Z"
   },
   {
    "duration": 23,
    "start_time": "2024-09-21T16:12:31.706Z"
   },
   {
    "duration": 55,
    "start_time": "2024-09-21T16:12:31.731Z"
   },
   {
    "duration": 69,
    "start_time": "2024-09-21T16:12:31.789Z"
   },
   {
    "duration": 107,
    "start_time": "2024-09-21T16:12:31.859Z"
   },
   {
    "duration": 196,
    "start_time": "2024-09-21T16:12:31.969Z"
   },
   {
    "duration": 114,
    "start_time": "2024-09-21T16:12:32.170Z"
   },
   {
    "duration": 267,
    "start_time": "2024-09-21T16:12:32.287Z"
   },
   {
    "duration": 10,
    "start_time": "2024-09-21T16:12:32.568Z"
   },
   {
    "duration": 64,
    "start_time": "2024-09-21T16:12:32.582Z"
   },
   {
    "duration": 29,
    "start_time": "2024-09-21T16:12:32.648Z"
   },
   {
    "duration": 13,
    "start_time": "2024-09-21T16:12:32.679Z"
   },
   {
    "duration": 5,
    "start_time": "2024-09-21T16:12:32.694Z"
   },
   {
    "duration": 6,
    "start_time": "2024-09-21T16:12:32.701Z"
   },
   {
    "duration": 26,
    "start_time": "2024-09-21T16:12:32.709Z"
   },
   {
    "duration": 23,
    "start_time": "2024-09-21T16:12:32.737Z"
   },
   {
    "duration": 17,
    "start_time": "2024-09-21T16:12:32.762Z"
   },
   {
    "duration": 17,
    "start_time": "2024-09-21T16:12:32.781Z"
   },
   {
    "duration": 25,
    "start_time": "2024-09-21T16:12:32.802Z"
   },
   {
    "duration": 13,
    "start_time": "2024-09-21T16:12:32.829Z"
   },
   {
    "duration": 200,
    "start_time": "2024-09-21T16:12:32.844Z"
   },
   {
    "duration": 0,
    "start_time": "2024-09-21T16:12:33.046Z"
   },
   {
    "duration": 0,
    "start_time": "2024-09-21T16:12:33.047Z"
   },
   {
    "duration": 4,
    "start_time": "2024-09-21T16:16:28.978Z"
   },
   {
    "duration": 6,
    "start_time": "2024-09-21T16:16:30.081Z"
   },
   {
    "duration": 849,
    "start_time": "2024-09-21T16:16:30.830Z"
   },
   {
    "duration": 861,
    "start_time": "2024-09-21T16:16:33.150Z"
   },
   {
    "duration": 876,
    "start_time": "2024-09-21T16:16:35.058Z"
   },
   {
    "duration": 1462,
    "start_time": "2024-09-21T16:18:17.029Z"
   },
   {
    "duration": 187,
    "start_time": "2024-09-21T16:18:18.493Z"
   },
   {
    "duration": 160,
    "start_time": "2024-09-21T16:18:18.682Z"
   },
   {
    "duration": 167,
    "start_time": "2024-09-21T16:18:18.843Z"
   },
   {
    "duration": 141,
    "start_time": "2024-09-21T16:18:19.012Z"
   },
   {
    "duration": 345,
    "start_time": "2024-09-21T16:18:19.154Z"
   },
   {
    "duration": 78,
    "start_time": "2024-09-21T16:18:19.501Z"
   },
   {
    "duration": 20,
    "start_time": "2024-09-21T16:18:19.581Z"
   },
   {
    "duration": 19,
    "start_time": "2024-09-21T16:18:19.603Z"
   },
   {
    "duration": 17,
    "start_time": "2024-09-21T16:18:19.624Z"
   },
   {
    "duration": 17,
    "start_time": "2024-09-21T16:18:19.643Z"
   },
   {
    "duration": 28,
    "start_time": "2024-09-21T16:18:19.665Z"
   },
   {
    "duration": 35,
    "start_time": "2024-09-21T16:18:19.695Z"
   },
   {
    "duration": 48,
    "start_time": "2024-09-21T16:18:19.733Z"
   },
   {
    "duration": 190,
    "start_time": "2024-09-21T16:18:19.782Z"
   },
   {
    "duration": 102,
    "start_time": "2024-09-21T16:18:19.974Z"
   },
   {
    "duration": 266,
    "start_time": "2024-09-21T16:18:20.080Z"
   },
   {
    "duration": 2,
    "start_time": "2024-09-21T16:18:20.348Z"
   },
   {
    "duration": 36,
    "start_time": "2024-09-21T16:18:20.366Z"
   },
   {
    "duration": 9,
    "start_time": "2024-09-21T16:18:20.403Z"
   },
   {
    "duration": 11,
    "start_time": "2024-09-21T16:18:20.413Z"
   },
   {
    "duration": 5,
    "start_time": "2024-09-21T16:18:20.425Z"
   },
   {
    "duration": 6,
    "start_time": "2024-09-21T16:18:20.431Z"
   },
   {
    "duration": 9,
    "start_time": "2024-09-21T16:18:20.438Z"
   },
   {
    "duration": 11,
    "start_time": "2024-09-21T16:18:20.448Z"
   },
   {
    "duration": 19,
    "start_time": "2024-09-21T16:18:20.460Z"
   },
   {
    "duration": 7,
    "start_time": "2024-09-21T16:18:20.481Z"
   },
   {
    "duration": 24,
    "start_time": "2024-09-21T16:18:20.489Z"
   },
   {
    "duration": 6,
    "start_time": "2024-09-21T16:18:20.515Z"
   },
   {
    "duration": 818,
    "start_time": "2024-09-21T16:18:20.522Z"
   },
   {
    "duration": 883,
    "start_time": "2024-09-21T16:18:21.342Z"
   },
   {
    "duration": 867,
    "start_time": "2024-09-21T16:18:22.226Z"
   },
   {
    "duration": 7,
    "start_time": "2024-09-21T16:19:09.391Z"
   },
   {
    "duration": 816,
    "start_time": "2024-09-21T16:19:09.920Z"
   },
   {
    "duration": 8,
    "start_time": "2024-09-21T16:19:20.077Z"
   },
   {
    "duration": 6,
    "start_time": "2024-09-21T16:19:41.121Z"
   },
   {
    "duration": 893,
    "start_time": "2024-09-21T16:19:41.175Z"
   },
   {
    "duration": 1443,
    "start_time": "2024-09-21T16:19:54.181Z"
   },
   {
    "duration": 199,
    "start_time": "2024-09-21T16:19:55.626Z"
   },
   {
    "duration": 187,
    "start_time": "2024-09-21T16:19:55.827Z"
   },
   {
    "duration": 171,
    "start_time": "2024-09-21T16:19:56.016Z"
   },
   {
    "duration": 134,
    "start_time": "2024-09-21T16:19:56.189Z"
   },
   {
    "duration": 355,
    "start_time": "2024-09-21T16:19:56.324Z"
   },
   {
    "duration": 60,
    "start_time": "2024-09-21T16:19:56.681Z"
   },
   {
    "duration": 42,
    "start_time": "2024-09-21T16:19:56.742Z"
   },
   {
    "duration": 29,
    "start_time": "2024-09-21T16:19:56.786Z"
   },
   {
    "duration": 16,
    "start_time": "2024-09-21T16:19:56.819Z"
   },
   {
    "duration": 3,
    "start_time": "2024-09-21T16:19:56.836Z"
   },
   {
    "duration": 41,
    "start_time": "2024-09-21T16:19:56.841Z"
   },
   {
    "duration": 37,
    "start_time": "2024-09-21T16:19:56.884Z"
   },
   {
    "duration": 50,
    "start_time": "2024-09-21T16:19:56.924Z"
   },
   {
    "duration": 109,
    "start_time": "2024-09-21T16:19:56.976Z"
   },
   {
    "duration": 93,
    "start_time": "2024-09-21T16:19:57.087Z"
   },
   {
    "duration": 258,
    "start_time": "2024-09-21T16:19:57.183Z"
   },
   {
    "duration": 2,
    "start_time": "2024-09-21T16:19:57.443Z"
   },
   {
    "duration": 29,
    "start_time": "2024-09-21T16:19:57.446Z"
   },
   {
    "duration": 14,
    "start_time": "2024-09-21T16:19:57.477Z"
   },
   {
    "duration": 11,
    "start_time": "2024-09-21T16:19:57.492Z"
   },
   {
    "duration": 5,
    "start_time": "2024-09-21T16:19:57.504Z"
   },
   {
    "duration": 4,
    "start_time": "2024-09-21T16:19:57.510Z"
   },
   {
    "duration": 3,
    "start_time": "2024-09-21T16:19:57.516Z"
   },
   {
    "duration": 11,
    "start_time": "2024-09-21T16:19:57.521Z"
   },
   {
    "duration": 7,
    "start_time": "2024-09-21T16:19:57.533Z"
   },
   {
    "duration": 36,
    "start_time": "2024-09-21T16:19:57.541Z"
   },
   {
    "duration": 3,
    "start_time": "2024-09-21T16:19:57.581Z"
   },
   {
    "duration": 6,
    "start_time": "2024-09-21T16:19:57.585Z"
   },
   {
    "duration": 883,
    "start_time": "2024-09-21T16:19:57.593Z"
   },
   {
    "duration": 942,
    "start_time": "2024-09-21T16:19:58.480Z"
   },
   {
    "duration": 882,
    "start_time": "2024-09-21T16:19:59.424Z"
   },
   {
    "duration": 1441,
    "start_time": "2024-09-21T16:20:57.407Z"
   },
   {
    "duration": 211,
    "start_time": "2024-09-21T16:20:58.851Z"
   },
   {
    "duration": 190,
    "start_time": "2024-09-21T16:20:59.064Z"
   },
   {
    "duration": 170,
    "start_time": "2024-09-21T16:20:59.256Z"
   },
   {
    "duration": 152,
    "start_time": "2024-09-21T16:20:59.428Z"
   },
   {
    "duration": 377,
    "start_time": "2024-09-21T16:20:59.581Z"
   },
   {
    "duration": 70,
    "start_time": "2024-09-21T16:20:59.960Z"
   },
   {
    "duration": 48,
    "start_time": "2024-09-21T16:21:00.032Z"
   },
   {
    "duration": 20,
    "start_time": "2024-09-21T16:21:00.081Z"
   },
   {
    "duration": 28,
    "start_time": "2024-09-21T16:21:00.102Z"
   },
   {
    "duration": 16,
    "start_time": "2024-09-21T16:21:00.132Z"
   },
   {
    "duration": 48,
    "start_time": "2024-09-21T16:21:00.149Z"
   },
   {
    "duration": 102,
    "start_time": "2024-09-21T16:21:00.199Z"
   },
   {
    "duration": 61,
    "start_time": "2024-09-21T16:21:00.304Z"
   },
   {
    "duration": 105,
    "start_time": "2024-09-21T16:21:00.371Z"
   },
   {
    "duration": 190,
    "start_time": "2024-09-21T16:21:00.479Z"
   },
   {
    "duration": 201,
    "start_time": "2024-09-21T16:21:00.672Z"
   },
   {
    "duration": 5,
    "start_time": "2024-09-21T16:21:00.875Z"
   },
   {
    "duration": 17,
    "start_time": "2024-09-21T16:21:00.882Z"
   },
   {
    "duration": 22,
    "start_time": "2024-09-21T16:21:00.900Z"
   },
   {
    "duration": 48,
    "start_time": "2024-09-21T16:21:00.924Z"
   },
   {
    "duration": 45,
    "start_time": "2024-09-21T16:21:00.973Z"
   },
   {
    "duration": 47,
    "start_time": "2024-09-21T16:21:01.020Z"
   },
   {
    "duration": 19,
    "start_time": "2024-09-21T16:21:01.071Z"
   },
   {
    "duration": 53,
    "start_time": "2024-09-21T16:21:01.092Z"
   },
   {
    "duration": 47,
    "start_time": "2024-09-21T16:21:01.146Z"
   },
   {
    "duration": 17,
    "start_time": "2024-09-21T16:21:01.195Z"
   },
   {
    "duration": 35,
    "start_time": "2024-09-21T16:21:01.213Z"
   },
   {
    "duration": 28,
    "start_time": "2024-09-21T16:21:01.250Z"
   },
   {
    "duration": 930,
    "start_time": "2024-09-21T16:21:01.280Z"
   },
   {
    "duration": 926,
    "start_time": "2024-09-21T16:21:02.211Z"
   },
   {
    "duration": 811,
    "start_time": "2024-09-21T16:21:03.139Z"
   },
   {
    "duration": 1441,
    "start_time": "2024-09-21T16:24:01.939Z"
   },
   {
    "duration": 177,
    "start_time": "2024-09-21T16:24:03.381Z"
   },
   {
    "duration": 159,
    "start_time": "2024-09-21T16:24:03.560Z"
   },
   {
    "duration": 183,
    "start_time": "2024-09-21T16:24:03.721Z"
   },
   {
    "duration": 157,
    "start_time": "2024-09-21T16:24:03.907Z"
   },
   {
    "duration": 357,
    "start_time": "2024-09-21T16:24:04.074Z"
   },
   {
    "duration": 69,
    "start_time": "2024-09-21T16:24:04.433Z"
   },
   {
    "duration": 20,
    "start_time": "2024-09-21T16:24:04.504Z"
   },
   {
    "duration": 19,
    "start_time": "2024-09-21T16:24:04.526Z"
   },
   {
    "duration": 37,
    "start_time": "2024-09-21T16:24:04.547Z"
   },
   {
    "duration": 13,
    "start_time": "2024-09-21T16:24:04.586Z"
   },
   {
    "duration": 38,
    "start_time": "2024-09-21T16:24:04.601Z"
   },
   {
    "duration": 39,
    "start_time": "2024-09-21T16:24:04.640Z"
   },
   {
    "duration": 81,
    "start_time": "2024-09-21T16:24:04.683Z"
   },
   {
    "duration": 106,
    "start_time": "2024-09-21T16:24:04.775Z"
   },
   {
    "duration": 184,
    "start_time": "2024-09-21T16:24:04.884Z"
   },
   {
    "duration": 177,
    "start_time": "2024-09-21T16:24:05.070Z"
   },
   {
    "duration": 23,
    "start_time": "2024-09-21T16:24:05.249Z"
   },
   {
    "duration": 19,
    "start_time": "2024-09-21T16:24:05.274Z"
   },
   {
    "duration": 10,
    "start_time": "2024-09-21T16:24:05.294Z"
   },
   {
    "duration": 30,
    "start_time": "2024-09-21T16:24:05.306Z"
   },
   {
    "duration": 4,
    "start_time": "2024-09-21T16:24:05.337Z"
   },
   {
    "duration": 16,
    "start_time": "2024-09-21T16:24:05.343Z"
   },
   {
    "duration": 20,
    "start_time": "2024-09-21T16:24:05.360Z"
   },
   {
    "duration": 18,
    "start_time": "2024-09-21T16:24:05.382Z"
   },
   {
    "duration": 12,
    "start_time": "2024-09-21T16:24:05.402Z"
   },
   {
    "duration": 13,
    "start_time": "2024-09-21T16:24:05.415Z"
   },
   {
    "duration": 6,
    "start_time": "2024-09-21T16:24:05.430Z"
   },
   {
    "duration": 11,
    "start_time": "2024-09-21T16:24:05.437Z"
   },
   {
    "duration": 908,
    "start_time": "2024-09-21T16:24:05.450Z"
   },
   {
    "duration": 828,
    "start_time": "2024-09-21T16:24:06.375Z"
   },
   {
    "duration": 873,
    "start_time": "2024-09-21T16:24:07.204Z"
   },
   {
    "duration": 1365,
    "start_time": "2024-09-21T16:28:26.893Z"
   },
   {
    "duration": 170,
    "start_time": "2024-09-21T16:28:28.260Z"
   },
   {
    "duration": 158,
    "start_time": "2024-09-21T16:28:28.432Z"
   },
   {
    "duration": 166,
    "start_time": "2024-09-21T16:28:28.592Z"
   },
   {
    "duration": 138,
    "start_time": "2024-09-21T16:28:28.764Z"
   },
   {
    "duration": 340,
    "start_time": "2024-09-21T16:28:28.903Z"
   },
   {
    "duration": 81,
    "start_time": "2024-09-21T16:28:29.245Z"
   },
   {
    "duration": 24,
    "start_time": "2024-09-21T16:28:29.328Z"
   },
   {
    "duration": 26,
    "start_time": "2024-09-21T16:28:29.367Z"
   },
   {
    "duration": 16,
    "start_time": "2024-09-21T16:28:29.395Z"
   },
   {
    "duration": 5,
    "start_time": "2024-09-21T16:28:29.413Z"
   },
   {
    "duration": 22,
    "start_time": "2024-09-21T16:28:29.420Z"
   },
   {
    "duration": 39,
    "start_time": "2024-09-21T16:28:29.467Z"
   },
   {
    "duration": 18,
    "start_time": "2024-09-21T16:28:29.509Z"
   },
   {
    "duration": 106,
    "start_time": "2024-09-21T16:28:29.571Z"
   },
   {
    "duration": 91,
    "start_time": "2024-09-21T16:28:29.680Z"
   },
   {
    "duration": 263,
    "start_time": "2024-09-21T16:28:29.773Z"
   },
   {
    "duration": 3,
    "start_time": "2024-09-21T16:28:30.038Z"
   },
   {
    "duration": 45,
    "start_time": "2024-09-21T16:28:30.042Z"
   },
   {
    "duration": 12,
    "start_time": "2024-09-21T16:28:30.088Z"
   },
   {
    "duration": 21,
    "start_time": "2024-09-21T16:28:30.101Z"
   },
   {
    "duration": 19,
    "start_time": "2024-09-21T16:28:30.124Z"
   },
   {
    "duration": 40,
    "start_time": "2024-09-21T16:28:30.145Z"
   },
   {
    "duration": 90,
    "start_time": "2024-09-21T16:28:30.187Z"
   },
   {
    "duration": 41,
    "start_time": "2024-09-21T16:28:30.279Z"
   },
   {
    "duration": 24,
    "start_time": "2024-09-21T16:28:30.321Z"
   },
   {
    "duration": 29,
    "start_time": "2024-09-21T16:28:30.346Z"
   },
   {
    "duration": 22,
    "start_time": "2024-09-21T16:28:30.377Z"
   },
   {
    "duration": 29,
    "start_time": "2024-09-21T16:28:30.400Z"
   },
   {
    "duration": 963,
    "start_time": "2024-09-21T16:28:30.431Z"
   },
   {
    "duration": 808,
    "start_time": "2024-09-21T16:28:31.396Z"
   },
   {
    "duration": 823,
    "start_time": "2024-09-21T16:28:32.205Z"
   },
   {
    "duration": 1543,
    "start_time": "2024-09-22T17:12:14.664Z"
   },
   {
    "duration": 513,
    "start_time": "2024-09-22T17:12:16.209Z"
   },
   {
    "duration": 230,
    "start_time": "2024-09-22T17:12:16.723Z"
   },
   {
    "duration": 237,
    "start_time": "2024-09-22T17:12:16.955Z"
   },
   {
    "duration": 123,
    "start_time": "2024-09-22T17:12:17.194Z"
   },
   {
    "duration": 290,
    "start_time": "2024-09-22T17:12:17.318Z"
   },
   {
    "duration": 64,
    "start_time": "2024-09-22T17:12:17.610Z"
   },
   {
    "duration": 18,
    "start_time": "2024-09-22T17:12:17.676Z"
   },
   {
    "duration": 20,
    "start_time": "2024-09-22T17:12:17.696Z"
   },
   {
    "duration": 26,
    "start_time": "2024-09-22T17:12:17.718Z"
   },
   {
    "duration": 14,
    "start_time": "2024-09-22T17:12:17.746Z"
   },
   {
    "duration": 25,
    "start_time": "2024-09-22T17:12:17.762Z"
   },
   {
    "duration": 35,
    "start_time": "2024-09-22T17:12:17.789Z"
   },
   {
    "duration": 215,
    "start_time": "2024-09-22T17:12:17.827Z"
   },
   {
    "duration": 15,
    "start_time": "2024-09-22T17:12:18.044Z"
   },
   {
    "duration": 192,
    "start_time": "2024-09-22T17:12:18.061Z"
   },
   {
    "duration": 265,
    "start_time": "2024-09-22T17:12:18.255Z"
   },
   {
    "duration": 3,
    "start_time": "2024-09-22T17:12:18.522Z"
   },
   {
    "duration": 4,
    "start_time": "2024-09-22T17:12:18.543Z"
   },
   {
    "duration": 10,
    "start_time": "2024-09-22T17:12:18.549Z"
   },
   {
    "duration": 9,
    "start_time": "2024-09-22T17:12:18.560Z"
   },
   {
    "duration": 8,
    "start_time": "2024-09-22T17:12:18.571Z"
   },
   {
    "duration": 4,
    "start_time": "2024-09-22T17:12:18.580Z"
   },
   {
    "duration": 3,
    "start_time": "2024-09-22T17:12:18.586Z"
   },
   {
    "duration": 8,
    "start_time": "2024-09-22T17:12:18.591Z"
   },
   {
    "duration": 18,
    "start_time": "2024-09-22T17:12:18.601Z"
   },
   {
    "duration": 7,
    "start_time": "2024-09-22T17:12:18.643Z"
   },
   {
    "duration": 4,
    "start_time": "2024-09-22T17:12:18.651Z"
   },
   {
    "duration": 10,
    "start_time": "2024-09-22T17:12:18.656Z"
   },
   {
    "duration": 136,
    "start_time": "2024-09-22T17:12:18.668Z"
   },
   {
    "duration": 0,
    "start_time": "2024-09-22T17:12:18.806Z"
   },
   {
    "duration": 0,
    "start_time": "2024-09-22T17:12:18.807Z"
   },
   {
    "duration": 6,
    "start_time": "2024-09-22T17:13:06.137Z"
   },
   {
    "duration": 15,
    "start_time": "2024-09-22T17:13:07.418Z"
   },
   {
    "duration": 8,
    "start_time": "2024-09-22T17:13:19.884Z"
   },
   {
    "duration": 12,
    "start_time": "2024-09-22T17:13:31.694Z"
   },
   {
    "duration": 12,
    "start_time": "2024-09-22T17:13:32.605Z"
   },
   {
    "duration": 1407,
    "start_time": "2024-09-22T17:13:45.647Z"
   },
   {
    "duration": 180,
    "start_time": "2024-09-22T17:13:47.056Z"
   },
   {
    "duration": 146,
    "start_time": "2024-09-22T17:13:47.238Z"
   },
   {
    "duration": 148,
    "start_time": "2024-09-22T17:13:47.386Z"
   },
   {
    "duration": 141,
    "start_time": "2024-09-22T17:13:47.535Z"
   },
   {
    "duration": 312,
    "start_time": "2024-09-22T17:13:47.677Z"
   },
   {
    "duration": 64,
    "start_time": "2024-09-22T17:13:47.991Z"
   },
   {
    "duration": 21,
    "start_time": "2024-09-22T17:13:48.057Z"
   },
   {
    "duration": 19,
    "start_time": "2024-09-22T17:13:48.079Z"
   },
   {
    "duration": 14,
    "start_time": "2024-09-22T17:13:48.102Z"
   },
   {
    "duration": 3,
    "start_time": "2024-09-22T17:13:48.142Z"
   },
   {
    "duration": 19,
    "start_time": "2024-09-22T17:13:48.147Z"
   },
   {
    "duration": 35,
    "start_time": "2024-09-22T17:13:48.168Z"
   },
   {
    "duration": 47,
    "start_time": "2024-09-22T17:13:48.205Z"
   },
   {
    "duration": 186,
    "start_time": "2024-09-22T17:13:48.265Z"
   },
   {
    "duration": 102,
    "start_time": "2024-09-22T17:13:48.454Z"
   },
   {
    "duration": 276,
    "start_time": "2024-09-22T17:13:48.559Z"
   },
   {
    "duration": 8,
    "start_time": "2024-09-22T17:13:48.836Z"
   },
   {
    "duration": 4,
    "start_time": "2024-09-22T17:13:48.847Z"
   },
   {
    "duration": 9,
    "start_time": "2024-09-22T17:13:48.853Z"
   },
   {
    "duration": 11,
    "start_time": "2024-09-22T17:13:48.863Z"
   },
   {
    "duration": 4,
    "start_time": "2024-09-22T17:13:48.876Z"
   },
   {
    "duration": 4,
    "start_time": "2024-09-22T17:13:48.881Z"
   },
   {
    "duration": 3,
    "start_time": "2024-09-22T17:13:48.887Z"
   },
   {
    "duration": 9,
    "start_time": "2024-09-22T17:13:48.891Z"
   },
   {
    "duration": 45,
    "start_time": "2024-09-22T17:13:48.902Z"
   },
   {
    "duration": 6,
    "start_time": "2024-09-22T17:13:48.949Z"
   },
   {
    "duration": 3,
    "start_time": "2024-09-22T17:13:48.958Z"
   },
   {
    "duration": 84,
    "start_time": "2024-09-22T17:13:48.963Z"
   },
   {
    "duration": 122,
    "start_time": "2024-09-22T17:13:49.049Z"
   },
   {
    "duration": 0,
    "start_time": "2024-09-22T17:13:49.173Z"
   },
   {
    "duration": 0,
    "start_time": "2024-09-22T17:13:49.174Z"
   },
   {
    "duration": 1405,
    "start_time": "2024-09-22T17:16:27.133Z"
   },
   {
    "duration": 169,
    "start_time": "2024-09-22T17:16:28.540Z"
   },
   {
    "duration": 163,
    "start_time": "2024-09-22T17:16:28.711Z"
   },
   {
    "duration": 151,
    "start_time": "2024-09-22T17:16:28.876Z"
   },
   {
    "duration": 132,
    "start_time": "2024-09-22T17:16:29.028Z"
   },
   {
    "duration": 326,
    "start_time": "2024-09-22T17:16:29.162Z"
   },
   {
    "duration": 64,
    "start_time": "2024-09-22T17:16:29.489Z"
   },
   {
    "duration": 19,
    "start_time": "2024-09-22T17:16:29.554Z"
   },
   {
    "duration": 18,
    "start_time": "2024-09-22T17:16:29.574Z"
   },
   {
    "duration": 14,
    "start_time": "2024-09-22T17:16:29.596Z"
   },
   {
    "duration": 3,
    "start_time": "2024-09-22T17:16:29.612Z"
   },
   {
    "duration": 20,
    "start_time": "2024-09-22T17:16:29.643Z"
   },
   {
    "duration": 33,
    "start_time": "2024-09-22T17:16:29.665Z"
   },
   {
    "duration": 53,
    "start_time": "2024-09-22T17:16:29.700Z"
   },
   {
    "duration": 15,
    "start_time": "2024-09-22T17:16:29.844Z"
   },
   {
    "duration": 186,
    "start_time": "2024-09-22T17:16:29.862Z"
   },
   {
    "duration": 254,
    "start_time": "2024-09-22T17:16:30.050Z"
   },
   {
    "duration": 3,
    "start_time": "2024-09-22T17:16:30.306Z"
   },
   {
    "duration": 150,
    "start_time": "2024-09-22T17:16:30.310Z"
   },
   {
    "duration": 69,
    "start_time": "2024-09-22T17:16:30.462Z"
   },
   {
    "duration": 36,
    "start_time": "2024-09-22T17:16:30.533Z"
   },
   {
    "duration": 13,
    "start_time": "2024-09-22T17:16:30.571Z"
   },
   {
    "duration": 13,
    "start_time": "2024-09-22T17:16:30.585Z"
   },
   {
    "duration": 4,
    "start_time": "2024-09-22T17:16:30.600Z"
   },
   {
    "duration": 22,
    "start_time": "2024-09-22T17:16:30.606Z"
   },
   {
    "duration": 29,
    "start_time": "2024-09-22T17:16:30.630Z"
   },
   {
    "duration": 19,
    "start_time": "2024-09-22T17:16:30.660Z"
   },
   {
    "duration": 10,
    "start_time": "2024-09-22T17:16:30.682Z"
   },
   {
    "duration": 6,
    "start_time": "2024-09-22T17:16:30.694Z"
   },
   {
    "duration": 132,
    "start_time": "2024-09-22T17:16:30.701Z"
   },
   {
    "duration": 0,
    "start_time": "2024-09-22T17:16:30.835Z"
   },
   {
    "duration": 0,
    "start_time": "2024-09-22T17:16:30.837Z"
   },
   {
    "duration": 1406,
    "start_time": "2024-09-22T17:17:39.532Z"
   },
   {
    "duration": 170,
    "start_time": "2024-09-22T17:17:40.940Z"
   },
   {
    "duration": 143,
    "start_time": "2024-09-22T17:17:41.112Z"
   },
   {
    "duration": 148,
    "start_time": "2024-09-22T17:17:41.257Z"
   },
   {
    "duration": 140,
    "start_time": "2024-09-22T17:17:41.407Z"
   },
   {
    "duration": 316,
    "start_time": "2024-09-22T17:17:41.549Z"
   },
   {
    "duration": 59,
    "start_time": "2024-09-22T17:17:41.867Z"
   },
   {
    "duration": 31,
    "start_time": "2024-09-22T17:17:41.928Z"
   },
   {
    "duration": 17,
    "start_time": "2024-09-22T17:17:41.960Z"
   },
   {
    "duration": 14,
    "start_time": "2024-09-22T17:17:41.981Z"
   },
   {
    "duration": 14,
    "start_time": "2024-09-22T17:17:41.996Z"
   },
   {
    "duration": 31,
    "start_time": "2024-09-22T17:17:42.011Z"
   },
   {
    "duration": 34,
    "start_time": "2024-09-22T17:17:42.044Z"
   },
   {
    "duration": 68,
    "start_time": "2024-09-22T17:17:42.079Z"
   },
   {
    "duration": 105,
    "start_time": "2024-09-22T17:17:42.149Z"
   },
   {
    "duration": 95,
    "start_time": "2024-09-22T17:17:42.257Z"
   },
   {
    "duration": 176,
    "start_time": "2024-09-22T17:17:42.445Z"
   },
   {
    "duration": 3,
    "start_time": "2024-09-22T17:17:42.622Z"
   },
   {
    "duration": 7,
    "start_time": "2024-09-22T17:17:42.642Z"
   },
   {
    "duration": 9,
    "start_time": "2024-09-22T17:17:42.651Z"
   },
   {
    "duration": 10,
    "start_time": "2024-09-22T17:17:42.661Z"
   },
   {
    "duration": 4,
    "start_time": "2024-09-22T17:17:42.672Z"
   },
   {
    "duration": 4,
    "start_time": "2024-09-22T17:17:42.677Z"
   },
   {
    "duration": 4,
    "start_time": "2024-09-22T17:17:42.682Z"
   },
   {
    "duration": 10,
    "start_time": "2024-09-22T17:17:42.687Z"
   },
   {
    "duration": 7,
    "start_time": "2024-09-22T17:17:42.699Z"
   },
   {
    "duration": 7,
    "start_time": "2024-09-22T17:17:42.743Z"
   },
   {
    "duration": 4,
    "start_time": "2024-09-22T17:17:42.752Z"
   },
   {
    "duration": 7,
    "start_time": "2024-09-22T17:17:42.757Z"
   },
   {
    "duration": 1461,
    "start_time": "2024-09-22T17:17:42.765Z"
   },
   {
    "duration": 1416,
    "start_time": "2024-09-22T17:17:44.227Z"
   },
   {
    "duration": 1418,
    "start_time": "2024-09-22T17:17:45.644Z"
   },
   {
    "duration": 1416,
    "start_time": "2024-09-22T17:20:41.512Z"
   },
   {
    "duration": 165,
    "start_time": "2024-09-22T17:20:42.930Z"
   },
   {
    "duration": 140,
    "start_time": "2024-09-22T17:20:43.097Z"
   },
   {
    "duration": 149,
    "start_time": "2024-09-22T17:20:43.239Z"
   },
   {
    "duration": 122,
    "start_time": "2024-09-22T17:20:43.390Z"
   },
   {
    "duration": 317,
    "start_time": "2024-09-22T17:20:43.514Z"
   },
   {
    "duration": 68,
    "start_time": "2024-09-22T17:20:43.833Z"
   },
   {
    "duration": 19,
    "start_time": "2024-09-22T17:20:43.902Z"
   },
   {
    "duration": 37,
    "start_time": "2024-09-22T17:20:43.923Z"
   },
   {
    "duration": 71,
    "start_time": "2024-09-22T17:20:43.962Z"
   },
   {
    "duration": 27,
    "start_time": "2024-09-22T17:20:44.034Z"
   },
   {
    "duration": 49,
    "start_time": "2024-09-22T17:20:44.062Z"
   },
   {
    "duration": 60,
    "start_time": "2024-09-22T17:20:44.113Z"
   },
   {
    "duration": 67,
    "start_time": "2024-09-22T17:20:44.176Z"
   },
   {
    "duration": 106,
    "start_time": "2024-09-22T17:20:44.246Z"
   },
   {
    "duration": 97,
    "start_time": "2024-09-22T17:20:44.354Z"
   },
   {
    "duration": 178,
    "start_time": "2024-09-22T17:20:44.544Z"
   },
   {
    "duration": 2,
    "start_time": "2024-09-22T17:20:44.724Z"
   },
   {
    "duration": 47,
    "start_time": "2024-09-22T17:20:44.728Z"
   },
   {
    "duration": 53,
    "start_time": "2024-09-22T17:20:44.778Z"
   },
   {
    "duration": 20,
    "start_time": "2024-09-22T17:20:44.832Z"
   },
   {
    "duration": 25,
    "start_time": "2024-09-22T17:20:44.854Z"
   },
   {
    "duration": 22,
    "start_time": "2024-09-22T17:20:44.880Z"
   },
   {
    "duration": 17,
    "start_time": "2024-09-22T17:20:44.903Z"
   },
   {
    "duration": 42,
    "start_time": "2024-09-22T17:20:44.922Z"
   },
   {
    "duration": 51,
    "start_time": "2024-09-22T17:20:44.965Z"
   },
   {
    "duration": 170,
    "start_time": "2024-09-22T17:20:45.018Z"
   },
   {
    "duration": 24,
    "start_time": "2024-09-22T17:20:45.190Z"
   },
   {
    "duration": 34,
    "start_time": "2024-09-22T17:20:45.216Z"
   },
   {
    "duration": 1258,
    "start_time": "2024-09-22T17:20:45.251Z"
   },
   {
    "duration": 1242,
    "start_time": "2024-09-22T17:20:46.511Z"
   },
   {
    "duration": 1198,
    "start_time": "2024-09-22T17:20:47.755Z"
   },
   {
    "duration": 1402,
    "start_time": "2024-09-22T17:21:26.513Z"
   },
   {
    "duration": 176,
    "start_time": "2024-09-22T17:21:27.917Z"
   },
   {
    "duration": 150,
    "start_time": "2024-09-22T17:21:28.095Z"
   },
   {
    "duration": 158,
    "start_time": "2024-09-22T17:21:28.246Z"
   },
   {
    "duration": 137,
    "start_time": "2024-09-22T17:21:28.406Z"
   },
   {
    "duration": 321,
    "start_time": "2024-09-22T17:21:28.544Z"
   },
   {
    "duration": 53,
    "start_time": "2024-09-22T17:21:28.867Z"
   },
   {
    "duration": 34,
    "start_time": "2024-09-22T17:21:28.921Z"
   },
   {
    "duration": 18,
    "start_time": "2024-09-22T17:21:28.956Z"
   },
   {
    "duration": 14,
    "start_time": "2024-09-22T17:21:28.976Z"
   },
   {
    "duration": 86,
    "start_time": "2024-09-22T17:21:28.992Z"
   },
   {
    "duration": 33,
    "start_time": "2024-09-22T17:21:29.080Z"
   },
   {
    "duration": 108,
    "start_time": "2024-09-22T17:21:29.114Z"
   },
   {
    "duration": 22,
    "start_time": "2024-09-22T17:21:29.225Z"
   },
   {
    "duration": 208,
    "start_time": "2024-09-22T17:21:29.248Z"
   },
   {
    "duration": 201,
    "start_time": "2024-09-22T17:21:29.459Z"
   },
   {
    "duration": 218,
    "start_time": "2024-09-22T17:21:29.748Z"
   },
   {
    "duration": 4,
    "start_time": "2024-09-22T17:21:29.968Z"
   },
   {
    "duration": 72,
    "start_time": "2024-09-22T17:21:29.974Z"
   },
   {
    "duration": 76,
    "start_time": "2024-09-22T17:21:30.048Z"
   },
   {
    "duration": 86,
    "start_time": "2024-09-22T17:21:30.126Z"
   },
   {
    "duration": 48,
    "start_time": "2024-09-22T17:21:30.214Z"
   },
   {
    "duration": 23,
    "start_time": "2024-09-22T17:21:30.264Z"
   },
   {
    "duration": 162,
    "start_time": "2024-09-22T17:21:30.289Z"
   },
   {
    "duration": 96,
    "start_time": "2024-09-22T17:21:30.453Z"
   },
   {
    "duration": 10,
    "start_time": "2024-09-22T17:21:30.551Z"
   },
   {
    "duration": 17,
    "start_time": "2024-09-22T17:21:30.562Z"
   },
   {
    "duration": 21,
    "start_time": "2024-09-22T17:21:30.580Z"
   },
   {
    "duration": 60,
    "start_time": "2024-09-22T17:21:30.603Z"
   },
   {
    "duration": 1289,
    "start_time": "2024-09-22T17:21:30.665Z"
   },
   {
    "duration": 1360,
    "start_time": "2024-09-22T17:21:31.956Z"
   },
   {
    "duration": 1230,
    "start_time": "2024-09-22T17:21:33.318Z"
   },
   {
    "duration": 1332,
    "start_time": "2024-09-22T17:22:40.981Z"
   },
   {
    "duration": 171,
    "start_time": "2024-09-22T17:22:42.315Z"
   },
   {
    "duration": 144,
    "start_time": "2024-09-22T17:22:42.488Z"
   },
   {
    "duration": 145,
    "start_time": "2024-09-22T17:22:42.633Z"
   },
   {
    "duration": 145,
    "start_time": "2024-09-22T17:22:42.781Z"
   },
   {
    "duration": 320,
    "start_time": "2024-09-22T17:22:42.927Z"
   },
   {
    "duration": 56,
    "start_time": "2024-09-22T17:22:43.248Z"
   },
   {
    "duration": 19,
    "start_time": "2024-09-22T17:22:43.305Z"
   },
   {
    "duration": 19,
    "start_time": "2024-09-22T17:22:43.343Z"
   },
   {
    "duration": 108,
    "start_time": "2024-09-22T17:22:43.363Z"
   },
   {
    "duration": 23,
    "start_time": "2024-09-22T17:22:43.473Z"
   },
   {
    "duration": 26,
    "start_time": "2024-09-22T17:22:43.498Z"
   },
   {
    "duration": 34,
    "start_time": "2024-09-22T17:22:43.525Z"
   },
   {
    "duration": 87,
    "start_time": "2024-09-22T17:22:43.562Z"
   },
   {
    "duration": 17,
    "start_time": "2024-09-22T17:22:43.743Z"
   },
   {
    "duration": 186,
    "start_time": "2024-09-22T17:22:43.763Z"
   },
   {
    "duration": 270,
    "start_time": "2024-09-22T17:22:43.954Z"
   },
   {
    "duration": 17,
    "start_time": "2024-09-22T17:22:44.226Z"
   },
   {
    "duration": 23,
    "start_time": "2024-09-22T17:22:44.244Z"
   },
   {
    "duration": 19,
    "start_time": "2024-09-22T17:22:44.269Z"
   },
   {
    "duration": 19,
    "start_time": "2024-09-22T17:22:44.289Z"
   },
   {
    "duration": 50,
    "start_time": "2024-09-22T17:22:44.310Z"
   },
   {
    "duration": 127,
    "start_time": "2024-09-22T17:22:44.361Z"
   },
   {
    "duration": 32,
    "start_time": "2024-09-22T17:22:44.489Z"
   },
   {
    "duration": 25,
    "start_time": "2024-09-22T17:22:44.523Z"
   },
   {
    "duration": 34,
    "start_time": "2024-09-22T17:22:44.550Z"
   },
   {
    "duration": 27,
    "start_time": "2024-09-22T17:22:44.585Z"
   },
   {
    "duration": 15,
    "start_time": "2024-09-22T17:22:44.614Z"
   },
   {
    "duration": 16,
    "start_time": "2024-09-22T17:22:44.631Z"
   },
   {
    "duration": 164,
    "start_time": "2024-09-22T17:22:44.649Z"
   },
   {
    "duration": 0,
    "start_time": "2024-09-22T17:22:44.815Z"
   },
   {
    "duration": 0,
    "start_time": "2024-09-22T17:22:44.817Z"
   },
   {
    "duration": 1461,
    "start_time": "2024-09-22T17:23:24.604Z"
   },
   {
    "duration": 187,
    "start_time": "2024-09-22T17:23:26.068Z"
   },
   {
    "duration": 155,
    "start_time": "2024-09-22T17:23:26.257Z"
   },
   {
    "duration": 162,
    "start_time": "2024-09-22T17:23:26.414Z"
   },
   {
    "duration": 130,
    "start_time": "2024-09-22T17:23:26.578Z"
   },
   {
    "duration": 322,
    "start_time": "2024-09-22T17:23:26.710Z"
   },
   {
    "duration": 62,
    "start_time": "2024-09-22T17:23:27.033Z"
   },
   {
    "duration": 23,
    "start_time": "2024-09-22T17:23:27.096Z"
   },
   {
    "duration": 36,
    "start_time": "2024-09-22T17:23:27.121Z"
   },
   {
    "duration": 55,
    "start_time": "2024-09-22T17:23:27.159Z"
   },
   {
    "duration": 7,
    "start_time": "2024-09-22T17:23:27.216Z"
   },
   {
    "duration": 29,
    "start_time": "2024-09-22T17:23:27.224Z"
   },
   {
    "duration": 35,
    "start_time": "2024-09-22T17:23:27.254Z"
   },
   {
    "duration": 53,
    "start_time": "2024-09-22T17:23:27.292Z"
   },
   {
    "duration": 196,
    "start_time": "2024-09-22T17:23:27.347Z"
   },
   {
    "duration": 197,
    "start_time": "2024-09-22T17:23:27.547Z"
   },
   {
    "duration": 189,
    "start_time": "2024-09-22T17:23:27.747Z"
   },
   {
    "duration": 5,
    "start_time": "2024-09-22T17:23:27.938Z"
   },
   {
    "duration": 25,
    "start_time": "2024-09-22T17:23:27.944Z"
   },
   {
    "duration": 13,
    "start_time": "2024-09-22T17:23:27.971Z"
   },
   {
    "duration": 21,
    "start_time": "2024-09-22T17:23:27.986Z"
   },
   {
    "duration": 6,
    "start_time": "2024-09-22T17:23:28.009Z"
   },
   {
    "duration": 5,
    "start_time": "2024-09-22T17:23:28.016Z"
   },
   {
    "duration": 18,
    "start_time": "2024-09-22T17:23:28.023Z"
   },
   {
    "duration": 10,
    "start_time": "2024-09-22T17:23:28.043Z"
   },
   {
    "duration": 7,
    "start_time": "2024-09-22T17:23:28.055Z"
   },
   {
    "duration": 7,
    "start_time": "2024-09-22T17:23:28.064Z"
   },
   {
    "duration": 15,
    "start_time": "2024-09-22T17:23:28.072Z"
   },
   {
    "duration": 10,
    "start_time": "2024-09-22T17:23:28.088Z"
   },
   {
    "duration": 1516,
    "start_time": "2024-09-22T17:23:28.099Z"
   },
   {
    "duration": 1527,
    "start_time": "2024-09-22T17:23:29.617Z"
   },
   {
    "duration": 1552,
    "start_time": "2024-09-22T17:23:31.146Z"
   },
   {
    "duration": 1492,
    "start_time": "2024-09-23T18:43:30.440Z"
   },
   {
    "duration": 693,
    "start_time": "2024-09-23T18:43:31.934Z"
   },
   {
    "duration": 606,
    "start_time": "2024-09-23T18:43:32.629Z"
   },
   {
    "duration": 582,
    "start_time": "2024-09-23T18:43:33.236Z"
   },
   {
    "duration": 127,
    "start_time": "2024-09-23T18:43:33.820Z"
   },
   {
    "duration": 311,
    "start_time": "2024-09-23T18:43:33.948Z"
   },
   {
    "duration": 63,
    "start_time": "2024-09-23T18:43:34.261Z"
   },
   {
    "duration": 27,
    "start_time": "2024-09-23T18:43:34.325Z"
   },
   {
    "duration": 20,
    "start_time": "2024-09-23T18:43:34.353Z"
   },
   {
    "duration": 36,
    "start_time": "2024-09-23T18:43:34.375Z"
   },
   {
    "duration": 9,
    "start_time": "2024-09-23T18:43:34.413Z"
   },
   {
    "duration": 27,
    "start_time": "2024-09-23T18:43:34.423Z"
   },
   {
    "duration": 46,
    "start_time": "2024-09-23T18:43:34.451Z"
   },
   {
    "duration": 112,
    "start_time": "2024-09-23T18:43:34.500Z"
   },
   {
    "duration": 106,
    "start_time": "2024-09-23T18:43:34.614Z"
   },
   {
    "duration": 105,
    "start_time": "2024-09-23T18:43:34.804Z"
   },
   {
    "duration": 221,
    "start_time": "2024-09-23T18:43:34.911Z"
   },
   {
    "duration": 2,
    "start_time": "2024-09-23T18:43:35.134Z"
   },
   {
    "duration": 31,
    "start_time": "2024-09-23T18:43:35.138Z"
   },
   {
    "duration": 42,
    "start_time": "2024-09-23T18:43:35.171Z"
   },
   {
    "duration": 9,
    "start_time": "2024-09-23T18:43:35.215Z"
   },
   {
    "duration": 4,
    "start_time": "2024-09-23T18:43:35.226Z"
   },
   {
    "duration": 6,
    "start_time": "2024-09-23T18:43:35.231Z"
   },
   {
    "duration": 12,
    "start_time": "2024-09-23T18:43:35.238Z"
   },
   {
    "duration": 21,
    "start_time": "2024-09-23T18:43:35.252Z"
   },
   {
    "duration": 30,
    "start_time": "2024-09-23T18:43:35.275Z"
   },
   {
    "duration": 11,
    "start_time": "2024-09-23T18:43:35.307Z"
   },
   {
    "duration": 3,
    "start_time": "2024-09-23T18:43:35.319Z"
   },
   {
    "duration": 9,
    "start_time": "2024-09-23T18:43:35.324Z"
   },
   {
    "duration": 1498,
    "start_time": "2024-09-23T18:43:35.336Z"
   },
   {
    "duration": 1511,
    "start_time": "2024-09-23T18:43:36.835Z"
   },
   {
    "duration": 1429,
    "start_time": "2024-09-23T18:43:38.347Z"
   }
  ],
  "kernelspec": {
   "display_name": "Python 3 (ipykernel)",
   "language": "python",
   "name": "python3"
  },
  "language_info": {
   "codemirror_mode": {
    "name": "ipython",
    "version": 3
   },
   "file_extension": ".py",
   "mimetype": "text/x-python",
   "name": "python",
   "nbconvert_exporter": "python",
   "pygments_lexer": "ipython3",
   "version": "3.9.5"
  },
  "toc": {
   "base_numbering": 1,
   "nav_menu": {},
   "number_sections": true,
   "sideBar": true,
   "skip_h1_title": true,
   "title_cell": "Table of Contents",
   "title_sidebar": "Contents",
   "toc_cell": false,
   "toc_position": {},
   "toc_section_display": true,
   "toc_window_display": false
  }
 },
 "nbformat": 4,
 "nbformat_minor": 2
}
