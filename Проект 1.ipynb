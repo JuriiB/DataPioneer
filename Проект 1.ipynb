{
 "cells": [
  {
   "cell_type": "markdown",
   "metadata": {
    "id": "-VFbjcb3Awb7"
   },
   "source": [
    "# Исследование объявлений о продаже квартир\n",
    "\n",
    "В вашем распоряжении данные сервиса Яндекс Недвижимость — архив объявлений о продаже квартир в Санкт-Петербурге и соседних населённых пунктах за несколько лет. Вам нужно научиться определять рыночную стоимость объектов недвижимости. Для этого проведите исследовательский анализ данных и установите параметры, влияющие на цену объектов. Это позволит построить автоматизированную систему: она отследит аномалии и мошенническую деятельность.\n",
    "\n",
    "По каждой квартире на продажу доступны два вида данных. Первые вписаны пользователем, вторые — получены автоматически на основе картографических данных. Например, расстояние до центра, аэропорта и других объектов — эти данные автоматически получены из геосервисов. Количество парков и водоёмов также заполняется без участия пользователя."
   ]
  },
  {
   "cell_type": "markdown",
   "metadata": {
    "id": "aeFLH07FAwb9"
   },
   "source": [
    "## Общая информация"
   ]
  },
  {
   "cell_type": "code",
   "execution_count": 1,
   "metadata": {
    "id": "7MZxY65pAwb9",
    "scrolled": true
   },
   "outputs": [
    {
     "data": {
      "text/html": [
       "<div>\n",
       "<style scoped>\n",
       "    .dataframe tbody tr th:only-of-type {\n",
       "        vertical-align: middle;\n",
       "    }\n",
       "\n",
       "    .dataframe tbody tr th {\n",
       "        vertical-align: top;\n",
       "    }\n",
       "\n",
       "    .dataframe thead th {\n",
       "        text-align: right;\n",
       "    }\n",
       "</style>\n",
       "<table border=\"1\" class=\"dataframe\">\n",
       "  <thead>\n",
       "    <tr style=\"text-align: right;\">\n",
       "      <th></th>\n",
       "      <th>total_images</th>\n",
       "      <th>last_price</th>\n",
       "      <th>total_area</th>\n",
       "      <th>first_day_exposition</th>\n",
       "      <th>rooms</th>\n",
       "      <th>ceiling_height</th>\n",
       "      <th>floors_total</th>\n",
       "      <th>living_area</th>\n",
       "      <th>floor</th>\n",
       "      <th>is_apartment</th>\n",
       "      <th>...</th>\n",
       "      <th>kitchen_area</th>\n",
       "      <th>balcony</th>\n",
       "      <th>locality_name</th>\n",
       "      <th>airports_nearest</th>\n",
       "      <th>cityCenters_nearest</th>\n",
       "      <th>parks_around3000</th>\n",
       "      <th>parks_nearest</th>\n",
       "      <th>ponds_around3000</th>\n",
       "      <th>ponds_nearest</th>\n",
       "      <th>days_exposition</th>\n",
       "    </tr>\n",
       "  </thead>\n",
       "  <tbody>\n",
       "    <tr>\n",
       "      <th>0</th>\n",
       "      <td>20</td>\n",
       "      <td>13000000.0</td>\n",
       "      <td>108.0</td>\n",
       "      <td>2019-03-07T00:00:00</td>\n",
       "      <td>3</td>\n",
       "      <td>2.70</td>\n",
       "      <td>16.0</td>\n",
       "      <td>51.0</td>\n",
       "      <td>8</td>\n",
       "      <td>NaN</td>\n",
       "      <td>...</td>\n",
       "      <td>25.0</td>\n",
       "      <td>NaN</td>\n",
       "      <td>Санкт-Петербург</td>\n",
       "      <td>18863.0</td>\n",
       "      <td>16028.0</td>\n",
       "      <td>1.0</td>\n",
       "      <td>482.0</td>\n",
       "      <td>2.0</td>\n",
       "      <td>755.0</td>\n",
       "      <td>NaN</td>\n",
       "    </tr>\n",
       "    <tr>\n",
       "      <th>1</th>\n",
       "      <td>7</td>\n",
       "      <td>3350000.0</td>\n",
       "      <td>40.4</td>\n",
       "      <td>2018-12-04T00:00:00</td>\n",
       "      <td>1</td>\n",
       "      <td>NaN</td>\n",
       "      <td>11.0</td>\n",
       "      <td>18.6</td>\n",
       "      <td>1</td>\n",
       "      <td>NaN</td>\n",
       "      <td>...</td>\n",
       "      <td>11.0</td>\n",
       "      <td>2.0</td>\n",
       "      <td>посёлок Шушары</td>\n",
       "      <td>12817.0</td>\n",
       "      <td>18603.0</td>\n",
       "      <td>0.0</td>\n",
       "      <td>NaN</td>\n",
       "      <td>0.0</td>\n",
       "      <td>NaN</td>\n",
       "      <td>81.0</td>\n",
       "    </tr>\n",
       "    <tr>\n",
       "      <th>2</th>\n",
       "      <td>10</td>\n",
       "      <td>5196000.0</td>\n",
       "      <td>56.0</td>\n",
       "      <td>2015-08-20T00:00:00</td>\n",
       "      <td>2</td>\n",
       "      <td>NaN</td>\n",
       "      <td>5.0</td>\n",
       "      <td>34.3</td>\n",
       "      <td>4</td>\n",
       "      <td>NaN</td>\n",
       "      <td>...</td>\n",
       "      <td>8.3</td>\n",
       "      <td>0.0</td>\n",
       "      <td>Санкт-Петербург</td>\n",
       "      <td>21741.0</td>\n",
       "      <td>13933.0</td>\n",
       "      <td>1.0</td>\n",
       "      <td>90.0</td>\n",
       "      <td>2.0</td>\n",
       "      <td>574.0</td>\n",
       "      <td>558.0</td>\n",
       "    </tr>\n",
       "    <tr>\n",
       "      <th>3</th>\n",
       "      <td>0</td>\n",
       "      <td>64900000.0</td>\n",
       "      <td>159.0</td>\n",
       "      <td>2015-07-24T00:00:00</td>\n",
       "      <td>3</td>\n",
       "      <td>NaN</td>\n",
       "      <td>14.0</td>\n",
       "      <td>NaN</td>\n",
       "      <td>9</td>\n",
       "      <td>NaN</td>\n",
       "      <td>...</td>\n",
       "      <td>NaN</td>\n",
       "      <td>0.0</td>\n",
       "      <td>Санкт-Петербург</td>\n",
       "      <td>28098.0</td>\n",
       "      <td>6800.0</td>\n",
       "      <td>2.0</td>\n",
       "      <td>84.0</td>\n",
       "      <td>3.0</td>\n",
       "      <td>234.0</td>\n",
       "      <td>424.0</td>\n",
       "    </tr>\n",
       "    <tr>\n",
       "      <th>4</th>\n",
       "      <td>2</td>\n",
       "      <td>10000000.0</td>\n",
       "      <td>100.0</td>\n",
       "      <td>2018-06-19T00:00:00</td>\n",
       "      <td>2</td>\n",
       "      <td>3.03</td>\n",
       "      <td>14.0</td>\n",
       "      <td>32.0</td>\n",
       "      <td>13</td>\n",
       "      <td>NaN</td>\n",
       "      <td>...</td>\n",
       "      <td>41.0</td>\n",
       "      <td>NaN</td>\n",
       "      <td>Санкт-Петербург</td>\n",
       "      <td>31856.0</td>\n",
       "      <td>8098.0</td>\n",
       "      <td>2.0</td>\n",
       "      <td>112.0</td>\n",
       "      <td>1.0</td>\n",
       "      <td>48.0</td>\n",
       "      <td>121.0</td>\n",
       "    </tr>\n",
       "  </tbody>\n",
       "</table>\n",
       "<p>5 rows × 22 columns</p>\n",
       "</div>"
      ],
      "text/plain": [
       "   total_images  last_price  total_area first_day_exposition  rooms  \\\n",
       "0            20  13000000.0       108.0  2019-03-07T00:00:00      3   \n",
       "1             7   3350000.0        40.4  2018-12-04T00:00:00      1   \n",
       "2            10   5196000.0        56.0  2015-08-20T00:00:00      2   \n",
       "3             0  64900000.0       159.0  2015-07-24T00:00:00      3   \n",
       "4             2  10000000.0       100.0  2018-06-19T00:00:00      2   \n",
       "\n",
       "   ceiling_height  floors_total  living_area  floor is_apartment  ...  \\\n",
       "0            2.70          16.0         51.0      8          NaN  ...   \n",
       "1             NaN          11.0         18.6      1          NaN  ...   \n",
       "2             NaN           5.0         34.3      4          NaN  ...   \n",
       "3             NaN          14.0          NaN      9          NaN  ...   \n",
       "4            3.03          14.0         32.0     13          NaN  ...   \n",
       "\n",
       "   kitchen_area  balcony    locality_name  airports_nearest  \\\n",
       "0          25.0      NaN  Санкт-Петербург           18863.0   \n",
       "1          11.0      2.0   посёлок Шушары           12817.0   \n",
       "2           8.3      0.0  Санкт-Петербург           21741.0   \n",
       "3           NaN      0.0  Санкт-Петербург           28098.0   \n",
       "4          41.0      NaN  Санкт-Петербург           31856.0   \n",
       "\n",
       "  cityCenters_nearest  parks_around3000  parks_nearest  ponds_around3000  \\\n",
       "0             16028.0               1.0          482.0               2.0   \n",
       "1             18603.0               0.0            NaN               0.0   \n",
       "2             13933.0               1.0           90.0               2.0   \n",
       "3              6800.0               2.0           84.0               3.0   \n",
       "4              8098.0               2.0          112.0               1.0   \n",
       "\n",
       "   ponds_nearest  days_exposition  \n",
       "0          755.0              NaN  \n",
       "1            NaN             81.0  \n",
       "2          574.0            558.0  \n",
       "3          234.0            424.0  \n",
       "4           48.0            121.0  \n",
       "\n",
       "[5 rows x 22 columns]"
      ]
     },
     "execution_count": 1,
     "metadata": {},
     "output_type": "execute_result"
    }
   ],
   "source": [
    "import pandas as pd \n",
    "import matplotlib.pyplot as plt \n",
    "data = pd.read_csv('/datasets/real_estate_data.csv', sep='\\t')\n",
    "data.head()\n"
   ]
  },
  {
   "cell_type": "markdown",
   "metadata": {},
   "source": [
    "### Информация о фрейме"
   ]
  },
  {
   "cell_type": "code",
   "execution_count": 2,
   "metadata": {
    "scrolled": true
   },
   "outputs": [
    {
     "name": "stdout",
     "output_type": "stream",
     "text": [
      "<class 'pandas.core.frame.DataFrame'>\n",
      "RangeIndex: 23699 entries, 0 to 23698\n",
      "Data columns (total 22 columns):\n",
      " #   Column                Non-Null Count  Dtype  \n",
      "---  ------                --------------  -----  \n",
      " 0   total_images          23699 non-null  int64  \n",
      " 1   last_price            23699 non-null  float64\n",
      " 2   total_area            23699 non-null  float64\n",
      " 3   first_day_exposition  23699 non-null  object \n",
      " 4   rooms                 23699 non-null  int64  \n",
      " 5   ceiling_height        14504 non-null  float64\n",
      " 6   floors_total          23613 non-null  float64\n",
      " 7   living_area           21796 non-null  float64\n",
      " 8   floor                 23699 non-null  int64  \n",
      " 9   is_apartment          2775 non-null   object \n",
      " 10  studio                23699 non-null  bool   \n",
      " 11  open_plan             23699 non-null  bool   \n",
      " 12  kitchen_area          21421 non-null  float64\n",
      " 13  balcony               12180 non-null  float64\n",
      " 14  locality_name         23650 non-null  object \n",
      " 15  airports_nearest      18157 non-null  float64\n",
      " 16  cityCenters_nearest   18180 non-null  float64\n",
      " 17  parks_around3000      18181 non-null  float64\n",
      " 18  parks_nearest         8079 non-null   float64\n",
      " 19  ponds_around3000      18181 non-null  float64\n",
      " 20  ponds_nearest         9110 non-null   float64\n",
      " 21  days_exposition       20518 non-null  float64\n",
      "dtypes: bool(2), float64(14), int64(3), object(3)\n",
      "memory usage: 3.7+ MB\n"
     ]
    }
   ],
   "source": [
    "data.info()"
   ]
  },
  {
   "cell_type": "markdown",
   "metadata": {},
   "source": [
    "### Подсчитываем дубликаты "
   ]
  },
  {
   "cell_type": "code",
   "execution_count": 3,
   "metadata": {
    "scrolled": false
   },
   "outputs": [
    {
     "data": {
      "text/plain": [
       "0"
      ]
     },
     "execution_count": 3,
     "metadata": {},
     "output_type": "execute_result"
    }
   ],
   "source": [
    "data.duplicated().sum()"
   ]
  },
  {
   "cell_type": "markdown",
   "metadata": {},
   "source": [
    "### Пустые значения "
   ]
  },
  {
   "cell_type": "code",
   "execution_count": 4,
   "metadata": {},
   "outputs": [
    {
     "data": {
      "text/plain": [
       "total_images                0\n",
       "last_price                  0\n",
       "total_area                  0\n",
       "first_day_exposition        0\n",
       "rooms                       0\n",
       "ceiling_height           9195\n",
       "floors_total               86\n",
       "living_area              1903\n",
       "floor                       0\n",
       "is_apartment            20924\n",
       "studio                      0\n",
       "open_plan                   0\n",
       "kitchen_area             2278\n",
       "balcony                 11519\n",
       "locality_name              49\n",
       "airports_nearest         5542\n",
       "cityCenters_nearest      5519\n",
       "parks_around3000         5518\n",
       "parks_nearest           15620\n",
       "ponds_around3000         5518\n",
       "ponds_nearest           14589\n",
       "days_exposition          3181\n",
       "dtype: int64"
      ]
     },
     "execution_count": 4,
     "metadata": {},
     "output_type": "execute_result"
    }
   ],
   "source": [
    "data.isnull().sum()"
   ]
  },
  {
   "cell_type": "markdown",
   "metadata": {},
   "source": [
    "### Строим гистограмму "
   ]
  },
  {
   "cell_type": "code",
   "execution_count": 5,
   "metadata": {
    "scrolled": true
   },
   "outputs": [
    {
     "data": {
      "text/plain": [
       "array([[<AxesSubplot:title={'center':'total_images'}>,\n",
       "        <AxesSubplot:title={'center':'last_price'}>,\n",
       "        <AxesSubplot:title={'center':'total_area'}>,\n",
       "        <AxesSubplot:title={'center':'rooms'}>],\n",
       "       [<AxesSubplot:title={'center':'ceiling_height'}>,\n",
       "        <AxesSubplot:title={'center':'floors_total'}>,\n",
       "        <AxesSubplot:title={'center':'living_area'}>,\n",
       "        <AxesSubplot:title={'center':'floor'}>],\n",
       "       [<AxesSubplot:title={'center':'kitchen_area'}>,\n",
       "        <AxesSubplot:title={'center':'balcony'}>,\n",
       "        <AxesSubplot:title={'center':'airports_nearest'}>,\n",
       "        <AxesSubplot:title={'center':'cityCenters_nearest'}>],\n",
       "       [<AxesSubplot:title={'center':'parks_around3000'}>,\n",
       "        <AxesSubplot:title={'center':'parks_nearest'}>,\n",
       "        <AxesSubplot:title={'center':'ponds_around3000'}>,\n",
       "        <AxesSubplot:title={'center':'ponds_nearest'}>],\n",
       "       [<AxesSubplot:title={'center':'days_exposition'}>, <AxesSubplot:>,\n",
       "        <AxesSubplot:>, <AxesSubplot:>]], dtype=object)"
      ]
     },
     "execution_count": 5,
     "metadata": {},
     "output_type": "execute_result"
    },
    {
     "data": {
      "image/png": "[encoded data removed]",
      "text/plain": [
       "<Figure size 1080x1440 with 20 Axes>"
      ]
     },
     "metadata": {
      "needs_background": "light"
     },
     "output_type": "display_data"
    }
   ],
   "source": [
    "data.hist(figsize=(15, 20))"
   ]
  },
  {
   "cell_type": "markdown",
   "metadata": {},
   "source": [
    "### Вывод по первой части: Данных для исследования достаточно, записей 23699. Явные дубликаты отсутствуют. Согласно гистограммам анномальных значений мало. Пустых значений в некоторых столбцах много, рассмотрим данные в следующей части. "
   ]
  },
  {
   "cell_type": "markdown",
   "metadata": {
    "id": "-O5NtivEAwb9"
   },
   "source": [
    "## Предобработка данных"
   ]
  },
  {
   "cell_type": "markdown",
   "metadata": {
    "id": "7v3vAeTuAwb-"
   },
   "source": [
    "### Необходимо привести все столбцы к \"хорощему стилю\", переименнуем cityCenters_nearest"
   ]
  },
  {
   "cell_type": "code",
   "execution_count": 6,
   "metadata": {},
   "outputs": [],
   "source": [
    "data.rename(columns = {'cityCenters_nearest':'city_centers_nearest'}, inplace = True )"
   ]
  },
  {
   "cell_type": "markdown",
   "metadata": {},
   "source": [
    "### Заполняем пустые значения "
   ]
  },
  {
   "cell_type": "code",
   "execution_count": 7,
   "metadata": {},
   "outputs": [
    {
     "data": {
      "text/plain": [
       "total_images                0\n",
       "last_price                  0\n",
       "total_area                  0\n",
       "first_day_exposition        0\n",
       "rooms                       0\n",
       "ceiling_height              0\n",
       "floors_total               86\n",
       "living_area                 0\n",
       "floor                       0\n",
       "is_apartment                0\n",
       "studio                      0\n",
       "open_plan                   0\n",
       "kitchen_area             2278\n",
       "balcony                     0\n",
       "locality_name              49\n",
       "airports_nearest         5542\n",
       "city_centers_nearest     5519\n",
       "parks_around3000         5518\n",
       "parks_nearest           15620\n",
       "ponds_around3000         5518\n",
       "ponds_nearest           14589\n",
       "days_exposition          3181\n",
       "year_pub                    0\n",
       "dtype: int64"
      ]
     },
     "execution_count": 7,
     "metadata": {},
     "output_type": "execute_result"
    }
   ],
   "source": [
    "#total_images\n",
    "data['total_images'].astype('int')\n",
    "\n",
    "\n",
    "#last_price\n",
    "data['last_price'].astype('int')\n",
    "\n",
    "\n",
    "#ceiling_height\n",
    "data['ceiling_height'] = data['ceiling_height'].fillna(data['ceiling_height'].median())\n",
    "\n",
    "\n",
    "#first_day_exposition\n",
    "#переведем в подобающий формат \n",
    "data['first_day_exposition'] = pd.to_datetime(data['first_day_exposition'], format='%Y-%m-%dT%H:%M:%S')\n",
    "\n",
    "\n",
    "#is_apartment\n",
    "data['is_apartment'].unique() \n",
    "#скорее всего, не указано, в том случае, если не являются аппартаментами. Можем заполнить значениями False. Поменяем также тип данных с object на bool. \n",
    "data['is_apartment'] = data['is_apartment'].fillna(False)\n",
    "data['is_apartment'] = data['is_apartment'].astype(bool)\n",
    "#посчитаем соотношение аппартаментов и квартир \n",
    "data['is_apartment'].mean()\n",
    "#получаем, что из общего списка недвижиммости, к аппартаментам относится 0.21%\n",
    "\n",
    "    \n",
    "#balcony\n",
    "#Аналогично, как и с площадью кухни, если данные не заполнены, то скорее всего балкона нет\n",
    "#изменим тип с float64 на int, т.к. число точно должно быть целым \n",
    "data['balcony'].unique()\n",
    "data['balcony'] = data['balcony'].fillna(0)\n",
    "data['is_apartment'] = data['is_apartment'].astype(int)\n",
    "\n",
    "\n",
    "#airports_nearest\n",
    "data['airports_nearest'].unique()\n",
    "#данные по данному столбцу нельзя заполнить, скорее всего рядом его нет \n",
    "\n",
    "\n",
    "#city_centers_nearest\n",
    "data['city_centers_nearest'].unique()\n",
    "#данные по данному столбцу нельзя заполнить, скорее всего центр города далеко\n",
    "\n",
    "\n",
    "#parks_around3000 и ponds_around3000\n",
    "data['parks_around3000'].unique()\n",
    "data['ponds_around3000'].unique()\n",
    "#Логично, что если данные отсутствуют, то водоемов и парков рядом нет \n",
    "#data['parks_around3000'] = data['parks_around3000'].fillna(0)\n",
    "#data['ponds_around3000'] = data['ponds_around3000'].fillna(0)\n",
    "#Необходимо изменить тип данных на int, т.к. либо парки и водоемы есть рядом, либо их нет \n",
    "#data['parks_around3000'] = data['parks_around3000'].astype(int)\n",
    "#data['ponds_around3000'] = data['ponds_around3000'].astype(int)\n",
    "\n",
    "\n",
    "#parks_nearest и ponds_nearest\n",
    "#данные по столбцу нельзя заполнить, скорее всего парки и водоемы слишком далеко, поэтому пропуски в значениях \n",
    "\n",
    "\n",
    "\n",
    "#------------------------------------------------------------------------------------------------\n",
    "# 1.1 kitchen_area\n",
    "data['kitchen_area'] = data['kitchen_area'].fillna(data['kitchen_area'] / data.groupby('total_area')['kitchen_area'].transform('median') * data['total_area'].median()) \n",
    "    \n",
    "\n",
    "# 1.2 living_area\n",
    "living = data.groupby('total_area')['living_area'].median()\n",
    "data['living_area'] = data['living_area'].fillna(data['living_area'].median() / data['total_area'].median() * data['total_area'].median())\n",
    "\n",
    "\n",
    "#days_exposition скорее всего утеряна данные за 2019 год \n",
    "data['year_pub'] = data['first_day_exposition'].dt.year\n",
    "data.groupby('year_pub')['days_exposition'].count()\n",
    "\n",
    "\n",
    "#locality_name \n",
    "#Мы знаем, что пропущено 49 значений, но заполнить данную информацию невозможно, так как неизвестно, где точно располагается квартира, заполним пропуски значением 'noinfo'\n",
    "#data['locality_name'] = data[data['locality_name'] != '']\n",
    "\n",
    "\n",
    "\n",
    "#Где это было возможно пропуски заполнены, проверим заполнение\n",
    "data.isnull().sum()\n",
    "\n",
    "#data['living_area'].describe()\n",
    "\n",
    "#Остались пустые значения только там, где не представляется возможность заполнить \n"
   ]
  },
  {
   "cell_type": "code",
   "execution_count": 8,
   "metadata": {},
   "outputs": [
    {
     "data": {
      "text/html": [
       "<div>\n",
       "<style scoped>\n",
       "    .dataframe tbody tr th:only-of-type {\n",
       "        vertical-align: middle;\n",
       "    }\n",
       "\n",
       "    .dataframe tbody tr th {\n",
       "        vertical-align: top;\n",
       "    }\n",
       "\n",
       "    .dataframe thead th {\n",
       "        text-align: right;\n",
       "    }\n",
       "</style>\n",
       "<table border=\"1\" class=\"dataframe\">\n",
       "  <thead>\n",
       "    <tr style=\"text-align: right;\">\n",
       "      <th>first_day_year</th>\n",
       "      <th>2014</th>\n",
       "      <th>2015</th>\n",
       "      <th>2016</th>\n",
       "      <th>2017</th>\n",
       "      <th>2018</th>\n",
       "      <th>2019</th>\n",
       "    </tr>\n",
       "  </thead>\n",
       "  <tbody>\n",
       "    <tr>\n",
       "      <th>total_area</th>\n",
       "      <td>18</td>\n",
       "      <td>70</td>\n",
       "      <td>67</td>\n",
       "      <td>271</td>\n",
       "      <td>959</td>\n",
       "      <td>1796</td>\n",
       "    </tr>\n",
       "  </tbody>\n",
       "</table>\n",
       "</div>"
      ],
      "text/plain": [
       "first_day_year  2014  2015  2016  2017  2018  2019\n",
       "total_area        18    70    67   271   959  1796"
      ]
     },
     "execution_count": 8,
     "metadata": {},
     "output_type": "execute_result"
    }
   ],
   "source": [
    "# код ревьюера\n",
    "import datetime as dt\n",
    "\n",
    "data['first_day_exposition'] = pd.to_datetime(data['first_day_exposition'], format='%Y-%m-%dT%H:%M:%S')\n",
    "data['first_day_year'] = data['first_day_exposition'].dt.year\n",
    "data[data['days_exposition'].isnull()].pivot_table(columns = 'first_day_year', values = 'total_area', aggfunc = 'count')"
   ]
  },
  {
   "cell_type": "markdown",
   "metadata": {},
   "source": [
    "### Необходимо привести все названия населённых пунктов к одному формату\n"
   ]
  },
  {
   "cell_type": "code",
   "execution_count": 9,
   "metadata": {},
   "outputs": [],
   "source": [
    "#data['locality_name'].unique()\n",
    "#len(data['locality_name'].unique())\n",
    "data['locality_name'] = data['locality_name'].str.lower()\n",
    "#Необходимо изменить во всех наименованиях букву \"ё\" на \"е\", чтобы привести все названия населённых пунктов к одному формату \n",
    "data['locality_name'] = data['locality_name'].str.replace('ё','е').replace(['посёлок', 'городской посёлок'], '', regex=True) \n"
   ]
  },
  {
   "cell_type": "markdown",
   "metadata": {},
   "source": [
    "### В ходе работы над второй частью: \n",
    "- Привели наименования столбцов к \"хорошему стилю\" \n",
    "- Заполнили пропуски, где это было возможно \n",
    "- Изменили тип данных в тех местах, где это было необходимо \n",
    "- Привели к одному формату все названия населённых пунктов\n"
   ]
  },
  {
   "cell_type": "markdown",
   "metadata": {
    "id": "QCcvyY6YAwb-"
   },
   "source": [
    "## Новые столбцы"
   ]
  },
  {
   "cell_type": "code",
   "execution_count": 10,
   "metadata": {
    "id": "Z8eJek3IAwb-"
   },
   "outputs": [
    {
     "data": {
      "text/html": [
       "<div>\n",
       "<style scoped>\n",
       "    .dataframe tbody tr th:only-of-type {\n",
       "        vertical-align: middle;\n",
       "    }\n",
       "\n",
       "    .dataframe tbody tr th {\n",
       "        vertical-align: top;\n",
       "    }\n",
       "\n",
       "    .dataframe thead th {\n",
       "        text-align: right;\n",
       "    }\n",
       "</style>\n",
       "<table border=\"1\" class=\"dataframe\">\n",
       "  <thead>\n",
       "    <tr style=\"text-align: right;\">\n",
       "      <th></th>\n",
       "      <th>total_images</th>\n",
       "      <th>last_price</th>\n",
       "      <th>total_area</th>\n",
       "      <th>first_day_exposition</th>\n",
       "      <th>rooms</th>\n",
       "      <th>ceiling_height</th>\n",
       "      <th>floors_total</th>\n",
       "      <th>living_area</th>\n",
       "      <th>floor</th>\n",
       "      <th>is_apartment</th>\n",
       "      <th>...</th>\n",
       "      <th>ponds_around3000</th>\n",
       "      <th>ponds_nearest</th>\n",
       "      <th>days_exposition</th>\n",
       "      <th>year_pub</th>\n",
       "      <th>first_day_year</th>\n",
       "      <th>price_msq</th>\n",
       "      <th>day_pub</th>\n",
       "      <th>month_pub</th>\n",
       "      <th>type_apart_floor</th>\n",
       "      <th>to_city_center</th>\n",
       "    </tr>\n",
       "  </thead>\n",
       "  <tbody>\n",
       "    <tr>\n",
       "      <th>0</th>\n",
       "      <td>20</td>\n",
       "      <td>13000000.0</td>\n",
       "      <td>108.0</td>\n",
       "      <td>2019-03-07</td>\n",
       "      <td>3</td>\n",
       "      <td>2.70</td>\n",
       "      <td>16.0</td>\n",
       "      <td>51.0</td>\n",
       "      <td>8</td>\n",
       "      <td>0</td>\n",
       "      <td>...</td>\n",
       "      <td>2.0</td>\n",
       "      <td>755.0</td>\n",
       "      <td>NaN</td>\n",
       "      <td>2019</td>\n",
       "      <td>2019</td>\n",
       "      <td>120370.37</td>\n",
       "      <td>3</td>\n",
       "      <td>3</td>\n",
       "      <td>другой</td>\n",
       "      <td>16.0</td>\n",
       "    </tr>\n",
       "    <tr>\n",
       "      <th>1</th>\n",
       "      <td>7</td>\n",
       "      <td>3350000.0</td>\n",
       "      <td>40.4</td>\n",
       "      <td>2018-12-04</td>\n",
       "      <td>1</td>\n",
       "      <td>2.65</td>\n",
       "      <td>11.0</td>\n",
       "      <td>18.6</td>\n",
       "      <td>1</td>\n",
       "      <td>0</td>\n",
       "      <td>...</td>\n",
       "      <td>0.0</td>\n",
       "      <td>NaN</td>\n",
       "      <td>81.0</td>\n",
       "      <td>2018</td>\n",
       "      <td>2018</td>\n",
       "      <td>82920.79</td>\n",
       "      <td>1</td>\n",
       "      <td>12</td>\n",
       "      <td>первый</td>\n",
       "      <td>19.0</td>\n",
       "    </tr>\n",
       "    <tr>\n",
       "      <th>2</th>\n",
       "      <td>10</td>\n",
       "      <td>5196000.0</td>\n",
       "      <td>56.0</td>\n",
       "      <td>2015-08-20</td>\n",
       "      <td>2</td>\n",
       "      <td>2.65</td>\n",
       "      <td>5.0</td>\n",
       "      <td>34.3</td>\n",
       "      <td>4</td>\n",
       "      <td>0</td>\n",
       "      <td>...</td>\n",
       "      <td>2.0</td>\n",
       "      <td>574.0</td>\n",
       "      <td>558.0</td>\n",
       "      <td>2015</td>\n",
       "      <td>2015</td>\n",
       "      <td>92785.71</td>\n",
       "      <td>3</td>\n",
       "      <td>8</td>\n",
       "      <td>другой</td>\n",
       "      <td>14.0</td>\n",
       "    </tr>\n",
       "    <tr>\n",
       "      <th>3</th>\n",
       "      <td>0</td>\n",
       "      <td>64900000.0</td>\n",
       "      <td>159.0</td>\n",
       "      <td>2015-07-24</td>\n",
       "      <td>3</td>\n",
       "      <td>2.65</td>\n",
       "      <td>14.0</td>\n",
       "      <td>30.0</td>\n",
       "      <td>9</td>\n",
       "      <td>0</td>\n",
       "      <td>...</td>\n",
       "      <td>3.0</td>\n",
       "      <td>234.0</td>\n",
       "      <td>424.0</td>\n",
       "      <td>2015</td>\n",
       "      <td>2015</td>\n",
       "      <td>408176.10</td>\n",
       "      <td>4</td>\n",
       "      <td>7</td>\n",
       "      <td>другой</td>\n",
       "      <td>7.0</td>\n",
       "    </tr>\n",
       "    <tr>\n",
       "      <th>4</th>\n",
       "      <td>2</td>\n",
       "      <td>10000000.0</td>\n",
       "      <td>100.0</td>\n",
       "      <td>2018-06-19</td>\n",
       "      <td>2</td>\n",
       "      <td>3.03</td>\n",
       "      <td>14.0</td>\n",
       "      <td>32.0</td>\n",
       "      <td>13</td>\n",
       "      <td>0</td>\n",
       "      <td>...</td>\n",
       "      <td>1.0</td>\n",
       "      <td>48.0</td>\n",
       "      <td>121.0</td>\n",
       "      <td>2018</td>\n",
       "      <td>2018</td>\n",
       "      <td>100000.00</td>\n",
       "      <td>1</td>\n",
       "      <td>6</td>\n",
       "      <td>другой</td>\n",
       "      <td>8.0</td>\n",
       "    </tr>\n",
       "  </tbody>\n",
       "</table>\n",
       "<p>5 rows × 29 columns</p>\n",
       "</div>"
      ],
      "text/plain": [
       "   total_images  last_price  total_area first_day_exposition  rooms  \\\n",
       "0            20  13000000.0       108.0           2019-03-07      3   \n",
       "1             7   3350000.0        40.4           2018-12-04      1   \n",
       "2            10   5196000.0        56.0           2015-08-20      2   \n",
       "3             0  64900000.0       159.0           2015-07-24      3   \n",
       "4             2  10000000.0       100.0           2018-06-19      2   \n",
       "\n",
       "   ceiling_height  floors_total  living_area  floor  is_apartment  ...  \\\n",
       "0            2.70          16.0         51.0      8             0  ...   \n",
       "1            2.65          11.0         18.6      1             0  ...   \n",
       "2            2.65           5.0         34.3      4             0  ...   \n",
       "3            2.65          14.0         30.0      9             0  ...   \n",
       "4            3.03          14.0         32.0     13             0  ...   \n",
       "\n",
       "   ponds_around3000  ponds_nearest  days_exposition  year_pub first_day_year  \\\n",
       "0               2.0          755.0              NaN      2019           2019   \n",
       "1               0.0            NaN             81.0      2018           2018   \n",
       "2               2.0          574.0            558.0      2015           2015   \n",
       "3               3.0          234.0            424.0      2015           2015   \n",
       "4               1.0           48.0            121.0      2018           2018   \n",
       "\n",
       "   price_msq  day_pub  month_pub  type_apart_floor  to_city_center  \n",
       "0  120370.37        3          3            другой            16.0  \n",
       "1   82920.79        1         12            первый            19.0  \n",
       "2   92785.71        3          8            другой            14.0  \n",
       "3  408176.10        4          7            другой             7.0  \n",
       "4  100000.00        1          6            другой             8.0  \n",
       "\n",
       "[5 rows x 29 columns]"
      ]
     },
     "execution_count": 10,
     "metadata": {},
     "output_type": "execute_result"
    }
   ],
   "source": [
    "#цена одного квадратного метра (2 знака после запятой)\n",
    "data['price_msq'] = (data['last_price'] / data['total_area']).round(2)\n",
    "\n",
    "#день недели публикации объявления (0 — понедельник, 1 — вторник и так далее)\n",
    "data['day_pub'] = data['first_day_exposition'].dt.weekday \n",
    "\n",
    "#месяц публикации объявления\n",
    "data['month_pub'] = data['first_day_exposition'].dt.month\n",
    "\n",
    "#год публикации объявления\n",
    "data['year_pub'] = data['first_day_exposition'].dt.year\n",
    "\n",
    "#тип этажа квартиры (значения — «первый», «последний», «другой»);\n",
    "def floor(x):\n",
    "    if x['floor'] == 1:\n",
    "        return 'первый'\n",
    "    if x['floor'] == x['floors_total']:\n",
    "        return 'последний'\n",
    "    else:\n",
    "        return 'другой'\n",
    "\n",
    "data['type_apart_floor'] = data.apply(floor, axis=1) \n",
    "\n",
    "#расстояние до центра города в километрах (округлить до целых км)\n",
    "data['to_city_center'] = (data['city_centers_nearest'] / 1000).round(0)\n",
    "\n",
    "data.head(5)"
   ]
  },
  {
   "cell_type": "markdown",
   "metadata": {},
   "source": [
    "### В ходе работы над третьей частью добавлены новые столбцы согласно заданию "
   ]
  },
  {
   "cell_type": "markdown",
   "metadata": {
    "id": "pPyxrKWTAwb-"
   },
   "source": [
    "## Проведите исследовательский анализ данных"
   ]
  },
  {
   "cell_type": "markdown",
   "metadata": {},
   "source": [
    "### Общая площадь"
   ]
  },
  {
   "cell_type": "code",
   "execution_count": 11,
   "metadata": {
    "scrolled": true
   },
   "outputs": [
    {
     "data": {
      "image/png": "[encoded data removed]",
      "text/plain": [
       "<Figure size 432x288 with 1 Axes>"
      ]
     },
     "metadata": {
      "needs_background": "light"
     },
     "output_type": "display_data"
    }
   ],
   "source": [
    "data['total_area'].describe()\n",
    "# min = 12 \n",
    "# max = 900\n",
    "# В основном квартиры находятся в пределах от 25 до 130 кв. м) \n",
    "plt.hist(data['total_area'], bins=100, range=(25,130))\n",
    "plt.show()"
   ]
  },
  {
   "cell_type": "markdown",
   "metadata": {},
   "source": [
    "#### Вывод: Больше всего квартир площадью от 30 до 64 кв. м., с наибольшим значением около 50 кв. м. "
   ]
  },
  {
   "cell_type": "markdown",
   "metadata": {},
   "source": [
    "### Жилая площадь"
   ]
  },
  {
   "cell_type": "code",
   "execution_count": 12,
   "metadata": {},
   "outputs": [
    {
     "data": {
      "image/png": "[encoded data removed]",
      "text/plain": [
       "<Figure size 432x288 with 1 Axes>"
      ]
     },
     "metadata": {
      "needs_background": "light"
     },
     "output_type": "display_data"
    }
   ],
   "source": [
    "data['living_area'].describe()\n",
    "#min= 2\n",
    "#max = 409\n",
    "plt.hist(data['living_area'], bins=100, range=(10,60))\n",
    "plt.show()"
   ]
  },
  {
   "cell_type": "markdown",
   "metadata": {},
   "source": [
    "#### Вывод: Больше всего в продаже квартир, у которых жилая площадь от 15 до 20 кв. м. и от 28 до 35 кв. м. "
   ]
  },
  {
   "cell_type": "markdown",
   "metadata": {},
   "source": [
    "### Площадь кухни"
   ]
  },
  {
   "cell_type": "code",
   "execution_count": 13,
   "metadata": {
    "scrolled": false
   },
   "outputs": [
    {
     "data": {
      "image/png": "[encoded data removed]",
      "text/plain": [
       "<Figure size 432x288 with 1 Axes>"
      ]
     },
     "metadata": {
      "needs_background": "light"
     },
     "output_type": "display_data"
    }
   ],
   "source": [
    "data['kitchen_area'].describe()\n",
    "#min = 0\n",
    "#max = 112\n",
    "plt.hist(data['kitchen_area'], bins=100, range=(0,20))\n",
    "plt.show()"
   ]
  },
  {
   "cell_type": "markdown",
   "metadata": {},
   "source": [
    "#### Вывод: Квартиры, у которых указана квадратура, в среднем кухня с 6 кв. м. до 12 кв. м. "
   ]
  },
  {
   "cell_type": "markdown",
   "metadata": {},
   "source": [
    "### Цена объекта"
   ]
  },
  {
   "cell_type": "code",
   "execution_count": 14,
   "metadata": {
    "scrolled": true
   },
   "outputs": [
    {
     "data": {
      "image/png": "[encoded data removed]",
      "text/plain": [
       "<Figure size 432x288 with 1 Axes>"
      ]
     },
     "metadata": {
      "needs_background": "light"
     },
     "output_type": "display_data"
    }
   ],
   "source": [
    "data['last_price'].describe()\n",
    "#data['last_price'].unique\n",
    "plt.hist(data['last_price'], bins=100, range=(3.400000e+06, 6.800000e+06))\n",
    "plt.show()"
   ]
  },
  {
   "cell_type": "markdown",
   "metadata": {},
   "source": [
    "#### Больше всего квартир продается в ценовом диапозоне от 3.5 до 4.5 млн. рублей "
   ]
  },
  {
   "cell_type": "markdown",
   "metadata": {},
   "source": [
    "### Количество комнат"
   ]
  },
  {
   "cell_type": "code",
   "execution_count": 15,
   "metadata": {
    "scrolled": true
   },
   "outputs": [
    {
     "data": {
      "image/png": "[encoded data removed]",
      "text/plain": [
       "<Figure size 432x288 with 1 Axes>"
      ]
     },
     "metadata": {
      "needs_background": "light"
     },
     "output_type": "display_data"
    }
   ],
   "source": [
    "data['rooms'].describe()\n",
    "plt.hist(data['rooms'], bins=12, range=(0, 12))\n",
    "plt.show()"
   ]
  },
  {
   "cell_type": "markdown",
   "metadata": {},
   "source": [
    "#### Вывод: больше всего предложений от 1 до 3 комнат. "
   ]
  },
  {
   "cell_type": "markdown",
   "metadata": {},
   "source": [
    "### Высота потолков"
   ]
  },
  {
   "cell_type": "code",
   "execution_count": 16,
   "metadata": {
    "scrolled": true
   },
   "outputs": [
    {
     "data": {
      "image/png": "[encoded data removed]",
      "text/plain": [
       "<Figure size 432x288 with 1 Axes>"
      ]
     },
     "metadata": {
      "needs_background": "light"
     },
     "output_type": "display_data"
    }
   ],
   "source": [
    "data['ceiling_height'].describe()\n",
    "plt.hist(data.query('(ceiling_height > 1) & (ceiling_height < 5)')['ceiling_height'], bins=50, range=(2,5))\n",
    "plt.show()"
   ]
  },
  {
   "cell_type": "markdown",
   "metadata": {},
   "source": [
    "#### Вывод: В среднем выоста потолков 2.5 - 2.65 м"
   ]
  },
  {
   "cell_type": "markdown",
   "metadata": {},
   "source": [
    "### Тип этажа квартиры («первый», «последний», «другой»);"
   ]
  },
  {
   "cell_type": "code",
   "execution_count": 17,
   "metadata": {},
   "outputs": [
    {
     "data": {
      "text/plain": [
       "<AxesSubplot:title={'center':'Зависимость цены от типа квартиры'}, xlabel='type_apart_floor'>"
      ]
     },
     "execution_count": 17,
     "metadata": {},
     "output_type": "execute_result"
    },
    {
     "data": {
      "image/png": "[encoded data removed]",
      "text/plain": [
       "<Figure size 288x288 with 1 Axes>"
      ]
     },
     "metadata": {
      "needs_background": "light"
     },
     "output_type": "display_data"
    }
   ],
   "source": [
    "#Здесь логично будет сразу выполнить сравнение зависимости этаж-цена\n",
    "(\n",
    "    data.pivot_table(index='type_apart_floor', values='last_price', aggfunc='median').sort_values(by='last_price', ascending=False)\n",
    "    .plot(grid=True, style='o-', figsize=(4, 4), title='Зависимость цены от типа квартиры')\n",
    ")"
   ]
  },
  {
   "cell_type": "markdown",
   "metadata": {},
   "source": [
    "#### Вывод: Цена уменьшается от другого к последнему, дешевле всего выйдет квартира на первом этаже. "
   ]
  },
  {
   "cell_type": "markdown",
   "metadata": {},
   "source": [
    "### Общее количество этажей в доме"
   ]
  },
  {
   "cell_type": "code",
   "execution_count": 18,
   "metadata": {
    "scrolled": true
   },
   "outputs": [
    {
     "data": {
      "image/png": "[encoded data removed]",
      "text/plain": [
       "<Figure size 432x288 with 1 Axes>"
      ]
     },
     "metadata": {
      "needs_background": "light"
     },
     "output_type": "display_data"
    }
   ],
   "source": [
    "data['floors_total'].describe()\n",
    "plt.hist(data['floors_total'], bins=25, range=(1, 25))\n",
    "plt.show()"
   ]
  },
  {
   "cell_type": "markdown",
   "metadata": {},
   "source": [
    "#### Вывод: Больше всего продают квартиры в 5-этажных и 9-ти этажных домах "
   ]
  },
  {
   "cell_type": "markdown",
   "metadata": {},
   "source": [
    "### Расстояние до центра города в метрах"
   ]
  },
  {
   "cell_type": "code",
   "execution_count": 19,
   "metadata": {
    "scrolled": true
   },
   "outputs": [
    {
     "data": {
      "image/png": "[encoded data removed]",
      "text/plain": [
       "<Figure size 432x288 with 1 Axes>"
      ]
     },
     "metadata": {
      "needs_background": "light"
     },
     "output_type": "display_data"
    }
   ],
   "source": [
    "data['city_centers_nearest'].describe()\n",
    "plt.hist(data['city_centers_nearest'], bins=100, range=(181, 30000))\n",
    "plt.show()"
   ]
  },
  {
   "cell_type": "markdown",
   "metadata": {},
   "source": [
    "#### Вывод: Больше всего продается квартир с расстоянием от 10 до 17 км до центра города"
   ]
  },
  {
   "cell_type": "markdown",
   "metadata": {},
   "source": [
    "### Расстояние до ближайшего парка"
   ]
  },
  {
   "cell_type": "code",
   "execution_count": 20,
   "metadata": {
    "scrolled": true
   },
   "outputs": [
    {
     "data": {
      "image/png": "[encoded data removed]",
      "text/plain": [
       "<Figure size 432x288 with 1 Axes>"
      ]
     },
     "metadata": {
      "needs_background": "light"
     },
     "output_type": "display_data"
    }
   ],
   "source": [
    "data['parks_nearest'].describe()\n",
    "plt.hist(data['parks_nearest'], bins=100, range=(50,1000))\n",
    "plt.show()"
   ]
  },
  {
   "cell_type": "markdown",
   "metadata": {},
   "source": [
    "#### Вывод: В среднем до парка от 180 до 670 м. "
   ]
  },
  {
   "cell_type": "markdown",
   "metadata": {},
   "source": [
    "### Изучите, как быстро продавались квартиры (столбец days_exposition)"
   ]
  },
  {
   "cell_type": "code",
   "execution_count": 21,
   "metadata": {},
   "outputs": [
    {
     "data": {
      "image/png": "[encoded data removed]",
      "text/plain": [
       "<Figure size 432x288 with 1 Axes>"
      ]
     },
     "metadata": {
      "needs_background": "light"
     },
     "output_type": "display_data"
    }
   ],
   "source": [
    "data['days_exposition'].describe()\n",
    "plt.hist(data['days_exposition'], bins=100, range=(1,300))\n",
    "plt.show()"
   ]
  },
  {
   "cell_type": "markdown",
   "metadata": {},
   "source": [
    "#### Вывод: \n",
    "Среднее время продажи составляет 180 дней \n",
    "Медианное время продажи составляет 95 дня (стоит отталкиваться от этого значения, так как оно не зависит от выбросов) \n",
    "Быстрыми продажаи - это продажи за 45 дней (Q1)\n",
    "Необычно долгие продажи -это продажи, которые длятся более 232 дней (Q3) "
   ]
  },
  {
   "cell_type": "markdown",
   "metadata": {},
   "source": [
    "### Определение факторов, которые больше всего влияют на общую (полную) стоимость объекта.\n",
    "\n",
    "- общей площади;\n",
    "- жилой площади;\n",
    "- площади кухни;\n",
    "- количества комнат;\n",
    "- этажа, на котором расположена квартира (первый, последний, другой);\n",
    "- даты размещения (день недели, месяц, год)"
   ]
  },
  {
   "cell_type": "code",
   "execution_count": 22,
   "metadata": {},
   "outputs": [
    {
     "name": "stdout",
     "output_type": "stream",
     "text": [
      "              kitchen_area  living_area     rooms  total_area\n",
      "kitchen_area      1.000000     0.538269  0.459818    0.678373\n",
      "living_area       0.538269     1.000000  0.812586    0.862464\n",
      "rooms             0.459818     0.812586  1.000000    0.784052\n",
      "total_area        0.678373     0.862464  0.784052    1.000000 \n",
      "\n",
      "<class 'pandas.core.frame.DataFrame'>\n",
      "RangeIndex: 23699 entries, 0 to 23698\n",
      "Data columns (total 29 columns):\n",
      " #   Column                Non-Null Count  Dtype         \n",
      "---  ------                --------------  -----         \n",
      " 0   total_images          23699 non-null  int64         \n",
      " 1   last_price            23699 non-null  float64       \n",
      " 2   total_area            23699 non-null  float64       \n",
      " 3   first_day_exposition  23699 non-null  datetime64[ns]\n",
      " 4   rooms                 23699 non-null  int64         \n",
      " 5   ceiling_height        23699 non-null  float64       \n",
      " 6   floors_total          23613 non-null  float64       \n",
      " 7   living_area           23699 non-null  float64       \n",
      " 8   floor                 23699 non-null  int64         \n",
      " 9   is_apartment          23699 non-null  int64         \n",
      " 10  studio                23699 non-null  bool          \n",
      " 11  open_plan             23699 non-null  bool          \n",
      " 12  kitchen_area          21421 non-null  float64       \n",
      " 13  balcony               23699 non-null  float64       \n",
      " 14  locality_name         23650 non-null  object        \n",
      " 15  airports_nearest      18157 non-null  float64       \n",
      " 16  city_centers_nearest  18180 non-null  float64       \n",
      " 17  parks_around3000      18181 non-null  float64       \n",
      " 18  parks_nearest         8079 non-null   float64       \n",
      " 19  ponds_around3000      18181 non-null  float64       \n",
      " 20  ponds_nearest         9110 non-null   float64       \n",
      " 21  days_exposition       20518 non-null  float64       \n",
      " 22  year_pub              23699 non-null  int64         \n",
      " 23  first_day_year        23699 non-null  int64         \n",
      " 24  price_msq             23699 non-null  float64       \n",
      " 25  day_pub               23699 non-null  int64         \n",
      " 26  month_pub             23699 non-null  int64         \n",
      " 27  type_apart_floor      23699 non-null  object        \n",
      " 28  to_city_center        18180 non-null  float64       \n",
      "dtypes: bool(2), datetime64[ns](1), float64(16), int64(8), object(2)\n",
      "memory usage: 4.9+ MB\n"
     ]
    }
   ],
   "source": [
    "#Корреляция данных до того, как убрали лишние выбросы \n",
    "import numpy as np\n",
    "print (\n",
    "data.pivot_table(index='last_price', values=['total_area', 'living_area', 'kitchen_area', 'rooms']).corr(),'\\n'\n",
    ")\n",
    "\n",
    "data.info()\n"
   ]
  },
  {
   "cell_type": "code",
   "execution_count": 23,
   "metadata": {
    "scrolled": true
   },
   "outputs": [
    {
     "name": "stdout",
     "output_type": "stream",
     "text": [
      "              kitchen_area  living_area     rooms  total_area\n",
      "kitchen_area      1.000000     0.299730  0.220826    0.525996\n",
      "living_area       0.299730     1.000000  0.863032    0.875403\n",
      "rooms             0.220826     0.863032  1.000000    0.842736\n",
      "total_area        0.525996     0.875403  0.842736    1.000000 \n",
      "\n",
      "<class 'pandas.core.frame.DataFrame'>\n",
      "RangeIndex: 23699 entries, 0 to 23698\n",
      "Data columns (total 29 columns):\n",
      " #   Column                Non-Null Count  Dtype         \n",
      "---  ------                --------------  -----         \n",
      " 0   total_images          23699 non-null  int64         \n",
      " 1   last_price            20681 non-null  float64       \n",
      " 2   total_area            22224 non-null  float64       \n",
      " 3   first_day_exposition  23699 non-null  datetime64[ns]\n",
      " 4   rooms                 23307 non-null  float64       \n",
      " 5   ceiling_height        23699 non-null  float64       \n",
      " 6   floors_total          23613 non-null  float64       \n",
      " 7   living_area           22811 non-null  float64       \n",
      " 8   floor                 23699 non-null  int64         \n",
      " 9   is_apartment          23699 non-null  int64         \n",
      " 10  studio                23699 non-null  bool          \n",
      " 11  open_plan             23699 non-null  bool          \n",
      " 12  kitchen_area          20147 non-null  float64       \n",
      " 13  balcony               23699 non-null  float64       \n",
      " 14  locality_name         23650 non-null  object        \n",
      " 15  airports_nearest      18157 non-null  float64       \n",
      " 16  city_centers_nearest  18180 non-null  float64       \n",
      " 17  parks_around3000      18181 non-null  float64       \n",
      " 18  parks_nearest         8079 non-null   float64       \n",
      " 19  ponds_around3000      18181 non-null  float64       \n",
      " 20  ponds_nearest         9110 non-null   float64       \n",
      " 21  days_exposition       20518 non-null  float64       \n",
      " 22  year_pub              23699 non-null  int64         \n",
      " 23  first_day_year        23699 non-null  int64         \n",
      " 24  price_msq             23699 non-null  float64       \n",
      " 25  day_pub               23699 non-null  int64         \n",
      " 26  month_pub             23699 non-null  int64         \n",
      " 27  type_apart_floor      23699 non-null  object        \n",
      " 28  to_city_center        18180 non-null  float64       \n",
      "dtypes: bool(2), datetime64[ns](1), float64(17), int64(7), object(2)\n",
      "memory usage: 4.9+ MB\n"
     ]
    }
   ],
   "source": [
    "#Подготовка данных перед построением графиков и проверкой корреляции \n",
    "#Будет составлена функция для того, чтобы оставить только квартильные значения, остальные отбросить как выбросы \n",
    "def quart(data, column):\n",
    "    q_low = data[column].quantile(0.25)\n",
    "    q_high = data[column].quantile(0.75)\n",
    "    q_range = q_high - q_low\n",
    "    q_final = data.loc[(data[column] < q_high + 1.5*q_range) & (data[column] > q_high - 1.5*q_range), column]\n",
    "    return q_final\n",
    "# Столбцы с выбросами\n",
    "new_corr = ['total_area', 'living_area', 'kitchen_area', 'last_price', 'rooms']\n",
    "for y in new_corr:\n",
    "    data[y] = quart(data, y)\n",
    "\n",
    "#Корреляция данных \n",
    "print (data.pivot_table(index='last_price', values=['total_area','living_area','kitchen_area','rooms']).corr(),'\\n')\n",
    "data.info()"
   ]
  },
  {
   "cell_type": "markdown",
   "metadata": {},
   "source": [
    "### После того, как мы отбросили все выборы, можем сделать вывод, цена имеет сильную зависимость от размера жил. площади и количества комнат \n",
    "    \n",
    "   \n",
    "    "
   ]
  },
  {
   "cell_type": "code",
   "execution_count": 25,
   "metadata": {
    "scrolled": true
   },
   "outputs": [
    {
     "data": {
      "image/png": "[encoded data removed]",
      "text/plain": [
       "<Figure size 576x576 with 1 Axes>"
      ]
     },
     "metadata": {
      "needs_background": "light"
     },
     "output_type": "display_data"
    }
   ],
   "source": [
    "#Зависимость цены от общей площади\n",
    "(\n",
    "    data.pivot_table(index='total_area', values='last_price')\n",
    "    .plot(grid=True, style='o', figsize=(8, 8))\n",
    ")\n",
    "plt.title('Зависимость цены от общей площади')\n",
    "plt.show()"
   ]
  },
  {
   "cell_type": "code",
   "execution_count": 26,
   "metadata": {},
   "outputs": [
    {
     "data": {
      "image/png": "[encoded data removed]",
      "text/plain": [
       "<Figure size 576x576 with 1 Axes>"
      ]
     },
     "metadata": {
      "needs_background": "light"
     },
     "output_type": "display_data"
    }
   ],
   "source": [
    "#Зависимость цены от жилой площади\n",
    "(\n",
    "    data.pivot_table(index='living_area', values='last_price')\n",
    "    .plot(grid=True, style='o', figsize=(8, 8))\n",
    ")\n",
    "plt.title('Зависимость цены от жилой площади')\n",
    "plt.show()"
   ]
  },
  {
   "cell_type": "code",
   "execution_count": 27,
   "metadata": {},
   "outputs": [
    {
     "data": {
      "image/png": "[encoded data removed]",
      "text/plain": [
       "<Figure size 576x576 with 1 Axes>"
      ]
     },
     "metadata": {
      "needs_background": "light"
     },
     "output_type": "display_data"
    }
   ],
   "source": [
    "#Зависимость цены от площади кухни\n",
    "(\n",
    "    data.pivot_table(index='kitchen_area', values='last_price')\n",
    "    .plot(grid=True, style='o', figsize=(8, 8))\n",
    ")\n",
    "plt.title('Зависимость цены от площади кухни')\n",
    "plt.show()"
   ]
  },
  {
   "cell_type": "code",
   "execution_count": 28,
   "metadata": {
    "scrolled": true
   },
   "outputs": [
    {
     "data": {
      "image/png": "[encoded data removed]",
      "text/plain": [
       "<Figure size 288x288 with 1 Axes>"
      ]
     },
     "metadata": {
      "needs_background": "light"
     },
     "output_type": "display_data"
    }
   ],
   "source": [
    "#Зависимость цены от количества комнат\n",
    "(\n",
    "    data.pivot_table(index='rooms', values='last_price')\n",
    "    .plot(grid=True, style='o-', figsize=(4, 4))\n",
    ")\n",
    "plt.title('Зависимость цены от количества комнат')\n",
    "plt.show()"
   ]
  },
  {
   "cell_type": "code",
   "execution_count": 29,
   "metadata": {},
   "outputs": [
    {
     "data": {
      "image/png": "[encoded data removed]",
      "text/plain": [
       "<Figure size 288x288 with 1 Axes>"
      ]
     },
     "metadata": {
      "needs_background": "light"
     },
     "output_type": "display_data"
    }
   ],
   "source": [
    "#Зависимость цены от этажа, на котором расположена квартира (первый, последний, другой)\n",
    "(\n",
    "    data.pivot_table(index='type_apart_floor', values='last_price')\n",
    "    .plot(grid=True, style='o-', figsize=(4, 4))\n",
    ")\n",
    "plt.title('этажа, на котором расположена квартира (первый, последний, другой)')\n",
    "plt.show()"
   ]
  },
  {
   "cell_type": "code",
   "execution_count": 30,
   "metadata": {
    "scrolled": true
   },
   "outputs": [
    {
     "data": {
      "image/png": "[encoded data removed]",
      "text/plain": [
       "<Figure size 288x288 with 1 Axes>"
      ]
     },
     "metadata": {
      "needs_background": "light"
     },
     "output_type": "display_data"
    }
   ],
   "source": [
    "#Зависимость цены от даты размещения (день недели)\n",
    "(\n",
    "    data.pivot_table(index='day_pub', values='last_price')\n",
    "    .plot(grid=True, style='o-', figsize=(4, 4))\n",
    ")\n",
    "plt.title('Зависимость цены от даты размещения (день недели)')\n",
    "plt.show()"
   ]
  },
  {
   "cell_type": "code",
   "execution_count": 31,
   "metadata": {
    "scrolled": true
   },
   "outputs": [
    {
     "data": {
      "image/png": "[encoded data removed]",
      "text/plain": [
       "<Figure size 288x288 with 1 Axes>"
      ]
     },
     "metadata": {
      "needs_background": "light"
     },
     "output_type": "display_data"
    }
   ],
   "source": [
    "#Зависимость цены от даты размещения (месяц)\n",
    "(\n",
    "    data.pivot_table(index='month_pub', values='last_price')\n",
    "    .plot(grid=True, style='o-', figsize=(4, 4))\n",
    ")\n",
    "plt.title('Зависимость цены от даты размещения (месяц)')\n",
    "plt.show()"
   ]
  },
  {
   "cell_type": "code",
   "execution_count": 32,
   "metadata": {
    "scrolled": false
   },
   "outputs": [
    {
     "data": {
      "image/png": "[encoded data removed]",
      "text/plain": [
       "<Figure size 288x288 with 1 Axes>"
      ]
     },
     "metadata": {
      "needs_background": "light"
     },
     "output_type": "display_data"
    }
   ],
   "source": [
    "#Зависимость цены от даты размещения (год)\n",
    "(\n",
    "    data.pivot_table(index='year_pub', values='last_price')\n",
    "    .plot(grid=True, style='o-', figsize=(4, 4))\n",
    ")\n",
    "plt.title('Зависимость цены от даты размещения (год)')\n",
    "plt.show()"
   ]
  },
  {
   "cell_type": "code",
   "execution_count": 33,
   "metadata": {},
   "outputs": [
    {
     "data": {
      "image/png": "[encoded data removed]",
      "text/plain": [
       "<Figure size 288x288 with 1 Axes>"
      ]
     },
     "metadata": {
      "needs_background": "light"
     },
     "output_type": "display_data"
    }
   ],
   "source": [
    "#Зависимость цены от даты размещения (год)\n",
    "(\n",
    "    data.pivot_table(index='year_pub', values='total_area')\n",
    "    .plot(grid=True, style='o-', figsize=(4, 4))\n",
    ")\n",
    "plt.title('Зависимость площади продаваемых квартир по годам ')\n",
    "plt.show()"
   ]
  },
  {
   "cell_type": "markdown",
   "metadata": {},
   "source": []
  },
  {
   "cell_type": "markdown",
   "metadata": {},
   "source": [
    "### Вывод: \n",
    "- Больше всего на цену влиет общая площадь квартиры, далее количество комнат (но меньше, чем общая площадь) \n",
    "- Квартиры на первом этаже продаются дешевле, чем на любом другом этаже \n",
    "- Также можно выделить динамику, что цены с 2017 года имеют тенденцию к росту, но в то же время размер квартир уменьшился \n"
   ]
  },
  {
   "cell_type": "markdown",
   "metadata": {},
   "source": [
    "## Средняя цена одного квадратного метра в 10 населённых пунктах с наибольшим числом объявлений — сводная таблица с количеством объявлений и средней ценой квадратного метра для этих населенных пунктов."
   ]
  },
  {
   "cell_type": "code",
   "execution_count": 34,
   "metadata": {
    "scrolled": true
   },
   "outputs": [
    {
     "data": {
      "text/html": [
       "<div>\n",
       "<style scoped>\n",
       "    .dataframe tbody tr th:only-of-type {\n",
       "        vertical-align: middle;\n",
       "    }\n",
       "\n",
       "    .dataframe tbody tr th {\n",
       "        vertical-align: top;\n",
       "    }\n",
       "\n",
       "    .dataframe thead th {\n",
       "        text-align: right;\n",
       "    }\n",
       "</style>\n",
       "<table border=\"1\" class=\"dataframe\">\n",
       "  <thead>\n",
       "    <tr style=\"text-align: right;\">\n",
       "      <th></th>\n",
       "      <th>sum_up</th>\n",
       "      <th>price_msq</th>\n",
       "    </tr>\n",
       "    <tr>\n",
       "      <th>locality_name</th>\n",
       "      <th></th>\n",
       "      <th></th>\n",
       "    </tr>\n",
       "  </thead>\n",
       "  <tbody>\n",
       "    <tr>\n",
       "      <th>санкт-петербург</th>\n",
       "      <td>13729</td>\n",
       "      <td>114849.008793</td>\n",
       "    </tr>\n",
       "    <tr>\n",
       "      <th>пушкин</th>\n",
       "      <td>338</td>\n",
       "      <td>103125.819377</td>\n",
       "    </tr>\n",
       "    <tr>\n",
       "      <th>деревня кудрово</th>\n",
       "      <td>298</td>\n",
       "      <td>92473.547559</td>\n",
       "    </tr>\n",
       "    <tr>\n",
       "      <th>поселок парголово</th>\n",
       "      <td>326</td>\n",
       "      <td>90175.913089</td>\n",
       "    </tr>\n",
       "    <tr>\n",
       "      <th>поселок мурино</th>\n",
       "      <td>556</td>\n",
       "      <td>85681.762572</td>\n",
       "    </tr>\n",
       "    <tr>\n",
       "      <th>поселок шушары</th>\n",
       "      <td>439</td>\n",
       "      <td>78677.364318</td>\n",
       "    </tr>\n",
       "    <tr>\n",
       "      <th>колпино</th>\n",
       "      <td>336</td>\n",
       "      <td>75424.579112</td>\n",
       "    </tr>\n",
       "    <tr>\n",
       "      <th>гатчина</th>\n",
       "      <td>296</td>\n",
       "      <td>68746.146515</td>\n",
       "    </tr>\n",
       "    <tr>\n",
       "      <th>всеволожск</th>\n",
       "      <td>385</td>\n",
       "      <td>68654.473970</td>\n",
       "    </tr>\n",
       "    <tr>\n",
       "      <th>выборг</th>\n",
       "      <td>218</td>\n",
       "      <td>58141.909325</td>\n",
       "    </tr>\n",
       "  </tbody>\n",
       "</table>\n",
       "</div>"
      ],
      "text/plain": [
       "                   sum_up      price_msq\n",
       "locality_name                           \n",
       "санкт-петербург     13729  114849.008793\n",
       "пушкин                338  103125.819377\n",
       "деревня кудрово       298   92473.547559\n",
       "поселок парголово     326   90175.913089\n",
       "поселок мурино        556   85681.762572\n",
       "поселок шушары        439   78677.364318\n",
       "колпино               336   75424.579112\n",
       "гатчина               296   68746.146515\n",
       "всеволожск            385   68654.473970\n",
       "выборг                218   58141.909325"
      ]
     },
     "execution_count": 34,
     "metadata": {},
     "output_type": "execute_result"
    }
   ],
   "source": [
    "data_mean_city = data.pivot_table(index='locality_name', values='last_price', aggfunc=['count'])\n",
    "data_mean_city.columns = ['sum_up']\n",
    "data_mean_city = data_mean_city.sort_values(by='sum_up', ascending=False).head(10)\n",
    "data_mean_city['price_msq'] = data.pivot_table(index='locality_name', values='price_msq')\n",
    "data_mean_city.sort_values(by='price_msq', ascending=False)\n"
   ]
  },
  {
   "cell_type": "markdown",
   "metadata": {},
   "source": [
    "**Больше всего продается квартир и самый дорогой квадратный метр в Санкт-Петербурге, далее следуют Пушкино, Кудрово и так далее. Цена за квадратный в Выборге уступает Санкт-Петербургу в 2 раза** "
   ]
  },
  {
   "cell_type": "markdown",
   "metadata": {},
   "source": [
    "## Выделите квартиры в Санкт-Петербурге с помощью столбца locality_name и вычислите их среднюю стоимость на разном удалении от центра. Учитывайте каждый километр расстояния: узнайте среднюю цену квартир в одном километре от центра, в двух и так далее. Опишите, как стоимость объектов зависит от расстояния до центра города — постройте график изменения средней цены для каждого километра от центра Петербурга."
   ]
  },
  {
   "cell_type": "code",
   "execution_count": 35,
   "metadata": {
    "scrolled": true
   },
   "outputs": [
    {
     "data": {
      "text/plain": [
       "count    15660.000000\n",
       "mean        11.596041\n",
       "std          4.863594\n",
       "min          0.000000\n",
       "25%          8.000000\n",
       "50%         12.000000\n",
       "75%         15.000000\n",
       "max         29.000000\n",
       "Name: to_city_center, dtype: float64"
      ]
     },
     "execution_count": 35,
     "metadata": {},
     "output_type": "execute_result"
    }
   ],
   "source": [
    "data.query('locality_name == \"санкт-петербург\"')['to_city_center'].describe()"
   ]
  },
  {
   "cell_type": "code",
   "execution_count": 36,
   "metadata": {},
   "outputs": [
    {
     "data": {
      "text/html": [
       "<div>\n",
       "<style scoped>\n",
       "    .dataframe tbody tr th:only-of-type {\n",
       "        vertical-align: middle;\n",
       "    }\n",
       "\n",
       "    .dataframe tbody tr th {\n",
       "        vertical-align: top;\n",
       "    }\n",
       "\n",
       "    .dataframe thead th {\n",
       "        text-align: right;\n",
       "    }\n",
       "</style>\n",
       "<table border=\"1\" class=\"dataframe\">\n",
       "  <thead>\n",
       "    <tr style=\"text-align: right;\">\n",
       "      <th></th>\n",
       "      <th>last_price</th>\n",
       "    </tr>\n",
       "    <tr>\n",
       "      <th>to_city_center</th>\n",
       "      <th></th>\n",
       "    </tr>\n",
       "  </thead>\n",
       "  <tbody>\n",
       "    <tr>\n",
       "      <th>0.0</th>\n",
       "      <td>8.398000e+06</td>\n",
       "    </tr>\n",
       "    <tr>\n",
       "      <th>1.0</th>\n",
       "      <td>8.145277e+06</td>\n",
       "    </tr>\n",
       "    <tr>\n",
       "      <th>2.0</th>\n",
       "      <td>7.970519e+06</td>\n",
       "    </tr>\n",
       "    <tr>\n",
       "      <th>3.0</th>\n",
       "      <td>7.346575e+06</td>\n",
       "    </tr>\n",
       "    <tr>\n",
       "      <th>4.0</th>\n",
       "      <td>7.632435e+06</td>\n",
       "    </tr>\n",
       "    <tr>\n",
       "      <th>5.0</th>\n",
       "      <td>7.661225e+06</td>\n",
       "    </tr>\n",
       "    <tr>\n",
       "      <th>6.0</th>\n",
       "      <td>7.108234e+06</td>\n",
       "    </tr>\n",
       "    <tr>\n",
       "      <th>7.0</th>\n",
       "      <td>6.635321e+06</td>\n",
       "    </tr>\n",
       "    <tr>\n",
       "      <th>8.0</th>\n",
       "      <td>6.617244e+06</td>\n",
       "    </tr>\n",
       "    <tr>\n",
       "      <th>9.0</th>\n",
       "      <td>5.526606e+06</td>\n",
       "    </tr>\n",
       "    <tr>\n",
       "      <th>10.0</th>\n",
       "      <td>5.426309e+06</td>\n",
       "    </tr>\n",
       "    <tr>\n",
       "      <th>11.0</th>\n",
       "      <td>5.320768e+06</td>\n",
       "    </tr>\n",
       "    <tr>\n",
       "      <th>12.0</th>\n",
       "      <td>5.290377e+06</td>\n",
       "    </tr>\n",
       "    <tr>\n",
       "      <th>13.0</th>\n",
       "      <td>5.509984e+06</td>\n",
       "    </tr>\n",
       "    <tr>\n",
       "      <th>14.0</th>\n",
       "      <td>5.272787e+06</td>\n",
       "    </tr>\n",
       "    <tr>\n",
       "      <th>15.0</th>\n",
       "      <td>5.292485e+06</td>\n",
       "    </tr>\n",
       "    <tr>\n",
       "      <th>16.0</th>\n",
       "      <td>5.103404e+06</td>\n",
       "    </tr>\n",
       "    <tr>\n",
       "      <th>17.0</th>\n",
       "      <td>4.863589e+06</td>\n",
       "    </tr>\n",
       "    <tr>\n",
       "      <th>18.0</th>\n",
       "      <td>4.707132e+06</td>\n",
       "    </tr>\n",
       "    <tr>\n",
       "      <th>19.0</th>\n",
       "      <td>4.809313e+06</td>\n",
       "    </tr>\n",
       "  </tbody>\n",
       "</table>\n",
       "</div>"
      ],
      "text/plain": [
       "                  last_price\n",
       "to_city_center              \n",
       "0.0             8.398000e+06\n",
       "1.0             8.145277e+06\n",
       "2.0             7.970519e+06\n",
       "3.0             7.346575e+06\n",
       "4.0             7.632435e+06\n",
       "5.0             7.661225e+06\n",
       "6.0             7.108234e+06\n",
       "7.0             6.635321e+06\n",
       "8.0             6.617244e+06\n",
       "9.0             5.526606e+06\n",
       "10.0            5.426309e+06\n",
       "11.0            5.320768e+06\n",
       "12.0            5.290377e+06\n",
       "13.0            5.509984e+06\n",
       "14.0            5.272787e+06\n",
       "15.0            5.292485e+06\n",
       "16.0            5.103404e+06\n",
       "17.0            4.863589e+06\n",
       "18.0            4.707132e+06\n",
       "19.0            4.809313e+06"
      ]
     },
     "execution_count": 36,
     "metadata": {},
     "output_type": "execute_result"
    }
   ],
   "source": [
    "data.query('locality_name == \"санкт-петербург\" and to_city_center<20').pivot_table(values='last_price', index='to_city_center')"
   ]
  },
  {
   "cell_type": "code",
   "execution_count": 37,
   "metadata": {
    "scrolled": true
   },
   "outputs": [
    {
     "data": {
      "image/png": "[encoded data removed]",
      "text/plain": [
       "<Figure size 720x720 with 1 Axes>"
      ]
     },
     "metadata": {
      "needs_background": "light"
     },
     "output_type": "display_data"
    }
   ],
   "source": [
    "(\n",
    "    data.query('locality_name == \"санкт-петербург\"')\n",
    "    .pivot_table(index='to_city_center', values='last_price')\n",
    "    .plot(grid=True, style='o-', figsize=(10, 10))\n",
    ")\n",
    "plt.title('Зависимость цены от удаления от центра Санкт-Петербурга')\n",
    "plt.show()"
   ]
  },
  {
   "cell_type": "markdown",
   "metadata": {},
   "source": [
    "**Вывод: чем дальше от центра Санкт-Петербурга, тем дешевле стоимость квартир. На расстоянии от 9 км. до 19 км. стоимость уже перестает зависеть от удаленности. На растоянии 20 км. возможно располагаются частные поселки, с чем связан рост цены. Далее мы наблюдаем падение цены.** "
   ]
  },
  {
   "cell_type": "markdown",
   "metadata": {},
   "source": [
    "# Общий вывод - В ходе исследования объявлений о продаже квартир были выполнены следующие этапы и сделаны выводы:\n",
    "\n",
    "**Часть 1** \n",
    "- получена общая информация о данных \n",
    "- проверено на наличие явных дубликатов \n",
    "- проверено наличие пустых значений \n",
    "- построены гистограммы \n",
    "\n",
    "**Часть 2** \n",
    "\n",
    "- привели наименования столбцов к \"хорошему стилю\" \n",
    "- заполнили пустые значения, где это было возможно.  \n",
    "- изменили тип данных, там где это было необходимо \n",
    "Стоит отметить, что наличие пустых значений скорее всего всего свяазно с тем, что заполнение данных чек-боксов не является обязательным в сервисе, соответственно данные отсутствуют. Также не стоит исключать проблемы при выгрузке данных. \n",
    "\n",
    "**Часть 3** \n",
    "\n",
    "Добавлены новые столбцы в таблицу согласно заданию, а именно \n",
    "- price_msq - цена квадратного метра объекта с точностью до двух знаков после запятой.\n",
    "- day_pub - день недели публикации объявления (0 — понедельник, 1 — вторник и так далее).\n",
    "- month_pub - месяц публикации объявления.\n",
    "- year_pub - год публикации объявления.\n",
    "- type_apart_floor - тип этажа квартиры (значения — «первый», «последний», «другой»).\n",
    "- to_city_center - расстояние до центра города в целых километрах.\n",
    "\n",
    "**Часть 4** \n",
    "\n",
    "Проведена работа с данными, а именно\n",
    "- Избавились от выбросов \n",
    "- Выведена корреляция \n",
    "- Проверили, что сохранилась большая часть данных, значит исследование можно продолжить \n",
    "\n",
    "Изучены общие показатели квартир, которые продавались\n",
    "- Больше всего квартир площадью от 30 до 64 кв. м., с наибольшим значением около 50 кв. м.\n",
    "- Больше всего в продаже квартир, у которых жилая площадь от 15 до 20 кв. м. и от 28 до 35 кв. м.\n",
    "- В среднем кухня с 6 кв. м. до 12 кв. м. \n",
    "- Больше всего квартир продается в ценовом диапозоне от 3.5 до 4.5 млн. рублей\n",
    "- Больше всего предложений от 1 до 3 комнат.\n",
    "- В среднем выоста потолков 2.5 - 2.65 м\n",
    "- Цена зависит от этажа. Самый дешевый варинт это первый этаж, затем последний, далее другие этажи\n",
    "- Больше всего продают квартиры в 5-этажных и 9-ти этажных домах\n",
    "- Больше всего продается квартир с расстоянием от 10 до 17 км до центра города\n",
    "- В среднем до парка от 180 до 670 м.¶\n",
    "- Среднее время продажи составляет 180 дней Медианное время продажи составляет 95 дня (стоит отталкиваться от этого значения, так как оно не зависит от выбросов) Быстрыми продажаи - это продажи за 45 дней (Q1) Необычно долгие продажи -это продажи, которые длятся более 232 дней (Q3)\n",
    "\n",
    "Определены факторы, которые больше всего влияют на цены \n",
    "\n",
    "- Больше всего на цену влиет общая площадь квартиры, далее количество комнат (но меньше, чем общая площадь) \n",
    "- Квартиры на первом этаже продаются дешевле, чем на любом другом этаже \n",
    "- Также можно выделить динамику, что цены с 2017 года имеют тенденцию к росту, но в то же время размер квартир уменьшился \n",
    "\n",
    "\n",
    "**Часть 5** \n",
    "\n",
    "- Посчитана средняя цена одного квадратного метра в 10 населённых пунктах с наибольшим числом объявлений\n",
    "- Больше всего продается квартир и самый дорогой квадратный метр в Санкт-Петербурге, далее следуют Пушкино, Кудрово и так далее. Цена за квадратный в Выборге уступает Санкт-Петербургу в 2 раза. \n",
    "\n",
    "**Часть 6** \n",
    "\n",
    "- Выделены квартиры в Санкт-Петербурге с помощью столбца locality_name и вычислена их средняя стоимость на разном удалении от центра.\n",
    "- Сделан вывод, что чем дальше от центра Санкт-Петербурга, тем дешевле стоимость квартир. На расстоянии от 9 км. до 19 км. стоимость уже перестает зависеть от удаленности. На растоянии 20 км. возможно располагаются частные поселки, с чем связан небольшой рост цены. Далее мы наблюдаем падение цены."
   ]
  },
  {
   "cell_type": "code",
   "execution_count": null,
   "metadata": {},
   "outputs": [],
   "source": []
  }
 ],
 "metadata": {
  "ExecuteTimeLog": [
   {
    "duration": 883,
    "start_time": "2024-06-19T18:48:11.082Z"
   },
   {
    "duration": 292,
    "start_time": "2024-06-19T18:48:31.143Z"
   },
   {
    "duration": 93,
    "start_time": "2024-06-19T18:50:14.901Z"
   },
   {
    "duration": 97,
    "start_time": "2024-06-19T18:56:56.686Z"
   },
   {
    "duration": 92,
    "start_time": "2024-06-19T18:57:32.532Z"
   },
   {
    "duration": 91,
    "start_time": "2024-06-19T18:57:45.420Z"
   },
   {
    "duration": 7,
    "start_time": "2024-06-19T19:00:14.046Z"
   },
   {
    "duration": 15,
    "start_time": "2024-06-19T19:01:34.003Z"
   },
   {
    "duration": 90,
    "start_time": "2024-06-19T19:03:07.634Z"
   },
   {
    "duration": 70,
    "start_time": "2024-06-19T19:04:12.715Z"
   },
   {
    "duration": 96,
    "start_time": "2024-06-19T19:04:38.958Z"
   },
   {
    "duration": 90,
    "start_time": "2024-06-19T19:04:55.224Z"
   },
   {
    "duration": 138,
    "start_time": "2024-06-19T19:05:55.810Z"
   },
   {
    "duration": 15,
    "start_time": "2024-06-19T19:07:17.629Z"
   },
   {
    "duration": 10,
    "start_time": "2024-06-19T19:11:39.750Z"
   },
   {
    "duration": 26,
    "start_time": "2024-06-19T19:11:56.398Z"
   },
   {
    "duration": 1948,
    "start_time": "2024-06-19T19:15:02.243Z"
   },
   {
    "duration": 3,
    "start_time": "2024-06-19T19:19:16.934Z"
   },
   {
    "duration": 10,
    "start_time": "2024-06-19T19:25:18.291Z"
   },
   {
    "duration": 11,
    "start_time": "2024-06-19T19:31:58.877Z"
   },
   {
    "duration": 16,
    "start_time": "2024-06-19T19:32:09.632Z"
   },
   {
    "duration": 6,
    "start_time": "2024-06-19T19:36:26.335Z"
   },
   {
    "duration": 4,
    "start_time": "2024-06-19T19:36:32.605Z"
   },
   {
    "duration": 9,
    "start_time": "2024-06-19T19:59:18.349Z"
   },
   {
    "duration": 6,
    "start_time": "2024-06-19T19:59:28.990Z"
   },
   {
    "duration": 8,
    "start_time": "2024-06-19T20:01:49.318Z"
   },
   {
    "duration": 10,
    "start_time": "2024-06-19T20:02:10.313Z"
   },
   {
    "duration": 8,
    "start_time": "2024-06-19T20:02:50.398Z"
   },
   {
    "duration": 29,
    "start_time": "2024-06-19T20:05:01.479Z"
   },
   {
    "duration": 8,
    "start_time": "2024-06-19T20:07:38.165Z"
   },
   {
    "duration": 12,
    "start_time": "2024-06-19T20:12:30.295Z"
   },
   {
    "duration": 11,
    "start_time": "2024-06-19T20:12:54.296Z"
   },
   {
    "duration": 989,
    "start_time": "2024-06-19T20:22:59.909Z"
   },
   {
    "duration": 10,
    "start_time": "2024-06-19T20:23:48.792Z"
   },
   {
    "duration": 14,
    "start_time": "2024-06-19T20:27:15.811Z"
   },
   {
    "duration": 24,
    "start_time": "2024-06-19T20:28:37.104Z"
   },
   {
    "duration": 32,
    "start_time": "2024-06-19T20:42:02.955Z"
   },
   {
    "duration": 32,
    "start_time": "2024-06-19T20:42:21.731Z"
   },
   {
    "duration": 32,
    "start_time": "2024-06-19T20:42:52.350Z"
   },
   {
    "duration": 37,
    "start_time": "2024-06-19T20:43:12.110Z"
   },
   {
    "duration": 38,
    "start_time": "2024-06-19T20:44:17.604Z"
   },
   {
    "duration": 41,
    "start_time": "2024-06-19T20:51:37.460Z"
   },
   {
    "duration": 36,
    "start_time": "2024-06-19T20:52:50.020Z"
   },
   {
    "duration": 34,
    "start_time": "2024-06-19T20:53:06.403Z"
   },
   {
    "duration": 64,
    "start_time": "2024-06-19T20:55:15.900Z"
   },
   {
    "duration": 37,
    "start_time": "2024-06-19T20:55:37.343Z"
   },
   {
    "duration": 10,
    "start_time": "2024-06-19T21:02:28.676Z"
   },
   {
    "duration": 75,
    "start_time": "2024-06-19T21:16:40.129Z"
   },
   {
    "duration": 73,
    "start_time": "2024-06-19T21:17:34.034Z"
   },
   {
    "duration": 71,
    "start_time": "2024-06-19T21:17:46.584Z"
   },
   {
    "duration": 23,
    "start_time": "2024-06-19T21:18:21.647Z"
   },
   {
    "duration": 82,
    "start_time": "2024-06-19T21:18:38.354Z"
   },
   {
    "duration": 86,
    "start_time": "2024-06-19T21:18:58.602Z"
   },
   {
    "duration": 84,
    "start_time": "2024-06-19T21:19:49.870Z"
   },
   {
    "duration": 69,
    "start_time": "2024-06-19T21:20:07.639Z"
   },
   {
    "duration": 19,
    "start_time": "2024-06-19T21:23:48.296Z"
   },
   {
    "duration": 0,
    "start_time": "2024-06-19T21:24:12.824Z"
   },
   {
    "duration": 86,
    "start_time": "2024-06-19T21:25:44.375Z"
   },
   {
    "duration": 87,
    "start_time": "2024-06-19T21:25:44.738Z"
   },
   {
    "duration": 71,
    "start_time": "2024-06-19T21:27:09.722Z"
   },
   {
    "duration": 82,
    "start_time": "2024-06-19T21:27:23.890Z"
   },
   {
    "duration": 50,
    "start_time": "2024-06-19T21:27:40.230Z"
   },
   {
    "duration": 58,
    "start_time": "2024-06-19T21:27:52.038Z"
   },
   {
    "duration": 6,
    "start_time": "2024-06-19T21:28:28.391Z"
   },
   {
    "duration": 10,
    "start_time": "2024-06-19T21:28:40.015Z"
   },
   {
    "duration": 12,
    "start_time": "2024-06-19T21:28:54.990Z"
   },
   {
    "duration": 6,
    "start_time": "2024-06-19T21:30:11.771Z"
   },
   {
    "duration": 57,
    "start_time": "2024-06-19T21:30:24.847Z"
   },
   {
    "duration": 69,
    "start_time": "2024-06-19T21:33:35.413Z"
   },
   {
    "duration": 2,
    "start_time": "2024-06-19T21:51:20.138Z"
   },
   {
    "duration": 13,
    "start_time": "2024-06-19T22:09:04.223Z"
   },
   {
    "duration": 11,
    "start_time": "2024-06-19T22:09:24.274Z"
   },
   {
    "duration": 1153,
    "start_time": "2024-06-19T22:10:30.919Z"
   },
   {
    "duration": 4,
    "start_time": "2024-06-19T22:11:16.129Z"
   },
   {
    "duration": 929,
    "start_time": "2024-06-19T22:14:41.766Z"
   },
   {
    "duration": 1032,
    "start_time": "2024-06-19T22:16:12.306Z"
   },
   {
    "duration": 9,
    "start_time": "2024-06-19T22:16:46.560Z"
   },
   {
    "duration": 43,
    "start_time": "2024-06-19T22:19:50.214Z"
   },
   {
    "duration": 10,
    "start_time": "2024-06-19T22:20:01.889Z"
   },
   {
    "duration": 10,
    "start_time": "2024-06-19T22:20:20.845Z"
   },
   {
    "duration": 14,
    "start_time": "2024-06-19T22:22:02.231Z"
   },
   {
    "duration": 368,
    "start_time": "2024-06-19T22:25:14.900Z"
   },
   {
    "duration": 390,
    "start_time": "2024-06-19T22:26:55.045Z"
   },
   {
    "duration": 336,
    "start_time": "2024-06-19T22:28:58.058Z"
   },
   {
    "duration": 8,
    "start_time": "2024-06-19T22:36:14.818Z"
   },
   {
    "duration": 11,
    "start_time": "2024-06-19T22:37:43.940Z"
   },
   {
    "duration": 21,
    "start_time": "2024-06-19T22:37:51.655Z"
   },
   {
    "duration": 161,
    "start_time": "2024-06-19T22:38:40.572Z"
   },
   {
    "duration": 246,
    "start_time": "2024-06-19T22:40:25.814Z"
   },
   {
    "duration": 277,
    "start_time": "2024-06-19T22:40:44.017Z"
   },
   {
    "duration": 288,
    "start_time": "2024-06-19T22:40:58.094Z"
   },
   {
    "duration": 219,
    "start_time": "2024-06-19T22:42:02.046Z"
   },
   {
    "duration": 207,
    "start_time": "2024-06-19T22:43:23.686Z"
   },
   {
    "duration": 229,
    "start_time": "2024-06-19T22:43:36.383Z"
   },
   {
    "duration": 227,
    "start_time": "2024-06-19T22:44:41.643Z"
   },
   {
    "duration": 8,
    "start_time": "2024-06-19T22:48:42.277Z"
   },
   {
    "duration": 8,
    "start_time": "2024-06-19T22:49:44.766Z"
   },
   {
    "duration": 239,
    "start_time": "2024-06-19T22:50:01.470Z"
   },
   {
    "duration": 335,
    "start_time": "2024-06-19T22:51:00.191Z"
   },
   {
    "duration": 214,
    "start_time": "2024-06-19T22:51:10.770Z"
   },
   {
    "duration": 215,
    "start_time": "2024-06-19T22:51:24.122Z"
   },
   {
    "duration": 214,
    "start_time": "2024-06-19T22:52:03.675Z"
   },
   {
    "duration": 8,
    "start_time": "2024-06-19T22:55:55.413Z"
   },
   {
    "duration": 235,
    "start_time": "2024-06-19T22:56:49.145Z"
   },
   {
    "duration": 330,
    "start_time": "2024-06-19T22:56:57.076Z"
   },
   {
    "duration": 217,
    "start_time": "2024-06-19T22:57:06.593Z"
   },
   {
    "duration": 10,
    "start_time": "2024-06-19T23:05:10.113Z"
   },
   {
    "duration": 209,
    "start_time": "2024-06-19T23:05:36.875Z"
   },
   {
    "duration": 216,
    "start_time": "2024-06-19T23:06:32.770Z"
   },
   {
    "duration": 219,
    "start_time": "2024-06-19T23:06:41.389Z"
   },
   {
    "duration": 212,
    "start_time": "2024-06-19T23:06:47.905Z"
   },
   {
    "duration": 314,
    "start_time": "2024-06-19T23:07:11.908Z"
   },
   {
    "duration": 207,
    "start_time": "2024-06-19T23:07:36.983Z"
   },
   {
    "duration": 8,
    "start_time": "2024-06-19T23:08:25.592Z"
   },
   {
    "duration": 230,
    "start_time": "2024-06-19T23:08:45.978Z"
   },
   {
    "duration": 222,
    "start_time": "2024-06-19T23:12:47.566Z"
   },
   {
    "duration": 8,
    "start_time": "2024-06-19T23:13:16.908Z"
   },
   {
    "duration": 247,
    "start_time": "2024-06-19T23:16:06.811Z"
   },
   {
    "duration": 6,
    "start_time": "2024-06-19T23:16:59.425Z"
   },
   {
    "duration": 330,
    "start_time": "2024-06-19T23:18:18.340Z"
   },
   {
    "duration": 219,
    "start_time": "2024-06-19T23:18:40.185Z"
   },
   {
    "duration": 224,
    "start_time": "2024-06-19T23:18:46.276Z"
   },
   {
    "duration": 200,
    "start_time": "2024-06-19T23:19:24.219Z"
   },
   {
    "duration": 9,
    "start_time": "2024-06-19T23:19:34.457Z"
   },
   {
    "duration": 227,
    "start_time": "2024-06-19T23:20:06.521Z"
   },
   {
    "duration": 237,
    "start_time": "2024-06-19T23:20:14.907Z"
   },
   {
    "duration": 8,
    "start_time": "2024-06-19T23:20:26.294Z"
   },
   {
    "duration": 345,
    "start_time": "2024-06-19T23:20:51.967Z"
   },
   {
    "duration": 233,
    "start_time": "2024-06-19T23:23:22.948Z"
   },
   {
    "duration": 8,
    "start_time": "2024-06-19T23:24:08.935Z"
   },
   {
    "duration": 225,
    "start_time": "2024-06-19T23:25:30.133Z"
   },
   {
    "duration": 208,
    "start_time": "2024-06-19T23:25:55.132Z"
   },
   {
    "duration": 228,
    "start_time": "2024-06-19T23:27:31.274Z"
   },
   {
    "duration": 315,
    "start_time": "2024-06-19T23:28:33.683Z"
   },
   {
    "duration": 209,
    "start_time": "2024-06-19T23:28:50.259Z"
   },
   {
    "duration": 207,
    "start_time": "2024-06-19T23:29:56.007Z"
   },
   {
    "duration": 217,
    "start_time": "2024-06-19T23:30:04.487Z"
   },
   {
    "duration": 197,
    "start_time": "2024-06-19T23:30:24.552Z"
   },
   {
    "duration": 205,
    "start_time": "2024-06-19T23:30:43.016Z"
   },
   {
    "duration": 10,
    "start_time": "2024-06-19T23:31:38.307Z"
   },
   {
    "duration": 352,
    "start_time": "2024-06-19T23:32:00.636Z"
   },
   {
    "duration": 9,
    "start_time": "2024-06-19T23:34:27.926Z"
   },
   {
    "duration": 222,
    "start_time": "2024-06-19T23:34:51.654Z"
   },
   {
    "duration": 101,
    "start_time": "2024-06-19T23:35:22.192Z"
   },
   {
    "duration": 109,
    "start_time": "2024-06-19T23:35:29.406Z"
   },
   {
    "duration": 104,
    "start_time": "2024-06-19T23:35:37.814Z"
   },
   {
    "duration": 120,
    "start_time": "2024-06-19T23:35:47.695Z"
   },
   {
    "duration": 122,
    "start_time": "2024-06-19T23:36:06.111Z"
   },
   {
    "duration": 121,
    "start_time": "2024-06-19T23:36:21.242Z"
   },
   {
    "duration": 81,
    "start_time": "2024-06-19T23:39:01.059Z"
   },
   {
    "duration": 9,
    "start_time": "2024-06-19T23:39:06.592Z"
   },
   {
    "duration": 170,
    "start_time": "2024-06-19T23:40:18.609Z"
   },
   {
    "duration": 9,
    "start_time": "2024-06-19T23:43:46.454Z"
   },
   {
    "duration": 236,
    "start_time": "2024-06-19T23:44:06.567Z"
   },
   {
    "duration": 10,
    "start_time": "2024-06-19T23:46:13.220Z"
   },
   {
    "duration": 8,
    "start_time": "2024-06-19T23:50:46.579Z"
   },
   {
    "duration": 14,
    "start_time": "2024-06-19T23:50:57.143Z"
   },
   {
    "duration": 134,
    "start_time": "2024-06-19T23:51:06.576Z"
   },
   {
    "duration": 8,
    "start_time": "2024-06-19T23:55:13.205Z"
   },
   {
    "duration": 113,
    "start_time": "2024-06-19T23:55:42.650Z"
   },
   {
    "duration": 127,
    "start_time": "2024-06-19T23:56:07.165Z"
   },
   {
    "duration": 9,
    "start_time": "2024-06-19T23:58:38.811Z"
   },
   {
    "duration": 222,
    "start_time": "2024-06-19T23:59:52.980Z"
   },
   {
    "duration": 230,
    "start_time": "2024-06-20T00:00:08.636Z"
   },
   {
    "duration": 222,
    "start_time": "2024-06-20T00:00:22.124Z"
   },
   {
    "duration": 7,
    "start_time": "2024-06-20T00:02:42.734Z"
   },
   {
    "duration": 8,
    "start_time": "2024-06-20T00:02:55.119Z"
   },
   {
    "duration": 316,
    "start_time": "2024-06-20T00:03:29.262Z"
   },
   {
    "duration": 210,
    "start_time": "2024-06-20T00:03:39.334Z"
   },
   {
    "duration": 8,
    "start_time": "2024-06-20T00:06:10.467Z"
   },
   {
    "duration": 9,
    "start_time": "2024-06-20T00:06:18.526Z"
   },
   {
    "duration": 211,
    "start_time": "2024-06-20T00:07:15.572Z"
   },
   {
    "duration": 206,
    "start_time": "2024-06-20T00:07:26.891Z"
   },
   {
    "duration": 10,
    "start_time": "2024-06-20T00:08:04.779Z"
   },
   {
    "duration": 217,
    "start_time": "2024-06-20T00:09:27.971Z"
   },
   {
    "duration": 9,
    "start_time": "2024-06-20T00:14:36.236Z"
   },
   {
    "duration": 9,
    "start_time": "2024-06-20T00:40:04.010Z"
   },
   {
    "duration": 921,
    "start_time": "2024-06-20T00:40:42.022Z"
   },
   {
    "duration": 982,
    "start_time": "2024-06-20T00:41:58.421Z"
   },
   {
    "duration": 890,
    "start_time": "2024-06-20T00:43:24.463Z"
   },
   {
    "duration": 8,
    "start_time": "2024-06-20T00:43:40.064Z"
   },
   {
    "duration": 762,
    "start_time": "2024-06-20T00:44:06.990Z"
   },
   {
    "duration": 5,
    "start_time": "2024-06-20T00:45:30.352Z"
   },
   {
    "duration": 90,
    "start_time": "2024-06-20T00:46:21.844Z"
   },
   {
    "duration": 79,
    "start_time": "2024-06-20T00:48:54.634Z"
   },
   {
    "duration": 5,
    "start_time": "2024-06-20T00:49:28.782Z"
   },
   {
    "duration": 66,
    "start_time": "2024-06-20T00:49:46.082Z"
   },
   {
    "duration": 807,
    "start_time": "2024-06-20T00:50:43.846Z"
   },
   {
    "duration": 884,
    "start_time": "2024-06-20T00:51:33.351Z"
   },
   {
    "duration": 811,
    "start_time": "2024-06-20T00:51:59.511Z"
   },
   {
    "duration": 4,
    "start_time": "2024-06-20T00:53:32.384Z"
   },
   {
    "duration": 9,
    "start_time": "2024-06-20T00:53:49.396Z"
   },
   {
    "duration": 17,
    "start_time": "2024-06-20T00:54:26.991Z"
   },
   {
    "duration": 8,
    "start_time": "2024-06-20T01:00:12.020Z"
   },
   {
    "duration": 11,
    "start_time": "2024-06-20T01:00:19.779Z"
   },
   {
    "duration": 9,
    "start_time": "2024-06-20T01:00:49.176Z"
   },
   {
    "duration": 19,
    "start_time": "2024-06-20T01:01:07.125Z"
   },
   {
    "duration": 21,
    "start_time": "2024-06-20T01:04:13.366Z"
   },
   {
    "duration": 785,
    "start_time": "2024-06-20T01:07:42.476Z"
   },
   {
    "duration": 879,
    "start_time": "2024-06-20T01:08:55.975Z"
   },
   {
    "duration": 790,
    "start_time": "2024-06-20T01:10:26.892Z"
   },
   {
    "duration": 891,
    "start_time": "2024-06-20T01:11:30.652Z"
   },
   {
    "duration": 779,
    "start_time": "2024-06-20T01:11:47.705Z"
   },
   {
    "duration": 15,
    "start_time": "2024-06-20T01:11:55.573Z"
   },
   {
    "duration": 222,
    "start_time": "2024-06-20T01:12:11.795Z"
   },
   {
    "duration": 73,
    "start_time": "2024-06-20T01:14:06.521Z"
   },
   {
    "duration": 80,
    "start_time": "2024-06-20T01:14:43.910Z"
   },
   {
    "duration": 74,
    "start_time": "2024-06-20T01:15:02.854Z"
   },
   {
    "duration": 91,
    "start_time": "2024-06-20T01:15:17.237Z"
   },
   {
    "duration": 15,
    "start_time": "2024-06-20T01:16:12.708Z"
   },
   {
    "duration": 261,
    "start_time": "2024-06-20T01:16:56.986Z"
   },
   {
    "duration": 14,
    "start_time": "2024-06-20T01:17:16.909Z"
   },
   {
    "duration": 57,
    "start_time": "2024-06-20T01:20:47.996Z"
   },
   {
    "duration": 53,
    "start_time": "2024-06-20T01:23:29.003Z"
   },
   {
    "duration": 15,
    "start_time": "2024-06-20T01:23:36.918Z"
   },
   {
    "duration": 14,
    "start_time": "2024-06-20T01:25:38.994Z"
   },
   {
    "duration": 3,
    "start_time": "2024-06-20T01:29:32.236Z"
   },
   {
    "duration": 52,
    "start_time": "2024-06-20T01:29:39.065Z"
   },
   {
    "duration": 156,
    "start_time": "2024-06-20T01:31:16.297Z"
   },
   {
    "duration": 334,
    "start_time": "2024-06-20T01:31:21.438Z"
   },
   {
    "duration": 81,
    "start_time": "2024-06-20T01:31:30.725Z"
   },
   {
    "duration": 62,
    "start_time": "2024-06-20T01:33:01.664Z"
   },
   {
    "duration": 113,
    "start_time": "2024-06-20T01:33:08.670Z"
   },
   {
    "duration": 70,
    "start_time": "2024-06-20T01:35:47.179Z"
   },
   {
    "duration": 16,
    "start_time": "2024-06-20T01:37:27.974Z"
   },
   {
    "duration": 145,
    "start_time": "2024-06-20T01:37:35.297Z"
   },
   {
    "duration": 132,
    "start_time": "2024-06-20T01:39:24.421Z"
   },
   {
    "duration": 142,
    "start_time": "2024-06-20T01:39:28.553Z"
   },
   {
    "duration": 334,
    "start_time": "2024-06-20T01:39:45.345Z"
   },
   {
    "duration": 161,
    "start_time": "2024-06-20T01:39:55.772Z"
   },
   {
    "duration": 56,
    "start_time": "2024-06-20T01:40:17.302Z"
   },
   {
    "duration": 139,
    "start_time": "2024-06-20T01:40:27.302Z"
   },
   {
    "duration": 48,
    "start_time": "2024-06-20T01:43:53.517Z"
   },
   {
    "duration": 10,
    "start_time": "2024-06-20T01:44:54.791Z"
   },
   {
    "duration": 11,
    "start_time": "2024-06-20T01:45:05.097Z"
   },
   {
    "duration": 328,
    "start_time": "2024-06-20T01:45:22.781Z"
   },
   {
    "duration": 46,
    "start_time": "2024-06-20T01:47:46.736Z"
   },
   {
    "duration": 46,
    "start_time": "2024-06-20T01:48:05.231Z"
   },
   {
    "duration": 132,
    "start_time": "2024-06-20T01:48:42.154Z"
   },
   {
    "duration": 121,
    "start_time": "2024-06-20T01:48:58.817Z"
   },
   {
    "duration": 62,
    "start_time": "2024-06-20T01:51:31.461Z"
   },
   {
    "duration": 773,
    "start_time": "2024-06-20T01:51:47.749Z"
   },
   {
    "duration": 15,
    "start_time": "2024-06-20T01:52:54.334Z"
   },
   {
    "duration": 261,
    "start_time": "2024-06-20T01:53:07.138Z"
   },
   {
    "duration": 15,
    "start_time": "2024-06-20T01:53:16.437Z"
   },
   {
    "duration": 247,
    "start_time": "2024-06-20T01:53:53.210Z"
   },
   {
    "duration": 14,
    "start_time": "2024-06-20T01:54:00.014Z"
   },
   {
    "duration": 14,
    "start_time": "2024-06-20T01:59:52.934Z"
   },
   {
    "duration": 15,
    "start_time": "2024-06-20T02:05:34.683Z"
   },
   {
    "duration": 11,
    "start_time": "2024-06-20T02:07:39.498Z"
   },
   {
    "duration": 83,
    "start_time": "2024-06-20T02:08:29.631Z"
   },
   {
    "duration": 957,
    "start_time": "2024-06-20T05:35:51.899Z"
   },
   {
    "duration": 15,
    "start_time": "2024-06-20T05:35:52.859Z"
   },
   {
    "duration": 29,
    "start_time": "2024-06-20T05:35:52.876Z"
   },
   {
    "duration": 10,
    "start_time": "2024-06-20T05:35:52.907Z"
   },
   {
    "duration": 2134,
    "start_time": "2024-06-20T05:35:52.918Z"
   },
   {
    "duration": 3,
    "start_time": "2024-06-20T05:35:55.054Z"
   },
   {
    "duration": 65,
    "start_time": "2024-06-20T05:35:55.059Z"
   },
   {
    "duration": 75,
    "start_time": "2024-06-20T05:35:55.125Z"
   },
   {
    "duration": 369,
    "start_time": "2024-06-20T05:35:55.201Z"
   },
   {
    "duration": 253,
    "start_time": "2024-06-20T05:35:55.573Z"
   },
   {
    "duration": 363,
    "start_time": "2024-06-20T05:35:55.828Z"
   },
   {
    "duration": 248,
    "start_time": "2024-06-20T05:35:56.193Z"
   },
   {
    "duration": 257,
    "start_time": "2024-06-20T05:35:56.442Z"
   },
   {
    "duration": 146,
    "start_time": "2024-06-20T05:35:56.701Z"
   },
   {
    "duration": 191,
    "start_time": "2024-06-20T05:35:56.848Z"
   },
   {
    "duration": 147,
    "start_time": "2024-06-20T05:35:57.041Z"
   },
   {
    "duration": 152,
    "start_time": "2024-06-20T05:35:57.189Z"
   },
   {
    "duration": 258,
    "start_time": "2024-06-20T05:35:57.343Z"
   },
   {
    "duration": 380,
    "start_time": "2024-06-20T05:35:57.603Z"
   },
   {
    "duration": 261,
    "start_time": "2024-06-20T05:35:57.986Z"
   },
   {
    "duration": 67,
    "start_time": "2024-06-20T05:35:58.249Z"
   },
   {
    "duration": 0,
    "start_time": "2024-06-20T05:35:58.318Z"
   },
   {
    "duration": 43,
    "start_time": "2024-06-20T17:19:57.810Z"
   },
   {
    "duration": 9,
    "start_time": "2024-06-20T17:21:52.439Z"
   },
   {
    "duration": 964,
    "start_time": "2024-06-20T17:22:27.396Z"
   },
   {
    "duration": 12,
    "start_time": "2024-06-20T17:22:28.363Z"
   },
   {
    "duration": 21,
    "start_time": "2024-06-20T17:22:28.376Z"
   },
   {
    "duration": 6,
    "start_time": "2024-06-20T17:22:28.399Z"
   },
   {
    "duration": 1463,
    "start_time": "2024-06-20T17:22:28.406Z"
   },
   {
    "duration": 2,
    "start_time": "2024-06-20T17:22:29.871Z"
   },
   {
    "duration": 74,
    "start_time": "2024-06-20T17:22:29.875Z"
   },
   {
    "duration": 0,
    "start_time": "2024-06-20T17:22:29.951Z"
   },
   {
    "duration": 0,
    "start_time": "2024-06-20T17:22:29.952Z"
   },
   {
    "duration": 0,
    "start_time": "2024-06-20T17:22:29.953Z"
   },
   {
    "duration": 0,
    "start_time": "2024-06-20T17:22:29.953Z"
   },
   {
    "duration": 0,
    "start_time": "2024-06-20T17:22:29.954Z"
   },
   {
    "duration": 0,
    "start_time": "2024-06-20T17:22:29.955Z"
   },
   {
    "duration": 0,
    "start_time": "2024-06-20T17:22:29.956Z"
   },
   {
    "duration": 0,
    "start_time": "2024-06-20T17:22:29.957Z"
   },
   {
    "duration": 0,
    "start_time": "2024-06-20T17:22:29.958Z"
   },
   {
    "duration": 0,
    "start_time": "2024-06-20T17:22:29.959Z"
   },
   {
    "duration": 0,
    "start_time": "2024-06-20T17:22:29.960Z"
   },
   {
    "duration": 0,
    "start_time": "2024-06-20T17:22:29.961Z"
   },
   {
    "duration": 0,
    "start_time": "2024-06-20T17:22:29.962Z"
   },
   {
    "duration": 0,
    "start_time": "2024-06-20T17:22:29.963Z"
   },
   {
    "duration": 0,
    "start_time": "2024-06-20T17:22:29.964Z"
   },
   {
    "duration": 22,
    "start_time": "2024-06-20T17:23:32.665Z"
   },
   {
    "duration": 42,
    "start_time": "2024-06-20T17:24:21.014Z"
   },
   {
    "duration": 42,
    "start_time": "2024-06-20T17:25:19.960Z"
   },
   {
    "duration": 37,
    "start_time": "2024-06-20T17:25:45.043Z"
   },
   {
    "duration": 75,
    "start_time": "2024-06-20T17:26:03.933Z"
   },
   {
    "duration": 51,
    "start_time": "2024-06-20T17:27:25.826Z"
   },
   {
    "duration": 43,
    "start_time": "2024-06-20T17:29:31.659Z"
   },
   {
    "duration": 44,
    "start_time": "2024-06-20T17:29:47.681Z"
   },
   {
    "duration": 39,
    "start_time": "2024-06-20T17:30:13.552Z"
   },
   {
    "duration": 40,
    "start_time": "2024-06-20T17:36:27.466Z"
   },
   {
    "duration": 41,
    "start_time": "2024-06-20T17:38:17.282Z"
   },
   {
    "duration": 40,
    "start_time": "2024-06-20T17:38:55.847Z"
   },
   {
    "duration": 37,
    "start_time": "2024-06-20T17:39:41.259Z"
   },
   {
    "duration": 75,
    "start_time": "2024-06-20T17:41:02.772Z"
   },
   {
    "duration": 39,
    "start_time": "2024-06-20T17:42:08.317Z"
   },
   {
    "duration": 45,
    "start_time": "2024-06-20T17:42:59.101Z"
   },
   {
    "duration": 43,
    "start_time": "2024-06-20T17:43:15.172Z"
   },
   {
    "duration": 42,
    "start_time": "2024-06-20T17:46:04.579Z"
   },
   {
    "duration": 41,
    "start_time": "2024-06-20T17:46:50.620Z"
   },
   {
    "duration": 44,
    "start_time": "2024-06-20T17:48:04.766Z"
   },
   {
    "duration": 629,
    "start_time": "2024-06-20T17:49:36.475Z"
   },
   {
    "duration": 13,
    "start_time": "2024-06-20T17:49:37.106Z"
   },
   {
    "duration": 17,
    "start_time": "2024-06-20T17:49:37.121Z"
   },
   {
    "duration": 7,
    "start_time": "2024-06-20T17:49:37.139Z"
   },
   {
    "duration": 1483,
    "start_time": "2024-06-20T17:49:37.147Z"
   },
   {
    "duration": 2,
    "start_time": "2024-06-20T17:49:38.631Z"
   },
   {
    "duration": 50,
    "start_time": "2024-06-20T17:49:38.634Z"
   },
   {
    "duration": 46,
    "start_time": "2024-06-20T17:49:38.685Z"
   },
   {
    "duration": 282,
    "start_time": "2024-06-20T17:49:38.732Z"
   },
   {
    "duration": 169,
    "start_time": "2024-06-20T17:49:39.016Z"
   },
   {
    "duration": 215,
    "start_time": "2024-06-20T17:49:39.186Z"
   },
   {
    "duration": 179,
    "start_time": "2024-06-20T17:49:39.402Z"
   },
   {
    "duration": 182,
    "start_time": "2024-06-20T17:49:39.583Z"
   },
   {
    "duration": 106,
    "start_time": "2024-06-20T17:49:39.766Z"
   },
   {
    "duration": 136,
    "start_time": "2024-06-20T17:49:39.873Z"
   },
   {
    "duration": 102,
    "start_time": "2024-06-20T17:49:40.011Z"
   },
   {
    "duration": 110,
    "start_time": "2024-06-20T17:49:40.115Z"
   },
   {
    "duration": 165,
    "start_time": "2024-06-20T17:49:40.226Z"
   },
   {
    "duration": 224,
    "start_time": "2024-06-20T17:49:40.393Z"
   },
   {
    "duration": 175,
    "start_time": "2024-06-20T17:49:40.618Z"
   },
   {
    "duration": 64,
    "start_time": "2024-06-20T17:49:40.794Z"
   },
   {
    "duration": 0,
    "start_time": "2024-06-20T17:49:40.859Z"
   },
   {
    "duration": 44,
    "start_time": "2024-06-20T17:50:40.008Z"
   },
   {
    "duration": 40,
    "start_time": "2024-06-20T17:50:48.738Z"
   },
   {
    "duration": 36,
    "start_time": "2024-06-20T17:52:20.058Z"
   },
   {
    "duration": 34,
    "start_time": "2024-06-20T17:52:54.693Z"
   },
   {
    "duration": 37,
    "start_time": "2024-06-20T17:53:01.681Z"
   },
   {
    "duration": 78,
    "start_time": "2024-06-20T18:05:32.762Z"
   },
   {
    "duration": 41,
    "start_time": "2024-06-20T18:05:37.907Z"
   },
   {
    "duration": 44,
    "start_time": "2024-06-20T18:05:46.069Z"
   },
   {
    "duration": 126,
    "start_time": "2024-06-20T18:08:30.949Z"
   },
   {
    "duration": 327,
    "start_time": "2024-06-20T18:10:45.023Z"
   },
   {
    "duration": 1163,
    "start_time": "2024-06-20T18:11:08.187Z"
   },
   {
    "duration": 268,
    "start_time": "2024-06-20T18:11:31.146Z"
   },
   {
    "duration": 1102,
    "start_time": "2024-06-20T18:11:40.505Z"
   },
   {
    "duration": 1089,
    "start_time": "2024-06-20T18:14:35.803Z"
   },
   {
    "duration": 1213,
    "start_time": "2024-06-20T18:14:58.570Z"
   },
   {
    "duration": 65,
    "start_time": "2024-06-20T18:15:20.078Z"
   },
   {
    "duration": 292,
    "start_time": "2024-06-20T18:20:27.831Z"
   },
   {
    "duration": 15,
    "start_time": "2024-06-20T18:21:35.524Z"
   },
   {
    "duration": 23,
    "start_time": "2024-06-20T18:24:29.291Z"
   },
   {
    "duration": 8,
    "start_time": "2024-06-20T18:27:42.787Z"
   },
   {
    "duration": 14,
    "start_time": "2024-06-20T18:27:56.512Z"
   },
   {
    "duration": 12,
    "start_time": "2024-06-20T18:28:36.053Z"
   },
   {
    "duration": 36,
    "start_time": "2024-06-20T18:28:53.788Z"
   },
   {
    "duration": 6,
    "start_time": "2024-06-20T18:38:49.310Z"
   },
   {
    "duration": 13,
    "start_time": "2024-06-20T18:38:58.425Z"
   },
   {
    "duration": 659,
    "start_time": "2024-06-20T18:39:16.174Z"
   },
   {
    "duration": 10,
    "start_time": "2024-06-20T18:39:16.835Z"
   },
   {
    "duration": 18,
    "start_time": "2024-06-20T18:39:16.846Z"
   },
   {
    "duration": 6,
    "start_time": "2024-06-20T18:39:16.866Z"
   },
   {
    "duration": 1477,
    "start_time": "2024-06-20T18:39:16.873Z"
   },
   {
    "duration": 2,
    "start_time": "2024-06-20T18:39:18.351Z"
   },
   {
    "duration": 131,
    "start_time": "2024-06-20T18:39:18.354Z"
   },
   {
    "duration": 65,
    "start_time": "2024-06-20T18:39:18.487Z"
   },
   {
    "duration": 0,
    "start_time": "2024-06-20T18:39:18.553Z"
   },
   {
    "duration": 0,
    "start_time": "2024-06-20T18:39:18.554Z"
   },
   {
    "duration": 0,
    "start_time": "2024-06-20T18:39:18.555Z"
   },
   {
    "duration": 0,
    "start_time": "2024-06-20T18:39:18.556Z"
   },
   {
    "duration": 0,
    "start_time": "2024-06-20T18:39:18.556Z"
   },
   {
    "duration": 0,
    "start_time": "2024-06-20T18:39:18.557Z"
   },
   {
    "duration": 0,
    "start_time": "2024-06-20T18:39:18.557Z"
   },
   {
    "duration": 0,
    "start_time": "2024-06-20T18:39:18.558Z"
   },
   {
    "duration": 1,
    "start_time": "2024-06-20T18:39:18.558Z"
   },
   {
    "duration": 0,
    "start_time": "2024-06-20T18:39:18.559Z"
   },
   {
    "duration": 0,
    "start_time": "2024-06-20T18:39:18.560Z"
   },
   {
    "duration": 0,
    "start_time": "2024-06-20T18:39:18.561Z"
   },
   {
    "duration": 0,
    "start_time": "2024-06-20T18:39:18.561Z"
   },
   {
    "duration": 0,
    "start_time": "2024-06-20T18:39:18.562Z"
   },
   {
    "duration": 0,
    "start_time": "2024-06-20T18:39:18.563Z"
   },
   {
    "duration": 12,
    "start_time": "2024-06-20T18:39:25.048Z"
   },
   {
    "duration": 105,
    "start_time": "2024-06-20T18:39:43.341Z"
   },
   {
    "duration": 104,
    "start_time": "2024-06-20T18:40:09.514Z"
   },
   {
    "duration": 112,
    "start_time": "2024-06-20T18:40:16.481Z"
   },
   {
    "duration": 175,
    "start_time": "2024-06-20T18:42:26.555Z"
   },
   {
    "duration": 115,
    "start_time": "2024-06-20T18:42:59.362Z"
   },
   {
    "duration": 151,
    "start_time": "2024-06-20T18:44:20.491Z"
   },
   {
    "duration": 131,
    "start_time": "2024-06-20T18:45:32.425Z"
   },
   {
    "duration": 128,
    "start_time": "2024-06-20T18:51:02.187Z"
   },
   {
    "duration": 124,
    "start_time": "2024-06-20T18:51:47.357Z"
   },
   {
    "duration": 119,
    "start_time": "2024-06-20T18:52:10.275Z"
   },
   {
    "duration": 127,
    "start_time": "2024-06-20T18:52:26.263Z"
   },
   {
    "duration": 95,
    "start_time": "2024-06-20T18:53:03.415Z"
   },
   {
    "duration": 7,
    "start_time": "2024-06-20T18:53:47.068Z"
   },
   {
    "duration": 35,
    "start_time": "2024-06-20T18:53:58.623Z"
   },
   {
    "duration": 7,
    "start_time": "2024-06-20T18:54:14.484Z"
   },
   {
    "duration": 603,
    "start_time": "2024-06-20T18:54:21.739Z"
   },
   {
    "duration": 13,
    "start_time": "2024-06-20T18:54:22.343Z"
   },
   {
    "duration": 18,
    "start_time": "2024-06-20T18:54:22.357Z"
   },
   {
    "duration": 7,
    "start_time": "2024-06-20T18:54:22.389Z"
   },
   {
    "duration": 1487,
    "start_time": "2024-06-20T18:54:22.398Z"
   },
   {
    "duration": 2,
    "start_time": "2024-06-20T18:54:23.887Z"
   },
   {
    "duration": 137,
    "start_time": "2024-06-20T18:54:23.891Z"
   },
   {
    "duration": 71,
    "start_time": "2024-06-20T18:54:24.030Z"
   },
   {
    "duration": 0,
    "start_time": "2024-06-20T18:54:24.103Z"
   },
   {
    "duration": 0,
    "start_time": "2024-06-20T18:54:24.104Z"
   },
   {
    "duration": 0,
    "start_time": "2024-06-20T18:54:24.105Z"
   },
   {
    "duration": 0,
    "start_time": "2024-06-20T18:54:24.106Z"
   },
   {
    "duration": 0,
    "start_time": "2024-06-20T18:54:24.107Z"
   },
   {
    "duration": 0,
    "start_time": "2024-06-20T18:54:24.107Z"
   },
   {
    "duration": 0,
    "start_time": "2024-06-20T18:54:24.108Z"
   },
   {
    "duration": 0,
    "start_time": "2024-06-20T18:54:24.109Z"
   },
   {
    "duration": 0,
    "start_time": "2024-06-20T18:54:24.109Z"
   },
   {
    "duration": 0,
    "start_time": "2024-06-20T18:54:24.110Z"
   },
   {
    "duration": 0,
    "start_time": "2024-06-20T18:54:24.111Z"
   },
   {
    "duration": 0,
    "start_time": "2024-06-20T18:54:24.111Z"
   },
   {
    "duration": 0,
    "start_time": "2024-06-20T18:54:24.112Z"
   },
   {
    "duration": 0,
    "start_time": "2024-06-20T18:54:24.113Z"
   },
   {
    "duration": 0,
    "start_time": "2024-06-20T18:54:24.114Z"
   },
   {
    "duration": 0,
    "start_time": "2024-06-20T18:54:24.115Z"
   },
   {
    "duration": 0,
    "start_time": "2024-06-20T18:54:24.116Z"
   },
   {
    "duration": 0,
    "start_time": "2024-06-20T18:54:24.117Z"
   },
   {
    "duration": 28,
    "start_time": "2024-06-20T18:54:31.664Z"
   },
   {
    "duration": 10,
    "start_time": "2024-06-20T18:55:26.030Z"
   },
   {
    "duration": 14,
    "start_time": "2024-06-20T18:55:48.885Z"
   },
   {
    "duration": 648,
    "start_time": "2024-06-20T18:55:57.783Z"
   },
   {
    "duration": 11,
    "start_time": "2024-06-20T18:55:58.433Z"
   },
   {
    "duration": 19,
    "start_time": "2024-06-20T18:55:58.445Z"
   },
   {
    "duration": 7,
    "start_time": "2024-06-20T18:55:58.465Z"
   },
   {
    "duration": 1456,
    "start_time": "2024-06-20T18:55:58.473Z"
   },
   {
    "duration": 2,
    "start_time": "2024-06-20T18:55:59.931Z"
   },
   {
    "duration": 114,
    "start_time": "2024-06-20T18:55:59.934Z"
   },
   {
    "duration": 64,
    "start_time": "2024-06-20T18:56:00.049Z"
   },
   {
    "duration": 0,
    "start_time": "2024-06-20T18:56:00.115Z"
   },
   {
    "duration": 0,
    "start_time": "2024-06-20T18:56:00.116Z"
   },
   {
    "duration": 0,
    "start_time": "2024-06-20T18:56:00.116Z"
   },
   {
    "duration": 0,
    "start_time": "2024-06-20T18:56:00.117Z"
   },
   {
    "duration": 0,
    "start_time": "2024-06-20T18:56:00.118Z"
   },
   {
    "duration": 0,
    "start_time": "2024-06-20T18:56:00.118Z"
   },
   {
    "duration": 0,
    "start_time": "2024-06-20T18:56:00.119Z"
   },
   {
    "duration": 0,
    "start_time": "2024-06-20T18:56:00.120Z"
   },
   {
    "duration": 0,
    "start_time": "2024-06-20T18:56:00.120Z"
   },
   {
    "duration": 0,
    "start_time": "2024-06-20T18:56:00.121Z"
   },
   {
    "duration": 0,
    "start_time": "2024-06-20T18:56:00.122Z"
   },
   {
    "duration": 0,
    "start_time": "2024-06-20T18:56:00.123Z"
   },
   {
    "duration": 0,
    "start_time": "2024-06-20T18:56:00.124Z"
   },
   {
    "duration": 0,
    "start_time": "2024-06-20T18:56:00.125Z"
   },
   {
    "duration": 0,
    "start_time": "2024-06-20T18:56:00.125Z"
   },
   {
    "duration": 0,
    "start_time": "2024-06-20T18:56:00.126Z"
   },
   {
    "duration": 0,
    "start_time": "2024-06-20T18:56:00.127Z"
   },
   {
    "duration": 0,
    "start_time": "2024-06-20T18:56:00.127Z"
   },
   {
    "duration": 11,
    "start_time": "2024-06-20T18:56:39.117Z"
   },
   {
    "duration": 627,
    "start_time": "2024-06-20T18:56:51.511Z"
   },
   {
    "duration": 12,
    "start_time": "2024-06-20T18:56:52.139Z"
   },
   {
    "duration": 26,
    "start_time": "2024-06-20T18:56:52.152Z"
   },
   {
    "duration": 16,
    "start_time": "2024-06-20T18:56:52.179Z"
   },
   {
    "duration": 1529,
    "start_time": "2024-06-20T18:56:52.197Z"
   },
   {
    "duration": 3,
    "start_time": "2024-06-20T18:56:53.727Z"
   },
   {
    "duration": 55,
    "start_time": "2024-06-20T18:56:53.731Z"
   },
   {
    "duration": 59,
    "start_time": "2024-06-20T18:56:53.787Z"
   },
   {
    "duration": 326,
    "start_time": "2024-06-20T18:56:53.848Z"
   },
   {
    "duration": 172,
    "start_time": "2024-06-20T18:56:54.177Z"
   },
   {
    "duration": 202,
    "start_time": "2024-06-20T18:56:54.351Z"
   },
   {
    "duration": 186,
    "start_time": "2024-06-20T18:56:54.555Z"
   },
   {
    "duration": 180,
    "start_time": "2024-06-20T18:56:54.742Z"
   },
   {
    "duration": 106,
    "start_time": "2024-06-20T18:56:54.924Z"
   },
   {
    "duration": 143,
    "start_time": "2024-06-20T18:56:55.031Z"
   },
   {
    "duration": 106,
    "start_time": "2024-06-20T18:56:55.176Z"
   },
   {
    "duration": 122,
    "start_time": "2024-06-20T18:56:55.290Z"
   },
   {
    "duration": 238,
    "start_time": "2024-06-20T18:56:55.413Z"
   },
   {
    "duration": 168,
    "start_time": "2024-06-20T18:56:55.652Z"
   },
   {
    "duration": 172,
    "start_time": "2024-06-20T18:56:55.822Z"
   },
   {
    "duration": 17,
    "start_time": "2024-06-20T18:56:55.996Z"
   },
   {
    "duration": 40,
    "start_time": "2024-06-20T18:56:56.015Z"
   },
   {
    "duration": 76,
    "start_time": "2024-06-20T18:56:56.056Z"
   },
   {
    "duration": 0,
    "start_time": "2024-06-20T18:56:56.133Z"
   },
   {
    "duration": 0,
    "start_time": "2024-06-20T18:56:56.134Z"
   },
   {
    "duration": 0,
    "start_time": "2024-06-20T18:56:56.135Z"
   },
   {
    "duration": 137,
    "start_time": "2024-06-20T18:57:30.377Z"
   },
   {
    "duration": 130,
    "start_time": "2024-06-20T18:57:39.753Z"
   },
   {
    "duration": 131,
    "start_time": "2024-06-20T18:57:47.608Z"
   },
   {
    "duration": 95,
    "start_time": "2024-06-20T18:57:53.741Z"
   },
   {
    "duration": 112,
    "start_time": "2024-06-20T18:59:38.564Z"
   },
   {
    "duration": 150,
    "start_time": "2024-06-20T19:00:00.031Z"
   },
   {
    "duration": 186,
    "start_time": "2024-06-20T19:00:05.215Z"
   },
   {
    "duration": 111,
    "start_time": "2024-06-20T19:01:27.415Z"
   },
   {
    "duration": 114,
    "start_time": "2024-06-20T19:03:13.252Z"
   },
   {
    "duration": 105,
    "start_time": "2024-06-20T19:04:34.148Z"
   },
   {
    "duration": 102,
    "start_time": "2024-06-20T19:05:12.228Z"
   },
   {
    "duration": 13,
    "start_time": "2024-06-20T19:17:39.261Z"
   },
   {
    "duration": 16,
    "start_time": "2024-06-20T19:21:23.572Z"
   },
   {
    "duration": 13,
    "start_time": "2024-06-20T19:21:35.335Z"
   },
   {
    "duration": 9,
    "start_time": "2024-06-20T19:22:02.226Z"
   },
   {
    "duration": 59,
    "start_time": "2024-06-20T19:24:48.297Z"
   },
   {
    "duration": 13,
    "start_time": "2024-06-20T19:25:03.341Z"
   },
   {
    "duration": 14,
    "start_time": "2024-06-20T19:25:12.191Z"
   },
   {
    "duration": 19,
    "start_time": "2024-06-20T19:25:51.030Z"
   },
   {
    "duration": 19,
    "start_time": "2024-06-20T19:26:01.209Z"
   },
   {
    "duration": 19,
    "start_time": "2024-06-20T19:27:10.687Z"
   },
   {
    "duration": 14,
    "start_time": "2024-06-20T19:29:29.732Z"
   },
   {
    "duration": 13,
    "start_time": "2024-06-20T19:29:49.749Z"
   },
   {
    "duration": 20,
    "start_time": "2024-06-20T19:30:27.723Z"
   },
   {
    "duration": 18,
    "start_time": "2024-06-20T19:30:40.568Z"
   },
   {
    "duration": 19,
    "start_time": "2024-06-20T19:31:04.107Z"
   },
   {
    "duration": 21,
    "start_time": "2024-06-20T19:31:35.364Z"
   },
   {
    "duration": 19,
    "start_time": "2024-06-20T19:31:45.434Z"
   },
   {
    "duration": 13,
    "start_time": "2024-06-20T19:32:12.083Z"
   },
   {
    "duration": 19,
    "start_time": "2024-06-20T19:33:11.858Z"
   },
   {
    "duration": 20,
    "start_time": "2024-06-20T19:33:18.021Z"
   },
   {
    "duration": 28,
    "start_time": "2024-06-20T19:34:13.742Z"
   },
   {
    "duration": 12,
    "start_time": "2024-06-20T19:39:36.228Z"
   },
   {
    "duration": 7,
    "start_time": "2024-06-20T19:42:18.061Z"
   },
   {
    "duration": 153,
    "start_time": "2024-06-20T19:43:12.801Z"
   },
   {
    "duration": 6,
    "start_time": "2024-06-20T19:44:05.510Z"
   },
   {
    "duration": 24,
    "start_time": "2024-06-20T19:44:13.943Z"
   },
   {
    "duration": 16,
    "start_time": "2024-06-20T19:44:27.539Z"
   },
   {
    "duration": 1175,
    "start_time": "2024-06-20T21:43:21.465Z"
   },
   {
    "duration": 16,
    "start_time": "2024-06-20T21:43:22.643Z"
   },
   {
    "duration": 33,
    "start_time": "2024-06-20T21:43:22.661Z"
   },
   {
    "duration": 9,
    "start_time": "2024-06-20T21:43:22.696Z"
   },
   {
    "duration": 2045,
    "start_time": "2024-06-20T21:43:22.707Z"
   },
   {
    "duration": 4,
    "start_time": "2024-06-20T21:43:24.753Z"
   },
   {
    "duration": 70,
    "start_time": "2024-06-20T21:43:24.758Z"
   },
   {
    "duration": 76,
    "start_time": "2024-06-20T21:43:24.829Z"
   },
   {
    "duration": 386,
    "start_time": "2024-06-20T21:43:24.906Z"
   },
   {
    "duration": 244,
    "start_time": "2024-06-20T21:43:25.296Z"
   },
   {
    "duration": 294,
    "start_time": "2024-06-20T21:43:25.541Z"
   },
   {
    "duration": 255,
    "start_time": "2024-06-20T21:43:25.836Z"
   },
   {
    "duration": 243,
    "start_time": "2024-06-20T21:43:26.093Z"
   },
   {
    "duration": 139,
    "start_time": "2024-06-20T21:43:26.338Z"
   },
   {
    "duration": 196,
    "start_time": "2024-06-20T21:43:26.479Z"
   },
   {
    "duration": 150,
    "start_time": "2024-06-20T21:43:26.677Z"
   },
   {
    "duration": 161,
    "start_time": "2024-06-20T21:43:26.828Z"
   },
   {
    "duration": 339,
    "start_time": "2024-06-20T21:43:26.990Z"
   },
   {
    "duration": 244,
    "start_time": "2024-06-20T21:43:27.331Z"
   },
   {
    "duration": 247,
    "start_time": "2024-06-20T21:43:27.577Z"
   },
   {
    "duration": 24,
    "start_time": "2024-06-20T21:43:27.825Z"
   },
   {
    "duration": 67,
    "start_time": "2024-06-20T21:43:27.850Z"
   },
   {
    "duration": 173,
    "start_time": "2024-06-20T21:43:27.918Z"
   },
   {
    "duration": 206,
    "start_time": "2024-06-20T21:43:28.093Z"
   },
   {
    "duration": 207,
    "start_time": "2024-06-20T21:43:28.301Z"
   },
   {
    "duration": 142,
    "start_time": "2024-06-20T21:43:28.510Z"
   },
   {
    "duration": 155,
    "start_time": "2024-06-20T21:43:28.654Z"
   },
   {
    "duration": 171,
    "start_time": "2024-06-20T21:43:28.812Z"
   },
   {
    "duration": 251,
    "start_time": "2024-06-20T21:43:28.985Z"
   },
   {
    "duration": 157,
    "start_time": "2024-06-20T21:43:29.238Z"
   },
   {
    "duration": 29,
    "start_time": "2024-06-20T21:43:29.397Z"
   },
   {
    "duration": 15,
    "start_time": "2024-06-20T21:43:29.428Z"
   },
   {
    "duration": 19,
    "start_time": "2024-06-20T21:43:29.445Z"
   },
   {
    "duration": 200,
    "start_time": "2024-06-20T21:43:29.492Z"
   },
   {
    "duration": 31,
    "start_time": "2024-06-20T21:45:30.137Z"
   },
   {
    "duration": 47,
    "start_time": "2024-06-21T20:57:53.413Z"
   },
   {
    "duration": 1023,
    "start_time": "2024-06-21T20:58:04.891Z"
   },
   {
    "duration": 15,
    "start_time": "2024-06-21T20:58:05.916Z"
   },
   {
    "duration": 68,
    "start_time": "2024-06-21T20:58:05.932Z"
   },
   {
    "duration": 9,
    "start_time": "2024-06-21T20:58:06.001Z"
   },
   {
    "duration": 1739,
    "start_time": "2024-06-21T20:58:06.012Z"
   },
   {
    "duration": 14,
    "start_time": "2024-06-21T20:58:07.753Z"
   },
   {
    "duration": 59,
    "start_time": "2024-06-21T20:58:07.769Z"
   },
   {
    "duration": 36,
    "start_time": "2024-06-21T20:58:07.829Z"
   },
   {
    "duration": 59,
    "start_time": "2024-06-21T20:58:07.866Z"
   },
   {
    "duration": 358,
    "start_time": "2024-06-21T20:58:07.927Z"
   },
   {
    "duration": 227,
    "start_time": "2024-06-21T20:58:08.287Z"
   },
   {
    "duration": 293,
    "start_time": "2024-06-21T20:58:08.515Z"
   },
   {
    "duration": 264,
    "start_time": "2024-06-21T20:58:08.810Z"
   },
   {
    "duration": 237,
    "start_time": "2024-06-21T20:58:09.076Z"
   },
   {
    "duration": 132,
    "start_time": "2024-06-21T20:58:09.315Z"
   },
   {
    "duration": 181,
    "start_time": "2024-06-21T20:58:09.448Z"
   },
   {
    "duration": 128,
    "start_time": "2024-06-21T20:58:09.630Z"
   },
   {
    "duration": 149,
    "start_time": "2024-06-21T20:58:09.764Z"
   },
   {
    "duration": 299,
    "start_time": "2024-06-21T20:58:09.915Z"
   },
   {
    "duration": 236,
    "start_time": "2024-06-21T20:58:10.215Z"
   },
   {
    "duration": 197,
    "start_time": "2024-06-21T20:58:10.452Z"
   },
   {
    "duration": 27,
    "start_time": "2024-06-21T20:58:10.650Z"
   },
   {
    "duration": 44,
    "start_time": "2024-06-21T20:58:10.678Z"
   },
   {
    "duration": 161,
    "start_time": "2024-06-21T20:58:10.724Z"
   },
   {
    "duration": 169,
    "start_time": "2024-06-21T20:58:10.887Z"
   },
   {
    "duration": 175,
    "start_time": "2024-06-21T20:58:11.058Z"
   },
   {
    "duration": 133,
    "start_time": "2024-06-21T20:58:11.235Z"
   },
   {
    "duration": 139,
    "start_time": "2024-06-21T20:58:11.370Z"
   },
   {
    "duration": 229,
    "start_time": "2024-06-21T20:58:11.511Z"
   },
   {
    "duration": 172,
    "start_time": "2024-06-21T20:58:11.742Z"
   },
   {
    "duration": 165,
    "start_time": "2024-06-21T20:58:11.916Z"
   },
   {
    "duration": 146,
    "start_time": "2024-06-21T20:58:12.083Z"
   },
   {
    "duration": 35,
    "start_time": "2024-06-21T20:58:12.230Z"
   },
   {
    "duration": 25,
    "start_time": "2024-06-21T20:58:12.267Z"
   },
   {
    "duration": 19,
    "start_time": "2024-06-21T20:58:12.293Z"
   },
   {
    "duration": 187,
    "start_time": "2024-06-21T20:58:12.314Z"
   },
   {
    "duration": 178,
    "start_time": "2024-06-21T21:01:53.032Z"
   },
   {
    "duration": 101,
    "start_time": "2024-06-21T21:23:43.341Z"
   },
   {
    "duration": 72,
    "start_time": "2024-06-21T21:23:57.200Z"
   },
   {
    "duration": 77,
    "start_time": "2024-06-21T21:42:04.524Z"
   },
   {
    "duration": 965,
    "start_time": "2024-06-21T21:44:38.828Z"
   },
   {
    "duration": 5,
    "start_time": "2024-06-21T21:45:23.700Z"
   },
   {
    "duration": 33,
    "start_time": "2024-06-21T21:45:34.429Z"
   },
   {
    "duration": 38,
    "start_time": "2024-06-21T21:45:53.798Z"
   },
   {
    "duration": 14,
    "start_time": "2024-06-21T21:48:13.805Z"
   },
   {
    "duration": 750,
    "start_time": "2024-06-21T21:48:27.845Z"
   },
   {
    "duration": 17,
    "start_time": "2024-06-21T21:48:28.597Z"
   },
   {
    "duration": 22,
    "start_time": "2024-06-21T21:48:28.615Z"
   },
   {
    "duration": 32,
    "start_time": "2024-06-21T21:48:28.638Z"
   },
   {
    "duration": 1888,
    "start_time": "2024-06-21T21:48:28.672Z"
   },
   {
    "duration": 4,
    "start_time": "2024-06-21T21:48:30.562Z"
   },
   {
    "duration": 94,
    "start_time": "2024-06-21T21:48:30.567Z"
   },
   {
    "duration": 62,
    "start_time": "2024-06-21T21:48:30.662Z"
   },
   {
    "duration": 125,
    "start_time": "2024-06-21T21:48:30.726Z"
   },
   {
    "duration": 430,
    "start_time": "2024-06-21T21:48:30.852Z"
   },
   {
    "duration": 224,
    "start_time": "2024-06-21T21:48:31.284Z"
   },
   {
    "duration": 282,
    "start_time": "2024-06-21T21:48:31.510Z"
   },
   {
    "duration": 256,
    "start_time": "2024-06-21T21:48:31.795Z"
   },
   {
    "duration": 243,
    "start_time": "2024-06-21T21:48:32.054Z"
   },
   {
    "duration": 150,
    "start_time": "2024-06-21T21:48:32.298Z"
   },
   {
    "duration": 173,
    "start_time": "2024-06-21T21:48:32.449Z"
   },
   {
    "duration": 132,
    "start_time": "2024-06-21T21:48:32.624Z"
   },
   {
    "duration": 146,
    "start_time": "2024-06-21T21:48:32.758Z"
   },
   {
    "duration": 306,
    "start_time": "2024-06-21T21:48:32.906Z"
   },
   {
    "duration": 226,
    "start_time": "2024-06-21T21:48:33.213Z"
   },
   {
    "duration": 221,
    "start_time": "2024-06-21T21:48:33.441Z"
   },
   {
    "duration": 16,
    "start_time": "2024-06-21T21:48:33.665Z"
   },
   {
    "duration": 39,
    "start_time": "2024-06-21T21:48:33.683Z"
   },
   {
    "duration": 188,
    "start_time": "2024-06-21T21:48:33.724Z"
   },
   {
    "duration": 183,
    "start_time": "2024-06-21T21:48:33.913Z"
   },
   {
    "duration": 172,
    "start_time": "2024-06-21T21:48:34.098Z"
   },
   {
    "duration": 128,
    "start_time": "2024-06-21T21:48:34.271Z"
   },
   {
    "duration": 148,
    "start_time": "2024-06-21T21:48:34.401Z"
   },
   {
    "duration": 228,
    "start_time": "2024-06-21T21:48:34.551Z"
   },
   {
    "duration": 138,
    "start_time": "2024-06-21T21:48:34.780Z"
   },
   {
    "duration": 141,
    "start_time": "2024-06-21T21:48:34.919Z"
   },
   {
    "duration": 151,
    "start_time": "2024-06-21T21:48:35.062Z"
   },
   {
    "duration": 25,
    "start_time": "2024-06-21T21:48:35.215Z"
   },
   {
    "duration": 33,
    "start_time": "2024-06-21T21:48:35.241Z"
   },
   {
    "duration": 26,
    "start_time": "2024-06-21T21:48:35.276Z"
   },
   {
    "duration": 184,
    "start_time": "2024-06-21T21:48:35.303Z"
   },
   {
    "duration": 103,
    "start_time": "2024-06-21T21:51:41.870Z"
   },
   {
    "duration": 19,
    "start_time": "2024-06-21T21:51:54.680Z"
   },
   {
    "duration": 54,
    "start_time": "2024-06-21T21:52:46.029Z"
   },
   {
    "duration": 14,
    "start_time": "2024-06-21T21:52:54.713Z"
   },
   {
    "duration": 16,
    "start_time": "2024-06-21T21:53:18.725Z"
   },
   {
    "duration": 33,
    "start_time": "2024-06-21T21:53:37.015Z"
   },
   {
    "duration": 35,
    "start_time": "2024-06-21T21:54:37.150Z"
   },
   {
    "duration": 31,
    "start_time": "2024-06-21T21:56:30.829Z"
   },
   {
    "duration": 34,
    "start_time": "2024-06-21T21:56:46.875Z"
   },
   {
    "duration": 43,
    "start_time": "2024-06-21T21:57:18.936Z"
   },
   {
    "duration": 16,
    "start_time": "2024-06-21T21:57:30.022Z"
   },
   {
    "duration": 33,
    "start_time": "2024-06-21T21:57:33.723Z"
   },
   {
    "duration": 761,
    "start_time": "2024-06-21T21:58:03.272Z"
   },
   {
    "duration": 13,
    "start_time": "2024-06-21T21:58:04.035Z"
   },
   {
    "duration": 29,
    "start_time": "2024-06-21T21:58:04.049Z"
   },
   {
    "duration": 9,
    "start_time": "2024-06-21T21:58:04.080Z"
   },
   {
    "duration": 1817,
    "start_time": "2024-06-21T21:58:04.091Z"
   },
   {
    "duration": 4,
    "start_time": "2024-06-21T21:58:05.909Z"
   },
   {
    "duration": 45,
    "start_time": "2024-06-21T21:58:05.914Z"
   },
   {
    "duration": 26,
    "start_time": "2024-06-21T21:58:05.960Z"
   },
   {
    "duration": 60,
    "start_time": "2024-06-21T21:58:05.988Z"
   },
   {
    "duration": 365,
    "start_time": "2024-06-21T21:58:06.050Z"
   },
   {
    "duration": 228,
    "start_time": "2024-06-21T21:58:06.416Z"
   },
   {
    "duration": 275,
    "start_time": "2024-06-21T21:58:06.646Z"
   },
   {
    "duration": 226,
    "start_time": "2024-06-21T21:58:06.923Z"
   },
   {
    "duration": 216,
    "start_time": "2024-06-21T21:58:07.152Z"
   },
   {
    "duration": 124,
    "start_time": "2024-06-21T21:58:07.369Z"
   },
   {
    "duration": 164,
    "start_time": "2024-06-21T21:58:07.494Z"
   },
   {
    "duration": 139,
    "start_time": "2024-06-21T21:58:07.659Z"
   },
   {
    "duration": 140,
    "start_time": "2024-06-21T21:58:07.799Z"
   },
   {
    "duration": 308,
    "start_time": "2024-06-21T21:58:07.940Z"
   },
   {
    "duration": 243,
    "start_time": "2024-06-21T21:58:08.250Z"
   },
   {
    "duration": 224,
    "start_time": "2024-06-21T21:58:08.495Z"
   },
   {
    "duration": 16,
    "start_time": "2024-06-21T21:58:08.720Z"
   },
   {
    "duration": 55,
    "start_time": "2024-06-21T21:58:08.737Z"
   },
   {
    "duration": 176,
    "start_time": "2024-06-21T21:58:08.795Z"
   },
   {
    "duration": 163,
    "start_time": "2024-06-21T21:58:08.973Z"
   },
   {
    "duration": 169,
    "start_time": "2024-06-21T21:58:09.137Z"
   },
   {
    "duration": 121,
    "start_time": "2024-06-21T21:58:09.307Z"
   },
   {
    "duration": 149,
    "start_time": "2024-06-21T21:58:09.430Z"
   },
   {
    "duration": 248,
    "start_time": "2024-06-21T21:58:09.580Z"
   },
   {
    "duration": 150,
    "start_time": "2024-06-21T21:58:09.829Z"
   },
   {
    "duration": 135,
    "start_time": "2024-06-21T21:58:09.981Z"
   },
   {
    "duration": 142,
    "start_time": "2024-06-21T21:58:10.118Z"
   },
   {
    "duration": 27,
    "start_time": "2024-06-21T21:58:10.262Z"
   },
   {
    "duration": 13,
    "start_time": "2024-06-21T21:58:10.290Z"
   },
   {
    "duration": 17,
    "start_time": "2024-06-21T21:58:10.304Z"
   },
   {
    "duration": 198,
    "start_time": "2024-06-21T21:58:10.322Z"
   },
   {
    "duration": 15,
    "start_time": "2024-06-21T21:59:05.735Z"
   },
   {
    "duration": 720,
    "start_time": "2024-06-21T22:00:09.125Z"
   },
   {
    "duration": 25,
    "start_time": "2024-06-21T22:00:09.847Z"
   },
   {
    "duration": 22,
    "start_time": "2024-06-21T22:00:09.874Z"
   },
   {
    "duration": 15,
    "start_time": "2024-06-21T22:00:09.899Z"
   },
   {
    "duration": 1768,
    "start_time": "2024-06-21T22:00:09.916Z"
   },
   {
    "duration": 3,
    "start_time": "2024-06-21T22:00:11.685Z"
   },
   {
    "duration": 39,
    "start_time": "2024-06-21T22:00:11.690Z"
   },
   {
    "duration": 35,
    "start_time": "2024-06-21T22:00:11.731Z"
   },
   {
    "duration": 58,
    "start_time": "2024-06-21T22:00:11.767Z"
   },
   {
    "duration": 355,
    "start_time": "2024-06-21T22:00:11.828Z"
   },
   {
    "duration": 214,
    "start_time": "2024-06-21T22:00:12.185Z"
   },
   {
    "duration": 272,
    "start_time": "2024-06-21T22:00:12.401Z"
   },
   {
    "duration": 237,
    "start_time": "2024-06-21T22:00:12.675Z"
   },
   {
    "duration": 239,
    "start_time": "2024-06-21T22:00:12.914Z"
   },
   {
    "duration": 122,
    "start_time": "2024-06-21T22:00:13.155Z"
   },
   {
    "duration": 167,
    "start_time": "2024-06-21T22:00:13.279Z"
   },
   {
    "duration": 127,
    "start_time": "2024-06-21T22:00:13.447Z"
   },
   {
    "duration": 135,
    "start_time": "2024-06-21T22:00:13.576Z"
   },
   {
    "duration": 308,
    "start_time": "2024-06-21T22:00:13.713Z"
   },
   {
    "duration": 217,
    "start_time": "2024-06-21T22:00:14.022Z"
   },
   {
    "duration": 220,
    "start_time": "2024-06-21T22:00:14.241Z"
   },
   {
    "duration": 16,
    "start_time": "2024-06-21T22:00:14.464Z"
   },
   {
    "duration": 42,
    "start_time": "2024-06-21T22:00:14.482Z"
   },
   {
    "duration": 176,
    "start_time": "2024-06-21T22:00:14.526Z"
   },
   {
    "duration": 166,
    "start_time": "2024-06-21T22:00:14.704Z"
   },
   {
    "duration": 170,
    "start_time": "2024-06-21T22:00:14.871Z"
   },
   {
    "duration": 124,
    "start_time": "2024-06-21T22:00:15.042Z"
   },
   {
    "duration": 136,
    "start_time": "2024-06-21T22:00:15.170Z"
   },
   {
    "duration": 225,
    "start_time": "2024-06-21T22:00:15.308Z"
   },
   {
    "duration": 145,
    "start_time": "2024-06-21T22:00:15.535Z"
   },
   {
    "duration": 139,
    "start_time": "2024-06-21T22:00:15.682Z"
   },
   {
    "duration": 136,
    "start_time": "2024-06-21T22:00:15.823Z"
   },
   {
    "duration": 25,
    "start_time": "2024-06-21T22:00:15.961Z"
   },
   {
    "duration": 22,
    "start_time": "2024-06-21T22:00:15.988Z"
   },
   {
    "duration": 35,
    "start_time": "2024-06-21T22:00:16.011Z"
   },
   {
    "duration": 214,
    "start_time": "2024-06-21T22:00:16.047Z"
   },
   {
    "duration": 43,
    "start_time": "2024-06-21T22:02:22.073Z"
   },
   {
    "duration": 984,
    "start_time": "2024-06-21T22:11:07.700Z"
   },
   {
    "duration": 1038,
    "start_time": "2024-06-21T22:11:26.392Z"
   },
   {
    "duration": 16,
    "start_time": "2024-06-21T22:21:42.314Z"
   },
   {
    "duration": 18,
    "start_time": "2024-06-21T22:22:07.647Z"
   },
   {
    "duration": 15,
    "start_time": "2024-06-21T22:22:20.146Z"
   },
   {
    "duration": 19,
    "start_time": "2024-06-21T22:23:00.987Z"
   },
   {
    "duration": 18,
    "start_time": "2024-06-21T22:23:20.155Z"
   },
   {
    "duration": 512,
    "start_time": "2024-06-21T22:24:25.113Z"
   },
   {
    "duration": 20,
    "start_time": "2024-06-21T22:28:40.813Z"
   },
   {
    "duration": 28,
    "start_time": "2024-06-21T22:28:55.247Z"
   },
   {
    "duration": 20,
    "start_time": "2024-06-21T22:35:00.427Z"
   },
   {
    "duration": 15,
    "start_time": "2024-06-21T22:35:17.611Z"
   },
   {
    "duration": 40,
    "start_time": "2024-06-21T22:35:32.827Z"
   },
   {
    "duration": 36,
    "start_time": "2024-06-21T22:35:40.739Z"
   },
   {
    "duration": 751,
    "start_time": "2024-06-21T22:35:58.747Z"
   },
   {
    "duration": 14,
    "start_time": "2024-06-21T22:35:59.499Z"
   },
   {
    "duration": 22,
    "start_time": "2024-06-21T22:35:59.514Z"
   },
   {
    "duration": 35,
    "start_time": "2024-06-21T22:35:59.537Z"
   },
   {
    "duration": 1806,
    "start_time": "2024-06-21T22:35:59.574Z"
   },
   {
    "duration": 3,
    "start_time": "2024-06-21T22:36:01.382Z"
   },
   {
    "duration": 87,
    "start_time": "2024-06-21T22:36:01.387Z"
   },
   {
    "duration": 43,
    "start_time": "2024-06-21T22:36:01.475Z"
   },
   {
    "duration": 63,
    "start_time": "2024-06-21T22:36:01.519Z"
   },
   {
    "duration": 368,
    "start_time": "2024-06-21T22:36:01.584Z"
   },
   {
    "duration": 231,
    "start_time": "2024-06-21T22:36:01.954Z"
   },
   {
    "duration": 266,
    "start_time": "2024-06-21T22:36:02.187Z"
   },
   {
    "duration": 232,
    "start_time": "2024-06-21T22:36:02.455Z"
   },
   {
    "duration": 228,
    "start_time": "2024-06-21T22:36:02.690Z"
   },
   {
    "duration": 131,
    "start_time": "2024-06-21T22:36:02.920Z"
   },
   {
    "duration": 174,
    "start_time": "2024-06-21T22:36:03.053Z"
   },
   {
    "duration": 138,
    "start_time": "2024-06-21T22:36:03.229Z"
   },
   {
    "duration": 148,
    "start_time": "2024-06-21T22:36:03.368Z"
   },
   {
    "duration": 318,
    "start_time": "2024-06-21T22:36:03.518Z"
   },
   {
    "duration": 204,
    "start_time": "2024-06-21T22:36:03.837Z"
   },
   {
    "duration": 211,
    "start_time": "2024-06-21T22:36:04.042Z"
   },
   {
    "duration": 24,
    "start_time": "2024-06-21T22:36:04.255Z"
   },
   {
    "duration": 42,
    "start_time": "2024-06-21T22:36:04.280Z"
   },
   {
    "duration": 171,
    "start_time": "2024-06-21T22:36:04.324Z"
   },
   {
    "duration": 171,
    "start_time": "2024-06-21T22:36:04.496Z"
   },
   {
    "duration": 174,
    "start_time": "2024-06-21T22:36:04.669Z"
   },
   {
    "duration": 141,
    "start_time": "2024-06-21T22:36:04.845Z"
   },
   {
    "duration": 160,
    "start_time": "2024-06-21T22:36:04.988Z"
   },
   {
    "duration": 221,
    "start_time": "2024-06-21T22:36:05.150Z"
   },
   {
    "duration": 129,
    "start_time": "2024-06-21T22:36:05.373Z"
   },
   {
    "duration": 127,
    "start_time": "2024-06-21T22:36:05.504Z"
   },
   {
    "duration": 155,
    "start_time": "2024-06-21T22:36:05.633Z"
   },
   {
    "duration": 24,
    "start_time": "2024-06-21T22:36:05.790Z"
   },
   {
    "duration": 32,
    "start_time": "2024-06-21T22:36:05.816Z"
   },
   {
    "duration": 60,
    "start_time": "2024-06-21T22:36:05.849Z"
   },
   {
    "duration": 161,
    "start_time": "2024-06-21T22:36:05.911Z"
   },
   {
    "duration": 43,
    "start_time": "2024-06-21T22:40:32.064Z"
   },
   {
    "duration": 99,
    "start_time": "2024-06-21T22:44:44.821Z"
   },
   {
    "duration": 25,
    "start_time": "2024-06-21T22:45:04.324Z"
   },
   {
    "duration": 46,
    "start_time": "2024-06-21T22:46:02.275Z"
   },
   {
    "duration": 40,
    "start_time": "2024-06-21T22:46:54.789Z"
   },
   {
    "duration": 32,
    "start_time": "2024-06-21T22:47:03.238Z"
   },
   {
    "duration": 723,
    "start_time": "2024-06-21T22:47:52.213Z"
   },
   {
    "duration": 13,
    "start_time": "2024-06-21T22:47:52.938Z"
   },
   {
    "duration": 64,
    "start_time": "2024-06-21T22:47:52.953Z"
   },
   {
    "duration": 9,
    "start_time": "2024-06-21T22:47:53.019Z"
   },
   {
    "duration": 1798,
    "start_time": "2024-06-21T22:47:53.030Z"
   },
   {
    "duration": 3,
    "start_time": "2024-06-21T22:47:54.829Z"
   },
   {
    "duration": 40,
    "start_time": "2024-06-21T22:47:54.834Z"
   },
   {
    "duration": 22,
    "start_time": "2024-06-21T22:47:54.876Z"
   },
   {
    "duration": 153,
    "start_time": "2024-06-21T22:47:54.900Z"
   },
   {
    "duration": 342,
    "start_time": "2024-06-21T22:47:55.055Z"
   },
   {
    "duration": 231,
    "start_time": "2024-06-21T22:47:55.398Z"
   },
   {
    "duration": 297,
    "start_time": "2024-06-21T22:47:55.631Z"
   },
   {
    "duration": 244,
    "start_time": "2024-06-21T22:47:55.930Z"
   },
   {
    "duration": 225,
    "start_time": "2024-06-21T22:47:56.177Z"
   },
   {
    "duration": 129,
    "start_time": "2024-06-21T22:47:56.404Z"
   },
   {
    "duration": 177,
    "start_time": "2024-06-21T22:47:56.534Z"
   },
   {
    "duration": 129,
    "start_time": "2024-06-21T22:47:56.712Z"
   },
   {
    "duration": 135,
    "start_time": "2024-06-21T22:47:56.843Z"
   },
   {
    "duration": 314,
    "start_time": "2024-06-21T22:47:56.980Z"
   },
   {
    "duration": 225,
    "start_time": "2024-06-21T22:47:57.296Z"
   },
   {
    "duration": 207,
    "start_time": "2024-06-21T22:47:57.523Z"
   },
   {
    "duration": 41,
    "start_time": "2024-06-21T22:47:57.731Z"
   },
   {
    "duration": 47,
    "start_time": "2024-06-21T22:47:57.774Z"
   },
   {
    "duration": 162,
    "start_time": "2024-06-21T22:47:57.822Z"
   },
   {
    "duration": 163,
    "start_time": "2024-06-21T22:47:57.986Z"
   },
   {
    "duration": 157,
    "start_time": "2024-06-21T22:47:58.150Z"
   },
   {
    "duration": 128,
    "start_time": "2024-06-21T22:47:58.308Z"
   },
   {
    "duration": 146,
    "start_time": "2024-06-21T22:47:58.437Z"
   },
   {
    "duration": 225,
    "start_time": "2024-06-21T22:47:58.585Z"
   },
   {
    "duration": 164,
    "start_time": "2024-06-21T22:47:58.812Z"
   },
   {
    "duration": 145,
    "start_time": "2024-06-21T22:47:58.978Z"
   },
   {
    "duration": 146,
    "start_time": "2024-06-21T22:47:59.124Z"
   },
   {
    "duration": 23,
    "start_time": "2024-06-21T22:47:59.272Z"
   },
   {
    "duration": 12,
    "start_time": "2024-06-21T22:47:59.297Z"
   },
   {
    "duration": 18,
    "start_time": "2024-06-21T22:47:59.310Z"
   },
   {
    "duration": 204,
    "start_time": "2024-06-21T22:47:59.329Z"
   },
   {
    "duration": 999,
    "start_time": "2024-06-22T09:26:05.597Z"
   },
   {
    "duration": 20,
    "start_time": "2024-06-22T09:26:06.602Z"
   },
   {
    "duration": 41,
    "start_time": "2024-06-22T09:26:06.624Z"
   },
   {
    "duration": 14,
    "start_time": "2024-06-22T09:26:06.666Z"
   },
   {
    "duration": 2209,
    "start_time": "2024-06-22T09:26:06.688Z"
   },
   {
    "duration": 4,
    "start_time": "2024-06-22T09:26:08.899Z"
   },
   {
    "duration": 65,
    "start_time": "2024-06-22T09:26:08.905Z"
   },
   {
    "duration": 38,
    "start_time": "2024-06-22T09:26:08.972Z"
   },
   {
    "duration": 84,
    "start_time": "2024-06-22T09:26:09.012Z"
   },
   {
    "duration": 419,
    "start_time": "2024-06-22T09:26:09.098Z"
   },
   {
    "duration": 287,
    "start_time": "2024-06-22T09:26:09.519Z"
   },
   {
    "duration": 344,
    "start_time": "2024-06-22T09:26:09.808Z"
   },
   {
    "duration": 342,
    "start_time": "2024-06-22T09:26:10.154Z"
   },
   {
    "duration": 271,
    "start_time": "2024-06-22T09:26:10.502Z"
   },
   {
    "duration": 169,
    "start_time": "2024-06-22T09:26:10.774Z"
   },
   {
    "duration": 209,
    "start_time": "2024-06-22T09:26:10.945Z"
   },
   {
    "duration": 158,
    "start_time": "2024-06-22T09:26:11.156Z"
   },
   {
    "duration": 164,
    "start_time": "2024-06-22T09:26:11.316Z"
   },
   {
    "duration": 376,
    "start_time": "2024-06-22T09:26:11.482Z"
   },
   {
    "duration": 317,
    "start_time": "2024-06-22T09:26:11.860Z"
   },
   {
    "duration": 249,
    "start_time": "2024-06-22T09:26:12.183Z"
   },
   {
    "duration": 30,
    "start_time": "2024-06-22T09:26:12.434Z"
   },
   {
    "duration": 84,
    "start_time": "2024-06-22T09:26:12.466Z"
   },
   {
    "duration": 4,
    "start_time": "2024-06-22T09:26:12.552Z"
   },
   {
    "duration": 190,
    "start_time": "2024-06-22T09:26:12.557Z"
   },
   {
    "duration": 194,
    "start_time": "2024-06-22T09:26:12.749Z"
   },
   {
    "duration": 216,
    "start_time": "2024-06-22T09:26:12.944Z"
   },
   {
    "duration": 162,
    "start_time": "2024-06-22T09:26:13.162Z"
   },
   {
    "duration": 179,
    "start_time": "2024-06-22T09:26:13.325Z"
   },
   {
    "duration": 266,
    "start_time": "2024-06-22T09:26:13.506Z"
   },
   {
    "duration": 190,
    "start_time": "2024-06-22T09:26:13.774Z"
   },
   {
    "duration": 175,
    "start_time": "2024-06-22T09:26:13.966Z"
   },
   {
    "duration": 184,
    "start_time": "2024-06-22T09:26:14.143Z"
   },
   {
    "duration": 29,
    "start_time": "2024-06-22T09:26:14.329Z"
   },
   {
    "duration": 38,
    "start_time": "2024-06-22T09:26:14.360Z"
   },
   {
    "duration": 26,
    "start_time": "2024-06-22T09:26:14.400Z"
   },
   {
    "duration": 229,
    "start_time": "2024-06-22T09:26:14.429Z"
   }
  ],
  "colab": {
   "provenance": []
  },
  "kernelspec": {
   "display_name": "Python 3 (ipykernel)",
   "language": "python",
   "name": "python3"
  },
  "language_info": {
   "codemirror_mode": {
    "name": "ipython",
    "version": 3
   },
   "file_extension": ".py",
   "mimetype": "text/x-python",
   "name": "python",
   "nbconvert_exporter": "python",
   "pygments_lexer": "ipython3",
   "version": "3.9.5"
  },
  "toc": {
   "base_numbering": 1,
   "nav_menu": {},
   "number_sections": true,
   "sideBar": true,
   "skip_h1_title": true,
   "title_cell": "Table of Contents",
   "title_sidebar": "Contents",
   "toc_cell": false,
   "toc_position": {},
   "toc_section_display": true,
   "toc_window_display": false
  }
 },
 "nbformat": 4,
 "nbformat_minor": 1
}
