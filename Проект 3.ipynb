{
 "cells": [
  {
   "cell_type": "markdown",
   "metadata": {},
   "source": [
    "**Описание проекта**\n",
    "\n",
    "Вы работаете в интернет-магазине «Стримчик», который продаёт по всему миру компьютерные игры. Из открытых источников доступны исторические данные о продажах игр, оценки пользователей и экспертов, жанры и платформы (например, Xbox или PlayStation). Вам нужно выявить определяющие успешность игры закономерности. Это позволит сделать ставку на потенциально популярный продукт и спланировать рекламные кампании.\n",
    "Перед вами данные до 2016 года. Представим, что сейчас декабрь 2016 г., и вы планируете кампанию на 2017-й. Нужно отработать принцип работы с данными. Неважно, прогнозируете ли вы продажи на 2017 год по данным 2016-го или же 2027-й — по данным 2026 года.\n",
    "\n",
    "В наборе данных попадается аббревиатура ESRB (Entertainment Software Rating Board) — это ассоциация, определяющая возрастной рейтинг компьютерных игр. ESRB оценивает игровой контент и присваивает ему подходящую возрастную категорию, например, «Для взрослых», «Для детей младшего возраста» или «Для подростков».\n",
    "\n",
    "**Описание данных**\n",
    "\n",
    "Name — название игры\n",
    "\n",
    "Platform — платформа\n",
    "\n",
    "Year_of_Release — год выпуска\n",
    "\n",
    "Genre — жанр игры\n",
    "\n",
    "NA_sales — продажи в Северной Америке (миллионы проданных копий)\n",
    "\n",
    "EU_sales — продажи в Европе (миллионы проданных копий)\n",
    "\n",
    "JP_sales — продажи в Японии (миллионы проданных копий)\n",
    "\n",
    "Other_sales — продажи в других странах (миллионы проданных копий)\n",
    "\n",
    "Critic_Score — оценка критиков (максимум 100)\n",
    "\n",
    "User_Score — оценка пользователей (максимум 10)\n",
    "\n",
    "Rating — рейтинг от организации ESRB (англ. Entertainment Software Rating Board). Эта ассоциация определяет рейтинг компьютерных игр и присваивает им подходящую возрастную категорию."
   ]
  },
  {
   "cell_type": "markdown",
   "metadata": {},
   "source": [
    "**План исследования**\n",
    "- Изучение общей информации о выгрузке \n",
    "- Подготовить данные к исследованию \n",
    "- Провести исследовательский анализ \n",
    "- Составить портрет пользователя каждого региона\n",
    "- Проверить гипотезы \n",
    "- Составить общий вывод "
   ]
  },
  {
   "cell_type": "markdown",
   "metadata": {},
   "source": [
    "**Шаг 1. Открытие файла с данными и изучение общей информацию**"
   ]
  },
  {
   "cell_type": "code",
   "execution_count": 1,
   "metadata": {},
   "outputs": [],
   "source": [
    "#Импортируем библиотеки \n",
    "import pandas  as pd\n",
    "import numpy as np\n",
    "import matplotlib.pyplot as plt\n",
    "import seaborn as sns\n",
    "from scipy import stats as st"
   ]
  },
  {
   "cell_type": "code",
   "execution_count": 2,
   "metadata": {},
   "outputs": [],
   "source": [
    "#Считываем файл \n",
    "data = pd.read_csv('/datasets/games.csv')"
   ]
  },
  {
   "cell_type": "code",
   "execution_count": 3,
   "metadata": {},
   "outputs": [
    {
     "data": {
      "text/html": [
       "<div>\n",
       "<style scoped>\n",
       "    .dataframe tbody tr th:only-of-type {\n",
       "        vertical-align: middle;\n",
       "    }\n",
       "\n",
       "    .dataframe tbody tr th {\n",
       "        vertical-align: top;\n",
       "    }\n",
       "\n",
       "    .dataframe thead th {\n",
       "        text-align: right;\n",
       "    }\n",
       "</style>\n",
       "<table border=\"1\" class=\"dataframe\">\n",
       "  <thead>\n",
       "    <tr style=\"text-align: right;\">\n",
       "      <th></th>\n",
       "      <th>Name</th>\n",
       "      <th>Platform</th>\n",
       "      <th>Year_of_Release</th>\n",
       "      <th>Genre</th>\n",
       "      <th>NA_sales</th>\n",
       "      <th>EU_sales</th>\n",
       "      <th>JP_sales</th>\n",
       "      <th>Other_sales</th>\n",
       "      <th>Critic_Score</th>\n",
       "      <th>User_Score</th>\n",
       "      <th>Rating</th>\n",
       "    </tr>\n",
       "  </thead>\n",
       "  <tbody>\n",
       "    <tr>\n",
       "      <th>0</th>\n",
       "      <td>Wii Sports</td>\n",
       "      <td>Wii</td>\n",
       "      <td>2006.0</td>\n",
       "      <td>Sports</td>\n",
       "      <td>41.36</td>\n",
       "      <td>28.96</td>\n",
       "      <td>3.77</td>\n",
       "      <td>8.45</td>\n",
       "      <td>76.0</td>\n",
       "      <td>8</td>\n",
       "      <td>E</td>\n",
       "    </tr>\n",
       "    <tr>\n",
       "      <th>1</th>\n",
       "      <td>Super Mario Bros.</td>\n",
       "      <td>NES</td>\n",
       "      <td>1985.0</td>\n",
       "      <td>Platform</td>\n",
       "      <td>29.08</td>\n",
       "      <td>3.58</td>\n",
       "      <td>6.81</td>\n",
       "      <td>0.77</td>\n",
       "      <td>NaN</td>\n",
       "      <td>NaN</td>\n",
       "      <td>NaN</td>\n",
       "    </tr>\n",
       "    <tr>\n",
       "      <th>2</th>\n",
       "      <td>Mario Kart Wii</td>\n",
       "      <td>Wii</td>\n",
       "      <td>2008.0</td>\n",
       "      <td>Racing</td>\n",
       "      <td>15.68</td>\n",
       "      <td>12.76</td>\n",
       "      <td>3.79</td>\n",
       "      <td>3.29</td>\n",
       "      <td>82.0</td>\n",
       "      <td>8.3</td>\n",
       "      <td>E</td>\n",
       "    </tr>\n",
       "    <tr>\n",
       "      <th>3</th>\n",
       "      <td>Wii Sports Resort</td>\n",
       "      <td>Wii</td>\n",
       "      <td>2009.0</td>\n",
       "      <td>Sports</td>\n",
       "      <td>15.61</td>\n",
       "      <td>10.93</td>\n",
       "      <td>3.28</td>\n",
       "      <td>2.95</td>\n",
       "      <td>80.0</td>\n",
       "      <td>8</td>\n",
       "      <td>E</td>\n",
       "    </tr>\n",
       "    <tr>\n",
       "      <th>4</th>\n",
       "      <td>Pokemon Red/Pokemon Blue</td>\n",
       "      <td>GB</td>\n",
       "      <td>1996.0</td>\n",
       "      <td>Role-Playing</td>\n",
       "      <td>11.27</td>\n",
       "      <td>8.89</td>\n",
       "      <td>10.22</td>\n",
       "      <td>1.00</td>\n",
       "      <td>NaN</td>\n",
       "      <td>NaN</td>\n",
       "      <td>NaN</td>\n",
       "    </tr>\n",
       "  </tbody>\n",
       "</table>\n",
       "</div>"
      ],
      "text/plain": [
       "                       Name Platform  Year_of_Release         Genre  NA_sales  \\\n",
       "0                Wii Sports      Wii           2006.0        Sports     41.36   \n",
       "1         Super Mario Bros.      NES           1985.0      Platform     29.08   \n",
       "2            Mario Kart Wii      Wii           2008.0        Racing     15.68   \n",
       "3         Wii Sports Resort      Wii           2009.0        Sports     15.61   \n",
       "4  Pokemon Red/Pokemon Blue       GB           1996.0  Role-Playing     11.27   \n",
       "\n",
       "   EU_sales  JP_sales  Other_sales  Critic_Score User_Score Rating  \n",
       "0     28.96      3.77         8.45          76.0          8      E  \n",
       "1      3.58      6.81         0.77           NaN        NaN    NaN  \n",
       "2     12.76      3.79         3.29          82.0        8.3      E  \n",
       "3     10.93      3.28         2.95          80.0          8      E  \n",
       "4      8.89     10.22         1.00           NaN        NaN    NaN  "
      ]
     },
     "execution_count": 3,
     "metadata": {},
     "output_type": "execute_result"
    }
   ],
   "source": [
    "#Открываем для просмотра первые 5 строк фрейма \n",
    "data.head()"
   ]
  },
  {
   "cell_type": "code",
   "execution_count": 4,
   "metadata": {
    "scrolled": true
   },
   "outputs": [
    {
     "name": "stdout",
     "output_type": "stream",
     "text": [
      "<class 'pandas.core.frame.DataFrame'>\n",
      "RangeIndex: 16715 entries, 0 to 16714\n",
      "Data columns (total 11 columns):\n",
      " #   Column           Non-Null Count  Dtype  \n",
      "---  ------           --------------  -----  \n",
      " 0   Name             16713 non-null  object \n",
      " 1   Platform         16715 non-null  object \n",
      " 2   Year_of_Release  16446 non-null  float64\n",
      " 3   Genre            16713 non-null  object \n",
      " 4   NA_sales         16715 non-null  float64\n",
      " 5   EU_sales         16715 non-null  float64\n",
      " 6   JP_sales         16715 non-null  float64\n",
      " 7   Other_sales      16715 non-null  float64\n",
      " 8   Critic_Score     8137 non-null   float64\n",
      " 9   User_Score       10014 non-null  object \n",
      " 10  Rating           9949 non-null   object \n",
      "dtypes: float64(6), object(5)\n",
      "memory usage: 1.4+ MB\n"
     ]
    }
   ],
   "source": [
    "#Изучаем общую информацию о фрейме \n",
    "data.info()"
   ]
  },
  {
   "cell_type": "markdown",
   "metadata": {},
   "source": [
    "**Вывод по Шагу 1**\n",
    "- Необходимо привести названия столбцов к \"хорошему стилю\" \n",
    "- Есть пропущенные значения, их необходимо будет заполнить \n",
    "- Необходимо изменить тип данных в некоторых колонках \n",
    "- В целом данных достаточно для того, чтобы приступить к исследованию "
   ]
  },
  {
   "cell_type": "markdown",
   "metadata": {},
   "source": [
    "**Шаг 2. Подготовка данных к исследованию** "
   ]
  },
  {
   "cell_type": "code",
   "execution_count": 5,
   "metadata": {},
   "outputs": [
    {
     "name": "stdout",
     "output_type": "stream",
     "text": [
      "<class 'pandas.core.frame.DataFrame'>\n",
      "RangeIndex: 16715 entries, 0 to 16714\n",
      "Data columns (total 11 columns):\n",
      " #   Column           Non-Null Count  Dtype  \n",
      "---  ------           --------------  -----  \n",
      " 0   name             16713 non-null  object \n",
      " 1   platform         16715 non-null  object \n",
      " 2   year_of_release  16446 non-null  float64\n",
      " 3   genre            16713 non-null  object \n",
      " 4   na_sales         16715 non-null  float64\n",
      " 5   eu_sales         16715 non-null  float64\n",
      " 6   jp_sales         16715 non-null  float64\n",
      " 7   other_sales      16715 non-null  float64\n",
      " 8   critic_score     8137 non-null   float64\n",
      " 9   user_score       10014 non-null  object \n",
      " 10  rating           9949 non-null   object \n",
      "dtypes: float64(6), object(5)\n",
      "memory usage: 1.4+ MB\n"
     ]
    }
   ],
   "source": [
    "#Преобразуем буквы из наименований столбцов с строчные \n",
    "data.columns = data.columns.str.lower()\n",
    "data.info()"
   ]
  },
  {
   "cell_type": "code",
   "execution_count": 6,
   "metadata": {},
   "outputs": [
    {
     "data": {
      "text/plain": [
       "0"
      ]
     },
     "execution_count": 6,
     "metadata": {},
     "output_type": "execute_result"
    }
   ],
   "source": [
    "#Поиск явных дубликатов \n",
    "data.duplicated().sum()"
   ]
  },
  {
   "cell_type": "code",
   "execution_count": 7,
   "metadata": {},
   "outputs": [
    {
     "data": {
      "text/plain": [
       "name                  2\n",
       "platform              0\n",
       "year_of_release     269\n",
       "genre                 2\n",
       "na_sales              0\n",
       "eu_sales              0\n",
       "jp_sales              0\n",
       "other_sales           0\n",
       "critic_score       8578\n",
       "user_score         6701\n",
       "rating             6766\n",
       "dtype: int64"
      ]
     },
     "execution_count": 7,
     "metadata": {},
     "output_type": "execute_result"
    }
   ],
   "source": [
    "#Обработка пропусков \n",
    "data.isna().sum()"
   ]
  },
  {
   "cell_type": "code",
   "execution_count": 8,
   "metadata": {},
   "outputs": [
    {
     "data": {
      "text/plain": [
       "name                  0\n",
       "platform              0\n",
       "year_of_release     269\n",
       "genre                 0\n",
       "na_sales              0\n",
       "eu_sales              0\n",
       "jp_sales              0\n",
       "other_sales           0\n",
       "critic_score       8576\n",
       "user_score         6699\n",
       "rating             6764\n",
       "dtype: int64"
      ]
     },
     "execution_count": 8,
     "metadata": {},
     "output_type": "execute_result"
    }
   ],
   "source": [
    "#Не заполнены данные в стобцах name и genre, скорее всего техническая ошибка, так что удалим эти строки \n",
    "data = data.dropna(subset=['name'])\n",
    "data = data.dropna(subset=['genre'])\n",
    "data.isna().sum()\n"
   ]
  },
  {
   "cell_type": "code",
   "execution_count": 9,
   "metadata": {},
   "outputs": [
    {
     "data": {
      "text/plain": [
       "name                  0\n",
       "platform              0\n",
       "year_of_release       0\n",
       "genre                 0\n",
       "na_sales              0\n",
       "eu_sales              0\n",
       "jp_sales              0\n",
       "other_sales           0\n",
       "critic_score       8461\n",
       "user_score         6605\n",
       "rating             6676\n",
       "dtype: int64"
      ]
     },
     "execution_count": 9,
     "metadata": {},
     "output_type": "execute_result"
    }
   ],
   "source": [
    "#Игры, в которых нет даты выпуска, также удалим \n",
    "data = data.dropna(subset=['year_of_release'])\n",
    "data.isna().sum()"
   ]
  },
  {
   "cell_type": "code",
   "execution_count": 10,
   "metadata": {},
   "outputs": [
    {
     "name": "stdout",
     "output_type": "stream",
     "text": [
      "51.453417659936754\n",
      "40.166626125030405\n",
      "40.59839455120409\n"
     ]
    }
   ],
   "source": [
    "#Далее разберемся со столбцами critic_score, user_score и rating \n",
    "print (data['critic_score'].isna().sum() / len(data['name'])*100)\n",
    "print (data['user_score'].isna().sum() / len(data['name'])*100)\n",
    "print (data['rating'].isna().sum() / len(data['name'])*100)"
   ]
  },
  {
   "cell_type": "code",
   "execution_count": 11,
   "metadata": {},
   "outputs": [
    {
     "name": "stdout",
     "output_type": "stream",
     "text": [
      "[76. nan 82. 80. 89. 58. 87. 91. 61. 97. 95. 77. 88. 83. 94. 93. 85. 86.\n",
      " 98. 96. 90. 84. 73. 74. 78. 92. 71. 72. 68. 62. 49. 67. 81. 66. 56. 79.\n",
      " 70. 59. 64. 75. 60. 63. 69. 50. 25. 42. 44. 55. 48. 57. 29. 47. 65. 54.\n",
      " 20. 53. 37. 38. 33. 52. 30. 32. 43. 45. 51. 40. 46. 39. 34. 41. 36. 31.\n",
      " 27. 35. 26. 19. 28. 23. 24. 21. 17. 13.]\n",
      "['8' nan '8.3' '8.5' '6.6' '8.4' '8.6' '7.7' '6.3' '7.4' '8.2' '9' '7.9'\n",
      " '8.1' '8.7' '7.1' '3.4' '5.3' '4.8' '3.2' '8.9' '6.4' '7.8' '7.5' '2.6'\n",
      " '7.2' '9.2' '7' '7.3' '4.3' '7.6' '5.7' '5' '9.1' '6.5' 'tbd' '8.8' '6.9'\n",
      " '9.4' '6.8' '6.1' '6.7' '5.4' '4' '4.9' '4.5' '9.3' '6.2' '4.2' '6' '3.7'\n",
      " '4.1' '5.8' '5.6' '5.5' '4.4' '4.6' '5.9' '3.9' '3.1' '2.9' '5.2' '3.3'\n",
      " '4.7' '5.1' '3.5' '2.5' '1.9' '3' '2.7' '2.2' '2' '9.5' '2.1' '3.6' '2.8'\n",
      " '1.8' '3.8' '0' '1.6' '9.6' '2.4' '1.7' '1.1' '0.3' '1.5' '0.7' '1.2'\n",
      " '2.3' '0.5' '1.3' '0.2' '0.6' '1.4' '0.9' '1' '9.7']\n",
      "['E' nan 'M' 'T' 'E10+' 'K-A' 'AO' 'EC' 'RP']\n",
      "name               2376\n",
      "platform           2376\n",
      "year_of_release    2376\n",
      "genre              2376\n",
      "na_sales           2376\n",
      "eu_sales           2376\n",
      "jp_sales           2376\n",
      "other_sales        2376\n",
      "critic_score       1056\n",
      "user_score         2376\n",
      "rating             2326\n",
      "dtype: int64\n"
     ]
    },
    {
     "data": {
      "text/plain": [
       "name                  0\n",
       "platform              0\n",
       "year_of_release       0\n",
       "genre                 0\n",
       "na_sales              0\n",
       "eu_sales              0\n",
       "jp_sales              0\n",
       "other_sales           0\n",
       "critic_score       8461\n",
       "user_score         8981\n",
       "rating                0\n",
       "dtype: int64"
      ]
     },
     "execution_count": 11,
     "metadata": {},
     "output_type": "execute_result"
    }
   ],
   "source": [
    "#Пропуски в данных стобцах состовляют от 40 до 51% от общего числа данных, поэтому удалить мы их не можем\n",
    "print (data['critic_score'].unique())\n",
    "print (data['user_score'].unique())\n",
    "print (data['rating'].unique())\n",
    "\n",
    "print (data[data['user_score'] == 'tbd'].count())\n",
    "\n",
    "#Заменим Nan и tbd \n",
    "data['user_score'] = pd.to_numeric(\n",
    "    data['user_score'].replace('tbd', np.nan), \n",
    "    downcast='float'\n",
    ")\n",
    "data['rating'] = data['rating'].fillna('UK') #unknown\n",
    "\n",
    "# Подставить какие либо данные в данные столбцы user_score и critic_score мы не можем, т.к. на основе других столбцов нельзя это сделать\n",
    "data.isna().sum()"
   ]
  },
  {
   "cell_type": "code",
   "execution_count": 12,
   "metadata": {},
   "outputs": [
    {
     "name": "stdout",
     "output_type": "stream",
     "text": [
      "<class 'pandas.core.frame.DataFrame'>\n",
      "Int64Index: 16444 entries, 0 to 16714\n",
      "Data columns (total 11 columns):\n",
      " #   Column           Non-Null Count  Dtype  \n",
      "---  ------           --------------  -----  \n",
      " 0   name             16444 non-null  object \n",
      " 1   platform         16444 non-null  object \n",
      " 2   year_of_release  16444 non-null  uint16 \n",
      " 3   genre            16444 non-null  object \n",
      " 4   na_sales         16444 non-null  float16\n",
      " 5   eu_sales         16444 non-null  float16\n",
      " 6   jp_sales         16444 non-null  float16\n",
      " 7   other_sales      16444 non-null  float16\n",
      " 8   critic_score     7983 non-null   float16\n",
      " 9   user_score       7463 non-null   float16\n",
      " 10  rating           16444 non-null  object \n",
      "dtypes: float16(6), object(4), uint16(1)\n",
      "memory usage: 867.2+ KB\n"
     ]
    }
   ],
   "source": [
    "#Замения тип данных в стобцах, где это необходимо \n",
    "data['year_of_release'] = (data['year_of_release']).astype('uint16')\n",
    "for i in ['na_sales', 'eu_sales', 'jp_sales', 'other_sales', 'critic_score', 'user_score']:\n",
    "    data[i] = data[i].astype('float16') \n",
    "data.info()"
   ]
  },
  {
   "cell_type": "code",
   "execution_count": 13,
   "metadata": {},
   "outputs": [
    {
     "data": {
      "text/plain": [
       "name               0\n",
       "platform           0\n",
       "year_of_release    0\n",
       "genre              0\n",
       "na_sales           0\n",
       "eu_sales           0\n",
       "jp_sales           0\n",
       "other_sales        0\n",
       "critic_score       0\n",
       "user_score         0\n",
       "rating             0\n",
       "dtype: int64"
      ]
     },
     "execution_count": 13,
     "metadata": {},
     "output_type": "execute_result"
    }
   ],
   "source": [
    "#Обработка неявных дубликатов по названию, дате выпуска и платформе \n",
    "#print(data[data.duplicated(['name', 'platform', 'year_of_release'])].count())\n",
    "data = data.drop_duplicates(['name', 'platform', 'year_of_release'])\n",
    "data[data.duplicated(['name', 'platform', 'year_of_release'])].count()"
   ]
  },
  {
   "cell_type": "code",
   "execution_count": 14,
   "metadata": {
    "scrolled": true
   },
   "outputs": [
    {
     "data": {
      "text/html": [
       "<div>\n",
       "<style scoped>\n",
       "    .dataframe tbody tr th:only-of-type {\n",
       "        vertical-align: middle;\n",
       "    }\n",
       "\n",
       "    .dataframe tbody tr th {\n",
       "        vertical-align: top;\n",
       "    }\n",
       "\n",
       "    .dataframe thead th {\n",
       "        text-align: right;\n",
       "    }\n",
       "</style>\n",
       "<table border=\"1\" class=\"dataframe\">\n",
       "  <thead>\n",
       "    <tr style=\"text-align: right;\">\n",
       "      <th></th>\n",
       "      <th>name</th>\n",
       "      <th>platform</th>\n",
       "      <th>year_of_release</th>\n",
       "      <th>genre</th>\n",
       "      <th>na_sales</th>\n",
       "      <th>eu_sales</th>\n",
       "      <th>jp_sales</th>\n",
       "      <th>other_sales</th>\n",
       "      <th>critic_score</th>\n",
       "      <th>user_score</th>\n",
       "      <th>rating</th>\n",
       "      <th>all_sales</th>\n",
       "    </tr>\n",
       "  </thead>\n",
       "  <tbody>\n",
       "    <tr>\n",
       "      <th>0</th>\n",
       "      <td>Wii Sports</td>\n",
       "      <td>Wii</td>\n",
       "      <td>2006</td>\n",
       "      <td>Sports</td>\n",
       "      <td>41.375000</td>\n",
       "      <td>28.953125</td>\n",
       "      <td>3.769531</td>\n",
       "      <td>8.453125</td>\n",
       "      <td>76.0</td>\n",
       "      <td>8.000000</td>\n",
       "      <td>E</td>\n",
       "      <td>82.500</td>\n",
       "    </tr>\n",
       "    <tr>\n",
       "      <th>1</th>\n",
       "      <td>Super Mario Bros.</td>\n",
       "      <td>NES</td>\n",
       "      <td>1985</td>\n",
       "      <td>Platform</td>\n",
       "      <td>29.078125</td>\n",
       "      <td>3.580078</td>\n",
       "      <td>6.808594</td>\n",
       "      <td>0.770020</td>\n",
       "      <td>NaN</td>\n",
       "      <td>NaN</td>\n",
       "      <td>UK</td>\n",
       "      <td>40.250</td>\n",
       "    </tr>\n",
       "    <tr>\n",
       "      <th>2</th>\n",
       "      <td>Mario Kart Wii</td>\n",
       "      <td>Wii</td>\n",
       "      <td>2008</td>\n",
       "      <td>Racing</td>\n",
       "      <td>15.679688</td>\n",
       "      <td>12.757812</td>\n",
       "      <td>3.789062</td>\n",
       "      <td>3.289062</td>\n",
       "      <td>82.0</td>\n",
       "      <td>8.296875</td>\n",
       "      <td>E</td>\n",
       "      <td>35.500</td>\n",
       "    </tr>\n",
       "    <tr>\n",
       "      <th>3</th>\n",
       "      <td>Wii Sports Resort</td>\n",
       "      <td>Wii</td>\n",
       "      <td>2009</td>\n",
       "      <td>Sports</td>\n",
       "      <td>15.609375</td>\n",
       "      <td>10.929688</td>\n",
       "      <td>3.279297</td>\n",
       "      <td>2.949219</td>\n",
       "      <td>80.0</td>\n",
       "      <td>8.000000</td>\n",
       "      <td>E</td>\n",
       "      <td>32.750</td>\n",
       "    </tr>\n",
       "    <tr>\n",
       "      <th>4</th>\n",
       "      <td>Pokemon Red/Pokemon Blue</td>\n",
       "      <td>GB</td>\n",
       "      <td>1996</td>\n",
       "      <td>Role-Playing</td>\n",
       "      <td>11.273438</td>\n",
       "      <td>8.890625</td>\n",
       "      <td>10.218750</td>\n",
       "      <td>1.000000</td>\n",
       "      <td>NaN</td>\n",
       "      <td>NaN</td>\n",
       "      <td>UK</td>\n",
       "      <td>31.375</td>\n",
       "    </tr>\n",
       "  </tbody>\n",
       "</table>\n",
       "</div>"
      ],
      "text/plain": [
       "                       name platform  year_of_release         genre  \\\n",
       "0                Wii Sports      Wii             2006        Sports   \n",
       "1         Super Mario Bros.      NES             1985      Platform   \n",
       "2            Mario Kart Wii      Wii             2008        Racing   \n",
       "3         Wii Sports Resort      Wii             2009        Sports   \n",
       "4  Pokemon Red/Pokemon Blue       GB             1996  Role-Playing   \n",
       "\n",
       "    na_sales   eu_sales   jp_sales  other_sales  critic_score  user_score  \\\n",
       "0  41.375000  28.953125   3.769531     8.453125          76.0    8.000000   \n",
       "1  29.078125   3.580078   6.808594     0.770020           NaN         NaN   \n",
       "2  15.679688  12.757812   3.789062     3.289062          82.0    8.296875   \n",
       "3  15.609375  10.929688   3.279297     2.949219          80.0    8.000000   \n",
       "4  11.273438   8.890625  10.218750     1.000000           NaN         NaN   \n",
       "\n",
       "  rating  all_sales  \n",
       "0      E     82.500  \n",
       "1     UK     40.250  \n",
       "2      E     35.500  \n",
       "3      E     32.750  \n",
       "4     UK     31.375  "
      ]
     },
     "execution_count": 14,
     "metadata": {},
     "output_type": "execute_result"
    }
   ],
   "source": [
    "#Cуммарные продажи во всех регионах и вынесем их в отдельный столбец.\n",
    "data['all_sales'] = (data['na_sales'] + data['eu_sales'] + data['jp_sales'] + data['other_sales'])\n",
    "data.head()"
   ]
  },
  {
   "cell_type": "markdown",
   "metadata": {},
   "source": [
    "**На мой взгляд пропуски возникли в следствии того, что выгрузка собиралась из разных открытых источников. Также стоит уточнить, что оценка ESRB необязательна для выпуска игр.**"
   ]
  },
  {
   "cell_type": "markdown",
   "metadata": {},
   "source": [
    "**Вывод по Шагу 2**\n",
    "- Название столбцов были приведены к \"хорошему стилю\"\n",
    "- Восстановлены пропуски в строках (за исплючением user_score и critic_score, а в столбце rating пропущенным значениям присвоено UK - unknown)\n",
    "- Удалены строки без нужных данных (были пропуски в столбцах name и year_of_release) \n",
    "- Данные приведены к нужному типу данных \n",
    "- Добавлен новый столбец суммарных продаж во всех регионах"
   ]
  },
  {
   "cell_type": "code",
   "execution_count": 15,
   "metadata": {},
   "outputs": [
    {
     "name": "stdout",
     "output_type": "stream",
     "text": [
      "<class 'pandas.core.frame.DataFrame'>\n",
      "Int64Index: 16443 entries, 0 to 16714\n",
      "Data columns (total 12 columns):\n",
      " #   Column           Non-Null Count  Dtype  \n",
      "---  ------           --------------  -----  \n",
      " 0   name             16443 non-null  object \n",
      " 1   platform         16443 non-null  object \n",
      " 2   year_of_release  16443 non-null  uint16 \n",
      " 3   genre            16443 non-null  object \n",
      " 4   na_sales         16443 non-null  float16\n",
      " 5   eu_sales         16443 non-null  float16\n",
      " 6   jp_sales         16443 non-null  float16\n",
      " 7   other_sales      16443 non-null  float16\n",
      " 8   critic_score     7982 non-null   float16\n",
      " 9   user_score       7462 non-null   float16\n",
      " 10  rating           16443 non-null  object \n",
      " 11  all_sales        16443 non-null  float16\n",
      "dtypes: float16(7), object(4), uint16(1)\n",
      "memory usage: 899.2+ KB\n",
      "None\n",
      "-------------------------\n",
      "name [' Beyblade Burst' ' Fire Emblem Fates' \" Frozen: Olaf's Quest\" ...\n",
      " 'uDraw Studio' 'uDraw Studio: Instant Artist'\n",
      " '¡Shin Chan Flipa en colores!']\n",
      "name : кол-во NaN 0 , процент NaN 0.0 %\n",
      "-------------------------\n",
      "platform ['2600' '3DO' '3DS' 'DC' 'DS' 'GB' 'GBA' 'GC' 'GEN' 'GG' 'N64' 'NES' 'NG'\n",
      " 'PC' 'PCFX' 'PS' 'PS2' 'PS3' 'PS4' 'PSP' 'PSV' 'SAT' 'SCD' 'SNES' 'TG16'\n",
      " 'WS' 'Wii' 'WiiU' 'X360' 'XB' 'XOne']\n",
      "platform : кол-во NaN 0 , процент NaN 0.0 %\n",
      "-------------------------\n",
      "year_of_release [1980 1981 1982 1983 1984 1985 1986 1987 1988 1989 1990 1991 1992 1993\n",
      " 1994 1995 1996 1997 1998 1999 2000 2001 2002 2003 2004 2005 2006 2007\n",
      " 2008 2009 2010 2011 2012 2013 2014 2015 2016]\n",
      "year_of_release : кол-во NaN 0 , процент NaN 0.0 %\n",
      "-------------------------\n",
      "genre ['Action' 'Adventure' 'Fighting' 'Misc' 'Platform' 'Puzzle' 'Racing'\n",
      " 'Role-Playing' 'Shooter' 'Simulation' 'Sports' 'Strategy']\n",
      "genre : кол-во NaN 0 , процент NaN 0.0 %\n",
      "-------------------------\n",
      "critic_score [13. 17. 19. 20. 21. 23. 24. 25. 26. 27. 28. 29. 30. 31. 32. 33. 34. 35.\n",
      " 36. 37. 38. 39. 40. 41. 42. 43. 44. 45. 46. 47. 48. 49. 50. 51. 52. 53.\n",
      " 54. 55. 56. 57. 58. 59. 60. 61. 62. 63. 64. 65. 66. 67. 68. 69. 70. 71.\n",
      " 72. 73. 74. 75. 76. 77. 78. 79. 80. 81. 82. 83. 84. 85. 86. 87. 88. 89.\n",
      " 90. 91. 92. 93. 94. 95. 96. 97. 98. nan]\n",
      "critic_score : кол-во NaN 8461 , процент NaN 51.46 %\n",
      "-------------------------\n",
      "user_score [0.  0.2 0.3 0.5 0.6 0.7 0.9 1.  1.1 1.2 1.3 1.4 1.5 1.6 1.7 1.8 1.9 2.\n",
      " 2.1 2.2 2.3 2.4 2.5 2.6 2.7 2.8 2.9 3.  3.1 3.2 3.3 3.4 3.5 3.6 3.7 3.8\n",
      " 3.9 4.  4.1 4.2 4.3 4.4 4.5 4.6 4.7 4.8 4.9 5.  5.1 5.2 5.3 5.4 5.5 5.6\n",
      " 5.7 5.8 5.9 6.  6.1 6.2 6.3 6.4 6.5 6.6 6.7 6.8 6.9 7.  7.1 7.2 7.3 7.4\n",
      " 7.5 7.6 7.7 7.8 7.9 8.  8.1 8.2 8.3 8.4 8.5 8.6 8.7 8.8 8.9 9.  9.1 9.2\n",
      " 9.3 9.4 9.5 9.6 9.7 nan]\n",
      "user_score : кол-во NaN 8981 , процент NaN 54.62 %\n",
      "-------------------------\n",
      "rating ['AO' 'E' 'E10+' 'EC' 'K-A' 'M' 'RP' 'T' 'UK']\n",
      "rating : кол-во NaN 0 , процент NaN 0.0 %\n"
     ]
    }
   ],
   "source": [
    "# Комментарий ревьюера\n",
    "# Посмотрим, что осталось\n",
    "temp = data.copy() \n",
    "list_c = ['name', 'platform', 'year_of_release', 'genre', 'critic_score', 'user_score', 'rating']\n",
    "print(temp.info())\n",
    "for col_l in list_c:\n",
    "  print('-'* 25)\n",
    "  print(col_l, temp[col_l].sort_values().unique())\n",
    "  print(col_l,': кол-во NaN',temp[col_l].isna().sum(),\n",
    "        ', процент NaN', round(temp[col_l].isna().mean()*100,2),'%') "
   ]
  },
  {
   "cell_type": "markdown",
   "metadata": {},
   "source": [
    "**Шаг 3. Исследовательский анализ данных**"
   ]
  },
  {
   "cell_type": "markdown",
   "metadata": {},
   "source": [
    "**3.1 Исследование выпуска игр в различные годы** "
   ]
  },
  {
   "cell_type": "code",
   "execution_count": 16,
   "metadata": {},
   "outputs": [
    {
     "data": {
      "image/png": "[encoded data removed]",
      "text/plain": [
       "<Figure size 720x360 with 1 Axes>"
      ]
     },
     "metadata": {
      "needs_background": "light"
     },
     "output_type": "display_data"
    }
   ],
   "source": [
    "(\n",
    "    data.pivot_table(\n",
    "    index='year_of_release', \n",
    "    values='all_sales', \n",
    "    aggfunc=('count') \n",
    ").plot(kind='bar' , grid=True, figsize=(10, 5))\n",
    ")\n",
    "\n",
    "plt.title('Количество продаж по годам')\n",
    "plt.xlabel('Год')\n",
    "plt.ylabel('Количество продаж')\n",
    "plt.show()\n"
   ]
  },
  {
   "cell_type": "markdown",
   "metadata": {},
   "source": [
    "***Наблюдается рост количества релизов с 1980 по 2008 год, затем идет спад***"
   ]
  },
  {
   "cell_type": "markdown",
   "metadata": {},
   "source": [
    "**3.2 Исследование изменений продаж по платформам**"
   ]
  },
  {
   "cell_type": "code",
   "execution_count": 17,
   "metadata": {
    "scrolled": false
   },
   "outputs": [
    {
     "data": {
      "image/png": "[encoded data removed]",
      "text/plain": [
       "<Figure size 720x360 with 1 Axes>"
      ]
     },
     "metadata": {
      "needs_background": "light"
     },
     "output_type": "display_data"
    }
   ],
   "source": [
    "(\n",
    "    data.pivot_table(index='platform', values='all_sales', aggfunc='sum')\n",
    "    .sort_values(by='all_sales', ascending=False)\n",
    "    .plot(kind='bar' , grid=True, figsize=(10, 5))\n",
    ")\n",
    "plt.title('Количество суммарных продаж в зависимости от платформы')\n",
    "plt.xlabel('Платформа')\n",
    "plt.ylabel('Продажи')\n",
    "plt.show()"
   ]
  },
  {
   "cell_type": "code",
   "execution_count": 18,
   "metadata": {},
   "outputs": [
    {
     "data": {
      "text/plain": [
       "['PS2', 'X360', 'PS3', 'Wii', 'DS', 'PS']"
      ]
     },
     "execution_count": 18,
     "metadata": {},
     "output_type": "execute_result"
    }
   ],
   "source": [
    "# мы получили, что у следующих платформ наибольшие продажи: PS2, X360, PS3, Wii, DS, PS\n",
    "top_platform_sales = data.pivot_table(index='platform', values='all_sales', aggfunc='sum').sort_values(by='all_sales', ascending=False).reset_index().head(6)['platform'].tolist()\n",
    "top_platform_sales"
   ]
  },
  {
   "cell_type": "markdown",
   "metadata": {},
   "source": [
    "***Наибольшие продажи у платформ PS2, X360, PS3, Wii, DS, PS***"
   ]
  },
  {
   "cell_type": "code",
   "execution_count": 19,
   "metadata": {},
   "outputs": [
    {
     "data": {
      "image/png": "[encoded data removed]",
      "text/plain": [
       "<Figure size 720x360 with 1 Axes>"
      ]
     },
     "metadata": {
      "needs_background": "light"
     },
     "output_type": "display_data"
    }
   ],
   "source": [
    "for name in top_platform_sales:\n",
    "    (\n",
    "    data.query('platform == @name')\n",
    "    .pivot_table(index = 'year_of_release', values = 'all_sales', aggfunc = 'sum')\n",
    "    .sort_values('year_of_release', ascending = False)['all_sales']\n",
    "    .plot(figsize = (10, 5), label=name)\n",
    "    )\n",
    "    plt.title('Жизненный цикл шести платформ с максимальными продажами')\n",
    "    plt.xlabel('Год выпуска')\n",
    "    plt.ylabel('Суммарные продажи')\n",
    "    plt.legend() "
   ]
  },
  {
   "cell_type": "code",
   "execution_count": 20,
   "metadata": {
    "scrolled": false
   },
   "outputs": [
    {
     "data": {
      "image/png": "[encoded data removed]",
      "text/plain": [
       "<Figure size 1080x720 with 1 Axes>"
      ]
     },
     "metadata": {
      "needs_background": "light"
     },
     "output_type": "display_data"
    }
   ],
   "source": [
    "# Анализ платформы 'DS' c 1985 по 2005 год \n",
    "data.loc[\n",
    "    (data['platform'] == 'DS') \n",
    "    & (1984 <= data['year_of_release'])\n",
    "    & (data['year_of_release'] <= 2005)\n",
    "].sort_values(by='year_of_release').head(30)\n",
    "\n",
    "#Игра 1985 года продавалсь только в Японии, похоже на то, что была выпущена 1 игра, затем компанич была замороженна до 2004 года, необходимо удалить данную строчку\n",
    "data = data.drop(index = 15957)\n",
    "\n",
    "#Построим график заново \n",
    "for name in top_platform_sales:\n",
    "    (\n",
    "    data.query('platform == @name')\n",
    "    .pivot_table(index = 'year_of_release', values = 'all_sales', aggfunc = 'sum')\n",
    "    .sort_values('year_of_release', ascending = False)['all_sales']\n",
    "    .plot(figsize = (15, 10), label=name)\n",
    "    )\n",
    "    plt.title('Жизненный цикл платформ')\n",
    "    plt.xlabel('Год')\n",
    "    plt.ylabel('Продажи')\n",
    "    plt.legend() "
   ]
  },
  {
   "cell_type": "markdown",
   "metadata": {},
   "source": [
    "***Построен график по продажам на платформах. Можно сделать вывод, что в среднем платформа существует 8-10 лет, рост количества релизов 4 года, затем идет на спад. Связано это с тем, что выходят более современные платформы.*** "
   ]
  },
  {
   "cell_type": "code",
   "execution_count": 21,
   "metadata": {},
   "outputs": [
    {
     "name": "stdout",
     "output_type": "stream",
     "text": [
      "          all_years  min_years  max_years  was_actual\n",
      "platform                                             \n",
      "PC               26       1985       2016          31\n",
      "GB               13       1988       2001          13\n",
      "NES              12       1983       1994          11\n",
      "X360             12       2005       2016          11\n",
      "PSP              12       2004       2015          11\n",
      "PS2              12       2000       2011          11\n",
      "Wii              11       2006       2016          10\n",
      "PS3              11       2006       2016          10\n",
      "2600             10       1980       1989           9\n",
      "SNES             10       1990       1999           9\n",
      "PS               10       1994       2003           9\n",
      "DS               10       2004       2013           9\n",
      "XB                9       2000       2008           8\n",
      "GBA               8       2000       2007           7\n",
      "N64               7       1996       2002           6\n",
      "DC                7       1998       2008          10\n",
      "GC                7       2001       2007           6\n",
      "3DS               6       2011       2016           5\n",
      "PSV               6       2011       2016           5\n",
      "SAT               6       1994       1999           5\n",
      "GEN               5       1990       1994           4\n",
      "WiiU              5       2012       2016           4\n",
      "PS4               4       2013       2016           3\n",
      "NG                4       1993       1996           3\n",
      "XOne              4       2013       2016           3\n",
      "WS                3       1999       2001           2\n",
      "SCD               2       1993       1994           1\n",
      "3DO               2       1994       1995           1\n",
      "TG16              1       1995       1995           0\n",
      "PCFX              1       1996       1996           0\n",
      "GG                1       1992       1992           0\n"
     ]
    },
    {
     "data": {
      "text/plain": [
       "count    31.000000\n",
       "mean      7.645161\n",
       "std       5.063256\n",
       "min       1.000000\n",
       "25%       4.000000\n",
       "50%       7.000000\n",
       "75%      10.500000\n",
       "max      26.000000\n",
       "Name: all_years, dtype: float64"
      ]
     },
     "execution_count": 21,
     "metadata": {},
     "output_type": "execute_result"
    }
   ],
   "source": [
    "#За какой характерный срок появляются новые и исчезают старые платформы?\n",
    "# Количество лет активности платформы\n",
    "\n",
    "platform_total_years = pd.DataFrame()\n",
    "\n",
    "#Всего существовала платформа\n",
    "platform_total_years['all_years'] = data.sort_values(by='all_sales').pivot_table(\n",
    "    index='year_of_release', \n",
    "    columns='platform', \n",
    "    values='all_sales', \n",
    "    aggfunc='count'\n",
    ").count()\n",
    "\n",
    "# Появление платформы\n",
    "platform_total_years['min_years'] = data.pivot_table(\n",
    "    index='platform', \n",
    "    values='year_of_release', \n",
    "    aggfunc=('min')\n",
    ")\n",
    "\n",
    "# Окончание платформы\n",
    "platform_total_years['max_years'] = data.groupby('platform')['year_of_release'].agg('max')\n",
    "\n",
    "platform_total_years['was_actual'] = platform_total_years['max_years'] - platform_total_years['min_years']\n",
    "\n",
    "print (platform_total_years.sort_values(by='all_years', ascending=False))\n",
    "\n",
    "platform_total_years['all_years'].describe()"
   ]
  },
  {
   "cell_type": "markdown",
   "metadata": {},
   "source": [
    "***Согласно получившемся результатам, можно сделать вывод, что разные платформы имеют разную продолжительность существования, с минимальной значением в 1 год (‘TG16’) и максимальным значением в 26 PC. Cредняя продолжительность жизни платформы 7.6 лет, медианная 7 лет.*** "
   ]
  },
  {
   "cell_type": "markdown",
   "metadata": {},
   "source": [
    "**3.3 Исследование данных за актульный период** "
   ]
  },
  {
   "cell_type": "code",
   "execution_count": 22,
   "metadata": {},
   "outputs": [
    {
     "data": {
      "text/html": [
       "<div>\n",
       "<style scoped>\n",
       "    .dataframe tbody tr th:only-of-type {\n",
       "        vertical-align: middle;\n",
       "    }\n",
       "\n",
       "    .dataframe tbody tr th {\n",
       "        vertical-align: top;\n",
       "    }\n",
       "\n",
       "    .dataframe thead th {\n",
       "        text-align: right;\n",
       "    }\n",
       "</style>\n",
       "<table border=\"1\" class=\"dataframe\">\n",
       "  <thead>\n",
       "    <tr style=\"text-align: right;\">\n",
       "      <th></th>\n",
       "      <th>name</th>\n",
       "      <th>platform</th>\n",
       "      <th>year_of_release</th>\n",
       "      <th>genre</th>\n",
       "      <th>na_sales</th>\n",
       "      <th>eu_sales</th>\n",
       "      <th>jp_sales</th>\n",
       "      <th>other_sales</th>\n",
       "      <th>critic_score</th>\n",
       "      <th>user_score</th>\n",
       "      <th>rating</th>\n",
       "      <th>all_sales</th>\n",
       "    </tr>\n",
       "  </thead>\n",
       "  <tbody>\n",
       "    <tr>\n",
       "      <th>31</th>\n",
       "      <td>Call of Duty: Black Ops 3</td>\n",
       "      <td>PS4</td>\n",
       "      <td>2015</td>\n",
       "      <td>Shooter</td>\n",
       "      <td>6.031250</td>\n",
       "      <td>5.859375</td>\n",
       "      <td>0.360107</td>\n",
       "      <td>2.380859</td>\n",
       "      <td>NaN</td>\n",
       "      <td>NaN</td>\n",
       "      <td>UK</td>\n",
       "      <td>14.632812</td>\n",
       "    </tr>\n",
       "    <tr>\n",
       "      <th>42</th>\n",
       "      <td>Grand Theft Auto V</td>\n",
       "      <td>PS4</td>\n",
       "      <td>2014</td>\n",
       "      <td>Action</td>\n",
       "      <td>3.960938</td>\n",
       "      <td>6.308594</td>\n",
       "      <td>0.379883</td>\n",
       "      <td>1.969727</td>\n",
       "      <td>97.0</td>\n",
       "      <td>8.296875</td>\n",
       "      <td>M</td>\n",
       "      <td>12.617188</td>\n",
       "    </tr>\n",
       "    <tr>\n",
       "      <th>47</th>\n",
       "      <td>Pokemon Omega Ruby/Pokemon Alpha Sapphire</td>\n",
       "      <td>3DS</td>\n",
       "      <td>2014</td>\n",
       "      <td>Role-Playing</td>\n",
       "      <td>4.351562</td>\n",
       "      <td>3.490234</td>\n",
       "      <td>3.099609</td>\n",
       "      <td>0.740234</td>\n",
       "      <td>NaN</td>\n",
       "      <td>NaN</td>\n",
       "      <td>UK</td>\n",
       "      <td>11.687500</td>\n",
       "    </tr>\n",
       "    <tr>\n",
       "      <th>77</th>\n",
       "      <td>FIFA 16</td>\n",
       "      <td>PS4</td>\n",
       "      <td>2015</td>\n",
       "      <td>Sports</td>\n",
       "      <td>1.120117</td>\n",
       "      <td>6.121094</td>\n",
       "      <td>0.059998</td>\n",
       "      <td>1.280273</td>\n",
       "      <td>82.0</td>\n",
       "      <td>4.300781</td>\n",
       "      <td>E</td>\n",
       "      <td>8.578125</td>\n",
       "    </tr>\n",
       "    <tr>\n",
       "      <th>87</th>\n",
       "      <td>Star Wars Battlefront (2015)</td>\n",
       "      <td>PS4</td>\n",
       "      <td>2015</td>\n",
       "      <td>Shooter</td>\n",
       "      <td>2.990234</td>\n",
       "      <td>3.490234</td>\n",
       "      <td>0.219971</td>\n",
       "      <td>1.280273</td>\n",
       "      <td>NaN</td>\n",
       "      <td>NaN</td>\n",
       "      <td>UK</td>\n",
       "      <td>7.980469</td>\n",
       "    </tr>\n",
       "    <tr>\n",
       "      <th>...</th>\n",
       "      <td>...</td>\n",
       "      <td>...</td>\n",
       "      <td>...</td>\n",
       "      <td>...</td>\n",
       "      <td>...</td>\n",
       "      <td>...</td>\n",
       "      <td>...</td>\n",
       "      <td>...</td>\n",
       "      <td>...</td>\n",
       "      <td>...</td>\n",
       "      <td>...</td>\n",
       "      <td>...</td>\n",
       "    </tr>\n",
       "    <tr>\n",
       "      <th>16703</th>\n",
       "      <td>Strawberry Nauts</td>\n",
       "      <td>PSV</td>\n",
       "      <td>2016</td>\n",
       "      <td>Adventure</td>\n",
       "      <td>0.000000</td>\n",
       "      <td>0.000000</td>\n",
       "      <td>0.010002</td>\n",
       "      <td>0.000000</td>\n",
       "      <td>NaN</td>\n",
       "      <td>NaN</td>\n",
       "      <td>UK</td>\n",
       "      <td>0.010002</td>\n",
       "    </tr>\n",
       "    <tr>\n",
       "      <th>16707</th>\n",
       "      <td>Aiyoku no Eustia</td>\n",
       "      <td>PSV</td>\n",
       "      <td>2014</td>\n",
       "      <td>Misc</td>\n",
       "      <td>0.000000</td>\n",
       "      <td>0.000000</td>\n",
       "      <td>0.010002</td>\n",
       "      <td>0.000000</td>\n",
       "      <td>NaN</td>\n",
       "      <td>NaN</td>\n",
       "      <td>UK</td>\n",
       "      <td>0.010002</td>\n",
       "    </tr>\n",
       "    <tr>\n",
       "      <th>16710</th>\n",
       "      <td>Samurai Warriors: Sanada Maru</td>\n",
       "      <td>PS3</td>\n",
       "      <td>2016</td>\n",
       "      <td>Action</td>\n",
       "      <td>0.000000</td>\n",
       "      <td>0.000000</td>\n",
       "      <td>0.010002</td>\n",
       "      <td>0.000000</td>\n",
       "      <td>NaN</td>\n",
       "      <td>NaN</td>\n",
       "      <td>UK</td>\n",
       "      <td>0.010002</td>\n",
       "    </tr>\n",
       "    <tr>\n",
       "      <th>16712</th>\n",
       "      <td>Haitaka no Psychedelica</td>\n",
       "      <td>PSV</td>\n",
       "      <td>2016</td>\n",
       "      <td>Adventure</td>\n",
       "      <td>0.000000</td>\n",
       "      <td>0.000000</td>\n",
       "      <td>0.010002</td>\n",
       "      <td>0.000000</td>\n",
       "      <td>NaN</td>\n",
       "      <td>NaN</td>\n",
       "      <td>UK</td>\n",
       "      <td>0.010002</td>\n",
       "    </tr>\n",
       "    <tr>\n",
       "      <th>16714</th>\n",
       "      <td>Winning Post 8 2016</td>\n",
       "      <td>PSV</td>\n",
       "      <td>2016</td>\n",
       "      <td>Simulation</td>\n",
       "      <td>0.000000</td>\n",
       "      <td>0.000000</td>\n",
       "      <td>0.010002</td>\n",
       "      <td>0.000000</td>\n",
       "      <td>NaN</td>\n",
       "      <td>NaN</td>\n",
       "      <td>UK</td>\n",
       "      <td>0.010002</td>\n",
       "    </tr>\n",
       "  </tbody>\n",
       "</table>\n",
       "<p>1689 rows × 12 columns</p>\n",
       "</div>"
      ],
      "text/plain": [
       "                                            name platform  year_of_release  \\\n",
       "31                     Call of Duty: Black Ops 3      PS4             2015   \n",
       "42                            Grand Theft Auto V      PS4             2014   \n",
       "47     Pokemon Omega Ruby/Pokemon Alpha Sapphire      3DS             2014   \n",
       "77                                       FIFA 16      PS4             2015   \n",
       "87                  Star Wars Battlefront (2015)      PS4             2015   \n",
       "...                                          ...      ...              ...   \n",
       "16703                           Strawberry Nauts      PSV             2016   \n",
       "16707                           Aiyoku no Eustia      PSV             2014   \n",
       "16710              Samurai Warriors: Sanada Maru      PS3             2016   \n",
       "16712                    Haitaka no Psychedelica      PSV             2016   \n",
       "16714                        Winning Post 8 2016      PSV             2016   \n",
       "\n",
       "              genre  na_sales  eu_sales  jp_sales  other_sales  critic_score  \\\n",
       "31          Shooter  6.031250  5.859375  0.360107     2.380859           NaN   \n",
       "42           Action  3.960938  6.308594  0.379883     1.969727          97.0   \n",
       "47     Role-Playing  4.351562  3.490234  3.099609     0.740234           NaN   \n",
       "77           Sports  1.120117  6.121094  0.059998     1.280273          82.0   \n",
       "87          Shooter  2.990234  3.490234  0.219971     1.280273           NaN   \n",
       "...             ...       ...       ...       ...          ...           ...   \n",
       "16703     Adventure  0.000000  0.000000  0.010002     0.000000           NaN   \n",
       "16707          Misc  0.000000  0.000000  0.010002     0.000000           NaN   \n",
       "16710        Action  0.000000  0.000000  0.010002     0.000000           NaN   \n",
       "16712     Adventure  0.000000  0.000000  0.010002     0.000000           NaN   \n",
       "16714    Simulation  0.000000  0.000000  0.010002     0.000000           NaN   \n",
       "\n",
       "       user_score rating  all_sales  \n",
       "31            NaN     UK  14.632812  \n",
       "42       8.296875      M  12.617188  \n",
       "47            NaN     UK  11.687500  \n",
       "77       4.300781      E   8.578125  \n",
       "87            NaN     UK   7.980469  \n",
       "...           ...    ...        ...  \n",
       "16703         NaN     UK   0.010002  \n",
       "16707         NaN     UK   0.010002  \n",
       "16710         NaN     UK   0.010002  \n",
       "16712         NaN     UK   0.010002  \n",
       "16714         NaN     UK   0.010002  \n",
       "\n",
       "[1689 rows x 12 columns]"
      ]
     },
     "execution_count": 22,
     "metadata": {},
     "output_type": "execute_result"
    }
   ],
   "source": [
    "#Согласно прошлому исследованию нижний квартиль жизни платформы равен 4 года, соответственно мы можем взять платформы, которые вышли в 2013 году. \n",
    "actual_data = data.query('year_of_release > 2013')\n",
    "actual_data"
   ]
  },
  {
   "cell_type": "code",
   "execution_count": 23,
   "metadata": {},
   "outputs": [
    {
     "data": {
      "text/html": [
       "<div>\n",
       "<style scoped>\n",
       "    .dataframe tbody tr th:only-of-type {\n",
       "        vertical-align: middle;\n",
       "    }\n",
       "\n",
       "    .dataframe tbody tr th {\n",
       "        vertical-align: top;\n",
       "    }\n",
       "\n",
       "    .dataframe thead th {\n",
       "        text-align: right;\n",
       "    }\n",
       "</style>\n",
       "<table border=\"1\" class=\"dataframe\">\n",
       "  <thead>\n",
       "    <tr style=\"text-align: right;\">\n",
       "      <th></th>\n",
       "      <th>all_years</th>\n",
       "      <th>min_years</th>\n",
       "      <th>max_years</th>\n",
       "      <th>was_actual</th>\n",
       "    </tr>\n",
       "    <tr>\n",
       "      <th>platform</th>\n",
       "      <th></th>\n",
       "      <th></th>\n",
       "      <th></th>\n",
       "      <th></th>\n",
       "    </tr>\n",
       "  </thead>\n",
       "  <tbody>\n",
       "    <tr>\n",
       "      <th>PS4</th>\n",
       "      <td>4</td>\n",
       "      <td>2013</td>\n",
       "      <td>2016</td>\n",
       "      <td>3</td>\n",
       "    </tr>\n",
       "    <tr>\n",
       "      <th>XOne</th>\n",
       "      <td>4</td>\n",
       "      <td>2013</td>\n",
       "      <td>2016</td>\n",
       "      <td>3</td>\n",
       "    </tr>\n",
       "  </tbody>\n",
       "</table>\n",
       "</div>"
      ],
      "text/plain": [
       "          all_years  min_years  max_years  was_actual\n",
       "platform                                             \n",
       "PS4               4       2013       2016           3\n",
       "XOne              4       2013       2016           3"
      ]
     },
     "execution_count": 23,
     "metadata": {},
     "output_type": "execute_result"
    }
   ],
   "source": [
    "#Также определим платформы которые вышли в 2013 году или позжем. \n",
    "platform_total_years[platform_total_years['min_years'] >= 2013]"
   ]
  },
  {
   "cell_type": "markdown",
   "metadata": {},
   "source": [
    "***Подготовили список за актуальный период, также выделили платформы, которые попадают под первый квартиль жизни платформ.*** "
   ]
  },
  {
   "cell_type": "code",
   "execution_count": 24,
   "metadata": {
    "scrolled": false
   },
   "outputs": [
    {
     "name": "stdout",
     "output_type": "stream",
     "text": [
      "                           all_sales\n",
      "platform year_of_release            \n",
      "3DS      2014              43.781250\n",
      "         2015              27.781250\n",
      "         2016              15.132812\n",
      "PC       2014              13.281250\n",
      "         2015               8.515625\n",
      "         2016               5.250000\n",
      "PS3      2014              47.750000\n",
      "         2015              16.828125\n",
      "         2016               3.599609\n",
      "PS4      2014             100.000000\n",
      "         2015             118.875000\n",
      "         2016              69.250000\n",
      "PSP      2014               0.239990\n",
      "         2015               0.119995\n",
      "PSV      2014              11.898438\n",
      "         2015               6.250000\n",
      "         2016               4.250000\n",
      "Wii      2014               3.750000\n",
      "         2015               1.140625\n",
      "         2016               0.179932\n",
      "WiiU     2014              22.031250\n",
      "         2015              16.343750\n",
      "         2016               4.601562\n",
      "X360     2014              34.750000\n",
      "         2015              11.960938\n",
      "         2016               1.520508\n",
      "XOne     2014              54.062500\n",
      "         2015              60.125000\n",
      "         2016              26.156250\n"
     ]
    },
    {
     "data": {
      "text/html": [
       "<div>\n",
       "<style scoped>\n",
       "    .dataframe tbody tr th:only-of-type {\n",
       "        vertical-align: middle;\n",
       "    }\n",
       "\n",
       "    .dataframe tbody tr th {\n",
       "        vertical-align: top;\n",
       "    }\n",
       "\n",
       "    .dataframe thead th {\n",
       "        text-align: right;\n",
       "    }\n",
       "</style>\n",
       "<table border=\"1\" class=\"dataframe\">\n",
       "  <thead>\n",
       "    <tr style=\"text-align: right;\">\n",
       "      <th></th>\n",
       "      <th>all_sales</th>\n",
       "    </tr>\n",
       "    <tr>\n",
       "      <th>platform</th>\n",
       "      <th></th>\n",
       "    </tr>\n",
       "  </thead>\n",
       "  <tbody>\n",
       "    <tr>\n",
       "      <th>PS4</th>\n",
       "      <td>288.250000</td>\n",
       "    </tr>\n",
       "    <tr>\n",
       "      <th>XOne</th>\n",
       "      <td>140.375000</td>\n",
       "    </tr>\n",
       "    <tr>\n",
       "      <th>3DS</th>\n",
       "      <td>86.687500</td>\n",
       "    </tr>\n",
       "    <tr>\n",
       "      <th>PS3</th>\n",
       "      <td>68.187500</td>\n",
       "    </tr>\n",
       "    <tr>\n",
       "      <th>X360</th>\n",
       "      <td>48.218750</td>\n",
       "    </tr>\n",
       "    <tr>\n",
       "      <th>WiiU</th>\n",
       "      <td>42.968750</td>\n",
       "    </tr>\n",
       "    <tr>\n",
       "      <th>PC</th>\n",
       "      <td>27.046875</td>\n",
       "    </tr>\n",
       "    <tr>\n",
       "      <th>PSV</th>\n",
       "      <td>22.406250</td>\n",
       "    </tr>\n",
       "    <tr>\n",
       "      <th>Wii</th>\n",
       "      <td>5.070312</td>\n",
       "    </tr>\n",
       "    <tr>\n",
       "      <th>PSP</th>\n",
       "      <td>0.360107</td>\n",
       "    </tr>\n",
       "  </tbody>\n",
       "</table>\n",
       "</div>"
      ],
      "text/plain": [
       "           all_sales\n",
       "platform            \n",
       "PS4       288.250000\n",
       "XOne      140.375000\n",
       "3DS        86.687500\n",
       "PS3        68.187500\n",
       "X360       48.218750\n",
       "WiiU       42.968750\n",
       "PC         27.046875\n",
       "PSV        22.406250\n",
       "Wii         5.070312\n",
       "PSP         0.360107"
      ]
     },
     "execution_count": 24,
     "metadata": {},
     "output_type": "execute_result"
    }
   ],
   "source": [
    "#Какие платформы лидируют по продажам, растут или падают? Выберите несколько потенциально прибыльных платформ.\n",
    "top_sales_platform = pd.pivot_table(actual_data, index=['platform', 'year_of_release'], \n",
    "                                     values='all_sales', aggfunc = 'sum')\n",
    "print (top_sales_platform)\n",
    "\n",
    "top_sales_platform = pd.pivot_table(actual_data, index='platform', \n",
    "                                     values='all_sales', aggfunc = 'sum')\n",
    "top_sales_platform.sort_values('all_sales', ascending=False)"
   ]
  },
  {
   "cell_type": "markdown",
   "metadata": {},
   "source": [
    "***Продажи растут у PS4, XOne, 3DS, WiiU и PSV, на убыль идут приставки предыдущего поколения PS3, X360, DS, Wii и PSP***\n",
    "\n",
    "***Лидером среди платформ в актуальный период является PS4, затем с большим отрывом идут XOne и 3DS*** \n",
    "\n"
   ]
  },
  {
   "cell_type": "markdown",
   "metadata": {},
   "source": [
    "**3.4 Построение «Ящика с усами» по глобальным продажам игр в разбивке по платформам**"
   ]
  },
  {
   "cell_type": "code",
   "execution_count": 25,
   "metadata": {},
   "outputs": [
    {
     "data": {
      "text/plain": [
       "Text(0, 0.5, 'Продажи')"
      ]
     },
     "execution_count": 25,
     "metadata": {},
     "output_type": "execute_result"
    },
    {
     "data": {
      "image/png": "[encoded data removed]",
      "text/plain": [
       "<Figure size 1080x360 with 1 Axes>"
      ]
     },
     "metadata": {
      "needs_background": "light"
     },
     "output_type": "display_data"
    }
   ],
   "source": [
    "plt.figure(figsize=(15,5))\n",
    "ax = sns.boxplot(data=actual_data, x='platform', y='all_sales')\n",
    "ax.set(ylim=(0,4))\n",
    "plt.title('Продажи по платформам', fontsize=20)\n",
    "plt.xlabel('Платформа', fontsize=20)\n",
    "plt.ylabel('Продажи',fontsize=20)"
   ]
  },
  {
   "cell_type": "code",
   "execution_count": 26,
   "metadata": {},
   "outputs": [
    {
     "data": {
      "text/plain": [
       "Text(0, 0.5, 'Продажи')"
      ]
     },
     "execution_count": 26,
     "metadata": {},
     "output_type": "execute_result"
    },
    {
     "data": {
      "image/png": "[encoded data removed]",
      "text/plain": [
       "<Figure size 1080x360 with 1 Axes>"
      ]
     },
     "metadata": {
      "needs_background": "light"
     },
     "output_type": "display_data"
    }
   ],
   "source": [
    "plt.figure(figsize=(15,5))\n",
    "sns.boxplot(data=actual_data, x='platform', y='all_sales')\n",
    "plt.title('Продажи по платформам с выбросами', fontsize=20)\n",
    "plt.xlabel('Платформа', fontsize=20)\n",
    "plt.ylabel('Продажи',fontsize=20)"
   ]
  },
  {
   "cell_type": "markdown",
   "metadata": {},
   "source": [
    "***По всем платформам наблюдаются выбросы по продажам, также стоит отметить, что по первой и третьей квартили рахных платформ наблюдается большой разброс. Наиболее перспективными выглядят платформы PS4 и XOne, они входят в топ платформ с максимальным третьим квартилем.***\n"
   ]
  },
  {
   "cell_type": "markdown",
   "metadata": {},
   "source": [
    "**3.5 Исследование влиния на продажи внутри одной популярной платформы отзывов пользователей и критиков**"
   ]
  },
  {
   "cell_type": "code",
   "execution_count": 27,
   "metadata": {
    "scrolled": false
   },
   "outputs": [
    {
     "data": {
      "image/png": "[encoded data removed]",
      "text/plain": [
       "<Figure size 1440x3600 with 20 Axes>"
      ]
     },
     "metadata": {
      "needs_background": "light"
     },
     "output_type": "display_data"
    }
   ],
   "source": [
    "#Создаем список уникальных платформ\n",
    "unique_platforms = list(actual_data['platform'].unique())\n",
    "\n",
    "# Создаем массив для хранения графиков\n",
    "fig, axes = plt.subplots(len(unique_platforms), 2, figsize=(20, 50))\n",
    "\n",
    "# Цикл по уникальным платформам\n",
    "for i, platform in enumerate(unique_platforms):\n",
    "    \n",
    "    # Цикл по типам оценок\n",
    "    for j, score_type in enumerate(['Оценки критиков', 'Оценки пользователей']):\n",
    "        \n",
    "        # Фильтруем данные по платформе\n",
    "        platform_data = actual_data[actual_data['platform'] == platform].rename(columns={\n",
    "            'all_sales':'Продано игр',\n",
    "            'critic_score':'Оценки критиков',\n",
    "            'user_score':'Оценки пользователей' })\n",
    "            \n",
    "        # Рисуем график\n",
    "        platform_data.plot.scatter(\n",
    "            x=score_type, \n",
    "            y='Продано игр', \n",
    "            ax=axes[i, j], \n",
    "            title=platform\n",
    "        )\n",
    "        \n",
    "         # Подсчитываем и отображаем корреляцию\n",
    "        corr = platform_data[[score_type, 'Продано игр']].corr()\n",
    "        axes[i, j].text(1.05, 0.05, f\"Корреляция: {corr.iloc[0, 1]:.2f}\", transform=axes[i, j].transAxes, fontsize=14, verticalalignment='bottom')\n",
    "\n",
    "# Регулируем расстояние между графиками\n",
    "fig.tight_layout()\n",
    "\n",
    "# Показываем графики\n",
    "plt.show()\n"
   ]
  },
  {
   "cell_type": "markdown",
   "metadata": {},
   "source": [
    "***Исходя из данных выше, можно сделать вывод, что нет статистически значимой корреляции между отзывами критиков и пользователей с продажами на отдельно взятых платформах, а значит продажи от них зависят слабо.***"
   ]
  },
  {
   "cell_type": "markdown",
   "metadata": {},
   "source": [
    "**Общее распределение игр по жанрам**"
   ]
  },
  {
   "cell_type": "code",
   "execution_count": 28,
   "metadata": {},
   "outputs": [
    {
     "data": {
      "text/html": [
       "<div>\n",
       "<style scoped>\n",
       "    .dataframe tbody tr th:only-of-type {\n",
       "        vertical-align: middle;\n",
       "    }\n",
       "\n",
       "    .dataframe tbody tr th {\n",
       "        vertical-align: top;\n",
       "    }\n",
       "\n",
       "    .dataframe thead th {\n",
       "        text-align: right;\n",
       "    }\n",
       "</style>\n",
       "<table border=\"1\" class=\"dataframe\">\n",
       "  <thead>\n",
       "    <tr style=\"text-align: right;\">\n",
       "      <th></th>\n",
       "      <th>Количество релизов</th>\n",
       "      <th>Медиана продаж</th>\n",
       "      <th>Сумма млн. продаж</th>\n",
       "    </tr>\n",
       "    <tr>\n",
       "      <th>genre</th>\n",
       "      <th></th>\n",
       "      <th></th>\n",
       "      <th></th>\n",
       "    </tr>\n",
       "  </thead>\n",
       "  <tbody>\n",
       "    <tr>\n",
       "      <th>Action</th>\n",
       "      <td>619</td>\n",
       "      <td>0.090027</td>\n",
       "      <td>199.375000</td>\n",
       "    </tr>\n",
       "    <tr>\n",
       "      <th>Shooter</th>\n",
       "      <td>128</td>\n",
       "      <td>0.514648</td>\n",
       "      <td>171.000000</td>\n",
       "    </tr>\n",
       "    <tr>\n",
       "      <th>Sports</th>\n",
       "      <td>161</td>\n",
       "      <td>0.180054</td>\n",
       "      <td>109.500000</td>\n",
       "    </tr>\n",
       "    <tr>\n",
       "      <th>Role-Playing</th>\n",
       "      <td>221</td>\n",
       "      <td>0.109985</td>\n",
       "      <td>101.437500</td>\n",
       "    </tr>\n",
       "    <tr>\n",
       "      <th>Misc</th>\n",
       "      <td>113</td>\n",
       "      <td>0.090027</td>\n",
       "      <td>37.562500</td>\n",
       "    </tr>\n",
       "    <tr>\n",
       "      <th>Fighting</th>\n",
       "      <td>60</td>\n",
       "      <td>0.125000</td>\n",
       "      <td>28.218750</td>\n",
       "    </tr>\n",
       "    <tr>\n",
       "      <th>Racing</th>\n",
       "      <td>69</td>\n",
       "      <td>0.089966</td>\n",
       "      <td>27.531250</td>\n",
       "    </tr>\n",
       "    <tr>\n",
       "      <th>Platform</th>\n",
       "      <td>38</td>\n",
       "      <td>0.140015</td>\n",
       "      <td>18.093750</td>\n",
       "    </tr>\n",
       "    <tr>\n",
       "      <th>Adventure</th>\n",
       "      <td>185</td>\n",
       "      <td>0.029999</td>\n",
       "      <td>17.546875</td>\n",
       "    </tr>\n",
       "    <tr>\n",
       "      <th>Simulation</th>\n",
       "      <td>44</td>\n",
       "      <td>0.099976</td>\n",
       "      <td>13.132812</td>\n",
       "    </tr>\n",
       "    <tr>\n",
       "      <th>Strategy</th>\n",
       "      <td>37</td>\n",
       "      <td>0.059998</td>\n",
       "      <td>3.960938</td>\n",
       "    </tr>\n",
       "    <tr>\n",
       "      <th>Puzzle</th>\n",
       "      <td>14</td>\n",
       "      <td>0.044983</td>\n",
       "      <td>2.208984</td>\n",
       "    </tr>\n",
       "  </tbody>\n",
       "</table>\n",
       "</div>"
      ],
      "text/plain": [
       "              Количество релизов  Медиана продаж  Сумма млн. продаж\n",
       "genre                                                              \n",
       "Action                       619        0.090027         199.375000\n",
       "Shooter                      128        0.514648         171.000000\n",
       "Sports                       161        0.180054         109.500000\n",
       "Role-Playing                 221        0.109985         101.437500\n",
       "Misc                         113        0.090027          37.562500\n",
       "Fighting                      60        0.125000          28.218750\n",
       "Racing                        69        0.089966          27.531250\n",
       "Platform                      38        0.140015          18.093750\n",
       "Adventure                    185        0.029999          17.546875\n",
       "Simulation                    44        0.099976          13.132812\n",
       "Strategy                      37        0.059998           3.960938\n",
       "Puzzle                        14        0.044983           2.208984"
      ]
     },
     "execution_count": 28,
     "metadata": {},
     "output_type": "execute_result"
    }
   ],
   "source": [
    "actual_data.pivot_table(\n",
    "    index='genre',\n",
    "    values='all_sales',\n",
    "    aggfunc=('sum', 'median', 'count')\n",
    ").rename(columns={\n",
    "    'sum':'Сумма млн. продаж',\n",
    "    'median':'Медиана продаж',\n",
    "    'count':'Количество релизов'\n",
    "}).sort_values(by='Сумма млн. продаж', ascending=False)\n"
   ]
  },
  {
   "cell_type": "code",
   "execution_count": 29,
   "metadata": {},
   "outputs": [
    {
     "data": {
      "image/png": "[encoded data removed]",
      "text/plain": [
       "<Figure size 864x432 with 1 Axes>"
      ]
     },
     "metadata": {
      "needs_background": "light"
     },
     "output_type": "display_data"
    }
   ],
   "source": [
    "#Самые прибыльные жанры\n",
    "plt.figure(figsize=(12,6))\n",
    "sns.boxplot(\n",
    "    x=actual_data['genre'], \n",
    "    y=actual_data['all_sales'], \n",
    "    showfliers=False\n",
    ");\n",
    "plt.title('Продажи по жанрам', fontsize=20)\n",
    "plt.xlabel('Жанр', fontsize=20)\n",
    "plt.ylabel('Продажи по жанрам',fontsize=20)\n",
    "plt.show()"
   ]
  },
  {
   "cell_type": "markdown",
   "metadata": {},
   "source": [
    "***Наиболее прибыльными жанрами являются Action, Shooter, Sports, Role-Playing. Также стоит отметить, что при мсравнение медианных значений по продажам в разрезе жанров предпочтение отдают Shooter и Sports (обладают большим медианным значением прибыли).***"
   ]
  },
  {
   "cell_type": "markdown",
   "metadata": {},
   "source": [
    "**Вывод по Шагу 3**\n",
    "- Рассмотрено, сколько игр выпускалось в разные годы. Наблюдается рост количества релизов с 1980 по 2008 год\n",
    "- Рассмотрено, как менялись продажи по платформам в разные года (Выделены наибольшие продажи у платформ PS2, X360, PS3, Wii, DS, PS)\n",
    "- Построен график по продажам на платформах. Сделан вывод, что в среднем платформа существует 8-10 лет, рост количества релизов 4 года, затем идет на спад. Связано это с тем, что выходят более современные платформы.\n",
    "- Сделан вывод, что разные платформы имеют разную продолжительность существования, с минимальной значением в 1 год (‘TG16’) и максимальным значением в 26 PC. Cредняя продолжительность жизни платформы 7.6 лет, медианная 7 лет.\n",
    "- Продажи платформ в актуальный период (последние 4 года) растут у PS4, XOne, 3DS, WiiU и PSV, на убыль идут приставки предыдущего поколения PS3, X360, DS, Wii и PSP\n",
    "- Лидером среди платформ в актуальный период является PS4, затем с большим отрывом идут XOne и 3DS\n",
    "- Сделан вывод, что нет статистически значимой корреляции между отзывами критиков и пользователей с продажами на отдельно взятых платформах. Т.е. продажи от них почти независимы. На графиках все значения «прижимаются» к осям координат. Значит, корреляция слабая.\n",
    "- Наиболее прибыльными жанрами являются Action, Shooter, Sports, Role-Playing. Также стоит отметить, что при сравнение медианных значений по продажам в разрезе жанров предпочтение отдают Shooter и Sports (обладают большим медианным значением прибыли)."
   ]
  },
  {
   "cell_type": "markdown",
   "metadata": {},
   "source": [
    "**Шаг 4. Портрет пользователя каждого региона**"
   ]
  },
  {
   "cell_type": "markdown",
   "metadata": {},
   "source": [
    "**Самые популярные платформы (топ-5)**"
   ]
  },
  {
   "cell_type": "code",
   "execution_count": 30,
   "metadata": {},
   "outputs": [],
   "source": [
    "#Сделаем срезы по разным регионам\n",
    "na_actual_data = actual_data.query('na_sales > 0')\n",
    "eu_actual_data = actual_data.query('eu_sales > 0')\n",
    "jp_actual_data = actual_data.query('jp_sales > 0')\n",
    "other_actual_data = actual_data.query('other_sales > 0')"
   ]
  },
  {
   "cell_type": "code",
   "execution_count": 31,
   "metadata": {},
   "outputs": [
    {
     "data": {
      "text/html": [
       "<div>\n",
       "<style scoped>\n",
       "    .dataframe tbody tr th:only-of-type {\n",
       "        vertical-align: middle;\n",
       "    }\n",
       "\n",
       "    .dataframe tbody tr th {\n",
       "        vertical-align: top;\n",
       "    }\n",
       "\n",
       "    .dataframe thead th {\n",
       "        text-align: right;\n",
       "    }\n",
       "</style>\n",
       "<table border=\"1\" class=\"dataframe\">\n",
       "  <thead>\n",
       "    <tr style=\"text-align: right;\">\n",
       "      <th></th>\n",
       "      <th>na_sales</th>\n",
       "    </tr>\n",
       "    <tr>\n",
       "      <th>platform</th>\n",
       "      <th></th>\n",
       "    </tr>\n",
       "  </thead>\n",
       "  <tbody>\n",
       "    <tr>\n",
       "      <th>PS4</th>\n",
       "      <td>98.625000</td>\n",
       "    </tr>\n",
       "    <tr>\n",
       "      <th>XOne</th>\n",
       "      <td>81.250000</td>\n",
       "    </tr>\n",
       "    <tr>\n",
       "      <th>X360</th>\n",
       "      <td>28.296875</td>\n",
       "    </tr>\n",
       "    <tr>\n",
       "      <th>3DS</th>\n",
       "      <td>22.640625</td>\n",
       "    </tr>\n",
       "    <tr>\n",
       "      <th>PS3</th>\n",
       "      <td>22.046875</td>\n",
       "    </tr>\n",
       "    <tr>\n",
       "      <th>WiiU</th>\n",
       "      <td>19.359375</td>\n",
       "    </tr>\n",
       "    <tr>\n",
       "      <th>PC</th>\n",
       "      <td>7.230469</td>\n",
       "    </tr>\n",
       "    <tr>\n",
       "      <th>PSV</th>\n",
       "      <td>2.519531</td>\n",
       "    </tr>\n",
       "    <tr>\n",
       "      <th>Wii</th>\n",
       "      <td>2.080078</td>\n",
       "    </tr>\n",
       "  </tbody>\n",
       "</table>\n",
       "</div>"
      ],
      "text/plain": [
       "           na_sales\n",
       "platform           \n",
       "PS4       98.625000\n",
       "XOne      81.250000\n",
       "X360      28.296875\n",
       "3DS       22.640625\n",
       "PS3       22.046875\n",
       "WiiU      19.359375\n",
       "PC         7.230469\n",
       "PSV        2.519531\n",
       "Wii        2.080078"
      ]
     },
     "execution_count": 31,
     "metadata": {},
     "output_type": "execute_result"
    }
   ],
   "source": [
    "#Самые популярные платформы в Северной Америке \n",
    "na_top_platform = pd.pivot_table(na_actual_data, index='platform', values='na_sales',\n",
    "                                        aggfunc='sum').sort_values('na_sales', ascending=False)\n",
    "na_top_platform"
   ]
  },
  {
   "cell_type": "code",
   "execution_count": 32,
   "metadata": {},
   "outputs": [
    {
     "data": {
      "text/html": [
       "<div>\n",
       "<style scoped>\n",
       "    .dataframe tbody tr th:only-of-type {\n",
       "        vertical-align: middle;\n",
       "    }\n",
       "\n",
       "    .dataframe tbody tr th {\n",
       "        vertical-align: top;\n",
       "    }\n",
       "\n",
       "    .dataframe thead th {\n",
       "        text-align: right;\n",
       "    }\n",
       "</style>\n",
       "<table border=\"1\" class=\"dataframe\">\n",
       "  <thead>\n",
       "    <tr style=\"text-align: right;\">\n",
       "      <th></th>\n",
       "      <th>eu_sales</th>\n",
       "    </tr>\n",
       "    <tr>\n",
       "      <th>platform</th>\n",
       "      <th></th>\n",
       "    </tr>\n",
       "  </thead>\n",
       "  <tbody>\n",
       "    <tr>\n",
       "      <th>PS4</th>\n",
       "      <td>130.000000</td>\n",
       "    </tr>\n",
       "    <tr>\n",
       "      <th>XOne</th>\n",
       "      <td>46.250000</td>\n",
       "    </tr>\n",
       "    <tr>\n",
       "      <th>PS3</th>\n",
       "      <td>25.546875</td>\n",
       "    </tr>\n",
       "    <tr>\n",
       "      <th>PC</th>\n",
       "      <td>17.968750</td>\n",
       "    </tr>\n",
       "    <tr>\n",
       "      <th>3DS</th>\n",
       "      <td>16.125000</td>\n",
       "    </tr>\n",
       "    <tr>\n",
       "      <th>X360</th>\n",
       "      <td>15.492188</td>\n",
       "    </tr>\n",
       "    <tr>\n",
       "      <th>WiiU</th>\n",
       "      <td>13.148438</td>\n",
       "    </tr>\n",
       "    <tr>\n",
       "      <th>PSV</th>\n",
       "      <td>3.531250</td>\n",
       "    </tr>\n",
       "    <tr>\n",
       "      <th>Wii</th>\n",
       "      <td>2.589844</td>\n",
       "    </tr>\n",
       "  </tbody>\n",
       "</table>\n",
       "</div>"
      ],
      "text/plain": [
       "            eu_sales\n",
       "platform            \n",
       "PS4       130.000000\n",
       "XOne       46.250000\n",
       "PS3        25.546875\n",
       "PC         17.968750\n",
       "3DS        16.125000\n",
       "X360       15.492188\n",
       "WiiU       13.148438\n",
       "PSV         3.531250\n",
       "Wii         2.589844"
      ]
     },
     "execution_count": 32,
     "metadata": {},
     "output_type": "execute_result"
    }
   ],
   "source": [
    "#Самые популярные платформы в Европе \n",
    "eu_top_platform = pd.pivot_table(eu_actual_data, index='platform', values='eu_sales',\n",
    "                                        aggfunc='sum').sort_values('eu_sales', ascending=False)\n",
    "eu_top_platform"
   ]
  },
  {
   "cell_type": "code",
   "execution_count": 33,
   "metadata": {},
   "outputs": [
    {
     "data": {
      "text/html": [
       "<div>\n",
       "<style scoped>\n",
       "    .dataframe tbody tr th:only-of-type {\n",
       "        vertical-align: middle;\n",
       "    }\n",
       "\n",
       "    .dataframe tbody tr th {\n",
       "        vertical-align: top;\n",
       "    }\n",
       "\n",
       "    .dataframe thead th {\n",
       "        text-align: right;\n",
       "    }\n",
       "</style>\n",
       "<table border=\"1\" class=\"dataframe\">\n",
       "  <thead>\n",
       "    <tr style=\"text-align: right;\">\n",
       "      <th></th>\n",
       "      <th>jp_sales</th>\n",
       "    </tr>\n",
       "    <tr>\n",
       "      <th>platform</th>\n",
       "      <th></th>\n",
       "    </tr>\n",
       "  </thead>\n",
       "  <tbody>\n",
       "    <tr>\n",
       "      <th>3DS</th>\n",
       "      <td>22.671875</td>\n",
       "    </tr>\n",
       "    <tr>\n",
       "      <th>PS4</th>\n",
       "      <td>10.960938</td>\n",
       "    </tr>\n",
       "    <tr>\n",
       "      <th>WiiU</th>\n",
       "      <td>6.839844</td>\n",
       "    </tr>\n",
       "    <tr>\n",
       "      <th>PS3</th>\n",
       "      <td>4.769531</td>\n",
       "    </tr>\n",
       "    <tr>\n",
       "      <th>PSV</th>\n",
       "      <td>4.531250</td>\n",
       "    </tr>\n",
       "    <tr>\n",
       "      <th>XOne</th>\n",
       "      <td>0.310059</td>\n",
       "    </tr>\n",
       "    <tr>\n",
       "      <th>X360</th>\n",
       "      <td>0.080017</td>\n",
       "    </tr>\n",
       "    <tr>\n",
       "      <th>PC</th>\n",
       "      <td>0.000000</td>\n",
       "    </tr>\n",
       "    <tr>\n",
       "      <th>Wii</th>\n",
       "      <td>0.000000</td>\n",
       "    </tr>\n",
       "  </tbody>\n",
       "</table>\n",
       "</div>"
      ],
      "text/plain": [
       "           jp_sales\n",
       "platform           \n",
       "3DS       22.671875\n",
       "PS4       10.960938\n",
       "WiiU       6.839844\n",
       "PS3        4.769531\n",
       "PSV        4.531250\n",
       "XOne       0.310059\n",
       "X360       0.080017\n",
       "PC         0.000000\n",
       "Wii        0.000000"
      ]
     },
     "execution_count": 33,
     "metadata": {},
     "output_type": "execute_result"
    }
   ],
   "source": [
    "#Самые популярные платформы в Японии\n",
    "jp_top_platform = pd.pivot_table(eu_actual_data, index='platform', values='jp_sales',\n",
    "                                        aggfunc='sum').sort_values('jp_sales', ascending=False)\n",
    "jp_top_platform"
   ]
  },
  {
   "cell_type": "code",
   "execution_count": 34,
   "metadata": {},
   "outputs": [
    {
     "data": {
      "text/html": [
       "<div>\n",
       "<style scoped>\n",
       "    .dataframe tbody tr th:only-of-type {\n",
       "        vertical-align: middle;\n",
       "    }\n",
       "\n",
       "    .dataframe tbody tr th {\n",
       "        vertical-align: top;\n",
       "    }\n",
       "\n",
       "    .dataframe thead th {\n",
       "        text-align: right;\n",
       "    }\n",
       "</style>\n",
       "<table border=\"1\" class=\"dataframe\">\n",
       "  <thead>\n",
       "    <tr style=\"text-align: right;\">\n",
       "      <th></th>\n",
       "      <th>other_sales</th>\n",
       "    </tr>\n",
       "    <tr>\n",
       "      <th>platform</th>\n",
       "      <th></th>\n",
       "    </tr>\n",
       "  </thead>\n",
       "  <tbody>\n",
       "    <tr>\n",
       "      <th>PS4</th>\n",
       "      <td>43.812500</td>\n",
       "    </tr>\n",
       "    <tr>\n",
       "      <th>XOne</th>\n",
       "      <td>12.476562</td>\n",
       "    </tr>\n",
       "    <tr>\n",
       "      <th>PS3</th>\n",
       "      <td>9.140625</td>\n",
       "    </tr>\n",
       "    <tr>\n",
       "      <th>X360</th>\n",
       "      <td>4.269531</td>\n",
       "    </tr>\n",
       "    <tr>\n",
       "      <th>3DS</th>\n",
       "      <td>3.589844</td>\n",
       "    </tr>\n",
       "    <tr>\n",
       "      <th>WiiU</th>\n",
       "      <td>3.128906</td>\n",
       "    </tr>\n",
       "    <tr>\n",
       "      <th>PC</th>\n",
       "      <td>1.850586</td>\n",
       "    </tr>\n",
       "    <tr>\n",
       "      <th>PSV</th>\n",
       "      <td>1.660156</td>\n",
       "    </tr>\n",
       "    <tr>\n",
       "      <th>Wii</th>\n",
       "      <td>0.400146</td>\n",
       "    </tr>\n",
       "  </tbody>\n",
       "</table>\n",
       "</div>"
      ],
      "text/plain": [
       "          other_sales\n",
       "platform             \n",
       "PS4         43.812500\n",
       "XOne        12.476562\n",
       "PS3          9.140625\n",
       "X360         4.269531\n",
       "3DS          3.589844\n",
       "WiiU         3.128906\n",
       "PC           1.850586\n",
       "PSV          1.660156\n",
       "Wii          0.400146"
      ]
     },
     "execution_count": 34,
     "metadata": {},
     "output_type": "execute_result"
    }
   ],
   "source": [
    "#Самые популярные платформы в Японии\n",
    "other_top_platform = pd.pivot_table(eu_actual_data, index='platform', values='other_sales',\n",
    "                                        aggfunc='sum').sort_values('other_sales', ascending=False)\n",
    "other_top_platform"
   ]
  },
  {
   "cell_type": "markdown",
   "metadata": {},
   "source": [
    "**Рейтинг \"Топ 5\" платформ:**\n",
    "\n",
    "- В Северной Америке: PS4, XOne, X360, PS3 и 3DS\n",
    "- В Европейском союзе: PS4, PS3, XOne, X360 и 3DS\n",
    "- В Японии: 3DS, PS3, PSV, PS4 и WiiU\n",
    "- В Остальных регионах: PS4, XOne, PS3, X360, 3DS  \n",
    "__________________________________________________________________________________________________\n",
    "- В Северной Америке, Европейском союзе и \"Остальных регионах\" входят одинаковые платформы с перестановкой их предпочтения.  На на рынке Японии преобладают платформы, компании которых, расположенны именно в этом регионе. "
   ]
  },
  {
   "cell_type": "markdown",
   "metadata": {},
   "source": [
    "**Самые популярные жанры (топ-5)**"
   ]
  },
  {
   "cell_type": "code",
   "execution_count": 35,
   "metadata": {},
   "outputs": [
    {
     "data": {
      "text/html": [
       "<div>\n",
       "<style scoped>\n",
       "    .dataframe tbody tr th:only-of-type {\n",
       "        vertical-align: middle;\n",
       "    }\n",
       "\n",
       "    .dataframe tbody tr th {\n",
       "        vertical-align: top;\n",
       "    }\n",
       "\n",
       "    .dataframe thead th {\n",
       "        text-align: right;\n",
       "    }\n",
       "</style>\n",
       "<table border=\"1\" class=\"dataframe\">\n",
       "  <thead>\n",
       "    <tr style=\"text-align: right;\">\n",
       "      <th></th>\n",
       "      <th>na_sales</th>\n",
       "    </tr>\n",
       "    <tr>\n",
       "      <th>genre</th>\n",
       "      <th></th>\n",
       "    </tr>\n",
       "  </thead>\n",
       "  <tbody>\n",
       "    <tr>\n",
       "      <th>Shooter</th>\n",
       "      <td>79.000000</td>\n",
       "    </tr>\n",
       "    <tr>\n",
       "      <th>Action</th>\n",
       "      <td>72.562500</td>\n",
       "    </tr>\n",
       "    <tr>\n",
       "      <th>Sports</th>\n",
       "      <td>46.125000</td>\n",
       "    </tr>\n",
       "    <tr>\n",
       "      <th>Role-Playing</th>\n",
       "      <td>33.468750</td>\n",
       "    </tr>\n",
       "    <tr>\n",
       "      <th>Misc</th>\n",
       "      <td>15.046875</td>\n",
       "    </tr>\n",
       "    <tr>\n",
       "      <th>Fighting</th>\n",
       "      <td>12.429688</td>\n",
       "    </tr>\n",
       "    <tr>\n",
       "      <th>Racing</th>\n",
       "      <td>8.742188</td>\n",
       "    </tr>\n",
       "    <tr>\n",
       "      <th>Platform</th>\n",
       "      <td>6.789062</td>\n",
       "    </tr>\n",
       "    <tr>\n",
       "      <th>Adventure</th>\n",
       "      <td>5.640625</td>\n",
       "    </tr>\n",
       "    <tr>\n",
       "      <th>Simulation</th>\n",
       "      <td>2.628906</td>\n",
       "    </tr>\n",
       "    <tr>\n",
       "      <th>Strategy</th>\n",
       "      <td>0.979980</td>\n",
       "    </tr>\n",
       "    <tr>\n",
       "      <th>Puzzle</th>\n",
       "      <td>0.649902</td>\n",
       "    </tr>\n",
       "  </tbody>\n",
       "</table>\n",
       "</div>"
      ],
      "text/plain": [
       "               na_sales\n",
       "genre                  \n",
       "Shooter       79.000000\n",
       "Action        72.562500\n",
       "Sports        46.125000\n",
       "Role-Playing  33.468750\n",
       "Misc          15.046875\n",
       "Fighting      12.429688\n",
       "Racing         8.742188\n",
       "Platform       6.789062\n",
       "Adventure      5.640625\n",
       "Simulation     2.628906\n",
       "Strategy       0.979980\n",
       "Puzzle         0.649902"
      ]
     },
     "execution_count": 35,
     "metadata": {},
     "output_type": "execute_result"
    }
   ],
   "source": [
    "#Самые популярные платформы в Северной Америке\n",
    "na_genre_top = pd.pivot_table(na_actual_data, index='genre', values='na_sales',\n",
    "                                        aggfunc='sum').sort_values('na_sales', ascending=False)\n",
    "na_genre_top"
   ]
  },
  {
   "cell_type": "code",
   "execution_count": 36,
   "metadata": {},
   "outputs": [
    {
     "data": {
      "text/html": [
       "<div>\n",
       "<style scoped>\n",
       "    .dataframe tbody tr th:only-of-type {\n",
       "        vertical-align: middle;\n",
       "    }\n",
       "\n",
       "    .dataframe tbody tr th {\n",
       "        vertical-align: top;\n",
       "    }\n",
       "\n",
       "    .dataframe thead th {\n",
       "        text-align: right;\n",
       "    }\n",
       "</style>\n",
       "<table border=\"1\" class=\"dataframe\">\n",
       "  <thead>\n",
       "    <tr style=\"text-align: right;\">\n",
       "      <th></th>\n",
       "      <th>eu_sales</th>\n",
       "    </tr>\n",
       "    <tr>\n",
       "      <th>genre</th>\n",
       "      <th></th>\n",
       "    </tr>\n",
       "  </thead>\n",
       "  <tbody>\n",
       "    <tr>\n",
       "      <th>Action</th>\n",
       "      <td>74.687500</td>\n",
       "    </tr>\n",
       "    <tr>\n",
       "      <th>Shooter</th>\n",
       "      <td>65.500000</td>\n",
       "    </tr>\n",
       "    <tr>\n",
       "      <th>Sports</th>\n",
       "      <td>45.718750</td>\n",
       "    </tr>\n",
       "    <tr>\n",
       "      <th>Role-Playing</th>\n",
       "      <td>28.171875</td>\n",
       "    </tr>\n",
       "    <tr>\n",
       "      <th>Racing</th>\n",
       "      <td>14.132812</td>\n",
       "    </tr>\n",
       "    <tr>\n",
       "      <th>Misc</th>\n",
       "      <td>12.859375</td>\n",
       "    </tr>\n",
       "    <tr>\n",
       "      <th>Simulation</th>\n",
       "      <td>7.300781</td>\n",
       "    </tr>\n",
       "    <tr>\n",
       "      <th>Platform</th>\n",
       "      <td>6.800781</td>\n",
       "    </tr>\n",
       "    <tr>\n",
       "      <th>Fighting</th>\n",
       "      <td>6.691406</td>\n",
       "    </tr>\n",
       "    <tr>\n",
       "      <th>Adventure</th>\n",
       "      <td>6.488281</td>\n",
       "    </tr>\n",
       "    <tr>\n",
       "      <th>Strategy</th>\n",
       "      <td>1.790039</td>\n",
       "    </tr>\n",
       "    <tr>\n",
       "      <th>Puzzle</th>\n",
       "      <td>0.520020</td>\n",
       "    </tr>\n",
       "  </tbody>\n",
       "</table>\n",
       "</div>"
      ],
      "text/plain": [
       "               eu_sales\n",
       "genre                  \n",
       "Action        74.687500\n",
       "Shooter       65.500000\n",
       "Sports        45.718750\n",
       "Role-Playing  28.171875\n",
       "Racing        14.132812\n",
       "Misc          12.859375\n",
       "Simulation     7.300781\n",
       "Platform       6.800781\n",
       "Fighting       6.691406\n",
       "Adventure      6.488281\n",
       "Strategy       1.790039\n",
       "Puzzle         0.520020"
      ]
     },
     "execution_count": 36,
     "metadata": {},
     "output_type": "execute_result"
    }
   ],
   "source": [
    "#Самые популярные платформы в Европейском союзе\n",
    "eu_genre_top = pd.pivot_table(eu_actual_data, index='genre', values='eu_sales',\n",
    "                                        aggfunc='sum').sort_values('eu_sales', ascending=False)\n",
    "eu_genre_top"
   ]
  },
  {
   "cell_type": "code",
   "execution_count": 37,
   "metadata": {},
   "outputs": [
    {
     "data": {
      "text/html": [
       "<div>\n",
       "<style scoped>\n",
       "    .dataframe tbody tr th:only-of-type {\n",
       "        vertical-align: middle;\n",
       "    }\n",
       "\n",
       "    .dataframe tbody tr th {\n",
       "        vertical-align: top;\n",
       "    }\n",
       "\n",
       "    .dataframe thead th {\n",
       "        text-align: right;\n",
       "    }\n",
       "</style>\n",
       "<table border=\"1\" class=\"dataframe\">\n",
       "  <thead>\n",
       "    <tr style=\"text-align: right;\">\n",
       "      <th></th>\n",
       "      <th>jp_sales</th>\n",
       "    </tr>\n",
       "    <tr>\n",
       "      <th>genre</th>\n",
       "      <th></th>\n",
       "    </tr>\n",
       "  </thead>\n",
       "  <tbody>\n",
       "    <tr>\n",
       "      <th>Role-Playing</th>\n",
       "      <td>31.156250</td>\n",
       "    </tr>\n",
       "    <tr>\n",
       "      <th>Action</th>\n",
       "      <td>29.578125</td>\n",
       "    </tr>\n",
       "    <tr>\n",
       "      <th>Fighting</th>\n",
       "      <td>6.371094</td>\n",
       "    </tr>\n",
       "    <tr>\n",
       "      <th>Misc</th>\n",
       "      <td>5.609375</td>\n",
       "    </tr>\n",
       "    <tr>\n",
       "      <th>Shooter</th>\n",
       "      <td>4.871094</td>\n",
       "    </tr>\n",
       "    <tr>\n",
       "      <th>Adventure</th>\n",
       "      <td>3.599609</td>\n",
       "    </tr>\n",
       "    <tr>\n",
       "      <th>Sports</th>\n",
       "      <td>3.259766</td>\n",
       "    </tr>\n",
       "    <tr>\n",
       "      <th>Platform</th>\n",
       "      <td>2.689453</td>\n",
       "    </tr>\n",
       "    <tr>\n",
       "      <th>Simulation</th>\n",
       "      <td>2.310547</td>\n",
       "    </tr>\n",
       "    <tr>\n",
       "      <th>Racing</th>\n",
       "      <td>1.760742</td>\n",
       "    </tr>\n",
       "    <tr>\n",
       "      <th>Strategy</th>\n",
       "      <td>0.950195</td>\n",
       "    </tr>\n",
       "    <tr>\n",
       "      <th>Puzzle</th>\n",
       "      <td>0.930176</td>\n",
       "    </tr>\n",
       "  </tbody>\n",
       "</table>\n",
       "</div>"
      ],
      "text/plain": [
       "               jp_sales\n",
       "genre                  \n",
       "Role-Playing  31.156250\n",
       "Action        29.578125\n",
       "Fighting       6.371094\n",
       "Misc           5.609375\n",
       "Shooter        4.871094\n",
       "Adventure      3.599609\n",
       "Sports         3.259766\n",
       "Platform       2.689453\n",
       "Simulation     2.310547\n",
       "Racing         1.760742\n",
       "Strategy       0.950195\n",
       "Puzzle         0.930176"
      ]
     },
     "execution_count": 37,
     "metadata": {},
     "output_type": "execute_result"
    }
   ],
   "source": [
    "#Самые популярные платформы в Японии\n",
    "jp_genre_top = pd.pivot_table(jp_actual_data, index='genre', values='jp_sales',\n",
    "                                        aggfunc='sum').sort_values('jp_sales', ascending=False)\n",
    "jp_genre_top"
   ]
  },
  {
   "cell_type": "code",
   "execution_count": 38,
   "metadata": {
    "scrolled": false
   },
   "outputs": [
    {
     "data": {
      "text/html": [
       "<div>\n",
       "<style scoped>\n",
       "    .dataframe tbody tr th:only-of-type {\n",
       "        vertical-align: middle;\n",
       "    }\n",
       "\n",
       "    .dataframe tbody tr th {\n",
       "        vertical-align: top;\n",
       "    }\n",
       "\n",
       "    .dataframe thead th {\n",
       "        text-align: right;\n",
       "    }\n",
       "</style>\n",
       "<table border=\"1\" class=\"dataframe\">\n",
       "  <thead>\n",
       "    <tr style=\"text-align: right;\">\n",
       "      <th></th>\n",
       "      <th>other_sales</th>\n",
       "    </tr>\n",
       "    <tr>\n",
       "      <th>genre</th>\n",
       "      <th></th>\n",
       "    </tr>\n",
       "  </thead>\n",
       "  <tbody>\n",
       "    <tr>\n",
       "      <th>Action</th>\n",
       "      <td>22.578125</td>\n",
       "    </tr>\n",
       "    <tr>\n",
       "      <th>Shooter</th>\n",
       "      <td>21.531250</td>\n",
       "    </tr>\n",
       "    <tr>\n",
       "      <th>Sports</th>\n",
       "      <td>14.359375</td>\n",
       "    </tr>\n",
       "    <tr>\n",
       "      <th>Role-Playing</th>\n",
       "      <td>8.640625</td>\n",
       "    </tr>\n",
       "    <tr>\n",
       "      <th>Misc</th>\n",
       "      <td>4.031250</td>\n",
       "    </tr>\n",
       "    <tr>\n",
       "      <th>Racing</th>\n",
       "      <td>2.890625</td>\n",
       "    </tr>\n",
       "    <tr>\n",
       "      <th>Fighting</th>\n",
       "      <td>2.730469</td>\n",
       "    </tr>\n",
       "    <tr>\n",
       "      <th>Adventure</th>\n",
       "      <td>1.820312</td>\n",
       "    </tr>\n",
       "    <tr>\n",
       "      <th>Platform</th>\n",
       "      <td>1.810547</td>\n",
       "    </tr>\n",
       "    <tr>\n",
       "      <th>Simulation</th>\n",
       "      <td>0.890137</td>\n",
       "    </tr>\n",
       "    <tr>\n",
       "      <th>Strategy</th>\n",
       "      <td>0.239990</td>\n",
       "    </tr>\n",
       "    <tr>\n",
       "      <th>Puzzle</th>\n",
       "      <td>0.110046</td>\n",
       "    </tr>\n",
       "  </tbody>\n",
       "</table>\n",
       "</div>"
      ],
      "text/plain": [
       "              other_sales\n",
       "genre                    \n",
       "Action          22.578125\n",
       "Shooter         21.531250\n",
       "Sports          14.359375\n",
       "Role-Playing     8.640625\n",
       "Misc             4.031250\n",
       "Racing           2.890625\n",
       "Fighting         2.730469\n",
       "Adventure        1.820312\n",
       "Platform         1.810547\n",
       "Simulation       0.890137\n",
       "Strategy         0.239990\n",
       "Puzzle           0.110046"
      ]
     },
     "execution_count": 38,
     "metadata": {},
     "output_type": "execute_result"
    }
   ],
   "source": [
    "#Самые популярные платформы в Остальных регионах\n",
    "other_genre_top = pd.pivot_table(other_actual_data, index='genre', values='other_sales',\n",
    "                                        aggfunc='sum').sort_values('other_sales', ascending=False)\n",
    "other_genre_top"
   ]
  },
  {
   "cell_type": "markdown",
   "metadata": {},
   "source": [
    "**Рейтинг \"Топ 5\" жанров:**\n",
    "\n",
    "- В Северной Америке: Action, Shooter, Sports, Role-Playing, Misc\n",
    "- В Европейском союзе: Action, Shooter, Sports, Role-Playing, Racing\n",
    "- В Японии: Role-Playing, Action, Fighting, Misc, Shooter\n",
    "- В Остальных регионах: Action, Shooter, Sports, Role-Playing, Misc    \n",
    "\n",
    "Во всех анализируемых регионах жанры: Action, Sports, Shooter, Role-Playing занимают лидирующие позиции. \n",
    "Игры в жанре Action лидируют по объёмам продаж в Северной Америке, чуть менее в Европе и «других» регионах. Racing популярен только в Европе, а Fighting в Японии. "
   ]
  },
  {
   "cell_type": "markdown",
   "metadata": {},
   "source": [
    "**Влияет ли рейтинг ESRB на продажи в отдельном регионе**"
   ]
  },
  {
   "cell_type": "markdown",
   "metadata": {},
   "source": [
    "**Система ESRB**\n",
    "- EC\t - Для детей младшего возраста. Подходит для детей от 3 лет, неприемлемое содержание отсутствует. Примеры: Дора Исследовательница, Сказки Дракона.\n",
    "- E\t- Подходит для всех возрастных категорий. Игра не должна содержать звуков или изображений, которые могут напугать маленьких детей. Не должна использоваться ненормативная лексика. Примеры: Просто таннцуй, FIFA.\n",
    "- E 10+\t- Подходит для лиц старше 10 лет. Игра может содержать умеренные формы насилия, а некоторые сцены могут пугать детей. Примеры: Minecraft Dungeons, Растения против зомби.\n",
    "- T\t- Подходит для лиц старше 13 лет. Игра может содержать более реалистичные и натуралистические сцены насилия. Примеры: Fortnite, Sims 4.\n",
    "- M\t- Подходит для лиц старше 17 лет. Этот рейтинг используется, когда насилие становится реалистичным и похожим на реальную жизнь. Также может присутствовать ненормативная лексика, употребление табака, алкоголя или запрещенных наркотиков. Примеры: Ark: Survival Evolved, Destiny 2.\n",
    "- AO\t- Подходит для взрослых старше 18 лет. Классификация «для взрослых» используется, когда в игре присутствует крайний уровень насилия и немотивированного убийства. Также может присутствовать романтизация наркотиков, азартных игр и сексуальной активности. Примеры: Grand Theft Auto V, Fallout 4.\n",
    "- RP\t- Категория ещё не присвоена. Играм с категорией RP еще не присвоен окончательный рейтинг ESRB.\n",
    "\n",
    "*Источник https://www.kingston.com/ru/blog/gaming/understanding-video-games-age-ratings-esrb-pegi\n",
    "\n",
    "**Также отметим, что пропущенные значения, мы заменили на UK (unknown)** "
   ]
  },
  {
   "cell_type": "code",
   "execution_count": 39,
   "metadata": {},
   "outputs": [
    {
     "data": {
      "text/html": [
       "<div>\n",
       "<style scoped>\n",
       "    .dataframe tbody tr th:only-of-type {\n",
       "        vertical-align: middle;\n",
       "    }\n",
       "\n",
       "    .dataframe tbody tr th {\n",
       "        vertical-align: top;\n",
       "    }\n",
       "\n",
       "    .dataframe thead th {\n",
       "        text-align: right;\n",
       "    }\n",
       "</style>\n",
       "<table border=\"1\" class=\"dataframe\">\n",
       "  <thead>\n",
       "    <tr style=\"text-align: right;\">\n",
       "      <th></th>\n",
       "      <th>na_sales</th>\n",
       "    </tr>\n",
       "    <tr>\n",
       "      <th>rating</th>\n",
       "      <th></th>\n",
       "    </tr>\n",
       "  </thead>\n",
       "  <tbody>\n",
       "    <tr>\n",
       "      <th>M</th>\n",
       "      <td>96.43750</td>\n",
       "    </tr>\n",
       "    <tr>\n",
       "      <th>UK</th>\n",
       "      <td>64.75000</td>\n",
       "    </tr>\n",
       "    <tr>\n",
       "      <th>E</th>\n",
       "      <td>50.75000</td>\n",
       "    </tr>\n",
       "    <tr>\n",
       "      <th>T</th>\n",
       "      <td>38.93750</td>\n",
       "    </tr>\n",
       "    <tr>\n",
       "      <th>E10+</th>\n",
       "      <td>33.21875</td>\n",
       "    </tr>\n",
       "  </tbody>\n",
       "</table>\n",
       "</div>"
      ],
      "text/plain": [
       "        na_sales\n",
       "rating          \n",
       "M       96.43750\n",
       "UK      64.75000\n",
       "E       50.75000\n",
       "T       38.93750\n",
       "E10+    33.21875"
      ]
     },
     "execution_count": 39,
     "metadata": {},
     "output_type": "execute_result"
    }
   ],
   "source": [
    "#Влияние рейтинга ESRB на продажи в Северной Америке \n",
    "na_rating_top = pd.pivot_table(na_actual_data, index='rating', values='na_sales',\n",
    "                                        aggfunc='sum').sort_values('na_sales', ascending=False)\n",
    "na_rating_top"
   ]
  },
  {
   "cell_type": "code",
   "execution_count": 40,
   "metadata": {},
   "outputs": [
    {
     "data": {
      "text/html": [
       "<div>\n",
       "<style scoped>\n",
       "    .dataframe tbody tr th:only-of-type {\n",
       "        vertical-align: middle;\n",
       "    }\n",
       "\n",
       "    .dataframe tbody tr th {\n",
       "        vertical-align: top;\n",
       "    }\n",
       "\n",
       "    .dataframe thead th {\n",
       "        text-align: right;\n",
       "    }\n",
       "</style>\n",
       "<table border=\"1\" class=\"dataframe\">\n",
       "  <thead>\n",
       "    <tr style=\"text-align: right;\">\n",
       "      <th></th>\n",
       "      <th>eu_sales</th>\n",
       "    </tr>\n",
       "    <tr>\n",
       "      <th>rating</th>\n",
       "      <th></th>\n",
       "    </tr>\n",
       "  </thead>\n",
       "  <tbody>\n",
       "    <tr>\n",
       "      <th>M</th>\n",
       "      <td>93.43750</td>\n",
       "    </tr>\n",
       "    <tr>\n",
       "      <th>UK</th>\n",
       "      <td>58.93750</td>\n",
       "    </tr>\n",
       "    <tr>\n",
       "      <th>E</th>\n",
       "      <td>58.06250</td>\n",
       "    </tr>\n",
       "    <tr>\n",
       "      <th>T</th>\n",
       "      <td>34.06250</td>\n",
       "    </tr>\n",
       "    <tr>\n",
       "      <th>E10+</th>\n",
       "      <td>26.15625</td>\n",
       "    </tr>\n",
       "  </tbody>\n",
       "</table>\n",
       "</div>"
      ],
      "text/plain": [
       "        eu_sales\n",
       "rating          \n",
       "M       93.43750\n",
       "UK      58.93750\n",
       "E       58.06250\n",
       "T       34.06250\n",
       "E10+    26.15625"
      ]
     },
     "execution_count": 40,
     "metadata": {},
     "output_type": "execute_result"
    }
   ],
   "source": [
    "#Влияние рейтинга ESRB на продажи в Европейском союзе \n",
    "eu_rating_top = pd.pivot_table(eu_actual_data, index='rating', values='eu_sales',\n",
    "                                        aggfunc='sum').sort_values('eu_sales', ascending=False)\n",
    "eu_rating_top"
   ]
  },
  {
   "cell_type": "code",
   "execution_count": 41,
   "metadata": {},
   "outputs": [
    {
     "data": {
      "text/html": [
       "<div>\n",
       "<style scoped>\n",
       "    .dataframe tbody tr th:only-of-type {\n",
       "        vertical-align: middle;\n",
       "    }\n",
       "\n",
       "    .dataframe tbody tr th {\n",
       "        vertical-align: top;\n",
       "    }\n",
       "\n",
       "    .dataframe thead th {\n",
       "        text-align: right;\n",
       "    }\n",
       "</style>\n",
       "<table border=\"1\" class=\"dataframe\">\n",
       "  <thead>\n",
       "    <tr style=\"text-align: right;\">\n",
       "      <th></th>\n",
       "      <th>jp_sales</th>\n",
       "    </tr>\n",
       "    <tr>\n",
       "      <th>rating</th>\n",
       "      <th></th>\n",
       "    </tr>\n",
       "  </thead>\n",
       "  <tbody>\n",
       "    <tr>\n",
       "      <th>UK</th>\n",
       "      <td>56.906250</td>\n",
       "    </tr>\n",
       "    <tr>\n",
       "      <th>T</th>\n",
       "      <td>14.781250</td>\n",
       "    </tr>\n",
       "    <tr>\n",
       "      <th>E</th>\n",
       "      <td>8.937500</td>\n",
       "    </tr>\n",
       "    <tr>\n",
       "      <th>M</th>\n",
       "      <td>8.007812</td>\n",
       "    </tr>\n",
       "    <tr>\n",
       "      <th>E10+</th>\n",
       "      <td>4.460938</td>\n",
       "    </tr>\n",
       "  </tbody>\n",
       "</table>\n",
       "</div>"
      ],
      "text/plain": [
       "         jp_sales\n",
       "rating           \n",
       "UK      56.906250\n",
       "T       14.781250\n",
       "E        8.937500\n",
       "M        8.007812\n",
       "E10+     4.460938"
      ]
     },
     "execution_count": 41,
     "metadata": {},
     "output_type": "execute_result"
    }
   ],
   "source": [
    "#Влияние рейтинга ESRB на продажи в Японии\n",
    "jp_rating_top = pd.pivot_table(jp_actual_data, index='rating', values='jp_sales',\n",
    "                                        aggfunc='sum').sort_values('jp_sales', ascending=False)\n",
    "jp_rating_top"
   ]
  },
  {
   "cell_type": "code",
   "execution_count": 42,
   "metadata": {},
   "outputs": [
    {
     "data": {
      "text/html": [
       "<div>\n",
       "<style scoped>\n",
       "    .dataframe tbody tr th:only-of-type {\n",
       "        vertical-align: middle;\n",
       "    }\n",
       "\n",
       "    .dataframe tbody tr th {\n",
       "        vertical-align: top;\n",
       "    }\n",
       "\n",
       "    .dataframe thead th {\n",
       "        text-align: right;\n",
       "    }\n",
       "</style>\n",
       "<table border=\"1\" class=\"dataframe\">\n",
       "  <thead>\n",
       "    <tr style=\"text-align: right;\">\n",
       "      <th></th>\n",
       "      <th>other_sales</th>\n",
       "    </tr>\n",
       "    <tr>\n",
       "      <th>rating</th>\n",
       "      <th></th>\n",
       "    </tr>\n",
       "  </thead>\n",
       "  <tbody>\n",
       "    <tr>\n",
       "      <th>M</th>\n",
       "      <td>28.671875</td>\n",
       "    </tr>\n",
       "    <tr>\n",
       "      <th>UK</th>\n",
       "      <td>18.406250</td>\n",
       "    </tr>\n",
       "    <tr>\n",
       "      <th>E</th>\n",
       "      <td>15.390625</td>\n",
       "    </tr>\n",
       "    <tr>\n",
       "      <th>T</th>\n",
       "      <td>11.328125</td>\n",
       "    </tr>\n",
       "    <tr>\n",
       "      <th>E10+</th>\n",
       "      <td>7.832031</td>\n",
       "    </tr>\n",
       "  </tbody>\n",
       "</table>\n",
       "</div>"
      ],
      "text/plain": [
       "        other_sales\n",
       "rating             \n",
       "M         28.671875\n",
       "UK        18.406250\n",
       "E         15.390625\n",
       "T         11.328125\n",
       "E10+       7.832031"
      ]
     },
     "execution_count": 42,
     "metadata": {},
     "output_type": "execute_result"
    }
   ],
   "source": [
    "#Влияние рейтинга ESRB на продажи в Других регионах\n",
    "other_rating_top = pd.pivot_table(other_actual_data, index='rating', values='other_sales',\n",
    "                                        aggfunc='sum').sort_values('other_sales', ascending=False)\n",
    "other_rating_top"
   ]
  },
  {
   "cell_type": "markdown",
   "metadata": {},
   "source": [
    "**Рейтинг ESRB**\n",
    "- В Северной Америке, Европейском союзе разработчики ориентированы на создания контента для лиц старше 17 лет (М - rating) \n",
    "\n",
    "- В Японии лидириуют игры с возрастным рейтингом 13, здесь разработчики ориентированы на более юное поколение (T - rating). \n",
    "\n",
    "- Но стоит обратить внимание, что в нашей выгрузке очень много игр, которым не присвоен рейтинг. Особенно это касатеся Япоского рынка. \n"
   ]
  },
  {
   "cell_type": "markdown",
   "metadata": {},
   "source": [
    "**Вывод по Шагу 4**\n",
    "\n",
    "**Портрет пользователей в разных регионах выглядит следующим образом**\n",
    "\n",
    "- Для Северной Америке, Европейского союза и Других регионов наиболее характерно: платформы PS4, XOne, X360, PS3 игры в жанрах Action, Shooter, Sports, а рейтинг игр, согласно ESRB, для лиц старше 17 лет\n",
    "- Для Японии наиболее характерно: платформы 3DS, PS3, PSV, PS4 (заметно преобладают местные игроки рынка), игры в жанрах Role-Playing, Action, Fighting, Misc, а рейтинг  игр согласно ESRB, для лиц старше 13 лет (но стоит учитывать, что самый большой процент, это игры без рейтинга). "
   ]
  },
  {
   "cell_type": "markdown",
   "metadata": {},
   "source": [
    "**Шаг 5. Проверьте гипотезы**"
   ]
  },
  {
   "cell_type": "markdown",
   "metadata": {},
   "source": [
    "**Гипотеза 1. Средние пользовательские рейтинги платформ Xbox One и PC одинаковые**\n",
    "- Поставленный вопрос полностью совпадает с формулировкой нулевой гипотезы, которая всегда определяется как равна \n",
    "- Альтернативная гипотеза может быть проверена в трех направлениях \"меньше\", \"не равно\", \"больше\" \n",
    "- Т.к. в данной гипотезе идет вопрос про равенство, значит проверку надо провести двухстороннюю alternative='two-sided'\n",
    "\n",
    "- #Н_0: Средние пользовательские рейтинги платформ Xbox One = PC \n",
    "- #Н_1: Средние пользовательские рейтинги платформ Xbox One != PC \n",
    "\n"
   ]
  },
  {
   "cell_type": "code",
   "execution_count": 43,
   "metadata": {},
   "outputs": [
    {
     "name": "stdout",
     "output_type": "stream",
     "text": [
      "0.1151637700193269\n",
      "Не получилось отвергнуть нулевую минуту\n",
      "Среднее значение для Action: 6.59375\n",
      "Среднее значение для Sports: 6.30078125\n"
     ]
    }
   ],
   "source": [
    "results = st.ttest_ind(\n",
    "    actual_data.loc[actual_data['platform'] == 'XOne', 'user_score'].dropna(),\n",
    "    actual_data.loc[actual_data['platform'] == 'PC', 'user_score'].dropna(),\n",
    "    equal_var=False,\n",
    "    #для проверки на неравенство (в обе стороны)\n",
    "    alternative='two-sided'\n",
    ")\n",
    "print(results.pvalue)\n",
    "\n",
    "alpha = 0.05\n",
    "if results.pvalue < alpha:\n",
    "    print('Отвергаем нулевую гипотезу')\n",
    "else:\n",
    "    print('Не получилось отвергнуть нулевую минуту')\n",
    "    \n",
    "xone_mean = actual_data.loc[actual_data['platform'] == 'XOne', 'user_score'].mean()\n",
    "pc_mean = actual_data.loc[actual_data['platform'] == 'PC', 'user_score'].mean()\n",
    "\n",
    "print(f\"Среднее значение для Action: {xone_mean}\")\n",
    "print(f\"Среднее значение для Sports: {pc_mean}\")"
   ]
  },
  {
   "cell_type": "markdown",
   "metadata": {},
   "source": [
    "**Гипотеза 2. Средние пользовательские рейтинги жанров Action (англ. «действие», экшен-игры) и Sports (англ. «спортивные соревнования») разные.**\n",
    "- Поставленный вопрос не совпадает с нулевой гипотезой, которая должна быть всегда равна, поэтому выдвинута нулевая гипотеза как то, что пользовательские рейтинги жанров Action и Sports равны, если мы отвергнем нулевую гипотезу, значит рейтинги разные.  \n",
    "- Альтернативная гипотеза может быть проверена в трех направлениях \"меньше\", \"не равно\", \"больше\" \n",
    "- Т.к. в данной гипотезе идет вопрос про равенство, значит проверку надо провести двухстороннюю alternative='two-sided'\n",
    "- #Н_0: Средние пользовательские рейтинги жанров Action = Sports\n",
    "- #Н_1: Средние пользовательские рейтинги жанров Action != Sports"
   ]
  },
  {
   "cell_type": "code",
   "execution_count": 44,
   "metadata": {},
   "outputs": [
    {
     "name": "stdout",
     "output_type": "stream",
     "text": [
      "1.1923084551646862e-14\n",
      "Отвергаем нулевую гипотезу\n",
      "Среднее значение для Action: 6.76171875\n",
      "Среднее значение для Sports: 5.22265625\n"
     ]
    }
   ],
   "source": [
    "results = st.ttest_ind(\n",
    "    actual_data.loc[actual_data['genre'] == 'Action', 'user_score'].dropna(),\n",
    "    actual_data.loc[actual_data['genre'] == 'Sports', 'user_score'].dropna(),\n",
    "    equal_var=False,\n",
    "    #для проверки на неравенство (в обе стороны)\n",
    "    alternative='two-sided'\n",
    ")\n",
    "print(results.pvalue)\n",
    "\n",
    "alpha = 0.05\n",
    "if results.pvalue < alpha:\n",
    "    print('Отвергаем нулевую гипотезу')\n",
    "else:\n",
    "    print('Не получилось отвергнуть нулевую минуту')\n",
    "    \n",
    "action_mean = actual_data.loc[actual_data['genre'] == 'Action', 'user_score'].mean()\n",
    "sports_mean = actual_data.loc[actual_data['genre'] == 'Sports', 'user_score'].mean()\n",
    "\n",
    "print(f\"Среднее значение для Action: {action_mean}\")\n",
    "print(f\"Среднее значение для Sports: {sports_mean}\")"
   ]
  },
  {
   "cell_type": "markdown",
   "metadata": {},
   "source": [
    "**Вывод по Шагу 5**\n",
    "\n",
    "- После проверки гипотезы, что \"Средние пользовательские рейтинги платформ Xbox One и PC одинаковые\", при установленном уровне значимости в 5%, можем утверждать, что пользовательские рейтинги платформ XOne и PC равны (Не получилось отвергнуть нулевую минуту). \n",
    "- После проверки гипотезы, что \"Средние пользовательские рейтинги жанров Action и Sports разные\", при установленном уровне значимости в 5%, можем утверждать, что рейтинги жанров Action и Sports разные (Нулевая гипотеза отвергнута)\n"
   ]
  },
  {
   "cell_type": "markdown",
   "metadata": {},
   "source": [
    "**Шаг 6. Общий вывод**\n"
   ]
  },
  {
   "cell_type": "markdown",
   "metadata": {},
   "source": [
    "***В ходе Шага 1 было сделано следующее***\n",
    "****Выводы касательно выгрузки****\n",
    "- Необходимо привести названия столбцов к \"хорошему стилю\"\n",
    "- Есть пропущенные значения, их необходимо будет заполнить\n",
    "- Необходимо изменить тип данных в некоторых колонках\n",
    "- О наличии данных в достаточном объёме для того, чтобы приступить к исследованию\n",
    "\n",
    "\n",
    "***В ходе Шага 2 было сделано следующее***\n",
    "\n",
    "- Названия столбцов были приведены к \"хорошему стилю\"\n",
    "- Восстановлены пропуски в строках (за исплючением user_score и critic_score, а в столбце rating пропущенным значениям присвоено UK - unknown)\n",
    "- Удалены строки без нужных данных (были пропуски в столбцах name и year_of_release)\n",
    "- Приведены столбцы к нужному типу данных\n",
    "- Добавлен новый столбец суммарных продаж во всех регионах (согласно заданию)\n",
    "\n",
    "***В ходе Шага 3 было сделано следующее***\n",
    "\n",
    "- Рассмотрено, сколько игр выпускалось в разные годы. Наблюдается рост количества релизов с 1980 по 2008 год\n",
    "- Рассмотрено, как менялись продажи по платформам в разные года (Выделены наибольшие продажи у платформ PS2, X360, PS3, Wii, DS, PS)\n",
    "- Построен график по продажам на платформах. Сделан вывод, что в среднем платформа существует 8-10 лет, рост количества релизов 4 года, затем идет на спад. Связано это с тем, что выходят более современные платформы.\n",
    "- Сделан вывод, что разные платформы имеют разную продолжительность существования, с минимальной значением в 1 год (‘TG16’) и максимальным значением в 26 PC. Cредняя продолжительность жизни платформы 7.6 лет, медианная 7 лет.\n",
    "- Продажи платформ в актуальный период (последние 4 года) растут у PS4, XOne, 3DS, WiiU и PSV, на убыль идут приставки предыдущего поколения PS3, X360, DS, Wii и PSP\n",
    "- Лидером среди платформ в актуальный период является PS4, затем с большим отрывом идут XOne и 3DS\n",
    "- Сделан вывод, что нет статистически значимой корреляции между отзывами критиков и пользователей с продажами на отдельно взятых платформах, а значит продажи от них зависят слабо.\n",
    "- Наиболее прибыльными жанрами являются Action, Shooter, Sports, Role-Playing. Также стоит отметить, что при сравнение медианных значений по продажам в разрезе жанров предпочтение отдают Shooter и Sports (обладают большим медианным значением прибыли).\n",
    "\n",
    "***В ходе Шага 4 было сделано следующее***\n",
    "- Составлен портрет пользователей в разных регионах выглядит следующим образом\n",
    "\n",
    "- Для Северной Америке, Европейского союза и Других регионов наиболее характерно: платформы PS4, XOne, X360, PS3 игры в жанрах Action, Shooter, Sports, а рейтинг игр, согласно ESRB, для лиц старше 17 лет\n",
    "- Для Японии наиболее характерно: платформы 3DS, PS3, PSV, PS4 (заметно преобладают местные игроки рынка), игры в жанрах Role-Playing, Action, Fighting, Misc, а рейтинг игр согласно ESRB, для лиц старше 13 лет (но стоит учитывать, что самый большой процент, это игры без рейтинга).\n",
    "\n",
    "***В ходе Шага 5 было сделано следующее***\n",
    "- Было проверено 2 гипотезы (согласно заданию)\n",
    "\n",
    "- После проверки гипотезы, что \"Средние пользовательские рейтинги платформ Xbox One и PC одинаковые\", при установленном уровне значимости в 5%, можем утверждать, что пользовательские рейтинги платформ XOne и PC равны (Не получилось отвергнуть нулевую минуту).\n",
    "После проверки гипотезы, что \"Средние пользовательские рейтинги жанров Action и Sports разные\", при установленном уровне значимости в 5%, можем утверждать, что рейтинги жанров Action и Sports разные (Нулевая гипотеза отвергнута)"
   ]
  }
 ],
 "metadata": {
  "ExecuteTimeLog": [
   {
    "duration": 59,
    "start_time": "2024-07-10T20:00:25.952Z"
   },
   {
    "duration": 5,
    "start_time": "2024-07-10T20:00:32.256Z"
   },
   {
    "duration": 424,
    "start_time": "2024-07-10T20:00:37.922Z"
   },
   {
    "duration": 113,
    "start_time": "2024-07-10T20:00:38.348Z"
   },
   {
    "duration": 31,
    "start_time": "2024-07-10T20:00:38.463Z"
   },
   {
    "duration": 14,
    "start_time": "2024-07-10T20:01:23.040Z"
   },
   {
    "duration": 62,
    "start_time": "2024-07-10T20:09:43.411Z"
   },
   {
    "duration": 15,
    "start_time": "2024-07-10T20:09:50.017Z"
   },
   {
    "duration": 12,
    "start_time": "2024-07-10T20:10:56.485Z"
   },
   {
    "duration": 15,
    "start_time": "2024-07-10T20:11:31.135Z"
   },
   {
    "duration": 13,
    "start_time": "2024-07-10T20:12:20.130Z"
   },
   {
    "duration": 13,
    "start_time": "2024-07-10T20:12:30.130Z"
   },
   {
    "duration": 13,
    "start_time": "2024-07-10T20:13:44.039Z"
   },
   {
    "duration": 18,
    "start_time": "2024-07-10T20:33:11.010Z"
   },
   {
    "duration": 22,
    "start_time": "2024-07-10T20:33:50.464Z"
   },
   {
    "duration": 22,
    "start_time": "2024-07-10T20:35:44.254Z"
   },
   {
    "duration": 14,
    "start_time": "2024-07-10T20:45:59.646Z"
   },
   {
    "duration": 6,
    "start_time": "2024-07-10T20:48:58.600Z"
   },
   {
    "duration": 9,
    "start_time": "2024-07-10T20:49:58.008Z"
   },
   {
    "duration": 5,
    "start_time": "2024-07-10T20:50:10.724Z"
   },
   {
    "duration": 9,
    "start_time": "2024-07-10T20:52:11.678Z"
   },
   {
    "duration": 6,
    "start_time": "2024-07-10T20:52:42.612Z"
   },
   {
    "duration": 8,
    "start_time": "2024-07-10T20:53:31.247Z"
   },
   {
    "duration": 10,
    "start_time": "2024-07-10T21:01:34.176Z"
   },
   {
    "duration": 14,
    "start_time": "2024-07-10T21:07:44.376Z"
   },
   {
    "duration": 50,
    "start_time": "2024-07-12T22:46:31.730Z"
   },
   {
    "duration": 408,
    "start_time": "2024-07-12T22:46:41.613Z"
   },
   {
    "duration": 184,
    "start_time": "2024-07-12T22:46:42.022Z"
   },
   {
    "duration": 20,
    "start_time": "2024-07-12T22:46:42.207Z"
   },
   {
    "duration": 14,
    "start_time": "2024-07-12T22:46:42.228Z"
   },
   {
    "duration": 18,
    "start_time": "2024-07-12T22:46:42.244Z"
   },
   {
    "duration": 42,
    "start_time": "2024-07-12T22:46:42.264Z"
   },
   {
    "duration": 10,
    "start_time": "2024-07-12T22:46:42.307Z"
   },
   {
    "duration": 19,
    "start_time": "2024-07-12T22:46:42.318Z"
   },
   {
    "duration": 12,
    "start_time": "2024-07-12T22:46:42.338Z"
   },
   {
    "duration": 10,
    "start_time": "2024-07-12T22:46:42.351Z"
   },
   {
    "duration": 106,
    "start_time": "2024-07-12T22:46:42.362Z"
   },
   {
    "duration": 27,
    "start_time": "2024-07-12T22:48:42.957Z"
   },
   {
    "duration": 237,
    "start_time": "2024-07-12T22:54:39.703Z"
   },
   {
    "duration": 256,
    "start_time": "2024-07-12T22:58:58.499Z"
   },
   {
    "duration": 16,
    "start_time": "2024-07-12T22:59:48.512Z"
   },
   {
    "duration": 13,
    "start_time": "2024-07-12T23:00:24.360Z"
   },
   {
    "duration": 12,
    "start_time": "2024-07-12T23:03:27.785Z"
   },
   {
    "duration": 21,
    "start_time": "2024-07-12T23:06:06.759Z"
   },
   {
    "duration": 19,
    "start_time": "2024-07-12T23:06:28.669Z"
   },
   {
    "duration": 20,
    "start_time": "2024-07-12T23:06:44.279Z"
   },
   {
    "duration": 21,
    "start_time": "2024-07-12T23:07:31.948Z"
   },
   {
    "duration": 29,
    "start_time": "2024-07-12T23:07:45.658Z"
   },
   {
    "duration": 9,
    "start_time": "2024-07-12T23:11:08.430Z"
   },
   {
    "duration": 14,
    "start_time": "2024-07-12T23:11:22.438Z"
   },
   {
    "duration": 23,
    "start_time": "2024-07-12T23:13:46.832Z"
   },
   {
    "duration": 16,
    "start_time": "2024-07-12T23:13:53.571Z"
   },
   {
    "duration": 14,
    "start_time": "2024-07-12T23:14:57.806Z"
   },
   {
    "duration": 15,
    "start_time": "2024-07-12T23:15:09.688Z"
   },
   {
    "duration": 21,
    "start_time": "2024-07-12T23:15:51.745Z"
   },
   {
    "duration": 439,
    "start_time": "2024-07-12T23:16:05.805Z"
   },
   {
    "duration": 54,
    "start_time": "2024-07-12T23:16:06.246Z"
   },
   {
    "duration": 20,
    "start_time": "2024-07-12T23:16:06.302Z"
   },
   {
    "duration": 14,
    "start_time": "2024-07-12T23:16:06.323Z"
   },
   {
    "duration": 14,
    "start_time": "2024-07-12T23:16:06.339Z"
   },
   {
    "duration": 17,
    "start_time": "2024-07-12T23:16:06.354Z"
   },
   {
    "duration": 33,
    "start_time": "2024-07-12T23:16:06.373Z"
   },
   {
    "duration": 17,
    "start_time": "2024-07-12T23:16:06.408Z"
   },
   {
    "duration": 12,
    "start_time": "2024-07-12T23:16:06.427Z"
   },
   {
    "duration": 9,
    "start_time": "2024-07-12T23:16:06.441Z"
   },
   {
    "duration": 26,
    "start_time": "2024-07-12T23:16:06.451Z"
   },
   {
    "duration": 8,
    "start_time": "2024-07-12T23:16:06.505Z"
   },
   {
    "duration": 11,
    "start_time": "2024-07-12T23:21:41.394Z"
   },
   {
    "duration": 12,
    "start_time": "2024-07-12T23:22:11.853Z"
   },
   {
    "duration": 79,
    "start_time": "2024-07-12T23:22:39.763Z"
   },
   {
    "duration": 17,
    "start_time": "2024-07-12T23:23:11.806Z"
   },
   {
    "duration": 14,
    "start_time": "2024-07-12T23:24:22.178Z"
   },
   {
    "duration": 12,
    "start_time": "2024-07-12T23:24:45.079Z"
   },
   {
    "duration": 25,
    "start_time": "2024-07-12T23:25:34.745Z"
   },
   {
    "duration": 18,
    "start_time": "2024-07-12T23:25:44.479Z"
   },
   {
    "duration": 4,
    "start_time": "2024-07-12T23:29:44.679Z"
   },
   {
    "duration": 17,
    "start_time": "2024-07-12T23:30:00.728Z"
   },
   {
    "duration": 17,
    "start_time": "2024-07-12T23:30:32.983Z"
   },
   {
    "duration": 16,
    "start_time": "2024-07-12T23:31:08.598Z"
   },
   {
    "duration": 13,
    "start_time": "2024-07-12T23:43:35.749Z"
   },
   {
    "duration": 625,
    "start_time": "2024-07-12T23:43:48.668Z"
   },
   {
    "duration": 18,
    "start_time": "2024-07-12T23:44:21.779Z"
   },
   {
    "duration": 415,
    "start_time": "2024-07-12T23:44:30.407Z"
   },
   {
    "duration": 57,
    "start_time": "2024-07-12T23:44:30.824Z"
   },
   {
    "duration": 21,
    "start_time": "2024-07-12T23:44:30.882Z"
   },
   {
    "duration": 32,
    "start_time": "2024-07-12T23:44:30.905Z"
   },
   {
    "duration": 62,
    "start_time": "2024-07-12T23:44:30.939Z"
   },
   {
    "duration": 54,
    "start_time": "2024-07-12T23:44:31.003Z"
   },
   {
    "duration": 49,
    "start_time": "2024-07-12T23:44:31.059Z"
   },
   {
    "duration": 48,
    "start_time": "2024-07-12T23:44:31.109Z"
   },
   {
    "duration": 34,
    "start_time": "2024-07-12T23:44:31.159Z"
   },
   {
    "duration": 48,
    "start_time": "2024-07-12T23:44:31.195Z"
   },
   {
    "duration": 48,
    "start_time": "2024-07-12T23:44:31.245Z"
   },
   {
    "duration": 38,
    "start_time": "2024-07-12T23:44:31.295Z"
   },
   {
    "duration": 60,
    "start_time": "2024-07-12T23:44:31.335Z"
   },
   {
    "duration": 167,
    "start_time": "2024-07-12T23:44:31.397Z"
   },
   {
    "duration": 446,
    "start_time": "2024-07-12T23:44:31.566Z"
   },
   {
    "duration": 71,
    "start_time": "2024-07-12T23:50:01.416Z"
   },
   {
    "duration": 320,
    "start_time": "2024-07-12T23:50:13.588Z"
   },
   {
    "duration": 308,
    "start_time": "2024-07-12T23:50:43.545Z"
   },
   {
    "duration": 649,
    "start_time": "2024-07-12T23:50:52.594Z"
   },
   {
    "duration": 57,
    "start_time": "2024-07-12T23:50:53.245Z"
   },
   {
    "duration": 19,
    "start_time": "2024-07-12T23:50:53.303Z"
   },
   {
    "duration": 16,
    "start_time": "2024-07-12T23:50:53.324Z"
   },
   {
    "duration": 15,
    "start_time": "2024-07-12T23:50:53.342Z"
   },
   {
    "duration": 47,
    "start_time": "2024-07-12T23:50:53.359Z"
   },
   {
    "duration": 9,
    "start_time": "2024-07-12T23:50:53.408Z"
   },
   {
    "duration": 18,
    "start_time": "2024-07-12T23:50:53.418Z"
   },
   {
    "duration": 17,
    "start_time": "2024-07-12T23:50:53.438Z"
   },
   {
    "duration": 9,
    "start_time": "2024-07-12T23:50:53.461Z"
   },
   {
    "duration": 55,
    "start_time": "2024-07-12T23:50:53.471Z"
   },
   {
    "duration": 19,
    "start_time": "2024-07-12T23:50:53.528Z"
   },
   {
    "duration": 19,
    "start_time": "2024-07-12T23:50:53.549Z"
   },
   {
    "duration": 62,
    "start_time": "2024-07-12T23:50:53.571Z"
   },
   {
    "duration": 184,
    "start_time": "2024-07-12T23:50:53.636Z"
   },
   {
    "duration": 342,
    "start_time": "2024-07-12T23:50:53.822Z"
   },
   {
    "duration": 70,
    "start_time": "2024-07-13T00:04:48.516Z"
   },
   {
    "duration": 13,
    "start_time": "2024-07-13T00:04:56.135Z"
   },
   {
    "duration": 327,
    "start_time": "2024-07-13T00:05:04.636Z"
   },
   {
    "duration": 11,
    "start_time": "2024-07-13T00:13:36.098Z"
   },
   {
    "duration": 12,
    "start_time": "2024-07-13T00:14:12.153Z"
   },
   {
    "duration": 12,
    "start_time": "2024-07-13T00:16:55.627Z"
   },
   {
    "duration": 8,
    "start_time": "2024-07-13T00:17:33.421Z"
   },
   {
    "duration": 8,
    "start_time": "2024-07-13T00:17:49.338Z"
   },
   {
    "duration": 1100,
    "start_time": "2024-07-13T00:18:07.557Z"
   },
   {
    "duration": 9,
    "start_time": "2024-07-13T00:19:57.285Z"
   },
   {
    "duration": 294,
    "start_time": "2024-07-13T00:20:05.157Z"
   },
   {
    "duration": 8,
    "start_time": "2024-07-13T00:22:32.128Z"
   },
   {
    "duration": 18,
    "start_time": "2024-07-13T00:23:01.898Z"
   },
   {
    "duration": 25,
    "start_time": "2024-07-13T00:23:09.068Z"
   },
   {
    "duration": 22,
    "start_time": "2024-07-13T00:23:28.536Z"
   },
   {
    "duration": 285,
    "start_time": "2024-07-13T00:27:48.316Z"
   },
   {
    "duration": 2,
    "start_time": "2024-07-13T00:30:04.904Z"
   },
   {
    "duration": 17,
    "start_time": "2024-07-13T00:30:25.519Z"
   },
   {
    "duration": 579,
    "start_time": "2024-07-13T00:30:41.455Z"
   },
   {
    "duration": 55,
    "start_time": "2024-07-13T00:30:42.036Z"
   },
   {
    "duration": 16,
    "start_time": "2024-07-13T00:30:42.093Z"
   },
   {
    "duration": 14,
    "start_time": "2024-07-13T00:30:42.111Z"
   },
   {
    "duration": 14,
    "start_time": "2024-07-13T00:30:42.127Z"
   },
   {
    "duration": 18,
    "start_time": "2024-07-13T00:30:42.143Z"
   },
   {
    "duration": 9,
    "start_time": "2024-07-13T00:30:42.162Z"
   },
   {
    "duration": 41,
    "start_time": "2024-07-13T00:30:42.172Z"
   },
   {
    "duration": 12,
    "start_time": "2024-07-13T00:30:42.214Z"
   },
   {
    "duration": 6,
    "start_time": "2024-07-13T00:30:42.229Z"
   },
   {
    "duration": 25,
    "start_time": "2024-07-13T00:30:42.237Z"
   },
   {
    "duration": 47,
    "start_time": "2024-07-13T00:30:42.263Z"
   },
   {
    "duration": 15,
    "start_time": "2024-07-13T00:30:42.312Z"
   },
   {
    "duration": 14,
    "start_time": "2024-07-13T00:30:42.329Z"
   },
   {
    "duration": 186,
    "start_time": "2024-07-13T00:30:42.344Z"
   },
   {
    "duration": 316,
    "start_time": "2024-07-13T00:30:42.531Z"
   },
   {
    "duration": 13,
    "start_time": "2024-07-13T00:30:42.849Z"
   },
   {
    "duration": 366,
    "start_time": "2024-07-13T00:30:42.864Z"
   },
   {
    "duration": 369,
    "start_time": "2024-07-13T00:30:43.232Z"
   },
   {
    "duration": 3,
    "start_time": "2024-07-13T00:30:43.603Z"
   },
   {
    "duration": 80,
    "start_time": "2024-07-13T00:31:22.524Z"
   },
   {
    "duration": 595,
    "start_time": "2024-07-13T00:31:32.349Z"
   },
   {
    "duration": 54,
    "start_time": "2024-07-13T00:31:32.946Z"
   },
   {
    "duration": 19,
    "start_time": "2024-07-13T00:31:33.002Z"
   },
   {
    "duration": 15,
    "start_time": "2024-07-13T00:31:33.023Z"
   },
   {
    "duration": 13,
    "start_time": "2024-07-13T00:31:33.039Z"
   },
   {
    "duration": 15,
    "start_time": "2024-07-13T00:31:33.053Z"
   },
   {
    "duration": 9,
    "start_time": "2024-07-13T00:31:33.069Z"
   },
   {
    "duration": 18,
    "start_time": "2024-07-13T00:31:33.105Z"
   },
   {
    "duration": 12,
    "start_time": "2024-07-13T00:31:33.124Z"
   },
   {
    "duration": 30,
    "start_time": "2024-07-13T00:31:33.138Z"
   },
   {
    "duration": 26,
    "start_time": "2024-07-13T00:31:33.170Z"
   },
   {
    "duration": 22,
    "start_time": "2024-07-13T00:31:33.198Z"
   },
   {
    "duration": 17,
    "start_time": "2024-07-13T00:31:33.222Z"
   },
   {
    "duration": 14,
    "start_time": "2024-07-13T00:31:33.240Z"
   },
   {
    "duration": 193,
    "start_time": "2024-07-13T00:31:33.256Z"
   },
   {
    "duration": 319,
    "start_time": "2024-07-13T00:31:33.451Z"
   },
   {
    "duration": 12,
    "start_time": "2024-07-13T00:31:33.772Z"
   },
   {
    "duration": 341,
    "start_time": "2024-07-13T00:31:33.786Z"
   },
   {
    "duration": 368,
    "start_time": "2024-07-13T00:31:34.129Z"
   },
   {
    "duration": 2,
    "start_time": "2024-07-13T00:31:34.499Z"
   },
   {
    "duration": 25,
    "start_time": "2024-07-13T00:32:26.858Z"
   },
   {
    "duration": 69,
    "start_time": "2024-07-13T00:32:50.938Z"
   },
   {
    "duration": 24,
    "start_time": "2024-07-13T00:33:27.105Z"
   },
   {
    "duration": 15,
    "start_time": "2024-07-13T00:40:48.836Z"
   },
   {
    "duration": 15,
    "start_time": "2024-07-13T00:41:04.061Z"
   },
   {
    "duration": 36,
    "start_time": "2024-07-13T00:41:14.624Z"
   },
   {
    "duration": 38,
    "start_time": "2024-07-13T00:42:03.329Z"
   },
   {
    "duration": 32,
    "start_time": "2024-07-13T00:42:35.518Z"
   },
   {
    "duration": 34,
    "start_time": "2024-07-13T00:44:04.544Z"
   },
   {
    "duration": 34,
    "start_time": "2024-07-13T00:44:57.649Z"
   },
   {
    "duration": 36,
    "start_time": "2024-07-13T00:46:58.943Z"
   },
   {
    "duration": 30,
    "start_time": "2024-07-13T00:47:25.571Z"
   },
   {
    "duration": 36,
    "start_time": "2024-07-13T01:09:29.517Z"
   },
   {
    "duration": 8,
    "start_time": "2024-07-13T01:12:57.856Z"
   },
   {
    "duration": 10,
    "start_time": "2024-07-13T01:13:08.461Z"
   },
   {
    "duration": 16,
    "start_time": "2024-07-13T01:18:53.601Z"
   },
   {
    "duration": 13,
    "start_time": "2024-07-13T01:19:08.251Z"
   },
   {
    "duration": 19,
    "start_time": "2024-07-13T01:22:28.382Z"
   },
   {
    "duration": 18,
    "start_time": "2024-07-13T01:22:44.157Z"
   },
   {
    "duration": 8,
    "start_time": "2024-07-13T01:23:26.990Z"
   },
   {
    "duration": 20,
    "start_time": "2024-07-13T01:26:54.746Z"
   },
   {
    "duration": 8,
    "start_time": "2024-07-13T01:30:22.196Z"
   },
   {
    "duration": 26,
    "start_time": "2024-07-13T01:33:50.850Z"
   },
   {
    "duration": 9,
    "start_time": "2024-07-13T01:33:54.875Z"
   },
   {
    "duration": 16,
    "start_time": "2024-07-13T01:35:34.949Z"
   },
   {
    "duration": 13,
    "start_time": "2024-07-13T01:35:46.285Z"
   },
   {
    "duration": 64,
    "start_time": "2024-07-13T01:43:13.081Z"
   },
   {
    "duration": 191,
    "start_time": "2024-07-13T01:43:22.849Z"
   },
   {
    "duration": 1004,
    "start_time": "2024-07-13T01:45:06.645Z"
   },
   {
    "duration": 15,
    "start_time": "2024-07-13T01:47:19.463Z"
   },
   {
    "duration": 14,
    "start_time": "2024-07-13T01:48:00.296Z"
   },
   {
    "duration": 16,
    "start_time": "2024-07-13T01:48:07.636Z"
   },
   {
    "duration": 14,
    "start_time": "2024-07-13T01:48:49.671Z"
   },
   {
    "duration": 20,
    "start_time": "2024-07-13T01:49:01.612Z"
   },
   {
    "duration": 21,
    "start_time": "2024-07-13T01:52:02.507Z"
   },
   {
    "duration": 14,
    "start_time": "2024-07-13T01:59:17.189Z"
   },
   {
    "duration": 1189,
    "start_time": "2024-07-13T01:59:27.937Z"
   },
   {
    "duration": 56,
    "start_time": "2024-07-13T01:59:29.128Z"
   },
   {
    "duration": 18,
    "start_time": "2024-07-13T01:59:29.185Z"
   },
   {
    "duration": 14,
    "start_time": "2024-07-13T01:59:29.205Z"
   },
   {
    "duration": 14,
    "start_time": "2024-07-13T01:59:29.220Z"
   },
   {
    "duration": 15,
    "start_time": "2024-07-13T01:59:29.235Z"
   },
   {
    "duration": 18,
    "start_time": "2024-07-13T01:59:29.251Z"
   },
   {
    "duration": 40,
    "start_time": "2024-07-13T01:59:29.271Z"
   },
   {
    "duration": 13,
    "start_time": "2024-07-13T01:59:29.313Z"
   },
   {
    "duration": 7,
    "start_time": "2024-07-13T01:59:29.330Z"
   },
   {
    "duration": 27,
    "start_time": "2024-07-13T01:59:29.339Z"
   },
   {
    "duration": 49,
    "start_time": "2024-07-13T01:59:29.368Z"
   },
   {
    "duration": 18,
    "start_time": "2024-07-13T01:59:29.418Z"
   },
   {
    "duration": 49,
    "start_time": "2024-07-13T01:59:29.437Z"
   },
   {
    "duration": 174,
    "start_time": "2024-07-13T01:59:29.488Z"
   },
   {
    "duration": 310,
    "start_time": "2024-07-13T01:59:29.664Z"
   },
   {
    "duration": 14,
    "start_time": "2024-07-13T01:59:29.976Z"
   },
   {
    "duration": 295,
    "start_time": "2024-07-13T01:59:30.004Z"
   },
   {
    "duration": 340,
    "start_time": "2024-07-13T01:59:30.305Z"
   },
   {
    "duration": 37,
    "start_time": "2024-07-13T01:59:30.647Z"
   },
   {
    "duration": 44,
    "start_time": "2024-07-13T01:59:30.685Z"
   },
   {
    "duration": 32,
    "start_time": "2024-07-13T01:59:30.730Z"
   },
   {
    "duration": 41,
    "start_time": "2024-07-13T01:59:30.764Z"
   },
   {
    "duration": 367,
    "start_time": "2024-07-13T01:59:30.807Z"
   },
   {
    "duration": 125,
    "start_time": "2024-07-13T02:01:26.011Z"
   },
   {
    "duration": 250,
    "start_time": "2024-07-13T02:01:48.858Z"
   },
   {
    "duration": 1070,
    "start_time": "2024-07-13T02:05:24.883Z"
   },
   {
    "duration": 14,
    "start_time": "2024-07-13T02:07:11.819Z"
   },
   {
    "duration": 16,
    "start_time": "2024-07-13T02:07:57.956Z"
   },
   {
    "duration": 264,
    "start_time": "2024-07-13T02:08:08.611Z"
   },
   {
    "duration": 1353,
    "start_time": "2024-07-13T02:09:51.924Z"
   },
   {
    "duration": 258,
    "start_time": "2024-07-13T02:10:06.518Z"
   },
   {
    "duration": 338,
    "start_time": "2024-07-13T02:10:43.430Z"
   },
   {
    "duration": 530,
    "start_time": "2024-07-13T02:16:06.735Z"
   },
   {
    "duration": 510,
    "start_time": "2024-07-13T02:16:44.117Z"
   },
   {
    "duration": 252,
    "start_time": "2024-07-13T02:17:06.642Z"
   },
   {
    "duration": 1057,
    "start_time": "2024-07-13T02:28:14.928Z"
   },
   {
    "duration": 791,
    "start_time": "2024-07-13T02:35:55.966Z"
   },
   {
    "duration": 745,
    "start_time": "2024-07-13T02:36:09.639Z"
   },
   {
    "duration": 45,
    "start_time": "2024-07-13T10:36:58.677Z"
   },
   {
    "duration": 1316,
    "start_time": "2024-07-13T10:37:06.669Z"
   },
   {
    "duration": 225,
    "start_time": "2024-07-13T10:37:07.987Z"
   },
   {
    "duration": 17,
    "start_time": "2024-07-13T10:37:08.213Z"
   },
   {
    "duration": 14,
    "start_time": "2024-07-13T10:37:08.231Z"
   },
   {
    "duration": 19,
    "start_time": "2024-07-13T10:37:08.247Z"
   },
   {
    "duration": 25,
    "start_time": "2024-07-13T10:37:08.267Z"
   },
   {
    "duration": 9,
    "start_time": "2024-07-13T10:37:08.293Z"
   },
   {
    "duration": 35,
    "start_time": "2024-07-13T10:37:08.303Z"
   },
   {
    "duration": 11,
    "start_time": "2024-07-13T10:37:08.340Z"
   },
   {
    "duration": 7,
    "start_time": "2024-07-13T10:37:08.352Z"
   },
   {
    "duration": 37,
    "start_time": "2024-07-13T10:37:08.360Z"
   },
   {
    "duration": 22,
    "start_time": "2024-07-13T10:37:08.398Z"
   },
   {
    "duration": 15,
    "start_time": "2024-07-13T10:37:08.421Z"
   },
   {
    "duration": 13,
    "start_time": "2024-07-13T10:37:08.438Z"
   },
   {
    "duration": 172,
    "start_time": "2024-07-13T10:37:08.452Z"
   },
   {
    "duration": 287,
    "start_time": "2024-07-13T10:37:08.626Z"
   },
   {
    "duration": 12,
    "start_time": "2024-07-13T10:37:08.915Z"
   },
   {
    "duration": 270,
    "start_time": "2024-07-13T10:37:08.928Z"
   },
   {
    "duration": 319,
    "start_time": "2024-07-13T10:37:09.199Z"
   },
   {
    "duration": 35,
    "start_time": "2024-07-13T10:37:09.520Z"
   },
   {
    "duration": 28,
    "start_time": "2024-07-13T10:37:09.557Z"
   },
   {
    "duration": 8,
    "start_time": "2024-07-13T10:37:09.586Z"
   },
   {
    "duration": 20,
    "start_time": "2024-07-13T10:37:09.596Z"
   },
   {
    "duration": 334,
    "start_time": "2024-07-13T10:37:09.618Z"
   },
   {
    "duration": 680,
    "start_time": "2024-07-13T10:37:09.954Z"
   },
   {
    "duration": 648,
    "start_time": "2024-07-13T10:38:05.998Z"
   },
   {
    "duration": 64,
    "start_time": "2024-07-13T10:42:07.181Z"
   },
   {
    "duration": 63,
    "start_time": "2024-07-13T10:42:45.804Z"
   },
   {
    "duration": 695,
    "start_time": "2024-07-13T10:43:01.539Z"
   },
   {
    "duration": 644,
    "start_time": "2024-07-13T10:45:13.659Z"
   },
   {
    "duration": 593,
    "start_time": "2024-07-13T10:45:38.989Z"
   },
   {
    "duration": 728,
    "start_time": "2024-07-13T10:49:19.519Z"
   },
   {
    "duration": 610,
    "start_time": "2024-07-13T10:50:05.088Z"
   },
   {
    "duration": 724,
    "start_time": "2024-07-13T10:50:54.764Z"
   },
   {
    "duration": 717,
    "start_time": "2024-07-13T10:51:44.046Z"
   },
   {
    "duration": 759,
    "start_time": "2024-07-13T10:52:37.837Z"
   },
   {
    "duration": 9,
    "start_time": "2024-07-13T11:05:03.107Z"
   },
   {
    "duration": 19,
    "start_time": "2024-07-13T11:05:28.182Z"
   },
   {
    "duration": 81,
    "start_time": "2024-07-13T11:08:01.452Z"
   },
   {
    "duration": 20,
    "start_time": "2024-07-13T11:09:13.141Z"
   },
   {
    "duration": 66,
    "start_time": "2024-07-13T11:09:53.804Z"
   },
   {
    "duration": 82,
    "start_time": "2024-07-13T11:10:20.991Z"
   },
   {
    "duration": 69,
    "start_time": "2024-07-13T11:10:41.032Z"
   },
   {
    "duration": 70,
    "start_time": "2024-07-13T11:11:24.930Z"
   },
   {
    "duration": 227,
    "start_time": "2024-07-13T11:12:57.742Z"
   },
   {
    "duration": 232,
    "start_time": "2024-07-13T11:13:50.142Z"
   },
   {
    "duration": 220,
    "start_time": "2024-07-13T11:14:04.191Z"
   },
   {
    "duration": 247,
    "start_time": "2024-07-13T11:14:25.579Z"
   },
   {
    "duration": 380,
    "start_time": "2024-07-13T11:15:21.958Z"
   },
   {
    "duration": 873,
    "start_time": "2024-07-13T11:39:04.659Z"
   },
   {
    "duration": 11,
    "start_time": "2024-07-13T11:39:33.138Z"
   },
   {
    "duration": 8,
    "start_time": "2024-07-13T11:39:41.198Z"
   },
   {
    "duration": 7,
    "start_time": "2024-07-13T11:45:34.990Z"
   },
   {
    "duration": 22,
    "start_time": "2024-07-13T11:50:07.573Z"
   },
   {
    "duration": 10,
    "start_time": "2024-07-13T11:50:40.550Z"
   },
   {
    "duration": 14,
    "start_time": "2024-07-13T11:50:45.066Z"
   },
   {
    "duration": 12,
    "start_time": "2024-07-13T11:51:36.244Z"
   },
   {
    "duration": 17,
    "start_time": "2024-07-13T11:51:55.598Z"
   },
   {
    "duration": 13,
    "start_time": "2024-07-13T11:52:06.260Z"
   },
   {
    "duration": 12,
    "start_time": "2024-07-13T11:52:42.420Z"
   },
   {
    "duration": 15,
    "start_time": "2024-07-13T11:53:07.882Z"
   },
   {
    "duration": 15,
    "start_time": "2024-07-13T12:08:28.900Z"
   },
   {
    "duration": 13,
    "start_time": "2024-07-13T12:09:18.650Z"
   },
   {
    "duration": 12,
    "start_time": "2024-07-13T12:10:17.081Z"
   },
   {
    "duration": 13,
    "start_time": "2024-07-13T12:11:04.819Z"
   },
   {
    "duration": 13,
    "start_time": "2024-07-13T12:11:30.361Z"
   },
   {
    "duration": 52,
    "start_time": "2024-07-15T18:44:55.098Z"
   },
   {
    "duration": 1583,
    "start_time": "2024-07-15T18:45:11.747Z"
   },
   {
    "duration": 202,
    "start_time": "2024-07-15T18:45:13.332Z"
   },
   {
    "duration": 19,
    "start_time": "2024-07-15T18:45:13.535Z"
   },
   {
    "duration": 15,
    "start_time": "2024-07-15T18:45:13.556Z"
   },
   {
    "duration": 33,
    "start_time": "2024-07-15T18:45:13.572Z"
   },
   {
    "duration": 20,
    "start_time": "2024-07-15T18:45:13.607Z"
   },
   {
    "duration": 10,
    "start_time": "2024-07-15T18:45:13.629Z"
   },
   {
    "duration": 20,
    "start_time": "2024-07-15T18:45:13.642Z"
   },
   {
    "duration": 44,
    "start_time": "2024-07-15T18:45:13.663Z"
   },
   {
    "duration": 123,
    "start_time": "2024-07-15T18:45:13.710Z"
   },
   {
    "duration": 41,
    "start_time": "2024-07-15T18:45:13.835Z"
   },
   {
    "duration": 45,
    "start_time": "2024-07-15T18:45:13.878Z"
   },
   {
    "duration": 28,
    "start_time": "2024-07-15T18:45:13.930Z"
   },
   {
    "duration": 20,
    "start_time": "2024-07-15T18:45:13.963Z"
   },
   {
    "duration": 252,
    "start_time": "2024-07-15T18:45:13.985Z"
   },
   {
    "duration": 407,
    "start_time": "2024-07-15T18:45:14.240Z"
   },
   {
    "duration": 13,
    "start_time": "2024-07-15T18:45:14.650Z"
   },
   {
    "duration": 446,
    "start_time": "2024-07-15T18:45:14.665Z"
   },
   {
    "duration": 441,
    "start_time": "2024-07-15T18:45:15.115Z"
   },
   {
    "duration": 65,
    "start_time": "2024-07-15T18:45:15.558Z"
   },
   {
    "duration": 28,
    "start_time": "2024-07-15T18:45:15.625Z"
   },
   {
    "duration": 8,
    "start_time": "2024-07-15T18:45:15.655Z"
   },
   {
    "duration": 48,
    "start_time": "2024-07-15T18:45:15.665Z"
   },
   {
    "duration": 462,
    "start_time": "2024-07-15T18:45:15.718Z"
   },
   {
    "duration": 144,
    "start_time": "2024-07-15T18:45:16.188Z"
   },
   {
    "duration": 0,
    "start_time": "2024-07-15T18:45:16.334Z"
   },
   {
    "duration": 0,
    "start_time": "2024-07-15T18:45:16.336Z"
   },
   {
    "duration": 0,
    "start_time": "2024-07-15T18:45:16.337Z"
   },
   {
    "duration": 0,
    "start_time": "2024-07-15T18:45:16.338Z"
   },
   {
    "duration": 0,
    "start_time": "2024-07-15T18:45:16.340Z"
   },
   {
    "duration": 0,
    "start_time": "2024-07-15T18:45:16.340Z"
   },
   {
    "duration": 0,
    "start_time": "2024-07-15T18:45:16.342Z"
   },
   {
    "duration": 0,
    "start_time": "2024-07-15T18:45:16.343Z"
   },
   {
    "duration": 0,
    "start_time": "2024-07-15T18:45:16.344Z"
   },
   {
    "duration": 0,
    "start_time": "2024-07-15T18:45:16.345Z"
   },
   {
    "duration": 0,
    "start_time": "2024-07-15T18:45:16.346Z"
   },
   {
    "duration": 0,
    "start_time": "2024-07-15T18:45:16.347Z"
   },
   {
    "duration": 0,
    "start_time": "2024-07-15T18:45:16.348Z"
   },
   {
    "duration": 0,
    "start_time": "2024-07-15T18:45:16.350Z"
   },
   {
    "duration": 0,
    "start_time": "2024-07-15T18:45:16.351Z"
   },
   {
    "duration": 0,
    "start_time": "2024-07-15T18:45:16.352Z"
   },
   {
    "duration": 0,
    "start_time": "2024-07-15T18:45:16.353Z"
   },
   {
    "duration": 0,
    "start_time": "2024-07-15T18:45:16.354Z"
   },
   {
    "duration": 1262,
    "start_time": "2024-07-15T18:46:07.908Z"
   },
   {
    "duration": 78,
    "start_time": "2024-07-15T18:46:09.173Z"
   },
   {
    "duration": 17,
    "start_time": "2024-07-15T18:46:09.253Z"
   },
   {
    "duration": 23,
    "start_time": "2024-07-15T18:46:09.272Z"
   },
   {
    "duration": 15,
    "start_time": "2024-07-15T18:46:09.297Z"
   },
   {
    "duration": 56,
    "start_time": "2024-07-15T18:46:09.313Z"
   },
   {
    "duration": 12,
    "start_time": "2024-07-15T18:46:09.370Z"
   },
   {
    "duration": 27,
    "start_time": "2024-07-15T18:46:16.462Z"
   },
   {
    "duration": 22,
    "start_time": "2024-07-15T18:46:16.557Z"
   },
   {
    "duration": 11,
    "start_time": "2024-07-15T18:46:16.582Z"
   },
   {
    "duration": 37,
    "start_time": "2024-07-15T18:46:46.257Z"
   },
   {
    "duration": 21,
    "start_time": "2024-07-15T18:47:29.599Z"
   },
   {
    "duration": 17,
    "start_time": "2024-07-15T18:47:29.622Z"
   },
   {
    "duration": 396,
    "start_time": "2024-07-15T18:47:36.120Z"
   },
   {
    "duration": 40,
    "start_time": "2024-07-15T18:47:36.519Z"
   },
   {
    "duration": 21,
    "start_time": "2024-07-15T18:47:36.561Z"
   },
   {
    "duration": 7,
    "start_time": "2024-07-15T18:47:36.584Z"
   },
   {
    "duration": 26,
    "start_time": "2024-07-15T18:47:36.593Z"
   },
   {
    "duration": 387,
    "start_time": "2024-07-15T18:47:36.622Z"
   },
   {
    "duration": 794,
    "start_time": "2024-07-15T18:47:37.011Z"
   },
   {
    "duration": 759,
    "start_time": "2024-07-15T18:47:37.807Z"
   },
   {
    "duration": 836,
    "start_time": "2024-07-15T18:47:38.568Z"
   },
   {
    "duration": 778,
    "start_time": "2024-07-15T18:47:39.406Z"
   },
   {
    "duration": 742,
    "start_time": "2024-07-15T18:47:40.186Z"
   },
   {
    "duration": 989,
    "start_time": "2024-07-15T18:47:40.929Z"
   },
   {
    "duration": 750,
    "start_time": "2024-07-15T18:47:41.921Z"
   },
   {
    "duration": 26,
    "start_time": "2024-07-15T18:47:42.673Z"
   },
   {
    "duration": 301,
    "start_time": "2024-07-15T18:47:42.701Z"
   },
   {
    "duration": 10,
    "start_time": "2024-07-15T18:47:43.004Z"
   },
   {
    "duration": 13,
    "start_time": "2024-07-15T18:47:43.029Z"
   },
   {
    "duration": 43,
    "start_time": "2024-07-15T18:47:43.044Z"
   },
   {
    "duration": 17,
    "start_time": "2024-07-15T18:47:43.089Z"
   },
   {
    "duration": 14,
    "start_time": "2024-07-15T18:47:43.107Z"
   },
   {
    "duration": 14,
    "start_time": "2024-07-15T18:47:43.122Z"
   },
   {
    "duration": 48,
    "start_time": "2024-07-15T18:47:43.138Z"
   },
   {
    "duration": 18,
    "start_time": "2024-07-15T18:47:43.190Z"
   },
   {
    "duration": 12,
    "start_time": "2024-07-15T18:47:43.210Z"
   },
   {
    "duration": 13,
    "start_time": "2024-07-15T18:47:43.223Z"
   },
   {
    "duration": 1240,
    "start_time": "2024-07-15T18:48:11.848Z"
   },
   {
    "duration": 56,
    "start_time": "2024-07-15T18:48:13.090Z"
   },
   {
    "duration": 26,
    "start_time": "2024-07-15T18:48:13.155Z"
   },
   {
    "duration": 20,
    "start_time": "2024-07-15T18:48:13.184Z"
   },
   {
    "duration": 18,
    "start_time": "2024-07-15T18:48:13.206Z"
   },
   {
    "duration": 26,
    "start_time": "2024-07-15T18:48:13.226Z"
   },
   {
    "duration": 41,
    "start_time": "2024-07-15T18:48:13.254Z"
   },
   {
    "duration": 33,
    "start_time": "2024-07-15T18:48:13.297Z"
   },
   {
    "duration": 5458,
    "start_time": "2024-07-15T18:48:13.332Z"
   },
   {
    "duration": 6161,
    "start_time": "2024-07-15T18:48:18.793Z"
   },
   {
    "duration": 93,
    "start_time": "2024-07-15T18:48:24.956Z"
   },
   {
    "duration": 21,
    "start_time": "2024-07-15T18:48:25.051Z"
   },
   {
    "duration": 18,
    "start_time": "2024-07-15T18:48:25.074Z"
   },
   {
    "duration": 17,
    "start_time": "2024-07-15T18:48:25.094Z"
   },
   {
    "duration": 202,
    "start_time": "2024-07-15T18:48:25.113Z"
   },
   {
    "duration": 350,
    "start_time": "2024-07-15T18:48:25.317Z"
   },
   {
    "duration": 21,
    "start_time": "2024-07-15T18:48:25.669Z"
   },
   {
    "duration": 353,
    "start_time": "2024-07-15T18:48:25.692Z"
   },
   {
    "duration": 470,
    "start_time": "2024-07-15T18:48:26.047Z"
   },
   {
    "duration": 51,
    "start_time": "2024-07-15T18:48:26.519Z"
   },
   {
    "duration": 23,
    "start_time": "2024-07-15T18:48:26.572Z"
   },
   {
    "duration": 8,
    "start_time": "2024-07-15T18:48:26.596Z"
   },
   {
    "duration": 43,
    "start_time": "2024-07-15T18:48:26.606Z"
   },
   {
    "duration": 389,
    "start_time": "2024-07-15T18:48:26.651Z"
   },
   {
    "duration": 823,
    "start_time": "2024-07-15T18:48:27.042Z"
   },
   {
    "duration": 902,
    "start_time": "2024-07-15T18:48:27.868Z"
   },
   {
    "duration": 991,
    "start_time": "2024-07-15T18:48:28.772Z"
   },
   {
    "duration": 944,
    "start_time": "2024-07-15T18:48:29.767Z"
   },
   {
    "duration": 878,
    "start_time": "2024-07-15T18:48:30.713Z"
   },
   {
    "duration": 4576,
    "start_time": "2024-07-15T18:48:31.593Z"
   },
   {
    "duration": 934,
    "start_time": "2024-07-15T18:48:36.170Z"
   },
   {
    "duration": 38,
    "start_time": "2024-07-15T18:48:37.106Z"
   },
   {
    "duration": 354,
    "start_time": "2024-07-15T18:48:37.146Z"
   },
   {
    "duration": 12,
    "start_time": "2024-07-15T18:48:37.503Z"
   },
   {
    "duration": 15,
    "start_time": "2024-07-15T18:48:37.516Z"
   },
   {
    "duration": 20,
    "start_time": "2024-07-15T18:48:37.533Z"
   },
   {
    "duration": 35,
    "start_time": "2024-07-15T18:48:37.555Z"
   },
   {
    "duration": 24,
    "start_time": "2024-07-15T18:48:37.592Z"
   },
   {
    "duration": 14,
    "start_time": "2024-07-15T18:48:37.618Z"
   },
   {
    "duration": 16,
    "start_time": "2024-07-15T18:48:37.634Z"
   },
   {
    "duration": 46,
    "start_time": "2024-07-15T18:48:37.651Z"
   },
   {
    "duration": 24,
    "start_time": "2024-07-15T18:48:37.699Z"
   },
   {
    "duration": 102,
    "start_time": "2024-07-15T18:48:37.725Z"
   },
   {
    "duration": 15,
    "start_time": "2024-07-15T18:49:42.392Z"
   },
   {
    "duration": 17,
    "start_time": "2024-07-15T18:50:34.933Z"
   },
   {
    "duration": 16,
    "start_time": "2024-07-15T18:51:33.287Z"
   },
   {
    "duration": 15,
    "start_time": "2024-07-15T18:51:54.335Z"
   },
   {
    "duration": 16,
    "start_time": "2024-07-15T18:52:27.554Z"
   },
   {
    "duration": 120,
    "start_time": "2024-07-15T19:26:32.855Z"
   },
   {
    "duration": 1217,
    "start_time": "2024-07-15T19:26:40.710Z"
   },
   {
    "duration": 70,
    "start_time": "2024-07-15T19:26:41.930Z"
   },
   {
    "duration": 25,
    "start_time": "2024-07-15T19:26:42.003Z"
   },
   {
    "duration": 15,
    "start_time": "2024-07-15T19:26:42.030Z"
   },
   {
    "duration": 39,
    "start_time": "2024-07-15T19:26:42.047Z"
   },
   {
    "duration": 17,
    "start_time": "2024-07-15T19:26:42.089Z"
   },
   {
    "duration": 9,
    "start_time": "2024-07-15T19:26:42.109Z"
   },
   {
    "duration": 30,
    "start_time": "2024-07-15T19:26:42.120Z"
   },
   {
    "duration": 49,
    "start_time": "2024-07-15T19:26:42.153Z"
   },
   {
    "duration": 11,
    "start_time": "2024-07-15T19:26:42.205Z"
   },
   {
    "duration": 34,
    "start_time": "2024-07-15T19:26:42.218Z"
   },
   {
    "duration": 42,
    "start_time": "2024-07-15T19:26:42.254Z"
   },
   {
    "duration": 17,
    "start_time": "2024-07-15T19:26:42.298Z"
   },
   {
    "duration": 16,
    "start_time": "2024-07-15T19:26:42.317Z"
   },
   {
    "duration": 218,
    "start_time": "2024-07-15T19:26:42.335Z"
   },
   {
    "duration": 361,
    "start_time": "2024-07-15T19:26:42.554Z"
   },
   {
    "duration": 13,
    "start_time": "2024-07-15T19:26:42.917Z"
   },
   {
    "duration": 315,
    "start_time": "2024-07-15T19:26:42.931Z"
   },
   {
    "duration": 368,
    "start_time": "2024-07-15T19:26:43.248Z"
   },
   {
    "duration": 39,
    "start_time": "2024-07-15T19:26:43.618Z"
   },
   {
    "duration": 25,
    "start_time": "2024-07-15T19:26:43.658Z"
   },
   {
    "duration": 7,
    "start_time": "2024-07-15T19:26:43.685Z"
   },
   {
    "duration": 23,
    "start_time": "2024-07-15T19:26:43.693Z"
   },
   {
    "duration": 433,
    "start_time": "2024-07-15T19:26:43.718Z"
   },
   {
    "duration": 841,
    "start_time": "2024-07-15T19:26:44.153Z"
   },
   {
    "duration": 731,
    "start_time": "2024-07-15T19:26:44.996Z"
   },
   {
    "duration": 909,
    "start_time": "2024-07-15T19:26:45.728Z"
   },
   {
    "duration": 725,
    "start_time": "2024-07-15T19:26:46.641Z"
   },
   {
    "duration": 759,
    "start_time": "2024-07-15T19:26:47.368Z"
   },
   {
    "duration": 1003,
    "start_time": "2024-07-15T19:26:48.129Z"
   },
   {
    "duration": 751,
    "start_time": "2024-07-15T19:26:49.134Z"
   },
   {
    "duration": 29,
    "start_time": "2024-07-15T19:26:49.887Z"
   },
   {
    "duration": 330,
    "start_time": "2024-07-15T19:26:49.918Z"
   },
   {
    "duration": 11,
    "start_time": "2024-07-15T19:26:50.250Z"
   },
   {
    "duration": 28,
    "start_time": "2024-07-15T19:26:50.262Z"
   },
   {
    "duration": 14,
    "start_time": "2024-07-15T19:26:50.292Z"
   },
   {
    "duration": 13,
    "start_time": "2024-07-15T19:26:50.307Z"
   },
   {
    "duration": 17,
    "start_time": "2024-07-15T19:26:50.322Z"
   },
   {
    "duration": 43,
    "start_time": "2024-07-15T19:26:50.341Z"
   },
   {
    "duration": 35,
    "start_time": "2024-07-15T19:26:50.386Z"
   },
   {
    "duration": 13,
    "start_time": "2024-07-15T19:26:50.423Z"
   },
   {
    "duration": 12,
    "start_time": "2024-07-15T19:26:50.438Z"
   },
   {
    "duration": 13,
    "start_time": "2024-07-15T19:26:50.452Z"
   },
   {
    "duration": 25,
    "start_time": "2024-07-15T19:26:50.467Z"
   },
   {
    "duration": 28,
    "start_time": "2024-07-15T19:26:50.494Z"
   },
   {
    "duration": 12,
    "start_time": "2024-07-15T19:26:50.524Z"
   },
   {
    "duration": 122,
    "start_time": "2024-07-15T19:26:50.538Z"
   },
   {
    "duration": 7,
    "start_time": "2024-07-15T19:27:14.065Z"
   },
   {
    "duration": 7,
    "start_time": "2024-07-15T19:28:27.680Z"
   },
   {
    "duration": 8,
    "start_time": "2024-07-15T19:29:04.608Z"
   },
   {
    "duration": 8,
    "start_time": "2024-07-15T19:34:22.735Z"
   },
   {
    "duration": 1168,
    "start_time": "2024-07-15T20:19:19.471Z"
   },
   {
    "duration": 61,
    "start_time": "2024-07-15T20:19:20.641Z"
   },
   {
    "duration": 17,
    "start_time": "2024-07-15T20:19:20.704Z"
   },
   {
    "duration": 15,
    "start_time": "2024-07-15T20:19:20.722Z"
   },
   {
    "duration": 15,
    "start_time": "2024-07-15T20:19:20.739Z"
   },
   {
    "duration": 16,
    "start_time": "2024-07-15T20:19:20.755Z"
   },
   {
    "duration": 36,
    "start_time": "2024-07-15T20:19:20.772Z"
   },
   {
    "duration": 19,
    "start_time": "2024-07-15T20:19:20.809Z"
   },
   {
    "duration": 13,
    "start_time": "2024-07-15T20:19:20.829Z"
   },
   {
    "duration": 7,
    "start_time": "2024-07-15T20:19:20.844Z"
   },
   {
    "duration": 56,
    "start_time": "2024-07-15T20:19:20.853Z"
   },
   {
    "duration": 18,
    "start_time": "2024-07-15T20:19:20.911Z"
   },
   {
    "duration": 17,
    "start_time": "2024-07-15T20:19:20.931Z"
   },
   {
    "duration": 14,
    "start_time": "2024-07-15T20:19:20.951Z"
   },
   {
    "duration": 201,
    "start_time": "2024-07-15T20:19:20.967Z"
   },
   {
    "duration": 321,
    "start_time": "2024-07-15T20:19:21.170Z"
   },
   {
    "duration": 21,
    "start_time": "2024-07-15T20:19:21.492Z"
   },
   {
    "duration": 302,
    "start_time": "2024-07-15T20:19:21.514Z"
   },
   {
    "duration": 371,
    "start_time": "2024-07-15T20:19:21.817Z"
   },
   {
    "duration": 37,
    "start_time": "2024-07-15T20:19:22.190Z"
   },
   {
    "duration": 21,
    "start_time": "2024-07-15T20:19:22.229Z"
   },
   {
    "duration": 14,
    "start_time": "2024-07-15T20:19:22.252Z"
   },
   {
    "duration": 44,
    "start_time": "2024-07-15T20:19:22.267Z"
   },
   {
    "duration": 348,
    "start_time": "2024-07-15T20:19:22.312Z"
   },
   {
    "duration": 774,
    "start_time": "2024-07-15T20:19:22.662Z"
   },
   {
    "duration": 704,
    "start_time": "2024-07-15T20:19:23.438Z"
   },
   {
    "duration": 815,
    "start_time": "2024-07-15T20:19:24.143Z"
   },
   {
    "duration": 707,
    "start_time": "2024-07-15T20:19:24.960Z"
   },
   {
    "duration": 711,
    "start_time": "2024-07-15T20:19:25.669Z"
   },
   {
    "duration": 978,
    "start_time": "2024-07-15T20:19:26.381Z"
   },
   {
    "duration": 740,
    "start_time": "2024-07-15T20:19:27.360Z"
   },
   {
    "duration": 22,
    "start_time": "2024-07-15T20:19:28.102Z"
   },
   {
    "duration": 292,
    "start_time": "2024-07-15T20:19:28.126Z"
   },
   {
    "duration": 11,
    "start_time": "2024-07-15T20:19:28.420Z"
   },
   {
    "duration": 14,
    "start_time": "2024-07-15T20:19:28.432Z"
   },
   {
    "duration": 13,
    "start_time": "2024-07-15T20:19:28.447Z"
   },
   {
    "duration": 44,
    "start_time": "2024-07-15T20:19:28.463Z"
   },
   {
    "duration": 14,
    "start_time": "2024-07-15T20:19:28.510Z"
   },
   {
    "duration": 14,
    "start_time": "2024-07-15T20:19:28.526Z"
   },
   {
    "duration": 13,
    "start_time": "2024-07-15T20:19:28.541Z"
   },
   {
    "duration": 14,
    "start_time": "2024-07-15T20:19:28.558Z"
   },
   {
    "duration": 14,
    "start_time": "2024-07-15T20:19:28.608Z"
   },
   {
    "duration": 13,
    "start_time": "2024-07-15T20:19:28.623Z"
   },
   {
    "duration": 13,
    "start_time": "2024-07-15T20:19:28.638Z"
   },
   {
    "duration": 13,
    "start_time": "2024-07-15T20:19:28.653Z"
   },
   {
    "duration": 45,
    "start_time": "2024-07-15T20:19:28.668Z"
   },
   {
    "duration": 55,
    "start_time": "2024-07-15T20:19:28.714Z"
   },
   {
    "duration": 20,
    "start_time": "2024-07-15T20:19:28.771Z"
   },
   {
    "duration": 89,
    "start_time": "2024-07-15T21:58:29.747Z"
   },
   {
    "duration": 1256,
    "start_time": "2024-07-15T21:58:53.078Z"
   },
   {
    "duration": 63,
    "start_time": "2024-07-15T21:58:54.335Z"
   },
   {
    "duration": 19,
    "start_time": "2024-07-15T21:58:54.402Z"
   },
   {
    "duration": 16,
    "start_time": "2024-07-15T21:58:54.423Z"
   },
   {
    "duration": 16,
    "start_time": "2024-07-15T21:58:54.440Z"
   },
   {
    "duration": 23,
    "start_time": "2024-07-15T21:58:54.458Z"
   },
   {
    "duration": 15,
    "start_time": "2024-07-15T21:58:54.508Z"
   },
   {
    "duration": 36,
    "start_time": "2024-07-15T21:58:54.525Z"
   },
   {
    "duration": 14,
    "start_time": "2024-07-15T21:58:54.563Z"
   },
   {
    "duration": 8,
    "start_time": "2024-07-15T21:58:54.578Z"
   },
   {
    "duration": 43,
    "start_time": "2024-07-15T21:58:54.587Z"
   },
   {
    "duration": 19,
    "start_time": "2024-07-15T21:58:54.631Z"
   },
   {
    "duration": 16,
    "start_time": "2024-07-15T21:58:54.653Z"
   },
   {
    "duration": 38,
    "start_time": "2024-07-15T21:58:54.671Z"
   },
   {
    "duration": 98,
    "start_time": "2024-07-15T21:58:54.710Z"
   },
   {
    "duration": 177,
    "start_time": "2024-07-15T21:58:54.810Z"
   },
   {
    "duration": 316,
    "start_time": "2024-07-15T21:58:54.989Z"
   },
   {
    "duration": 14,
    "start_time": "2024-07-15T21:58:55.307Z"
   },
   {
    "duration": 308,
    "start_time": "2024-07-15T21:58:55.322Z"
   },
   {
    "duration": 341,
    "start_time": "2024-07-15T21:58:55.631Z"
   },
   {
    "duration": 45,
    "start_time": "2024-07-15T21:58:55.974Z"
   },
   {
    "duration": 20,
    "start_time": "2024-07-15T21:58:56.021Z"
   },
   {
    "duration": 25,
    "start_time": "2024-07-15T21:58:56.042Z"
   },
   {
    "duration": 30,
    "start_time": "2024-07-15T21:58:56.068Z"
   },
   {
    "duration": 360,
    "start_time": "2024-07-15T21:58:56.100Z"
   },
   {
    "duration": 766,
    "start_time": "2024-07-15T21:58:56.462Z"
   },
   {
    "duration": 764,
    "start_time": "2024-07-15T21:58:57.230Z"
   },
   {
    "duration": 839,
    "start_time": "2024-07-15T21:58:57.996Z"
   },
   {
    "duration": 715,
    "start_time": "2024-07-15T21:58:58.837Z"
   },
   {
    "duration": 729,
    "start_time": "2024-07-15T21:58:59.554Z"
   },
   {
    "duration": 1007,
    "start_time": "2024-07-15T21:59:00.285Z"
   },
   {
    "duration": 757,
    "start_time": "2024-07-15T21:59:01.294Z"
   },
   {
    "duration": 22,
    "start_time": "2024-07-15T21:59:02.053Z"
   },
   {
    "duration": 339,
    "start_time": "2024-07-15T21:59:02.077Z"
   },
   {
    "duration": 11,
    "start_time": "2024-07-15T21:59:02.418Z"
   },
   {
    "duration": 13,
    "start_time": "2024-07-15T21:59:02.431Z"
   },
   {
    "duration": 12,
    "start_time": "2024-07-15T21:59:02.446Z"
   },
   {
    "duration": 23,
    "start_time": "2024-07-15T21:59:02.460Z"
   },
   {
    "duration": 19,
    "start_time": "2024-07-15T21:59:02.507Z"
   },
   {
    "duration": 16,
    "start_time": "2024-07-15T21:59:02.532Z"
   },
   {
    "duration": 14,
    "start_time": "2024-07-15T21:59:02.549Z"
   },
   {
    "duration": 43,
    "start_time": "2024-07-15T21:59:02.565Z"
   },
   {
    "duration": 14,
    "start_time": "2024-07-15T21:59:02.610Z"
   },
   {
    "duration": 25,
    "start_time": "2024-07-15T21:59:02.626Z"
   },
   {
    "duration": 40,
    "start_time": "2024-07-15T21:59:02.653Z"
   },
   {
    "duration": 13,
    "start_time": "2024-07-15T21:59:02.695Z"
   },
   {
    "duration": 14,
    "start_time": "2024-07-15T21:59:02.710Z"
   },
   {
    "duration": 23,
    "start_time": "2024-07-15T21:59:02.725Z"
   },
   {
    "duration": 12,
    "start_time": "2024-07-15T21:59:02.750Z"
   },
   {
    "duration": 51,
    "start_time": "2024-07-16T20:02:49.558Z"
   },
   {
    "duration": 1352,
    "start_time": "2024-07-16T20:03:15.348Z"
   },
   {
    "duration": 173,
    "start_time": "2024-07-16T20:03:16.702Z"
   },
   {
    "duration": 19,
    "start_time": "2024-07-16T20:03:16.877Z"
   },
   {
    "duration": 16,
    "start_time": "2024-07-16T20:03:16.898Z"
   },
   {
    "duration": 29,
    "start_time": "2024-07-16T20:03:16.916Z"
   },
   {
    "duration": 25,
    "start_time": "2024-07-16T20:03:16.947Z"
   },
   {
    "duration": 10,
    "start_time": "2024-07-16T20:03:16.974Z"
   },
   {
    "duration": 98,
    "start_time": "2024-07-16T20:03:16.985Z"
   },
   {
    "duration": 13,
    "start_time": "2024-07-16T20:03:17.084Z"
   },
   {
    "duration": 8,
    "start_time": "2024-07-16T20:03:17.099Z"
   },
   {
    "duration": 45,
    "start_time": "2024-07-16T20:03:17.108Z"
   },
   {
    "duration": 25,
    "start_time": "2024-07-16T20:03:17.155Z"
   },
   {
    "duration": 18,
    "start_time": "2024-07-16T20:03:17.182Z"
   },
   {
    "duration": 15,
    "start_time": "2024-07-16T20:03:17.201Z"
   },
   {
    "duration": 101,
    "start_time": "2024-07-16T20:03:17.218Z"
   },
   {
    "duration": 406,
    "start_time": "2024-07-16T20:03:17.321Z"
   },
   {
    "duration": 335,
    "start_time": "2024-07-16T20:03:17.729Z"
   },
   {
    "duration": 13,
    "start_time": "2024-07-16T20:03:18.065Z"
   },
   {
    "duration": 291,
    "start_time": "2024-07-16T20:03:18.079Z"
   },
   {
    "duration": 353,
    "start_time": "2024-07-16T20:03:18.371Z"
   },
   {
    "duration": 103,
    "start_time": "2024-07-16T20:03:18.726Z"
   },
   {
    "duration": 27,
    "start_time": "2024-07-16T20:03:18.831Z"
   },
   {
    "duration": 7,
    "start_time": "2024-07-16T20:03:18.859Z"
   },
   {
    "duration": 32,
    "start_time": "2024-07-16T20:03:18.868Z"
   },
   {
    "duration": 281,
    "start_time": "2024-07-16T20:03:18.901Z"
   },
   {
    "duration": 749,
    "start_time": "2024-07-16T20:03:19.184Z"
   },
   {
    "duration": 696,
    "start_time": "2024-07-16T20:03:19.934Z"
   },
   {
    "duration": 803,
    "start_time": "2024-07-16T20:03:20.635Z"
   },
   {
    "duration": 689,
    "start_time": "2024-07-16T20:03:21.440Z"
   },
   {
    "duration": 665,
    "start_time": "2024-07-16T20:03:22.131Z"
   },
   {
    "duration": 911,
    "start_time": "2024-07-16T20:03:22.797Z"
   },
   {
    "duration": 664,
    "start_time": "2024-07-16T20:03:23.710Z"
   },
   {
    "duration": 29,
    "start_time": "2024-07-16T20:03:24.375Z"
   },
   {
    "duration": 274,
    "start_time": "2024-07-16T20:03:24.406Z"
   },
   {
    "duration": 10,
    "start_time": "2024-07-16T20:03:24.681Z"
   },
   {
    "duration": 11,
    "start_time": "2024-07-16T20:03:24.692Z"
   },
   {
    "duration": 12,
    "start_time": "2024-07-16T20:03:24.705Z"
   },
   {
    "duration": 16,
    "start_time": "2024-07-16T20:03:24.718Z"
   },
   {
    "duration": 12,
    "start_time": "2024-07-16T20:03:24.755Z"
   },
   {
    "duration": 13,
    "start_time": "2024-07-16T20:03:24.769Z"
   },
   {
    "duration": 13,
    "start_time": "2024-07-16T20:03:24.783Z"
   },
   {
    "duration": 12,
    "start_time": "2024-07-16T20:03:24.798Z"
   },
   {
    "duration": 45,
    "start_time": "2024-07-16T20:03:24.811Z"
   },
   {
    "duration": 12,
    "start_time": "2024-07-16T20:03:24.858Z"
   },
   {
    "duration": 15,
    "start_time": "2024-07-16T20:03:24.871Z"
   },
   {
    "duration": 13,
    "start_time": "2024-07-16T20:03:24.887Z"
   },
   {
    "duration": 12,
    "start_time": "2024-07-16T20:03:24.901Z"
   },
   {
    "duration": 8,
    "start_time": "2024-07-16T20:03:24.914Z"
   },
   {
    "duration": 6,
    "start_time": "2024-07-16T20:03:24.956Z"
   },
   {
    "duration": 462,
    "start_time": "2024-07-16T20:04:38.017Z"
   },
   {
    "duration": 102,
    "start_time": "2024-07-16T20:12:45.305Z"
   },
   {
    "duration": 262,
    "start_time": "2024-07-16T20:13:19.818Z"
   },
   {
    "duration": 12,
    "start_time": "2024-07-16T20:45:08.596Z"
   },
   {
    "duration": 21,
    "start_time": "2024-07-16T20:46:38.347Z"
   },
   {
    "duration": 13,
    "start_time": "2024-07-16T20:46:46.875Z"
   },
   {
    "duration": 13,
    "start_time": "2024-07-16T20:47:13.697Z"
   },
   {
    "duration": 16,
    "start_time": "2024-07-16T20:47:19.127Z"
   },
   {
    "duration": 1120,
    "start_time": "2024-07-16T20:53:34.395Z"
   },
   {
    "duration": 37,
    "start_time": "2024-07-16T21:21:29.259Z"
   },
   {
    "duration": 8,
    "start_time": "2024-07-16T21:22:04.952Z"
   },
   {
    "duration": 1123,
    "start_time": "2024-07-16T21:22:10.831Z"
   },
   {
    "duration": 13,
    "start_time": "2024-07-16T21:22:56.659Z"
   },
   {
    "duration": 14,
    "start_time": "2024-07-16T21:23:00.989Z"
   },
   {
    "duration": 1127,
    "start_time": "2024-07-16T21:23:04.486Z"
   },
   {
    "duration": 17,
    "start_time": "2024-07-16T21:23:57.660Z"
   },
   {
    "duration": 1176,
    "start_time": "2024-07-16T21:24:07.489Z"
   },
   {
    "duration": 57,
    "start_time": "2024-07-16T21:24:08.666Z"
   },
   {
    "duration": 18,
    "start_time": "2024-07-16T21:24:08.725Z"
   },
   {
    "duration": 15,
    "start_time": "2024-07-16T21:24:08.745Z"
   },
   {
    "duration": 14,
    "start_time": "2024-07-16T21:24:08.761Z"
   },
   {
    "duration": 16,
    "start_time": "2024-07-16T21:24:08.777Z"
   },
   {
    "duration": 10,
    "start_time": "2024-07-16T21:24:08.794Z"
   },
   {
    "duration": 21,
    "start_time": "2024-07-16T21:24:08.805Z"
   },
   {
    "duration": 13,
    "start_time": "2024-07-16T21:24:08.856Z"
   },
   {
    "duration": 7,
    "start_time": "2024-07-16T21:24:08.872Z"
   },
   {
    "duration": 25,
    "start_time": "2024-07-16T21:24:08.880Z"
   },
   {
    "duration": 18,
    "start_time": "2024-07-16T21:24:08.907Z"
   },
   {
    "duration": 40,
    "start_time": "2024-07-16T21:24:08.926Z"
   },
   {
    "duration": 15,
    "start_time": "2024-07-16T21:24:08.968Z"
   },
   {
    "duration": 96,
    "start_time": "2024-07-16T21:24:08.985Z"
   },
   {
    "duration": 376,
    "start_time": "2024-07-16T21:24:09.083Z"
   },
   {
    "duration": 316,
    "start_time": "2024-07-16T21:24:09.461Z"
   },
   {
    "duration": 13,
    "start_time": "2024-07-16T21:24:09.779Z"
   },
   {
    "duration": 292,
    "start_time": "2024-07-16T21:24:09.793Z"
   },
   {
    "duration": 338,
    "start_time": "2024-07-16T21:24:10.086Z"
   },
   {
    "duration": 107,
    "start_time": "2024-07-16T21:24:10.426Z"
   },
   {
    "duration": 30,
    "start_time": "2024-07-16T21:24:10.535Z"
   },
   {
    "duration": 16,
    "start_time": "2024-07-16T21:24:10.567Z"
   },
   {
    "duration": 23,
    "start_time": "2024-07-16T21:24:10.585Z"
   },
   {
    "duration": 254,
    "start_time": "2024-07-16T21:24:10.609Z"
   },
   {
    "duration": 274,
    "start_time": "2024-07-16T21:24:10.865Z"
   },
   {
    "duration": 25,
    "start_time": "2024-07-16T21:24:11.142Z"
   },
   {
    "duration": 13,
    "start_time": "2024-07-16T21:24:11.172Z"
   },
   {
    "duration": 1151,
    "start_time": "2024-07-16T21:24:11.187Z"
   },
   {
    "duration": 734,
    "start_time": "2024-07-16T21:24:12.340Z"
   },
   {
    "duration": 764,
    "start_time": "2024-07-16T21:24:13.076Z"
   },
   {
    "duration": 784,
    "start_time": "2024-07-16T21:24:13.842Z"
   },
   {
    "duration": 725,
    "start_time": "2024-07-16T21:24:14.627Z"
   },
   {
    "duration": 808,
    "start_time": "2024-07-16T21:24:15.354Z"
   },
   {
    "duration": 793,
    "start_time": "2024-07-16T21:24:16.164Z"
   },
   {
    "duration": 21,
    "start_time": "2024-07-16T21:24:16.958Z"
   },
   {
    "duration": 286,
    "start_time": "2024-07-16T21:24:16.981Z"
   },
   {
    "duration": 11,
    "start_time": "2024-07-16T21:24:17.268Z"
   },
   {
    "duration": 14,
    "start_time": "2024-07-16T21:24:17.280Z"
   },
   {
    "duration": 12,
    "start_time": "2024-07-16T21:24:17.296Z"
   },
   {
    "duration": 12,
    "start_time": "2024-07-16T21:24:17.310Z"
   },
   {
    "duration": 42,
    "start_time": "2024-07-16T21:24:17.324Z"
   },
   {
    "duration": 102,
    "start_time": "2024-07-16T21:24:17.368Z"
   },
   {
    "duration": 31,
    "start_time": "2024-07-16T21:24:17.472Z"
   },
   {
    "duration": 13,
    "start_time": "2024-07-16T21:24:17.505Z"
   },
   {
    "duration": 18,
    "start_time": "2024-07-16T21:24:17.519Z"
   },
   {
    "duration": 22,
    "start_time": "2024-07-16T21:24:17.539Z"
   },
   {
    "duration": 16,
    "start_time": "2024-07-16T21:24:17.563Z"
   },
   {
    "duration": 20,
    "start_time": "2024-07-16T21:24:17.582Z"
   },
   {
    "duration": 18,
    "start_time": "2024-07-16T21:24:17.605Z"
   },
   {
    "duration": 31,
    "start_time": "2024-07-16T21:24:17.625Z"
   },
   {
    "duration": 8,
    "start_time": "2024-07-16T21:24:17.658Z"
   },
   {
    "duration": 130,
    "start_time": "2024-07-16T21:25:49.760Z"
   },
   {
    "duration": 16,
    "start_time": "2024-07-16T21:28:21.923Z"
   },
   {
    "duration": 9,
    "start_time": "2024-07-16T21:29:00.717Z"
   },
   {
    "duration": 9,
    "start_time": "2024-07-16T21:29:22.645Z"
   },
   {
    "duration": 14,
    "start_time": "2024-07-16T21:30:48.730Z"
   },
   {
    "duration": 35,
    "start_time": "2024-07-16T21:31:08.075Z"
   },
   {
    "duration": 3,
    "start_time": "2024-07-16T21:33:11.480Z"
   },
   {
    "duration": 11,
    "start_time": "2024-07-16T21:33:28.807Z"
   },
   {
    "duration": 1149,
    "start_time": "2024-07-16T21:36:15.328Z"
   },
   {
    "duration": 1146,
    "start_time": "2024-07-16T21:36:21.731Z"
   },
   {
    "duration": 1347,
    "start_time": "2024-07-16T21:37:22.286Z"
   },
   {
    "duration": 1091,
    "start_time": "2024-07-16T21:38:53.479Z"
   },
   {
    "duration": 2732,
    "start_time": "2024-07-16T21:46:19.889Z"
   },
   {
    "duration": 14,
    "start_time": "2024-07-16T22:04:39.889Z"
   },
   {
    "duration": 8,
    "start_time": "2024-07-16T22:04:50.526Z"
   },
   {
    "duration": 7,
    "start_time": "2024-07-16T22:05:06.812Z"
   },
   {
    "duration": 7,
    "start_time": "2024-07-16T22:05:34.140Z"
   },
   {
    "duration": 7,
    "start_time": "2024-07-16T22:05:54.731Z"
   },
   {
    "duration": 8,
    "start_time": "2024-07-16T22:06:40.410Z"
   },
   {
    "duration": 2722,
    "start_time": "2024-07-16T22:17:42.711Z"
   },
   {
    "duration": 2444,
    "start_time": "2024-07-16T22:18:04.541Z"
   },
   {
    "duration": 3187,
    "start_time": "2024-07-16T22:21:44.005Z"
   },
   {
    "duration": 2946,
    "start_time": "2024-07-16T22:22:35.354Z"
   },
   {
    "duration": 4164,
    "start_time": "2024-07-16T22:23:49.596Z"
   },
   {
    "duration": 3122,
    "start_time": "2024-07-16T22:24:25.429Z"
   },
   {
    "duration": 879,
    "start_time": "2024-07-16T22:25:04.115Z"
   },
   {
    "duration": 11,
    "start_time": "2024-07-16T22:26:13.590Z"
   },
   {
    "duration": 11,
    "start_time": "2024-07-16T22:27:02.821Z"
   },
   {
    "duration": 4,
    "start_time": "2024-07-16T22:30:59.550Z"
   },
   {
    "duration": 1882,
    "start_time": "2024-07-16T22:31:21.803Z"
   },
   {
    "duration": 2310,
    "start_time": "2024-07-16T22:32:12.623Z"
   },
   {
    "duration": 2090,
    "start_time": "2024-07-16T22:32:16.551Z"
   },
   {
    "duration": 3207,
    "start_time": "2024-07-16T22:32:58.122Z"
   },
   {
    "duration": 2999,
    "start_time": "2024-07-16T22:35:04.826Z"
   },
   {
    "duration": 3318,
    "start_time": "2024-07-16T22:37:28.712Z"
   },
   {
    "duration": 3284,
    "start_time": "2024-07-16T22:37:45.526Z"
   },
   {
    "duration": 1468,
    "start_time": "2024-07-16T22:45:23.035Z"
   },
   {
    "duration": 1622,
    "start_time": "2024-07-16T22:45:38.301Z"
   },
   {
    "duration": 3079,
    "start_time": "2024-07-16T22:46:24.782Z"
   },
   {
    "duration": 3119,
    "start_time": "2024-07-16T22:49:43.603Z"
   },
   {
    "duration": 3189,
    "start_time": "2024-07-16T22:50:15.108Z"
   },
   {
    "duration": 3225,
    "start_time": "2024-07-16T22:50:30.783Z"
   },
   {
    "duration": 2870,
    "start_time": "2024-07-16T22:54:50.086Z"
   },
   {
    "duration": 3124,
    "start_time": "2024-07-16T22:55:06.505Z"
   },
   {
    "duration": 3609,
    "start_time": "2024-07-16T22:58:17.902Z"
   },
   {
    "duration": 3440,
    "start_time": "2024-07-16T22:58:46.132Z"
   },
   {
    "duration": 13,
    "start_time": "2024-07-16T23:01:41.438Z"
   },
   {
    "duration": 14,
    "start_time": "2024-07-16T23:03:09.641Z"
   },
   {
    "duration": 115,
    "start_time": "2024-07-16T23:04:30.270Z"
   },
   {
    "duration": 106,
    "start_time": "2024-07-16T23:06:42.676Z"
   },
   {
    "duration": 111,
    "start_time": "2024-07-16T23:09:12.150Z"
   },
   {
    "duration": 1175,
    "start_time": "2024-07-16T23:09:24.757Z"
   },
   {
    "duration": 55,
    "start_time": "2024-07-16T23:09:25.934Z"
   },
   {
    "duration": 16,
    "start_time": "2024-07-16T23:09:25.991Z"
   },
   {
    "duration": 13,
    "start_time": "2024-07-16T23:09:26.008Z"
   },
   {
    "duration": 17,
    "start_time": "2024-07-16T23:09:26.023Z"
   },
   {
    "duration": 27,
    "start_time": "2024-07-16T23:09:26.041Z"
   },
   {
    "duration": 11,
    "start_time": "2024-07-16T23:09:26.070Z"
   },
   {
    "duration": 25,
    "start_time": "2024-07-16T23:09:26.082Z"
   },
   {
    "duration": 21,
    "start_time": "2024-07-16T23:09:26.108Z"
   },
   {
    "duration": 16,
    "start_time": "2024-07-16T23:09:26.130Z"
   },
   {
    "duration": 32,
    "start_time": "2024-07-16T23:09:26.148Z"
   },
   {
    "duration": 17,
    "start_time": "2024-07-16T23:09:26.182Z"
   },
   {
    "duration": 16,
    "start_time": "2024-07-16T23:09:26.200Z"
   },
   {
    "duration": 19,
    "start_time": "2024-07-16T23:09:26.219Z"
   },
   {
    "duration": 74,
    "start_time": "2024-07-16T23:09:26.255Z"
   },
   {
    "duration": 388,
    "start_time": "2024-07-16T23:09:26.331Z"
   },
   {
    "duration": 304,
    "start_time": "2024-07-16T23:09:26.721Z"
   },
   {
    "duration": 12,
    "start_time": "2024-07-16T23:09:27.027Z"
   },
   {
    "duration": 314,
    "start_time": "2024-07-16T23:09:27.041Z"
   },
   {
    "duration": 383,
    "start_time": "2024-07-16T23:09:27.357Z"
   },
   {
    "duration": 112,
    "start_time": "2024-07-16T23:09:27.742Z"
   },
   {
    "duration": 19,
    "start_time": "2024-07-16T23:09:27.856Z"
   },
   {
    "duration": 6,
    "start_time": "2024-07-16T23:09:27.877Z"
   },
   {
    "duration": 19,
    "start_time": "2024-07-16T23:09:27.885Z"
   },
   {
    "duration": 277,
    "start_time": "2024-07-16T23:09:27.906Z"
   },
   {
    "duration": 251,
    "start_time": "2024-07-16T23:09:28.185Z"
   },
   {
    "duration": 3685,
    "start_time": "2024-07-16T23:09:28.438Z"
   },
   {
    "duration": 32,
    "start_time": "2024-07-16T23:09:32.124Z"
   },
   {
    "duration": 268,
    "start_time": "2024-07-16T23:09:32.158Z"
   },
   {
    "duration": 12,
    "start_time": "2024-07-16T23:09:32.427Z"
   },
   {
    "duration": 32,
    "start_time": "2024-07-16T23:09:32.440Z"
   },
   {
    "duration": 22,
    "start_time": "2024-07-16T23:09:32.473Z"
   },
   {
    "duration": 25,
    "start_time": "2024-07-16T23:09:32.497Z"
   },
   {
    "duration": 12,
    "start_time": "2024-07-16T23:09:32.524Z"
   },
   {
    "duration": 11,
    "start_time": "2024-07-16T23:09:32.537Z"
   },
   {
    "duration": 19,
    "start_time": "2024-07-16T23:09:32.550Z"
   },
   {
    "duration": 34,
    "start_time": "2024-07-16T23:09:32.570Z"
   },
   {
    "duration": 11,
    "start_time": "2024-07-16T23:09:32.605Z"
   },
   {
    "duration": 198,
    "start_time": "2024-07-16T23:09:32.618Z"
   },
   {
    "duration": 0,
    "start_time": "2024-07-16T23:09:32.818Z"
   },
   {
    "duration": 0,
    "start_time": "2024-07-16T23:09:32.819Z"
   },
   {
    "duration": 0,
    "start_time": "2024-07-16T23:09:32.820Z"
   },
   {
    "duration": 0,
    "start_time": "2024-07-16T23:09:32.821Z"
   },
   {
    "duration": 0,
    "start_time": "2024-07-16T23:09:32.822Z"
   },
   {
    "duration": 0,
    "start_time": "2024-07-16T23:09:32.823Z"
   },
   {
    "duration": 71,
    "start_time": "2024-07-16T23:11:10.988Z"
   },
   {
    "duration": 11,
    "start_time": "2024-07-16T23:20:43.068Z"
   },
   {
    "duration": 10,
    "start_time": "2024-07-16T23:22:58.870Z"
   },
   {
    "duration": 23,
    "start_time": "2024-07-16T23:38:30.549Z"
   },
   {
    "duration": 13,
    "start_time": "2024-07-16T23:38:36.019Z"
   },
   {
    "duration": 1216,
    "start_time": "2024-07-17T12:29:45.477Z"
   },
   {
    "duration": 60,
    "start_time": "2024-07-17T12:29:46.695Z"
   },
   {
    "duration": 18,
    "start_time": "2024-07-17T12:29:46.756Z"
   },
   {
    "duration": 17,
    "start_time": "2024-07-17T12:29:46.776Z"
   },
   {
    "duration": 14,
    "start_time": "2024-07-17T12:29:46.795Z"
   },
   {
    "duration": 23,
    "start_time": "2024-07-17T12:29:46.810Z"
   },
   {
    "duration": 9,
    "start_time": "2024-07-17T12:29:46.834Z"
   },
   {
    "duration": 23,
    "start_time": "2024-07-17T12:29:46.845Z"
   },
   {
    "duration": 27,
    "start_time": "2024-07-17T12:29:46.869Z"
   },
   {
    "duration": 7,
    "start_time": "2024-07-17T12:29:46.899Z"
   },
   {
    "duration": 26,
    "start_time": "2024-07-17T12:29:46.907Z"
   },
   {
    "duration": 18,
    "start_time": "2024-07-17T12:29:46.935Z"
   },
   {
    "duration": 18,
    "start_time": "2024-07-17T12:29:46.985Z"
   },
   {
    "duration": 16,
    "start_time": "2024-07-17T12:29:47.004Z"
   },
   {
    "duration": 102,
    "start_time": "2024-07-17T12:29:47.021Z"
   },
   {
    "duration": 377,
    "start_time": "2024-07-17T12:29:47.125Z"
   },
   {
    "duration": 321,
    "start_time": "2024-07-17T12:29:47.503Z"
   },
   {
    "duration": 13,
    "start_time": "2024-07-17T12:29:47.825Z"
   },
   {
    "duration": 306,
    "start_time": "2024-07-17T12:29:47.839Z"
   },
   {
    "duration": 351,
    "start_time": "2024-07-17T12:29:48.146Z"
   },
   {
    "duration": 100,
    "start_time": "2024-07-17T12:29:48.499Z"
   },
   {
    "duration": 19,
    "start_time": "2024-07-17T12:29:48.601Z"
   },
   {
    "duration": 34,
    "start_time": "2024-07-17T12:29:48.622Z"
   },
   {
    "duration": 39,
    "start_time": "2024-07-17T12:29:48.657Z"
   },
   {
    "duration": 263,
    "start_time": "2024-07-17T12:29:48.698Z"
   },
   {
    "duration": 263,
    "start_time": "2024-07-17T12:29:48.962Z"
   },
   {
    "duration": 3582,
    "start_time": "2024-07-17T12:29:49.227Z"
   },
   {
    "duration": 20,
    "start_time": "2024-07-17T12:29:52.812Z"
   },
   {
    "duration": 287,
    "start_time": "2024-07-17T12:29:52.833Z"
   },
   {
    "duration": 10,
    "start_time": "2024-07-17T12:29:53.122Z"
   },
   {
    "duration": 29,
    "start_time": "2024-07-17T12:29:53.134Z"
   },
   {
    "duration": 14,
    "start_time": "2024-07-17T12:29:53.164Z"
   },
   {
    "duration": 31,
    "start_time": "2024-07-17T12:29:53.179Z"
   },
   {
    "duration": 21,
    "start_time": "2024-07-17T12:29:53.212Z"
   },
   {
    "duration": 17,
    "start_time": "2024-07-17T12:29:53.234Z"
   },
   {
    "duration": 16,
    "start_time": "2024-07-17T12:29:53.253Z"
   },
   {
    "duration": 22,
    "start_time": "2024-07-17T12:29:53.271Z"
   },
   {
    "duration": 15,
    "start_time": "2024-07-17T12:29:53.294Z"
   },
   {
    "duration": 17,
    "start_time": "2024-07-17T12:29:53.311Z"
   },
   {
    "duration": 24,
    "start_time": "2024-07-17T12:29:53.330Z"
   },
   {
    "duration": 23,
    "start_time": "2024-07-17T12:29:53.356Z"
   },
   {
    "duration": 14,
    "start_time": "2024-07-17T12:29:53.381Z"
   },
   {
    "duration": 13,
    "start_time": "2024-07-17T12:29:53.397Z"
   },
   {
    "duration": 16,
    "start_time": "2024-07-17T12:29:53.412Z"
   }
  ],
  "kernelspec": {
   "display_name": "Python 3 (ipykernel)",
   "language": "python",
   "name": "python3"
  },
  "language_info": {
   "codemirror_mode": {
    "name": "ipython",
    "version": 3
   },
   "file_extension": ".py",
   "mimetype": "text/x-python",
   "name": "python",
   "nbconvert_exporter": "python",
   "pygments_lexer": "ipython3",
   "version": "3.9.5"
  },
  "toc": {
   "base_numbering": 1,
   "nav_menu": {},
   "number_sections": true,
   "sideBar": true,
   "skip_h1_title": true,
   "title_cell": "Table of Contents",
   "title_sidebar": "Contents",
   "toc_cell": false,
   "toc_position": {},
   "toc_section_display": true,
   "toc_window_display": false
  }
 },
 "nbformat": 4,
 "nbformat_minor": 2
}
