{
 "cells": [
  {
   "cell_type": "markdown",
   "metadata": {},
   "source": [
    "# Проект для «Викишоп»"
   ]
  },
  {
   "cell_type": "markdown",
   "metadata": {},
   "source": [
    "Интернет-магазин «Викишоп» запускает новый сервис. Теперь пользователи могут редактировать и дополнять описания товаров, как в вики-сообществах. То есть клиенты предлагают свои правки и комментируют изменения других. Магазину нужен инструмент, который будет искать токсичные комментарии и отправлять их на модерацию. \n",
    "\n",
    "Обучите модель классифицировать комментарии на позитивные и негативные. В вашем распоряжении набор данных с разметкой о токсичности правок.\n",
    "\n",
    "Постройте модель со значением метрики качества *F1* не меньше 0.75. \n",
    "\n",
    "**Инструкция по выполнению проекта**\n",
    "\n",
    "1. Загрузите и подготовьте данные.\n",
    "2. Обучите разные модели. \n",
    "3. Сделайте выводы.\n",
    "\n",
    "Для выполнения проекта применять *BERT* необязательно, но вы можете попробовать.\n",
    "\n",
    "**Описание данных**\n",
    "\n",
    "Данные находятся в файле `toxic_comments.csv`. Столбец *text* в нём содержит текст комментария, а *toxic* — целевой признак."
   ]
  },
  {
   "cell_type": "markdown",
   "metadata": {},
   "source": [
    "## Подготовка"
   ]
  },
  {
   "cell_type": "code",
   "execution_count": 1,
   "metadata": {},
   "outputs": [
    {
     "name": "stdout",
     "output_type": "stream",
     "text": [
      "Collecting stop-words\n",
      "  Downloading stop-words-2018.7.23.tar.gz (31 kB)\n",
      "Building wheels for collected packages: stop-words\n",
      "  Building wheel for stop-words (setup.py) ... \u001b[?25ldone\n",
      "\u001b[?25h  Created wheel for stop-words: filename=stop_words-2018.7.23-py3-none-any.whl size=32916 sha256=822f8df3a18c4648133785e259b9b24fecdfe1052b52a70979f37cbd60e0e97f\n",
      "  Stored in directory: /home/jovyan/.cache/pip/wheels/da/d8/66/395317506a23a9d1d7de433ad6a7d9e6e16aab48cf028a0f60\n",
      "Successfully built stop-words\n",
      "Installing collected packages: stop-words\n",
      "Successfully installed stop-words-2018.7.23\n"
     ]
    }
   ],
   "source": [
    "!pip install stop-words"
   ]
  },
  {
   "cell_type": "code",
   "execution_count": 2,
   "metadata": {
    "scrolled": true
   },
   "outputs": [
    {
     "name": "stdout",
     "output_type": "stream",
     "text": [
      "Collecting stopwords\n",
      "  Downloading stopwords-1.0.1-py2.py3-none-any.whl (37 kB)\n",
      "Installing collected packages: stopwords\n",
      "Successfully installed stopwords-1.0.1\n"
     ]
    }
   ],
   "source": [
    "!pip install stopwords"
   ]
  },
  {
   "cell_type": "code",
   "execution_count": 3,
   "metadata": {},
   "outputs": [
    {
     "name": "stdout",
     "output_type": "stream",
     "text": [
      "Collecting imbalanced-learn\n",
      "  Downloading imbalanced_learn-0.12.4-py3-none-any.whl (258 kB)\n",
      "\u001b[K     |████████████████████████████████| 258 kB 1.3 MB/s eta 0:00:01\n",
      "\u001b[?25hCollecting scikit-learn>=1.0.2\n",
      "  Downloading scikit_learn-1.6.0-cp39-cp39-manylinux_2_17_x86_64.manylinux2014_x86_64.whl (13.5 MB)\n",
      "\u001b[K     |████████████████████████████████| 13.5 MB 18.8 MB/s eta 0:00:01\n",
      "\u001b[?25hRequirement already satisfied: numpy>=1.17.3 in /opt/conda/lib/python3.9/site-packages (from imbalanced-learn) (1.21.1)\n",
      "Requirement already satisfied: threadpoolctl>=2.0.0 in /opt/conda/lib/python3.9/site-packages (from imbalanced-learn) (3.1.0)\n",
      "Requirement already satisfied: scipy>=1.5.0 in /opt/conda/lib/python3.9/site-packages (from imbalanced-learn) (1.9.1)\n",
      "Collecting joblib>=1.1.1\n",
      "  Downloading joblib-1.4.2-py3-none-any.whl (301 kB)\n",
      "\u001b[K     |████████████████████████████████| 301 kB 88.4 MB/s eta 0:00:01\n",
      "\u001b[?25hInstalling collected packages: joblib, scikit-learn, imbalanced-learn\n",
      "  Attempting uninstall: joblib\n",
      "    Found existing installation: joblib 1.1.0\n",
      "    Uninstalling joblib-1.1.0:\n",
      "      Successfully uninstalled joblib-1.1.0\n",
      "  Attempting uninstall: scikit-learn\n",
      "    Found existing installation: scikit-learn 0.24.1\n",
      "    Uninstalling scikit-learn-0.24.1:\n",
      "      Successfully uninstalled scikit-learn-0.24.1\n",
      "Successfully installed imbalanced-learn-0.12.4 joblib-1.4.2 scikit-learn-1.6.0\n"
     ]
    }
   ],
   "source": [
    "!pip install imbalanced-learn"
   ]
  },
  {
   "cell_type": "code",
   "execution_count": 4,
   "metadata": {
    "scrolled": true
   },
   "outputs": [
    {
     "name": "stdout",
     "output_type": "stream",
     "text": [
      "Collecting textblob\n",
      "  Downloading textblob-0.18.0.post0-py3-none-any.whl (626 kB)\n",
      "\u001b[K     |████████████████████████████████| 626 kB 1.2 MB/s eta 0:00:01\n",
      "\u001b[?25hCollecting nltk>=3.8\n",
      "  Downloading nltk-3.9.1-py3-none-any.whl (1.5 MB)\n",
      "\u001b[K     |████████████████████████████████| 1.5 MB 50.1 MB/s eta 0:00:01\n",
      "\u001b[?25hRequirement already satisfied: regex>=2021.8.3 in /opt/conda/lib/python3.9/site-packages (from nltk>=3.8->textblob) (2022.8.17)\n",
      "Requirement already satisfied: tqdm in /opt/conda/lib/python3.9/site-packages (from nltk>=3.8->textblob) (4.61.2)\n",
      "Requirement already satisfied: joblib in /opt/conda/lib/python3.9/site-packages (from nltk>=3.8->textblob) (1.4.2)\n",
      "Requirement already satisfied: click in /opt/conda/lib/python3.9/site-packages (from nltk>=3.8->textblob) (8.1.3)\n",
      "Installing collected packages: nltk, textblob\n",
      "  Attempting uninstall: nltk\n",
      "    Found existing installation: nltk 3.6.1\n",
      "    Uninstalling nltk-3.6.1:\n",
      "      Successfully uninstalled nltk-3.6.1\n",
      "Successfully installed nltk-3.9.1 textblob-0.18.0.post0\n"
     ]
    }
   ],
   "source": [
    "!pip install textblob"
   ]
  },
  {
   "cell_type": "code",
   "execution_count": 5,
   "metadata": {},
   "outputs": [
    {
     "name": "stdout",
     "output_type": "stream",
     "text": [
      "Requirement already satisfied: catboost in /opt/conda/lib/python3.9/site-packages (1.0.3)\n",
      "Requirement already satisfied: matplotlib in /opt/conda/lib/python3.9/site-packages (from catboost) (3.3.4)\n",
      "Requirement already satisfied: six in /opt/conda/lib/python3.9/site-packages (from catboost) (1.16.0)\n",
      "Requirement already satisfied: pandas>=0.24.0 in /opt/conda/lib/python3.9/site-packages (from catboost) (1.2.4)\n",
      "Requirement already satisfied: numpy>=1.16.0 in /opt/conda/lib/python3.9/site-packages (from catboost) (1.21.1)\n",
      "Requirement already satisfied: scipy in /opt/conda/lib/python3.9/site-packages (from catboost) (1.9.1)\n",
      "Requirement already satisfied: graphviz in /opt/conda/lib/python3.9/site-packages (from catboost) (0.20.1)\n",
      "Requirement already satisfied: plotly in /opt/conda/lib/python3.9/site-packages (from catboost) (5.4.0)\n",
      "Requirement already satisfied: python-dateutil>=2.7.3 in /opt/conda/lib/python3.9/site-packages (from pandas>=0.24.0->catboost) (2.8.1)\n",
      "Requirement already satisfied: pytz>=2017.3 in /opt/conda/lib/python3.9/site-packages (from pandas>=0.24.0->catboost) (2021.1)\n",
      "Requirement already satisfied: pyparsing!=2.0.4,!=2.1.2,!=2.1.6,>=2.0.3 in /opt/conda/lib/python3.9/site-packages (from matplotlib->catboost) (2.4.7)\n",
      "Requirement already satisfied: pillow>=6.2.0 in /opt/conda/lib/python3.9/site-packages (from matplotlib->catboost) (8.4.0)\n",
      "Requirement already satisfied: kiwisolver>=1.0.1 in /opt/conda/lib/python3.9/site-packages (from matplotlib->catboost) (1.4.4)\n",
      "Requirement already satisfied: cycler>=0.10 in /opt/conda/lib/python3.9/site-packages (from matplotlib->catboost) (0.11.0)\n",
      "Requirement already satisfied: tenacity>=6.2.0 in /opt/conda/lib/python3.9/site-packages (from plotly->catboost) (8.0.1)\n"
     ]
    }
   ],
   "source": [
    "!pip install catboost"
   ]
  },
  {
   "cell_type": "code",
   "execution_count": 6,
   "metadata": {},
   "outputs": [],
   "source": [
    "#импорт библиотек \n",
    "import matplotlib.pyplot as plt\n",
    "import seaborn as sns\n",
    "import numpy as np\n",
    "import pandas as pd\n",
    "import re\n",
    "from tqdm.notebook import tqdm\n",
    "import transformers\n",
    "import torch\n",
    "import matplotlib.font_manager as fm\n",
    "from pymystem3 import Mystem\n",
    "from textblob import TextBlob\n",
    "\n",
    "from sklearn.feature_extraction.text import TfidfVectorizer\n",
    "from sklearn.model_selection import train_test_split, cross_val_score, GridSearchCV\n",
    "from sklearn.linear_model import LogisticRegression, SGDClassifier\n",
    "from sklearn.metrics import f1_score, recall_score\n",
    "from sklearn.utils import shuffle\n",
    "\n",
    "from catboost import CatBoostClassifier\n",
    "\n",
    "import warnings\n",
    "warnings.filterwarnings('ignore')\n",
    "\n",
    "import nltk\n",
    "from nltk.corpus import stopwords as nltk_stopwords\n",
    "import time\n",
    "from sklearn.pipeline import Pipeline, make_pipeline\n",
    "from imblearn.over_sampling import SMOTE\n",
    "from sklearn.experimental import enable_halving_search_cv  \n",
    "from sklearn.model_selection import HalvingGridSearchCV\n",
    "from sklearn.svm import SVC\n",
    "from imblearn.under_sampling import RandomUnderSampler\n",
    "from sklearn.ensemble import RandomForestClassifier\n",
    "import xgboost as xgb\n",
    "from sklearn.metrics import make_scorer\n",
    "from catboost import CatBoostClassifier, Pool\n",
    "from sklearn.utils import shuffle\n",
    "import spacy\n",
    "from nltk.stem import PorterStemmer\n",
    "from nltk.stem import WordNetLemmatizer\n",
    "from imblearn.under_sampling import RandomUnderSampler"
   ]
  },
  {
   "cell_type": "code",
   "execution_count": 7,
   "metadata": {},
   "outputs": [
    {
     "data": {
      "text/html": [
       "<div>\n",
       "<style scoped>\n",
       "    .dataframe tbody tr th:only-of-type {\n",
       "        vertical-align: middle;\n",
       "    }\n",
       "\n",
       "    .dataframe tbody tr th {\n",
       "        vertical-align: top;\n",
       "    }\n",
       "\n",
       "    .dataframe thead th {\n",
       "        text-align: right;\n",
       "    }\n",
       "</style>\n",
       "<table border=\"1\" class=\"dataframe\">\n",
       "  <thead>\n",
       "    <tr style=\"text-align: right;\">\n",
       "      <th></th>\n",
       "      <th>Unnamed: 0</th>\n",
       "      <th>text</th>\n",
       "      <th>toxic</th>\n",
       "    </tr>\n",
       "  </thead>\n",
       "  <tbody>\n",
       "    <tr>\n",
       "      <th>0</th>\n",
       "      <td>0</td>\n",
       "      <td>Explanation\\nWhy the edits made under my usern...</td>\n",
       "      <td>0</td>\n",
       "    </tr>\n",
       "    <tr>\n",
       "      <th>1</th>\n",
       "      <td>1</td>\n",
       "      <td>D'aww! He matches this background colour I'm s...</td>\n",
       "      <td>0</td>\n",
       "    </tr>\n",
       "    <tr>\n",
       "      <th>2</th>\n",
       "      <td>2</td>\n",
       "      <td>Hey man, I'm really not trying to edit war. It...</td>\n",
       "      <td>0</td>\n",
       "    </tr>\n",
       "    <tr>\n",
       "      <th>3</th>\n",
       "      <td>3</td>\n",
       "      <td>\"\\nMore\\nI can't make any real suggestions on ...</td>\n",
       "      <td>0</td>\n",
       "    </tr>\n",
       "    <tr>\n",
       "      <th>4</th>\n",
       "      <td>4</td>\n",
       "      <td>You, sir, are my hero. Any chance you remember...</td>\n",
       "      <td>0</td>\n",
       "    </tr>\n",
       "  </tbody>\n",
       "</table>\n",
       "</div>"
      ],
      "text/plain": [
       "   Unnamed: 0                                               text  toxic\n",
       "0           0  Explanation\\nWhy the edits made under my usern...      0\n",
       "1           1  D'aww! He matches this background colour I'm s...      0\n",
       "2           2  Hey man, I'm really not trying to edit war. It...      0\n",
       "3           3  \"\\nMore\\nI can't make any real suggestions on ...      0\n",
       "4           4  You, sir, are my hero. Any chance you remember...      0"
      ]
     },
     "metadata": {},
     "output_type": "display_data"
    },
    {
     "name": "stdout",
     "output_type": "stream",
     "text": [
      "<class 'pandas.core.frame.DataFrame'>\n",
      "RangeIndex: 159292 entries, 0 to 159291\n",
      "Data columns (total 3 columns):\n",
      " #   Column      Non-Null Count   Dtype \n",
      "---  ------      --------------   ----- \n",
      " 0   Unnamed: 0  159292 non-null  int64 \n",
      " 1   text        159292 non-null  object\n",
      " 2   toxic       159292 non-null  int64 \n",
      "dtypes: int64(2), object(1)\n",
      "memory usage: 3.6+ MB\n"
     ]
    },
    {
     "data": {
      "text/plain": [
       "None"
      ]
     },
     "metadata": {},
     "output_type": "display_data"
    }
   ],
   "source": [
    "data = pd.read_csv('/datasets/toxic_comments.csv')\n",
    "display(data.head())\n",
    "display(data.info())"
   ]
  },
  {
   "cell_type": "code",
   "execution_count": 8,
   "metadata": {},
   "outputs": [
    {
     "data": {
      "image/png": "[encoded data removed]",
      "text/plain": [
       "<Figure size 720x432 with 1 Axes>"
      ]
     },
     "metadata": {},
     "output_type": "display_data"
    }
   ],
   "source": [
    "# Устанавливаем стиль графика\n",
    "sns.set(style=\"whitegrid\")\n",
    "\n",
    "# Создаем гистограмму\n",
    "plt.figure(figsize=(10, 6))\n",
    "sns.histplot(data['toxic'], bins=30, kde=True, color='skyblue')\n",
    "\n",
    "# Добавляем заголовок и подписи к осям\n",
    "plt.title('Распределение значений в столбце \"toxic\"', fontsize=16)\n",
    "plt.xlabel('Значение', fontsize=14)\n",
    "plt.ylabel('Частота', fontsize=14)\n",
    "\n",
    "# Улучшаем видимость меток\n",
    "plt.xticks(fontsize=12)\n",
    "plt.yticks(fontsize=12)\n",
    "\n",
    "# Отображаем график\n",
    "plt.show()"
   ]
  },
  {
   "cell_type": "markdown",
   "metadata": {},
   "source": [
    "**Вывод из предварительного анализа данных**\n",
    "**Общая информация о датафрейме:**\n",
    "\n",
    "- Датафрейм содержит 159 292 объекта без пропусков.\n",
    "\n",
    "- В датафрейме присутствуют 3 признака.\n",
    "\n",
    "**Признаки:**\n",
    "\n",
    "- text:\n",
    "    - Содержит исходные тексты твитов.\n",
    "    - Является не целевым признаком.\n",
    "    - Будет использоваться в обучении и предсказании моделей.\n",
    "\n",
    "- toxic:\n",
    "    - Содержит данные по классификации текстов.\n",
    "    - Является целевым признаком.\n",
    "    - Состоит только из значений 0 и 1.\n",
    "    - Имеет тип данных int64, что можно оптимизировать до uint8 для экономии памяти.\n",
    "    - Классы не сбалансированы, с преобладанием класса 0. Этот факт необходимо учитывать при разделении датафрейма на обучающие и тестовые выборки.\n",
    "\n",
    "- Unnamed: 0:\n",
    "    - Не содержит ценной информации для обучения.\n",
    "    - Не будет использоваться в дальнейшем анализе и обучении моделей.\n",
    "\n",
    "**Рекомендуется:**\n",
    "- Оптимизировать тип данных признака toxic до uint8.\n",
    "- Учитывать несбалансированность классов при разделении данных на обучающую и тестовую выборки.\n",
    "- Исключить признак Unnamed: 0 из дальнейшего анализа и обучения моделей."
   ]
  },
  {
   "cell_type": "code",
   "execution_count": 9,
   "metadata": {},
   "outputs": [],
   "source": [
    "# С использованием spacy\n",
    "nlp = spacy.load('en_core_web_sm')"
   ]
  },
  {
   "cell_type": "code",
   "execution_count": 10,
   "metadata": {},
   "outputs": [],
   "source": [
    "def clean_text_spacy(text):\n",
    "    clean = nlp(\" \".join(re.sub(r'[^a-zA-z]', ' ', text).split()))\n",
    "    lemmatized_output = ' '.join([w.lemma_ for w in clean])\n",
    "    return lemmatized_output"
   ]
  },
  {
   "cell_type": "code",
   "execution_count": 11,
   "metadata": {},
   "outputs": [],
   "source": [
    "data['lemmatize'] = data['text'].apply(clean_text_spacy)"
   ]
  },
  {
   "cell_type": "code",
   "execution_count": 12,
   "metadata": {},
   "outputs": [],
   "source": [
    "# Стоп-слово\n",
    "stopwords = list(nltk_stopwords.words('english'))"
   ]
  },
  {
   "cell_type": "code",
   "execution_count": 13,
   "metadata": {},
   "outputs": [],
   "source": [
    "def downsample(features, target, fraction):\n",
    "    features_zeros = features[target == 0]\n",
    "    features_ones = features[target == 1]\n",
    "    target_zeros = target[target == 0]\n",
    "    target_ones = target[target == 1]\n",
    "\n",
    "    features_downsampled = pd.concat(\n",
    "        [features_zeros.sample(frac=fraction, random_state=12345)] + [features_ones])\n",
    "    target_downsampled = pd.concat(\n",
    "        [target_zeros.sample(frac=fraction, random_state=12345)] + [target_ones])\n",
    "    \n",
    "    features_downsampled, target_downsampled = shuffle(\n",
    "        features_downsampled, target_downsampled, random_state=12345)\n",
    "    \n",
    "    return features_downsampled, target_downsampled"
   ]
  },
  {
   "cell_type": "markdown",
   "metadata": {},
   "source": [
    "## Обучение"
   ]
  },
  {
   "cell_type": "code",
   "execution_count": 14,
   "metadata": {},
   "outputs": [
    {
     "name": "stdout",
     "output_type": "stream",
     "text": [
      "Data splitting time: 0.03 seconds\n"
     ]
    }
   ],
   "source": [
    "# Разделение данных на обучающую, валидационную и тестовую выборки\n",
    "start_time = time.time()\n",
    "X_train, X_temp, y_train, y_temp = train_test_split(data['lemmatize'], data['toxic'], test_size=0.3, random_state=42)\n",
    "X_val, X_test, y_val, y_test = train_test_split(X_temp, y_temp, test_size=0.5, random_state=42)\n",
    "print(f\"Data splitting time: {time.time() - start_time:.2f} seconds\")"
   ]
  },
  {
   "cell_type": "code",
   "execution_count": 15,
   "metadata": {},
   "outputs": [],
   "source": [
    "# Применение downsampling к обучающей выборке\n",
    "rus = RandomUnderSampler(sampling_strategy=0.7, random_state=42)\n",
    "X_train_downsampled, y_train_downsampled = rus.fit_resample(X_train.values.reshape(-1, 1), y_train)\n",
    "X_train_downsampled = X_train_downsampled.flatten()"
   ]
  },
  {
   "cell_type": "code",
   "execution_count": 16,
   "metadata": {},
   "outputs": [],
   "source": [
    "# Инициализация TfidfVectorizer с использованием стоп-слов\n",
    "tfidf = TfidfVectorizer(stop_words=stopwords)"
   ]
  },
  {
   "cell_type": "code",
   "execution_count": 17,
   "metadata": {
    "scrolled": true
   },
   "outputs": [
    {
     "data": {
      "image/png": "[encoded data removed]",
      "text/plain": [
       "<Figure size 432x288 with 1 Axes>"
      ]
     },
     "metadata": {},
     "output_type": "display_data"
    }
   ],
   "source": [
    "# Проверка баланса классов после downsampling\n",
    "class_counts = y_train_downsampled.value_counts(normalize=True)\n",
    "class_counts.plot(kind='bar', grid=True)\n",
    "plt.title('Class Balance After Downsampling')\n",
    "plt.show()"
   ]
  },
  {
   "cell_type": "code",
   "execution_count": 18,
   "metadata": {},
   "outputs": [],
   "source": [
    "# Векторизация текста на уменьшенной обучающей выборке (после downsampling)\n",
    "tf_idf_train_downsampled = tfidf.fit_transform(X_train_downsampled)\n",
    "tf_idf_val = tfidf.transform(X_val)\n",
    "tf_idf_test = tfidf.transform(X_test)"
   ]
  },
  {
   "cell_type": "code",
   "execution_count": 19,
   "metadata": {},
   "outputs": [
    {
     "name": "stdout",
     "output_type": "stream",
     "text": [
      "Shape of tf_idf_train_downsampled: (27547, 51225)\n",
      "Shape of tf_idf_val: (23894, 51225)\n",
      "Shape of tf_idf_test: (23894, 51225)\n"
     ]
    }
   ],
   "source": [
    "# Вывод размеров векторизованных данных\n",
    "print(f\"Shape of tf_idf_train_downsampled: {tf_idf_train_downsampled.shape}\")\n",
    "print(f\"Shape of tf_idf_val: {tf_idf_val.shape}\")\n",
    "print(f\"Shape of tf_idf_test: {tf_idf_test.shape}\")"
   ]
  },
  {
   "cell_type": "code",
   "execution_count": 20,
   "metadata": {},
   "outputs": [],
   "source": [
    "# Векторизация текста на уменьшенной обучающей выборке\n",
    "tf_idf_train_downsampled = tfidf.transform(X_train_downsampled)"
   ]
  },
  {
   "cell_type": "code",
   "execution_count": 21,
   "metadata": {},
   "outputs": [
    {
     "name": "stdout",
     "output_type": "stream",
     "text": [
      "Logistic Regression training time: 1.54 seconds\n",
      "F1 Score (Logistic Regression, Validation): 0.7201919527500923\n"
     ]
    }
   ],
   "source": [
    "# Обучение логистической регрессии с фиксированными гиперпараметрами\n",
    "start_time = time.time()\n",
    "lr = LogisticRegression(C=1.0, solver='liblinear', max_iter=100, random_state=42)\n",
    "lr.fit(tf_idf_train_downsampled, y_train_downsampled)\n",
    "print(f\"Logistic Regression training time: {time.time() - start_time:.2f} seconds\")\n",
    "\n",
    "# Оценка модели на валидационной выборке\n",
    "y_val_pred_lr = lr.predict(tf_idf_val)\n",
    "f1_val_lr = f1_score(y_val, y_val_pred_lr)\n",
    "print(f'F1 Score (Logistic Regression, Validation): {f1_val_lr}')"
   ]
  },
  {
   "cell_type": "markdown",
   "metadata": {},
   "source": [
    "**Убрал поиск гиперпараметров для моделей CatBoost, XGBoost и RandomForestClassifier. Для каждой подбор шел около 5-ти часов, нецелесообразно в рамках учебного проекта**"
   ]
  },
  {
   "cell_type": "code",
   "execution_count": 22,
   "metadata": {},
   "outputs": [
    {
     "name": "stdout",
     "output_type": "stream",
     "text": [
      "CatBoost training time: 554.85 seconds\n",
      "F1 Score (CatBoost, Validation): 0.7562858839833696\n"
     ]
    }
   ],
   "source": [
    "# Обучение CatBoost\n",
    "start_time = time.time()\n",
    "catboost_model = CatBoostClassifier(verbose=0, random_state=42)\n",
    "catboost_model.fit(tf_idf_train_downsampled, y_train_downsampled)\n",
    "print(f\"CatBoost training time: {time.time() - start_time:.2f} seconds\")\n",
    "\n",
    "# Предсказание на валидационной выборке\n",
    "y_val_pred_catboost = catboost_model.predict(tf_idf_val)\n",
    "f1_val_catboost = f1_score(y_val, y_val_pred_catboost)\n",
    "print(f'F1 Score (CatBoost, Validation): {f1_val_catboost}')\n"
   ]
  },
  {
   "cell_type": "code",
   "execution_count": 23,
   "metadata": {},
   "outputs": [
    {
     "name": "stdout",
     "output_type": "stream",
     "text": [
      "XGBoost training time: 43.26 seconds\n",
      "F1 Score (XGBoost, Validation): 0.7352823388065679\n"
     ]
    }
   ],
   "source": [
    "# Обучение XGBoost\n",
    "start_time = time.time()\n",
    "xgb_model = xgb.XGBClassifier(use_label_encoder=False, eval_metric='logloss', random_state=42)\n",
    "xgb_model.fit(tf_idf_train_downsampled, y_train_downsampled)\n",
    "print(f\"XGBoost training time: {time.time() - start_time:.2f} seconds\")\n",
    "\n",
    "# Предсказание на валидационной выборке\n",
    "y_val_pred_xgb = xgb_model.predict(tf_idf_val)\n",
    "f1_val_xgb = f1_score(y_val, y_val_pred_xgb)\n",
    "print(f'F1 Score (XGBoost, Validation): {f1_val_xgb}')"
   ]
  },
  {
   "cell_type": "code",
   "execution_count": 24,
   "metadata": {
    "scrolled": true
   },
   "outputs": [
    {
     "name": "stdout",
     "output_type": "stream",
     "text": [
      "Random Forest training time: 68.26 seconds\n",
      "F1 Score (Random Forest, Validation): 0.6675243521411506\n"
     ]
    }
   ],
   "source": [
    "# Обучение случайного леса\n",
    "start_time = time.time()\n",
    "rf = RandomForestClassifier(random_state=42)\n",
    "rf.fit(tf_idf_train_downsampled, y_train_downsampled)\n",
    "print(f\"Random Forest training time: {time.time() - start_time:.2f} seconds\")\n",
    "\n",
    "# Предсказание на валидационной выборке\n",
    "y_val_pred_rf = rf.predict(tf_idf_val)\n",
    "f1_val_rf = f1_score(y_val, y_val_pred_rf)\n",
    "print(f'F1 Score (Random Forest, Validation): {f1_val_rf}')"
   ]
  },
  {
   "cell_type": "markdown",
   "metadata": {},
   "source": [
    "**Выводы:**\n",
    "\n",
    "- CatBoost показала наилучший результат на валидационной выборке с F1 Score 0.75. \n",
    "- Логистическая регрессия и XGBoost показали близкие результаты, немного уступая логистической регрессии. Это говорит о том, что они также являются хорошими кандидатами для данной задачи, но требуют более тщательной настройки.\n",
    "- Случайный лес показал самый низкий результат среди всех моделей. Это может быть связано с недостаточной настройкой гиперпараметров или с тем, что данные не подходят для случайного леса."
   ]
  },
  {
   "cell_type": "markdown",
   "metadata": {},
   "source": [
    "## Выводы"
   ]
  },
  {
   "cell_type": "code",
   "execution_count": 25,
   "metadata": {},
   "outputs": [
    {
     "name": "stdout",
     "output_type": "stream",
     "text": [
      "F1 Score (CatBoost, Test): 0.7580392156862745\n"
     ]
    }
   ],
   "source": [
    "y_test_pred_catboost = catboost_model.predict(tf_idf_test)\n",
    "f1_test_catboost = f1_score(y_test, y_test_pred_catboost)\n",
    "print(f'F1 Score (CatBoost, Test): {f1_test_catboost}')"
   ]
  },
  {
   "cell_type": "markdown",
   "metadata": {},
   "source": [
    "**Вывод по проекту:**\n",
    "\n",
    "**Загрузка и подготовка данных:**\n",
    "\n",
    "- Данные были загружены из файла toxic_comments.csv.\n",
    "- Было выполнено разделение данных на обучающую, валидационную и тестовую выборки с использованием метода train_test_split.\n",
    "- Для устранения дисбаланса классов в обучающей выборке был применен метод downsampling.\n",
    "- Текстовые данные были векторизованы с использованием TfidfVectorizer, который учитывал стоп-слова.\n",
    "\n",
    "**Обучение разных моделей:**\n",
    "\n",
    "- Были обучены четыре модели: логистическая регрессия, случайный лес, XGBoost и CatBoost.\n",
    "- Для каждой модели были использованы параметры по умолчанию, без подбора гиперпараметров (за исключением логистической регрессии).\n",
    "- Лучшая модель была протестирована на тестовой выборке с использованием метрики F1 Score.\n",
    "\n",
    "**Итог**\n",
    "- CatBoost является наиболее предпочтительной моделью для данной задачи, но другие модели также заслуживают внимания при более детальной настройке. "
   ]
  }
 ],
 "metadata": {
  "ExecuteTimeLog": [
   {
    "duration": 3,
    "start_time": "2024-12-07T16:22:25.175Z"
   },
   {
    "duration": 1857,
    "start_time": "2024-12-07T16:22:42.524Z"
   },
   {
    "duration": 3803,
    "start_time": "2024-12-07T16:24:59.360Z"
   },
   {
    "duration": 3536,
    "start_time": "2024-12-07T16:25:16.215Z"
   },
   {
    "duration": 4684,
    "start_time": "2024-12-07T16:25:25.457Z"
   },
   {
    "duration": 70,
    "start_time": "2024-12-07T16:26:18.994Z"
   },
   {
    "duration": 1303,
    "start_time": "2024-12-07T16:26:32.331Z"
   },
   {
    "duration": 215,
    "start_time": "2024-12-07T16:28:08.681Z"
   },
   {
    "duration": 3856,
    "start_time": "2024-12-07T16:28:32.921Z"
   },
   {
    "duration": 6048,
    "start_time": "2024-12-07T16:31:00.194Z"
   },
   {
    "duration": 18,
    "start_time": "2024-12-07T16:32:17.944Z"
   },
   {
    "duration": 4,
    "start_time": "2024-12-07T16:32:24.731Z"
   },
   {
    "duration": 3619,
    "start_time": "2024-12-07T16:32:32.732Z"
   },
   {
    "duration": 2699,
    "start_time": "2024-12-07T16:32:49.110Z"
   },
   {
    "duration": 12,
    "start_time": "2024-12-07T16:34:41.529Z"
   },
   {
    "duration": 2501,
    "start_time": "2024-12-07T16:35:06.860Z"
   },
   {
    "duration": 12,
    "start_time": "2024-12-07T16:35:32.055Z"
   },
   {
    "duration": 48,
    "start_time": "2024-12-07T16:35:59.563Z"
   },
   {
    "duration": 11,
    "start_time": "2024-12-07T16:37:38.086Z"
   },
   {
    "duration": 2234,
    "start_time": "2024-12-07T16:38:22.002Z"
   },
   {
    "duration": 2264,
    "start_time": "2024-12-07T16:38:24.238Z"
   },
   {
    "duration": 2201,
    "start_time": "2024-12-07T16:38:26.505Z"
   },
   {
    "duration": 1856,
    "start_time": "2024-12-07T16:38:28.708Z"
   },
   {
    "duration": 874,
    "start_time": "2024-12-07T16:38:30.566Z"
   },
   {
    "duration": 15,
    "start_time": "2024-12-07T16:38:31.441Z"
   },
   {
    "duration": 3,
    "start_time": "2024-12-07T16:38:31.458Z"
   },
   {
    "duration": 3433,
    "start_time": "2024-12-07T16:38:31.462Z"
   },
   {
    "duration": 128,
    "start_time": "2024-12-07T16:38:34.896Z"
   },
   {
    "duration": 0,
    "start_time": "2024-12-07T16:38:35.026Z"
   },
   {
    "duration": 2640,
    "start_time": "2024-12-07T16:38:43.065Z"
   },
   {
    "duration": 2516,
    "start_time": "2024-12-07T16:40:01.795Z"
   },
   {
    "duration": 891,
    "start_time": "2024-12-07T16:44:02.405Z"
   },
   {
    "duration": 10,
    "start_time": "2024-12-07T16:51:41.100Z"
   },
   {
    "duration": 10,
    "start_time": "2024-12-07T16:52:16.211Z"
   },
   {
    "duration": 3,
    "start_time": "2024-12-07T16:52:31.000Z"
   },
   {
    "duration": 3,
    "start_time": "2024-12-07T16:52:39.143Z"
   },
   {
    "duration": 9,
    "start_time": "2024-12-07T16:53:35.034Z"
   },
   {
    "duration": 2230,
    "start_time": "2024-12-07T16:54:07.887Z"
   },
   {
    "duration": 2217,
    "start_time": "2024-12-07T16:54:10.119Z"
   },
   {
    "duration": 2245,
    "start_time": "2024-12-07T16:54:12.338Z"
   },
   {
    "duration": 2214,
    "start_time": "2024-12-07T16:54:14.586Z"
   },
   {
    "duration": 838,
    "start_time": "2024-12-07T16:54:16.802Z"
   },
   {
    "duration": 811,
    "start_time": "2024-12-07T16:54:17.642Z"
   },
   {
    "duration": 17,
    "start_time": "2024-12-07T16:54:18.455Z"
   },
   {
    "duration": 4,
    "start_time": "2024-12-07T16:54:18.474Z"
   },
   {
    "duration": 2064,
    "start_time": "2024-12-07T16:54:18.479Z"
   },
   {
    "duration": 663,
    "start_time": "2024-12-07T16:54:34.883Z"
   },
   {
    "duration": 3,
    "start_time": "2024-12-07T16:54:42.521Z"
   },
   {
    "duration": 4,
    "start_time": "2024-12-07T16:54:54.275Z"
   },
   {
    "duration": 62,
    "start_time": "2024-12-07T16:55:06.100Z"
   },
   {
    "duration": 3,
    "start_time": "2024-12-07T16:55:13.248Z"
   },
   {
    "duration": 3,
    "start_time": "2024-12-07T16:55:19.943Z"
   },
   {
    "duration": 84,
    "start_time": "2024-12-07T16:55:29.886Z"
   },
   {
    "duration": 3055,
    "start_time": "2024-12-07T16:55:41.901Z"
   },
   {
    "duration": 2,
    "start_time": "2024-12-07T16:55:59.548Z"
   },
   {
    "duration": 304,
    "start_time": "2024-12-07T16:56:14.033Z"
   },
   {
    "duration": 2275,
    "start_time": "2024-12-07T16:56:40.700Z"
   },
   {
    "duration": 2312,
    "start_time": "2024-12-07T16:56:42.978Z"
   },
   {
    "duration": 2250,
    "start_time": "2024-12-07T16:56:45.291Z"
   },
   {
    "duration": 2585,
    "start_time": "2024-12-07T16:56:47.543Z"
   },
   {
    "duration": 3817,
    "start_time": "2024-12-07T16:56:50.130Z"
   },
   {
    "duration": 844,
    "start_time": "2024-12-07T16:56:53.949Z"
   },
   {
    "duration": 18,
    "start_time": "2024-12-07T16:56:54.794Z"
   },
   {
    "duration": 13,
    "start_time": "2024-12-07T16:56:54.814Z"
   },
   {
    "duration": 2255,
    "start_time": "2024-12-07T16:56:54.828Z"
   },
   {
    "duration": 682,
    "start_time": "2024-12-07T16:56:57.085Z"
   },
   {
    "duration": 5,
    "start_time": "2024-12-07T16:56:57.769Z"
   },
   {
    "duration": 81,
    "start_time": "2024-12-07T16:56:57.775Z"
   },
   {
    "duration": 22,
    "start_time": "2024-12-07T16:56:57.858Z"
   },
   {
    "duration": 9,
    "start_time": "2024-12-07T16:56:57.882Z"
   },
   {
    "duration": 96,
    "start_time": "2024-12-07T16:56:57.893Z"
   },
   {
    "duration": 14847,
    "start_time": "2024-12-07T16:56:57.990Z"
   },
   {
    "duration": 3,
    "start_time": "2024-12-07T16:57:12.838Z"
   },
   {
    "duration": 346,
    "start_time": "2024-12-07T16:57:12.842Z"
   },
   {
    "duration": 2325,
    "start_time": "2024-12-07T16:57:44.138Z"
   },
   {
    "duration": 2240,
    "start_time": "2024-12-07T16:57:46.465Z"
   },
   {
    "duration": 2260,
    "start_time": "2024-12-07T16:57:48.707Z"
   },
   {
    "duration": 3257,
    "start_time": "2024-12-07T16:57:50.968Z"
   },
   {
    "duration": 3732,
    "start_time": "2024-12-07T16:57:54.227Z"
   },
   {
    "duration": 803,
    "start_time": "2024-12-07T16:57:57.960Z"
   },
   {
    "duration": 17,
    "start_time": "2024-12-07T16:57:58.764Z"
   },
   {
    "duration": 4,
    "start_time": "2024-12-07T16:57:58.782Z"
   },
   {
    "duration": 1853,
    "start_time": "2024-12-07T16:57:58.787Z"
   },
   {
    "duration": 701,
    "start_time": "2024-12-07T16:58:00.642Z"
   },
   {
    "duration": 4,
    "start_time": "2024-12-07T16:58:01.344Z"
   },
   {
    "duration": 79,
    "start_time": "2024-12-07T16:58:01.349Z"
   },
   {
    "duration": 23,
    "start_time": "2024-12-07T16:58:01.430Z"
   },
   {
    "duration": 10,
    "start_time": "2024-12-07T16:58:01.456Z"
   },
   {
    "duration": 100,
    "start_time": "2024-12-07T16:58:01.468Z"
   },
   {
    "duration": 14892,
    "start_time": "2024-12-07T16:58:01.570Z"
   },
   {
    "duration": 3,
    "start_time": "2024-12-07T16:58:16.463Z"
   },
   {
    "duration": 2461,
    "start_time": "2024-12-07T17:00:51.879Z"
   },
   {
    "duration": 2521,
    "start_time": "2024-12-07T17:00:54.343Z"
   },
   {
    "duration": 2680,
    "start_time": "2024-12-07T17:00:56.865Z"
   },
   {
    "duration": 3330,
    "start_time": "2024-12-07T17:00:59.547Z"
   },
   {
    "duration": 3893,
    "start_time": "2024-12-07T17:01:02.879Z"
   },
   {
    "duration": 852,
    "start_time": "2024-12-07T17:01:06.774Z"
   },
   {
    "duration": 24,
    "start_time": "2024-12-07T17:01:07.628Z"
   },
   {
    "duration": 3,
    "start_time": "2024-12-07T17:01:07.654Z"
   },
   {
    "duration": 2035,
    "start_time": "2024-12-07T17:01:07.659Z"
   },
   {
    "duration": 779,
    "start_time": "2024-12-07T17:01:09.696Z"
   },
   {
    "duration": 4,
    "start_time": "2024-12-07T17:01:10.476Z"
   },
   {
    "duration": 114,
    "start_time": "2024-12-07T17:01:10.482Z"
   },
   {
    "duration": 18,
    "start_time": "2024-12-07T17:01:10.597Z"
   },
   {
    "duration": 3,
    "start_time": "2024-12-07T17:01:10.618Z"
   },
   {
    "duration": 86,
    "start_time": "2024-12-07T17:01:10.623Z"
   },
   {
    "duration": 32758,
    "start_time": "2024-12-07T17:01:10.711Z"
   },
   {
    "duration": 3,
    "start_time": "2024-12-07T17:01:43.470Z"
   },
   {
    "duration": 2360,
    "start_time": "2024-12-07T17:10:23.715Z"
   },
   {
    "duration": 2249,
    "start_time": "2024-12-07T17:10:26.078Z"
   },
   {
    "duration": 2273,
    "start_time": "2024-12-07T17:10:28.329Z"
   },
   {
    "duration": 3105,
    "start_time": "2024-12-07T17:10:30.604Z"
   },
   {
    "duration": 3776,
    "start_time": "2024-12-07T17:10:33.711Z"
   },
   {
    "duration": 890,
    "start_time": "2024-12-07T17:10:37.489Z"
   },
   {
    "duration": 18,
    "start_time": "2024-12-07T17:10:38.381Z"
   },
   {
    "duration": 4,
    "start_time": "2024-12-07T17:10:38.401Z"
   },
   {
    "duration": 1906,
    "start_time": "2024-12-07T17:10:38.427Z"
   },
   {
    "duration": 701,
    "start_time": "2024-12-07T17:10:40.335Z"
   },
   {
    "duration": 4,
    "start_time": "2024-12-07T17:10:41.038Z"
   },
   {
    "duration": 69,
    "start_time": "2024-12-07T17:10:41.043Z"
   },
   {
    "duration": 15,
    "start_time": "2024-12-07T17:10:41.113Z"
   },
   {
    "duration": 7,
    "start_time": "2024-12-07T17:10:41.131Z"
   },
   {
    "duration": 87,
    "start_time": "2024-12-07T17:10:41.140Z"
   },
   {
    "duration": 32389,
    "start_time": "2024-12-07T17:10:41.228Z"
   },
   {
    "duration": 8,
    "start_time": "2024-12-07T17:11:13.619Z"
   },
   {
    "duration": 8,
    "start_time": "2024-12-07T17:17:41.729Z"
   },
   {
    "duration": 43,
    "start_time": "2024-12-07T17:17:42.562Z"
   },
   {
    "duration": 2282,
    "start_time": "2024-12-07T17:17:48.899Z"
   },
   {
    "duration": 2225,
    "start_time": "2024-12-07T17:17:51.184Z"
   },
   {
    "duration": 2256,
    "start_time": "2024-12-07T17:17:53.410Z"
   },
   {
    "duration": 2993,
    "start_time": "2024-12-07T17:17:55.668Z"
   },
   {
    "duration": 3768,
    "start_time": "2024-12-07T17:17:58.663Z"
   },
   {
    "duration": 819,
    "start_time": "2024-12-07T17:18:02.432Z"
   },
   {
    "duration": 17,
    "start_time": "2024-12-07T17:18:03.253Z"
   },
   {
    "duration": 3,
    "start_time": "2024-12-07T17:18:03.272Z"
   },
   {
    "duration": 1888,
    "start_time": "2024-12-07T17:18:03.277Z"
   },
   {
    "duration": 677,
    "start_time": "2024-12-07T17:18:05.167Z"
   },
   {
    "duration": 3,
    "start_time": "2024-12-07T17:18:05.846Z"
   },
   {
    "duration": 98,
    "start_time": "2024-12-07T17:18:05.851Z"
   },
   {
    "duration": 41,
    "start_time": "2024-12-07T17:18:05.950Z"
   },
   {
    "duration": 8,
    "start_time": "2024-12-07T17:18:05.994Z"
   },
   {
    "duration": 101,
    "start_time": "2024-12-07T17:18:06.003Z"
   },
   {
    "duration": 32515,
    "start_time": "2024-12-07T17:18:06.105Z"
   },
   {
    "duration": 6,
    "start_time": "2024-12-07T17:18:38.621Z"
   },
   {
    "duration": 2248,
    "start_time": "2024-12-07T17:21:10.102Z"
   },
   {
    "duration": 2233,
    "start_time": "2024-12-07T17:21:12.352Z"
   },
   {
    "duration": 2252,
    "start_time": "2024-12-07T17:21:14.587Z"
   },
   {
    "duration": 2913,
    "start_time": "2024-12-07T17:21:16.841Z"
   },
   {
    "duration": 3737,
    "start_time": "2024-12-07T17:21:19.756Z"
   },
   {
    "duration": 798,
    "start_time": "2024-12-07T17:21:23.495Z"
   },
   {
    "duration": 16,
    "start_time": "2024-12-07T17:21:24.295Z"
   },
   {
    "duration": 3,
    "start_time": "2024-12-07T17:21:24.313Z"
   },
   {
    "duration": 1861,
    "start_time": "2024-12-07T17:21:24.327Z"
   },
   {
    "duration": 684,
    "start_time": "2024-12-07T17:21:26.189Z"
   },
   {
    "duration": 3,
    "start_time": "2024-12-07T17:21:26.874Z"
   },
   {
    "duration": 75,
    "start_time": "2024-12-07T17:21:26.879Z"
   },
   {
    "duration": 4,
    "start_time": "2024-12-07T17:21:26.956Z"
   },
   {
    "duration": 4,
    "start_time": "2024-12-07T17:21:26.962Z"
   },
   {
    "duration": 84,
    "start_time": "2024-12-07T17:21:26.967Z"
   },
   {
    "duration": 28998,
    "start_time": "2024-12-07T17:21:27.053Z"
   },
   {
    "duration": 2,
    "start_time": "2024-12-07T17:21:56.053Z"
   },
   {
    "duration": 46,
    "start_time": "2024-12-07T17:22:19.034Z"
   },
   {
    "duration": 2338,
    "start_time": "2024-12-07T17:25:27.043Z"
   },
   {
    "duration": 2329,
    "start_time": "2024-12-07T17:25:29.383Z"
   },
   {
    "duration": 2367,
    "start_time": "2024-12-07T17:25:31.714Z"
   },
   {
    "duration": 3213,
    "start_time": "2024-12-07T17:25:34.082Z"
   },
   {
    "duration": 3842,
    "start_time": "2024-12-07T17:25:37.298Z"
   },
   {
    "duration": 858,
    "start_time": "2024-12-07T17:25:41.141Z"
   },
   {
    "duration": 16,
    "start_time": "2024-12-07T17:25:42.001Z"
   },
   {
    "duration": 22,
    "start_time": "2024-12-07T17:25:42.019Z"
   },
   {
    "duration": 1948,
    "start_time": "2024-12-07T17:25:42.042Z"
   },
   {
    "duration": 618,
    "start_time": "2024-12-07T17:25:43.991Z"
   },
   {
    "duration": 3,
    "start_time": "2024-12-07T17:25:44.611Z"
   },
   {
    "duration": 76,
    "start_time": "2024-12-07T17:25:44.615Z"
   },
   {
    "duration": 7,
    "start_time": "2024-12-07T17:25:44.693Z"
   },
   {
    "duration": 88,
    "start_time": "2024-12-07T17:25:44.702Z"
   },
   {
    "duration": 33353,
    "start_time": "2024-12-07T17:25:44.791Z"
   },
   {
    "duration": 4,
    "start_time": "2024-12-07T17:26:18.145Z"
   },
   {
    "duration": 403,
    "start_time": "2024-12-07T17:26:18.150Z"
   },
   {
    "duration": 0,
    "start_time": "2024-12-07T17:26:18.554Z"
   },
   {
    "duration": 0,
    "start_time": "2024-12-07T17:26:18.555Z"
   },
   {
    "duration": 0,
    "start_time": "2024-12-07T17:26:18.557Z"
   },
   {
    "duration": 0,
    "start_time": "2024-12-07T17:26:18.557Z"
   },
   {
    "duration": 0,
    "start_time": "2024-12-07T17:26:18.559Z"
   },
   {
    "duration": 130,
    "start_time": "2024-12-07T17:26:43.046Z"
   },
   {
    "duration": 3690,
    "start_time": "2024-12-12T13:37:56.174Z"
   },
   {
    "duration": 3830,
    "start_time": "2024-12-12T13:37:59.866Z"
   },
   {
    "duration": 4789,
    "start_time": "2024-12-12T13:38:03.698Z"
   },
   {
    "duration": 3065,
    "start_time": "2024-12-12T13:38:08.490Z"
   },
   {
    "duration": 1307,
    "start_time": "2024-12-12T13:38:11.558Z"
   },
   {
    "duration": 969,
    "start_time": "2024-12-12T13:38:12.866Z"
   },
   {
    "duration": 489,
    "start_time": "2024-12-12T13:38:13.837Z"
   },
   {
    "duration": 0,
    "start_time": "2024-12-12T13:38:14.328Z"
   },
   {
    "duration": 0,
    "start_time": "2024-12-12T13:38:14.329Z"
   },
   {
    "duration": 0,
    "start_time": "2024-12-12T13:38:14.330Z"
   },
   {
    "duration": 0,
    "start_time": "2024-12-12T13:38:14.331Z"
   },
   {
    "duration": 0,
    "start_time": "2024-12-12T13:38:14.332Z"
   },
   {
    "duration": 0,
    "start_time": "2024-12-12T13:38:14.333Z"
   },
   {
    "duration": 9,
    "start_time": "2024-12-12T13:39:04.703Z"
   },
   {
    "duration": 2510,
    "start_time": "2024-12-12T13:40:40.827Z"
   },
   {
    "duration": 2905,
    "start_time": "2024-12-12T13:40:43.339Z"
   },
   {
    "duration": 965,
    "start_time": "2024-12-12T13:40:46.246Z"
   },
   {
    "duration": 921,
    "start_time": "2024-12-12T13:40:47.213Z"
   },
   {
    "duration": 227,
    "start_time": "2024-12-12T13:40:48.136Z"
   },
   {
    "duration": 4,
    "start_time": "2024-12-12T13:40:48.365Z"
   },
   {
    "duration": 20,
    "start_time": "2024-12-12T13:40:48.371Z"
   },
   {
    "duration": 5,
    "start_time": "2024-12-12T13:40:48.393Z"
   },
   {
    "duration": 8,
    "start_time": "2024-12-12T13:40:48.400Z"
   },
   {
    "duration": 8,
    "start_time": "2024-12-12T13:40:48.410Z"
   },
   {
    "duration": 712,
    "start_time": "2024-12-12T13:40:48.420Z"
   },
   {
    "duration": 13,
    "start_time": "2024-12-12T13:41:50.335Z"
   },
   {
    "duration": 1219,
    "start_time": "2024-12-12T13:42:40.430Z"
   },
   {
    "duration": 3231,
    "start_time": "2024-12-12T13:42:47.201Z"
   },
   {
    "duration": 2569,
    "start_time": "2024-12-12T13:42:56.300Z"
   },
   {
    "duration": 2544,
    "start_time": "2024-12-12T13:42:58.872Z"
   },
   {
    "duration": 3025,
    "start_time": "2024-12-12T13:43:01.418Z"
   },
   {
    "duration": 977,
    "start_time": "2024-12-12T13:43:04.445Z"
   },
   {
    "duration": 900,
    "start_time": "2024-12-12T13:43:05.431Z"
   },
   {
    "duration": 5,
    "start_time": "2024-12-12T13:43:06.333Z"
   },
   {
    "duration": 31,
    "start_time": "2024-12-12T13:43:06.340Z"
   },
   {
    "duration": 36,
    "start_time": "2024-12-12T13:43:06.373Z"
   },
   {
    "duration": 17,
    "start_time": "2024-12-12T13:43:06.411Z"
   },
   {
    "duration": 27,
    "start_time": "2024-12-12T13:43:06.430Z"
   },
   {
    "duration": 27,
    "start_time": "2024-12-12T13:43:06.458Z"
   },
   {
    "duration": 671,
    "start_time": "2024-12-12T13:43:06.487Z"
   },
   {
    "duration": 101,
    "start_time": "2024-12-12T13:44:24.942Z"
   },
   {
    "duration": 2566,
    "start_time": "2024-12-12T13:45:01.138Z"
   },
   {
    "duration": 2603,
    "start_time": "2024-12-12T13:45:03.706Z"
   },
   {
    "duration": 4878,
    "start_time": "2024-12-12T13:45:06.310Z"
   },
   {
    "duration": 933,
    "start_time": "2024-12-12T13:45:11.190Z"
   },
   {
    "duration": 914,
    "start_time": "2024-12-12T13:45:12.130Z"
   },
   {
    "duration": 6,
    "start_time": "2024-12-12T13:45:13.046Z"
   },
   {
    "duration": 3,
    "start_time": "2024-12-12T13:45:13.054Z"
   },
   {
    "duration": 18,
    "start_time": "2024-12-12T13:45:13.059Z"
   },
   {
    "duration": 5,
    "start_time": "2024-12-12T13:45:13.079Z"
   },
   {
    "duration": 4,
    "start_time": "2024-12-12T13:45:13.086Z"
   },
   {
    "duration": 25,
    "start_time": "2024-12-12T13:45:13.092Z"
   },
   {
    "duration": 679,
    "start_time": "2024-12-12T13:45:13.119Z"
   },
   {
    "duration": 2543,
    "start_time": "2024-12-12T13:48:17.717Z"
   },
   {
    "duration": 2516,
    "start_time": "2024-12-12T13:48:20.262Z"
   },
   {
    "duration": 2785,
    "start_time": "2024-12-12T13:48:22.782Z"
   },
   {
    "duration": 949,
    "start_time": "2024-12-12T13:48:25.569Z"
   },
   {
    "duration": 902,
    "start_time": "2024-12-12T13:48:26.530Z"
   },
   {
    "duration": 6,
    "start_time": "2024-12-12T13:48:27.434Z"
   },
   {
    "duration": 3,
    "start_time": "2024-12-12T13:48:27.442Z"
   },
   {
    "duration": 7,
    "start_time": "2024-12-12T13:48:27.447Z"
   },
   {
    "duration": 25,
    "start_time": "2024-12-12T13:48:27.456Z"
   },
   {
    "duration": 12,
    "start_time": "2024-12-12T13:48:27.483Z"
   },
   {
    "duration": 21,
    "start_time": "2024-12-12T13:48:27.497Z"
   },
   {
    "duration": 1761,
    "start_time": "2024-12-12T13:48:27.520Z"
   },
   {
    "duration": 81,
    "start_time": "2024-12-12T13:48:57.325Z"
   },
   {
    "duration": 2795,
    "start_time": "2024-12-12T13:50:17.785Z"
   },
   {
    "duration": 2526,
    "start_time": "2024-12-12T13:50:20.583Z"
   },
   {
    "duration": 3177,
    "start_time": "2024-12-12T13:50:23.111Z"
   },
   {
    "duration": 950,
    "start_time": "2024-12-12T13:50:26.289Z"
   },
   {
    "duration": 910,
    "start_time": "2024-12-12T13:50:27.241Z"
   },
   {
    "duration": 6,
    "start_time": "2024-12-12T13:50:28.153Z"
   },
   {
    "duration": 4,
    "start_time": "2024-12-12T13:50:28.160Z"
   },
   {
    "duration": 11,
    "start_time": "2024-12-12T13:50:28.165Z"
   },
   {
    "duration": 21,
    "start_time": "2024-12-12T13:50:28.178Z"
   },
   {
    "duration": 18,
    "start_time": "2024-12-12T13:50:28.201Z"
   },
   {
    "duration": 17,
    "start_time": "2024-12-12T13:50:28.221Z"
   },
   {
    "duration": 1559,
    "start_time": "2024-12-12T13:50:28.240Z"
   },
   {
    "duration": 2548,
    "start_time": "2024-12-12T14:03:29.853Z"
   },
   {
    "duration": 2520,
    "start_time": "2024-12-12T14:03:32.404Z"
   },
   {
    "duration": 3453,
    "start_time": "2024-12-12T14:03:34.926Z"
   },
   {
    "duration": 965,
    "start_time": "2024-12-12T14:03:38.381Z"
   },
   {
    "duration": 904,
    "start_time": "2024-12-12T14:03:39.349Z"
   },
   {
    "duration": 191,
    "start_time": "2024-12-12T14:03:40.255Z"
   },
   {
    "duration": 14,
    "start_time": "2024-12-12T14:04:03.300Z"
   },
   {
    "duration": 12,
    "start_time": "2024-12-12T14:04:25.802Z"
   },
   {
    "duration": 16,
    "start_time": "2024-12-12T14:04:29.449Z"
   },
   {
    "duration": 14,
    "start_time": "2024-12-12T14:04:34.208Z"
   },
   {
    "duration": 13,
    "start_time": "2024-12-12T14:04:55.934Z"
   },
   {
    "duration": 12,
    "start_time": "2024-12-12T14:04:59.128Z"
   },
   {
    "duration": 112,
    "start_time": "2024-12-12T14:04:59.790Z"
   },
   {
    "duration": 118,
    "start_time": "2024-12-12T14:05:09.802Z"
   },
   {
    "duration": 14,
    "start_time": "2024-12-12T14:05:46.655Z"
   },
   {
    "duration": 5,
    "start_time": "2024-12-12T14:05:57.137Z"
   },
   {
    "duration": 4,
    "start_time": "2024-12-12T14:06:15.181Z"
   },
   {
    "duration": 13,
    "start_time": "2024-12-12T14:06:35.834Z"
   },
   {
    "duration": 2556,
    "start_time": "2024-12-12T14:07:11.840Z"
   },
   {
    "duration": 2540,
    "start_time": "2024-12-12T14:07:14.399Z"
   },
   {
    "duration": 3135,
    "start_time": "2024-12-12T14:07:16.941Z"
   },
   {
    "duration": 961,
    "start_time": "2024-12-12T14:07:20.078Z"
   },
   {
    "duration": 994,
    "start_time": "2024-12-12T14:07:21.042Z"
   },
   {
    "duration": 12,
    "start_time": "2024-12-12T14:07:22.037Z"
   },
   {
    "duration": 7,
    "start_time": "2024-12-12T14:07:22.051Z"
   },
   {
    "duration": 140,
    "start_time": "2024-12-12T14:07:22.060Z"
   },
   {
    "duration": 7,
    "start_time": "2024-12-12T14:07:22.201Z"
   },
   {
    "duration": 41,
    "start_time": "2024-12-12T14:07:22.209Z"
   },
   {
    "duration": 190,
    "start_time": "2024-12-12T14:07:22.252Z"
   },
   {
    "duration": 2565,
    "start_time": "2024-12-12T14:08:09.087Z"
   },
   {
    "duration": 2486,
    "start_time": "2024-12-12T14:08:11.655Z"
   },
   {
    "duration": 2956,
    "start_time": "2024-12-12T14:08:14.143Z"
   },
   {
    "duration": 959,
    "start_time": "2024-12-12T14:08:17.100Z"
   },
   {
    "duration": 901,
    "start_time": "2024-12-12T14:08:18.062Z"
   },
   {
    "duration": 11,
    "start_time": "2024-12-12T14:08:18.964Z"
   },
   {
    "duration": 33,
    "start_time": "2024-12-12T14:08:18.977Z"
   },
   {
    "duration": 122,
    "start_time": "2024-12-12T14:08:19.012Z"
   },
   {
    "duration": 5,
    "start_time": "2024-12-12T14:08:19.136Z"
   },
   {
    "duration": 9,
    "start_time": "2024-12-12T14:08:19.143Z"
   },
   {
    "duration": 187,
    "start_time": "2024-12-12T14:08:19.154Z"
   },
   {
    "duration": 18,
    "start_time": "2024-12-12T14:10:04.277Z"
   },
   {
    "duration": 2568,
    "start_time": "2024-12-12T14:10:34.693Z"
   },
   {
    "duration": 2564,
    "start_time": "2024-12-12T14:10:37.264Z"
   },
   {
    "duration": 3134,
    "start_time": "2024-12-12T14:10:39.833Z"
   },
   {
    "duration": 1015,
    "start_time": "2024-12-12T14:10:42.969Z"
   },
   {
    "duration": 990,
    "start_time": "2024-12-12T14:10:43.986Z"
   },
   {
    "duration": 10,
    "start_time": "2024-12-12T14:10:44.978Z"
   },
   {
    "duration": 51,
    "start_time": "2024-12-12T14:10:44.990Z"
   },
   {
    "duration": 188,
    "start_time": "2024-12-12T14:10:45.043Z"
   },
   {
    "duration": 5,
    "start_time": "2024-12-12T14:10:45.233Z"
   },
   {
    "duration": 72,
    "start_time": "2024-12-12T14:10:45.240Z"
   },
   {
    "duration": 218,
    "start_time": "2024-12-12T14:10:45.314Z"
   },
   {
    "duration": 2553,
    "start_time": "2024-12-12T14:11:13.551Z"
   },
   {
    "duration": 2510,
    "start_time": "2024-12-12T14:11:16.106Z"
   },
   {
    "duration": 2973,
    "start_time": "2024-12-12T14:11:18.620Z"
   },
   {
    "duration": 0,
    "start_time": "2024-12-12T14:11:21.595Z"
   },
   {
    "duration": 0,
    "start_time": "2024-12-12T14:11:21.597Z"
   },
   {
    "duration": 0,
    "start_time": "2024-12-12T14:11:21.598Z"
   },
   {
    "duration": 0,
    "start_time": "2024-12-12T14:11:21.600Z"
   },
   {
    "duration": 0,
    "start_time": "2024-12-12T14:11:21.602Z"
   },
   {
    "duration": 0,
    "start_time": "2024-12-12T14:11:21.603Z"
   },
   {
    "duration": 0,
    "start_time": "2024-12-12T14:11:21.605Z"
   },
   {
    "duration": 1,
    "start_time": "2024-12-12T14:11:21.606Z"
   },
   {
    "duration": 2622,
    "start_time": "2024-12-12T14:12:21.627Z"
   },
   {
    "duration": 2570,
    "start_time": "2024-12-12T14:12:24.252Z"
   },
   {
    "duration": 7735,
    "start_time": "2024-12-12T14:12:26.824Z"
   },
   {
    "duration": 3305,
    "start_time": "2024-12-12T14:12:34.561Z"
   },
   {
    "duration": 971,
    "start_time": "2024-12-12T14:12:37.868Z"
   },
   {
    "duration": 906,
    "start_time": "2024-12-12T14:12:38.841Z"
   },
   {
    "duration": 10,
    "start_time": "2024-12-12T14:12:39.749Z"
   },
   {
    "duration": 10,
    "start_time": "2024-12-12T14:12:39.761Z"
   },
   {
    "duration": 128,
    "start_time": "2024-12-12T14:12:39.773Z"
   },
   {
    "duration": 5,
    "start_time": "2024-12-12T14:12:39.903Z"
   },
   {
    "duration": 6,
    "start_time": "2024-12-12T14:12:39.909Z"
   },
   {
    "duration": 227,
    "start_time": "2024-12-12T14:12:39.916Z"
   },
   {
    "duration": 3570,
    "start_time": "2024-12-12T14:13:26.484Z"
   },
   {
    "duration": 2562,
    "start_time": "2024-12-12T14:13:30.056Z"
   },
   {
    "duration": 2603,
    "start_time": "2024-12-12T14:13:32.624Z"
   },
   {
    "duration": 3192,
    "start_time": "2024-12-12T14:13:35.229Z"
   },
   {
    "duration": 959,
    "start_time": "2024-12-12T14:13:38.422Z"
   },
   {
    "duration": 966,
    "start_time": "2024-12-12T14:13:39.383Z"
   },
   {
    "duration": 10,
    "start_time": "2024-12-12T14:13:40.351Z"
   },
   {
    "duration": 12,
    "start_time": "2024-12-12T14:13:40.363Z"
   },
   {
    "duration": 128,
    "start_time": "2024-12-12T14:13:40.377Z"
   },
   {
    "duration": 5,
    "start_time": "2024-12-12T14:13:40.507Z"
   },
   {
    "duration": 27,
    "start_time": "2024-12-12T14:13:40.514Z"
   },
   {
    "duration": 240,
    "start_time": "2024-12-12T14:13:40.543Z"
   },
   {
    "duration": 2678,
    "start_time": "2024-12-12T14:15:32.790Z"
   },
   {
    "duration": 2569,
    "start_time": "2024-12-12T14:15:35.470Z"
   },
   {
    "duration": 2633,
    "start_time": "2024-12-12T14:15:38.041Z"
   },
   {
    "duration": 4096,
    "start_time": "2024-12-12T14:15:40.676Z"
   },
   {
    "duration": 984,
    "start_time": "2024-12-12T14:15:44.774Z"
   },
   {
    "duration": 882,
    "start_time": "2024-12-12T14:15:45.760Z"
   },
   {
    "duration": 11,
    "start_time": "2024-12-12T14:15:46.643Z"
   },
   {
    "duration": 20,
    "start_time": "2024-12-12T14:15:46.655Z"
   },
   {
    "duration": 135,
    "start_time": "2024-12-12T14:15:46.677Z"
   },
   {
    "duration": 5,
    "start_time": "2024-12-12T14:15:46.814Z"
   },
   {
    "duration": 29,
    "start_time": "2024-12-12T14:15:46.821Z"
   },
   {
    "duration": 36,
    "start_time": "2024-12-12T14:15:46.852Z"
   },
   {
    "duration": 276,
    "start_time": "2024-12-12T14:15:46.890Z"
   },
   {
    "duration": 2668,
    "start_time": "2024-12-12T14:17:08.912Z"
   },
   {
    "duration": 2574,
    "start_time": "2024-12-12T14:17:11.582Z"
   },
   {
    "duration": 2595,
    "start_time": "2024-12-12T14:17:14.158Z"
   },
   {
    "duration": 3147,
    "start_time": "2024-12-12T14:17:16.756Z"
   },
   {
    "duration": 982,
    "start_time": "2024-12-12T14:17:19.905Z"
   },
   {
    "duration": 968,
    "start_time": "2024-12-12T14:17:20.888Z"
   },
   {
    "duration": 11,
    "start_time": "2024-12-12T14:17:21.858Z"
   },
   {
    "duration": 55,
    "start_time": "2024-12-12T14:17:21.870Z"
   },
   {
    "duration": 151,
    "start_time": "2024-12-12T14:17:21.927Z"
   },
   {
    "duration": 6,
    "start_time": "2024-12-12T14:17:22.079Z"
   },
   {
    "duration": 11,
    "start_time": "2024-12-12T14:17:22.086Z"
   },
   {
    "duration": 21,
    "start_time": "2024-12-12T14:17:22.099Z"
   },
   {
    "duration": 210,
    "start_time": "2024-12-12T14:17:22.121Z"
   },
   {
    "duration": 2663,
    "start_time": "2024-12-12T14:18:32.932Z"
   },
   {
    "duration": 2575,
    "start_time": "2024-12-12T14:18:35.598Z"
   },
   {
    "duration": 2653,
    "start_time": "2024-12-12T14:18:38.175Z"
   },
   {
    "duration": 3122,
    "start_time": "2024-12-12T14:18:40.830Z"
   },
   {
    "duration": 976,
    "start_time": "2024-12-12T14:18:43.955Z"
   },
   {
    "duration": 973,
    "start_time": "2024-12-12T14:18:44.932Z"
   },
   {
    "duration": 11,
    "start_time": "2024-12-12T14:18:45.906Z"
   },
   {
    "duration": 34,
    "start_time": "2024-12-12T14:18:45.931Z"
   },
   {
    "duration": 135,
    "start_time": "2024-12-12T14:18:45.967Z"
   },
   {
    "duration": 5,
    "start_time": "2024-12-12T14:18:46.104Z"
   },
   {
    "duration": 15,
    "start_time": "2024-12-12T14:18:46.111Z"
   },
   {
    "duration": 16,
    "start_time": "2024-12-12T14:18:46.127Z"
   },
   {
    "duration": 192,
    "start_time": "2024-12-12T14:18:46.145Z"
   },
   {
    "duration": 2612,
    "start_time": "2024-12-12T14:21:52.537Z"
   },
   {
    "duration": 2605,
    "start_time": "2024-12-12T14:21:55.152Z"
   },
   {
    "duration": 2631,
    "start_time": "2024-12-12T14:21:57.759Z"
   },
   {
    "duration": 3139,
    "start_time": "2024-12-12T14:22:00.392Z"
   },
   {
    "duration": 981,
    "start_time": "2024-12-12T14:22:03.533Z"
   },
   {
    "duration": 972,
    "start_time": "2024-12-12T14:22:04.516Z"
   },
   {
    "duration": 11,
    "start_time": "2024-12-12T14:22:05.490Z"
   },
   {
    "duration": 167,
    "start_time": "2024-12-12T14:22:05.503Z"
   },
   {
    "duration": 132,
    "start_time": "2024-12-12T14:22:05.673Z"
   },
   {
    "duration": 1589,
    "start_time": "2024-12-12T14:22:05.807Z"
   },
   {
    "duration": 4,
    "start_time": "2024-12-12T14:23:56.225Z"
   },
   {
    "duration": 366,
    "start_time": "2024-12-12T14:24:07.676Z"
   },
   {
    "duration": 405,
    "start_time": "2024-12-12T14:24:58.876Z"
   },
   {
    "duration": 2559,
    "start_time": "2024-12-12T14:25:08.096Z"
   },
   {
    "duration": 2544,
    "start_time": "2024-12-12T14:25:10.658Z"
   },
   {
    "duration": 2660,
    "start_time": "2024-12-12T14:25:13.204Z"
   },
   {
    "duration": 3075,
    "start_time": "2024-12-12T14:25:15.866Z"
   },
   {
    "duration": 991,
    "start_time": "2024-12-12T14:25:18.944Z"
   },
   {
    "duration": 906,
    "start_time": "2024-12-12T14:25:19.936Z"
   },
   {
    "duration": 12,
    "start_time": "2024-12-12T14:25:20.843Z"
   },
   {
    "duration": 135,
    "start_time": "2024-12-12T14:25:20.857Z"
   },
   {
    "duration": 121,
    "start_time": "2024-12-12T14:25:20.994Z"
   },
   {
    "duration": 538,
    "start_time": "2024-12-12T14:25:21.117Z"
   },
   {
    "duration": 0,
    "start_time": "2024-12-12T14:25:21.657Z"
   },
   {
    "duration": 2570,
    "start_time": "2024-12-12T14:26:24.928Z"
   },
   {
    "duration": 2643,
    "start_time": "2024-12-12T14:26:27.500Z"
   },
   {
    "duration": 2715,
    "start_time": "2024-12-12T14:26:30.146Z"
   },
   {
    "duration": 2651,
    "start_time": "2024-12-12T14:26:32.864Z"
   },
   {
    "duration": 3114,
    "start_time": "2024-12-12T14:26:35.517Z"
   },
   {
    "duration": 949,
    "start_time": "2024-12-12T14:26:38.633Z"
   },
   {
    "duration": 964,
    "start_time": "2024-12-12T14:26:39.584Z"
   },
   {
    "duration": 12,
    "start_time": "2024-12-12T14:26:40.550Z"
   },
   {
    "duration": 127,
    "start_time": "2024-12-12T14:26:40.563Z"
   },
   {
    "duration": 203,
    "start_time": "2024-12-12T14:26:40.691Z"
   },
   {
    "duration": 561,
    "start_time": "2024-12-12T14:26:40.895Z"
   },
   {
    "duration": 0,
    "start_time": "2024-12-12T14:26:41.459Z"
   },
   {
    "duration": 2644,
    "start_time": "2024-12-12T14:32:59.204Z"
   },
   {
    "duration": 2588,
    "start_time": "2024-12-12T14:33:01.850Z"
   },
   {
    "duration": 2628,
    "start_time": "2024-12-12T14:33:04.439Z"
   },
   {
    "duration": 2668,
    "start_time": "2024-12-12T14:33:07.069Z"
   },
   {
    "duration": 3052,
    "start_time": "2024-12-12T14:33:09.739Z"
   },
   {
    "duration": 941,
    "start_time": "2024-12-12T14:33:12.793Z"
   },
   {
    "duration": 901,
    "start_time": "2024-12-12T14:33:13.736Z"
   },
   {
    "duration": 8486,
    "start_time": "2024-12-12T14:33:14.638Z"
   },
   {
    "duration": 3,
    "start_time": "2024-12-12T14:34:03.821Z"
   },
   {
    "duration": 1063,
    "start_time": "2024-12-12T14:34:22.641Z"
   },
   {
    "duration": 1071,
    "start_time": "2024-12-12T14:34:42.942Z"
   },
   {
    "duration": 197,
    "start_time": "2024-12-12T14:35:18.175Z"
   },
   {
    "duration": 2606,
    "start_time": "2024-12-12T14:35:40.225Z"
   },
   {
    "duration": 2634,
    "start_time": "2024-12-12T14:35:42.835Z"
   },
   {
    "duration": 2541,
    "start_time": "2024-12-12T14:35:45.471Z"
   },
   {
    "duration": 2574,
    "start_time": "2024-12-12T14:35:48.015Z"
   },
   {
    "duration": 3074,
    "start_time": "2024-12-12T14:35:50.592Z"
   },
   {
    "duration": 953,
    "start_time": "2024-12-12T14:35:53.668Z"
   },
   {
    "duration": 927,
    "start_time": "2024-12-12T14:35:54.623Z"
   },
   {
    "duration": 8515,
    "start_time": "2024-12-12T14:35:55.552Z"
   },
   {
    "duration": 1098,
    "start_time": "2024-12-12T14:36:04.069Z"
   },
   {
    "duration": 2573,
    "start_time": "2024-12-12T14:44:51.573Z"
   },
   {
    "duration": 2573,
    "start_time": "2024-12-12T14:44:54.150Z"
   },
   {
    "duration": 2637,
    "start_time": "2024-12-12T14:44:56.728Z"
   },
   {
    "duration": 2699,
    "start_time": "2024-12-12T14:44:59.367Z"
   },
   {
    "duration": 3083,
    "start_time": "2024-12-12T14:45:02.068Z"
   },
   {
    "duration": 978,
    "start_time": "2024-12-12T14:45:05.152Z"
   },
   {
    "duration": 917,
    "start_time": "2024-12-12T14:45:06.132Z"
   },
   {
    "duration": 37,
    "start_time": "2024-12-12T14:45:07.051Z"
   },
   {
    "duration": 8595,
    "start_time": "2024-12-12T14:45:07.090Z"
   },
   {
    "duration": 196,
    "start_time": "2024-12-12T14:45:15.687Z"
   },
   {
    "duration": 0,
    "start_time": "2024-12-12T14:45:15.885Z"
   },
   {
    "duration": 0,
    "start_time": "2024-12-12T14:45:15.887Z"
   },
   {
    "duration": 0,
    "start_time": "2024-12-12T14:45:15.888Z"
   },
   {
    "duration": 0,
    "start_time": "2024-12-12T14:45:15.889Z"
   },
   {
    "duration": 2580,
    "start_time": "2024-12-12T14:46:38.534Z"
   },
   {
    "duration": 2611,
    "start_time": "2024-12-12T14:46:41.116Z"
   },
   {
    "duration": 2646,
    "start_time": "2024-12-12T14:46:43.732Z"
   },
   {
    "duration": 2624,
    "start_time": "2024-12-12T14:46:46.381Z"
   },
   {
    "duration": 3217,
    "start_time": "2024-12-12T14:46:49.007Z"
   },
   {
    "duration": 986,
    "start_time": "2024-12-12T14:46:52.226Z"
   },
   {
    "duration": 941,
    "start_time": "2024-12-12T14:46:53.214Z"
   },
   {
    "duration": 35,
    "start_time": "2024-12-12T14:46:54.158Z"
   },
   {
    "duration": 8669,
    "start_time": "2024-12-12T14:46:54.195Z"
   },
   {
    "duration": 216,
    "start_time": "2024-12-12T14:47:02.865Z"
   },
   {
    "duration": 0,
    "start_time": "2024-12-12T14:47:03.083Z"
   },
   {
    "duration": 0,
    "start_time": "2024-12-12T14:47:03.084Z"
   },
   {
    "duration": 0,
    "start_time": "2024-12-12T14:47:03.085Z"
   },
   {
    "duration": 0,
    "start_time": "2024-12-12T14:47:03.086Z"
   },
   {
    "duration": 2623,
    "start_time": "2024-12-12T14:55:13.432Z"
   },
   {
    "duration": 2564,
    "start_time": "2024-12-12T14:55:16.058Z"
   },
   {
    "duration": 2621,
    "start_time": "2024-12-12T14:55:18.624Z"
   },
   {
    "duration": 2613,
    "start_time": "2024-12-12T14:55:21.247Z"
   },
   {
    "duration": 3119,
    "start_time": "2024-12-12T14:55:23.863Z"
   },
   {
    "duration": 955,
    "start_time": "2024-12-12T14:55:26.984Z"
   },
   {
    "duration": 918,
    "start_time": "2024-12-12T14:55:27.940Z"
   },
   {
    "duration": 38,
    "start_time": "2024-12-12T14:55:28.860Z"
   },
   {
    "duration": 8219,
    "start_time": "2024-12-12T14:55:28.900Z"
   },
   {
    "duration": 193,
    "start_time": "2024-12-12T14:55:37.121Z"
   },
   {
    "duration": 0,
    "start_time": "2024-12-12T14:55:37.316Z"
   },
   {
    "duration": 0,
    "start_time": "2024-12-12T14:55:37.317Z"
   },
   {
    "duration": 0,
    "start_time": "2024-12-12T14:55:37.319Z"
   },
   {
    "duration": 0,
    "start_time": "2024-12-12T14:55:37.321Z"
   },
   {
    "duration": 0,
    "start_time": "2024-12-12T14:55:37.322Z"
   },
   {
    "duration": 2846,
    "start_time": "2024-12-12T14:57:37.515Z"
   },
   {
    "duration": 2574,
    "start_time": "2024-12-12T14:57:40.364Z"
   },
   {
    "duration": 2682,
    "start_time": "2024-12-12T14:57:42.943Z"
   },
   {
    "duration": 2588,
    "start_time": "2024-12-12T14:57:45.628Z"
   },
   {
    "duration": 3396,
    "start_time": "2024-12-12T14:57:48.218Z"
   },
   {
    "duration": 957,
    "start_time": "2024-12-12T14:57:51.616Z"
   },
   {
    "duration": 893,
    "start_time": "2024-12-12T14:57:52.575Z"
   },
   {
    "duration": 37,
    "start_time": "2024-12-12T14:57:53.470Z"
   },
   {
    "duration": 8485,
    "start_time": "2024-12-12T14:57:53.509Z"
   },
   {
    "duration": 39,
    "start_time": "2024-12-12T14:58:01.995Z"
   },
   {
    "duration": 121,
    "start_time": "2024-12-12T14:58:02.036Z"
   },
   {
    "duration": 187,
    "start_time": "2024-12-12T14:58:02.159Z"
   },
   {
    "duration": 0,
    "start_time": "2024-12-12T14:58:02.348Z"
   },
   {
    "duration": 0,
    "start_time": "2024-12-12T14:58:02.349Z"
   },
   {
    "duration": 0,
    "start_time": "2024-12-12T14:58:02.351Z"
   },
   {
    "duration": 2604,
    "start_time": "2024-12-12T15:05:47.768Z"
   },
   {
    "duration": 2586,
    "start_time": "2024-12-12T15:05:50.375Z"
   },
   {
    "duration": 2624,
    "start_time": "2024-12-12T15:05:52.963Z"
   },
   {
    "duration": 2629,
    "start_time": "2024-12-12T15:05:55.589Z"
   },
   {
    "duration": 3318,
    "start_time": "2024-12-12T15:05:58.221Z"
   },
   {
    "duration": 950,
    "start_time": "2024-12-12T15:06:01.540Z"
   },
   {
    "duration": 940,
    "start_time": "2024-12-12T15:06:02.492Z"
   },
   {
    "duration": 38,
    "start_time": "2024-12-12T15:06:03.434Z"
   },
   {
    "duration": 8438,
    "start_time": "2024-12-12T15:06:03.474Z"
   },
   {
    "duration": 40,
    "start_time": "2024-12-12T15:06:11.914Z"
   },
   {
    "duration": 196,
    "start_time": "2024-12-12T15:06:11.955Z"
   },
   {
    "duration": 0,
    "start_time": "2024-12-12T15:06:12.153Z"
   },
   {
    "duration": 0,
    "start_time": "2024-12-12T15:06:12.154Z"
   },
   {
    "duration": 0,
    "start_time": "2024-12-12T15:06:12.155Z"
   },
   {
    "duration": 0,
    "start_time": "2024-12-12T15:06:12.156Z"
   },
   {
    "duration": 2560,
    "start_time": "2024-12-12T15:08:08.097Z"
   },
   {
    "duration": 2747,
    "start_time": "2024-12-12T15:08:10.660Z"
   },
   {
    "duration": 2714,
    "start_time": "2024-12-12T15:08:13.409Z"
   },
   {
    "duration": 2706,
    "start_time": "2024-12-12T15:08:16.125Z"
   },
   {
    "duration": 3282,
    "start_time": "2024-12-12T15:08:18.834Z"
   },
   {
    "duration": 1025,
    "start_time": "2024-12-12T15:08:22.117Z"
   },
   {
    "duration": 937,
    "start_time": "2024-12-12T15:08:23.144Z"
   },
   {
    "duration": 55,
    "start_time": "2024-12-12T15:08:24.083Z"
   },
   {
    "duration": 9073,
    "start_time": "2024-12-12T15:08:24.142Z"
   },
   {
    "duration": 45,
    "start_time": "2024-12-12T15:08:33.216Z"
   },
   {
    "duration": 12618,
    "start_time": "2024-12-12T15:08:33.263Z"
   },
   {
    "duration": 774999,
    "start_time": "2024-12-12T15:08:45.883Z"
   },
   {
    "duration": 206,
    "start_time": "2024-12-12T15:21:40.884Z"
   },
   {
    "duration": 0,
    "start_time": "2024-12-12T15:21:41.092Z"
   },
   {
    "duration": 0,
    "start_time": "2024-12-12T15:21:41.094Z"
   },
   {
    "duration": 2720,
    "start_time": "2024-12-12T15:24:43.249Z"
   },
   {
    "duration": 3,
    "start_time": "2024-12-12T15:25:08.124Z"
   },
   {
    "duration": 30,
    "start_time": "2024-12-12T15:25:13.453Z"
   },
   {
    "duration": 22,
    "start_time": "2024-12-12T15:25:27.701Z"
   },
   {
    "duration": 2746,
    "start_time": "2024-12-12T15:27:17.043Z"
   },
   {
    "duration": 2591,
    "start_time": "2024-12-12T15:27:19.792Z"
   },
   {
    "duration": 2685,
    "start_time": "2024-12-12T15:27:22.385Z"
   },
   {
    "duration": 2564,
    "start_time": "2024-12-12T15:27:25.073Z"
   },
   {
    "duration": 2654,
    "start_time": "2024-12-12T15:27:27.640Z"
   },
   {
    "duration": 3251,
    "start_time": "2024-12-12T15:27:30.297Z"
   },
   {
    "duration": 938,
    "start_time": "2024-12-12T15:27:33.550Z"
   },
   {
    "duration": 974,
    "start_time": "2024-12-12T15:27:34.490Z"
   },
   {
    "duration": 35,
    "start_time": "2024-12-12T15:27:35.466Z"
   },
   {
    "duration": 8588,
    "start_time": "2024-12-12T15:27:35.503Z"
   },
   {
    "duration": 38,
    "start_time": "2024-12-12T15:27:44.093Z"
   },
   {
    "duration": 2609,
    "start_time": "2024-12-12T15:28:00.103Z"
   },
   {
    "duration": 2628,
    "start_time": "2024-12-12T15:28:02.715Z"
   },
   {
    "duration": 2589,
    "start_time": "2024-12-12T15:28:05.346Z"
   },
   {
    "duration": 2679,
    "start_time": "2024-12-12T15:28:07.937Z"
   },
   {
    "duration": 2647,
    "start_time": "2024-12-12T15:28:10.619Z"
   },
   {
    "duration": 3192,
    "start_time": "2024-12-12T15:28:13.269Z"
   },
   {
    "duration": 956,
    "start_time": "2024-12-12T15:28:16.463Z"
   },
   {
    "duration": 932,
    "start_time": "2024-12-12T15:28:17.420Z"
   },
   {
    "duration": 57,
    "start_time": "2024-12-12T15:28:18.355Z"
   },
   {
    "duration": 8364,
    "start_time": "2024-12-12T15:28:18.417Z"
   },
   {
    "duration": 31,
    "start_time": "2024-12-12T15:28:26.783Z"
   },
   {
    "duration": 83,
    "start_time": "2024-12-12T15:28:26.816Z"
   },
   {
    "duration": 0,
    "start_time": "2024-12-12T15:28:26.902Z"
   },
   {
    "duration": 0,
    "start_time": "2024-12-12T15:28:26.903Z"
   },
   {
    "duration": 1,
    "start_time": "2024-12-12T15:28:26.903Z"
   },
   {
    "duration": 0,
    "start_time": "2024-12-12T15:28:26.905Z"
   },
   {
    "duration": 0,
    "start_time": "2024-12-12T15:28:26.906Z"
   },
   {
    "duration": 2575,
    "start_time": "2024-12-12T15:28:45.699Z"
   },
   {
    "duration": 2614,
    "start_time": "2024-12-12T15:28:48.277Z"
   },
   {
    "duration": 2597,
    "start_time": "2024-12-12T15:28:50.893Z"
   },
   {
    "duration": 2685,
    "start_time": "2024-12-12T15:28:53.494Z"
   },
   {
    "duration": 2619,
    "start_time": "2024-12-12T15:28:56.181Z"
   },
   {
    "duration": 3413,
    "start_time": "2024-12-12T15:28:58.803Z"
   },
   {
    "duration": 993,
    "start_time": "2024-12-12T15:29:02.218Z"
   },
   {
    "duration": 937,
    "start_time": "2024-12-12T15:29:03.213Z"
   },
   {
    "duration": 51,
    "start_time": "2024-12-12T15:29:04.151Z"
   },
   {
    "duration": 8078,
    "start_time": "2024-12-12T15:29:04.205Z"
   },
   {
    "duration": 11,
    "start_time": "2024-12-12T15:29:12.285Z"
   },
   {
    "duration": 1075,
    "start_time": "2024-12-12T15:29:12.297Z"
   },
   {
    "duration": 2506,
    "start_time": "2024-12-12T15:29:24.411Z"
   },
   {
    "duration": 2555,
    "start_time": "2024-12-12T15:29:26.919Z"
   },
   {
    "duration": 2622,
    "start_time": "2024-12-12T15:29:29.476Z"
   },
   {
    "duration": 2690,
    "start_time": "2024-12-12T15:29:32.100Z"
   },
   {
    "duration": 2646,
    "start_time": "2024-12-12T15:29:34.793Z"
   },
   {
    "duration": 3137,
    "start_time": "2024-12-12T15:29:37.441Z"
   },
   {
    "duration": 953,
    "start_time": "2024-12-12T15:29:40.580Z"
   },
   {
    "duration": 915,
    "start_time": "2024-12-12T15:29:41.535Z"
   },
   {
    "duration": 40,
    "start_time": "2024-12-12T15:29:42.452Z"
   },
   {
    "duration": 8529,
    "start_time": "2024-12-12T15:29:42.493Z"
   },
   {
    "duration": 28,
    "start_time": "2024-12-12T15:29:51.024Z"
   },
   {
    "duration": 2770,
    "start_time": "2024-12-12T15:29:51.054Z"
   },
   {
    "duration": 2628,
    "start_time": "2024-12-12T15:34:53.445Z"
   },
   {
    "duration": 2566,
    "start_time": "2024-12-12T15:34:56.076Z"
   },
   {
    "duration": 2599,
    "start_time": "2024-12-12T15:34:58.644Z"
   },
   {
    "duration": 2616,
    "start_time": "2024-12-12T15:35:01.245Z"
   },
   {
    "duration": 2812,
    "start_time": "2024-12-12T15:35:03.864Z"
   },
   {
    "duration": 3126,
    "start_time": "2024-12-12T15:35:06.679Z"
   },
   {
    "duration": 988,
    "start_time": "2024-12-12T15:35:09.807Z"
   },
   {
    "duration": 935,
    "start_time": "2024-12-12T15:35:10.797Z"
   },
   {
    "duration": 403,
    "start_time": "2024-12-12T15:35:11.734Z"
   },
   {
    "duration": 0,
    "start_time": "2024-12-12T15:35:12.138Z"
   },
   {
    "duration": 0,
    "start_time": "2024-12-12T15:35:12.140Z"
   },
   {
    "duration": 0,
    "start_time": "2024-12-12T15:35:12.141Z"
   },
   {
    "duration": 0,
    "start_time": "2024-12-12T15:35:12.143Z"
   },
   {
    "duration": 0,
    "start_time": "2024-12-12T15:35:12.144Z"
   },
   {
    "duration": 0,
    "start_time": "2024-12-12T15:35:12.145Z"
   },
   {
    "duration": 0,
    "start_time": "2024-12-12T15:35:12.146Z"
   },
   {
    "duration": 0,
    "start_time": "2024-12-12T15:35:12.148Z"
   },
   {
    "duration": 5,
    "start_time": "2024-12-12T15:35:27.924Z"
   },
   {
    "duration": 46,
    "start_time": "2024-12-12T15:35:29.531Z"
   },
   {
    "duration": 20,
    "start_time": "2024-12-12T15:35:30.184Z"
   },
   {
    "duration": 13,
    "start_time": "2024-12-12T15:35:39.389Z"
   },
   {
    "duration": 13,
    "start_time": "2024-12-12T15:35:57.261Z"
   },
   {
    "duration": 2621,
    "start_time": "2024-12-12T15:36:07.159Z"
   },
   {
    "duration": 2600,
    "start_time": "2024-12-12T15:36:09.782Z"
   },
   {
    "duration": 3430,
    "start_time": "2024-12-12T15:36:12.384Z"
   },
   {
    "duration": 2645,
    "start_time": "2024-12-12T15:36:15.816Z"
   },
   {
    "duration": 2642,
    "start_time": "2024-12-12T15:36:18.464Z"
   },
   {
    "duration": 3259,
    "start_time": "2024-12-12T15:36:21.110Z"
   },
   {
    "duration": 1006,
    "start_time": "2024-12-12T15:36:24.371Z"
   },
   {
    "duration": 874,
    "start_time": "2024-12-12T15:36:25.378Z"
   },
   {
    "duration": 202,
    "start_time": "2024-12-12T15:36:26.255Z"
   },
   {
    "duration": 41,
    "start_time": "2024-12-12T15:36:26.459Z"
   },
   {
    "duration": 195,
    "start_time": "2024-12-12T15:36:26.502Z"
   },
   {
    "duration": 0,
    "start_time": "2024-12-12T15:36:26.699Z"
   },
   {
    "duration": 0,
    "start_time": "2024-12-12T15:36:26.700Z"
   },
   {
    "duration": 0,
    "start_time": "2024-12-12T15:36:26.701Z"
   },
   {
    "duration": 0,
    "start_time": "2024-12-12T15:36:26.702Z"
   },
   {
    "duration": 0,
    "start_time": "2024-12-12T15:36:26.703Z"
   },
   {
    "duration": 0,
    "start_time": "2024-12-12T15:36:26.704Z"
   },
   {
    "duration": 2555,
    "start_time": "2024-12-12T15:47:10.973Z"
   },
   {
    "duration": 2573,
    "start_time": "2024-12-12T15:47:13.531Z"
   },
   {
    "duration": 2593,
    "start_time": "2024-12-12T15:47:16.109Z"
   },
   {
    "duration": 2567,
    "start_time": "2024-12-12T15:47:18.705Z"
   },
   {
    "duration": 2569,
    "start_time": "2024-12-12T15:47:21.274Z"
   },
   {
    "duration": 3489,
    "start_time": "2024-12-12T15:47:23.845Z"
   },
   {
    "duration": 950,
    "start_time": "2024-12-12T15:47:27.336Z"
   },
   {
    "duration": 942,
    "start_time": "2024-12-12T15:47:28.288Z"
   },
   {
    "duration": 146,
    "start_time": "2024-12-12T15:47:29.232Z"
   },
   {
    "duration": 5,
    "start_time": "2024-12-12T15:47:29.380Z"
   },
   {
    "duration": 47,
    "start_time": "2024-12-12T15:47:29.387Z"
   },
   {
    "duration": 31,
    "start_time": "2024-12-12T15:47:29.437Z"
   },
   {
    "duration": 133,
    "start_time": "2024-12-12T15:47:29.472Z"
   },
   {
    "duration": 1005,
    "start_time": "2024-12-12T15:47:29.607Z"
   },
   {
    "duration": 33,
    "start_time": "2024-12-12T15:47:30.613Z"
   },
   {
    "duration": 241,
    "start_time": "2024-12-12T15:47:30.648Z"
   },
   {
    "duration": 0,
    "start_time": "2024-12-12T15:47:30.892Z"
   },
   {
    "duration": 0,
    "start_time": "2024-12-12T15:47:30.894Z"
   },
   {
    "duration": 0,
    "start_time": "2024-12-12T15:47:30.895Z"
   },
   {
    "duration": 0,
    "start_time": "2024-12-12T15:47:30.897Z"
   },
   {
    "duration": 0,
    "start_time": "2024-12-12T15:47:30.899Z"
   },
   {
    "duration": 0,
    "start_time": "2024-12-12T15:47:30.900Z"
   },
   {
    "duration": 0,
    "start_time": "2024-12-12T15:47:30.902Z"
   },
   {
    "duration": 2558,
    "start_time": "2024-12-12T15:48:58.159Z"
   },
   {
    "duration": 2665,
    "start_time": "2024-12-12T15:49:00.719Z"
   },
   {
    "duration": 2589,
    "start_time": "2024-12-12T15:49:03.385Z"
   },
   {
    "duration": 2599,
    "start_time": "2024-12-12T15:49:05.976Z"
   },
   {
    "duration": 2554,
    "start_time": "2024-12-12T15:49:08.577Z"
   },
   {
    "duration": 3188,
    "start_time": "2024-12-12T15:49:11.135Z"
   },
   {
    "duration": 972,
    "start_time": "2024-12-12T15:49:14.326Z"
   },
   {
    "duration": 921,
    "start_time": "2024-12-12T15:49:15.302Z"
   },
   {
    "duration": 219,
    "start_time": "2024-12-12T15:49:16.224Z"
   },
   {
    "duration": 4,
    "start_time": "2024-12-12T15:49:16.445Z"
   },
   {
    "duration": 57,
    "start_time": "2024-12-12T15:49:16.450Z"
   },
   {
    "duration": 28,
    "start_time": "2024-12-12T15:49:16.508Z"
   },
   {
    "duration": 116,
    "start_time": "2024-12-12T15:49:16.538Z"
   },
   {
    "duration": 997,
    "start_time": "2024-12-12T15:49:16.656Z"
   },
   {
    "duration": 3,
    "start_time": "2024-12-12T15:49:17.655Z"
   },
   {
    "duration": 4382,
    "start_time": "2024-12-12T15:49:17.660Z"
   },
   {
    "duration": 5,
    "start_time": "2024-12-12T15:49:22.044Z"
   },
   {
    "duration": 8745,
    "start_time": "2024-12-12T15:49:22.051Z"
   },
   {
    "duration": 2550,
    "start_time": "2024-12-12T15:52:39.984Z"
   },
   {
    "duration": 2859,
    "start_time": "2024-12-12T15:52:42.536Z"
   },
   {
    "duration": 2584,
    "start_time": "2024-12-12T15:52:45.397Z"
   },
   {
    "duration": 2506,
    "start_time": "2024-12-12T15:52:47.983Z"
   },
   {
    "duration": 2569,
    "start_time": "2024-12-12T15:52:50.491Z"
   },
   {
    "duration": 3163,
    "start_time": "2024-12-12T15:52:53.063Z"
   },
   {
    "duration": 942,
    "start_time": "2024-12-12T15:52:56.228Z"
   },
   {
    "duration": 860,
    "start_time": "2024-12-12T15:52:57.172Z"
   },
   {
    "duration": 161,
    "start_time": "2024-12-12T15:52:58.034Z"
   },
   {
    "duration": 5,
    "start_time": "2024-12-12T15:52:58.197Z"
   },
   {
    "duration": 39,
    "start_time": "2024-12-12T15:52:58.204Z"
   },
   {
    "duration": 30,
    "start_time": "2024-12-12T15:52:58.245Z"
   },
   {
    "duration": 153,
    "start_time": "2024-12-12T15:52:58.277Z"
   },
   {
    "duration": 1008,
    "start_time": "2024-12-12T15:52:58.434Z"
   },
   {
    "duration": 25,
    "start_time": "2024-12-12T15:52:59.444Z"
   },
   {
    "duration": 4586,
    "start_time": "2024-12-12T15:52:59.471Z"
   },
   {
    "duration": 4,
    "start_time": "2024-12-12T15:53:04.059Z"
   },
   {
    "duration": 59266,
    "start_time": "2024-12-12T15:53:04.064Z"
   },
   {
    "duration": 2611,
    "start_time": "2024-12-12T16:00:04.148Z"
   },
   {
    "duration": 2650,
    "start_time": "2024-12-12T16:00:06.762Z"
   },
   {
    "duration": 2580,
    "start_time": "2024-12-12T16:00:09.414Z"
   },
   {
    "duration": 2535,
    "start_time": "2024-12-12T16:00:11.996Z"
   },
   {
    "duration": 2526,
    "start_time": "2024-12-12T16:00:14.534Z"
   },
   {
    "duration": 3154,
    "start_time": "2024-12-12T16:00:17.062Z"
   },
   {
    "duration": 965,
    "start_time": "2024-12-12T16:00:20.218Z"
   },
   {
    "duration": 944,
    "start_time": "2024-12-12T16:00:21.186Z"
   },
   {
    "duration": 154,
    "start_time": "2024-12-12T16:00:22.131Z"
   },
   {
    "duration": 5,
    "start_time": "2024-12-12T16:00:22.287Z"
   },
   {
    "duration": 38,
    "start_time": "2024-12-12T16:00:22.294Z"
   },
   {
    "duration": 31,
    "start_time": "2024-12-12T16:00:22.334Z"
   },
   {
    "duration": 135,
    "start_time": "2024-12-12T16:00:22.367Z"
   },
   {
    "duration": 7,
    "start_time": "2024-12-12T16:00:22.506Z"
   },
   {
    "duration": 16,
    "start_time": "2024-12-12T16:00:22.514Z"
   },
   {
    "duration": 3559,
    "start_time": "2024-12-12T16:00:22.532Z"
   },
   {
    "duration": 20,
    "start_time": "2024-12-12T16:00:26.093Z"
   },
   {
    "duration": 21,
    "start_time": "2024-12-12T16:00:26.115Z"
   },
   {
    "duration": 67564,
    "start_time": "2024-12-12T16:00:26.137Z"
   },
   {
    "duration": 2616,
    "start_time": "2024-12-12T16:04:05.880Z"
   },
   {
    "duration": 2568,
    "start_time": "2024-12-12T16:04:08.499Z"
   },
   {
    "duration": 2581,
    "start_time": "2024-12-12T16:04:11.069Z"
   },
   {
    "duration": 2593,
    "start_time": "2024-12-12T16:04:13.652Z"
   },
   {
    "duration": 2641,
    "start_time": "2024-12-12T16:04:16.248Z"
   },
   {
    "duration": 3211,
    "start_time": "2024-12-12T16:04:18.891Z"
   },
   {
    "duration": 971,
    "start_time": "2024-12-12T16:04:22.104Z"
   },
   {
    "duration": 869,
    "start_time": "2024-12-12T16:04:23.076Z"
   },
   {
    "duration": 126,
    "start_time": "2024-12-12T16:04:23.947Z"
   },
   {
    "duration": 4,
    "start_time": "2024-12-12T16:04:24.075Z"
   },
   {
    "duration": 48,
    "start_time": "2024-12-12T16:04:24.081Z"
   },
   {
    "duration": 57,
    "start_time": "2024-12-12T16:04:24.131Z"
   },
   {
    "duration": 129,
    "start_time": "2024-12-12T16:04:24.189Z"
   },
   {
    "duration": 13,
    "start_time": "2024-12-12T16:04:24.321Z"
   },
   {
    "duration": 26,
    "start_time": "2024-12-12T16:04:24.336Z"
   },
   {
    "duration": 6666,
    "start_time": "2024-12-12T16:04:24.364Z"
   },
   {
    "duration": 37,
    "start_time": "2024-12-12T16:04:31.031Z"
   },
   {
    "duration": 6,
    "start_time": "2024-12-12T16:04:31.070Z"
   },
   {
    "duration": 258767,
    "start_time": "2024-12-12T16:04:31.078Z"
   },
   {
    "duration": 2612,
    "start_time": "2024-12-12T20:17:19.087Z"
   },
   {
    "duration": 2611,
    "start_time": "2024-12-12T20:17:21.701Z"
   },
   {
    "duration": 2600,
    "start_time": "2024-12-12T20:17:24.315Z"
   },
   {
    "duration": 2582,
    "start_time": "2024-12-12T20:17:26.917Z"
   },
   {
    "duration": 2552,
    "start_time": "2024-12-12T20:17:29.501Z"
   },
   {
    "duration": 3131,
    "start_time": "2024-12-12T20:17:32.055Z"
   },
   {
    "duration": 956,
    "start_time": "2024-12-12T20:17:35.187Z"
   },
   {
    "duration": 888,
    "start_time": "2024-12-12T20:17:36.144Z"
   },
   {
    "duration": 202,
    "start_time": "2024-12-12T20:17:37.033Z"
   },
   {
    "duration": 4,
    "start_time": "2024-12-12T20:17:37.237Z"
   },
   {
    "duration": 52,
    "start_time": "2024-12-12T20:17:37.243Z"
   },
   {
    "duration": 58,
    "start_time": "2024-12-12T20:17:37.297Z"
   },
   {
    "duration": 122,
    "start_time": "2024-12-12T20:17:37.356Z"
   },
   {
    "duration": 9,
    "start_time": "2024-12-12T20:17:37.480Z"
   },
   {
    "duration": 6,
    "start_time": "2024-12-12T20:17:37.491Z"
   },
   {
    "duration": 6365,
    "start_time": "2024-12-12T20:17:37.499Z"
   },
   {
    "duration": 35,
    "start_time": "2024-12-12T20:17:43.866Z"
   },
   {
    "duration": 4,
    "start_time": "2024-12-12T20:17:43.903Z"
   },
   {
    "duration": 254942,
    "start_time": "2024-12-12T20:17:43.908Z"
   },
   {
    "duration": 208,
    "start_time": "2024-12-12T20:21:58.852Z"
   },
   {
    "duration": 0,
    "start_time": "2024-12-12T20:21:59.061Z"
   },
   {
    "duration": 0,
    "start_time": "2024-12-12T20:21:59.063Z"
   },
   {
    "duration": 0,
    "start_time": "2024-12-12T20:21:59.064Z"
   },
   {
    "duration": 0,
    "start_time": "2024-12-12T20:21:59.065Z"
   },
   {
    "duration": 13,
    "start_time": "2024-12-12T20:24:46.543Z"
   },
   {
    "duration": 13,
    "start_time": "2024-12-12T20:24:50.936Z"
   },
   {
    "duration": 3669,
    "start_time": "2024-12-12T20:27:54.551Z"
   },
   {
    "duration": 2551,
    "start_time": "2024-12-12T20:31:02.666Z"
   },
   {
    "duration": 2521,
    "start_time": "2024-12-12T20:31:05.219Z"
   },
   {
    "duration": 2547,
    "start_time": "2024-12-12T20:31:07.745Z"
   },
   {
    "duration": 2483,
    "start_time": "2024-12-12T20:31:10.295Z"
   },
   {
    "duration": 2567,
    "start_time": "2024-12-12T20:31:12.780Z"
   },
   {
    "duration": 3095,
    "start_time": "2024-12-12T20:31:15.350Z"
   },
   {
    "duration": 958,
    "start_time": "2024-12-12T20:31:18.447Z"
   },
   {
    "duration": 929,
    "start_time": "2024-12-12T20:31:19.407Z"
   },
   {
    "duration": 732,
    "start_time": "2024-12-12T20:31:20.338Z"
   },
   {
    "duration": 5,
    "start_time": "2024-12-12T20:31:21.072Z"
   },
   {
    "duration": 50,
    "start_time": "2024-12-12T20:31:21.078Z"
   },
   {
    "duration": 56,
    "start_time": "2024-12-12T20:31:21.130Z"
   },
   {
    "duration": 127,
    "start_time": "2024-12-12T20:31:21.189Z"
   },
   {
    "duration": 17,
    "start_time": "2024-12-12T20:31:21.318Z"
   },
   {
    "duration": 3,
    "start_time": "2024-12-12T20:31:21.336Z"
   },
   {
    "duration": 6282,
    "start_time": "2024-12-12T20:31:21.340Z"
   },
   {
    "duration": 36,
    "start_time": "2024-12-12T20:31:27.623Z"
   },
   {
    "duration": 4,
    "start_time": "2024-12-12T20:31:27.660Z"
   },
   {
    "duration": 3694,
    "start_time": "2024-12-12T20:31:27.666Z"
   },
   {
    "duration": 250287,
    "start_time": "2024-12-12T20:31:31.362Z"
   },
   {
    "duration": 1777643,
    "start_time": "2024-12-12T20:35:41.650Z"
   },
   {
    "duration": 153855,
    "start_time": "2024-12-12T21:05:19.294Z"
   },
   {
    "duration": 924232,
    "start_time": "2024-12-12T21:07:53.152Z"
   },
   {
    "duration": 195,
    "start_time": "2024-12-12T21:23:17.386Z"
   },
   {
    "duration": 0,
    "start_time": "2024-12-12T21:23:17.583Z"
   },
   {
    "duration": 15,
    "start_time": "2024-12-12T21:25:29.701Z"
   },
   {
    "duration": 5843,
    "start_time": "2024-12-12T21:25:57.474Z"
   },
   {
    "duration": 4,
    "start_time": "2024-12-12T21:26:05.068Z"
   },
   {
    "duration": 97,
    "start_time": "2024-12-13T08:49:17.580Z"
   },
   {
    "duration": 4172,
    "start_time": "2024-12-13T09:12:12.469Z"
   },
   {
    "duration": 2903,
    "start_time": "2024-12-13T09:12:16.644Z"
   },
   {
    "duration": 7512,
    "start_time": "2024-12-13T09:12:19.549Z"
   },
   {
    "duration": 4811,
    "start_time": "2024-12-13T09:12:27.063Z"
   },
   {
    "duration": 2507,
    "start_time": "2024-12-13T09:12:31.877Z"
   },
   {
    "duration": 5680,
    "start_time": "2024-12-13T09:12:34.387Z"
   },
   {
    "duration": 1297,
    "start_time": "2024-12-13T09:12:40.069Z"
   },
   {
    "duration": 916,
    "start_time": "2024-12-13T09:12:41.368Z"
   },
   {
    "duration": 701,
    "start_time": "2024-12-13T09:12:42.286Z"
   },
   {
    "duration": 3,
    "start_time": "2024-12-13T09:12:42.989Z"
   },
   {
    "duration": 811,
    "start_time": "2024-12-13T09:12:42.994Z"
   },
   {
    "duration": 0,
    "start_time": "2024-12-13T09:12:43.807Z"
   },
   {
    "duration": 0,
    "start_time": "2024-12-13T09:12:43.808Z"
   },
   {
    "duration": 0,
    "start_time": "2024-12-13T09:12:43.809Z"
   },
   {
    "duration": 0,
    "start_time": "2024-12-13T09:12:43.810Z"
   },
   {
    "duration": 0,
    "start_time": "2024-12-13T09:12:43.811Z"
   },
   {
    "duration": 0,
    "start_time": "2024-12-13T09:12:43.813Z"
   },
   {
    "duration": 0,
    "start_time": "2024-12-13T09:12:43.814Z"
   },
   {
    "duration": 0,
    "start_time": "2024-12-13T09:12:43.815Z"
   },
   {
    "duration": 0,
    "start_time": "2024-12-13T09:12:43.817Z"
   },
   {
    "duration": 0,
    "start_time": "2024-12-13T09:12:43.818Z"
   },
   {
    "duration": 0,
    "start_time": "2024-12-13T09:12:43.819Z"
   },
   {
    "duration": 0,
    "start_time": "2024-12-13T09:12:43.821Z"
   },
   {
    "duration": 0,
    "start_time": "2024-12-13T09:12:43.822Z"
   },
   {
    "duration": 0,
    "start_time": "2024-12-13T09:12:43.824Z"
   },
   {
    "duration": 237,
    "start_time": "2024-12-13T09:14:00.065Z"
   },
   {
    "duration": 2481,
    "start_time": "2024-12-13T09:22:05.863Z"
   },
   {
    "duration": 2495,
    "start_time": "2024-12-13T09:22:08.347Z"
   },
   {
    "duration": 2547,
    "start_time": "2024-12-13T09:22:10.844Z"
   },
   {
    "duration": 2538,
    "start_time": "2024-12-13T09:22:13.393Z"
   },
   {
    "duration": 2504,
    "start_time": "2024-12-13T09:22:15.933Z"
   },
   {
    "duration": 5142,
    "start_time": "2024-12-13T09:22:18.440Z"
   },
   {
    "duration": 940,
    "start_time": "2024-12-13T09:22:23.584Z"
   },
   {
    "duration": 880,
    "start_time": "2024-12-13T09:22:24.526Z"
   },
   {
    "duration": 179,
    "start_time": "2024-12-13T09:22:25.408Z"
   },
   {
    "duration": 2,
    "start_time": "2024-12-13T09:22:25.589Z"
   },
   {
    "duration": 6,
    "start_time": "2024-12-13T09:22:25.593Z"
   },
   {
    "duration": 6,
    "start_time": "2024-12-13T09:22:25.600Z"
   },
   {
    "duration": 43,
    "start_time": "2024-12-13T09:22:25.608Z"
   },
   {
    "duration": 67,
    "start_time": "2024-12-13T09:22:25.655Z"
   },
   {
    "duration": 123,
    "start_time": "2024-12-13T09:22:25.724Z"
   },
   {
    "duration": 3,
    "start_time": "2024-12-13T09:22:25.849Z"
   },
   {
    "duration": 6088,
    "start_time": "2024-12-13T09:22:25.854Z"
   },
   {
    "duration": 351,
    "start_time": "2024-12-13T09:22:31.944Z"
   },
   {
    "duration": 0,
    "start_time": "2024-12-13T09:22:32.296Z"
   },
   {
    "duration": 0,
    "start_time": "2024-12-13T09:22:32.297Z"
   },
   {
    "duration": 1,
    "start_time": "2024-12-13T09:22:32.298Z"
   },
   {
    "duration": 0,
    "start_time": "2024-12-13T09:22:32.299Z"
   },
   {
    "duration": 0,
    "start_time": "2024-12-13T09:22:32.300Z"
   },
   {
    "duration": 0,
    "start_time": "2024-12-13T09:22:32.315Z"
   },
   {
    "duration": 4,
    "start_time": "2024-12-13T09:22:59.177Z"
   },
   {
    "duration": 3572,
    "start_time": "2024-12-13T09:23:04.205Z"
   },
   {
    "duration": 25,
    "start_time": "2024-12-13T09:23:08.416Z"
   },
   {
    "duration": 234932,
    "start_time": "2024-12-13T09:23:18.209Z"
   },
   {
    "duration": 0,
    "start_time": "2024-12-13T09:27:13.143Z"
   },
   {
    "duration": 0,
    "start_time": "2024-12-13T09:27:13.144Z"
   },
   {
    "duration": 0,
    "start_time": "2024-12-13T09:27:13.146Z"
   },
   {
    "duration": 0,
    "start_time": "2024-12-13T09:27:13.147Z"
   },
   {
    "duration": 254940,
    "start_time": "2024-12-13T09:34:26.986Z"
   },
   {
    "duration": 1673815,
    "start_time": "2024-12-13T09:38:41.928Z"
   },
   {
    "duration": 221392,
    "start_time": "2024-12-13T10:06:35.745Z"
   },
   {
    "duration": 411148,
    "start_time": "2024-12-13T10:10:17.139Z"
   },
   {
    "duration": 13,
    "start_time": "2024-12-13T10:17:08.288Z"
   },
   {
    "duration": 2468,
    "start_time": "2024-12-13T10:29:23.378Z"
   },
   {
    "duration": 2439,
    "start_time": "2024-12-13T10:29:25.848Z"
   },
   {
    "duration": 2513,
    "start_time": "2024-12-13T10:29:28.289Z"
   },
   {
    "duration": 2713,
    "start_time": "2024-12-13T10:29:30.804Z"
   },
   {
    "duration": 2550,
    "start_time": "2024-12-13T10:29:33.521Z"
   },
   {
    "duration": 4963,
    "start_time": "2024-12-13T10:29:36.074Z"
   },
   {
    "duration": 964,
    "start_time": "2024-12-13T10:29:41.038Z"
   },
   {
    "duration": 1004,
    "start_time": "2024-12-13T10:29:42.003Z"
   },
   {
    "duration": 142,
    "start_time": "2024-12-13T10:29:43.009Z"
   },
   {
    "duration": 2,
    "start_time": "2024-12-13T10:29:43.153Z"
   },
   {
    "duration": 10,
    "start_time": "2024-12-13T10:29:43.157Z"
   },
   {
    "duration": 58941,
    "start_time": "2024-12-13T10:29:43.168Z"
   },
   {
    "duration": 0,
    "start_time": "2024-12-13T10:30:42.112Z"
   },
   {
    "duration": 0,
    "start_time": "2024-12-13T10:30:42.113Z"
   },
   {
    "duration": 0,
    "start_time": "2024-12-13T10:30:42.114Z"
   },
   {
    "duration": 0,
    "start_time": "2024-12-13T10:30:42.116Z"
   },
   {
    "duration": 0,
    "start_time": "2024-12-13T10:30:42.117Z"
   },
   {
    "duration": 0,
    "start_time": "2024-12-13T10:30:42.119Z"
   },
   {
    "duration": 0,
    "start_time": "2024-12-13T10:30:42.120Z"
   },
   {
    "duration": 0,
    "start_time": "2024-12-13T10:30:42.122Z"
   },
   {
    "duration": 0,
    "start_time": "2024-12-13T10:30:42.123Z"
   },
   {
    "duration": 0,
    "start_time": "2024-12-13T10:30:42.125Z"
   },
   {
    "duration": 0,
    "start_time": "2024-12-13T10:30:42.126Z"
   },
   {
    "duration": 0,
    "start_time": "2024-12-13T10:30:42.127Z"
   },
   {
    "duration": 0,
    "start_time": "2024-12-13T10:30:42.129Z"
   },
   {
    "duration": 3,
    "start_time": "2024-12-13T10:35:37.091Z"
   },
   {
    "duration": 4,
    "start_time": "2024-12-13T10:35:45.350Z"
   },
   {
    "duration": 3,
    "start_time": "2024-12-13T10:36:44.485Z"
   },
   {
    "duration": 5,
    "start_time": "2024-12-13T10:36:45.524Z"
   },
   {
    "duration": 4,
    "start_time": "2024-12-13T10:37:40.107Z"
   },
   {
    "duration": 57964,
    "start_time": "2024-12-13T10:37:43.649Z"
   },
   {
    "duration": 2567,
    "start_time": "2024-12-13T10:52:00.345Z"
   },
   {
    "duration": 2542,
    "start_time": "2024-12-13T10:52:02.915Z"
   },
   {
    "duration": 2560,
    "start_time": "2024-12-13T10:52:05.459Z"
   },
   {
    "duration": 2512,
    "start_time": "2024-12-13T10:52:08.021Z"
   },
   {
    "duration": 2534,
    "start_time": "2024-12-13T10:52:10.536Z"
   },
   {
    "duration": 5212,
    "start_time": "2024-12-13T10:52:13.072Z"
   },
   {
    "duration": 962,
    "start_time": "2024-12-13T10:52:18.286Z"
   },
   {
    "duration": 833,
    "start_time": "2024-12-13T10:52:19.250Z"
   },
   {
    "duration": 361,
    "start_time": "2024-12-13T10:52:20.085Z"
   },
   {
    "duration": 0,
    "start_time": "2024-12-13T10:52:20.449Z"
   },
   {
    "duration": 0,
    "start_time": "2024-12-13T10:52:20.449Z"
   },
   {
    "duration": 1,
    "start_time": "2024-12-13T10:52:20.450Z"
   },
   {
    "duration": 0,
    "start_time": "2024-12-13T10:52:20.451Z"
   },
   {
    "duration": 0,
    "start_time": "2024-12-13T10:52:20.453Z"
   },
   {
    "duration": 0,
    "start_time": "2024-12-13T10:52:20.454Z"
   },
   {
    "duration": 0,
    "start_time": "2024-12-13T10:52:20.455Z"
   },
   {
    "duration": 0,
    "start_time": "2024-12-13T10:52:20.456Z"
   },
   {
    "duration": 0,
    "start_time": "2024-12-13T10:52:20.457Z"
   },
   {
    "duration": 0,
    "start_time": "2024-12-13T10:52:20.459Z"
   },
   {
    "duration": 0,
    "start_time": "2024-12-13T10:52:20.460Z"
   },
   {
    "duration": 0,
    "start_time": "2024-12-13T10:52:20.462Z"
   },
   {
    "duration": 0,
    "start_time": "2024-12-13T10:52:20.463Z"
   },
   {
    "duration": 0,
    "start_time": "2024-12-13T10:52:20.465Z"
   },
   {
    "duration": 0,
    "start_time": "2024-12-13T10:52:20.466Z"
   },
   {
    "duration": 0,
    "start_time": "2024-12-13T10:52:20.467Z"
   },
   {
    "duration": 2529,
    "start_time": "2024-12-13T10:52:53.154Z"
   },
   {
    "duration": 2533,
    "start_time": "2024-12-13T10:52:55.686Z"
   },
   {
    "duration": 2530,
    "start_time": "2024-12-13T10:52:58.221Z"
   },
   {
    "duration": 2479,
    "start_time": "2024-12-13T10:53:00.753Z"
   },
   {
    "duration": 2537,
    "start_time": "2024-12-13T10:53:03.236Z"
   },
   {
    "duration": 5221,
    "start_time": "2024-12-13T10:53:05.775Z"
   },
   {
    "duration": 962,
    "start_time": "2024-12-13T10:53:10.998Z"
   },
   {
    "duration": 904,
    "start_time": "2024-12-13T10:53:11.962Z"
   },
   {
    "duration": 3,
    "start_time": "2024-12-13T10:53:12.867Z"
   },
   {
    "duration": 18,
    "start_time": "2024-12-13T10:53:12.871Z"
   },
   {
    "duration": 728,
    "start_time": "2024-12-13T10:53:12.891Z"
   },
   {
    "duration": 0,
    "start_time": "2024-12-13T10:53:13.621Z"
   },
   {
    "duration": 0,
    "start_time": "2024-12-13T10:53:13.622Z"
   },
   {
    "duration": 0,
    "start_time": "2024-12-13T10:53:13.624Z"
   },
   {
    "duration": 0,
    "start_time": "2024-12-13T10:53:13.625Z"
   },
   {
    "duration": 0,
    "start_time": "2024-12-13T10:53:13.626Z"
   },
   {
    "duration": 0,
    "start_time": "2024-12-13T10:53:13.628Z"
   },
   {
    "duration": 0,
    "start_time": "2024-12-13T10:53:13.629Z"
   },
   {
    "duration": 0,
    "start_time": "2024-12-13T10:53:13.630Z"
   },
   {
    "duration": 0,
    "start_time": "2024-12-13T10:53:13.631Z"
   },
   {
    "duration": 0,
    "start_time": "2024-12-13T10:53:13.633Z"
   },
   {
    "duration": 0,
    "start_time": "2024-12-13T10:53:13.634Z"
   },
   {
    "duration": 0,
    "start_time": "2024-12-13T10:53:13.635Z"
   },
   {
    "duration": 0,
    "start_time": "2024-12-13T10:53:13.636Z"
   },
   {
    "duration": 0,
    "start_time": "2024-12-13T10:53:13.637Z"
   },
   {
    "duration": 570,
    "start_time": "2024-12-13T10:54:00.639Z"
   },
   {
    "duration": 2514,
    "start_time": "2024-12-13T10:56:00.159Z"
   },
   {
    "duration": 2540,
    "start_time": "2024-12-13T10:56:02.677Z"
   },
   {
    "duration": 2553,
    "start_time": "2024-12-13T10:56:05.219Z"
   },
   {
    "duration": 2487,
    "start_time": "2024-12-13T10:56:07.774Z"
   },
   {
    "duration": 2540,
    "start_time": "2024-12-13T10:56:10.263Z"
   },
   {
    "duration": 5234,
    "start_time": "2024-12-13T10:56:12.805Z"
   },
   {
    "duration": 933,
    "start_time": "2024-12-13T10:56:18.040Z"
   },
   {
    "duration": 829,
    "start_time": "2024-12-13T10:56:18.975Z"
   },
   {
    "duration": 199,
    "start_time": "2024-12-13T10:56:19.805Z"
   },
   {
    "duration": 2,
    "start_time": "2024-12-13T10:56:20.006Z"
   },
   {
    "duration": 32,
    "start_time": "2024-12-13T10:56:20.010Z"
   },
   {
    "duration": 726,
    "start_time": "2024-12-13T10:56:20.044Z"
   },
   {
    "duration": 0,
    "start_time": "2024-12-13T10:56:20.773Z"
   },
   {
    "duration": 0,
    "start_time": "2024-12-13T10:56:20.775Z"
   },
   {
    "duration": 0,
    "start_time": "2024-12-13T10:56:20.777Z"
   },
   {
    "duration": 0,
    "start_time": "2024-12-13T10:56:20.778Z"
   },
   {
    "duration": 0,
    "start_time": "2024-12-13T10:56:20.780Z"
   },
   {
    "duration": 0,
    "start_time": "2024-12-13T10:56:20.781Z"
   },
   {
    "duration": 0,
    "start_time": "2024-12-13T10:56:20.783Z"
   },
   {
    "duration": 0,
    "start_time": "2024-12-13T10:56:20.784Z"
   },
   {
    "duration": 0,
    "start_time": "2024-12-13T10:56:20.785Z"
   },
   {
    "duration": 0,
    "start_time": "2024-12-13T10:56:20.787Z"
   },
   {
    "duration": 0,
    "start_time": "2024-12-13T10:56:20.788Z"
   },
   {
    "duration": 0,
    "start_time": "2024-12-13T10:56:20.790Z"
   },
   {
    "duration": 0,
    "start_time": "2024-12-13T10:56:20.791Z"
   },
   {
    "duration": 0,
    "start_time": "2024-12-13T10:56:20.793Z"
   },
   {
    "duration": 3,
    "start_time": "2024-12-13T10:58:07.772Z"
   },
   {
    "duration": 4,
    "start_time": "2024-12-13T10:58:08.634Z"
   },
   {
    "duration": 420,
    "start_time": "2024-12-13T10:58:10.823Z"
   },
   {
    "duration": 2556,
    "start_time": "2024-12-13T11:03:19.464Z"
   },
   {
    "duration": 2577,
    "start_time": "2024-12-13T11:03:22.022Z"
   },
   {
    "duration": 2516,
    "start_time": "2024-12-13T11:03:24.601Z"
   },
   {
    "duration": 2534,
    "start_time": "2024-12-13T11:03:27.119Z"
   },
   {
    "duration": 2516,
    "start_time": "2024-12-13T11:03:29.656Z"
   },
   {
    "duration": 5391,
    "start_time": "2024-12-13T11:03:32.175Z"
   },
   {
    "duration": 953,
    "start_time": "2024-12-13T11:03:37.567Z"
   },
   {
    "duration": 955,
    "start_time": "2024-12-13T11:03:38.522Z"
   },
   {
    "duration": 528,
    "start_time": "2024-12-13T11:03:39.479Z"
   },
   {
    "duration": 7,
    "start_time": "2024-12-13T11:03:40.008Z"
   },
   {
    "duration": 2267983,
    "start_time": "2024-12-13T11:03:40.016Z"
   },
   {
    "duration": 4,
    "start_time": "2024-12-13T11:41:28.000Z"
   },
   {
    "duration": 10,
    "start_time": "2024-12-13T11:41:28.006Z"
   },
   {
    "duration": 44,
    "start_time": "2024-12-13T11:41:28.018Z"
   },
   {
    "duration": 71,
    "start_time": "2024-12-13T11:41:28.064Z"
   },
   {
    "duration": 120,
    "start_time": "2024-12-13T11:41:28.136Z"
   },
   {
    "duration": 3,
    "start_time": "2024-12-13T11:41:28.258Z"
   },
   {
    "duration": 5305,
    "start_time": "2024-12-13T11:41:28.263Z"
   },
   {
    "duration": 4,
    "start_time": "2024-12-13T11:41:33.571Z"
   },
   {
    "duration": 3218,
    "start_time": "2024-12-13T11:41:33.577Z"
   },
   {
    "duration": 224373,
    "start_time": "2024-12-13T11:41:36.797Z"
   },
   {
    "duration": 2040072,
    "start_time": "2024-12-13T11:45:21.172Z"
   },
   {
    "duration": 223379,
    "start_time": "2024-12-13T12:19:21.246Z"
   },
   {
    "duration": 435445,
    "start_time": "2024-12-13T12:23:04.627Z"
   },
   {
    "duration": 13,
    "start_time": "2024-12-13T12:30:20.074Z"
   },
   {
    "duration": 4170,
    "start_time": "2024-12-14T13:13:34.560Z"
   },
   {
    "duration": 3207,
    "start_time": "2024-12-14T13:13:38.732Z"
   },
   {
    "duration": 7734,
    "start_time": "2024-12-14T13:13:41.942Z"
   },
   {
    "duration": 4771,
    "start_time": "2024-12-14T13:13:49.678Z"
   },
   {
    "duration": 2802,
    "start_time": "2024-12-14T13:13:54.453Z"
   },
   {
    "duration": 4789,
    "start_time": "2024-12-14T13:13:57.257Z"
   },
   {
    "duration": 3665,
    "start_time": "2024-12-14T13:14:02.047Z"
   },
   {
    "duration": 906,
    "start_time": "2024-12-14T13:14:05.714Z"
   },
   {
    "duration": 664,
    "start_time": "2024-12-14T13:14:06.622Z"
   },
   {
    "duration": 3,
    "start_time": "2024-12-14T13:14:07.288Z"
   },
   {
    "duration": 1978901,
    "start_time": "2024-12-14T13:14:07.292Z"
   },
   {
    "duration": 4,
    "start_time": "2024-12-14T13:47:06.194Z"
   },
   {
    "duration": 45,
    "start_time": "2024-12-14T13:47:06.200Z"
   },
   {
    "duration": 30,
    "start_time": "2024-12-14T13:47:06.248Z"
   },
   {
    "duration": 360,
    "start_time": "2024-12-14T13:47:06.280Z"
   },
   {
    "duration": 0,
    "start_time": "2024-12-14T13:47:06.642Z"
   },
   {
    "duration": 0,
    "start_time": "2024-12-14T13:47:06.643Z"
   },
   {
    "duration": 0,
    "start_time": "2024-12-14T13:47:06.644Z"
   },
   {
    "duration": 0,
    "start_time": "2024-12-14T13:47:06.645Z"
   },
   {
    "duration": 0,
    "start_time": "2024-12-14T13:47:06.646Z"
   },
   {
    "duration": 0,
    "start_time": "2024-12-14T13:47:06.647Z"
   },
   {
    "duration": 0,
    "start_time": "2024-12-14T13:47:06.648Z"
   },
   {
    "duration": 0,
    "start_time": "2024-12-14T13:47:06.649Z"
   },
   {
    "duration": 0,
    "start_time": "2024-12-14T13:47:06.650Z"
   },
   {
    "duration": 0,
    "start_time": "2024-12-14T13:47:06.652Z"
   },
   {
    "duration": 18,
    "start_time": "2024-12-14T13:48:26.865Z"
   },
   {
    "duration": 30,
    "start_time": "2024-12-14T13:48:32.273Z"
   },
   {
    "duration": 3,
    "start_time": "2024-12-14T13:48:32.824Z"
   },
   {
    "duration": 131,
    "start_time": "2024-12-14T13:48:34.332Z"
   },
   {
    "duration": 2860,
    "start_time": "2024-12-14T13:48:35.852Z"
   },
   {
    "duration": 5,
    "start_time": "2024-12-14T13:48:38.715Z"
   },
   {
    "duration": 992,
    "start_time": "2024-12-14T13:48:38.721Z"
   },
   {
    "duration": 36915,
    "start_time": "2024-12-14T13:48:39.716Z"
   },
   {
    "duration": 577189,
    "start_time": "2024-12-14T13:49:16.633Z"
   },
   {
    "duration": 169685,
    "start_time": "2024-12-14T13:58:53.824Z"
   },
   {
    "duration": 86510,
    "start_time": "2024-12-14T14:01:43.510Z"
   },
   {
    "duration": 11,
    "start_time": "2024-12-14T14:03:10.022Z"
   },
   {
    "duration": 25,
    "start_time": "2024-12-14T14:08:01.845Z"
   },
   {
    "duration": 26,
    "start_time": "2024-12-14T14:09:24.670Z"
   },
   {
    "duration": 26,
    "start_time": "2024-12-14T14:12:12.217Z"
   },
   {
    "duration": 20,
    "start_time": "2024-12-14T14:13:06.464Z"
   },
   {
    "duration": 20,
    "start_time": "2024-12-14T14:14:05.239Z"
   },
   {
    "duration": 19,
    "start_time": "2024-12-14T14:16:27.250Z"
   },
   {
    "duration": 20,
    "start_time": "2024-12-14T14:17:22.901Z"
   },
   {
    "duration": 20,
    "start_time": "2024-12-14T14:17:34.752Z"
   },
   {
    "duration": 191,
    "start_time": "2024-12-14T14:17:47.304Z"
   },
   {
    "duration": 180,
    "start_time": "2024-12-14T14:17:58.701Z"
   },
   {
    "duration": 183,
    "start_time": "2024-12-14T14:18:06.364Z"
   },
   {
    "duration": 3730,
    "start_time": "2024-12-14T23:28:10.030Z"
   },
   {
    "duration": 2895,
    "start_time": "2024-12-14T23:28:13.762Z"
   },
   {
    "duration": 6782,
    "start_time": "2024-12-14T23:28:16.658Z"
   },
   {
    "duration": 4372,
    "start_time": "2024-12-14T23:28:23.442Z"
   },
   {
    "duration": 2375,
    "start_time": "2024-12-14T23:28:27.816Z"
   },
   {
    "duration": 4907,
    "start_time": "2024-12-14T23:28:30.193Z"
   },
   {
    "duration": 1195,
    "start_time": "2024-12-14T23:28:35.101Z"
   },
   {
    "duration": 854,
    "start_time": "2024-12-14T23:28:36.298Z"
   },
   {
    "duration": 652,
    "start_time": "2024-12-14T23:28:37.154Z"
   },
   {
    "duration": 4,
    "start_time": "2024-12-14T23:28:37.807Z"
   },
   {
    "duration": 1975029,
    "start_time": "2024-12-14T23:28:37.813Z"
   },
   {
    "duration": 3,
    "start_time": "2024-12-15T00:01:32.844Z"
   },
   {
    "duration": 30,
    "start_time": "2024-12-15T00:01:32.848Z"
   },
   {
    "duration": 108,
    "start_time": "2024-12-15T00:01:32.880Z"
   },
   {
    "duration": 31,
    "start_time": "2024-12-15T00:01:32.990Z"
   },
   {
    "duration": 2,
    "start_time": "2024-12-15T00:01:33.023Z"
   },
   {
    "duration": 131,
    "start_time": "2024-12-15T00:01:33.026Z"
   },
   {
    "duration": 2727,
    "start_time": "2024-12-15T00:01:33.158Z"
   },
   {
    "duration": 3,
    "start_time": "2024-12-15T00:01:35.887Z"
   },
   {
    "duration": 995,
    "start_time": "2024-12-15T00:01:35.892Z"
   },
   {
    "duration": 1640,
    "start_time": "2024-12-15T00:01:36.888Z"
   },
   {
    "duration": 555058,
    "start_time": "2024-12-15T00:01:38.529Z"
   },
   {
    "duration": 43443,
    "start_time": "2024-12-15T00:10:53.589Z"
   },
   {
    "duration": 70299,
    "start_time": "2024-12-15T00:11:37.033Z"
   },
   {
    "duration": 220,
    "start_time": "2024-12-15T00:12:47.334Z"
   },
   {
    "duration": 85,
    "start_time": "2024-12-15T00:12:47.555Z"
   },
   {
    "duration": 93,
    "start_time": "2024-12-15T00:22:41.617Z"
   }
  ],
  "kernelspec": {
   "display_name": "Python 3 (ipykernel)",
   "language": "python",
   "name": "python3"
  },
  "language_info": {
   "codemirror_mode": {
    "name": "ipython",
    "version": 3
   },
   "file_extension": ".py",
   "mimetype": "text/x-python",
   "name": "python",
   "nbconvert_exporter": "python",
   "pygments_lexer": "ipython3",
   "version": "3.9.5"
  },
  "toc": {
   "base_numbering": 1,
   "nav_menu": {},
   "number_sections": true,
   "sideBar": true,
   "skip_h1_title": true,
   "title_cell": "Содержание",
   "title_sidebar": "Contents",
   "toc_cell": true,
   "toc_position": {
    "height": "calc(100% - 180px)",
    "left": "10px",
    "top": "150px",
    "width": "302.391px"
   },
   "toc_section_display": true,
   "toc_window_display": false
  }
 },
 "nbformat": 4,
 "nbformat_minor": 2
}
